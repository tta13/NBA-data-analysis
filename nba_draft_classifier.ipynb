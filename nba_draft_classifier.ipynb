{
  "nbformat": 4,
  "nbformat_minor": 0,
  "metadata": {
    "colab": {
      "provenance": [],
      "collapsed_sections": [],
      "authorship_tag": "ABX9TyNDEExMHMS86jWBFTTuM78Z"
    },
    "kernelspec": {
      "name": "python3",
      "display_name": "Python 3"
    },
    "language_info": {
      "name": "python"
    }
  },
  "cells": [
    {
      "cell_type": "markdown",
      "source": [
        "# Classificador de draft da NBA\n",
        "O objetivo do modelo é, a partir dos dados das temporadas 1996-97 a 2021-22, classificar corretamente se o jogador é *undrafted*, ou seja, não foi draftado.\n",
        "\n",
        "Passo a passo:\n",
        "* Escolha do problema ✔\n",
        "* Separação dos dados em treino, validação e teste ✔\n",
        "* Selecionar algoritmos para resolver o problema ✔\n",
        "* Adicionar MLFlow no treinamento dos modelos ✔\n",
        "* Executar uma ferramenta de seleção de hiper-parâmetros ✔\n",
        "* Realizar diagnóstico do melhor modelo e tentar melhorá-lo a partir disso ✔"
      ],
      "metadata": {
        "id": "PJfJvnM4GaO_"
      }
    },
    {
      "cell_type": "markdown",
      "source": [
        "## Dependências"
      ],
      "metadata": {
        "id": "e7eqhDsqGwzI"
      }
    },
    {
      "cell_type": "code",
      "source": [
        "!pip install mlflow\n",
        "!pip install optuna"
      ],
      "metadata": {
        "id": "5R6drsFKg1se"
      },
      "execution_count": null,
      "outputs": []
    },
    {
      "cell_type": "code",
      "source": [
        "import pandas as pd\n",
        "from sklearn.model_selection import train_test_split, cross_val_score\n",
        "from sklearn.neural_network import MLPClassifier\n",
        "from sklearn.metrics import f1_score, roc_auc_score, accuracy_score\n",
        "from sklearn.linear_model import LogisticRegression\n",
        "from sklearn.ensemble import RandomForestClassifier\n",
        "from xgboost import XGBClassifier\n",
        "import mlflow\n",
        "import mlflow.sklearn\n",
        "from urllib.parse import urlparse\n",
        "import optuna"
      ],
      "metadata": {
        "id": "THYbQrQqHEe_"
      },
      "execution_count": 14,
      "outputs": []
    },
    {
      "cell_type": "code",
      "execution_count": 4,
      "metadata": {
        "colab": {
          "base_uri": "https://localhost:8080/"
        },
        "id": "mbZf1HDwGWwK",
        "outputId": "d30c1ae6-9e39-46f8-b5f6-e5300b45346d"
      },
      "outputs": [
        {
          "output_type": "stream",
          "name": "stdout",
          "text": [
            "Mounted at /content/drive\n"
          ]
        }
      ],
      "source": [
        "from google.colab import drive\n",
        "drive.mount('/content/drive')"
      ]
    },
    {
      "cell_type": "markdown",
      "source": [
        "## Carregando o dataset"
      ],
      "metadata": {
        "id": "gm2qLjq5B5KS"
      }
    },
    {
      "cell_type": "code",
      "source": [
        "# Path Tales\n",
        "path = '/content/drive/MyDrive/2022.1/TA GDI/projeto1/data/classification.csv'"
      ],
      "metadata": {
        "id": "Ia1wXqZUG99m"
      },
      "execution_count": 5,
      "outputs": []
    },
    {
      "cell_type": "code",
      "source": [
        "dataset = pd.read_csv(path)"
      ],
      "metadata": {
        "id": "gLJi0q33G6Vu"
      },
      "execution_count": 6,
      "outputs": []
    },
    {
      "cell_type": "code",
      "source": [
        "dataset.head()"
      ],
      "metadata": {
        "colab": {
          "base_uri": "https://localhost:8080/",
          "height": 300
        },
        "id": "Leeat6W5H1dc",
        "outputId": "458bd6c6-4372-47b1-8a03-7fe3e99b9eed"
      },
      "execution_count": 7,
      "outputs": [
        {
          "output_type": "execute_result",
          "data": {
            "text/plain": [
              "   player_name  team_abbreviation       age  player_height  player_weight  \\\n",
              "0         2071                 16  0.153846       0.750000       0.485714   \n",
              "1         1475                 13  0.461538       0.678571       0.485714   \n",
              "2         1466                  2  0.423077       0.714286       0.533333   \n",
              "3         1465                  9  0.153846       0.642857       0.485714   \n",
              "4         1464                 35  0.153846       0.535714       0.438095   \n",
              "\n",
              "   college  country  draft_year  draft_round  draft_number  ...  oreb_pct  \\\n",
              "0       65       72    0.568966        0.125      0.175758  ...     0.127   \n",
              "1      117       72         NaN          NaN           NaN  ...     0.016   \n",
              "2      227       72         NaN          NaN           NaN  ...     0.083   \n",
              "3      189       72    0.568966        0.125      0.151515  ...     0.109   \n",
              "4      249       72    0.551724        0.250      0.303030  ...     0.087   \n",
              "\n",
              "   dreb_pct  usg_pct  ts_pct  ast_pct  season  undrafted  season_start_year  \\\n",
              "0     0.182    0.142   0.536    0.052       0        0.0                0.0   \n",
              "1     0.115    0.151   0.535    0.099       0        1.0                0.0   \n",
              "2     0.152    0.167   0.542    0.101       0        1.0                0.0   \n",
              "3     0.118    0.233   0.482    0.114       0        0.0                0.0   \n",
              "4     0.045    0.135   0.470    0.125       0        0.0                0.0   \n",
              "\n",
              "   season_end_year    gp_pct  \n",
              "0              0.0  0.865854  \n",
              "1              0.0  0.865854  \n",
              "2              0.0  0.902439  \n",
              "3              0.0  0.512195  \n",
              "4              0.0  0.109756  \n",
              "\n",
              "[5 rows x 25 columns]"
            ],
            "text/html": [
              "\n",
              "  <div id=\"df-3e93afcd-8ec4-47eb-a8ab-6a66eea2fd2b\">\n",
              "    <div class=\"colab-df-container\">\n",
              "      <div>\n",
              "<style scoped>\n",
              "    .dataframe tbody tr th:only-of-type {\n",
              "        vertical-align: middle;\n",
              "    }\n",
              "\n",
              "    .dataframe tbody tr th {\n",
              "        vertical-align: top;\n",
              "    }\n",
              "\n",
              "    .dataframe thead th {\n",
              "        text-align: right;\n",
              "    }\n",
              "</style>\n",
              "<table border=\"1\" class=\"dataframe\">\n",
              "  <thead>\n",
              "    <tr style=\"text-align: right;\">\n",
              "      <th></th>\n",
              "      <th>player_name</th>\n",
              "      <th>team_abbreviation</th>\n",
              "      <th>age</th>\n",
              "      <th>player_height</th>\n",
              "      <th>player_weight</th>\n",
              "      <th>college</th>\n",
              "      <th>country</th>\n",
              "      <th>draft_year</th>\n",
              "      <th>draft_round</th>\n",
              "      <th>draft_number</th>\n",
              "      <th>...</th>\n",
              "      <th>oreb_pct</th>\n",
              "      <th>dreb_pct</th>\n",
              "      <th>usg_pct</th>\n",
              "      <th>ts_pct</th>\n",
              "      <th>ast_pct</th>\n",
              "      <th>season</th>\n",
              "      <th>undrafted</th>\n",
              "      <th>season_start_year</th>\n",
              "      <th>season_end_year</th>\n",
              "      <th>gp_pct</th>\n",
              "    </tr>\n",
              "  </thead>\n",
              "  <tbody>\n",
              "    <tr>\n",
              "      <th>0</th>\n",
              "      <td>2071</td>\n",
              "      <td>16</td>\n",
              "      <td>0.153846</td>\n",
              "      <td>0.750000</td>\n",
              "      <td>0.485714</td>\n",
              "      <td>65</td>\n",
              "      <td>72</td>\n",
              "      <td>0.568966</td>\n",
              "      <td>0.125</td>\n",
              "      <td>0.175758</td>\n",
              "      <td>...</td>\n",
              "      <td>0.127</td>\n",
              "      <td>0.182</td>\n",
              "      <td>0.142</td>\n",
              "      <td>0.536</td>\n",
              "      <td>0.052</td>\n",
              "      <td>0</td>\n",
              "      <td>0.0</td>\n",
              "      <td>0.0</td>\n",
              "      <td>0.0</td>\n",
              "      <td>0.865854</td>\n",
              "    </tr>\n",
              "    <tr>\n",
              "      <th>1</th>\n",
              "      <td>1475</td>\n",
              "      <td>13</td>\n",
              "      <td>0.461538</td>\n",
              "      <td>0.678571</td>\n",
              "      <td>0.485714</td>\n",
              "      <td>117</td>\n",
              "      <td>72</td>\n",
              "      <td>NaN</td>\n",
              "      <td>NaN</td>\n",
              "      <td>NaN</td>\n",
              "      <td>...</td>\n",
              "      <td>0.016</td>\n",
              "      <td>0.115</td>\n",
              "      <td>0.151</td>\n",
              "      <td>0.535</td>\n",
              "      <td>0.099</td>\n",
              "      <td>0</td>\n",
              "      <td>1.0</td>\n",
              "      <td>0.0</td>\n",
              "      <td>0.0</td>\n",
              "      <td>0.865854</td>\n",
              "    </tr>\n",
              "    <tr>\n",
              "      <th>2</th>\n",
              "      <td>1466</td>\n",
              "      <td>2</td>\n",
              "      <td>0.423077</td>\n",
              "      <td>0.714286</td>\n",
              "      <td>0.533333</td>\n",
              "      <td>227</td>\n",
              "      <td>72</td>\n",
              "      <td>NaN</td>\n",
              "      <td>NaN</td>\n",
              "      <td>NaN</td>\n",
              "      <td>...</td>\n",
              "      <td>0.083</td>\n",
              "      <td>0.152</td>\n",
              "      <td>0.167</td>\n",
              "      <td>0.542</td>\n",
              "      <td>0.101</td>\n",
              "      <td>0</td>\n",
              "      <td>1.0</td>\n",
              "      <td>0.0</td>\n",
              "      <td>0.0</td>\n",
              "      <td>0.902439</td>\n",
              "    </tr>\n",
              "    <tr>\n",
              "      <th>3</th>\n",
              "      <td>1465</td>\n",
              "      <td>9</td>\n",
              "      <td>0.153846</td>\n",
              "      <td>0.642857</td>\n",
              "      <td>0.485714</td>\n",
              "      <td>189</td>\n",
              "      <td>72</td>\n",
              "      <td>0.568966</td>\n",
              "      <td>0.125</td>\n",
              "      <td>0.151515</td>\n",
              "      <td>...</td>\n",
              "      <td>0.109</td>\n",
              "      <td>0.118</td>\n",
              "      <td>0.233</td>\n",
              "      <td>0.482</td>\n",
              "      <td>0.114</td>\n",
              "      <td>0</td>\n",
              "      <td>0.0</td>\n",
              "      <td>0.0</td>\n",
              "      <td>0.0</td>\n",
              "      <td>0.512195</td>\n",
              "    </tr>\n",
              "    <tr>\n",
              "      <th>4</th>\n",
              "      <td>1464</td>\n",
              "      <td>35</td>\n",
              "      <td>0.153846</td>\n",
              "      <td>0.535714</td>\n",
              "      <td>0.438095</td>\n",
              "      <td>249</td>\n",
              "      <td>72</td>\n",
              "      <td>0.551724</td>\n",
              "      <td>0.250</td>\n",
              "      <td>0.303030</td>\n",
              "      <td>...</td>\n",
              "      <td>0.087</td>\n",
              "      <td>0.045</td>\n",
              "      <td>0.135</td>\n",
              "      <td>0.470</td>\n",
              "      <td>0.125</td>\n",
              "      <td>0</td>\n",
              "      <td>0.0</td>\n",
              "      <td>0.0</td>\n",
              "      <td>0.0</td>\n",
              "      <td>0.109756</td>\n",
              "    </tr>\n",
              "  </tbody>\n",
              "</table>\n",
              "<p>5 rows × 25 columns</p>\n",
              "</div>\n",
              "      <button class=\"colab-df-convert\" onclick=\"convertToInteractive('df-3e93afcd-8ec4-47eb-a8ab-6a66eea2fd2b')\"\n",
              "              title=\"Convert this dataframe to an interactive table.\"\n",
              "              style=\"display:none;\">\n",
              "        \n",
              "  <svg xmlns=\"http://www.w3.org/2000/svg\" height=\"24px\"viewBox=\"0 0 24 24\"\n",
              "       width=\"24px\">\n",
              "    <path d=\"M0 0h24v24H0V0z\" fill=\"none\"/>\n",
              "    <path d=\"M18.56 5.44l.94 2.06.94-2.06 2.06-.94-2.06-.94-.94-2.06-.94 2.06-2.06.94zm-11 1L8.5 8.5l.94-2.06 2.06-.94-2.06-.94L8.5 2.5l-.94 2.06-2.06.94zm10 10l.94 2.06.94-2.06 2.06-.94-2.06-.94-.94-2.06-.94 2.06-2.06.94z\"/><path d=\"M17.41 7.96l-1.37-1.37c-.4-.4-.92-.59-1.43-.59-.52 0-1.04.2-1.43.59L10.3 9.45l-7.72 7.72c-.78.78-.78 2.05 0 2.83L4 21.41c.39.39.9.59 1.41.59.51 0 1.02-.2 1.41-.59l7.78-7.78 2.81-2.81c.8-.78.8-2.07 0-2.86zM5.41 20L4 18.59l7.72-7.72 1.47 1.35L5.41 20z\"/>\n",
              "  </svg>\n",
              "      </button>\n",
              "      \n",
              "  <style>\n",
              "    .colab-df-container {\n",
              "      display:flex;\n",
              "      flex-wrap:wrap;\n",
              "      gap: 12px;\n",
              "    }\n",
              "\n",
              "    .colab-df-convert {\n",
              "      background-color: #E8F0FE;\n",
              "      border: none;\n",
              "      border-radius: 50%;\n",
              "      cursor: pointer;\n",
              "      display: none;\n",
              "      fill: #1967D2;\n",
              "      height: 32px;\n",
              "      padding: 0 0 0 0;\n",
              "      width: 32px;\n",
              "    }\n",
              "\n",
              "    .colab-df-convert:hover {\n",
              "      background-color: #E2EBFA;\n",
              "      box-shadow: 0px 1px 2px rgba(60, 64, 67, 0.3), 0px 1px 3px 1px rgba(60, 64, 67, 0.15);\n",
              "      fill: #174EA6;\n",
              "    }\n",
              "\n",
              "    [theme=dark] .colab-df-convert {\n",
              "      background-color: #3B4455;\n",
              "      fill: #D2E3FC;\n",
              "    }\n",
              "\n",
              "    [theme=dark] .colab-df-convert:hover {\n",
              "      background-color: #434B5C;\n",
              "      box-shadow: 0px 1px 3px 1px rgba(0, 0, 0, 0.15);\n",
              "      filter: drop-shadow(0px 1px 2px rgba(0, 0, 0, 0.3));\n",
              "      fill: #FFFFFF;\n",
              "    }\n",
              "  </style>\n",
              "\n",
              "      <script>\n",
              "        const buttonEl =\n",
              "          document.querySelector('#df-3e93afcd-8ec4-47eb-a8ab-6a66eea2fd2b button.colab-df-convert');\n",
              "        buttonEl.style.display =\n",
              "          google.colab.kernel.accessAllowed ? 'block' : 'none';\n",
              "\n",
              "        async function convertToInteractive(key) {\n",
              "          const element = document.querySelector('#df-3e93afcd-8ec4-47eb-a8ab-6a66eea2fd2b');\n",
              "          const dataTable =\n",
              "            await google.colab.kernel.invokeFunction('convertToInteractive',\n",
              "                                                     [key], {});\n",
              "          if (!dataTable) return;\n",
              "\n",
              "          const docLinkHtml = 'Like what you see? Visit the ' +\n",
              "            '<a target=\"_blank\" href=https://colab.research.google.com/notebooks/data_table.ipynb>data table notebook</a>'\n",
              "            + ' to learn more about interactive tables.';\n",
              "          element.innerHTML = '';\n",
              "          dataTable['output_type'] = 'display_data';\n",
              "          await google.colab.output.renderOutput(dataTable, element);\n",
              "          const docLink = document.createElement('div');\n",
              "          docLink.innerHTML = docLinkHtml;\n",
              "          element.appendChild(docLink);\n",
              "        }\n",
              "      </script>\n",
              "    </div>\n",
              "  </div>\n",
              "  "
            ]
          },
          "metadata": {},
          "execution_count": 7
        }
      ]
    },
    {
      "cell_type": "code",
      "source": [
        "dataset.groupby(['undrafted'])['player_name'].count()"
      ],
      "metadata": {
        "colab": {
          "base_uri": "https://localhost:8080/"
        },
        "id": "Vio_Z_hNL6bz",
        "outputId": "e6fc3e0a-825c-4a4b-dac6-23eb8d4c7655"
      },
      "execution_count": 8,
      "outputs": [
        {
          "output_type": "execute_result",
          "data": {
            "text/plain": [
              "undrafted\n",
              "0.0    9629\n",
              "1.0    1875\n",
              "Name: player_name, dtype: int64"
            ]
          },
          "metadata": {},
          "execution_count": 8
        }
      ]
    },
    {
      "cell_type": "markdown",
      "source": [
        "Como podemos observar, nosso dataset é desbalanceado com relação a categoria 'undrafted'."
      ],
      "metadata": {
        "id": "0-0IFSlaCCEk"
      }
    },
    {
      "cell_type": "markdown",
      "source": [
        "## Separação dos conjuntos de treino, validação e teste"
      ],
      "metadata": {
        "id": "ExKQUnZPH38z"
      }
    },
    {
      "cell_type": "code",
      "source": [
        "RANDOM_STATE = 42"
      ],
      "metadata": {
        "id": "ta4Ksm2PKsb8"
      },
      "execution_count": 9,
      "outputs": []
    },
    {
      "cell_type": "code",
      "source": [
        "dataset.columns"
      ],
      "metadata": {
        "colab": {
          "base_uri": "https://localhost:8080/"
        },
        "id": "xVZ_6CLBH7Is",
        "outputId": "5e02f0ba-817c-4d2f-ee6e-f7791b01cc57"
      },
      "execution_count": 10,
      "outputs": [
        {
          "output_type": "execute_result",
          "data": {
            "text/plain": [
              "Index(['player_name', 'team_abbreviation', 'age', 'player_height',\n",
              "       'player_weight', 'college', 'country', 'draft_year', 'draft_round',\n",
              "       'draft_number', 'gp', 'pts', 'reb', 'ast', 'net_rating', 'oreb_pct',\n",
              "       'dreb_pct', 'usg_pct', 'ts_pct', 'ast_pct', 'season', 'undrafted',\n",
              "       'season_start_year', 'season_end_year', 'gp_pct'],\n",
              "      dtype='object')"
            ]
          },
          "metadata": {},
          "execution_count": 10
        }
      ]
    },
    {
      "cell_type": "markdown",
      "source": [
        "Escolhemos as colunas de altura, peso, faculdade, país, jogos realizados e métricas de desempenho (pts, reb, ast...) para compor o conjunto de features e a coluna 'undrafted' é nossa label"
      ],
      "metadata": {
        "id": "xKozGNDBJHiX"
      }
    },
    {
      "cell_type": "code",
      "source": [
        "X = dataset[['player_height', 'player_weight', 'college', 'country', \n",
        "             'gp', 'pts', 'reb', 'ast', 'net_rating', 'oreb_pct',\n",
        "             'dreb_pct', 'usg_pct', 'ts_pct', 'ast_pct']]\n",
        "y = dataset['undrafted']\n",
        "X.shape, y.shape"
      ],
      "metadata": {
        "colab": {
          "base_uri": "https://localhost:8080/"
        },
        "id": "zupxjVukJFcS",
        "outputId": "b251f115-f06e-4402-cbf6-f3f337b951dc"
      },
      "execution_count": 11,
      "outputs": [
        {
          "output_type": "execute_result",
          "data": {
            "text/plain": [
              "((11504, 14), (11504,))"
            ]
          },
          "metadata": {},
          "execution_count": 11
        }
      ]
    },
    {
      "cell_type": "markdown",
      "source": [
        "Designamos 70% dos dados para treino, 20% para teste e 10% para validação"
      ],
      "metadata": {
        "id": "GhYvbWJ7KA4X"
      }
    },
    {
      "cell_type": "code",
      "source": [
        "X_train, X_test, y_train, y_test = train_test_split(X, y, test_size=0.2, random_state=RANDOM_STATE)\n",
        "X_train, X_val, y_train, y_val = train_test_split(X_train, y_train, test_size=0.125, random_state=RANDOM_STATE)\n",
        "\n",
        "X_train.shape, X_val.shape, X_test.shape"
      ],
      "metadata": {
        "colab": {
          "base_uri": "https://localhost:8080/"
        },
        "id": "xjsVXc5vJFKX",
        "outputId": "c1a73cdc-f7d7-4e65-db3c-22c63ab14dd5"
      },
      "execution_count": 12,
      "outputs": [
        {
          "output_type": "execute_result",
          "data": {
            "text/plain": [
              "((8052, 14), (1151, 14), (2301, 14))"
            ]
          },
          "metadata": {},
          "execution_count": 12
        }
      ]
    },
    {
      "cell_type": "markdown",
      "source": [
        "## Seleção de algoritmos\n",
        "Selecionamos os seguintes para resolução do problema de classificação:\n",
        "* MLP\n",
        "* RandomForest\n",
        "* XGBoost\n",
        "* LogisticRegression\n",
        "\n",
        "Ademais, como notamos que o dataset é bem desbalanceado, utilizaremos o f1 score como métrica principal na validação, além de AUROC e accuracy."
      ],
      "metadata": {
        "id": "XTb7ZLb2K761"
      }
    },
    {
      "cell_type": "code",
      "source": [
        "def eval_metrics(y_true, y_pred, y_proba):\n",
        "  f1 = f1_score(y_true, y_pred, average='weighted')\n",
        "  acc = accuracy_score(y_true, y_pred)\n",
        "  auroc = roc_auc_score(y_true, y_proba[:, 1])\n",
        "  return acc, auroc, f1"
      ],
      "metadata": {
        "id": "mH4FTfYZh5zQ"
      },
      "execution_count": 13,
      "outputs": []
    },
    {
      "cell_type": "markdown",
      "source": [
        "### MLPs\n",
        "No algoritmo MLP, vamos variar os parâmetros `hidden_layer_sizes` (número de neurônios nas camadas escondidas), `activation` (função de ativação dos neurônios) e `solver` que otimiza a atualização dos pesos."
      ],
      "metadata": {
        "id": "pd6l89HGLtro"
      }
    },
    {
      "cell_type": "code",
      "source": [
        "EPOCHS=1000"
      ],
      "metadata": {
        "id": "aBhJjqn0NtSi"
      },
      "execution_count": null,
      "outputs": []
    },
    {
      "cell_type": "markdown",
      "source": [
        "#### Tentativa 1"
      ],
      "metadata": {
        "id": "VRKunS7bNqM6"
      }
    },
    {
      "cell_type": "code",
      "source": [
        "hidden_layer_sizes=(100,)\n",
        "activation='relu'\n",
        "solver='adam'"
      ],
      "metadata": {
        "id": "pUjx7YCZiyF1"
      },
      "execution_count": null,
      "outputs": []
    },
    {
      "cell_type": "code",
      "source": [
        "with mlflow.start_run():\n",
        "  mlp = MLPClassifier(random_state=RANDOM_STATE, max_iter=EPOCHS, hidden_layer_sizes=hidden_layer_sizes, activation=activation, solver=solver)\n",
        "  mlp.fit(X_train, y_train)\n",
        "\n",
        "  y_pred = mlp.predict(X_val)\n",
        "  y_proba = mlp.predict_proba(X_val)\n",
        "\n",
        "  (acc, auroc, f1) = eval_metrics(y_val, y_pred, y_proba)\n",
        "\n",
        "  mlflow.log_param(\"hidden_layer_sizes\", hidden_layer_sizes)\n",
        "  mlflow.log_param(\"activation\", activation)\n",
        "  mlflow.log_param(\"solver\", solver)\n",
        "  mlflow.log_metric(\"accuracy\", acc)\n",
        "  mlflow.log_metric(\"auroc\", auroc)\n",
        "  mlflow.log_metric(\"f1\", f1)\n",
        "\n",
        "  tracking_url_type_store = urlparse(mlflow.get_tracking_uri()).scheme\n",
        "\n",
        "  # Model registry does not work with file store\n",
        "  if tracking_url_type_store != \"file\":\n",
        "    # Register the model\n",
        "    # There are other ways to use the Model Registry, which depends on the use case,\n",
        "    # please refer to the doc for more information:\n",
        "    # https://mlflow.org/docs/latest/model-registry.html#api-workflow\n",
        "    mlflow.sklearn.log_model(mlp, \"model\", registered_model_name=\"MLP_NBA_Undrafted\")\n",
        "  else:\n",
        "    mlflow.sklearn.log_model(mlp, \"model\")"
      ],
      "metadata": {
        "id": "AuG_R7QnhrSD"
      },
      "execution_count": null,
      "outputs": []
    },
    {
      "cell_type": "code",
      "source": [
        "!less /content/mlruns/0/b5f8ad22854f4b568521073bda44aa34/params/activation"
      ],
      "metadata": {
        "colab": {
          "base_uri": "https://localhost:8080/"
        },
        "id": "OTpS6u24jkfj",
        "outputId": "d7c0bf27-ffd4-49b5-c4cd-cf4bd3f762e8"
      },
      "execution_count": null,
      "outputs": [
        {
          "output_type": "stream",
          "name": "stdout",
          "text": [
            "relu\n",
            "\u001b[K\u001b[?1l\u001b>\u001b[2J\u001b[?47l\u001b8"
          ]
        }
      ]
    },
    {
      "cell_type": "code",
      "source": [
        "!less /content/mlruns/0/b5f8ad22854f4b568521073bda44aa34/params/hidden_layer_sizes"
      ],
      "metadata": {
        "colab": {
          "base_uri": "https://localhost:8080/"
        },
        "id": "qXQPU2ikniGC",
        "outputId": "63d20db8-c75d-4261-84ff-02f06886c93e"
      },
      "execution_count": null,
      "outputs": [
        {
          "output_type": "stream",
          "name": "stdout",
          "text": [
            "(100,)\n",
            "\u001b[K\u001b[?1l\u001b>\u001b[2J\u001b[?47l\u001b8"
          ]
        }
      ]
    },
    {
      "cell_type": "code",
      "source": [
        "!less /content/mlruns/0/b5f8ad22854f4b568521073bda44aa34/params/solver"
      ],
      "metadata": {
        "colab": {
          "base_uri": "https://localhost:8080/"
        },
        "id": "uCj8-429nibL",
        "outputId": "98c85a13-d14c-455e-c564-16e5904ca258"
      },
      "execution_count": null,
      "outputs": [
        {
          "output_type": "stream",
          "name": "stdout",
          "text": [
            "adam\n",
            "\u001b[K\u001b[?1l\u001b>\u001b[2J\u001b[?47l\u001b8"
          ]
        }
      ]
    },
    {
      "cell_type": "code",
      "source": [
        "!less /content/mlruns/0/b5f8ad22854f4b568521073bda44aa34/metrics/auroc"
      ],
      "metadata": {
        "colab": {
          "base_uri": "https://localhost:8080/"
        },
        "id": "l-mSe7CekBpZ",
        "outputId": "df9d8c1d-fe2d-4996-949b-075e5570499b"
      },
      "execution_count": null,
      "outputs": [
        {
          "output_type": "stream",
          "name": "stdout",
          "text": [
            "1662078783968 0.7446037229928325 0\n",
            "\u001b[K\u001b[?1l\u001b>\u001b[2J\u001b[?47l\u001b8"
          ]
        }
      ]
    },
    {
      "cell_type": "code",
      "source": [
        "!less /content/mlruns/0/b5f8ad22854f4b568521073bda44aa34/metrics/f1"
      ],
      "metadata": {
        "colab": {
          "base_uri": "https://localhost:8080/"
        },
        "id": "7iYKxU6TnWdp",
        "outputId": "553dc2af-52c0-4867-bb18-36dc6ba543b4"
      },
      "execution_count": null,
      "outputs": [
        {
          "output_type": "stream",
          "name": "stdout",
          "text": [
            "1662078783970 0.754230082735617 0\n",
            "\u001b[K\u001b[?1l\u001b>\u001b[2J\u001b[?47l\u001b8"
          ]
        }
      ]
    },
    {
      "cell_type": "code",
      "source": [
        "!less /content/mlruns/0/b5f8ad22854f4b568521073bda44aa34/metrics/accuracy"
      ],
      "metadata": {
        "colab": {
          "base_uri": "https://localhost:8080/"
        },
        "id": "63QFVWAFnqRj",
        "outputId": "9816d4d1-189f-4765-db5e-9bbd27bf0c5d"
      },
      "execution_count": null,
      "outputs": [
        {
          "output_type": "stream",
          "name": "stdout",
          "text": [
            "1662078783967 0.8201563857515204 0\n",
            "\u001b[K\u001b[?1l\u001b>\u001b[2J\u001b[?47l\u001b8"
          ]
        }
      ]
    },
    {
      "cell_type": "markdown",
      "source": [
        "#### Tentativa 2\n",
        "\n",
        "\n",
        "```\n",
        "hidden_layers = (10,10)\n",
        "```\n",
        "\n"
      ],
      "metadata": {
        "id": "BQvdNFw8QY_e"
      }
    },
    {
      "cell_type": "code",
      "source": [
        "hidden_layer_sizes=(10, 10)\n",
        "activation='relu'\n",
        "solver='adam'"
      ],
      "metadata": {
        "id": "S_H_k2RHn0OT"
      },
      "execution_count": null,
      "outputs": []
    },
    {
      "cell_type": "code",
      "source": [
        "with mlflow.start_run():\n",
        "  mlp = MLPClassifier(random_state=RANDOM_STATE, max_iter=EPOCHS, hidden_layer_sizes=hidden_layer_sizes, activation=activation, solver=solver)\n",
        "  mlp.fit(X_train, y_train)\n",
        "\n",
        "  y_pred = mlp.predict(X_val)\n",
        "  y_proba = mlp.predict_proba(X_val)\n",
        "\n",
        "  (acc, auroc, f1) = eval_metrics(y_val, y_pred, y_proba)\n",
        "\n",
        "  mlflow.log_param(\"hidden_layer_sizes\", hidden_layer_sizes)\n",
        "  mlflow.log_param(\"activation\", activation)\n",
        "  mlflow.log_param(\"solver\", solver)\n",
        "  mlflow.log_metric(\"accuracy\", acc)\n",
        "  mlflow.log_metric(\"auroc\", auroc)\n",
        "  mlflow.log_metric(\"f1\", f1)\n",
        "\n",
        "  tracking_url_type_store = urlparse(mlflow.get_tracking_uri()).scheme\n",
        "\n",
        "  # Model registry does not work with file store\n",
        "  if tracking_url_type_store != \"file\":\n",
        "    # Register the model\n",
        "    # There are other ways to use the Model Registry, which depends on the use case,\n",
        "    # please refer to the doc for more information:\n",
        "    # https://mlflow.org/docs/latest/model-registry.html#api-workflow\n",
        "    mlflow.sklearn.log_model(mlp, \"model\", registered_model_name=\"MLP_NBA_Undrafted\")\n",
        "  else:\n",
        "    mlflow.sklearn.log_model(mlp, \"model\")"
      ],
      "metadata": {
        "id": "EfshK61In0OT"
      },
      "execution_count": null,
      "outputs": []
    },
    {
      "cell_type": "code",
      "source": [
        "!cat /content/mlruns/0/dac45b74013a437bae0dfae8d95fe6f1/params/activation"
      ],
      "metadata": {
        "outputId": "7878900a-9083-4b57-815e-33fc59872178",
        "colab": {
          "base_uri": "https://localhost:8080/"
        },
        "id": "hka0WiD6n0OT"
      },
      "execution_count": null,
      "outputs": [
        {
          "output_type": "stream",
          "name": "stdout",
          "text": [
            "relu"
          ]
        }
      ]
    },
    {
      "cell_type": "code",
      "source": [
        "!cat /content/mlruns/0/dac45b74013a437bae0dfae8d95fe6f1/params/hidden_layer_sizes"
      ],
      "metadata": {
        "outputId": "4e2fddb2-7838-454b-d360-ce05d2cd11f4",
        "colab": {
          "base_uri": "https://localhost:8080/"
        },
        "id": "5h1m_TkTn0OT"
      },
      "execution_count": null,
      "outputs": [
        {
          "output_type": "stream",
          "name": "stdout",
          "text": [
            "(10, 10)"
          ]
        }
      ]
    },
    {
      "cell_type": "code",
      "source": [
        "!cat /content/mlruns/0/dac45b74013a437bae0dfae8d95fe6f1/params/solver"
      ],
      "metadata": {
        "outputId": "dffc2faa-150d-499d-ef18-5c3d4b1441d9",
        "colab": {
          "base_uri": "https://localhost:8080/"
        },
        "id": "eGelSMBjn0OU"
      },
      "execution_count": null,
      "outputs": [
        {
          "output_type": "stream",
          "name": "stdout",
          "text": [
            "adam"
          ]
        }
      ]
    },
    {
      "cell_type": "code",
      "source": [
        "!cat /content/mlruns/0/dac45b74013a437bae0dfae8d95fe6f1/metrics/auroc"
      ],
      "metadata": {
        "outputId": "6b4f2503-d616-4943-df53-20991ffe8681",
        "colab": {
          "base_uri": "https://localhost:8080/"
        },
        "id": "HNg4KYRkn0OU"
      },
      "execution_count": null,
      "outputs": [
        {
          "output_type": "stream",
          "name": "stdout",
          "text": [
            "1662078957608 0.7428969215696385 0\n"
          ]
        }
      ]
    },
    {
      "cell_type": "code",
      "source": [
        "!cat /content/mlruns/0/dac45b74013a437bae0dfae8d95fe6f1/metrics/f1"
      ],
      "metadata": {
        "outputId": "0dd9b2ea-3693-490a-d16f-bc82c970d380",
        "colab": {
          "base_uri": "https://localhost:8080/"
        },
        "id": "Ipa0Rrsxn0OU"
      },
      "execution_count": null,
      "outputs": [
        {
          "output_type": "stream",
          "name": "stdout",
          "text": [
            "1662078957610 0.7431908403435481 0\n"
          ]
        }
      ]
    },
    {
      "cell_type": "code",
      "source": [
        "!cat /content/mlruns/0/dac45b74013a437bae0dfae8d95fe6f1/metrics/accuracy"
      ],
      "metadata": {
        "outputId": "bfac4da4-9b50-4545-e663-6abb085236ae",
        "colab": {
          "base_uri": "https://localhost:8080/"
        },
        "id": "U4MzZuGBn0OU"
      },
      "execution_count": null,
      "outputs": [
        {
          "output_type": "stream",
          "name": "stdout",
          "text": [
            "1662078957607 0.8218940052128584 0\n"
          ]
        }
      ]
    },
    {
      "cell_type": "markdown",
      "source": [
        "#### Tentativa 3\n",
        "\n",
        "```\n",
        "hidden_layers = (10,10)\n",
        "activation = 'logistic'\n",
        "solver = 'sgd'\n",
        "```\n",
        "\n",
        "\n"
      ],
      "metadata": {
        "id": "nv5LpMtnOuQX"
      }
    },
    {
      "cell_type": "code",
      "source": [
        "hidden_layer_sizes=(10, 10)\n",
        "activation='logistic'\n",
        "solver='sgd'"
      ],
      "metadata": {
        "id": "PBaD_uG4oNWw"
      },
      "execution_count": null,
      "outputs": []
    },
    {
      "cell_type": "code",
      "source": [
        "with mlflow.start_run():\n",
        "  mlp = MLPClassifier(random_state=RANDOM_STATE, max_iter=EPOCHS, hidden_layer_sizes=hidden_layer_sizes, activation=activation, solver=solver)\n",
        "  mlp.fit(X_train, y_train)\n",
        "\n",
        "  y_pred = mlp.predict(X_val)\n",
        "  y_proba = mlp.predict_proba(X_val)\n",
        "\n",
        "  (acc, auroc, f1) = eval_metrics(y_val, y_pred, y_proba)\n",
        "\n",
        "  mlflow.log_param(\"hidden_layer_sizes\", hidden_layer_sizes)\n",
        "  mlflow.log_param(\"activation\", activation)\n",
        "  mlflow.log_param(\"solver\", solver)\n",
        "  mlflow.log_metric(\"accuracy\", acc)\n",
        "  mlflow.log_metric(\"auroc\", auroc)\n",
        "  mlflow.log_metric(\"f1\", f1)\n",
        "\n",
        "  tracking_url_type_store = urlparse(mlflow.get_tracking_uri()).scheme\n",
        "\n",
        "  # Model registry does not work with file store\n",
        "  if tracking_url_type_store != \"file\":\n",
        "    # Register the model\n",
        "    # There are other ways to use the Model Registry, which depends on the use case,\n",
        "    # please refer to the doc for more information:\n",
        "    # https://mlflow.org/docs/latest/model-registry.html#api-workflow\n",
        "    mlflow.sklearn.log_model(mlp, \"model\", registered_model_name=\"MLP_NBA_Undrafted\")\n",
        "  else:\n",
        "    mlflow.sklearn.log_model(mlp, \"model\")"
      ],
      "metadata": {
        "id": "Zlh1buKHoNWw"
      },
      "execution_count": null,
      "outputs": []
    },
    {
      "cell_type": "code",
      "source": [
        "!cat /content/mlruns/0/c3f5c69195704f6f80d3a0b0c326c97d/params/activation"
      ],
      "metadata": {
        "outputId": "a8c42e11-60e3-497d-868d-dbdb489a54df",
        "colab": {
          "base_uri": "https://localhost:8080/"
        },
        "id": "4k0ok9zboNWw"
      },
      "execution_count": null,
      "outputs": [
        {
          "output_type": "stream",
          "name": "stdout",
          "text": [
            "logistic"
          ]
        }
      ]
    },
    {
      "cell_type": "code",
      "source": [
        "!cat /content/mlruns/0/c3f5c69195704f6f80d3a0b0c326c97d/params/hidden_layer_sizes"
      ],
      "metadata": {
        "outputId": "42ed2eda-23ab-4d12-a93b-ebf79025ddbb",
        "colab": {
          "base_uri": "https://localhost:8080/"
        },
        "id": "_FwhJbWcoNWx"
      },
      "execution_count": null,
      "outputs": [
        {
          "output_type": "stream",
          "name": "stdout",
          "text": [
            "(10, 10)"
          ]
        }
      ]
    },
    {
      "cell_type": "code",
      "source": [
        "!cat /content/mlruns/0/c3f5c69195704f6f80d3a0b0c326c97d/params/solver"
      ],
      "metadata": {
        "outputId": "3e7f7d99-86c9-42bc-f015-cdaed7c96bcd",
        "colab": {
          "base_uri": "https://localhost:8080/"
        },
        "id": "cVIbY7M1oNWx"
      },
      "execution_count": null,
      "outputs": [
        {
          "output_type": "stream",
          "name": "stdout",
          "text": [
            "sgd"
          ]
        }
      ]
    },
    {
      "cell_type": "code",
      "source": [
        "!cat /content/mlruns/0/c3f5c69195704f6f80d3a0b0c326c97d/metrics/auroc"
      ],
      "metadata": {
        "outputId": "68d3678c-93d0-4a0a-8c7d-5c8ff2ba31f0",
        "colab": {
          "base_uri": "https://localhost:8080/"
        },
        "id": "YGeI5r7uoNWx"
      },
      "execution_count": null,
      "outputs": [
        {
          "output_type": "stream",
          "name": "stdout",
          "text": [
            "1662079054027 0.48951683597174234 0\n"
          ]
        }
      ]
    },
    {
      "cell_type": "code",
      "source": [
        "!cat /content/mlruns/0/c3f5c69195704f6f80d3a0b0c326c97d/metrics/f1"
      ],
      "metadata": {
        "outputId": "d3a35c97-b9e5-4f9e-ae08-b404f9f8292a",
        "colab": {
          "base_uri": "https://localhost:8080/"
        },
        "id": "SRs9b1jaoNWx"
      },
      "execution_count": null,
      "outputs": [
        {
          "output_type": "stream",
          "name": "stdout",
          "text": [
            "1662079054028 0.7415467133346342 0\n"
          ]
        }
      ]
    },
    {
      "cell_type": "code",
      "source": [
        "!cat /content/mlruns/0/c3f5c69195704f6f80d3a0b0c326c97d/metrics/accuracy"
      ],
      "metadata": {
        "outputId": "4ed06a7d-53cc-400c-80e7-ac0353e3aeaa",
        "colab": {
          "base_uri": "https://localhost:8080/"
        },
        "id": "aN-cJ3Z_oNWy"
      },
      "execution_count": null,
      "outputs": [
        {
          "output_type": "stream",
          "name": "stdout",
          "text": [
            "1662079054025 0.8218940052128584 0\n"
          ]
        }
      ]
    },
    {
      "cell_type": "markdown",
      "source": [
        "### LogisticRegression\n",
        "No algoritmo LogisticRegression, variaremos os parâmetros `penalty` (especifica a norma da penalidade) e `solver` (especifica o algoritmo de otimização)."
      ],
      "metadata": {
        "id": "STil5di1C1g1"
      }
    },
    {
      "cell_type": "markdown",
      "source": [
        "#### Tentativa 1\n",
        "\n",
        "\n",
        "```\n",
        "penalty = 'l2'\n",
        "solver = 'liblinear'\n",
        "```\n",
        "\n"
      ],
      "metadata": {
        "id": "IyJqbVjzEC9i"
      }
    },
    {
      "cell_type": "code",
      "source": [
        "penalty = 'l2'\n",
        "solver = 'liblinear'"
      ],
      "metadata": {
        "id": "-TRKidCiEAkz"
      },
      "execution_count": null,
      "outputs": []
    },
    {
      "cell_type": "code",
      "source": [
        "with mlflow.start_run():\n",
        "  lr = LogisticRegression(random_state=RANDOM_STATE, penalty=penalty, solver=solver)\n",
        "  lr.fit(X_train, y_train)\n",
        "\n",
        "  y_pred = lr.predict(X_val)\n",
        "  y_proba = lr.predict_proba(X_val)\n",
        "\n",
        "  (acc, auroc, f1) = eval_metrics(y_val, y_pred, y_proba)\n",
        "\n",
        "  mlflow.log_param(\"penalty\", penalty)\n",
        "  mlflow.log_param(\"solver\", solver)\n",
        "  mlflow.log_metric(\"accuracy\", acc)\n",
        "  mlflow.log_metric(\"auroc\", auroc)\n",
        "  mlflow.log_metric(\"f1\", f1)\n",
        "\n",
        "  tracking_url_type_store = urlparse(mlflow.get_tracking_uri()).scheme\n",
        "\n",
        "  # Model registry does not work with file store\n",
        "  if tracking_url_type_store != \"file\":\n",
        "    # Register the model\n",
        "    # There are other ways to use the Model Registry, which depends on the use case,\n",
        "    # please refer to the doc for more information:\n",
        "    # https://mlflow.org/docs/latest/model-registry.html#api-workflow\n",
        "    mlflow.sklearn.log_model(lr, \"model\", registered_model_name=\"LR_NBA_Undrafted\")\n",
        "  else:\n",
        "    mlflow.sklearn.log_model(lr, \"model\")"
      ],
      "metadata": {
        "id": "eGSrJ-E8ERSY"
      },
      "execution_count": null,
      "outputs": []
    },
    {
      "cell_type": "code",
      "source": [
        "!cat /content/mlruns/0/8fe01fc13e704af8befc92a1931e42e2/params/penalty"
      ],
      "metadata": {
        "outputId": "af1e4d79-ccaf-410c-c095-9092d3f93043",
        "colab": {
          "base_uri": "https://localhost:8080/"
        },
        "id": "XXHfE_aiFX3U"
      },
      "execution_count": null,
      "outputs": [
        {
          "output_type": "stream",
          "name": "stdout",
          "text": [
            "l2"
          ]
        }
      ]
    },
    {
      "cell_type": "code",
      "source": [
        "!cat /content/mlruns/0/8fe01fc13e704af8befc92a1931e42e2/params/solver"
      ],
      "metadata": {
        "outputId": "3a8f3bad-6d57-4d73-8054-cafaaed35dce",
        "colab": {
          "base_uri": "https://localhost:8080/"
        },
        "id": "ER7oTCnuFX3a"
      },
      "execution_count": null,
      "outputs": [
        {
          "output_type": "stream",
          "name": "stdout",
          "text": [
            "liblinear"
          ]
        }
      ]
    },
    {
      "cell_type": "code",
      "source": [
        "!cat /content/mlruns/0/8fe01fc13e704af8befc92a1931e42e2/metrics/auroc"
      ],
      "metadata": {
        "outputId": "1ac5f43d-2879-4a20-f1c3-555871450a45",
        "colab": {
          "base_uri": "https://localhost:8080/"
        },
        "id": "isaWxkplFX3a"
      },
      "execution_count": null,
      "outputs": [
        {
          "output_type": "stream",
          "name": "stdout",
          "text": [
            "1662120201332 0.7512246686948899 0\n"
          ]
        }
      ]
    },
    {
      "cell_type": "code",
      "source": [
        "!cat /content/mlruns/0/8fe01fc13e704af8befc92a1931e42e2/metrics/f1"
      ],
      "metadata": {
        "outputId": "74ded6cd-031d-4e99-b331-67b5db029bf6",
        "colab": {
          "base_uri": "https://localhost:8080/"
        },
        "id": "BI5R0MKRFX3a"
      },
      "execution_count": null,
      "outputs": [
        {
          "output_type": "stream",
          "name": "stdout",
          "text": [
            "1662120201334 0.7538235059016244 0\n"
          ]
        }
      ]
    },
    {
      "cell_type": "code",
      "source": [
        "!cat /content/mlruns/0/8fe01fc13e704af8befc92a1931e42e2/metrics/accuracy"
      ],
      "metadata": {
        "outputId": "9e252e68-94b7-4e82-f9f4-be7909a005bd",
        "colab": {
          "base_uri": "https://localhost:8080/"
        },
        "id": "KX3XJ1ByFX3a"
      },
      "execution_count": null,
      "outputs": [
        {
          "output_type": "stream",
          "name": "stdout",
          "text": [
            "1662120201331 0.8218940052128584 0\n"
          ]
        }
      ]
    },
    {
      "cell_type": "markdown",
      "source": [
        "#### Tentativa 2\n",
        "\n",
        "```\n",
        "penalty = 'l1'\n",
        "solver = 'saga'\n",
        "```\n",
        "\n"
      ],
      "metadata": {
        "id": "bLTKWmSGFjxT"
      }
    },
    {
      "cell_type": "code",
      "source": [
        "penalty = 'l1'\n",
        "solver = 'saga'"
      ],
      "metadata": {
        "id": "Eq29b90oFzCr"
      },
      "execution_count": null,
      "outputs": []
    },
    {
      "cell_type": "code",
      "source": [
        "with mlflow.start_run():\n",
        "  lr = LogisticRegression(random_state=RANDOM_STATE, penalty=penalty, solver=solver)\n",
        "  lr.fit(X_train, y_train)\n",
        "\n",
        "  y_pred = lr.predict(X_val)\n",
        "  y_proba = lr.predict_proba(X_val)\n",
        "\n",
        "  (acc, auroc, f1) = eval_metrics(y_val, y_pred, y_proba)\n",
        "\n",
        "  mlflow.log_param(\"penalty\", penalty)\n",
        "  mlflow.log_param(\"solver\", solver)\n",
        "  mlflow.log_metric(\"accuracy\", acc)\n",
        "  mlflow.log_metric(\"auroc\", auroc)\n",
        "  mlflow.log_metric(\"f1\", f1)\n",
        "\n",
        "  tracking_url_type_store = urlparse(mlflow.get_tracking_uri()).scheme\n",
        "\n",
        "  # Model registry does not work with file store\n",
        "  if tracking_url_type_store != \"file\":\n",
        "    # Register the model\n",
        "    # There are other ways to use the Model Registry, which depends on the use case,\n",
        "    # please refer to the doc for more information:\n",
        "    # https://mlflow.org/docs/latest/model-registry.html#api-workflow\n",
        "    mlflow.sklearn.log_model(lr, \"model\", registered_model_name=\"LR_NBA_Undrafted\")\n",
        "  else:\n",
        "    mlflow.sklearn.log_model(lr, \"model\")"
      ],
      "metadata": {
        "colab": {
          "base_uri": "https://localhost:8080/"
        },
        "id": "bBV6jtsGFzCr",
        "outputId": "eab4a94b-7f7b-4426-9161-7f266b1ecbec"
      },
      "execution_count": null,
      "outputs": [
        {
          "output_type": "stream",
          "name": "stderr",
          "text": [
            "/usr/local/lib/python3.7/dist-packages/sklearn/linear_model/_sag.py:354: ConvergenceWarning: The max_iter was reached which means the coef_ did not converge\n",
            "  ConvergenceWarning,\n"
          ]
        }
      ]
    },
    {
      "cell_type": "code",
      "source": [
        "!cat /content/mlruns/0/0139f9f8834842c7bbb0421e078e6e5b/params/penalty"
      ],
      "metadata": {
        "outputId": "e07131dd-43b8-4c69-92a9-7d3e5e9d979f",
        "colab": {
          "base_uri": "https://localhost:8080/"
        },
        "id": "sX9pVXSfFzCr"
      },
      "execution_count": null,
      "outputs": [
        {
          "output_type": "stream",
          "name": "stdout",
          "text": [
            "l1"
          ]
        }
      ]
    },
    {
      "cell_type": "code",
      "source": [
        "!cat /content/mlruns/0/0139f9f8834842c7bbb0421e078e6e5b/params/solver"
      ],
      "metadata": {
        "outputId": "fbaac0fc-d56d-47e5-81d5-3798e7dec3cd",
        "colab": {
          "base_uri": "https://localhost:8080/"
        },
        "id": "h3Q4KqO3FzCs"
      },
      "execution_count": null,
      "outputs": [
        {
          "output_type": "stream",
          "name": "stdout",
          "text": [
            "saga"
          ]
        }
      ]
    },
    {
      "cell_type": "code",
      "source": [
        "!cat /content/mlruns/0/0139f9f8834842c7bbb0421e078e6e5b/metrics/auroc"
      ],
      "metadata": {
        "outputId": "978b07dc-fce1-4fdf-f0d0-f087695fd945",
        "colab": {
          "base_uri": "https://localhost:8080/"
        },
        "id": "mYLDHEB9FzCs"
      },
      "execution_count": null,
      "outputs": [
        {
          "output_type": "stream",
          "name": "stdout",
          "text": [
            "1662120389437 0.663234156654463 0\n"
          ]
        }
      ]
    },
    {
      "cell_type": "code",
      "source": [
        "!cat /content/mlruns/0/0139f9f8834842c7bbb0421e078e6e5b/metrics/f1"
      ],
      "metadata": {
        "outputId": "bd807fde-935a-4ed0-c53b-1ea45d84fb02",
        "colab": {
          "base_uri": "https://localhost:8080/"
        },
        "id": "HfXXgFy5FzCs"
      },
      "execution_count": null,
      "outputs": [
        {
          "output_type": "stream",
          "name": "stdout",
          "text": [
            "1662120389438 0.7415467133346342 0\n"
          ]
        }
      ]
    },
    {
      "cell_type": "code",
      "source": [
        "!cat /content/mlruns/0/0139f9f8834842c7bbb0421e078e6e5b/metrics/accuracy"
      ],
      "metadata": {
        "outputId": "a463e981-a808-4373-b578-d0be26c1baeb",
        "colab": {
          "base_uri": "https://localhost:8080/"
        },
        "id": "QA8U5HwQFzCs"
      },
      "execution_count": null,
      "outputs": [
        {
          "output_type": "stream",
          "name": "stdout",
          "text": [
            "1662120389436 0.8218940052128584 0\n"
          ]
        }
      ]
    },
    {
      "cell_type": "markdown",
      "source": [
        "#### Tentativa 3\n",
        "\n",
        "```\n",
        "penalty = 'elasticnet'\n",
        "solver = 'saga'\n",
        "```\n",
        "\n"
      ],
      "metadata": {
        "id": "8c2tujn7GNs5"
      }
    },
    {
      "cell_type": "code",
      "source": [
        "penalty = 'elasticnet'\n",
        "solver = 'saga'"
      ],
      "metadata": {
        "id": "63MQS4PGGWDH"
      },
      "execution_count": null,
      "outputs": []
    },
    {
      "cell_type": "code",
      "source": [
        "with mlflow.start_run():\n",
        "  lr = LogisticRegression(random_state=RANDOM_STATE, penalty=penalty, solver=solver, l1_ratio=0.5, max_iter=1000)\n",
        "  lr.fit(X_train, y_train)\n",
        "\n",
        "  y_pred = lr.predict(X_val)\n",
        "  y_proba = lr.predict_proba(X_val)\n",
        "\n",
        "  (acc, auroc, f1) = eval_metrics(y_val, y_pred, y_proba)\n",
        "\n",
        "  mlflow.log_param(\"penalty\", penalty)\n",
        "  mlflow.log_param(\"solver\", solver)\n",
        "  mlflow.log_metric(\"accuracy\", acc)\n",
        "  mlflow.log_metric(\"auroc\", auroc)\n",
        "  mlflow.log_metric(\"f1\", f1)\n",
        "\n",
        "  tracking_url_type_store = urlparse(mlflow.get_tracking_uri()).scheme\n",
        "\n",
        "  # Model registry does not work with file store\n",
        "  if tracking_url_type_store != \"file\":\n",
        "    # Register the model\n",
        "    # There are other ways to use the Model Registry, which depends on the use case,\n",
        "    # please refer to the doc for more information:\n",
        "    # https://mlflow.org/docs/latest/model-registry.html#api-workflow\n",
        "    mlflow.sklearn.log_model(lr, \"model\", registered_model_name=\"LR_NBA_Undrafted\")\n",
        "  else:\n",
        "    mlflow.sklearn.log_model(lr, \"model\")"
      ],
      "metadata": {
        "outputId": "e5a63273-b3f8-40e6-bc93-fc2e8c489290",
        "colab": {
          "base_uri": "https://localhost:8080/"
        },
        "id": "-Oat4qm3GWDH"
      },
      "execution_count": null,
      "outputs": [
        {
          "output_type": "stream",
          "name": "stderr",
          "text": [
            "/usr/local/lib/python3.7/dist-packages/sklearn/linear_model/_sag.py:354: ConvergenceWarning: The max_iter was reached which means the coef_ did not converge\n",
            "  ConvergenceWarning,\n"
          ]
        }
      ]
    },
    {
      "cell_type": "code",
      "source": [
        "!cat /content/mlruns/0/253e4d2f20f24254a7fc2d693159bfc1/params/penalty"
      ],
      "metadata": {
        "outputId": "c60e5650-724e-4b64-e989-2eb3172d22d3",
        "colab": {
          "base_uri": "https://localhost:8080/"
        },
        "id": "kxkuQ8CJGWDI"
      },
      "execution_count": null,
      "outputs": [
        {
          "output_type": "stream",
          "name": "stdout",
          "text": [
            "elasticnet"
          ]
        }
      ]
    },
    {
      "cell_type": "code",
      "source": [
        "!cat /content/mlruns/0/253e4d2f20f24254a7fc2d693159bfc1/params/solver"
      ],
      "metadata": {
        "outputId": "a83b610e-cf5c-4687-f8a6-04e4bdb2365f",
        "colab": {
          "base_uri": "https://localhost:8080/"
        },
        "id": "to0B5IYzGWDI"
      },
      "execution_count": null,
      "outputs": [
        {
          "output_type": "stream",
          "name": "stdout",
          "text": [
            "saga"
          ]
        }
      ]
    },
    {
      "cell_type": "code",
      "source": [
        "!cat /content/mlruns/0/253e4d2f20f24254a7fc2d693159bfc1/metrics/auroc"
      ],
      "metadata": {
        "outputId": "dbf63b90-3df6-42d4-9ca9-1c9eb50fee00",
        "colab": {
          "base_uri": "https://localhost:8080/"
        },
        "id": "hRWuK79rGWDI"
      },
      "execution_count": null,
      "outputs": [
        {
          "output_type": "stream",
          "name": "stdout",
          "text": [
            "1662120583300 0.709585933068633 0\n"
          ]
        }
      ]
    },
    {
      "cell_type": "code",
      "source": [
        "!cat /content/mlruns/0/253e4d2f20f24254a7fc2d693159bfc1/metrics/f1"
      ],
      "metadata": {
        "outputId": "63f986e6-100b-44fe-84c3-c14c460f422a",
        "colab": {
          "base_uri": "https://localhost:8080/"
        },
        "id": "BD4xe8IDGWDJ"
      },
      "execution_count": null,
      "outputs": [
        {
          "output_type": "stream",
          "name": "stdout",
          "text": [
            "1662120583302 0.7415467133346342 0\n"
          ]
        }
      ]
    },
    {
      "cell_type": "code",
      "source": [
        "!cat /content/mlruns/0/253e4d2f20f24254a7fc2d693159bfc1/metrics/accuracy"
      ],
      "metadata": {
        "outputId": "7b7be717-80e3-423f-b834-1fe32c74ea4f",
        "colab": {
          "base_uri": "https://localhost:8080/"
        },
        "id": "F4VkaJnfGWDJ"
      },
      "execution_count": null,
      "outputs": [
        {
          "output_type": "stream",
          "name": "stdout",
          "text": [
            "1662120583299 0.8218940052128584 0\n"
          ]
        }
      ]
    },
    {
      "cell_type": "markdown",
      "source": [
        "### RandomForestClassifier\n",
        "No algoritmo RandomForest, decidimos acompanhar a variação dos parâmetros `n_estimators` (número de árvores na floresta), `criterion` (função que mede a qualidade da separação) e `max_depth` (altera a profundidade máxima das árvores)."
      ],
      "metadata": {
        "id": "aXWFaAduHPzI"
      }
    },
    {
      "cell_type": "markdown",
      "source": [
        "#### Tentativa 1\n",
        "\n",
        "```\n",
        "n_estimators = 100\n",
        "criterion = 'gini'\n",
        "max_depth = None\n",
        "```\n",
        "\n"
      ],
      "metadata": {
        "id": "RZOXBeqhH-KR"
      }
    },
    {
      "cell_type": "code",
      "source": [
        "n_estimators = 100\n",
        "criterion = 'gini'\n",
        "max_depth = None"
      ],
      "metadata": {
        "id": "8P_hYOiRHSuE"
      },
      "execution_count": null,
      "outputs": []
    },
    {
      "cell_type": "code",
      "source": [
        "with mlflow.start_run():\n",
        "  rf = RandomForestClassifier(random_state=RANDOM_STATE, n_estimators=n_estimators, criterion=criterion, max_depth=max_depth)\n",
        "  rf.fit(X_train, y_train)\n",
        "\n",
        "  y_pred = rf.predict(X_val)\n",
        "  y_proba = rf.predict_proba(X_val)\n",
        "\n",
        "  (acc, auroc, f1) = eval_metrics(y_val, y_pred, y_proba)\n",
        "\n",
        "  mlflow.log_param(\"n_estimators\", n_estimators)\n",
        "  mlflow.log_param(\"criterion\", criterion)\n",
        "  mlflow.log_param(\"max_depth\", max_depth)\n",
        "  mlflow.log_metric(\"accuracy\", acc)\n",
        "  mlflow.log_metric(\"auroc\", auroc)\n",
        "  mlflow.log_metric(\"f1\", f1)\n",
        "\n",
        "  tracking_url_type_store = urlparse(mlflow.get_tracking_uri()).scheme\n",
        "\n",
        "  # Model registry does not work with file store\n",
        "  if tracking_url_type_store != \"file\":\n",
        "    # Register the model\n",
        "    # There are other ways to use the Model Registry, which depends on the use case,\n",
        "    # please refer to the doc for more information:\n",
        "    # https://mlflow.org/docs/latest/model-registry.html#api-workflow\n",
        "    mlflow.sklearn.log_model(rf, \"model\", registered_model_name=\"RF_NBA_Undrafted\")\n",
        "  else:\n",
        "    mlflow.sklearn.log_model(rf, \"model\")"
      ],
      "metadata": {
        "id": "Pu_EFKlJISxf"
      },
      "execution_count": null,
      "outputs": []
    },
    {
      "cell_type": "code",
      "source": [
        "!cat /content/mlruns/0/c3e9d3f5601c4cdabc0a4f0ba49e2541/params/n_estimators"
      ],
      "metadata": {
        "outputId": "45421716-a975-4fe4-eb28-f3ef93ee91dd",
        "colab": {
          "base_uri": "https://localhost:8080/"
        },
        "id": "T5hpKyG5I_EH"
      },
      "execution_count": null,
      "outputs": [
        {
          "output_type": "stream",
          "name": "stdout",
          "text": [
            "100"
          ]
        }
      ]
    },
    {
      "cell_type": "code",
      "source": [
        "!cat /content/mlruns/0/c3e9d3f5601c4cdabc0a4f0ba49e2541/params/criterion"
      ],
      "metadata": {
        "outputId": "f34f1548-f43e-4d1f-cb5c-d93620ba83b0",
        "colab": {
          "base_uri": "https://localhost:8080/"
        },
        "id": "iE0Pn85FI_EO"
      },
      "execution_count": null,
      "outputs": [
        {
          "output_type": "stream",
          "name": "stdout",
          "text": [
            "gini"
          ]
        }
      ]
    },
    {
      "cell_type": "code",
      "source": [
        "!cat /content/mlruns/0/c3e9d3f5601c4cdabc0a4f0ba49e2541/params/max_depth"
      ],
      "metadata": {
        "colab": {
          "base_uri": "https://localhost:8080/"
        },
        "id": "7pVA2esHJFzo",
        "outputId": "1cbea49f-bda1-485d-dce8-27b6251635d4"
      },
      "execution_count": null,
      "outputs": [
        {
          "output_type": "stream",
          "name": "stdout",
          "text": [
            "None"
          ]
        }
      ]
    },
    {
      "cell_type": "code",
      "source": [
        "!cat /content/mlruns/0/c3e9d3f5601c4cdabc0a4f0ba49e2541/metrics/auroc"
      ],
      "metadata": {
        "outputId": "a9bc9b5f-0fc6-4446-df8d-541524d50c08",
        "colab": {
          "base_uri": "https://localhost:8080/"
        },
        "id": "rTGUlj7uI_EO"
      },
      "execution_count": null,
      "outputs": [
        {
          "output_type": "stream",
          "name": "stdout",
          "text": [
            "1662121124478 0.8366240396019182 0\n"
          ]
        }
      ]
    },
    {
      "cell_type": "code",
      "source": [
        "!cat /content/mlruns/0/c3e9d3f5601c4cdabc0a4f0ba49e2541/metrics/f1"
      ],
      "metadata": {
        "outputId": "238fc064-7f69-476a-cb25-1f1d5003d5a0",
        "colab": {
          "base_uri": "https://localhost:8080/"
        },
        "id": "U1bucH2gI_EO"
      },
      "execution_count": null,
      "outputs": [
        {
          "output_type": "stream",
          "name": "stdout",
          "text": [
            "1662121124479 0.7826776956198876 0\n"
          ]
        }
      ]
    },
    {
      "cell_type": "code",
      "source": [
        "!cat /content/mlruns/0/c3e9d3f5601c4cdabc0a4f0ba49e2541/metrics/accuracy"
      ],
      "metadata": {
        "outputId": "c3402dca-53e2-4c5f-c7b6-5e15efbea2e9",
        "colab": {
          "base_uri": "https://localhost:8080/"
        },
        "id": "inbAKEOaI_EP"
      },
      "execution_count": null,
      "outputs": [
        {
          "output_type": "stream",
          "name": "stdout",
          "text": [
            "1662121124478 0.8340573414422241 0\n"
          ]
        }
      ]
    },
    {
      "cell_type": "markdown",
      "source": [
        "#### Tentativa 2\n",
        "\n",
        "```\n",
        "n_estimators = 200\n",
        "criterion = 'gini'\n",
        "max_depth = None\n",
        "```\n",
        "\n"
      ],
      "metadata": {
        "id": "PalwbzW3JSBe"
      }
    },
    {
      "cell_type": "code",
      "source": [
        "n_estimators = 200\n",
        "criterion = 'gini'\n",
        "max_depth = None"
      ],
      "metadata": {
        "id": "4oWLRI5oJSBf"
      },
      "execution_count": null,
      "outputs": []
    },
    {
      "cell_type": "code",
      "source": [
        "with mlflow.start_run():\n",
        "  rf = RandomForestClassifier(random_state=RANDOM_STATE, n_estimators=n_estimators, criterion=criterion, max_depth=max_depth)\n",
        "  rf.fit(X_train, y_train)\n",
        "\n",
        "  y_pred = rf.predict(X_val)\n",
        "  y_proba = rf.predict_proba(X_val)\n",
        "\n",
        "  (acc, auroc, f1) = eval_metrics(y_val, y_pred, y_proba)\n",
        "\n",
        "  mlflow.log_param(\"n_estimators\", n_estimators)\n",
        "  mlflow.log_param(\"criterion\", criterion)\n",
        "  mlflow.log_param(\"max_depth\", max_depth)\n",
        "  mlflow.log_metric(\"accuracy\", acc)\n",
        "  mlflow.log_metric(\"auroc\", auroc)\n",
        "  mlflow.log_metric(\"f1\", f1)\n",
        "\n",
        "  tracking_url_type_store = urlparse(mlflow.get_tracking_uri()).scheme\n",
        "\n",
        "  # Model registry does not work with file store\n",
        "  if tracking_url_type_store != \"file\":\n",
        "    # Register the model\n",
        "    # There are other ways to use the Model Registry, which depends on the use case,\n",
        "    # please refer to the doc for more information:\n",
        "    # https://mlflow.org/docs/latest/model-registry.html#api-workflow\n",
        "    mlflow.sklearn.log_model(rf, \"model\", registered_model_name=\"RF_NBA_Undrafted\")\n",
        "  else:\n",
        "    mlflow.sklearn.log_model(rf, \"model\")"
      ],
      "metadata": {
        "id": "8vl9ZJwjJSBf"
      },
      "execution_count": null,
      "outputs": []
    },
    {
      "cell_type": "code",
      "source": [
        "!cat /content/mlruns/0/37399a681ba84856928153aacde4623d/params/n_estimators"
      ],
      "metadata": {
        "outputId": "decee1c8-9d97-46b3-a3f7-46587e349046",
        "colab": {
          "base_uri": "https://localhost:8080/"
        },
        "id": "BQoF-vloJSBf"
      },
      "execution_count": null,
      "outputs": [
        {
          "output_type": "stream",
          "name": "stdout",
          "text": [
            "200"
          ]
        }
      ]
    },
    {
      "cell_type": "code",
      "source": [
        "!cat /content/mlruns/0/37399a681ba84856928153aacde4623d/params/criterion"
      ],
      "metadata": {
        "outputId": "aaefa22a-d49e-433e-e6e9-a646b08c7ce2",
        "colab": {
          "base_uri": "https://localhost:8080/"
        },
        "id": "I7DrIFfgJSBg"
      },
      "execution_count": null,
      "outputs": [
        {
          "output_type": "stream",
          "name": "stdout",
          "text": [
            "gini"
          ]
        }
      ]
    },
    {
      "cell_type": "code",
      "source": [
        "!cat /content/mlruns/0/37399a681ba84856928153aacde4623d/params/max_depth"
      ],
      "metadata": {
        "outputId": "8a9d0e80-713d-4601-8ab6-37f7d93b15c5",
        "colab": {
          "base_uri": "https://localhost:8080/"
        },
        "id": "I5tkJE1YJSBg"
      },
      "execution_count": null,
      "outputs": [
        {
          "output_type": "stream",
          "name": "stdout",
          "text": [
            "None"
          ]
        }
      ]
    },
    {
      "cell_type": "code",
      "source": [
        "!cat /content/mlruns/0/37399a681ba84856928153aacde4623d/metrics/auroc"
      ],
      "metadata": {
        "outputId": "6bf8707e-9442-4c22-f01d-822d60e69bee",
        "colab": {
          "base_uri": "https://localhost:8080/"
        },
        "id": "JtXCpzlqJSBg"
      },
      "execution_count": null,
      "outputs": [
        {
          "output_type": "stream",
          "name": "stdout",
          "text": [
            "1662121391197 0.8431702160573403 0\n"
          ]
        }
      ]
    },
    {
      "cell_type": "code",
      "source": [
        "!cat /content/mlruns/0/37399a681ba84856928153aacde4623d/metrics/f1"
      ],
      "metadata": {
        "outputId": "07394d99-979e-4c46-b48a-47f1607cbab5",
        "colab": {
          "base_uri": "https://localhost:8080/"
        },
        "id": "25vx0kjFJSBg"
      },
      "execution_count": null,
      "outputs": [
        {
          "output_type": "stream",
          "name": "stdout",
          "text": [
            "1662121391198 0.7866288627891993 0\n"
          ]
        }
      ]
    },
    {
      "cell_type": "code",
      "source": [
        "!cat /content/mlruns/0/37399a681ba84856928153aacde4623d/metrics/accuracy"
      ],
      "metadata": {
        "outputId": "570721e9-42c0-41eb-a469-38e91bf54320",
        "colab": {
          "base_uri": "https://localhost:8080/"
        },
        "id": "YcY5-p2cJSBg"
      },
      "execution_count": null,
      "outputs": [
        {
          "output_type": "stream",
          "name": "stdout",
          "text": [
            "1662121391197 0.8366637706342311 0\n"
          ]
        }
      ]
    },
    {
      "cell_type": "markdown",
      "source": [
        "#### Tentativa 3\n",
        "\n",
        "```\n",
        "n_estimators = 200\n",
        "criterion = 'entropy'\n",
        "max_depth = 15\n",
        "```\n",
        "\n"
      ],
      "metadata": {
        "id": "0Xd-5uNBKCbx"
      }
    },
    {
      "cell_type": "code",
      "source": [
        "n_estimators = 200\n",
        "criterion = 'entropy'\n",
        "max_depth = 15"
      ],
      "metadata": {
        "id": "Roc2zoL7KCbx"
      },
      "execution_count": null,
      "outputs": []
    },
    {
      "cell_type": "code",
      "source": [
        "with mlflow.start_run():\n",
        "  rf = RandomForestClassifier(random_state=RANDOM_STATE, n_estimators=n_estimators, criterion=criterion, max_depth=max_depth)\n",
        "  rf.fit(X_train, y_train)\n",
        "\n",
        "  y_pred = rf.predict(X_val)\n",
        "  y_proba = rf.predict_proba(X_val)\n",
        "\n",
        "  (acc, auroc, f1) = eval_metrics(y_val, y_pred, y_proba)\n",
        "\n",
        "  mlflow.log_param(\"n_estimators\", n_estimators)\n",
        "  mlflow.log_param(\"criterion\", criterion)\n",
        "  mlflow.log_param(\"max_depth\", max_depth)\n",
        "  mlflow.log_metric(\"accuracy\", acc)\n",
        "  mlflow.log_metric(\"auroc\", auroc)\n",
        "  mlflow.log_metric(\"f1\", f1)\n",
        "\n",
        "  tracking_url_type_store = urlparse(mlflow.get_tracking_uri()).scheme\n",
        "\n",
        "  # Model registry does not work with file store\n",
        "  if tracking_url_type_store != \"file\":\n",
        "    # Register the model\n",
        "    # There are other ways to use the Model Registry, which depends on the use case,\n",
        "    # please refer to the doc for more information:\n",
        "    # https://mlflow.org/docs/latest/model-registry.html#api-workflow\n",
        "    mlflow.sklearn.log_model(rf, \"model\", registered_model_name=\"RF_NBA_Undrafted\")\n",
        "  else:\n",
        "    mlflow.sklearn.log_model(rf, \"model\")"
      ],
      "metadata": {
        "id": "txua-y1LKCbx"
      },
      "execution_count": null,
      "outputs": []
    },
    {
      "cell_type": "code",
      "source": [
        "!cat /content/mlruns/0/37399a681ba84856928153aacde4623d/params/n_estimators"
      ],
      "metadata": {
        "outputId": "d287e629-c844-478b-bc00-a5f95e78dcd3",
        "colab": {
          "base_uri": "https://localhost:8080/"
        },
        "id": "8jKRXU-KKCby"
      },
      "execution_count": null,
      "outputs": [
        {
          "output_type": "stream",
          "name": "stdout",
          "text": [
            "200"
          ]
        }
      ]
    },
    {
      "cell_type": "code",
      "source": [
        "!cat /content/mlruns/0/7bf1d8758b4d46f7b8497a9243c057f7/params/criterion"
      ],
      "metadata": {
        "outputId": "59ad153a-c212-439c-c88a-86807ee7a9b4",
        "colab": {
          "base_uri": "https://localhost:8080/"
        },
        "id": "QYPtObIdKCby"
      },
      "execution_count": null,
      "outputs": [
        {
          "output_type": "stream",
          "name": "stdout",
          "text": [
            "entropy"
          ]
        }
      ]
    },
    {
      "cell_type": "code",
      "source": [
        "!cat /content/mlruns/0/7bf1d8758b4d46f7b8497a9243c057f7/params/max_depth"
      ],
      "metadata": {
        "outputId": "80168644-ea17-4e43-84e2-2e1f6a84bdaf",
        "colab": {
          "base_uri": "https://localhost:8080/"
        },
        "id": "6aLs1aZCKCby"
      },
      "execution_count": null,
      "outputs": [
        {
          "output_type": "stream",
          "name": "stdout",
          "text": [
            "15"
          ]
        }
      ]
    },
    {
      "cell_type": "code",
      "source": [
        "!cat /content/mlruns/0/7bf1d8758b4d46f7b8497a9243c057f7/metrics/auroc"
      ],
      "metadata": {
        "outputId": "624130b3-5aa6-458d-d9a9-a4c66d45c2a7",
        "colab": {
          "base_uri": "https://localhost:8080/"
        },
        "id": "L30J2fvbKCby"
      },
      "execution_count": null,
      "outputs": [
        {
          "output_type": "stream",
          "name": "stdout",
          "text": [
            "1662121542282 0.843335224049915 0\n"
          ]
        }
      ]
    },
    {
      "cell_type": "code",
      "source": [
        "!cat /content/mlruns/0/7bf1d8758b4d46f7b8497a9243c057f7/metrics/f1"
      ],
      "metadata": {
        "outputId": "e8ca2b9a-ba2c-4ae6-bb08-b8a59063ffb6",
        "colab": {
          "base_uri": "https://localhost:8080/"
        },
        "id": "PI0RFyo3KCby"
      },
      "execution_count": null,
      "outputs": [
        {
          "output_type": "stream",
          "name": "stdout",
          "text": [
            "1662121542283 0.7746727489160805 0\n"
          ]
        }
      ]
    },
    {
      "cell_type": "code",
      "source": [
        "!cat /content/mlruns/0/7bf1d8758b4d46f7b8497a9243c057f7/metrics/accuracy"
      ],
      "metadata": {
        "outputId": "c142420d-9575-4af6-e636-c2845d5d1c91",
        "colab": {
          "base_uri": "https://localhost:8080/"
        },
        "id": "ndbrNpSTKCbz"
      },
      "execution_count": null,
      "outputs": [
        {
          "output_type": "stream",
          "name": "stdout",
          "text": [
            "1662121542281 0.8305821025195482 0\n"
          ]
        }
      ]
    },
    {
      "cell_type": "markdown",
      "source": [
        "### XGBoost\n",
        "Para o algoritmo de classificação XGBoost, experimentaremos a alternação dos parâmetros `n_estimators` (equivalente ao da RandomForest), `learning_rate` (diminuição do tamanho dos passos, utilizado para prevenção de overfitting) e `max_depth` (equivalente ao RF)."
      ],
      "metadata": {
        "id": "9I0iGYU1Ko5J"
      }
    },
    {
      "cell_type": "markdown",
      "source": [
        "#### Tentativa 1\n",
        "\n",
        "```\n",
        "n_estimators = 100\n",
        "learning_rate = 1e-1\n",
        "max_depth = 6\n",
        "```\n",
        "\n"
      ],
      "metadata": {
        "id": "UiEMsunjN6jM"
      }
    },
    {
      "cell_type": "code",
      "source": [
        "n_estimators = 100\n",
        "learning_rate = 1e-1\n",
        "max_depth = 6"
      ],
      "metadata": {
        "id": "2_QL0eQvOGhd"
      },
      "execution_count": null,
      "outputs": []
    },
    {
      "cell_type": "code",
      "source": [
        "with mlflow.start_run():\n",
        "  xgb = XGBClassifier(random_state=RANDOM_STATE, n_estimators=n_estimators, learning_rate=learning_rate, max_depth=max_depth)\n",
        "  xgb.fit(X_train, y_train)\n",
        "\n",
        "  y_pred = xgb.predict(X_val)\n",
        "  y_proba = xgb.predict_proba(X_val)\n",
        "\n",
        "  (acc, auroc, f1) = eval_metrics(y_val, y_pred, y_proba)\n",
        "\n",
        "  mlflow.log_param(\"n_estimators\", n_estimators)\n",
        "  mlflow.log_param(\"lr\", learning_rate)\n",
        "  mlflow.log_param(\"max_depth\", max_depth)\n",
        "  mlflow.log_metric(\"accuracy\", acc)\n",
        "  mlflow.log_metric(\"auroc\", auroc)\n",
        "  mlflow.log_metric(\"f1\", f1)\n",
        "\n",
        "  tracking_url_type_store = urlparse(mlflow.get_tracking_uri()).scheme\n",
        "\n",
        "  # Model registry does not work with file store\n",
        "  if tracking_url_type_store != \"file\":\n",
        "    # Register the model\n",
        "    # There are other ways to use the Model Registry, which depends on the use case,\n",
        "    # please refer to the doc for more information:\n",
        "    # https://mlflow.org/docs/latest/model-registry.html#api-workflow\n",
        "    mlflow.sklearn.log_model(xgb, \"model\", registered_model_name=\"XGB_NBA_Undrafted\")\n",
        "  else:\n",
        "    mlflow.sklearn.log_model(xgb, \"model\")"
      ],
      "metadata": {
        "id": "olZVCH3AOHiO"
      },
      "execution_count": null,
      "outputs": []
    },
    {
      "cell_type": "code",
      "source": [
        "!cat /content/mlruns/0/613bc45c18564a3ab87fa0188ebf3140/params/n_estimators"
      ],
      "metadata": {
        "outputId": "055b711d-7d26-46f4-e01e-dd90cbb8cc88",
        "colab": {
          "base_uri": "https://localhost:8080/"
        },
        "id": "lO4z3jl5Okvd"
      },
      "execution_count": null,
      "outputs": [
        {
          "output_type": "stream",
          "name": "stdout",
          "text": [
            "100"
          ]
        }
      ]
    },
    {
      "cell_type": "code",
      "source": [
        "!cat /content/mlruns/0/613bc45c18564a3ab87fa0188ebf3140/params/lr"
      ],
      "metadata": {
        "outputId": "869b4c36-0569-4d3b-e51c-5d21fc1a65f0",
        "colab": {
          "base_uri": "https://localhost:8080/"
        },
        "id": "XEoQeKuQOkvd"
      },
      "execution_count": null,
      "outputs": [
        {
          "output_type": "stream",
          "name": "stdout",
          "text": [
            "0.1"
          ]
        }
      ]
    },
    {
      "cell_type": "code",
      "source": [
        "!cat /content/mlruns/0/613bc45c18564a3ab87fa0188ebf3140/params/max_depth"
      ],
      "metadata": {
        "outputId": "f38a77bf-53d5-44ad-b55a-d6e3c7259d2e",
        "colab": {
          "base_uri": "https://localhost:8080/"
        },
        "id": "FoT3mnCtOkvd"
      },
      "execution_count": null,
      "outputs": [
        {
          "output_type": "stream",
          "name": "stdout",
          "text": [
            "6"
          ]
        }
      ]
    },
    {
      "cell_type": "code",
      "source": [
        "!cat /content/mlruns/0/613bc45c18564a3ab87fa0188ebf3140/metrics/auroc"
      ],
      "metadata": {
        "outputId": "67b38cea-a519-4506-d846-2a5ebbaaddba",
        "colab": {
          "base_uri": "https://localhost:8080/"
        },
        "id": "7DvkrPyeOkvd"
      },
      "execution_count": null,
      "outputs": [
        {
          "output_type": "stream",
          "name": "stdout",
          "text": [
            "1662122624530 0.849894291754757 0\n"
          ]
        }
      ]
    },
    {
      "cell_type": "code",
      "source": [
        "!cat /content/mlruns/0/613bc45c18564a3ab87fa0188ebf3140/metrics/f1"
      ],
      "metadata": {
        "outputId": "9febc73f-60a1-494a-df32-120482b0133f",
        "colab": {
          "base_uri": "https://localhost:8080/"
        },
        "id": "dvcNRtshOkve"
      },
      "execution_count": null,
      "outputs": [
        {
          "output_type": "stream",
          "name": "stdout",
          "text": [
            "1662122624531 0.8148418621868618 0\n"
          ]
        }
      ]
    },
    {
      "cell_type": "code",
      "source": [
        "!cat /content/mlruns/0/613bc45c18564a3ab87fa0188ebf3140/metrics/accuracy"
      ],
      "metadata": {
        "outputId": "c438f311-1d7b-4e20-d75c-3e7a1e449b4b",
        "colab": {
          "base_uri": "https://localhost:8080/"
        },
        "id": "QV8k5haEOkve"
      },
      "execution_count": null,
      "outputs": [
        {
          "output_type": "stream",
          "name": "stdout",
          "text": [
            "1662122624530 0.8488271068635969 0\n"
          ]
        }
      ]
    },
    {
      "cell_type": "markdown",
      "source": [
        "#### Tentativa 2\n",
        "\n",
        "```\n",
        "n_estimators = 200\n",
        "learning_rate = 1e-2\n",
        "max_depth = 6\n",
        "```\n",
        "\n"
      ],
      "metadata": {
        "id": "KGR9qV21O1YX"
      }
    },
    {
      "cell_type": "code",
      "source": [
        "n_estimators = 200\n",
        "learning_rate = 1e-2\n",
        "max_depth = 6"
      ],
      "metadata": {
        "id": "n75zVAlRO1YX"
      },
      "execution_count": null,
      "outputs": []
    },
    {
      "cell_type": "code",
      "source": [
        "with mlflow.start_run():\n",
        "  xgb = XGBClassifier(random_state=RANDOM_STATE, n_estimators=n_estimators, learning_rate=learning_rate, max_depth=max_depth)\n",
        "  xgb.fit(X_train, y_train)\n",
        "\n",
        "  y_pred = xgb.predict(X_val)\n",
        "  y_proba = xgb.predict_proba(X_val)\n",
        "\n",
        "  (acc, auroc, f1) = eval_metrics(y_val, y_pred, y_proba)\n",
        "\n",
        "  mlflow.log_param(\"n_estimators\", n_estimators)\n",
        "  mlflow.log_param(\"lr\", learning_rate)\n",
        "  mlflow.log_param(\"max_depth\", max_depth)\n",
        "  mlflow.log_metric(\"accuracy\", acc)\n",
        "  mlflow.log_metric(\"auroc\", auroc)\n",
        "  mlflow.log_metric(\"f1\", f1)\n",
        "\n",
        "  tracking_url_type_store = urlparse(mlflow.get_tracking_uri()).scheme\n",
        "\n",
        "  # Model registry does not work with file store\n",
        "  if tracking_url_type_store != \"file\":\n",
        "    # Register the model\n",
        "    # There are other ways to use the Model Registry, which depends on the use case,\n",
        "    # please refer to the doc for more information:\n",
        "    # https://mlflow.org/docs/latest/model-registry.html#api-workflow\n",
        "    mlflow.sklearn.log_model(xgb, \"model\", registered_model_name=\"XGB_NBA_Undrafted\")\n",
        "  else:\n",
        "    mlflow.sklearn.log_model(xgb, \"model\")"
      ],
      "metadata": {
        "id": "BZT7_mSRO1YX"
      },
      "execution_count": null,
      "outputs": []
    },
    {
      "cell_type": "code",
      "source": [
        "!cat /content/mlruns/0/77d126395a034941bffff89e73f026d4/params/n_estimators"
      ],
      "metadata": {
        "outputId": "0d7860e4-d7a2-481d-b5d2-3030169df9dc",
        "colab": {
          "base_uri": "https://localhost:8080/"
        },
        "id": "oRUXScfnO1YX"
      },
      "execution_count": null,
      "outputs": [
        {
          "output_type": "stream",
          "name": "stdout",
          "text": [
            "200"
          ]
        }
      ]
    },
    {
      "cell_type": "code",
      "source": [
        "!cat /content/mlruns/0/77d126395a034941bffff89e73f026d4/params/lr"
      ],
      "metadata": {
        "outputId": "f6114e97-72bd-450e-ee09-99e92be81f0a",
        "colab": {
          "base_uri": "https://localhost:8080/"
        },
        "id": "bBjdxxp_O1YX"
      },
      "execution_count": null,
      "outputs": [
        {
          "output_type": "stream",
          "name": "stdout",
          "text": [
            "0.01"
          ]
        }
      ]
    },
    {
      "cell_type": "code",
      "source": [
        "!cat /content/mlruns/0/77d126395a034941bffff89e73f026d4/params/max_depth"
      ],
      "metadata": {
        "outputId": "68ef79c8-d2ba-4b33-f0df-df0c2260ec2f",
        "colab": {
          "base_uri": "https://localhost:8080/"
        },
        "id": "1EcEklL3O1YY"
      },
      "execution_count": null,
      "outputs": [
        {
          "output_type": "stream",
          "name": "stdout",
          "text": [
            "6"
          ]
        }
      ]
    },
    {
      "cell_type": "code",
      "source": [
        "!cat /content/mlruns/0/77d126395a034941bffff89e73f026d4/metrics/auroc"
      ],
      "metadata": {
        "outputId": "96597089-0c0a-44a0-e3ec-9f5ef441b070",
        "colab": {
          "base_uri": "https://localhost:8080/"
        },
        "id": "DJkt9wBmO1YY"
      },
      "execution_count": null,
      "outputs": [
        {
          "output_type": "stream",
          "name": "stdout",
          "text": [
            "1662122750497 0.7895787139689578 0\n"
          ]
        }
      ]
    },
    {
      "cell_type": "code",
      "source": [
        "!cat /content/mlruns/0/77d126395a034941bffff89e73f026d4/metrics/f1"
      ],
      "metadata": {
        "outputId": "a4987368-5fc2-44f4-f5f7-c67c6c54789a",
        "colab": {
          "base_uri": "https://localhost:8080/"
        },
        "id": "ZScEZ_o0O1YY"
      },
      "execution_count": null,
      "outputs": [
        {
          "output_type": "stream",
          "name": "stdout",
          "text": [
            "1662122750498 0.7717092944984212 0\n"
          ]
        }
      ]
    },
    {
      "cell_type": "code",
      "source": [
        "!cat /content/mlruns/0/77d126395a034941bffff89e73f026d4/metrics/accuracy"
      ],
      "metadata": {
        "outputId": "f7b06920-1ef2-4ad5-f920-14ebedb7acef",
        "colab": {
          "base_uri": "https://localhost:8080/"
        },
        "id": "7w99AOafO1YY"
      },
      "execution_count": null,
      "outputs": [
        {
          "output_type": "stream",
          "name": "stdout",
          "text": [
            "1662122750496 0.8297132927888793 0\n"
          ]
        }
      ]
    },
    {
      "cell_type": "markdown",
      "source": [
        "#### Tentativa 3\n",
        "\n",
        "```\n",
        "n_estimators = 200\n",
        "learning_rate = 1e-2\n",
        "max_depth = 15\n",
        "```\n",
        "\n"
      ],
      "metadata": {
        "id": "knAXjvF6QBum"
      }
    },
    {
      "cell_type": "code",
      "source": [
        "n_estimators = 200\n",
        "learning_rate = 1e-2\n",
        "max_depth = 15"
      ],
      "metadata": {
        "id": "HqeCzIErQBut"
      },
      "execution_count": null,
      "outputs": []
    },
    {
      "cell_type": "code",
      "source": [
        "with mlflow.start_run():\n",
        "  xgb = XGBClassifier(random_state=RANDOM_STATE, n_estimators=n_estimators, learning_rate=learning_rate, max_depth=max_depth)\n",
        "  xgb.fit(X_train, y_train)\n",
        "\n",
        "  y_pred = xgb.predict(X_val)\n",
        "  y_proba = xgb.predict_proba(X_val)\n",
        "\n",
        "  (acc, auroc, f1) = eval_metrics(y_val, y_pred, y_proba)\n",
        "\n",
        "  mlflow.log_param(\"n_estimators\", n_estimators)\n",
        "  mlflow.log_param(\"lr\", learning_rate)\n",
        "  mlflow.log_param(\"max_depth\", max_depth)\n",
        "  mlflow.log_metric(\"accuracy\", acc)\n",
        "  mlflow.log_metric(\"auroc\", auroc)\n",
        "  mlflow.log_metric(\"f1\", f1)\n",
        "\n",
        "  tracking_url_type_store = urlparse(mlflow.get_tracking_uri()).scheme\n",
        "\n",
        "  # Model registry does not work with file store\n",
        "  if tracking_url_type_store != \"file\":\n",
        "    # Register the model\n",
        "    # There are other ways to use the Model Registry, which depends on the use case,\n",
        "    # please refer to the doc for more information:\n",
        "    # https://mlflow.org/docs/latest/model-registry.html#api-workflow\n",
        "    mlflow.sklearn.log_model(xgb, \"model\", registered_model_name=\"XGB_NBA_Undrafted\")\n",
        "  else:\n",
        "    mlflow.sklearn.log_model(xgb, \"model\")"
      ],
      "metadata": {
        "id": "PJKECCaJQBut"
      },
      "execution_count": null,
      "outputs": []
    },
    {
      "cell_type": "code",
      "source": [
        "!cat /content/mlruns/0/5dcb815a2ad94bdfbd0ce1488408cd19/params/n_estimators"
      ],
      "metadata": {
        "outputId": "91be4a51-c258-4217-b549-6f5301fe4111",
        "colab": {
          "base_uri": "https://localhost:8080/"
        },
        "id": "yNxxm796QBut"
      },
      "execution_count": null,
      "outputs": [
        {
          "output_type": "stream",
          "name": "stdout",
          "text": [
            "200"
          ]
        }
      ]
    },
    {
      "cell_type": "code",
      "source": [
        "!cat /content/mlruns/0/5dcb815a2ad94bdfbd0ce1488408cd19/params/lr"
      ],
      "metadata": {
        "outputId": "a8dbaf67-89f0-43b3-ef2f-0b39892dbbad",
        "colab": {
          "base_uri": "https://localhost:8080/"
        },
        "id": "gvmK46LLQBuu"
      },
      "execution_count": null,
      "outputs": [
        {
          "output_type": "stream",
          "name": "stdout",
          "text": [
            "0.01"
          ]
        }
      ]
    },
    {
      "cell_type": "code",
      "source": [
        "!cat /content/mlruns/0/5dcb815a2ad94bdfbd0ce1488408cd19/params/max_depth"
      ],
      "metadata": {
        "outputId": "02d91322-d5ff-4db8-ae7b-563ea98b1f83",
        "colab": {
          "base_uri": "https://localhost:8080/"
        },
        "id": "oe8WJusKQBuu"
      },
      "execution_count": null,
      "outputs": [
        {
          "output_type": "stream",
          "name": "stdout",
          "text": [
            "15"
          ]
        }
      ]
    },
    {
      "cell_type": "code",
      "source": [
        "!cat /content/mlruns/0/5dcb815a2ad94bdfbd0ce1488408cd19/metrics/auroc"
      ],
      "metadata": {
        "outputId": "d52fd1bf-a73b-444d-8c39-99415d32d466",
        "colab": {
          "base_uri": "https://localhost:8080/"
        },
        "id": "MeanPmY-QBuu"
      },
      "execution_count": null,
      "outputs": [
        {
          "output_type": "stream",
          "name": "stdout",
          "text": [
            "1662123052672 0.8274377352653018 0\n"
          ]
        }
      ]
    },
    {
      "cell_type": "code",
      "source": [
        "!cat /content/mlruns/0/5dcb815a2ad94bdfbd0ce1488408cd19/metrics/f1"
      ],
      "metadata": {
        "outputId": "df4d64e2-b0a1-492b-a7cb-3e1f15639c34",
        "colab": {
          "base_uri": "https://localhost:8080/"
        },
        "id": "VCoxdCHaQBuu"
      },
      "execution_count": null,
      "outputs": [
        {
          "output_type": "stream",
          "name": "stdout",
          "text": [
            "1662123052673 0.799668596929013 0\n"
          ]
        }
      ]
    },
    {
      "cell_type": "code",
      "source": [
        "!cat /content/mlruns/0/5dcb815a2ad94bdfbd0ce1488408cd19/metrics/accuracy"
      ],
      "metadata": {
        "outputId": "155fe94e-e474-4c13-86a5-26a1a9059eab",
        "colab": {
          "base_uri": "https://localhost:8080/"
        },
        "id": "yPrpabHdQBuu"
      },
      "execution_count": null,
      "outputs": [
        {
          "output_type": "stream",
          "name": "stdout",
          "text": [
            "1662123052671 0.8340573414422241 0\n"
          ]
        }
      ]
    },
    {
      "cell_type": "markdown",
      "source": [
        "## Hyperparameter tuning\n",
        "Nossa tarefa agora é: utilizar os 4 algoritmos definidos acima para realizar o processo de *tuning* dos seus respectivos hiperparâmetros. Como já mencionado anteriormente, os algoritmos e parâmetros são:\n",
        "* `MLP`: `hidden_layer_sizes`, `activation` e `solver`\n",
        "* `LR`: `penalty` e `solver`\n",
        "* `RF`: `n_estimators`, `criterion` e `max_depth`\n",
        "* `XGB`: `n_estimators`, `learning_rate` e `max_depth`\n",
        "\n",
        "Como framework de otimização do processo, escolhemos o [Optuna](https://optuna.org/), com o qual, conseguimos treinar os modelos de maneira rápida e paralelizada seguindo o passo a passo:\n",
        "\n",
        "1. Definir uma função de objetivo\n",
        "2. Definir o conjunto de hiperparâmetros a serem testados\n",
        "3. Definir a métrica a ser otimizada (maximizada ou minimizada)\n",
        "4. Executar a função"
      ],
      "metadata": {
        "id": "EpRkkValRqwf"
      }
    },
    {
      "cell_type": "markdown",
      "source": [
        "### Optuna Study Geral\n",
        "No jargão do optuna, o termo *Trial* é uma chamada única da função de objetivo, e múltiplos *Trials* juntos são chamados de *Study*.\n",
        "\n"
      ],
      "metadata": {
        "id": "ilemt9MnX9yL"
      }
    },
    {
      "cell_type": "code",
      "source": [
        "# Passo 1. Definindo função de objetivo a ser maximizada\n",
        "def objective(trial):\n",
        "  classifier = trial.suggest_categorical(\"classifier\", [\"MLP\", \"LR\", \"RF\", \"XGB\"])\n",
        "  \n",
        "  # Passo 2. Definindo conjunto de hiperparâmetros\n",
        "  if classifier == 'LR':\n",
        "    lr_penalty = trial.suggest_categorical(\"lr_penalty\", ['l1', 'l2'])\n",
        "    lr_solver = trial.suggest_categorical(\"lr_solver\", ['liblinear', 'saga'])\n",
        "    clf = LogisticRegression(random_state=RANDOM_STATE, penalty=lr_penalty, solver=lr_solver, max_iter=EPOCHS)\n",
        "  elif classifier == 'RF':\n",
        "    rf_n_estimators = trial.suggest_int(\"rf_n_estimators\", 50, 1000)\n",
        "    rf_criterion = trial.suggest_categorical('rf_criterion', ['gini', 'entropy'])\n",
        "    rf_max_depth = trial.suggest_int(\"rf_max_depth\", 2, 32)\n",
        "    clf = RandomForestClassifier(\n",
        "        random_state=RANDOM_STATE, \n",
        "        max_depth=rf_max_depth, \n",
        "        n_estimators=rf_n_estimators, \n",
        "        criterion=rf_criterion\n",
        "    )\n",
        "  elif classifier == 'MLP':\n",
        "    mlp_hidden_layer_sizes = trial.suggest_categorical(\"mlp_hidden_layer_sizes\", [(50,), (100,), (50,50)])\n",
        "    mlp_activation = trial.suggest_categorical(\"mlp_activation\", ['logistic', 'tanh', 'relu'])\n",
        "    mlp_solver = trial.suggest_categorical(\"mlp_solver\", ['adam', 'sgd'])\n",
        "    clf = MLPClassifier(\n",
        "        random_state=RANDOM_STATE, \n",
        "        max_iter=EPOCHS, \n",
        "        hidden_layer_sizes=mlp_hidden_layer_sizes, \n",
        "        activation=mlp_activation, \n",
        "        solver=mlp_solver\n",
        "    )\n",
        "  else:\n",
        "    xgb_n_estimators = trial.suggest_int(\"xgb_n_estimators\", 50, 1000)\n",
        "    xgb_learning_rate = trial.suggest_loguniform('xgb_learning_rate', 1e-5, 1e-2)\n",
        "    xgb_max_depth = trial.suggest_int(\"xgb_max_depth\", 2, 32)\n",
        "    clf = XGBClassifier(\n",
        "        random_state=RANDOM_STATE, \n",
        "        n_estimators=xgb_n_estimators, \n",
        "        learning_rate=xgb_learning_rate, \n",
        "        max_depth=xgb_max_depth\n",
        "    )\n",
        "  \n",
        "  # Treinando o modelo\n",
        "  clf.fit(X_train, y_train)\n",
        "\n",
        "  y_pred = clf.predict(X_val)\n",
        "  y_proba = clf.predict_proba(X_val)\n",
        "\n",
        "  # Passo 3: Métrica otimizada\n",
        "  acc, auroc, f1 = eval_metrics(y_val, y_pred, y_proba)\n",
        "  return f1"
      ],
      "metadata": {
        "id": "zNzURElXS9Id"
      },
      "execution_count": null,
      "outputs": []
    },
    {
      "cell_type": "markdown",
      "source": [
        "Agora, finalmente executando o passo 4:"
      ],
      "metadata": {
        "id": "eNKDHmE7d6pG"
      }
    },
    {
      "cell_type": "code",
      "source": [
        "# Passo 4: Rodar o estudo\n",
        "study = optuna.create_study(direction=\"maximize\")\n",
        "study.optimize(objective, n_trials=100)"
      ],
      "metadata": {
        "colab": {
          "base_uri": "https://localhost:8080/"
        },
        "id": "xNJ4FLapd-x-",
        "outputId": "51fcd5c1-acae-41b3-9316-809acd477a01"
      },
      "execution_count": null,
      "outputs": [
        {
          "output_type": "stream",
          "name": "stderr",
          "text": [
            "\u001b[32m[I 2022-09-02 16:20:10,123]\u001b[0m A new study created in memory with name: no-name-38064bc0-5cf1-463e-8ffc-57954264cc13\u001b[0m\n",
            "/usr/local/lib/python3.7/dist-packages/ipykernel_launcher.py:33: FutureWarning:\n",
            "\n",
            "suggest_loguniform has been deprecated in v3.0.0. This feature will be removed in v6.0.0. See https://github.com/optuna/optuna/releases/tag/v3.0.0. Use :func:`~optuna.trial.Trial.suggest_float` instead.\n",
            "\n",
            "\u001b[32m[I 2022-09-02 16:20:13,232]\u001b[0m Trial 0 finished with value: 0.7870334497214272 and parameters: {'classifier': 'XGB', 'xgb_n_estimators': 72, 'xgb_learning_rate': 1.8822901620188696e-05, 'xgb_max_depth': 31}. Best is trial 0 with value: 0.7870334497214272.\u001b[0m\n",
            "/usr/local/lib/python3.7/dist-packages/optuna/distributions.py:502: UserWarning:\n",
            "\n",
            "Choices for a categorical distribution should be a tuple of None, bool, int, float and str for persistent storage but contains (50,) which is of type tuple.\n",
            "\n",
            "/usr/local/lib/python3.7/dist-packages/optuna/distributions.py:502: UserWarning:\n",
            "\n",
            "Choices for a categorical distribution should be a tuple of None, bool, int, float and str for persistent storage but contains (100,) which is of type tuple.\n",
            "\n",
            "/usr/local/lib/python3.7/dist-packages/optuna/distributions.py:502: UserWarning:\n",
            "\n",
            "Choices for a categorical distribution should be a tuple of None, bool, int, float and str for persistent storage but contains (50, 50) which is of type tuple.\n",
            "\n",
            "\u001b[32m[I 2022-09-02 16:20:26,767]\u001b[0m Trial 1 finished with value: 0.7711609688544775 and parameters: {'classifier': 'MLP', 'mlp_hidden_layer_sizes': (50, 50), 'mlp_activation': 'logistic', 'mlp_solver': 'adam'}. Best is trial 0 with value: 0.7870334497214272.\u001b[0m\n",
            "/usr/local/lib/python3.7/dist-packages/optuna/distributions.py:502: UserWarning:\n",
            "\n",
            "Choices for a categorical distribution should be a tuple of None, bool, int, float and str for persistent storage but contains (50,) which is of type tuple.\n",
            "\n",
            "/usr/local/lib/python3.7/dist-packages/optuna/distributions.py:502: UserWarning:\n",
            "\n",
            "Choices for a categorical distribution should be a tuple of None, bool, int, float and str for persistent storage but contains (100,) which is of type tuple.\n",
            "\n",
            "/usr/local/lib/python3.7/dist-packages/optuna/distributions.py:502: UserWarning:\n",
            "\n",
            "Choices for a categorical distribution should be a tuple of None, bool, int, float and str for persistent storage but contains (50, 50) which is of type tuple.\n",
            "\n",
            "\u001b[32m[I 2022-09-02 16:20:28,595]\u001b[0m Trial 2 finished with value: 0.7415467133346342 and parameters: {'classifier': 'MLP', 'mlp_hidden_layer_sizes': (50,), 'mlp_activation': 'tanh', 'mlp_solver': 'sgd'}. Best is trial 0 with value: 0.7870334497214272.\u001b[0m\n",
            "/usr/local/lib/python3.7/dist-packages/ipykernel_launcher.py:33: FutureWarning:\n",
            "\n",
            "suggest_loguniform has been deprecated in v3.0.0. This feature will be removed in v6.0.0. See https://github.com/optuna/optuna/releases/tag/v3.0.0. Use :func:`~optuna.trial.Trial.suggest_float` instead.\n",
            "\n",
            "\u001b[32m[I 2022-09-02 16:20:37,270]\u001b[0m Trial 3 finished with value: 0.783203064064518 and parameters: {'classifier': 'XGB', 'xgb_n_estimators': 508, 'xgb_learning_rate': 2.9872297775031305e-05, 'xgb_max_depth': 8}. Best is trial 0 with value: 0.7870334497214272.\u001b[0m\n",
            "/usr/local/lib/python3.7/dist-packages/sklearn/linear_model/_sag.py:354: ConvergenceWarning:\n",
            "\n",
            "The max_iter was reached which means the coef_ did not converge\n",
            "\n",
            "\u001b[32m[I 2022-09-02 16:20:39,706]\u001b[0m Trial 4 finished with value: 0.7415467133346342 and parameters: {'classifier': 'LR', 'lr_penalty': 'l2', 'lr_solver': 'saga'}. Best is trial 0 with value: 0.7870334497214272.\u001b[0m\n",
            "/usr/local/lib/python3.7/dist-packages/sklearn/linear_model/_sag.py:354: ConvergenceWarning:\n",
            "\n",
            "The max_iter was reached which means the coef_ did not converge\n",
            "\n",
            "\u001b[32m[I 2022-09-02 16:20:42,172]\u001b[0m Trial 5 finished with value: 0.7415467133346342 and parameters: {'classifier': 'LR', 'lr_penalty': 'l2', 'lr_solver': 'saga'}. Best is trial 0 with value: 0.7870334497214272.\u001b[0m\n",
            "/usr/local/lib/python3.7/dist-packages/optuna/distributions.py:502: UserWarning:\n",
            "\n",
            "Choices for a categorical distribution should be a tuple of None, bool, int, float and str for persistent storage but contains (50,) which is of type tuple.\n",
            "\n",
            "/usr/local/lib/python3.7/dist-packages/optuna/distributions.py:502: UserWarning:\n",
            "\n",
            "Choices for a categorical distribution should be a tuple of None, bool, int, float and str for persistent storage but contains (100,) which is of type tuple.\n",
            "\n",
            "/usr/local/lib/python3.7/dist-packages/optuna/distributions.py:502: UserWarning:\n",
            "\n",
            "Choices for a categorical distribution should be a tuple of None, bool, int, float and str for persistent storage but contains (50, 50) which is of type tuple.\n",
            "\n",
            "\u001b[32m[I 2022-09-02 16:20:43,917]\u001b[0m Trial 6 finished with value: 0.7469401641672903 and parameters: {'classifier': 'MLP', 'mlp_hidden_layer_sizes': (50,), 'mlp_activation': 'relu', 'mlp_solver': 'adam'}. Best is trial 0 with value: 0.7870334497214272.\u001b[0m\n",
            "/usr/local/lib/python3.7/dist-packages/optuna/distributions.py:502: UserWarning:\n",
            "\n",
            "Choices for a categorical distribution should be a tuple of None, bool, int, float and str for persistent storage but contains (50,) which is of type tuple.\n",
            "\n",
            "/usr/local/lib/python3.7/dist-packages/optuna/distributions.py:502: UserWarning:\n",
            "\n",
            "Choices for a categorical distribution should be a tuple of None, bool, int, float and str for persistent storage but contains (100,) which is of type tuple.\n",
            "\n",
            "/usr/local/lib/python3.7/dist-packages/optuna/distributions.py:502: UserWarning:\n",
            "\n",
            "Choices for a categorical distribution should be a tuple of None, bool, int, float and str for persistent storage but contains (50, 50) which is of type tuple.\n",
            "\n",
            "\u001b[32m[I 2022-09-02 16:20:45,350]\u001b[0m Trial 7 finished with value: 0.7415467133346342 and parameters: {'classifier': 'MLP', 'mlp_hidden_layer_sizes': (50, 50), 'mlp_activation': 'logistic', 'mlp_solver': 'sgd'}. Best is trial 0 with value: 0.7870334497214272.\u001b[0m\n",
            "\u001b[32m[I 2022-09-02 16:20:45,452]\u001b[0m Trial 8 finished with value: 0.7538235059016244 and parameters: {'classifier': 'LR', 'lr_penalty': 'l2', 'lr_solver': 'liblinear'}. Best is trial 0 with value: 0.7870334497214272.\u001b[0m\n",
            "/usr/local/lib/python3.7/dist-packages/sklearn/linear_model/_sag.py:354: ConvergenceWarning:\n",
            "\n",
            "The max_iter was reached which means the coef_ did not converge\n",
            "\n",
            "\u001b[32m[I 2022-09-02 16:20:47,943]\u001b[0m Trial 9 finished with value: 0.7415467133346342 and parameters: {'classifier': 'LR', 'lr_penalty': 'l2', 'lr_solver': 'saga'}. Best is trial 0 with value: 0.7870334497214272.\u001b[0m\n",
            "\u001b[32m[I 2022-09-02 16:20:58,205]\u001b[0m Trial 10 finished with value: 0.7798625966459564 and parameters: {'classifier': 'RF', 'rf_n_estimators': 481, 'rf_criterion': 'entropy', 'rf_max_depth': 18}. Best is trial 0 with value: 0.7870334497214272.\u001b[0m\n",
            "/usr/local/lib/python3.7/dist-packages/ipykernel_launcher.py:33: FutureWarning:\n",
            "\n",
            "suggest_loguniform has been deprecated in v3.0.0. This feature will be removed in v6.0.0. See https://github.com/optuna/optuna/releases/tag/v3.0.0. Use :func:`~optuna.trial.Trial.suggest_float` instead.\n",
            "\n",
            "\u001b[32m[I 2022-09-02 16:20:59,977]\u001b[0m Trial 11 finished with value: 0.7781392514958982 and parameters: {'classifier': 'XGB', 'xgb_n_estimators': 85, 'xgb_learning_rate': 1.8362520156556426e-05, 'xgb_max_depth': 9}. Best is trial 0 with value: 0.7870334497214272.\u001b[0m\n",
            "/usr/local/lib/python3.7/dist-packages/ipykernel_launcher.py:33: FutureWarning:\n",
            "\n",
            "suggest_loguniform has been deprecated in v3.0.0. This feature will be removed in v6.0.0. See https://github.com/optuna/optuna/releases/tag/v3.0.0. Use :func:`~optuna.trial.Trial.suggest_float` instead.\n",
            "\n",
            "\u001b[32m[I 2022-09-02 16:21:32,360]\u001b[0m Trial 12 finished with value: 0.7861373424312416 and parameters: {'classifier': 'XGB', 'xgb_n_estimators': 758, 'xgb_learning_rate': 2.18913832003796e-05, 'xgb_max_depth': 30}. Best is trial 0 with value: 0.7870334497214272.\u001b[0m\n",
            "/usr/local/lib/python3.7/dist-packages/ipykernel_launcher.py:33: FutureWarning:\n",
            "\n",
            "suggest_loguniform has been deprecated in v3.0.0. This feature will be removed in v6.0.0. See https://github.com/optuna/optuna/releases/tag/v3.0.0. Use :func:`~optuna.trial.Trial.suggest_float` instead.\n",
            "\n",
            "\u001b[32m[I 2022-09-02 16:22:14,079]\u001b[0m Trial 13 finished with value: 0.8123376506191605 and parameters: {'classifier': 'XGB', 'xgb_n_estimators': 866, 'xgb_learning_rate': 0.006140176021825139, 'xgb_max_depth': 31}. Best is trial 13 with value: 0.8123376506191605.\u001b[0m\n",
            "/usr/local/lib/python3.7/dist-packages/ipykernel_launcher.py:33: FutureWarning:\n",
            "\n",
            "suggest_loguniform has been deprecated in v3.0.0. This feature will be removed in v6.0.0. See https://github.com/optuna/optuna/releases/tag/v3.0.0. Use :func:`~optuna.trial.Trial.suggest_float` instead.\n",
            "\n",
            "\u001b[32m[I 2022-09-02 16:22:57,548]\u001b[0m Trial 14 finished with value: 0.8213849209014659 and parameters: {'classifier': 'XGB', 'xgb_n_estimators': 957, 'xgb_learning_rate': 0.00964624503661862, 'xgb_max_depth': 32}. Best is trial 14 with value: 0.8213849209014659.\u001b[0m\n",
            "/usr/local/lib/python3.7/dist-packages/ipykernel_launcher.py:33: FutureWarning:\n",
            "\n",
            "suggest_loguniform has been deprecated in v3.0.0. This feature will be removed in v6.0.0. See https://github.com/optuna/optuna/releases/tag/v3.0.0. Use :func:`~optuna.trial.Trial.suggest_float` instead.\n",
            "\n",
            "\u001b[32m[I 2022-09-02 16:23:41,902]\u001b[0m Trial 15 finished with value: 0.8255215762124491 and parameters: {'classifier': 'XGB', 'xgb_n_estimators': 997, 'xgb_learning_rate': 0.007873399300039278, 'xgb_max_depth': 23}. Best is trial 15 with value: 0.8255215762124491.\u001b[0m\n",
            "\u001b[32m[I 2022-09-02 16:23:57,281]\u001b[0m Trial 16 finished with value: 0.782089051359182 and parameters: {'classifier': 'RF', 'rf_n_estimators': 916, 'rf_criterion': 'gini', 'rf_max_depth': 30}. Best is trial 15 with value: 0.8255215762124491.\u001b[0m\n",
            "/usr/local/lib/python3.7/dist-packages/ipykernel_launcher.py:33: FutureWarning:\n",
            "\n",
            "suggest_loguniform has been deprecated in v3.0.0. This feature will be removed in v6.0.0. See https://github.com/optuna/optuna/releases/tag/v3.0.0. Use :func:`~optuna.trial.Trial.suggest_float` instead.\n",
            "\n",
            "\u001b[32m[I 2022-09-02 16:24:37,900]\u001b[0m Trial 17 finished with value: 0.8234618404258675 and parameters: {'classifier': 'XGB', 'xgb_n_estimators': 1000, 'xgb_learning_rate': 0.009103959625471612, 'xgb_max_depth': 19}. Best is trial 15 with value: 0.8255215762124491.\u001b[0m\n",
            "/usr/local/lib/python3.7/dist-packages/ipykernel_launcher.py:33: FutureWarning:\n",
            "\n",
            "suggest_loguniform has been deprecated in v3.0.0. This feature will be removed in v6.0.0. See https://github.com/optuna/optuna/releases/tag/v3.0.0. Use :func:`~optuna.trial.Trial.suggest_float` instead.\n",
            "\n",
            "\u001b[32m[I 2022-09-02 16:25:08,756]\u001b[0m Trial 18 finished with value: 0.7985982666801513 and parameters: {'classifier': 'XGB', 'xgb_n_estimators': 694, 'xgb_learning_rate': 0.001310427039076407, 'xgb_max_depth': 19}. Best is trial 15 with value: 0.8255215762124491.\u001b[0m\n",
            "/usr/local/lib/python3.7/dist-packages/ipykernel_launcher.py:33: FutureWarning:\n",
            "\n",
            "suggest_loguniform has been deprecated in v3.0.0. This feature will be removed in v6.0.0. See https://github.com/optuna/optuna/releases/tag/v3.0.0. Use :func:`~optuna.trial.Trial.suggest_float` instead.\n",
            "\n",
            "\u001b[32m[I 2022-09-02 16:25:55,035]\u001b[0m Trial 19 finished with value: 0.8078532878150962 and parameters: {'classifier': 'XGB', 'xgb_n_estimators': 999, 'xgb_learning_rate': 0.0012624669444464183, 'xgb_max_depth': 20}. Best is trial 15 with value: 0.8255215762124491.\u001b[0m\n",
            "\u001b[32m[I 2022-09-02 16:25:55,585]\u001b[0m Trial 20 finished with value: 0.7415467133346342 and parameters: {'classifier': 'RF', 'rf_n_estimators': 108, 'rf_criterion': 'gini', 'rf_max_depth': 2}. Best is trial 15 with value: 0.8255215762124491.\u001b[0m\n",
            "/usr/local/lib/python3.7/dist-packages/ipykernel_launcher.py:33: FutureWarning:\n",
            "\n",
            "suggest_loguniform has been deprecated in v3.0.0. This feature will be removed in v6.0.0. See https://github.com/optuna/optuna/releases/tag/v3.0.0. Use :func:`~optuna.trial.Trial.suggest_float` instead.\n",
            "\n",
            "\u001b[32m[I 2022-09-02 16:26:39,724]\u001b[0m Trial 21 finished with value: 0.8227705469619327 and parameters: {'classifier': 'XGB', 'xgb_n_estimators': 999, 'xgb_learning_rate': 0.009947921189194173, 'xgb_max_depth': 25}. Best is trial 15 with value: 0.8255215762124491.\u001b[0m\n",
            "/usr/local/lib/python3.7/dist-packages/ipykernel_launcher.py:33: FutureWarning:\n",
            "\n",
            "suggest_loguniform has been deprecated in v3.0.0. This feature will be removed in v6.0.0. See https://github.com/optuna/optuna/releases/tag/v3.0.0. Use :func:`~optuna.trial.Trial.suggest_float` instead.\n",
            "\n",
            "\u001b[32m[I 2022-09-02 16:27:26,871]\u001b[0m Trial 22 finished with value: 0.8117364238004361 and parameters: {'classifier': 'XGB', 'xgb_n_estimators': 997, 'xgb_learning_rate': 0.0030006002237342004, 'xgb_max_depth': 23}. Best is trial 15 with value: 0.8255215762124491.\u001b[0m\n",
            "/usr/local/lib/python3.7/dist-packages/ipykernel_launcher.py:33: FutureWarning:\n",
            "\n",
            "suggest_loguniform has been deprecated in v3.0.0. This feature will be removed in v6.0.0. See https://github.com/optuna/optuna/releases/tag/v3.0.0. Use :func:`~optuna.trial.Trial.suggest_float` instead.\n",
            "\n",
            "\u001b[32m[I 2022-09-02 16:28:02,660]\u001b[0m Trial 23 finished with value: 0.8130772428038596 and parameters: {'classifier': 'XGB', 'xgb_n_estimators': 787, 'xgb_learning_rate': 0.009595151113103387, 'xgb_max_depth': 25}. Best is trial 15 with value: 0.8255215762124491.\u001b[0m\n",
            "/usr/local/lib/python3.7/dist-packages/ipykernel_launcher.py:33: FutureWarning:\n",
            "\n",
            "suggest_loguniform has been deprecated in v3.0.0. This feature will be removed in v6.0.0. See https://github.com/optuna/optuna/releases/tag/v3.0.0. Use :func:`~optuna.trial.Trial.suggest_float` instead.\n",
            "\n",
            "\u001b[32m[I 2022-09-02 16:28:20,420]\u001b[0m Trial 24 finished with value: 0.785722329664282 and parameters: {'classifier': 'XGB', 'xgb_n_estimators': 593, 'xgb_learning_rate': 0.0001970030436434803, 'xgb_max_depth': 12}. Best is trial 15 with value: 0.8255215762124491.\u001b[0m\n",
            "/usr/local/lib/python3.7/dist-packages/ipykernel_launcher.py:33: FutureWarning:\n",
            "\n",
            "suggest_loguniform has been deprecated in v3.0.0. This feature will be removed in v6.0.0. See https://github.com/optuna/optuna/releases/tag/v3.0.0. Use :func:`~optuna.trial.Trial.suggest_float` instead.\n",
            "\n",
            "\u001b[32m[I 2022-09-02 16:28:54,399]\u001b[0m Trial 25 finished with value: 0.8017663079559344 and parameters: {'classifier': 'XGB', 'xgb_n_estimators': 869, 'xgb_learning_rate': 0.00268671237683421, 'xgb_max_depth': 15}. Best is trial 15 with value: 0.8255215762124491.\u001b[0m\n",
            "/usr/local/lib/python3.7/dist-packages/ipykernel_launcher.py:33: FutureWarning:\n",
            "\n",
            "suggest_loguniform has been deprecated in v3.0.0. This feature will be removed in v6.0.0. See https://github.com/optuna/optuna/releases/tag/v3.0.0. Use :func:`~optuna.trial.Trial.suggest_float` instead.\n",
            "\n",
            "\u001b[32m[I 2022-09-02 16:29:11,520]\u001b[0m Trial 26 finished with value: 0.8065367312989518 and parameters: {'classifier': 'XGB', 'xgb_n_estimators': 364, 'xgb_learning_rate': 0.0033077580522038966, 'xgb_max_depth': 25}. Best is trial 15 with value: 0.8255215762124491.\u001b[0m\n",
            "/usr/local/lib/python3.7/dist-packages/ipykernel_launcher.py:33: FutureWarning:\n",
            "\n",
            "suggest_loguniform has been deprecated in v3.0.0. This feature will be removed in v6.0.0. See https://github.com/optuna/optuna/releases/tag/v3.0.0. Use :func:`~optuna.trial.Trial.suggest_float` instead.\n",
            "\n",
            "\u001b[32m[I 2022-09-02 16:29:48,583]\u001b[0m Trial 27 finished with value: 0.7966144588600547 and parameters: {'classifier': 'XGB', 'xgb_n_estimators': 873, 'xgb_learning_rate': 0.0003558439746326366, 'xgb_max_depth': 22}. Best is trial 15 with value: 0.8255215762124491.\u001b[0m\n",
            "\u001b[32m[I 2022-09-02 16:29:52,502]\u001b[0m Trial 28 finished with value: 0.7415467133346342 and parameters: {'classifier': 'RF', 'rf_n_estimators': 834, 'rf_criterion': 'entropy', 'rf_max_depth': 2}. Best is trial 15 with value: 0.8255215762124491.\u001b[0m\n",
            "/usr/local/lib/python3.7/dist-packages/ipykernel_launcher.py:33: FutureWarning:\n",
            "\n",
            "suggest_loguniform has been deprecated in v3.0.0. This feature will be removed in v6.0.0. See https://github.com/optuna/optuna/releases/tag/v3.0.0. Use :func:`~optuna.trial.Trial.suggest_float` instead.\n",
            "\n",
            "\u001b[32m[I 2022-09-02 16:30:29,830]\u001b[0m Trial 29 finished with value: 0.8103333923627702 and parameters: {'classifier': 'XGB', 'xgb_n_estimators': 888, 'xgb_learning_rate': 0.0049045374931750655, 'xgb_max_depth': 17}. Best is trial 15 with value: 0.8255215762124491.\u001b[0m\n",
            "/usr/local/lib/python3.7/dist-packages/ipykernel_launcher.py:33: FutureWarning:\n",
            "\n",
            "suggest_loguniform has been deprecated in v3.0.0. This feature will be removed in v6.0.0. See https://github.com/optuna/optuna/releases/tag/v3.0.0. Use :func:`~optuna.trial.Trial.suggest_float` instead.\n",
            "\n",
            "\u001b[32m[I 2022-09-02 16:30:45,628]\u001b[0m Trial 30 finished with value: 0.7966495267655833 and parameters: {'classifier': 'XGB', 'xgb_n_estimators': 359, 'xgb_learning_rate': 0.0014708503884253879, 'xgb_max_depth': 27}. Best is trial 15 with value: 0.8255215762124491.\u001b[0m\n",
            "/usr/local/lib/python3.7/dist-packages/ipykernel_launcher.py:33: FutureWarning:\n",
            "\n",
            "suggest_loguniform has been deprecated in v3.0.0. This feature will be removed in v6.0.0. See https://github.com/optuna/optuna/releases/tag/v3.0.0. Use :func:`~optuna.trial.Trial.suggest_float` instead.\n",
            "\n",
            "\u001b[32m[I 2022-09-02 16:31:30,121]\u001b[0m Trial 31 finished with value: 0.8261487130424559 and parameters: {'classifier': 'XGB', 'xgb_n_estimators': 994, 'xgb_learning_rate': 0.009200621285723803, 'xgb_max_depth': 27}. Best is trial 31 with value: 0.8261487130424559.\u001b[0m\n",
            "/usr/local/lib/python3.7/dist-packages/ipykernel_launcher.py:33: FutureWarning:\n",
            "\n",
            "suggest_loguniform has been deprecated in v3.0.0. This feature will be removed in v6.0.0. See https://github.com/optuna/optuna/releases/tag/v3.0.0. Use :func:`~optuna.trial.Trial.suggest_float` instead.\n",
            "\n",
            "\u001b[32m[I 2022-09-02 16:32:14,219]\u001b[0m Trial 32 finished with value: 0.8220753434508655 and parameters: {'classifier': 'XGB', 'xgb_n_estimators': 984, 'xgb_learning_rate': 0.009486134543180189, 'xgb_max_depth': 27}. Best is trial 31 with value: 0.8261487130424559.\u001b[0m\n",
            "/usr/local/lib/python3.7/dist-packages/ipykernel_launcher.py:33: FutureWarning:\n",
            "\n",
            "suggest_loguniform has been deprecated in v3.0.0. This feature will be removed in v6.0.0. See https://github.com/optuna/optuna/releases/tag/v3.0.0. Use :func:`~optuna.trial.Trial.suggest_float` instead.\n",
            "\n",
            "\u001b[32m[I 2022-09-02 16:32:55,777]\u001b[0m Trial 33 finished with value: 0.8144791105624911 and parameters: {'classifier': 'XGB', 'xgb_n_estimators': 890, 'xgb_learning_rate': 0.0046192967869720615, 'xgb_max_depth': 22}. Best is trial 31 with value: 0.8261487130424559.\u001b[0m\n",
            "/usr/local/lib/python3.7/dist-packages/optuna/distributions.py:502: UserWarning:\n",
            "\n",
            "Choices for a categorical distribution should be a tuple of None, bool, int, float and str for persistent storage but contains (50,) which is of type tuple.\n",
            "\n",
            "/usr/local/lib/python3.7/dist-packages/optuna/distributions.py:502: UserWarning:\n",
            "\n",
            "Choices for a categorical distribution should be a tuple of None, bool, int, float and str for persistent storage but contains (100,) which is of type tuple.\n",
            "\n",
            "/usr/local/lib/python3.7/dist-packages/optuna/distributions.py:502: UserWarning:\n",
            "\n",
            "Choices for a categorical distribution should be a tuple of None, bool, int, float and str for persistent storage but contains (50, 50) which is of type tuple.\n",
            "\n",
            "\u001b[32m[I 2022-09-02 16:32:58,168]\u001b[0m Trial 34 finished with value: 0.7415467133346342 and parameters: {'classifier': 'MLP', 'mlp_hidden_layer_sizes': (100,), 'mlp_activation': 'relu', 'mlp_solver': 'sgd'}. Best is trial 31 with value: 0.8261487130424559.\u001b[0m\n",
            "/usr/local/lib/python3.7/dist-packages/ipykernel_launcher.py:33: FutureWarning:\n",
            "\n",
            "suggest_loguniform has been deprecated in v3.0.0. This feature will be removed in v6.0.0. See https://github.com/optuna/optuna/releases/tag/v3.0.0. Use :func:`~optuna.trial.Trial.suggest_float` instead.\n",
            "\n",
            "\u001b[32m[I 2022-09-02 16:33:32,709]\u001b[0m Trial 35 finished with value: 0.8005045120401695 and parameters: {'classifier': 'XGB', 'xgb_n_estimators': 807, 'xgb_learning_rate': 0.00046693534617925174, 'xgb_max_depth': 28}. Best is trial 31 with value: 0.8261487130424559.\u001b[0m\n",
            "/usr/local/lib/python3.7/dist-packages/ipykernel_launcher.py:33: FutureWarning:\n",
            "\n",
            "suggest_loguniform has been deprecated in v3.0.0. This feature will be removed in v6.0.0. See https://github.com/optuna/optuna/releases/tag/v3.0.0. Use :func:`~optuna.trial.Trial.suggest_float` instead.\n",
            "\n",
            "\u001b[32m[I 2022-09-02 16:33:36,194]\u001b[0m Trial 36 finished with value: 0.7411162547005261 and parameters: {'classifier': 'XGB', 'xgb_n_estimators': 937, 'xgb_learning_rate': 0.005592776893011815, 'xgb_max_depth': 2}. Best is trial 31 with value: 0.8261487130424559.\u001b[0m\n",
            "\u001b[32m[I 2022-09-02 16:33:36,431]\u001b[0m Trial 37 finished with value: 0.7590172385817247 and parameters: {'classifier': 'LR', 'lr_penalty': 'l1', 'lr_solver': 'liblinear'}. Best is trial 31 with value: 0.8261487130424559.\u001b[0m\n",
            "/usr/local/lib/python3.7/dist-packages/optuna/distributions.py:502: UserWarning:\n",
            "\n",
            "Choices for a categorical distribution should be a tuple of None, bool, int, float and str for persistent storage but contains (50,) which is of type tuple.\n",
            "\n",
            "/usr/local/lib/python3.7/dist-packages/optuna/distributions.py:502: UserWarning:\n",
            "\n",
            "Choices for a categorical distribution should be a tuple of None, bool, int, float and str for persistent storage but contains (100,) which is of type tuple.\n",
            "\n",
            "/usr/local/lib/python3.7/dist-packages/optuna/distributions.py:502: UserWarning:\n",
            "\n",
            "Choices for a categorical distribution should be a tuple of None, bool, int, float and str for persistent storage but contains (50, 50) which is of type tuple.\n",
            "\n",
            "\u001b[32m[I 2022-09-02 16:33:43,246]\u001b[0m Trial 38 finished with value: 0.7414321194381616 and parameters: {'classifier': 'MLP', 'mlp_hidden_layer_sizes': (100,), 'mlp_activation': 'tanh', 'mlp_solver': 'adam'}. Best is trial 31 with value: 0.8261487130424559.\u001b[0m\n",
            "/usr/local/lib/python3.7/dist-packages/ipykernel_launcher.py:33: FutureWarning:\n",
            "\n",
            "suggest_loguniform has been deprecated in v3.0.0. This feature will be removed in v6.0.0. See https://github.com/optuna/optuna/releases/tag/v3.0.0. Use :func:`~optuna.trial.Trial.suggest_float` instead.\n",
            "\n",
            "\u001b[32m[I 2022-09-02 16:34:11,581]\u001b[0m Trial 39 finished with value: 0.786682579656081 and parameters: {'classifier': 'XGB', 'xgb_n_estimators': 677, 'xgb_learning_rate': 0.00013760472107662635, 'xgb_max_depth': 24}. Best is trial 31 with value: 0.8261487130424559.\u001b[0m\n",
            "\u001b[32m[I 2022-09-02 16:34:11,818]\u001b[0m Trial 40 finished with value: 0.7590172385817247 and parameters: {'classifier': 'LR', 'lr_penalty': 'l1', 'lr_solver': 'liblinear'}. Best is trial 31 with value: 0.8261487130424559.\u001b[0m\n",
            "/usr/local/lib/python3.7/dist-packages/ipykernel_launcher.py:33: FutureWarning:\n",
            "\n",
            "suggest_loguniform has been deprecated in v3.0.0. This feature will be removed in v6.0.0. See https://github.com/optuna/optuna/releases/tag/v3.0.0. Use :func:`~optuna.trial.Trial.suggest_float` instead.\n",
            "\n",
            "\u001b[32m[I 2022-09-02 16:34:55,818]\u001b[0m Trial 41 finished with value: 0.8227482107525057 and parameters: {'classifier': 'XGB', 'xgb_n_estimators': 993, 'xgb_learning_rate': 0.009851319688074105, 'xgb_max_depth': 27}. Best is trial 31 with value: 0.8261487130424559.\u001b[0m\n",
            "/usr/local/lib/python3.7/dist-packages/ipykernel_launcher.py:33: FutureWarning:\n",
            "\n",
            "suggest_loguniform has been deprecated in v3.0.0. This feature will be removed in v6.0.0. See https://github.com/optuna/optuna/releases/tag/v3.0.0. Use :func:`~optuna.trial.Trial.suggest_float` instead.\n",
            "\n",
            "\u001b[32m[I 2022-09-02 16:35:38,121]\u001b[0m Trial 42 finished with value: 0.8275456542114262 and parameters: {'classifier': 'XGB', 'xgb_n_estimators': 1000, 'xgb_learning_rate': 0.008758571731671263, 'xgb_max_depth': 20}. Best is trial 42 with value: 0.8275456542114262.\u001b[0m\n",
            "/usr/local/lib/python3.7/dist-packages/ipykernel_launcher.py:33: FutureWarning:\n",
            "\n",
            "suggest_loguniform has been deprecated in v3.0.0. This feature will be removed in v6.0.0. See https://github.com/optuna/optuna/releases/tag/v3.0.0. Use :func:`~optuna.trial.Trial.suggest_float` instead.\n",
            "\n",
            "\u001b[32m[I 2022-09-02 16:36:19,203]\u001b[0m Trial 43 finished with value: 0.8138052543081236 and parameters: {'classifier': 'XGB', 'xgb_n_estimators': 924, 'xgb_learning_rate': 0.0022811079859347276, 'xgb_max_depth': 18}. Best is trial 42 with value: 0.8275456542114262.\u001b[0m\n",
            "/usr/local/lib/python3.7/dist-packages/optuna/distributions.py:502: UserWarning:\n",
            "\n",
            "Choices for a categorical distribution should be a tuple of None, bool, int, float and str for persistent storage but contains (50,) which is of type tuple.\n",
            "\n",
            "/usr/local/lib/python3.7/dist-packages/optuna/distributions.py:502: UserWarning:\n",
            "\n",
            "Choices for a categorical distribution should be a tuple of None, bool, int, float and str for persistent storage but contains (100,) which is of type tuple.\n",
            "\n",
            "/usr/local/lib/python3.7/dist-packages/optuna/distributions.py:502: UserWarning:\n",
            "\n",
            "Choices for a categorical distribution should be a tuple of None, bool, int, float and str for persistent storage but contains (50, 50) which is of type tuple.\n",
            "\n",
            "\u001b[32m[I 2022-09-02 16:36:31,595]\u001b[0m Trial 44 finished with value: 0.7711609688544775 and parameters: {'classifier': 'MLP', 'mlp_hidden_layer_sizes': (50, 50), 'mlp_activation': 'logistic', 'mlp_solver': 'adam'}. Best is trial 42 with value: 0.8275456542114262.\u001b[0m\n",
            "/usr/local/lib/python3.7/dist-packages/ipykernel_launcher.py:33: FutureWarning:\n",
            "\n",
            "suggest_loguniform has been deprecated in v3.0.0. This feature will be removed in v6.0.0. See https://github.com/optuna/optuna/releases/tag/v3.0.0. Use :func:`~optuna.trial.Trial.suggest_float` instead.\n",
            "\n",
            "\u001b[32m[I 2022-09-02 16:37:14,493]\u001b[0m Trial 45 finished with value: 0.8102525134038178 and parameters: {'classifier': 'XGB', 'xgb_n_estimators': 937, 'xgb_learning_rate': 0.005699587511701037, 'xgb_max_depth': 21}. Best is trial 42 with value: 0.8275456542114262.\u001b[0m\n",
            "/usr/local/lib/python3.7/dist-packages/ipykernel_launcher.py:33: FutureWarning:\n",
            "\n",
            "suggest_loguniform has been deprecated in v3.0.0. This feature will be removed in v6.0.0. See https://github.com/optuna/optuna/releases/tag/v3.0.0. Use :func:`~optuna.trial.Trial.suggest_float` instead.\n",
            "\n",
            "\u001b[32m[I 2022-09-02 16:37:44,261]\u001b[0m Trial 46 finished with value: 0.811586231336013 and parameters: {'classifier': 'XGB', 'xgb_n_estimators': 813, 'xgb_learning_rate': 0.006200903333720856, 'xgb_max_depth': 15}. Best is trial 42 with value: 0.8275456542114262.\u001b[0m\n",
            "\u001b[32m[I 2022-09-02 16:37:46,218]\u001b[0m Trial 47 finished with value: 0.7885381471828041 and parameters: {'classifier': 'RF', 'rf_n_estimators': 91, 'rf_criterion': 'entropy', 'rf_max_depth': 32}. Best is trial 42 with value: 0.8275456542114262.\u001b[0m\n",
            "/usr/local/lib/python3.7/dist-packages/ipykernel_launcher.py:33: FutureWarning:\n",
            "\n",
            "suggest_loguniform has been deprecated in v3.0.0. This feature will be removed in v6.0.0. See https://github.com/optuna/optuna/releases/tag/v3.0.0. Use :func:`~optuna.trial.Trial.suggest_float` instead.\n",
            "\n",
            "\u001b[32m[I 2022-09-02 16:38:28,801]\u001b[0m Trial 48 finished with value: 0.8075063792421903 and parameters: {'classifier': 'XGB', 'xgb_n_estimators': 928, 'xgb_learning_rate': 0.0038679641393768198, 'xgb_max_depth': 20}. Best is trial 42 with value: 0.8275456542114262.\u001b[0m\n",
            "\u001b[32m[I 2022-09-02 16:38:29,052]\u001b[0m Trial 49 finished with value: 0.7590172385817247 and parameters: {'classifier': 'LR', 'lr_penalty': 'l1', 'lr_solver': 'liblinear'}. Best is trial 42 with value: 0.8275456542114262.\u001b[0m\n",
            "/usr/local/lib/python3.7/dist-packages/ipykernel_launcher.py:33: FutureWarning:\n",
            "\n",
            "suggest_loguniform has been deprecated in v3.0.0. This feature will be removed in v6.0.0. See https://github.com/optuna/optuna/releases/tag/v3.0.0. Use :func:`~optuna.trial.Trial.suggest_float` instead.\n",
            "\n",
            "\u001b[32m[I 2022-09-02 16:39:16,511]\u001b[0m Trial 50 finished with value: 0.8070153749508819 and parameters: {'classifier': 'XGB', 'xgb_n_estimators': 999, 'xgb_learning_rate': 0.0019327546853084058, 'xgb_max_depth': 25}. Best is trial 42 with value: 0.8275456542114262.\u001b[0m\n",
            "/usr/local/lib/python3.7/dist-packages/ipykernel_launcher.py:33: FutureWarning:\n",
            "\n",
            "suggest_loguniform has been deprecated in v3.0.0. This feature will be removed in v6.0.0. See https://github.com/optuna/optuna/releases/tag/v3.0.0. Use :func:`~optuna.trial.Trial.suggest_float` instead.\n",
            "\n",
            "\u001b[32m[I 2022-09-02 16:40:02,236]\u001b[0m Trial 51 finished with value: 0.8268871296673208 and parameters: {'classifier': 'XGB', 'xgb_n_estimators': 993, 'xgb_learning_rate': 0.009805678247799, 'xgb_max_depth': 29}. Best is trial 42 with value: 0.8275456542114262.\u001b[0m\n",
            "/usr/local/lib/python3.7/dist-packages/ipykernel_launcher.py:33: FutureWarning:\n",
            "\n",
            "suggest_loguniform has been deprecated in v3.0.0. This feature will be removed in v6.0.0. See https://github.com/optuna/optuna/releases/tag/v3.0.0. Use :func:`~optuna.trial.Trial.suggest_float` instead.\n",
            "\n",
            "\u001b[32m[I 2022-09-02 16:40:44,779]\u001b[0m Trial 52 finished with value: 0.8108227313798346 and parameters: {'classifier': 'XGB', 'xgb_n_estimators': 915, 'xgb_learning_rate': 0.007363946991812978, 'xgb_max_depth': 28}. Best is trial 42 with value: 0.8275456542114262.\u001b[0m\n",
            "/usr/local/lib/python3.7/dist-packages/ipykernel_launcher.py:33: FutureWarning:\n",
            "\n",
            "suggest_loguniform has been deprecated in v3.0.0. This feature will be removed in v6.0.0. See https://github.com/optuna/optuna/releases/tag/v3.0.0. Use :func:`~optuna.trial.Trial.suggest_float` instead.\n",
            "\n",
            "\u001b[32m[I 2022-09-02 16:41:28,057]\u001b[0m Trial 53 finished with value: 0.8172622425420326 and parameters: {'classifier': 'XGB', 'xgb_n_estimators': 939, 'xgb_learning_rate': 0.006996255954836726, 'xgb_max_depth': 29}. Best is trial 42 with value: 0.8275456542114262.\u001b[0m\n",
            "/usr/local/lib/python3.7/dist-packages/ipykernel_launcher.py:33: FutureWarning:\n",
            "\n",
            "suggest_loguniform has been deprecated in v3.0.0. This feature will be removed in v6.0.0. See https://github.com/optuna/optuna/releases/tag/v3.0.0. Use :func:`~optuna.trial.Trial.suggest_float` instead.\n",
            "\n",
            "\u001b[32m[I 2022-09-02 16:42:03,366]\u001b[0m Trial 54 finished with value: 0.7839037174535941 and parameters: {'classifier': 'XGB', 'xgb_n_estimators': 844, 'xgb_learning_rate': 6.469874716156131e-05, 'xgb_max_depth': 23}. Best is trial 42 with value: 0.8275456542114262.\u001b[0m\n",
            "/usr/local/lib/python3.7/dist-packages/ipykernel_launcher.py:33: FutureWarning:\n",
            "\n",
            "suggest_loguniform has been deprecated in v3.0.0. This feature will be removed in v6.0.0. See https://github.com/optuna/optuna/releases/tag/v3.0.0. Use :func:`~optuna.trial.Trial.suggest_float` instead.\n",
            "\n",
            "\u001b[32m[I 2022-09-02 16:42:42,143]\u001b[0m Trial 55 finished with value: 0.8144227878345033 and parameters: {'classifier': 'XGB', 'xgb_n_estimators': 950, 'xgb_learning_rate': 0.003928095844537559, 'xgb_max_depth': 16}. Best is trial 42 with value: 0.8275456542114262.\u001b[0m\n",
            "/usr/local/lib/python3.7/dist-packages/ipykernel_launcher.py:33: FutureWarning:\n",
            "\n",
            "suggest_loguniform has been deprecated in v3.0.0. This feature will be removed in v6.0.0. See https://github.com/optuna/optuna/releases/tag/v3.0.0. Use :func:`~optuna.trial.Trial.suggest_float` instead.\n",
            "\n",
            "\u001b[32m[I 2022-09-02 16:42:51,637]\u001b[0m Trial 56 finished with value: 0.7837318500057356 and parameters: {'classifier': 'XGB', 'xgb_n_estimators': 228, 'xgb_learning_rate': 0.0006678549521091766, 'xgb_max_depth': 26}. Best is trial 42 with value: 0.8275456542114262.\u001b[0m\n",
            "/usr/local/lib/python3.7/dist-packages/optuna/distributions.py:502: UserWarning:\n",
            "\n",
            "Choices for a categorical distribution should be a tuple of None, bool, int, float and str for persistent storage but contains (50,) which is of type tuple.\n",
            "\n",
            "/usr/local/lib/python3.7/dist-packages/optuna/distributions.py:502: UserWarning:\n",
            "\n",
            "Choices for a categorical distribution should be a tuple of None, bool, int, float and str for persistent storage but contains (100,) which is of type tuple.\n",
            "\n",
            "/usr/local/lib/python3.7/dist-packages/optuna/distributions.py:502: UserWarning:\n",
            "\n",
            "Choices for a categorical distribution should be a tuple of None, bool, int, float and str for persistent storage but contains (50, 50) which is of type tuple.\n",
            "\n",
            "\u001b[32m[I 2022-09-02 16:42:54,093]\u001b[0m Trial 57 finished with value: 0.7415467133346342 and parameters: {'classifier': 'MLP', 'mlp_hidden_layer_sizes': (100,), 'mlp_activation': 'relu', 'mlp_solver': 'sgd'}. Best is trial 42 with value: 0.8275456542114262.\u001b[0m\n",
            "\u001b[32m[I 2022-09-02 16:43:02,047]\u001b[0m Trial 58 finished with value: 0.7787189641647454 and parameters: {'classifier': 'RF', 'rf_n_estimators': 502, 'rf_criterion': 'gini', 'rf_max_depth': 15}. Best is trial 42 with value: 0.8275456542114262.\u001b[0m\n",
            "/usr/local/lib/python3.7/dist-packages/ipykernel_launcher.py:33: FutureWarning:\n",
            "\n",
            "suggest_loguniform has been deprecated in v3.0.0. This feature will be removed in v6.0.0. See https://github.com/optuna/optuna/releases/tag/v3.0.0. Use :func:`~optuna.trial.Trial.suggest_float` instead.\n",
            "\n",
            "\u001b[32m[I 2022-09-02 16:43:36,030]\u001b[0m Trial 59 finished with value: 0.8186436596514789 and parameters: {'classifier': 'XGB', 'xgb_n_estimators': 719, 'xgb_learning_rate': 0.007125663146455926, 'xgb_max_depth': 30}. Best is trial 42 with value: 0.8275456542114262.\u001b[0m\n",
            "/usr/local/lib/python3.7/dist-packages/ipykernel_launcher.py:33: FutureWarning:\n",
            "\n",
            "suggest_loguniform has been deprecated in v3.0.0. This feature will be removed in v6.0.0. See https://github.com/optuna/optuna/releases/tag/v3.0.0. Use :func:`~optuna.trial.Trial.suggest_float` instead.\n",
            "\n",
            "\u001b[32m[I 2022-09-02 16:44:13,944]\u001b[0m Trial 60 finished with value: 0.82819402230078 and parameters: {'classifier': 'XGB', 'xgb_n_estimators': 839, 'xgb_learning_rate': 0.009861504834905799, 'xgb_max_depth': 32}. Best is trial 60 with value: 0.82819402230078.\u001b[0m\n",
            "/usr/local/lib/python3.7/dist-packages/ipykernel_launcher.py:33: FutureWarning:\n",
            "\n",
            "suggest_loguniform has been deprecated in v3.0.0. This feature will be removed in v6.0.0. See https://github.com/optuna/optuna/releases/tag/v3.0.0. Use :func:`~optuna.trial.Trial.suggest_float` instead.\n",
            "\n",
            "\u001b[32m[I 2022-09-02 16:44:56,380]\u001b[0m Trial 61 finished with value: 0.8247973643854246 and parameters: {'classifier': 'XGB', 'xgb_n_estimators': 957, 'xgb_learning_rate': 0.009910189121718148, 'xgb_max_depth': 32}. Best is trial 60 with value: 0.82819402230078.\u001b[0m\n",
            "/usr/local/lib/python3.7/dist-packages/ipykernel_launcher.py:33: FutureWarning:\n",
            "\n",
            "suggest_loguniform has been deprecated in v3.0.0. This feature will be removed in v6.0.0. See https://github.com/optuna/optuna/releases/tag/v3.0.0. Use :func:`~optuna.trial.Trial.suggest_float` instead.\n",
            "\n",
            "\u001b[32m[I 2022-09-02 16:45:40,894]\u001b[0m Trial 62 finished with value: 0.8152274866550999 and parameters: {'classifier': 'XGB', 'xgb_n_estimators': 951, 'xgb_learning_rate': 0.007017478793573087, 'xgb_max_depth': 31}. Best is trial 60 with value: 0.82819402230078.\u001b[0m\n",
            "/usr/local/lib/python3.7/dist-packages/ipykernel_launcher.py:33: FutureWarning:\n",
            "\n",
            "suggest_loguniform has been deprecated in v3.0.0. This feature will be removed in v6.0.0. See https://github.com/optuna/optuna/releases/tag/v3.0.0. Use :func:`~optuna.trial.Trial.suggest_float` instead.\n",
            "\n",
            "\u001b[32m[I 2022-09-02 16:46:20,630]\u001b[0m Trial 63 finished with value: 0.8116684034747916 and parameters: {'classifier': 'XGB', 'xgb_n_estimators': 846, 'xgb_learning_rate': 0.004782714574754571, 'xgb_max_depth': 31}. Best is trial 60 with value: 0.82819402230078.\u001b[0m\n",
            "/usr/local/lib/python3.7/dist-packages/ipykernel_launcher.py:33: FutureWarning:\n",
            "\n",
            "suggest_loguniform has been deprecated in v3.0.0. This feature will be removed in v6.0.0. See https://github.com/optuna/optuna/releases/tag/v3.0.0. Use :func:`~optuna.trial.Trial.suggest_float` instead.\n",
            "\n",
            "\u001b[32m[I 2022-09-02 16:46:58,053]\u001b[0m Trial 64 finished with value: 0.7861373424312416 and parameters: {'classifier': 'XGB', 'xgb_n_estimators': 902, 'xgb_learning_rate': 1.355255015786673e-05, 'xgb_max_depth': 32}. Best is trial 60 with value: 0.82819402230078.\u001b[0m\n",
            "/usr/local/lib/python3.7/dist-packages/ipykernel_launcher.py:33: FutureWarning:\n",
            "\n",
            "suggest_loguniform has been deprecated in v3.0.0. This feature will be removed in v6.0.0. See https://github.com/optuna/optuna/releases/tag/v3.0.0. Use :func:`~optuna.trial.Trial.suggest_float` instead.\n",
            "\n",
            "\u001b[32m[I 2022-09-02 16:47:40,490]\u001b[0m Trial 65 finished with value: 0.8275864096300533 and parameters: {'classifier': 'XGB', 'xgb_n_estimators': 964, 'xgb_learning_rate': 0.009941428652649652, 'xgb_max_depth': 29}. Best is trial 60 with value: 0.82819402230078.\u001b[0m\n",
            "/usr/local/lib/python3.7/dist-packages/ipykernel_launcher.py:33: FutureWarning:\n",
            "\n",
            "suggest_loguniform has been deprecated in v3.0.0. This feature will be removed in v6.0.0. See https://github.com/optuna/optuna/releases/tag/v3.0.0. Use :func:`~optuna.trial.Trial.suggest_float` instead.\n",
            "\n",
            "\u001b[32m[I 2022-09-02 16:48:22,822]\u001b[0m Trial 66 finished with value: 0.829461105559146 and parameters: {'classifier': 'XGB', 'xgb_n_estimators': 962, 'xgb_learning_rate': 0.009989993756032071, 'xgb_max_depth': 29}. Best is trial 66 with value: 0.829461105559146.\u001b[0m\n",
            "/usr/local/lib/python3.7/dist-packages/ipykernel_launcher.py:33: FutureWarning:\n",
            "\n",
            "suggest_loguniform has been deprecated in v3.0.0. This feature will be removed in v6.0.0. See https://github.com/optuna/optuna/releases/tag/v3.0.0. Use :func:`~optuna.trial.Trial.suggest_float` instead.\n",
            "\n",
            "\u001b[32m[I 2022-09-02 16:49:02,635]\u001b[0m Trial 67 finished with value: 0.8179114398236934 and parameters: {'classifier': 'XGB', 'xgb_n_estimators': 845, 'xgb_learning_rate': 0.006407569927057511, 'xgb_max_depth': 29}. Best is trial 66 with value: 0.829461105559146.\u001b[0m\n",
            "/usr/local/lib/python3.7/dist-packages/sklearn/linear_model/_sag.py:354: ConvergenceWarning:\n",
            "\n",
            "The max_iter was reached which means the coef_ did not converge\n",
            "\n",
            "\u001b[32m[I 2022-09-02 16:49:05,422]\u001b[0m Trial 68 finished with value: 0.7415467133346342 and parameters: {'classifier': 'LR', 'lr_penalty': 'l1', 'lr_solver': 'saga'}. Best is trial 66 with value: 0.829461105559146.\u001b[0m\n",
            "/usr/local/lib/python3.7/dist-packages/ipykernel_launcher.py:33: FutureWarning:\n",
            "\n",
            "suggest_loguniform has been deprecated in v3.0.0. This feature will be removed in v6.0.0. See https://github.com/optuna/optuna/releases/tag/v3.0.0. Use :func:`~optuna.trial.Trial.suggest_float` instead.\n",
            "\n",
            "\u001b[32m[I 2022-09-02 16:49:50,004]\u001b[0m Trial 69 finished with value: 0.8227653946593999 and parameters: {'classifier': 'XGB', 'xgb_n_estimators': 964, 'xgb_learning_rate': 0.0074964274027271936, 'xgb_max_depth': 29}. Best is trial 66 with value: 0.829461105559146.\u001b[0m\n",
            "/usr/local/lib/python3.7/dist-packages/ipykernel_launcher.py:33: FutureWarning:\n",
            "\n",
            "suggest_loguniform has been deprecated in v3.0.0. This feature will be removed in v6.0.0. See https://github.com/optuna/optuna/releases/tag/v3.0.0. Use :func:`~optuna.trial.Trial.suggest_float` instead.\n",
            "\n",
            "\u001b[32m[I 2022-09-02 16:50:25,245]\u001b[0m Trial 70 finished with value: 0.8172805145811541 and parameters: {'classifier': 'XGB', 'xgb_n_estimators': 741, 'xgb_learning_rate': 0.003714379495468139, 'xgb_max_depth': 29}. Best is trial 66 with value: 0.829461105559146.\u001b[0m\n",
            "/usr/local/lib/python3.7/dist-packages/ipykernel_launcher.py:33: FutureWarning:\n",
            "\n",
            "suggest_loguniform has been deprecated in v3.0.0. This feature will be removed in v6.0.0. See https://github.com/optuna/optuna/releases/tag/v3.0.0. Use :func:`~optuna.trial.Trial.suggest_float` instead.\n",
            "\n",
            "\u001b[32m[I 2022-09-02 16:51:08,176]\u001b[0m Trial 71 finished with value: 0.8241034037841318 and parameters: {'classifier': 'XGB', 'xgb_n_estimators': 959, 'xgb_learning_rate': 0.009706684924070392, 'xgb_max_depth': 32}. Best is trial 66 with value: 0.829461105559146.\u001b[0m\n",
            "/usr/local/lib/python3.7/dist-packages/ipykernel_launcher.py:33: FutureWarning:\n",
            "\n",
            "suggest_loguniform has been deprecated in v3.0.0. This feature will be removed in v6.0.0. See https://github.com/optuna/optuna/releases/tag/v3.0.0. Use :func:`~optuna.trial.Trial.suggest_float` instead.\n",
            "\n",
            "\u001b[32m[I 2022-09-02 16:51:50,271]\u001b[0m Trial 72 finished with value: 0.8131325757068243 and parameters: {'classifier': 'XGB', 'xgb_n_estimators': 902, 'xgb_learning_rate': 0.007945154269290381, 'xgb_max_depth': 30}. Best is trial 66 with value: 0.829461105559146.\u001b[0m\n",
            "/usr/local/lib/python3.7/dist-packages/ipykernel_launcher.py:33: FutureWarning:\n",
            "\n",
            "suggest_loguniform has been deprecated in v3.0.0. This feature will be removed in v6.0.0. See https://github.com/optuna/optuna/releases/tag/v3.0.0. Use :func:`~optuna.trial.Trial.suggest_float` instead.\n",
            "\n",
            "\u001b[32m[I 2022-09-02 16:52:35,671]\u001b[0m Trial 73 finished with value: 0.8158304277073929 and parameters: {'classifier': 'XGB', 'xgb_n_estimators': 969, 'xgb_learning_rate': 0.005053979727321751, 'xgb_max_depth': 32}. Best is trial 66 with value: 0.829461105559146.\u001b[0m\n",
            "/usr/local/lib/python3.7/dist-packages/ipykernel_launcher.py:33: FutureWarning:\n",
            "\n",
            "suggest_loguniform has been deprecated in v3.0.0. This feature will be removed in v6.0.0. See https://github.com/optuna/optuna/releases/tag/v3.0.0. Use :func:`~optuna.trial.Trial.suggest_float` instead.\n",
            "\n",
            "\u001b[32m[I 2022-09-02 16:53:20,251]\u001b[0m Trial 74 finished with value: 0.8268465180183436 and parameters: {'classifier': 'XGB', 'xgb_n_estimators': 999, 'xgb_learning_rate': 0.009322688538969665, 'xgb_max_depth': 31}. Best is trial 66 with value: 0.829461105559146.\u001b[0m\n",
            "\u001b[32m[I 2022-09-02 16:53:34,869]\u001b[0m Trial 75 finished with value: 0.7809857914637548 and parameters: {'classifier': 'RF', 'rf_n_estimators': 720, 'rf_criterion': 'entropy', 'rf_max_depth': 18}. Best is trial 66 with value: 0.829461105559146.\u001b[0m\n",
            "/usr/local/lib/python3.7/dist-packages/ipykernel_launcher.py:33: FutureWarning:\n",
            "\n",
            "suggest_loguniform has been deprecated in v3.0.0. This feature will be removed in v6.0.0. See https://github.com/optuna/optuna/releases/tag/v3.0.0. Use :func:`~optuna.trial.Trial.suggest_float` instead.\n",
            "\n",
            "\u001b[32m[I 2022-09-02 16:54:21,608]\u001b[0m Trial 76 finished with value: 0.812254863090541 and parameters: {'classifier': 'XGB', 'xgb_n_estimators': 997, 'xgb_learning_rate': 0.005567611702522026, 'xgb_max_depth': 30}. Best is trial 66 with value: 0.829461105559146.\u001b[0m\n",
            "/usr/local/lib/python3.7/dist-packages/ipykernel_launcher.py:33: FutureWarning:\n",
            "\n",
            "suggest_loguniform has been deprecated in v3.0.0. This feature will be removed in v6.0.0. See https://github.com/optuna/optuna/releases/tag/v3.0.0. Use :func:`~optuna.trial.Trial.suggest_float` instead.\n",
            "\n",
            "\u001b[32m[I 2022-09-02 16:54:50,356]\u001b[0m Trial 77 finished with value: 0.8137494155910923 and parameters: {'classifier': 'XGB', 'xgb_n_estimators': 610, 'xgb_learning_rate': 0.007655627777957009, 'xgb_max_depth': 28}. Best is trial 66 with value: 0.829461105559146.\u001b[0m\n",
            "/usr/local/lib/python3.7/dist-packages/optuna/distributions.py:502: UserWarning:\n",
            "\n",
            "Choices for a categorical distribution should be a tuple of None, bool, int, float and str for persistent storage but contains (50,) which is of type tuple.\n",
            "\n",
            "/usr/local/lib/python3.7/dist-packages/optuna/distributions.py:502: UserWarning:\n",
            "\n",
            "Choices for a categorical distribution should be a tuple of None, bool, int, float and str for persistent storage but contains (100,) which is of type tuple.\n",
            "\n",
            "/usr/local/lib/python3.7/dist-packages/optuna/distributions.py:502: UserWarning:\n",
            "\n",
            "Choices for a categorical distribution should be a tuple of None, bool, int, float and str for persistent storage but contains (50, 50) which is of type tuple.\n",
            "\n",
            "\u001b[32m[I 2022-09-02 16:54:58,924]\u001b[0m Trial 78 finished with value: 0.7588588818503835 and parameters: {'classifier': 'MLP', 'mlp_hidden_layer_sizes': (50,), 'mlp_activation': 'tanh', 'mlp_solver': 'adam'}. Best is trial 66 with value: 0.829461105559146.\u001b[0m\n",
            "/usr/local/lib/python3.7/dist-packages/ipykernel_launcher.py:33: FutureWarning:\n",
            "\n",
            "suggest_loguniform has been deprecated in v3.0.0. This feature will be removed in v6.0.0. See https://github.com/optuna/optuna/releases/tag/v3.0.0. Use :func:`~optuna.trial.Trial.suggest_float` instead.\n",
            "\n",
            "\u001b[32m[I 2022-09-02 16:55:40,974]\u001b[0m Trial 79 finished with value: 0.8104001896356371 and parameters: {'classifier': 'XGB', 'xgb_n_estimators': 886, 'xgb_learning_rate': 0.003308477156795482, 'xgb_max_depth': 26}. Best is trial 66 with value: 0.829461105559146.\u001b[0m\n",
            "/usr/local/lib/python3.7/dist-packages/ipykernel_launcher.py:33: FutureWarning:\n",
            "\n",
            "suggest_loguniform has been deprecated in v3.0.0. This feature will be removed in v6.0.0. See https://github.com/optuna/optuna/releases/tag/v3.0.0. Use :func:`~optuna.trial.Trial.suggest_float` instead.\n",
            "\n",
            "\u001b[32m[I 2022-09-02 16:56:28,634]\u001b[0m Trial 80 finished with value: 0.8111214308029908 and parameters: {'classifier': 'XGB', 'xgb_n_estimators': 999, 'xgb_learning_rate': 0.004507922309266616, 'xgb_max_depth': 30}. Best is trial 66 with value: 0.829461105559146.\u001b[0m\n",
            "/usr/local/lib/python3.7/dist-packages/ipykernel_launcher.py:33: FutureWarning:\n",
            "\n",
            "suggest_loguniform has been deprecated in v3.0.0. This feature will be removed in v6.0.0. See https://github.com/optuna/optuna/releases/tag/v3.0.0. Use :func:`~optuna.trial.Trial.suggest_float` instead.\n",
            "\n",
            "\u001b[32m[I 2022-09-02 16:57:12,052]\u001b[0m Trial 81 finished with value: 0.8268465180183436 and parameters: {'classifier': 'XGB', 'xgb_n_estimators': 964, 'xgb_learning_rate': 0.009497968400563701, 'xgb_max_depth': 32}. Best is trial 66 with value: 0.829461105559146.\u001b[0m\n",
            "/usr/local/lib/python3.7/dist-packages/ipykernel_launcher.py:33: FutureWarning:\n",
            "\n",
            "suggest_loguniform has been deprecated in v3.0.0. This feature will be removed in v6.0.0. See https://github.com/optuna/optuna/releases/tag/v3.0.0. Use :func:`~optuna.trial.Trial.suggest_float` instead.\n",
            "\n",
            "\u001b[32m[I 2022-09-02 16:57:54,918]\u001b[0m Trial 82 finished with value: 0.8220805763388737 and parameters: {'classifier': 'XGB', 'xgb_n_estimators': 915, 'xgb_learning_rate': 0.00795152045450962, 'xgb_max_depth': 31}. Best is trial 66 with value: 0.829461105559146.\u001b[0m\n",
            "/usr/local/lib/python3.7/dist-packages/ipykernel_launcher.py:33: FutureWarning:\n",
            "\n",
            "suggest_loguniform has been deprecated in v3.0.0. This feature will be removed in v6.0.0. See https://github.com/optuna/optuna/releases/tag/v3.0.0. Use :func:`~optuna.trial.Trial.suggest_float` instead.\n",
            "\n",
            "\u001b[32m[I 2022-09-02 16:58:37,540]\u001b[0m Trial 83 finished with value: 0.8268465180183436 and parameters: {'classifier': 'XGB', 'xgb_n_estimators': 964, 'xgb_learning_rate': 0.00985884373875155, 'xgb_max_depth': 27}. Best is trial 66 with value: 0.829461105559146.\u001b[0m\n",
            "/usr/local/lib/python3.7/dist-packages/ipykernel_launcher.py:33: FutureWarning:\n",
            "\n",
            "suggest_loguniform has been deprecated in v3.0.0. This feature will be removed in v6.0.0. See https://github.com/optuna/optuna/releases/tag/v3.0.0. Use :func:`~optuna.trial.Trial.suggest_float` instead.\n",
            "\n",
            "\u001b[32m[I 2022-09-02 16:58:59,730]\u001b[0m Trial 84 finished with value: 0.8186436596514789 and parameters: {'classifier': 'XGB', 'xgb_n_estimators': 473, 'xgb_learning_rate': 0.00853347196241113, 'xgb_max_depth': 28}. Best is trial 66 with value: 0.829461105559146.\u001b[0m\n",
            "/usr/local/lib/python3.7/dist-packages/ipykernel_launcher.py:33: FutureWarning:\n",
            "\n",
            "suggest_loguniform has been deprecated in v3.0.0. This feature will be removed in v6.0.0. See https://github.com/optuna/optuna/releases/tag/v3.0.0. Use :func:`~optuna.trial.Trial.suggest_float` instead.\n",
            "\n",
            "\u001b[32m[I 2022-09-02 16:59:38,558]\u001b[0m Trial 85 finished with value: 0.8227653946593999 and parameters: {'classifier': 'XGB', 'xgb_n_estimators': 861, 'xgb_learning_rate': 0.00991440190622312, 'xgb_max_depth': 27}. Best is trial 66 with value: 0.829461105559146.\u001b[0m\n",
            "/usr/local/lib/python3.7/dist-packages/ipykernel_launcher.py:33: FutureWarning:\n",
            "\n",
            "suggest_loguniform has been deprecated in v3.0.0. This feature will be removed in v6.0.0. See https://github.com/optuna/optuna/releases/tag/v3.0.0. Use :func:`~optuna.trial.Trial.suggest_float` instead.\n",
            "\n",
            "\u001b[32m[I 2022-09-02 17:00:23,898]\u001b[0m Trial 86 finished with value: 0.8172310818526628 and parameters: {'classifier': 'XGB', 'xgb_n_estimators': 963, 'xgb_learning_rate': 0.005823158460227911, 'xgb_max_depth': 30}. Best is trial 66 with value: 0.829461105559146.\u001b[0m\n",
            "\u001b[32m[I 2022-09-02 17:00:24,157]\u001b[0m Trial 87 finished with value: 0.7590172385817247 and parameters: {'classifier': 'LR', 'lr_penalty': 'l1', 'lr_solver': 'liblinear'}. Best is trial 66 with value: 0.829461105559146.\u001b[0m\n",
            "/usr/local/lib/python3.7/dist-packages/ipykernel_launcher.py:33: FutureWarning:\n",
            "\n",
            "suggest_loguniform has been deprecated in v3.0.0. This feature will be removed in v6.0.0. See https://github.com/optuna/optuna/releases/tag/v3.0.0. Use :func:`~optuna.trial.Trial.suggest_float` instead.\n",
            "\n",
            "\u001b[32m[I 2022-09-02 17:01:09,706]\u001b[0m Trial 88 finished with value: 0.8206781994805311 and parameters: {'classifier': 'XGB', 'xgb_n_estimators': 972, 'xgb_learning_rate': 0.006225398717187336, 'xgb_max_depth': 26}. Best is trial 66 with value: 0.829461105559146.\u001b[0m\n",
            "/usr/local/lib/python3.7/dist-packages/ipykernel_launcher.py:33: FutureWarning:\n",
            "\n",
            "suggest_loguniform has been deprecated in v3.0.0. This feature will be removed in v6.0.0. See https://github.com/optuna/optuna/releases/tag/v3.0.0. Use :func:`~optuna.trial.Trial.suggest_float` instead.\n",
            "\n",
            "\u001b[32m[I 2022-09-02 17:01:21,512]\u001b[0m Trial 89 finished with value: 0.8112506495237509 and parameters: {'classifier': 'XGB', 'xgb_n_estimators': 918, 'xgb_learning_rate': 0.008204068951502082, 'xgb_max_depth': 7}. Best is trial 66 with value: 0.829461105559146.\u001b[0m\n",
            "/usr/local/lib/python3.7/dist-packages/ipykernel_launcher.py:33: FutureWarning:\n",
            "\n",
            "suggest_loguniform has been deprecated in v3.0.0. This feature will be removed in v6.0.0. See https://github.com/optuna/optuna/releases/tag/v3.0.0. Use :func:`~optuna.trial.Trial.suggest_float` instead.\n",
            "\n",
            "\u001b[32m[I 2022-09-02 17:02:00,136]\u001b[0m Trial 90 finished with value: 0.81106774228922 and parameters: {'classifier': 'XGB', 'xgb_n_estimators': 820, 'xgb_learning_rate': 0.004494633388032137, 'xgb_max_depth': 31}. Best is trial 66 with value: 0.829461105559146.\u001b[0m\n",
            "/usr/local/lib/python3.7/dist-packages/ipykernel_launcher.py:33: FutureWarning:\n",
            "\n",
            "suggest_loguniform has been deprecated in v3.0.0. This feature will be removed in v6.0.0. See https://github.com/optuna/optuna/releases/tag/v3.0.0. Use :func:`~optuna.trial.Trial.suggest_float` instead.\n",
            "\n",
            "\u001b[32m[I 2022-09-02 17:02:43,784]\u001b[0m Trial 91 finished with value: 0.8227482107525057 and parameters: {'classifier': 'XGB', 'xgb_n_estimators': 981, 'xgb_learning_rate': 0.008261096675494657, 'xgb_max_depth': 24}. Best is trial 66 with value: 0.829461105559146.\u001b[0m\n",
            "/usr/local/lib/python3.7/dist-packages/ipykernel_launcher.py:33: FutureWarning:\n",
            "\n",
            "suggest_loguniform has been deprecated in v3.0.0. This feature will be removed in v6.0.0. See https://github.com/optuna/optuna/releases/tag/v3.0.0. Use :func:`~optuna.trial.Trial.suggest_float` instead.\n",
            "\n",
            "\u001b[32m[I 2022-09-02 17:03:25,795]\u001b[0m Trial 92 finished with value: 0.8337047379895899 and parameters: {'classifier': 'XGB', 'xgb_n_estimators': 943, 'xgb_learning_rate': 0.00988853248529165, 'xgb_max_depth': 29}. Best is trial 92 with value: 0.8337047379895899.\u001b[0m\n",
            "/usr/local/lib/python3.7/dist-packages/ipykernel_launcher.py:33: FutureWarning:\n",
            "\n",
            "suggest_loguniform has been deprecated in v3.0.0. This feature will be removed in v6.0.0. See https://github.com/optuna/optuna/releases/tag/v3.0.0. Use :func:`~optuna.trial.Trial.suggest_float` instead.\n",
            "\n",
            "\u001b[32m[I 2022-09-02 17:04:09,698]\u001b[0m Trial 93 finished with value: 0.8158304277073929 and parameters: {'classifier': 'XGB', 'xgb_n_estimators': 928, 'xgb_learning_rate': 0.006118754591711705, 'xgb_max_depth': 29}. Best is trial 92 with value: 0.8337047379895899.\u001b[0m\n",
            "/usr/local/lib/python3.7/dist-packages/ipykernel_launcher.py:33: FutureWarning:\n",
            "\n",
            "suggest_loguniform has been deprecated in v3.0.0. This feature will be removed in v6.0.0. See https://github.com/optuna/optuna/releases/tag/v3.0.0. Use :func:`~optuna.trial.Trial.suggest_float` instead.\n",
            "\n",
            "\u001b[32m[I 2022-09-02 17:04:49,293]\u001b[0m Trial 94 finished with value: 0.8213919093772409 and parameters: {'classifier': 'XGB', 'xgb_n_estimators': 887, 'xgb_learning_rate': 0.009740520011692731, 'xgb_max_depth': 28}. Best is trial 92 with value: 0.8337047379895899.\u001b[0m\n",
            "/usr/local/lib/python3.7/dist-packages/ipykernel_launcher.py:33: FutureWarning:\n",
            "\n",
            "suggest_loguniform has been deprecated in v3.0.0. This feature will be removed in v6.0.0. See https://github.com/optuna/optuna/releases/tag/v3.0.0. Use :func:`~optuna.trial.Trial.suggest_float` instead.\n",
            "\n",
            "\u001b[32m[I 2022-09-02 17:05:33,031]\u001b[0m Trial 95 finished with value: 0.8179114398236934 and parameters: {'classifier': 'XGB', 'xgb_n_estimators': 941, 'xgb_learning_rate': 0.006714780475334924, 'xgb_max_depth': 32}. Best is trial 92 with value: 0.8337047379895899.\u001b[0m\n",
            "\u001b[32m[I 2022-09-02 17:05:38,446]\u001b[0m Trial 96 finished with value: 0.7848341453317761 and parameters: {'classifier': 'RF', 'rf_n_estimators': 326, 'rf_criterion': 'gini', 'rf_max_depth': 25}. Best is trial 92 with value: 0.8337047379895899.\u001b[0m\n",
            "/usr/local/lib/python3.7/dist-packages/ipykernel_launcher.py:33: FutureWarning:\n",
            "\n",
            "suggest_loguniform has been deprecated in v3.0.0. This feature will be removed in v6.0.0. See https://github.com/optuna/optuna/releases/tag/v3.0.0. Use :func:`~optuna.trial.Trial.suggest_float` instead.\n",
            "\n",
            "\u001b[32m[I 2022-09-02 17:06:22,995]\u001b[0m Trial 97 finished with value: 0.8275456542114262 and parameters: {'classifier': 'XGB', 'xgb_n_estimators': 971, 'xgb_learning_rate': 0.008288681547534416, 'xgb_max_depth': 30}. Best is trial 92 with value: 0.8337047379895899.\u001b[0m\n",
            "/usr/local/lib/python3.7/dist-packages/ipykernel_launcher.py:33: FutureWarning:\n",
            "\n",
            "suggest_loguniform has been deprecated in v3.0.0. This feature will be removed in v6.0.0. See https://github.com/optuna/optuna/releases/tag/v3.0.0. Use :func:`~optuna.trial.Trial.suggest_float` instead.\n",
            "\n",
            "\u001b[32m[I 2022-09-02 17:06:59,159]\u001b[0m Trial 98 finished with value: 0.8125024425879106 and parameters: {'classifier': 'XGB', 'xgb_n_estimators': 774, 'xgb_learning_rate': 0.002831294348454673, 'xgb_max_depth': 30}. Best is trial 92 with value: 0.8337047379895899.\u001b[0m\n",
            "/usr/local/lib/python3.7/dist-packages/optuna/distributions.py:502: UserWarning:\n",
            "\n",
            "Choices for a categorical distribution should be a tuple of None, bool, int, float and str for persistent storage but contains (50,) which is of type tuple.\n",
            "\n",
            "/usr/local/lib/python3.7/dist-packages/optuna/distributions.py:502: UserWarning:\n",
            "\n",
            "Choices for a categorical distribution should be a tuple of None, bool, int, float and str for persistent storage but contains (100,) which is of type tuple.\n",
            "\n",
            "/usr/local/lib/python3.7/dist-packages/optuna/distributions.py:502: UserWarning:\n",
            "\n",
            "Choices for a categorical distribution should be a tuple of None, bool, int, float and str for persistent storage but contains (50, 50) which is of type tuple.\n",
            "\n",
            "\u001b[32m[I 2022-09-02 17:07:00,875]\u001b[0m Trial 99 finished with value: 0.7415467133346342 and parameters: {'classifier': 'MLP', 'mlp_hidden_layer_sizes': (100,), 'mlp_activation': 'logistic', 'mlp_solver': 'sgd'}. Best is trial 92 with value: 0.8337047379895899.\u001b[0m\n"
          ]
        }
      ]
    },
    {
      "cell_type": "markdown",
      "source": [
        "Como não sabemos exatamente o valor ótimo para a quantidade de trials, observar o histórico de otimização pode nos ajudar a visualizar se o melhor modelo ainda está numa fase de crescimento ou estagnação"
      ],
      "metadata": {
        "id": "x5fJhuHLf3Z2"
      }
    },
    {
      "cell_type": "code",
      "source": [
        "optuna.visualization.plot_optimization_history(study).show()"
      ],
      "metadata": {
        "colab": {
          "base_uri": "https://localhost:8080/",
          "height": 542
        },
        "id": "mw1WXU9Zf0ou",
        "outputId": "008f8a79-8c2d-40e7-b5b0-425b061e7776"
      },
      "execution_count": null,
      "outputs": [
        {
          "output_type": "display_data",
          "data": {
            "text/html": [
              "<html>\n",
              "<head><meta charset=\"utf-8\" /></head>\n",
              "<body>\n",
              "    <div>            <script src=\"https://cdnjs.cloudflare.com/ajax/libs/mathjax/2.7.5/MathJax.js?config=TeX-AMS-MML_SVG\"></script><script type=\"text/javascript\">if (window.MathJax) {MathJax.Hub.Config({SVG: {font: \"STIX-Web\"}});}</script>                <script type=\"text/javascript\">window.PlotlyConfig = {MathJaxConfig: 'local'};</script>\n",
              "        <script src=\"https://cdn.plot.ly/plotly-2.8.3.min.js\"></script>                <div id=\"f959b107-5bd7-4d00-b106-c084f03ae46d\" class=\"plotly-graph-div\" style=\"height:525px; width:100%;\"></div>            <script type=\"text/javascript\">                                    window.PLOTLYENV=window.PLOTLYENV || {};                                    if (document.getElementById(\"f959b107-5bd7-4d00-b106-c084f03ae46d\")) {                    Plotly.newPlot(                        \"f959b107-5bd7-4d00-b106-c084f03ae46d\",                        [{\"mode\":\"markers\",\"name\":\"Objective Value\",\"x\":[0,1,2,3,4,5,6,7,8,9,10,11,12,13,14,15,16,17,18,19,20,21,22,23,24,25,26,27,28,29,30,31,32,33,34,35,36,37,38,39,40,41,42,43,44,45,46,47,48,49,50,51,52,53,54,55,56,57,58,59,60,61,62,63,64,65,66,67,68,69,70,71,72,73,74,75,76,77,78,79,80,81,82,83,84,85,86,87,88,89,90,91,92,93,94,95,96,97,98,99],\"y\":[0.7864852195294003,0.756225227795267,0.7588588818503835,0.7548203198378346,0.7920109062587204,0.7415467133346342,0.7688325336421169,0.7415467133346342,0.7415467133346342,0.8084933233322593,0.7415467133346342,0.8144791105624911,0.8164502851443836,0.8130772428038596,0.8095873913584908,0.7861373424312416,0.7532334067647636,0.7876900946043259,0.7590172385817247,0.8104532889549917,0.7849661388636763,0.8082605332629097,0.8084553489055917,0.8158740848158113,0.8032046549176873,0.8136797176545019,0.7415467133346342,0.7415467133346342,0.7538235059016244,0.7704759872629022,0.7973022128765718,0.8095873913584908,0.8254926262853721,0.8275456542114262,0.8058638212668512,0.8094927450175244,0.7415467133346342,0.8087207617284994,0.8070787698835032,0.809002908871616,0.7590172385817247,0.8165079250498458,0.823456742794845,0.8130080826256638,0.7805373394889283,0.8116684034747916,0.7406853851273875,0.8124610571395975,0.782155694597561,0.7999486011677874,0.7415467133346342,0.7986097845124023,0.823456742794845,0.8186436596514789,0.7868317603365605,0.8087207617284994,0.8041148150631889,0.8089611158588327,0.8275456542114262,0.8186436596514789,0.7415467133346342,0.8186248287622119,0.8172622425420326,0.811586231336013,0.8254522203707887,0.7758219629372956,0.8171866729580513,0.7991895575480591,0.7538235059016244,0.8309448252841817,0.7503876783985924,0.8220805763388737,0.8130772428038596,0.8116684034747916,0.8288956716512627,0.8130772428038596,0.8186499034866677,0.8102525134038178,0.7787043934581689,0.7519070984357403,0.8094927450175244,0.8165827921475185,0.8018918323505112,0.8206976878620724,0.8241494068465611,0.8310088646752417,0.8089234037550564,0.8261892083421748,0.7415467133346342,0.7833616126476585,0.8179429153234987,0.8254926262853721,0.8274937148693761,0.8241494068465611,0.8082605332629097,0.8165079250498458,0.8254926262853721,0.8144791105624911,0.7415467133346342,0.7528778892046601],\"type\":\"scatter\"},{\"name\":\"Best Value\",\"x\":[0,1,2,3,4,5,6,7,8,9,10,11,12,13,14,15,16,17,18,19,20,21,22,23,24,25,26,27,28,29,30,31,32,33,34,35,36,37,38,39,40,41,42,43,44,45,46,47,48,49,50,51,52,53,54,55,56,57,58,59,60,61,62,63,64,65,66,67,68,69,70,71,72,73,74,75,76,77,78,79,80,81,82,83,84,85,86,87,88,89,90,91,92,93,94,95,96,97,98,99],\"y\":[0.7864852195294003,0.7864852195294003,0.7864852195294003,0.7864852195294003,0.7920109062587204,0.7920109062587204,0.7920109062587204,0.7920109062587204,0.7920109062587204,0.8084933233322593,0.8084933233322593,0.8144791105624911,0.8164502851443836,0.8164502851443836,0.8164502851443836,0.8164502851443836,0.8164502851443836,0.8164502851443836,0.8164502851443836,0.8164502851443836,0.8164502851443836,0.8164502851443836,0.8164502851443836,0.8164502851443836,0.8164502851443836,0.8164502851443836,0.8164502851443836,0.8164502851443836,0.8164502851443836,0.8164502851443836,0.8164502851443836,0.8164502851443836,0.8254926262853721,0.8275456542114262,0.8275456542114262,0.8275456542114262,0.8275456542114262,0.8275456542114262,0.8275456542114262,0.8275456542114262,0.8275456542114262,0.8275456542114262,0.8275456542114262,0.8275456542114262,0.8275456542114262,0.8275456542114262,0.8275456542114262,0.8275456542114262,0.8275456542114262,0.8275456542114262,0.8275456542114262,0.8275456542114262,0.8275456542114262,0.8275456542114262,0.8275456542114262,0.8275456542114262,0.8275456542114262,0.8275456542114262,0.8275456542114262,0.8275456542114262,0.8275456542114262,0.8275456542114262,0.8275456542114262,0.8275456542114262,0.8275456542114262,0.8275456542114262,0.8275456542114262,0.8275456542114262,0.8275456542114262,0.8309448252841817,0.8309448252841817,0.8309448252841817,0.8309448252841817,0.8309448252841817,0.8309448252841817,0.8309448252841817,0.8309448252841817,0.8309448252841817,0.8309448252841817,0.8309448252841817,0.8309448252841817,0.8309448252841817,0.8309448252841817,0.8309448252841817,0.8309448252841817,0.8310088646752417,0.8310088646752417,0.8310088646752417,0.8310088646752417,0.8310088646752417,0.8310088646752417,0.8310088646752417,0.8310088646752417,0.8310088646752417,0.8310088646752417,0.8310088646752417,0.8310088646752417,0.8310088646752417,0.8310088646752417,0.8310088646752417],\"type\":\"scatter\"}],                        {\"title\":{\"text\":\"Optimization History Plot\"},\"xaxis\":{\"title\":{\"text\":\"Trial\"}},\"yaxis\":{\"title\":{\"text\":\"Objective Value\"}},\"template\":{\"data\":{\"bar\":[{\"error_x\":{\"color\":\"#2a3f5f\"},\"error_y\":{\"color\":\"#2a3f5f\"},\"marker\":{\"line\":{\"color\":\"#E5ECF6\",\"width\":0.5},\"pattern\":{\"fillmode\":\"overlay\",\"size\":10,\"solidity\":0.2}},\"type\":\"bar\"}],\"barpolar\":[{\"marker\":{\"line\":{\"color\":\"#E5ECF6\",\"width\":0.5},\"pattern\":{\"fillmode\":\"overlay\",\"size\":10,\"solidity\":0.2}},\"type\":\"barpolar\"}],\"carpet\":[{\"aaxis\":{\"endlinecolor\":\"#2a3f5f\",\"gridcolor\":\"white\",\"linecolor\":\"white\",\"minorgridcolor\":\"white\",\"startlinecolor\":\"#2a3f5f\"},\"baxis\":{\"endlinecolor\":\"#2a3f5f\",\"gridcolor\":\"white\",\"linecolor\":\"white\",\"minorgridcolor\":\"white\",\"startlinecolor\":\"#2a3f5f\"},\"type\":\"carpet\"}],\"choropleth\":[{\"colorbar\":{\"outlinewidth\":0,\"ticks\":\"\"},\"type\":\"choropleth\"}],\"contour\":[{\"colorbar\":{\"outlinewidth\":0,\"ticks\":\"\"},\"colorscale\":[[0.0,\"#0d0887\"],[0.1111111111111111,\"#46039f\"],[0.2222222222222222,\"#7201a8\"],[0.3333333333333333,\"#9c179e\"],[0.4444444444444444,\"#bd3786\"],[0.5555555555555556,\"#d8576b\"],[0.6666666666666666,\"#ed7953\"],[0.7777777777777778,\"#fb9f3a\"],[0.8888888888888888,\"#fdca26\"],[1.0,\"#f0f921\"]],\"type\":\"contour\"}],\"contourcarpet\":[{\"colorbar\":{\"outlinewidth\":0,\"ticks\":\"\"},\"type\":\"contourcarpet\"}],\"heatmap\":[{\"colorbar\":{\"outlinewidth\":0,\"ticks\":\"\"},\"colorscale\":[[0.0,\"#0d0887\"],[0.1111111111111111,\"#46039f\"],[0.2222222222222222,\"#7201a8\"],[0.3333333333333333,\"#9c179e\"],[0.4444444444444444,\"#bd3786\"],[0.5555555555555556,\"#d8576b\"],[0.6666666666666666,\"#ed7953\"],[0.7777777777777778,\"#fb9f3a\"],[0.8888888888888888,\"#fdca26\"],[1.0,\"#f0f921\"]],\"type\":\"heatmap\"}],\"heatmapgl\":[{\"colorbar\":{\"outlinewidth\":0,\"ticks\":\"\"},\"colorscale\":[[0.0,\"#0d0887\"],[0.1111111111111111,\"#46039f\"],[0.2222222222222222,\"#7201a8\"],[0.3333333333333333,\"#9c179e\"],[0.4444444444444444,\"#bd3786\"],[0.5555555555555556,\"#d8576b\"],[0.6666666666666666,\"#ed7953\"],[0.7777777777777778,\"#fb9f3a\"],[0.8888888888888888,\"#fdca26\"],[1.0,\"#f0f921\"]],\"type\":\"heatmapgl\"}],\"histogram\":[{\"marker\":{\"pattern\":{\"fillmode\":\"overlay\",\"size\":10,\"solidity\":0.2}},\"type\":\"histogram\"}],\"histogram2d\":[{\"colorbar\":{\"outlinewidth\":0,\"ticks\":\"\"},\"colorscale\":[[0.0,\"#0d0887\"],[0.1111111111111111,\"#46039f\"],[0.2222222222222222,\"#7201a8\"],[0.3333333333333333,\"#9c179e\"],[0.4444444444444444,\"#bd3786\"],[0.5555555555555556,\"#d8576b\"],[0.6666666666666666,\"#ed7953\"],[0.7777777777777778,\"#fb9f3a\"],[0.8888888888888888,\"#fdca26\"],[1.0,\"#f0f921\"]],\"type\":\"histogram2d\"}],\"histogram2dcontour\":[{\"colorbar\":{\"outlinewidth\":0,\"ticks\":\"\"},\"colorscale\":[[0.0,\"#0d0887\"],[0.1111111111111111,\"#46039f\"],[0.2222222222222222,\"#7201a8\"],[0.3333333333333333,\"#9c179e\"],[0.4444444444444444,\"#bd3786\"],[0.5555555555555556,\"#d8576b\"],[0.6666666666666666,\"#ed7953\"],[0.7777777777777778,\"#fb9f3a\"],[0.8888888888888888,\"#fdca26\"],[1.0,\"#f0f921\"]],\"type\":\"histogram2dcontour\"}],\"mesh3d\":[{\"colorbar\":{\"outlinewidth\":0,\"ticks\":\"\"},\"type\":\"mesh3d\"}],\"parcoords\":[{\"line\":{\"colorbar\":{\"outlinewidth\":0,\"ticks\":\"\"}},\"type\":\"parcoords\"}],\"pie\":[{\"automargin\":true,\"type\":\"pie\"}],\"scatter\":[{\"marker\":{\"colorbar\":{\"outlinewidth\":0,\"ticks\":\"\"}},\"type\":\"scatter\"}],\"scatter3d\":[{\"line\":{\"colorbar\":{\"outlinewidth\":0,\"ticks\":\"\"}},\"marker\":{\"colorbar\":{\"outlinewidth\":0,\"ticks\":\"\"}},\"type\":\"scatter3d\"}],\"scattercarpet\":[{\"marker\":{\"colorbar\":{\"outlinewidth\":0,\"ticks\":\"\"}},\"type\":\"scattercarpet\"}],\"scattergeo\":[{\"marker\":{\"colorbar\":{\"outlinewidth\":0,\"ticks\":\"\"}},\"type\":\"scattergeo\"}],\"scattergl\":[{\"marker\":{\"colorbar\":{\"outlinewidth\":0,\"ticks\":\"\"}},\"type\":\"scattergl\"}],\"scattermapbox\":[{\"marker\":{\"colorbar\":{\"outlinewidth\":0,\"ticks\":\"\"}},\"type\":\"scattermapbox\"}],\"scatterpolar\":[{\"marker\":{\"colorbar\":{\"outlinewidth\":0,\"ticks\":\"\"}},\"type\":\"scatterpolar\"}],\"scatterpolargl\":[{\"marker\":{\"colorbar\":{\"outlinewidth\":0,\"ticks\":\"\"}},\"type\":\"scatterpolargl\"}],\"scatterternary\":[{\"marker\":{\"colorbar\":{\"outlinewidth\":0,\"ticks\":\"\"}},\"type\":\"scatterternary\"}],\"surface\":[{\"colorbar\":{\"outlinewidth\":0,\"ticks\":\"\"},\"colorscale\":[[0.0,\"#0d0887\"],[0.1111111111111111,\"#46039f\"],[0.2222222222222222,\"#7201a8\"],[0.3333333333333333,\"#9c179e\"],[0.4444444444444444,\"#bd3786\"],[0.5555555555555556,\"#d8576b\"],[0.6666666666666666,\"#ed7953\"],[0.7777777777777778,\"#fb9f3a\"],[0.8888888888888888,\"#fdca26\"],[1.0,\"#f0f921\"]],\"type\":\"surface\"}],\"table\":[{\"cells\":{\"fill\":{\"color\":\"#EBF0F8\"},\"line\":{\"color\":\"white\"}},\"header\":{\"fill\":{\"color\":\"#C8D4E3\"},\"line\":{\"color\":\"white\"}},\"type\":\"table\"}]},\"layout\":{\"annotationdefaults\":{\"arrowcolor\":\"#2a3f5f\",\"arrowhead\":0,\"arrowwidth\":1},\"autotypenumbers\":\"strict\",\"coloraxis\":{\"colorbar\":{\"outlinewidth\":0,\"ticks\":\"\"}},\"colorscale\":{\"diverging\":[[0,\"#8e0152\"],[0.1,\"#c51b7d\"],[0.2,\"#de77ae\"],[0.3,\"#f1b6da\"],[0.4,\"#fde0ef\"],[0.5,\"#f7f7f7\"],[0.6,\"#e6f5d0\"],[0.7,\"#b8e186\"],[0.8,\"#7fbc41\"],[0.9,\"#4d9221\"],[1,\"#276419\"]],\"sequential\":[[0.0,\"#0d0887\"],[0.1111111111111111,\"#46039f\"],[0.2222222222222222,\"#7201a8\"],[0.3333333333333333,\"#9c179e\"],[0.4444444444444444,\"#bd3786\"],[0.5555555555555556,\"#d8576b\"],[0.6666666666666666,\"#ed7953\"],[0.7777777777777778,\"#fb9f3a\"],[0.8888888888888888,\"#fdca26\"],[1.0,\"#f0f921\"]],\"sequentialminus\":[[0.0,\"#0d0887\"],[0.1111111111111111,\"#46039f\"],[0.2222222222222222,\"#7201a8\"],[0.3333333333333333,\"#9c179e\"],[0.4444444444444444,\"#bd3786\"],[0.5555555555555556,\"#d8576b\"],[0.6666666666666666,\"#ed7953\"],[0.7777777777777778,\"#fb9f3a\"],[0.8888888888888888,\"#fdca26\"],[1.0,\"#f0f921\"]]},\"colorway\":[\"#636efa\",\"#EF553B\",\"#00cc96\",\"#ab63fa\",\"#FFA15A\",\"#19d3f3\",\"#FF6692\",\"#B6E880\",\"#FF97FF\",\"#FECB52\"],\"font\":{\"color\":\"#2a3f5f\"},\"geo\":{\"bgcolor\":\"white\",\"lakecolor\":\"white\",\"landcolor\":\"#E5ECF6\",\"showlakes\":true,\"showland\":true,\"subunitcolor\":\"white\"},\"hoverlabel\":{\"align\":\"left\"},\"hovermode\":\"closest\",\"mapbox\":{\"style\":\"light\"},\"paper_bgcolor\":\"white\",\"plot_bgcolor\":\"#E5ECF6\",\"polar\":{\"angularaxis\":{\"gridcolor\":\"white\",\"linecolor\":\"white\",\"ticks\":\"\"},\"bgcolor\":\"#E5ECF6\",\"radialaxis\":{\"gridcolor\":\"white\",\"linecolor\":\"white\",\"ticks\":\"\"}},\"scene\":{\"xaxis\":{\"backgroundcolor\":\"#E5ECF6\",\"gridcolor\":\"white\",\"gridwidth\":2,\"linecolor\":\"white\",\"showbackground\":true,\"ticks\":\"\",\"zerolinecolor\":\"white\"},\"yaxis\":{\"backgroundcolor\":\"#E5ECF6\",\"gridcolor\":\"white\",\"gridwidth\":2,\"linecolor\":\"white\",\"showbackground\":true,\"ticks\":\"\",\"zerolinecolor\":\"white\"},\"zaxis\":{\"backgroundcolor\":\"#E5ECF6\",\"gridcolor\":\"white\",\"gridwidth\":2,\"linecolor\":\"white\",\"showbackground\":true,\"ticks\":\"\",\"zerolinecolor\":\"white\"}},\"shapedefaults\":{\"line\":{\"color\":\"#2a3f5f\"}},\"ternary\":{\"aaxis\":{\"gridcolor\":\"white\",\"linecolor\":\"white\",\"ticks\":\"\"},\"baxis\":{\"gridcolor\":\"white\",\"linecolor\":\"white\",\"ticks\":\"\"},\"bgcolor\":\"#E5ECF6\",\"caxis\":{\"gridcolor\":\"white\",\"linecolor\":\"white\",\"ticks\":\"\"}},\"title\":{\"x\":0.05},\"xaxis\":{\"automargin\":true,\"gridcolor\":\"white\",\"linecolor\":\"white\",\"ticks\":\"\",\"title\":{\"standoff\":15},\"zerolinecolor\":\"white\",\"zerolinewidth\":2},\"yaxis\":{\"automargin\":true,\"gridcolor\":\"white\",\"linecolor\":\"white\",\"ticks\":\"\",\"title\":{\"standoff\":15},\"zerolinecolor\":\"white\",\"zerolinewidth\":2}}}},                        {\"responsive\": true}                    ).then(function(){\n",
              "                            \n",
              "var gd = document.getElementById('f959b107-5bd7-4d00-b106-c084f03ae46d');\n",
              "var x = new MutationObserver(function (mutations, observer) {{\n",
              "        var display = window.getComputedStyle(gd).display;\n",
              "        if (!display || display === 'none') {{\n",
              "            console.log([gd, 'removed!']);\n",
              "            Plotly.purge(gd);\n",
              "            observer.disconnect();\n",
              "        }}\n",
              "}});\n",
              "\n",
              "// Listen for the removal of the full notebook cells\n",
              "var notebookContainer = gd.closest('#notebook-container');\n",
              "if (notebookContainer) {{\n",
              "    x.observe(notebookContainer, {childList: true});\n",
              "}}\n",
              "\n",
              "// Listen for the clearing of the current output cell\n",
              "var outputEl = gd.closest('.output');\n",
              "if (outputEl) {{\n",
              "    x.observe(outputEl, {childList: true});\n",
              "}}\n",
              "\n",
              "                        })                };                            </script>        </div>\n",
              "</body>\n",
              "</html>"
            ]
          },
          "metadata": {}
        }
      ]
    },
    {
      "cell_type": "markdown",
      "source": [
        "Podemos ver que até o final o modelo seguia evoluindo, e que os valores da métrica estão bem espalhados, devido aos diferentes modelos, portanto separaremos os estudos por modelo e o executaremos novamente. "
      ],
      "metadata": {
        "id": "UKZ6l3NFrwU-"
      }
    },
    {
      "cell_type": "markdown",
      "source": [
        "### Optuna Study XGBoost"
      ],
      "metadata": {
        "id": "l_yYCCBpsUBY"
      }
    },
    {
      "cell_type": "markdown",
      "source": [
        "Inicialmente, buscamos identificar a relação entre os hiperparâmetros avaliados e o valor da métrica de avaliação"
      ],
      "metadata": {
        "id": "DUNAm6TTscZk"
      }
    },
    {
      "cell_type": "code",
      "source": [
        "optuna.visualization.plot_slice(study, params=['xgb_n_estimators', 'xgb_max_depth', 'xgb_learning_rate'])"
      ],
      "metadata": {
        "colab": {
          "base_uri": "https://localhost:8080/",
          "height": 542
        },
        "id": "IOFS7ttPsAP9",
        "outputId": "4f51cf71-9869-43f8-b0c8-21ed70258457"
      },
      "execution_count": null,
      "outputs": [
        {
          "output_type": "display_data",
          "data": {
            "text/html": [
              "<html>\n",
              "<head><meta charset=\"utf-8\" /></head>\n",
              "<body>\n",
              "    <div>            <script src=\"https://cdnjs.cloudflare.com/ajax/libs/mathjax/2.7.5/MathJax.js?config=TeX-AMS-MML_SVG\"></script><script type=\"text/javascript\">if (window.MathJax) {MathJax.Hub.Config({SVG: {font: \"STIX-Web\"}});}</script>                <script type=\"text/javascript\">window.PlotlyConfig = {MathJaxConfig: 'local'};</script>\n",
              "        <script src=\"https://cdn.plot.ly/plotly-2.8.3.min.js\"></script>                <div id=\"911d3019-15a8-455c-a25e-982c1f64dc7a\" class=\"plotly-graph-div\" style=\"height:525px; width:100%;\"></div>            <script type=\"text/javascript\">                                    window.PLOTLYENV=window.PLOTLYENV || {};                                    if (document.getElementById(\"911d3019-15a8-455c-a25e-982c1f64dc7a\")) {                    Plotly.newPlot(                        \"911d3019-15a8-455c-a25e-982c1f64dc7a\",                        [{\"marker\":{\"color\":[1,3,4,6,9,11,12,13,14,15,19,20,21,22,23,24,25,30,31,32,33,34,35,37,38,39,41,42,43,44,45,47,49,51,52,53,54,55,56,57,58,59,61,62,63,64,66,67,69,70,71,72,73,74,75,76,77,80,81,82,83,84,85,86,87,89,90,91,92,93,94,95,96,97],\"colorbar\":{\"title\":{\"text\":\"Trial\"},\"x\":1.0,\"xpad\":40},\"colorscale\":[[0.0,\"rgb(247,251,255)\"],[0.125,\"rgb(222,235,247)\"],[0.25,\"rgb(198,219,239)\"],[0.375,\"rgb(158,202,225)\"],[0.5,\"rgb(107,174,214)\"],[0.625,\"rgb(66,146,198)\"],[0.75,\"rgb(33,113,181)\"],[0.875,\"rgb(8,81,156)\"],[1.0,\"rgb(8,48,107)\"]],\"line\":{\"color\":\"Grey\",\"width\":0.5},\"showscale\":true},\"mode\":\"markers\",\"showlegend\":false,\"x\":[0.0006990398277222446,0.0002118428332716398,0.0006230440287846323,0.0005476219965508378,0.0022818081863933077,0.009621901072938414,0.00972918554103722,0.007842917689374116,0.008842539363478735,1.552599518911882e-05,0.002823610808565441,0.00010372760280754411,0.00968693931896709,0.0032774890886662373,0.008872924025764674,0.003411669258602771,0.004969872478107829,0.0014501038261350353,0.005391787806182184,0.009526890240026056,0.009578363251255299,0.0015094454832746205,0.005013344533319427,0.00516324112938102,0.0016863957182287651,0.005668229975856843,0.008069808554125906,0.008925549799918655,0.004148109692019213,3.0157051937089855e-05,0.006307794184509669,0.002407453362567235,0.0011224592399411003,0.008229487779997593,0.009653374720351621,0.006056856313147458,0.0002031541227430039,0.00616514623557483,0.004282182382780244,0.006567100033126766,0.009981970158483068,0.009979876777920334,0.009766187902937092,0.006741639151532844,0.003956354723183821,0.009878597027477735,0.009503694109972321,0.0004408149752674232,0.009827099450439988,0.007221395248007429,0.007085048476612038,0.007166498091639861,0.003819563087262795,0.009878453622587813,0.002670239889576299,0.009733670677897398,0.005097077328063403,0.0032742476317952694,0.007377052500698348,0.007705768665062007,0.007710321764975542,0.009852756211311832,0.009938128931950648,0.0047001840159940755,0.009961801436637403,6.291653242926671e-05,0.005730269839636977,0.008226048908366717,0.009963285717850557,0.007849382806369426,0.005622145547350589,0.007857266331798913,0.00999131810863375,0.006008218210513793],\"y\":[0.756225227795267,0.7548203198378346,0.7920109062587204,0.7688325336421169,0.8084933233322593,0.8144791105624911,0.8164502851443836,0.8130772428038596,0.8095873913584908,0.7861373424312416,0.8104532889549917,0.7849661388636763,0.8082605332629097,0.8084553489055917,0.8158740848158113,0.8032046549176873,0.8136797176545019,0.7973022128765718,0.8095873913584908,0.8254926262853721,0.8275456542114262,0.8058638212668512,0.8094927450175244,0.8087207617284994,0.8070787698835032,0.809002908871616,0.8165079250498458,0.823456742794845,0.8130080826256638,0.7805373394889283,0.8116684034747916,0.8124610571395975,0.7999486011677874,0.7986097845124023,0.823456742794845,0.8186436596514789,0.7868317603365605,0.8087207617284994,0.8041148150631889,0.8089611158588327,0.8275456542114262,0.8186436596514789,0.8186248287622119,0.8172622425420326,0.811586231336013,0.8254522203707887,0.8171866729580513,0.7991895575480591,0.8309448252841817,0.7503876783985924,0.8220805763388737,0.8130772428038596,0.8116684034747916,0.8288956716512627,0.8130772428038596,0.8186499034866677,0.8102525134038178,0.8094927450175244,0.8165827921475185,0.8018918323505112,0.8206976878620724,0.8241494068465611,0.8310088646752417,0.8089234037550564,0.8261892083421748,0.7833616126476585,0.8179429153234987,0.8254926262853721,0.8274937148693761,0.8241494068465611,0.8082605332629097,0.8165079250498458,0.8254926262853721,0.8144791105624911],\"type\":\"scatter\",\"xaxis\":\"x\",\"yaxis\":\"y\"},{\"marker\":{\"color\":[1,3,4,6,9,11,12,13,14,15,19,20,21,22,23,24,25,30,31,32,33,34,35,37,38,39,41,42,43,44,45,47,49,51,52,53,54,55,56,57,58,59,61,62,63,64,66,67,69,70,71,72,73,74,75,76,77,80,81,82,83,84,85,86,87,89,90,91,92,93,94,95,96,97],\"colorbar\":{\"title\":{\"text\":\"Trial\"},\"x\":1.0,\"xpad\":40},\"colorscale\":[[0.0,\"rgb(247,251,255)\"],[0.125,\"rgb(222,235,247)\"],[0.25,\"rgb(198,219,239)\"],[0.375,\"rgb(158,202,225)\"],[0.5,\"rgb(107,174,214)\"],[0.625,\"rgb(66,146,198)\"],[0.75,\"rgb(33,113,181)\"],[0.875,\"rgb(8,81,156)\"],[1.0,\"rgb(8,48,107)\"]],\"line\":{\"color\":\"Grey\",\"width\":0.5},\"showscale\":false},\"mode\":\"markers\",\"showlegend\":false,\"x\":[4,4,11,6,20,23,26,31,25,25,19,32,32,26,28,27,22,17,22,23,28,29,28,16,29,24,22,20,20,13,21,18,23,27,30,30,30,15,31,9,24,24,24,29,25,27,27,24,20,2,19,19,20,18,21,26,17,15,18,19,21,23,23,23,26,26,22,25,28,28,25,27,25,26],\"y\":[0.756225227795267,0.7548203198378346,0.7920109062587204,0.7688325336421169,0.8084933233322593,0.8144791105624911,0.8164502851443836,0.8130772428038596,0.8095873913584908,0.7861373424312416,0.8104532889549917,0.7849661388636763,0.8082605332629097,0.8084553489055917,0.8158740848158113,0.8032046549176873,0.8136797176545019,0.7973022128765718,0.8095873913584908,0.8254926262853721,0.8275456542114262,0.8058638212668512,0.8094927450175244,0.8087207617284994,0.8070787698835032,0.809002908871616,0.8165079250498458,0.823456742794845,0.8130080826256638,0.7805373394889283,0.8116684034747916,0.8124610571395975,0.7999486011677874,0.7986097845124023,0.823456742794845,0.8186436596514789,0.7868317603365605,0.8087207617284994,0.8041148150631889,0.8089611158588327,0.8275456542114262,0.8186436596514789,0.8186248287622119,0.8172622425420326,0.811586231336013,0.8254522203707887,0.8171866729580513,0.7991895575480591,0.8309448252841817,0.7503876783985924,0.8220805763388737,0.8130772428038596,0.8116684034747916,0.8288956716512627,0.8130772428038596,0.8186499034866677,0.8102525134038178,0.8094927450175244,0.8165827921475185,0.8018918323505112,0.8206976878620724,0.8241494068465611,0.8310088646752417,0.8089234037550564,0.8261892083421748,0.7833616126476585,0.8179429153234987,0.8254926262853721,0.8274937148693761,0.8241494068465611,0.8082605332629097,0.8165079250498458,0.8254926262853721,0.8144791105624911],\"type\":\"scatter\",\"xaxis\":\"x2\",\"yaxis\":\"y2\"},{\"marker\":{\"color\":[1,3,4,6,9,11,12,13,14,15,19,20,21,22,23,24,25,30,31,32,33,34,35,37,38,39,41,42,43,44,45,47,49,51,52,53,54,55,56,57,58,59,61,62,63,64,66,67,69,70,71,72,73,74,75,76,77,80,81,82,83,84,85,86,87,89,90,91,92,93,94,95,96,97],\"colorbar\":{\"title\":{\"text\":\"Trial\"},\"x\":1.0,\"xpad\":40},\"colorscale\":[[0.0,\"rgb(247,251,255)\"],[0.125,\"rgb(222,235,247)\"],[0.25,\"rgb(198,219,239)\"],[0.375,\"rgb(158,202,225)\"],[0.5,\"rgb(107,174,214)\"],[0.625,\"rgb(66,146,198)\"],[0.75,\"rgb(33,113,181)\"],[0.875,\"rgb(8,81,156)\"],[1.0,\"rgb(8,48,107)\"]],\"line\":{\"color\":\"Grey\",\"width\":0.5},\"showscale\":false},\"mode\":\"markers\",\"showlegend\":false,\"x\":[56,834,711,175,672,676,523,421,470,966,589,366,389,526,293,259,703,271,721,839,858,904,821,834,984,569,783,866,893,779,910,783,639,55,866,876,879,766,937,835,859,860,858,1000,939,858,743,815,929,951,899,920,812,966,968,852,954,917,888,115,815,1000,996,1000,968,968,976,934,931,940,935,903,968,962],\"y\":[0.756225227795267,0.7548203198378346,0.7920109062587204,0.7688325336421169,0.8084933233322593,0.8144791105624911,0.8164502851443836,0.8130772428038596,0.8095873913584908,0.7861373424312416,0.8104532889549917,0.7849661388636763,0.8082605332629097,0.8084553489055917,0.8158740848158113,0.8032046549176873,0.8136797176545019,0.7973022128765718,0.8095873913584908,0.8254926262853721,0.8275456542114262,0.8058638212668512,0.8094927450175244,0.8087207617284994,0.8070787698835032,0.809002908871616,0.8165079250498458,0.823456742794845,0.8130080826256638,0.7805373394889283,0.8116684034747916,0.8124610571395975,0.7999486011677874,0.7986097845124023,0.823456742794845,0.8186436596514789,0.7868317603365605,0.8087207617284994,0.8041148150631889,0.8089611158588327,0.8275456542114262,0.8186436596514789,0.8186248287622119,0.8172622425420326,0.811586231336013,0.8254522203707887,0.8171866729580513,0.7991895575480591,0.8309448252841817,0.7503876783985924,0.8220805763388737,0.8130772428038596,0.8116684034747916,0.8288956716512627,0.8130772428038596,0.8186499034866677,0.8102525134038178,0.8094927450175244,0.8165827921475185,0.8018918323505112,0.8206976878620724,0.8241494068465611,0.8310088646752417,0.8089234037550564,0.8261892083421748,0.7833616126476585,0.8179429153234987,0.8254926262853721,0.8274937148693761,0.8241494068465611,0.8082605332629097,0.8165079250498458,0.8254926262853721,0.8144791105624911],\"type\":\"scatter\",\"xaxis\":\"x3\",\"yaxis\":\"y3\"}],                        {\"template\":{\"data\":{\"bar\":[{\"error_x\":{\"color\":\"#2a3f5f\"},\"error_y\":{\"color\":\"#2a3f5f\"},\"marker\":{\"line\":{\"color\":\"#E5ECF6\",\"width\":0.5},\"pattern\":{\"fillmode\":\"overlay\",\"size\":10,\"solidity\":0.2}},\"type\":\"bar\"}],\"barpolar\":[{\"marker\":{\"line\":{\"color\":\"#E5ECF6\",\"width\":0.5},\"pattern\":{\"fillmode\":\"overlay\",\"size\":10,\"solidity\":0.2}},\"type\":\"barpolar\"}],\"carpet\":[{\"aaxis\":{\"endlinecolor\":\"#2a3f5f\",\"gridcolor\":\"white\",\"linecolor\":\"white\",\"minorgridcolor\":\"white\",\"startlinecolor\":\"#2a3f5f\"},\"baxis\":{\"endlinecolor\":\"#2a3f5f\",\"gridcolor\":\"white\",\"linecolor\":\"white\",\"minorgridcolor\":\"white\",\"startlinecolor\":\"#2a3f5f\"},\"type\":\"carpet\"}],\"choropleth\":[{\"colorbar\":{\"outlinewidth\":0,\"ticks\":\"\"},\"type\":\"choropleth\"}],\"contour\":[{\"colorbar\":{\"outlinewidth\":0,\"ticks\":\"\"},\"colorscale\":[[0.0,\"#0d0887\"],[0.1111111111111111,\"#46039f\"],[0.2222222222222222,\"#7201a8\"],[0.3333333333333333,\"#9c179e\"],[0.4444444444444444,\"#bd3786\"],[0.5555555555555556,\"#d8576b\"],[0.6666666666666666,\"#ed7953\"],[0.7777777777777778,\"#fb9f3a\"],[0.8888888888888888,\"#fdca26\"],[1.0,\"#f0f921\"]],\"type\":\"contour\"}],\"contourcarpet\":[{\"colorbar\":{\"outlinewidth\":0,\"ticks\":\"\"},\"type\":\"contourcarpet\"}],\"heatmap\":[{\"colorbar\":{\"outlinewidth\":0,\"ticks\":\"\"},\"colorscale\":[[0.0,\"#0d0887\"],[0.1111111111111111,\"#46039f\"],[0.2222222222222222,\"#7201a8\"],[0.3333333333333333,\"#9c179e\"],[0.4444444444444444,\"#bd3786\"],[0.5555555555555556,\"#d8576b\"],[0.6666666666666666,\"#ed7953\"],[0.7777777777777778,\"#fb9f3a\"],[0.8888888888888888,\"#fdca26\"],[1.0,\"#f0f921\"]],\"type\":\"heatmap\"}],\"heatmapgl\":[{\"colorbar\":{\"outlinewidth\":0,\"ticks\":\"\"},\"colorscale\":[[0.0,\"#0d0887\"],[0.1111111111111111,\"#46039f\"],[0.2222222222222222,\"#7201a8\"],[0.3333333333333333,\"#9c179e\"],[0.4444444444444444,\"#bd3786\"],[0.5555555555555556,\"#d8576b\"],[0.6666666666666666,\"#ed7953\"],[0.7777777777777778,\"#fb9f3a\"],[0.8888888888888888,\"#fdca26\"],[1.0,\"#f0f921\"]],\"type\":\"heatmapgl\"}],\"histogram\":[{\"marker\":{\"pattern\":{\"fillmode\":\"overlay\",\"size\":10,\"solidity\":0.2}},\"type\":\"histogram\"}],\"histogram2d\":[{\"colorbar\":{\"outlinewidth\":0,\"ticks\":\"\"},\"colorscale\":[[0.0,\"#0d0887\"],[0.1111111111111111,\"#46039f\"],[0.2222222222222222,\"#7201a8\"],[0.3333333333333333,\"#9c179e\"],[0.4444444444444444,\"#bd3786\"],[0.5555555555555556,\"#d8576b\"],[0.6666666666666666,\"#ed7953\"],[0.7777777777777778,\"#fb9f3a\"],[0.8888888888888888,\"#fdca26\"],[1.0,\"#f0f921\"]],\"type\":\"histogram2d\"}],\"histogram2dcontour\":[{\"colorbar\":{\"outlinewidth\":0,\"ticks\":\"\"},\"colorscale\":[[0.0,\"#0d0887\"],[0.1111111111111111,\"#46039f\"],[0.2222222222222222,\"#7201a8\"],[0.3333333333333333,\"#9c179e\"],[0.4444444444444444,\"#bd3786\"],[0.5555555555555556,\"#d8576b\"],[0.6666666666666666,\"#ed7953\"],[0.7777777777777778,\"#fb9f3a\"],[0.8888888888888888,\"#fdca26\"],[1.0,\"#f0f921\"]],\"type\":\"histogram2dcontour\"}],\"mesh3d\":[{\"colorbar\":{\"outlinewidth\":0,\"ticks\":\"\"},\"type\":\"mesh3d\"}],\"parcoords\":[{\"line\":{\"colorbar\":{\"outlinewidth\":0,\"ticks\":\"\"}},\"type\":\"parcoords\"}],\"pie\":[{\"automargin\":true,\"type\":\"pie\"}],\"scatter\":[{\"marker\":{\"colorbar\":{\"outlinewidth\":0,\"ticks\":\"\"}},\"type\":\"scatter\"}],\"scatter3d\":[{\"line\":{\"colorbar\":{\"outlinewidth\":0,\"ticks\":\"\"}},\"marker\":{\"colorbar\":{\"outlinewidth\":0,\"ticks\":\"\"}},\"type\":\"scatter3d\"}],\"scattercarpet\":[{\"marker\":{\"colorbar\":{\"outlinewidth\":0,\"ticks\":\"\"}},\"type\":\"scattercarpet\"}],\"scattergeo\":[{\"marker\":{\"colorbar\":{\"outlinewidth\":0,\"ticks\":\"\"}},\"type\":\"scattergeo\"}],\"scattergl\":[{\"marker\":{\"colorbar\":{\"outlinewidth\":0,\"ticks\":\"\"}},\"type\":\"scattergl\"}],\"scattermapbox\":[{\"marker\":{\"colorbar\":{\"outlinewidth\":0,\"ticks\":\"\"}},\"type\":\"scattermapbox\"}],\"scatterpolar\":[{\"marker\":{\"colorbar\":{\"outlinewidth\":0,\"ticks\":\"\"}},\"type\":\"scatterpolar\"}],\"scatterpolargl\":[{\"marker\":{\"colorbar\":{\"outlinewidth\":0,\"ticks\":\"\"}},\"type\":\"scatterpolargl\"}],\"scatterternary\":[{\"marker\":{\"colorbar\":{\"outlinewidth\":0,\"ticks\":\"\"}},\"type\":\"scatterternary\"}],\"surface\":[{\"colorbar\":{\"outlinewidth\":0,\"ticks\":\"\"},\"colorscale\":[[0.0,\"#0d0887\"],[0.1111111111111111,\"#46039f\"],[0.2222222222222222,\"#7201a8\"],[0.3333333333333333,\"#9c179e\"],[0.4444444444444444,\"#bd3786\"],[0.5555555555555556,\"#d8576b\"],[0.6666666666666666,\"#ed7953\"],[0.7777777777777778,\"#fb9f3a\"],[0.8888888888888888,\"#fdca26\"],[1.0,\"#f0f921\"]],\"type\":\"surface\"}],\"table\":[{\"cells\":{\"fill\":{\"color\":\"#EBF0F8\"},\"line\":{\"color\":\"white\"}},\"header\":{\"fill\":{\"color\":\"#C8D4E3\"},\"line\":{\"color\":\"white\"}},\"type\":\"table\"}]},\"layout\":{\"annotationdefaults\":{\"arrowcolor\":\"#2a3f5f\",\"arrowhead\":0,\"arrowwidth\":1},\"autotypenumbers\":\"strict\",\"coloraxis\":{\"colorbar\":{\"outlinewidth\":0,\"ticks\":\"\"}},\"colorscale\":{\"diverging\":[[0,\"#8e0152\"],[0.1,\"#c51b7d\"],[0.2,\"#de77ae\"],[0.3,\"#f1b6da\"],[0.4,\"#fde0ef\"],[0.5,\"#f7f7f7\"],[0.6,\"#e6f5d0\"],[0.7,\"#b8e186\"],[0.8,\"#7fbc41\"],[0.9,\"#4d9221\"],[1,\"#276419\"]],\"sequential\":[[0.0,\"#0d0887\"],[0.1111111111111111,\"#46039f\"],[0.2222222222222222,\"#7201a8\"],[0.3333333333333333,\"#9c179e\"],[0.4444444444444444,\"#bd3786\"],[0.5555555555555556,\"#d8576b\"],[0.6666666666666666,\"#ed7953\"],[0.7777777777777778,\"#fb9f3a\"],[0.8888888888888888,\"#fdca26\"],[1.0,\"#f0f921\"]],\"sequentialminus\":[[0.0,\"#0d0887\"],[0.1111111111111111,\"#46039f\"],[0.2222222222222222,\"#7201a8\"],[0.3333333333333333,\"#9c179e\"],[0.4444444444444444,\"#bd3786\"],[0.5555555555555556,\"#d8576b\"],[0.6666666666666666,\"#ed7953\"],[0.7777777777777778,\"#fb9f3a\"],[0.8888888888888888,\"#fdca26\"],[1.0,\"#f0f921\"]]},\"colorway\":[\"#636efa\",\"#EF553B\",\"#00cc96\",\"#ab63fa\",\"#FFA15A\",\"#19d3f3\",\"#FF6692\",\"#B6E880\",\"#FF97FF\",\"#FECB52\"],\"font\":{\"color\":\"#2a3f5f\"},\"geo\":{\"bgcolor\":\"white\",\"lakecolor\":\"white\",\"landcolor\":\"#E5ECF6\",\"showlakes\":true,\"showland\":true,\"subunitcolor\":\"white\"},\"hoverlabel\":{\"align\":\"left\"},\"hovermode\":\"closest\",\"mapbox\":{\"style\":\"light\"},\"paper_bgcolor\":\"white\",\"plot_bgcolor\":\"#E5ECF6\",\"polar\":{\"angularaxis\":{\"gridcolor\":\"white\",\"linecolor\":\"white\",\"ticks\":\"\"},\"bgcolor\":\"#E5ECF6\",\"radialaxis\":{\"gridcolor\":\"white\",\"linecolor\":\"white\",\"ticks\":\"\"}},\"scene\":{\"xaxis\":{\"backgroundcolor\":\"#E5ECF6\",\"gridcolor\":\"white\",\"gridwidth\":2,\"linecolor\":\"white\",\"showbackground\":true,\"ticks\":\"\",\"zerolinecolor\":\"white\"},\"yaxis\":{\"backgroundcolor\":\"#E5ECF6\",\"gridcolor\":\"white\",\"gridwidth\":2,\"linecolor\":\"white\",\"showbackground\":true,\"ticks\":\"\",\"zerolinecolor\":\"white\"},\"zaxis\":{\"backgroundcolor\":\"#E5ECF6\",\"gridcolor\":\"white\",\"gridwidth\":2,\"linecolor\":\"white\",\"showbackground\":true,\"ticks\":\"\",\"zerolinecolor\":\"white\"}},\"shapedefaults\":{\"line\":{\"color\":\"#2a3f5f\"}},\"ternary\":{\"aaxis\":{\"gridcolor\":\"white\",\"linecolor\":\"white\",\"ticks\":\"\"},\"baxis\":{\"gridcolor\":\"white\",\"linecolor\":\"white\",\"ticks\":\"\"},\"bgcolor\":\"#E5ECF6\",\"caxis\":{\"gridcolor\":\"white\",\"linecolor\":\"white\",\"ticks\":\"\"}},\"title\":{\"x\":0.05},\"xaxis\":{\"automargin\":true,\"gridcolor\":\"white\",\"linecolor\":\"white\",\"ticks\":\"\",\"title\":{\"standoff\":15},\"zerolinecolor\":\"white\",\"zerolinewidth\":2},\"yaxis\":{\"automargin\":true,\"gridcolor\":\"white\",\"linecolor\":\"white\",\"ticks\":\"\",\"title\":{\"standoff\":15},\"zerolinecolor\":\"white\",\"zerolinewidth\":2}}},\"xaxis\":{\"anchor\":\"y\",\"domain\":[0.0,0.2888888888888889],\"title\":{\"text\":\"xgb_learning_rate\"},\"type\":\"log\"},\"yaxis\":{\"anchor\":\"x\",\"domain\":[0.0,1.0],\"title\":{\"text\":\"Objective Value\"}},\"xaxis2\":{\"anchor\":\"y2\",\"domain\":[0.35555555555555557,0.6444444444444445],\"title\":{\"text\":\"xgb_max_depth\"}},\"yaxis2\":{\"anchor\":\"x2\",\"domain\":[0.0,1.0],\"matches\":\"y\",\"showticklabels\":false},\"xaxis3\":{\"anchor\":\"y3\",\"domain\":[0.7111111111111111,1.0],\"title\":{\"text\":\"xgb_n_estimators\"}},\"yaxis3\":{\"anchor\":\"x3\",\"domain\":[0.0,1.0],\"matches\":\"y\",\"showticklabels\":false},\"title\":{\"text\":\"Slice Plot\"}},                        {\"responsive\": true}                    ).then(function(){\n",
              "                            \n",
              "var gd = document.getElementById('911d3019-15a8-455c-a25e-982c1f64dc7a');\n",
              "var x = new MutationObserver(function (mutations, observer) {{\n",
              "        var display = window.getComputedStyle(gd).display;\n",
              "        if (!display || display === 'none') {{\n",
              "            console.log([gd, 'removed!']);\n",
              "            Plotly.purge(gd);\n",
              "            observer.disconnect();\n",
              "        }}\n",
              "}});\n",
              "\n",
              "// Listen for the removal of the full notebook cells\n",
              "var notebookContainer = gd.closest('#notebook-container');\n",
              "if (notebookContainer) {{\n",
              "    x.observe(notebookContainer, {childList: true});\n",
              "}}\n",
              "\n",
              "// Listen for the clearing of the current output cell\n",
              "var outputEl = gd.closest('.output');\n",
              "if (outputEl) {{\n",
              "    x.observe(outputEl, {childList: true});\n",
              "}}\n",
              "\n",
              "                        })                };                            </script>        </div>\n",
              "</body>\n",
              "</html>"
            ]
          },
          "metadata": {}
        }
      ]
    },
    {
      "cell_type": "markdown",
      "source": [
        "Observa-se que valores mais próximos de 0.01 para learning_rate, valores acima entre 15 e 32 para max_depth e valores entre 750 e 100 para n_estimators produziram os melhores resultados, portanto re-executamos os testes com estes intervalos"
      ],
      "metadata": {
        "id": "y2ukfv2gskSU"
      }
    },
    {
      "cell_type": "code",
      "source": [
        "# Passo 1. Definindo função de objetivo a ser maximizada\n",
        "def objective_xgb(trial):\n",
        "  classifier = trial.suggest_categorical(\"classifier\", [\"XGB\"])\n",
        "  \n",
        "  # Passo 2. Definindo conjunto de hiperparâmetros\n",
        "  xgb_n_estimators = trial.suggest_int(\"xgb_n_estimators\", 750, 1250)\n",
        "  xgb_learning_rate = trial.suggest_float('xgb_learning_rate', 1e-3, 1e-1, log=True)\n",
        "  xgb_max_depth = trial.suggest_int(\"xgb_max_depth\", 15, 32) # É importante não aumentar o upper range pra prevenir possível overfitting\n",
        "  clf = XGBClassifier(\n",
        "      random_state=RANDOM_STATE, \n",
        "      n_estimators=xgb_n_estimators, \n",
        "      learning_rate=xgb_learning_rate, \n",
        "      max_depth=xgb_max_depth\n",
        "  )\n",
        "  \n",
        "  # Treinando o modelo\n",
        "  clf.fit(X_train, y_train)\n",
        "\n",
        "  # Usando conjunto de validação para obter métricas\n",
        "  y_pred = clf.predict(X_val)\n",
        "  y_proba = clf.predict_proba(X_val)\n",
        "\n",
        "  # Passo 3: Métrica otimizada\n",
        "  acc, auroc, f1 = eval_metrics(y_val, y_pred, y_proba)\n",
        "  return f1"
      ],
      "metadata": {
        "id": "kaRDwiixs9G_"
      },
      "execution_count": null,
      "outputs": []
    },
    {
      "cell_type": "code",
      "source": [
        "# Passo 4: Rodar o estudo\n",
        "study = optuna.create_study(direction=\"maximize\")\n",
        "study.optimize(objective_xgb, n_trials=100)"
      ],
      "metadata": {
        "colab": {
          "base_uri": "https://localhost:8080/"
        },
        "id": "5ZrWdE9btx3o",
        "outputId": "6600163a-6bd7-4756-cee0-8a164c8456a3"
      },
      "execution_count": null,
      "outputs": [
        {
          "output_type": "stream",
          "name": "stderr",
          "text": [
            "\u001b[32m[I 2022-09-02 15:01:03,377]\u001b[0m A new study created in memory with name: no-name-5e082d76-3ac8-46e1-bbd9-af9a832e9636\u001b[0m\n",
            "\u001b[32m[I 2022-09-02 15:01:30,538]\u001b[0m Trial 0 finished with value: 0.8413327477619397 and parameters: {'classifier': 'XGB', 'xgb_n_estimators': 951, 'xgb_learning_rate': 0.04927992775390207, 'xgb_max_depth': 29}. Best is trial 0 with value: 0.8413327477619397.\u001b[0m\n",
            "\u001b[32m[I 2022-09-02 15:02:17,749]\u001b[0m Trial 1 finished with value: 0.8067401971270827 and parameters: {'classifier': 'XGB', 'xgb_n_estimators': 974, 'xgb_learning_rate': 0.0039048312637305163, 'xgb_max_depth': 24}. Best is trial 0 with value: 0.8413327477619397.\u001b[0m\n",
            "\u001b[32m[I 2022-09-02 15:02:57,735]\u001b[0m Trial 2 finished with value: 0.8268871296673208 and parameters: {'classifier': 'XGB', 'xgb_n_estimators': 913, 'xgb_learning_rate': 0.012371766505379769, 'xgb_max_depth': 28}. Best is trial 0 with value: 0.8413327477619397.\u001b[0m\n",
            "\u001b[32m[I 2022-09-02 15:03:53,313]\u001b[0m Trial 3 finished with value: 0.8071891618372938 and parameters: {'classifier': 'XGB', 'xgb_n_estimators': 1166, 'xgb_learning_rate': 0.0011824145649372798, 'xgb_max_depth': 26}. Best is trial 0 with value: 0.8413327477619397.\u001b[0m\n",
            "\u001b[32m[I 2022-09-02 15:04:41,648]\u001b[0m Trial 4 finished with value: 0.8089234037550564 and parameters: {'classifier': 'XGB', 'xgb_n_estimators': 949, 'xgb_learning_rate': 0.0038644127404506247, 'xgb_max_depth': 30}. Best is trial 0 with value: 0.8413327477619397.\u001b[0m\n",
            "\u001b[32m[I 2022-09-02 15:05:05,450]\u001b[0m Trial 5 finished with value: 0.8400454071340331 and parameters: {'classifier': 'XGB', 'xgb_n_estimators': 847, 'xgb_learning_rate': 0.05700796586559933, 'xgb_max_depth': 28}. Best is trial 0 with value: 0.8413327477619397.\u001b[0m\n",
            "\u001b[32m[I 2022-09-02 15:05:42,863]\u001b[0m Trial 6 finished with value: 0.8179429153234987 and parameters: {'classifier': 'XGB', 'xgb_n_estimators': 985, 'xgb_learning_rate': 0.006040327904116621, 'xgb_max_depth': 16}. Best is trial 0 with value: 0.8413327477619397.\u001b[0m\n",
            "\u001b[32m[I 2022-09-02 15:06:07,602]\u001b[0m Trial 7 finished with value: 0.8334150625945033 and parameters: {'classifier': 'XGB', 'xgb_n_estimators': 811, 'xgb_learning_rate': 0.04647089495061442, 'xgb_max_depth': 29}. Best is trial 0 with value: 0.8413327477619397.\u001b[0m\n",
            "\u001b[32m[I 2022-09-02 15:06:35,629]\u001b[0m Trial 8 finished with value: 0.8295986821374809 and parameters: {'classifier': 'XGB', 'xgb_n_estimators': 766, 'xgb_learning_rate': 0.01730217681906588, 'xgb_max_depth': 17}. Best is trial 0 with value: 0.8413327477619397.\u001b[0m\n",
            "\u001b[32m[I 2022-09-02 15:07:11,840]\u001b[0m Trial 9 finished with value: 0.8082605332629097 and parameters: {'classifier': 'XGB', 'xgb_n_estimators': 795, 'xgb_learning_rate': 0.0031031598517260203, 'xgb_max_depth': 20}. Best is trial 0 with value: 0.8413327477619397.\u001b[0m\n",
            "\u001b[32m[I 2022-09-02 15:07:34,594]\u001b[0m Trial 10 finished with value: 0.8364537316135469 and parameters: {'classifier': 'XGB', 'xgb_n_estimators': 1114, 'xgb_learning_rate': 0.09895343479081667, 'xgb_max_depth': 32}. Best is trial 0 with value: 0.8413327477619397.\u001b[0m\n",
            "\u001b[32m[I 2022-09-02 15:08:01,360]\u001b[0m Trial 11 finished with value: 0.8347211489009806 and parameters: {'classifier': 'XGB', 'xgb_n_estimators': 878, 'xgb_learning_rate': 0.042825462005089035, 'xgb_max_depth': 25}. Best is trial 0 with value: 0.8413327477619397.\u001b[0m\n",
            "\u001b[32m[I 2022-09-02 15:08:33,955]\u001b[0m Trial 12 finished with value: 0.8390209847185292 and parameters: {'classifier': 'XGB', 'xgb_n_estimators': 1049, 'xgb_learning_rate': 0.033636148868434815, 'xgb_max_depth': 22}. Best is trial 0 with value: 0.8413327477619397.\u001b[0m\n",
            "\u001b[32m[I 2022-09-02 15:08:55,485]\u001b[0m Trial 13 finished with value: 0.8420574145914665 and parameters: {'classifier': 'XGB', 'xgb_n_estimators': 863, 'xgb_learning_rate': 0.085681826269485, 'xgb_max_depth': 32}. Best is trial 13 with value: 0.8420574145914665.\u001b[0m\n",
            "\u001b[32m[I 2022-09-02 15:09:17,572]\u001b[0m Trial 14 finished with value: 0.8386046000699972 and parameters: {'classifier': 'XGB', 'xgb_n_estimators': 1052, 'xgb_learning_rate': 0.09864745249100253, 'xgb_max_depth': 31}. Best is trial 13 with value: 0.8420574145914665.\u001b[0m\n",
            "\u001b[32m[I 2022-09-02 15:09:51,138]\u001b[0m Trial 15 finished with value: 0.8321030697093214 and parameters: {'classifier': 'XGB', 'xgb_n_estimators': 899, 'xgb_learning_rate': 0.0222697845348068, 'xgb_max_depth': 32}. Best is trial 13 with value: 0.8420574145914665.\u001b[0m\n",
            "\u001b[32m[I 2022-09-02 15:10:27,333]\u001b[0m Trial 16 finished with value: 0.838891208517615 and parameters: {'classifier': 'XGB', 'xgb_n_estimators': 1042, 'xgb_learning_rate': 0.026495063849771315, 'xgb_max_depth': 27}. Best is trial 13 with value: 0.8420574145914665.\u001b[0m\n",
            "\u001b[32m[I 2022-09-02 15:10:57,385]\u001b[0m Trial 17 finished with value: 0.8351714114792813 and parameters: {'classifier': 'XGB', 'xgb_n_estimators': 1233, 'xgb_learning_rate': 0.0624456512163738, 'xgb_max_depth': 22}. Best is trial 13 with value: 0.8420574145914665.\u001b[0m\n",
            "\u001b[32m[I 2022-09-02 15:11:36,218]\u001b[0m Trial 18 finished with value: 0.8296512430476575 and parameters: {'classifier': 'XGB', 'xgb_n_estimators': 853, 'xgb_learning_rate': 0.009644436403024136, 'xgb_max_depth': 30}. Best is trial 13 with value: 0.8420574145914665.\u001b[0m\n",
            "\u001b[32m[I 2022-09-02 15:11:59,078]\u001b[0m Trial 19 finished with value: 0.8345947764692516 and parameters: {'classifier': 'XGB', 'xgb_n_estimators': 931, 'xgb_learning_rate': 0.07497748899462187, 'xgb_max_depth': 32}. Best is trial 13 with value: 0.8420574145914665.\u001b[0m\n",
            "\u001b[32m[I 2022-09-02 15:12:32,257]\u001b[0m Trial 20 finished with value: 0.837453485319485 and parameters: {'classifier': 'XGB', 'xgb_n_estimators': 1014, 'xgb_learning_rate': 0.030720348395697702, 'xgb_max_depth': 29}. Best is trial 13 with value: 0.8420574145914665.\u001b[0m\n",
            "\u001b[32m[I 2022-09-02 15:12:56,692]\u001b[0m Trial 21 finished with value: 0.8321030697093214 and parameters: {'classifier': 'XGB', 'xgb_n_estimators': 842, 'xgb_learning_rate': 0.05040315512799497, 'xgb_max_depth': 27}. Best is trial 13 with value: 0.8420574145914665.\u001b[0m\n",
            "\u001b[32m[I 2022-09-02 15:13:19,567]\u001b[0m Trial 22 finished with value: 0.8361487788729521 and parameters: {'classifier': 'XGB', 'xgb_n_estimators': 755, 'xgb_learning_rate': 0.06019255392561854, 'xgb_max_depth': 28}. Best is trial 13 with value: 0.8420574145914665.\u001b[0m\n",
            "\u001b[32m[I 2022-09-02 15:13:39,886]\u001b[0m Trial 23 finished with value: 0.8378862837382984 and parameters: {'classifier': 'XGB', 'xgb_n_estimators': 847, 'xgb_learning_rate': 0.08619679587775826, 'xgb_max_depth': 30}. Best is trial 13 with value: 0.8420574145914665.\u001b[0m\n",
            "\u001b[32m[I 2022-09-02 15:14:15,394]\u001b[0m Trial 24 finished with value: 0.8354342739569942 and parameters: {'classifier': 'XGB', 'xgb_n_estimators': 888, 'xgb_learning_rate': 0.016847233607719135, 'xgb_max_depth': 26}. Best is trial 13 with value: 0.8420574145914665.\u001b[0m\n",
            "\u001b[32m[I 2022-09-02 15:14:41,796]\u001b[0m Trial 25 finished with value: 0.8416424551620643 and parameters: {'classifier': 'XGB', 'xgb_n_estimators': 810, 'xgb_learning_rate': 0.03799031289509388, 'xgb_max_depth': 31}. Best is trial 13 with value: 0.8420574145914665.\u001b[0m\n",
            "\u001b[32m[I 2022-09-02 15:15:08,236]\u001b[0m Trial 26 finished with value: 0.8373158553002166 and parameters: {'classifier': 'XGB', 'xgb_n_estimators': 806, 'xgb_learning_rate': 0.036701634441792245, 'xgb_max_depth': 31}. Best is trial 13 with value: 0.8420574145914665.\u001b[0m\n",
            "\u001b[32m[I 2022-09-02 15:15:45,526]\u001b[0m Trial 27 finished with value: 0.8407679361363105 and parameters: {'classifier': 'XGB', 'xgb_n_estimators': 957, 'xgb_learning_rate': 0.021113463387412927, 'xgb_max_depth': 31}. Best is trial 13 with value: 0.8420574145914665.\u001b[0m\n",
            "\u001b[32m[I 2022-09-02 15:16:22,437]\u001b[0m Trial 28 finished with value: 0.8207045271554395 and parameters: {'classifier': 'XGB', 'xgb_n_estimators': 796, 'xgb_learning_rate': 0.00934689407579358, 'xgb_max_depth': 32}. Best is trial 13 with value: 0.8420574145914665.\u001b[0m\n",
            "\u001b[32m[I 2022-09-02 15:16:46,891]\u001b[0m Trial 29 finished with value: 0.8427835318814204 and parameters: {'classifier': 'XGB', 'xgb_n_estimators': 1001, 'xgb_learning_rate': 0.06917355028625091, 'xgb_max_depth': 24}. Best is trial 29 with value: 0.8427835318814204.\u001b[0m\n",
            "\u001b[32m[I 2022-09-02 15:17:12,319]\u001b[0m Trial 30 finished with value: 0.8341259242911369 and parameters: {'classifier': 'XGB', 'xgb_n_estimators': 1113, 'xgb_learning_rate': 0.07203751507690424, 'xgb_max_depth': 19}. Best is trial 29 with value: 0.8427835318814204.\u001b[0m\n",
            "\u001b[32m[I 2022-09-02 15:17:43,031]\u001b[0m Trial 31 finished with value: 0.8373158553002166 and parameters: {'classifier': 'XGB', 'xgb_n_estimators': 984, 'xgb_learning_rate': 0.0408703656719513, 'xgb_max_depth': 24}. Best is trial 29 with value: 0.8427835318814204.\u001b[0m\n",
            "\u001b[32m[I 2022-09-02 15:18:05,663]\u001b[0m Trial 32 finished with value: 0.8360213922191659 and parameters: {'classifier': 'XGB', 'xgb_n_estimators': 928, 'xgb_learning_rate': 0.07493261842413135, 'xgb_max_depth': 23}. Best is trial 29 with value: 0.8427835318814204.\u001b[0m\n",
            "\u001b[32m[I 2022-09-02 15:18:35,154]\u001b[0m Trial 33 finished with value: 0.8444315983641056 and parameters: {'classifier': 'XGB', 'xgb_n_estimators': 1094, 'xgb_learning_rate': 0.04891408468110253, 'xgb_max_depth': 29}. Best is trial 33 with value: 0.8444315983641056.\u001b[0m\n",
            "\u001b[32m[I 2022-09-02 15:19:04,680]\u001b[0m Trial 34 finished with value: 0.8327055531558705 and parameters: {'classifier': 'XGB', 'xgb_n_estimators': 1120, 'xgb_learning_rate': 0.05091967480118538, 'xgb_max_depth': 30}. Best is trial 33 with value: 0.8444315983641056.\u001b[0m\n",
            "\u001b[32m[I 2022-09-02 15:19:42,767]\u001b[0m Trial 35 finished with value: 0.8355517803606051 and parameters: {'classifier': 'XGB', 'xgb_n_estimators': 1163, 'xgb_learning_rate': 0.026480202963792915, 'xgb_max_depth': 29}. Best is trial 33 with value: 0.8444315983641056.\u001b[0m\n",
            "\u001b[32m[I 2022-09-02 15:20:34,575]\u001b[0m Trial 36 finished with value: 0.8062784546277161 and parameters: {'classifier': 'XGB', 'xgb_n_estimators': 1086, 'xgb_learning_rate': 0.002193353388873789, 'xgb_max_depth': 20}. Best is trial 33 with value: 0.8444315983641056.\u001b[0m\n",
            "\u001b[32m[I 2022-09-02 15:21:16,109]\u001b[0m Trial 37 finished with value: 0.8307851058015202 and parameters: {'classifier': 'XGB', 'xgb_n_estimators': 1014, 'xgb_learning_rate': 0.013221054722260426, 'xgb_max_depth': 27}. Best is trial 33 with value: 0.8444315983641056.\u001b[0m\n",
            "\u001b[32m[I 2022-09-02 15:22:14,368]\u001b[0m Trial 38 finished with value: 0.8112060542990169 and parameters: {'classifier': 'XGB', 'xgb_n_estimators': 1194, 'xgb_learning_rate': 0.0011223464319834538, 'xgb_max_depth': 25}. Best is trial 33 with value: 0.8444315983641056.\u001b[0m\n",
            "\u001b[32m[I 2022-09-02 15:22:38,956]\u001b[0m Trial 39 finished with value: 0.8386046000699972 and parameters: {'classifier': 'XGB', 'xgb_n_estimators': 959, 'xgb_learning_rate': 0.06512044847095559, 'xgb_max_depth': 28}. Best is trial 33 with value: 0.8444315983641056.\u001b[0m\n",
            "\u001b[32m[I 2022-09-02 15:23:28,651]\u001b[0m Trial 40 finished with value: 0.8220753434508655 and parameters: {'classifier': 'XGB', 'xgb_n_estimators': 1082, 'xgb_learning_rate': 0.007338859930680375, 'xgb_max_depth': 31}. Best is trial 33 with value: 0.8444315983641056.\u001b[0m\n",
            "\u001b[32m[I 2022-09-02 15:23:55,577]\u001b[0m Trial 41 finished with value: 0.8396122302282445 and parameters: {'classifier': 'XGB', 'xgb_n_estimators': 873, 'xgb_learning_rate': 0.04320393589266152, 'xgb_max_depth': 29}. Best is trial 33 with value: 0.8444315983641056.\u001b[0m\n",
            "\u001b[32m[I 2022-09-02 15:24:18,179]\u001b[0m Trial 42 finished with value: 0.8458918993561602 and parameters: {'classifier': 'XGB', 'xgb_n_estimators': 916, 'xgb_learning_rate': 0.05294280792427174, 'xgb_max_depth': 15}. Best is trial 42 with value: 0.8458918993561602.\u001b[0m\n",
            "\u001b[32m[I 2022-09-02 15:24:40,419]\u001b[0m Trial 43 finished with value: 0.8471589451898791 and parameters: {'classifier': 'XGB', 'xgb_n_estimators': 825, 'xgb_learning_rate': 0.05466132863394454, 'xgb_max_depth': 15}. Best is trial 43 with value: 0.8471589451898791.\u001b[0m\n",
            "\u001b[32m[I 2022-09-02 15:25:01,024]\u001b[0m Trial 44 finished with value: 0.8345947764692516 and parameters: {'classifier': 'XGB', 'xgb_n_estimators': 915, 'xgb_learning_rate': 0.08077812609657739, 'xgb_max_depth': 16}. Best is trial 43 with value: 0.8471589451898791.\u001b[0m\n",
            "\u001b[32m[I 2022-09-02 15:25:20,913]\u001b[0m Trial 45 finished with value: 0.838891208517615 and parameters: {'classifier': 'XGB', 'xgb_n_estimators': 778, 'xgb_learning_rate': 0.053691085128192394, 'xgb_max_depth': 15}. Best is trial 43 with value: 0.8471589451898791.\u001b[0m\n",
            "\u001b[32m[I 2022-09-02 15:25:39,506]\u001b[0m Trial 46 finished with value: 0.8391672560494806 and parameters: {'classifier': 'XGB', 'xgb_n_estimators': 828, 'xgb_learning_rate': 0.09732852010824451, 'xgb_max_depth': 18}. Best is trial 43 with value: 0.8471589451898791.\u001b[0m\n",
            "\u001b[32m[I 2022-09-02 15:26:03,998]\u001b[0m Trial 47 finished with value: 0.837453485319485 and parameters: {'classifier': 'XGB', 'xgb_n_estimators': 871, 'xgb_learning_rate': 0.029485471850912458, 'xgb_max_depth': 15}. Best is trial 43 with value: 0.8471589451898791.\u001b[0m\n",
            "\u001b[32m[I 2022-09-02 15:26:27,404]\u001b[0m Trial 48 finished with value: 0.8354342739569942 and parameters: {'classifier': 'XGB', 'xgb_n_estimators': 903, 'xgb_learning_rate': 0.05423291856069281, 'xgb_max_depth': 17}. Best is trial 43 with value: 0.8471589451898791.\u001b[0m\n",
            "\u001b[32m[I 2022-09-02 15:27:12,149]\u001b[0m Trial 49 finished with value: 0.8104001896356371 and parameters: {'classifier': 'XGB', 'xgb_n_estimators': 938, 'xgb_learning_rate': 0.0018613787673592834, 'xgb_max_depth': 21}. Best is trial 43 with value: 0.8471589451898791.\u001b[0m\n",
            "\u001b[32m[I 2022-09-02 15:27:50,665]\u001b[0m Trial 50 finished with value: 0.8151541623282612 and parameters: {'classifier': 'XGB', 'xgb_n_estimators': 998, 'xgb_learning_rate': 0.005075462904475006, 'xgb_max_depth': 16}. Best is trial 43 with value: 0.8471589451898791.\u001b[0m\n",
            "\u001b[32m[I 2022-09-02 15:28:14,349]\u001b[0m Trial 51 finished with value: 0.8407679361363105 and parameters: {'classifier': 'XGB', 'xgb_n_estimators': 823, 'xgb_learning_rate': 0.04016352643054269, 'xgb_max_depth': 17}. Best is trial 43 with value: 0.8471589451898791.\u001b[0m\n",
            "\u001b[32m[I 2022-09-02 15:28:35,047]\u001b[0m Trial 52 finished with value: 0.8397215327056899 and parameters: {'classifier': 'XGB', 'xgb_n_estimators': 786, 'xgb_learning_rate': 0.061489578677799334, 'xgb_max_depth': 18}. Best is trial 43 with value: 0.8471589451898791.\u001b[0m\n",
            "\u001b[32m[I 2022-09-02 15:28:58,848]\u001b[0m Trial 53 finished with value: 0.8380333996765995 and parameters: {'classifier': 'XGB', 'xgb_n_estimators': 823, 'xgb_learning_rate': 0.03575872505311834, 'xgb_max_depth': 15}. Best is trial 43 with value: 0.8471589451898791.\u001b[0m\n",
            "\u001b[32m[I 2022-09-02 15:29:23,965]\u001b[0m Trial 54 finished with value: 0.8353074090693552 and parameters: {'classifier': 'XGB', 'xgb_n_estimators': 855, 'xgb_learning_rate': 0.046849457555731756, 'xgb_max_depth': 23}. Best is trial 43 with value: 0.8471589451898791.\u001b[0m\n",
            "\u001b[32m[I 2022-09-02 15:29:44,023]\u001b[0m Trial 55 finished with value: 0.8378862837382984 and parameters: {'classifier': 'XGB', 'xgb_n_estimators': 873, 'xgb_learning_rate': 0.09320639788763556, 'xgb_max_depth': 32}. Best is trial 43 with value: 0.8471589451898791.\u001b[0m\n",
            "\u001b[32m[I 2022-09-02 15:30:04,963]\u001b[0m Trial 56 finished with value: 0.8387523403912005 and parameters: {'classifier': 'XGB', 'xgb_n_estimators': 764, 'xgb_learning_rate': 0.0684363739175566, 'xgb_max_depth': 31}. Best is trial 43 with value: 0.8471589451898791.\u001b[0m\n",
            "\u001b[32m[I 2022-09-02 15:30:36,296]\u001b[0m Trial 57 finished with value: 0.8340093847617325 and parameters: {'classifier': 'XGB', 'xgb_n_estimators': 834, 'xgb_learning_rate': 0.022563196835172616, 'xgb_max_depth': 25}. Best is trial 43 with value: 0.8471589451898791.\u001b[0m\n",
            "\u001b[32m[I 2022-09-02 15:31:00,269]\u001b[0m Trial 58 finished with value: 0.8442360978757821 and parameters: {'classifier': 'XGB', 'xgb_n_estimators': 1026, 'xgb_learning_rate': 0.076957862652571, 'xgb_max_depth': 30}. Best is trial 43 with value: 0.8471589451898791.\u001b[0m\n",
            "\u001b[32m[I 2022-09-02 15:31:24,576]\u001b[0m Trial 59 finished with value: 0.8454898358632149 and parameters: {'classifier': 'XGB', 'xgb_n_estimators': 1018, 'xgb_learning_rate': 0.08335122969965272, 'xgb_max_depth': 28}. Best is trial 43 with value: 0.8471589451898791.\u001b[0m\n",
            "\u001b[32m[I 2022-09-02 15:31:48,084]\u001b[0m Trial 60 finished with value: 0.8391672560494806 and parameters: {'classifier': 'XGB', 'xgb_n_estimators': 1031, 'xgb_learning_rate': 0.08101588153659751, 'xgb_max_depth': 26}. Best is trial 43 with value: 0.8471589451898791.\u001b[0m\n",
            "\u001b[32m[I 2022-09-02 15:32:15,462]\u001b[0m Trial 61 finished with value: 0.8299853698468653 and parameters: {'classifier': 'XGB', 'xgb_n_estimators': 1070, 'xgb_learning_rate': 0.059004814928572596, 'xgb_max_depth': 28}. Best is trial 43 with value: 0.8471589451898791.\u001b[0m\n",
            "\u001b[32m[I 2022-09-02 15:32:37,751]\u001b[0m Trial 62 finished with value: 0.8291776446239825 and parameters: {'classifier': 'XGB', 'xgb_n_estimators': 972, 'xgb_learning_rate': 0.08342419898370987, 'xgb_max_depth': 30}. Best is trial 43 with value: 0.8471589451898791.\u001b[0m\n",
            "\u001b[32m[I 2022-09-02 15:33:02,663]\u001b[0m Trial 63 finished with value: 0.8384481983011866 and parameters: {'classifier': 'XGB', 'xgb_n_estimators': 1030, 'xgb_learning_rate': 0.06989066038873391, 'xgb_max_depth': 30}. Best is trial 43 with value: 0.8471589451898791.\u001b[0m\n",
            "\u001b[32m[I 2022-09-02 15:33:25,079]\u001b[0m Trial 64 finished with value: 0.8365996882696244 and parameters: {'classifier': 'XGB', 'xgb_n_estimators': 1003, 'xgb_learning_rate': 0.09804454502212843, 'xgb_max_depth': 27}. Best is trial 43 with value: 0.8471589451898791.\u001b[0m\n",
            "\u001b[32m[I 2022-09-02 15:33:54,507]\u001b[0m Trial 65 finished with value: 0.8381716334547674 and parameters: {'classifier': 'XGB', 'xgb_n_estimators': 1060, 'xgb_learning_rate': 0.04789327574785387, 'xgb_max_depth': 29}. Best is trial 43 with value: 0.8471589451898791.\u001b[0m\n",
            "\u001b[32m[I 2022-09-02 15:34:20,404]\u001b[0m Trial 66 finished with value: 0.8438904954516947 and parameters: {'classifier': 'XGB', 'xgb_n_estimators': 1099, 'xgb_learning_rate': 0.05840668778914355, 'xgb_max_depth': 16}. Best is trial 43 with value: 0.8471589451898791.\u001b[0m\n",
            "\u001b[32m[I 2022-09-02 15:34:47,088]\u001b[0m Trial 67 finished with value: 0.8391672560494806 and parameters: {'classifier': 'XGB', 'xgb_n_estimators': 1135, 'xgb_learning_rate': 0.05669260991365327, 'xgb_max_depth': 16}. Best is trial 43 with value: 0.8471589451898791.\u001b[0m\n",
            "\u001b[32m[I 2022-09-02 15:35:16,390]\u001b[0m Trial 68 finished with value: 0.8420574145914665 and parameters: {'classifier': 'XGB', 'xgb_n_estimators': 1041, 'xgb_learning_rate': 0.03110507406786154, 'xgb_max_depth': 16}. Best is trial 43 with value: 0.8471589451898791.\u001b[0m\n",
            "\u001b[32m[I 2022-09-02 15:35:43,115]\u001b[0m Trial 69 finished with value: 0.8418890915472294 and parameters: {'classifier': 'XGB', 'xgb_n_estimators': 1088, 'xgb_learning_rate': 0.0650691007982775, 'xgb_max_depth': 17}. Best is trial 43 with value: 0.8471589451898791.\u001b[0m\n",
            "\u001b[32m[I 2022-09-02 15:36:06,678]\u001b[0m Trial 70 finished with value: 0.8394726966819759 and parameters: {'classifier': 'XGB', 'xgb_n_estimators': 1103, 'xgb_learning_rate': 0.07511079252724266, 'xgb_max_depth': 15}. Best is trial 43 with value: 0.8471589451898791.\u001b[0m\n",
            "\u001b[32m[I 2022-09-02 15:36:34,387]\u001b[0m Trial 71 finished with value: 0.8393243015310783 and parameters: {'classifier': 'XGB', 'xgb_n_estimators': 1037, 'xgb_learning_rate': 0.045859911229586985, 'xgb_max_depth': 18}. Best is trial 43 with value: 0.8471589451898791.\u001b[0m\n",
            "\u001b[32m[I 2022-09-02 15:37:03,665]\u001b[0m Trial 72 finished with value: 0.8381716334547674 and parameters: {'classifier': 'XGB', 'xgb_n_estimators': 1065, 'xgb_learning_rate': 0.03310470569683837, 'xgb_max_depth': 16}. Best is trial 43 with value: 0.8471589451898791.\u001b[0m\n",
            "\u001b[32m[I 2022-09-02 15:37:28,757]\u001b[0m Trial 73 finished with value: 0.8451610229047793 and parameters: {'classifier': 'XGB', 'xgb_n_estimators': 1014, 'xgb_learning_rate': 0.05271230440691106, 'xgb_max_depth': 16}. Best is trial 43 with value: 0.8471589451898791.\u001b[0m\n",
            "\u001b[32m[I 2022-09-02 15:37:54,178]\u001b[0m Trial 74 finished with value: 0.8398876876427639 and parameters: {'classifier': 'XGB', 'xgb_n_estimators': 1017, 'xgb_learning_rate': 0.05336252216574251, 'xgb_max_depth': 15}. Best is trial 43 with value: 0.8471589451898791.\u001b[0m\n",
            "\u001b[32m[I 2022-09-02 15:38:16,283]\u001b[0m Trial 75 finished with value: 0.8378862837382984 and parameters: {'classifier': 'XGB', 'xgb_n_estimators': 978, 'xgb_learning_rate': 0.08628042846297217, 'xgb_max_depth': 19}. Best is trial 43 with value: 0.8471589451898791.\u001b[0m\n",
            "\u001b[32m[I 2022-09-02 15:38:41,839]\u001b[0m Trial 76 finished with value: 0.8347211489009806 and parameters: {'classifier': 'XGB', 'xgb_n_estimators': 992, 'xgb_learning_rate': 0.061296779347915026, 'xgb_max_depth': 24}. Best is trial 43 with value: 0.8471589451898791.\u001b[0m\n",
            "\u001b[32m[I 2022-09-02 15:39:13,108]\u001b[0m Trial 77 finished with value: 0.8301649554171066 and parameters: {'classifier': 'XGB', 'xgb_n_estimators': 1145, 'xgb_learning_rate': 0.04272838667476907, 'xgb_max_depth': 21}. Best is trial 43 with value: 0.8471589451898791.\u001b[0m\n",
            "\u001b[32m[I 2022-09-02 15:39:37,357]\u001b[0m Trial 78 finished with value: 0.8393243015310783 and parameters: {'classifier': 'XGB', 'xgb_n_estimators': 962, 'xgb_learning_rate': 0.06873251154574032, 'xgb_max_depth': 28}. Best is trial 43 with value: 0.8471589451898791.\u001b[0m\n",
            "\u001b[32m[I 2022-09-02 15:40:09,961]\u001b[0m Trial 79 finished with value: 0.8387523403912005 and parameters: {'classifier': 'XGB', 'xgb_n_estimators': 1024, 'xgb_learning_rate': 0.02580719119542115, 'xgb_max_depth': 17}. Best is trial 43 with value: 0.8471589451898791.\u001b[0m\n",
            "\u001b[32m[I 2022-09-02 15:40:34,812]\u001b[0m Trial 80 finished with value: 0.8373158553002166 and parameters: {'classifier': 'XGB', 'xgb_n_estimators': 941, 'xgb_learning_rate': 0.03770817636623932, 'xgb_max_depth': 15}. Best is trial 43 with value: 0.8471589451898791.\u001b[0m\n",
            "\u001b[32m[I 2022-09-02 15:40:58,097]\u001b[0m Trial 81 finished with value: 0.8400454071340331 and parameters: {'classifier': 'XGB', 'xgb_n_estimators': 1050, 'xgb_learning_rate': 0.08707555329398212, 'xgb_max_depth': 29}. Best is trial 43 with value: 0.8471589451898791.\u001b[0m\n",
            "\u001b[32m[I 2022-09-02 15:41:26,742]\u001b[0m Trial 82 finished with value: 0.8400454071340331 and parameters: {'classifier': 'XGB', 'xgb_n_estimators': 1009, 'xgb_learning_rate': 0.03035755817486791, 'xgb_max_depth': 16}. Best is trial 43 with value: 0.8471589451898791.\u001b[0m\n",
            "\u001b[32m[I 2022-09-02 15:41:52,614]\u001b[0m Trial 83 finished with value: 0.8418890915472294 and parameters: {'classifier': 'XGB', 'xgb_n_estimators': 1045, 'xgb_learning_rate': 0.050802434473356535, 'xgb_max_depth': 16}. Best is trial 43 with value: 0.8471589451898791.\u001b[0m\n",
            "\u001b[32m[I 2022-09-02 15:42:19,854]\u001b[0m Trial 84 finished with value: 0.8417125695664889 and parameters: {'classifier': 'XGB', 'xgb_n_estimators': 1077, 'xgb_learning_rate': 0.05750268655360696, 'xgb_max_depth': 17}. Best is trial 43 with value: 0.8471589451898791.\u001b[0m\n",
            "\u001b[32m[I 2022-09-02 15:42:45,744]\u001b[0m Trial 85 finished with value: 0.8380333996765995 and parameters: {'classifier': 'XGB', 'xgb_n_estimators': 1096, 'xgb_learning_rate': 0.07427833773452232, 'xgb_max_depth': 26}. Best is trial 43 with value: 0.8471589451898791.\u001b[0m\n",
            "\u001b[32m[I 2022-09-02 15:43:11,296]\u001b[0m Trial 86 finished with value: 0.8433411939928013 and parameters: {'classifier': 'XGB', 'xgb_n_estimators': 986, 'xgb_learning_rate': 0.04566251921257694, 'xgb_max_depth': 16}. Best is trial 43 with value: 0.8471589451898791.\u001b[0m\n",
            "\u001b[32m[I 2022-09-02 15:43:34,863]\u001b[0m Trial 87 finished with value: 0.8426144236707426 and parameters: {'classifier': 'XGB', 'xgb_n_estimators': 920, 'xgb_learning_rate': 0.04490015876796506, 'xgb_max_depth': 15}. Best is trial 43 with value: 0.8471589451898791.\u001b[0m\n",
            "\u001b[32m[I 2022-09-02 15:44:00,482]\u001b[0m Trial 88 finished with value: 0.8400454071340331 and parameters: {'classifier': 'XGB', 'xgb_n_estimators': 970, 'xgb_learning_rate': 0.050831933233134154, 'xgb_max_depth': 18}. Best is trial 43 with value: 0.8471589451898791.\u001b[0m\n",
            "\u001b[32m[I 2022-09-02 15:44:28,851]\u001b[0m Trial 89 finished with value: 0.8394726966819759 and parameters: {'classifier': 'XGB', 'xgb_n_estimators': 994, 'xgb_learning_rate': 0.040386884667285614, 'xgb_max_depth': 19}. Best is trial 43 with value: 0.8471589451898791.\u001b[0m\n",
            "\u001b[32m[I 2022-09-02 15:44:51,980]\u001b[0m Trial 90 finished with value: 0.8393243015310783 and parameters: {'classifier': 'XGB', 'xgb_n_estimators': 892, 'xgb_learning_rate': 0.07661137389954109, 'xgb_max_depth': 22}. Best is trial 43 with value: 0.8471589451898791.\u001b[0m\n",
            "\u001b[32m[I 2022-09-02 15:45:15,160]\u001b[0m Trial 91 finished with value: 0.8438904954516947 and parameters: {'classifier': 'XGB', 'xgb_n_estimators': 912, 'xgb_learning_rate': 0.04661940259242023, 'xgb_max_depth': 15}. Best is trial 43 with value: 0.8471589451898791.\u001b[0m\n",
            "\u001b[32m[I 2022-09-02 15:45:37,189]\u001b[0m Trial 92 finished with value: 0.8407679361363105 and parameters: {'classifier': 'XGB', 'xgb_n_estimators': 951, 'xgb_learning_rate': 0.0651139440714517, 'xgb_max_depth': 15}. Best is trial 43 with value: 0.8471589451898791.\u001b[0m\n",
            "\u001b[32m[I 2022-09-02 15:46:04,255]\u001b[0m Trial 93 finished with value: 0.8380333996765995 and parameters: {'classifier': 'XGB', 'xgb_n_estimators': 1196, 'xgb_learning_rate': 0.05695751990059811, 'xgb_max_depth': 15}. Best is trial 43 with value: 0.8471589451898791.\u001b[0m\n",
            "\u001b[32m[I 2022-09-02 15:46:25,126]\u001b[0m Trial 94 finished with value: 0.8358848798338329 and parameters: {'classifier': 'XGB', 'xgb_n_estimators': 988, 'xgb_learning_rate': 0.08993629379693217, 'xgb_max_depth': 16}. Best is trial 43 with value: 0.8471589451898791.\u001b[0m\n",
            "\u001b[32m[I 2022-09-02 15:46:57,028]\u001b[0m Trial 95 finished with value: 0.8288956716512627 and parameters: {'classifier': 'XGB', 'xgb_n_estimators': 904, 'xgb_learning_rate': 0.016964686725043053, 'xgb_max_depth': 17}. Best is trial 43 with value: 0.8471589451898791.\u001b[0m\n",
            "\u001b[32m[I 2022-09-02 15:47:26,889]\u001b[0m Trial 96 finished with value: 0.8400454071340331 and parameters: {'classifier': 'XGB', 'xgb_n_estimators': 1122, 'xgb_learning_rate': 0.03549785704055083, 'xgb_max_depth': 16}. Best is trial 43 with value: 0.8471589451898791.\u001b[0m\n",
            "\u001b[32m[I 2022-09-02 15:47:49,901]\u001b[0m Trial 97 finished with value: 0.8391672560494806 and parameters: {'classifier': 'XGB', 'xgb_n_estimators': 1005, 'xgb_learning_rate': 0.06483932723975237, 'xgb_max_depth': 15}. Best is trial 43 with value: 0.8471589451898791.\u001b[0m\n",
            "\u001b[32m[I 2022-09-02 15:48:24,605]\u001b[0m Trial 98 finished with value: 0.8343299500757521 and parameters: {'classifier': 'XGB', 'xgb_n_estimators': 1055, 'xgb_learning_rate': 0.01259390647190963, 'xgb_max_depth': 16}. Best is trial 43 with value: 0.8471589451898791.\u001b[0m\n",
            "\u001b[32m[I 2022-09-02 15:48:52,999]\u001b[0m Trial 99 finished with value: 0.8396122302282445 and parameters: {'classifier': 'XGB', 'xgb_n_estimators': 1020, 'xgb_learning_rate': 0.04837362238850357, 'xgb_max_depth': 30}. Best is trial 43 with value: 0.8471589451898791.\u001b[0m\n"
          ]
        }
      ]
    },
    {
      "cell_type": "code",
      "source": [
        "optuna.visualization.plot_optimization_history(study).show()"
      ],
      "metadata": {
        "colab": {
          "base_uri": "https://localhost:8080/",
          "height": 542
        },
        "id": "PeLZzy2nwA1F",
        "outputId": "61268488-9164-4b7a-8863-451fc3968011"
      },
      "execution_count": null,
      "outputs": [
        {
          "output_type": "display_data",
          "data": {
            "text/html": [
              "<html>\n",
              "<head><meta charset=\"utf-8\" /></head>\n",
              "<body>\n",
              "    <div>            <script src=\"https://cdnjs.cloudflare.com/ajax/libs/mathjax/2.7.5/MathJax.js?config=TeX-AMS-MML_SVG\"></script><script type=\"text/javascript\">if (window.MathJax) {MathJax.Hub.Config({SVG: {font: \"STIX-Web\"}});}</script>                <script type=\"text/javascript\">window.PlotlyConfig = {MathJaxConfig: 'local'};</script>\n",
              "        <script src=\"https://cdn.plot.ly/plotly-2.8.3.min.js\"></script>                <div id=\"c4b3a94f-8cb2-48b2-8f84-cb14e0b16594\" class=\"plotly-graph-div\" style=\"height:525px; width:100%;\"></div>            <script type=\"text/javascript\">                                    window.PLOTLYENV=window.PLOTLYENV || {};                                    if (document.getElementById(\"c4b3a94f-8cb2-48b2-8f84-cb14e0b16594\")) {                    Plotly.newPlot(                        \"c4b3a94f-8cb2-48b2-8f84-cb14e0b16594\",                        [{\"mode\":\"markers\",\"name\":\"Objective Value\",\"x\":[0,1,2,3,4,5,6,7,8,9,10,11,12,13,14,15,16,17,18,19,20,21,22,23,24,25,26,27,28,29,30,31,32,33,34,35,36,37,38,39,40,41,42,43,44,45,46,47,48,49,50,51,52,53,54,55,56,57,58,59,60,61,62,63,64,65,66,67,68,69,70,71,72,73,74,75,76,77,78,79,80,81,82,83,84,85,86,87,88,89,90,91,92,93,94,95,96,97,98,99],\"y\":[0.8413327477619397,0.8067401971270827,0.8268871296673208,0.8071891618372938,0.8089234037550564,0.8400454071340331,0.8179429153234987,0.8334150625945033,0.8295986821374809,0.8082605332629097,0.8364537316135469,0.8347211489009806,0.8390209847185292,0.8420574145914665,0.8386046000699972,0.8321030697093214,0.838891208517615,0.8351714114792813,0.8296512430476575,0.8345947764692516,0.837453485319485,0.8321030697093214,0.8361487788729521,0.8378862837382984,0.8354342739569942,0.8416424551620643,0.8373158553002166,0.8407679361363105,0.8207045271554395,0.8427835318814204,0.8341259242911369,0.8373158553002166,0.8360213922191659,0.8444315983641056,0.8327055531558705,0.8355517803606051,0.8062784546277161,0.8307851058015202,0.8112060542990169,0.8386046000699972,0.8220753434508655,0.8396122302282445,0.8458918993561602,0.8471589451898791,0.8345947764692516,0.838891208517615,0.8391672560494806,0.837453485319485,0.8354342739569942,0.8104001896356371,0.8151541623282612,0.8407679361363105,0.8397215327056899,0.8380333996765995,0.8353074090693552,0.8378862837382984,0.8387523403912005,0.8340093847617325,0.8442360978757821,0.8454898358632149,0.8391672560494806,0.8299853698468653,0.8291776446239825,0.8384481983011866,0.8365996882696244,0.8381716334547674,0.8438904954516947,0.8391672560494806,0.8420574145914665,0.8418890915472294,0.8394726966819759,0.8393243015310783,0.8381716334547674,0.8451610229047793,0.8398876876427639,0.8378862837382984,0.8347211489009806,0.8301649554171066,0.8393243015310783,0.8387523403912005,0.8373158553002166,0.8400454071340331,0.8400454071340331,0.8418890915472294,0.8417125695664889,0.8380333996765995,0.8433411939928013,0.8426144236707426,0.8400454071340331,0.8394726966819759,0.8393243015310783,0.8438904954516947,0.8407679361363105,0.8380333996765995,0.8358848798338329,0.8288956716512627,0.8400454071340331,0.8391672560494806,0.8343299500757521,0.8396122302282445],\"type\":\"scatter\"},{\"name\":\"Best Value\",\"x\":[0,1,2,3,4,5,6,7,8,9,10,11,12,13,14,15,16,17,18,19,20,21,22,23,24,25,26,27,28,29,30,31,32,33,34,35,36,37,38,39,40,41,42,43,44,45,46,47,48,49,50,51,52,53,54,55,56,57,58,59,60,61,62,63,64,65,66,67,68,69,70,71,72,73,74,75,76,77,78,79,80,81,82,83,84,85,86,87,88,89,90,91,92,93,94,95,96,97,98,99],\"y\":[0.8413327477619397,0.8413327477619397,0.8413327477619397,0.8413327477619397,0.8413327477619397,0.8413327477619397,0.8413327477619397,0.8413327477619397,0.8413327477619397,0.8413327477619397,0.8413327477619397,0.8413327477619397,0.8413327477619397,0.8420574145914665,0.8420574145914665,0.8420574145914665,0.8420574145914665,0.8420574145914665,0.8420574145914665,0.8420574145914665,0.8420574145914665,0.8420574145914665,0.8420574145914665,0.8420574145914665,0.8420574145914665,0.8420574145914665,0.8420574145914665,0.8420574145914665,0.8420574145914665,0.8427835318814204,0.8427835318814204,0.8427835318814204,0.8427835318814204,0.8444315983641056,0.8444315983641056,0.8444315983641056,0.8444315983641056,0.8444315983641056,0.8444315983641056,0.8444315983641056,0.8444315983641056,0.8444315983641056,0.8458918993561602,0.8471589451898791,0.8471589451898791,0.8471589451898791,0.8471589451898791,0.8471589451898791,0.8471589451898791,0.8471589451898791,0.8471589451898791,0.8471589451898791,0.8471589451898791,0.8471589451898791,0.8471589451898791,0.8471589451898791,0.8471589451898791,0.8471589451898791,0.8471589451898791,0.8471589451898791,0.8471589451898791,0.8471589451898791,0.8471589451898791,0.8471589451898791,0.8471589451898791,0.8471589451898791,0.8471589451898791,0.8471589451898791,0.8471589451898791,0.8471589451898791,0.8471589451898791,0.8471589451898791,0.8471589451898791,0.8471589451898791,0.8471589451898791,0.8471589451898791,0.8471589451898791,0.8471589451898791,0.8471589451898791,0.8471589451898791,0.8471589451898791,0.8471589451898791,0.8471589451898791,0.8471589451898791,0.8471589451898791,0.8471589451898791,0.8471589451898791,0.8471589451898791,0.8471589451898791,0.8471589451898791,0.8471589451898791,0.8471589451898791,0.8471589451898791,0.8471589451898791,0.8471589451898791,0.8471589451898791,0.8471589451898791,0.8471589451898791,0.8471589451898791,0.8471589451898791],\"type\":\"scatter\"}],                        {\"title\":{\"text\":\"Optimization History Plot\"},\"xaxis\":{\"title\":{\"text\":\"Trial\"}},\"yaxis\":{\"title\":{\"text\":\"Objective Value\"}},\"template\":{\"data\":{\"bar\":[{\"error_x\":{\"color\":\"#2a3f5f\"},\"error_y\":{\"color\":\"#2a3f5f\"},\"marker\":{\"line\":{\"color\":\"#E5ECF6\",\"width\":0.5},\"pattern\":{\"fillmode\":\"overlay\",\"size\":10,\"solidity\":0.2}},\"type\":\"bar\"}],\"barpolar\":[{\"marker\":{\"line\":{\"color\":\"#E5ECF6\",\"width\":0.5},\"pattern\":{\"fillmode\":\"overlay\",\"size\":10,\"solidity\":0.2}},\"type\":\"barpolar\"}],\"carpet\":[{\"aaxis\":{\"endlinecolor\":\"#2a3f5f\",\"gridcolor\":\"white\",\"linecolor\":\"white\",\"minorgridcolor\":\"white\",\"startlinecolor\":\"#2a3f5f\"},\"baxis\":{\"endlinecolor\":\"#2a3f5f\",\"gridcolor\":\"white\",\"linecolor\":\"white\",\"minorgridcolor\":\"white\",\"startlinecolor\":\"#2a3f5f\"},\"type\":\"carpet\"}],\"choropleth\":[{\"colorbar\":{\"outlinewidth\":0,\"ticks\":\"\"},\"type\":\"choropleth\"}],\"contour\":[{\"colorbar\":{\"outlinewidth\":0,\"ticks\":\"\"},\"colorscale\":[[0.0,\"#0d0887\"],[0.1111111111111111,\"#46039f\"],[0.2222222222222222,\"#7201a8\"],[0.3333333333333333,\"#9c179e\"],[0.4444444444444444,\"#bd3786\"],[0.5555555555555556,\"#d8576b\"],[0.6666666666666666,\"#ed7953\"],[0.7777777777777778,\"#fb9f3a\"],[0.8888888888888888,\"#fdca26\"],[1.0,\"#f0f921\"]],\"type\":\"contour\"}],\"contourcarpet\":[{\"colorbar\":{\"outlinewidth\":0,\"ticks\":\"\"},\"type\":\"contourcarpet\"}],\"heatmap\":[{\"colorbar\":{\"outlinewidth\":0,\"ticks\":\"\"},\"colorscale\":[[0.0,\"#0d0887\"],[0.1111111111111111,\"#46039f\"],[0.2222222222222222,\"#7201a8\"],[0.3333333333333333,\"#9c179e\"],[0.4444444444444444,\"#bd3786\"],[0.5555555555555556,\"#d8576b\"],[0.6666666666666666,\"#ed7953\"],[0.7777777777777778,\"#fb9f3a\"],[0.8888888888888888,\"#fdca26\"],[1.0,\"#f0f921\"]],\"type\":\"heatmap\"}],\"heatmapgl\":[{\"colorbar\":{\"outlinewidth\":0,\"ticks\":\"\"},\"colorscale\":[[0.0,\"#0d0887\"],[0.1111111111111111,\"#46039f\"],[0.2222222222222222,\"#7201a8\"],[0.3333333333333333,\"#9c179e\"],[0.4444444444444444,\"#bd3786\"],[0.5555555555555556,\"#d8576b\"],[0.6666666666666666,\"#ed7953\"],[0.7777777777777778,\"#fb9f3a\"],[0.8888888888888888,\"#fdca26\"],[1.0,\"#f0f921\"]],\"type\":\"heatmapgl\"}],\"histogram\":[{\"marker\":{\"pattern\":{\"fillmode\":\"overlay\",\"size\":10,\"solidity\":0.2}},\"type\":\"histogram\"}],\"histogram2d\":[{\"colorbar\":{\"outlinewidth\":0,\"ticks\":\"\"},\"colorscale\":[[0.0,\"#0d0887\"],[0.1111111111111111,\"#46039f\"],[0.2222222222222222,\"#7201a8\"],[0.3333333333333333,\"#9c179e\"],[0.4444444444444444,\"#bd3786\"],[0.5555555555555556,\"#d8576b\"],[0.6666666666666666,\"#ed7953\"],[0.7777777777777778,\"#fb9f3a\"],[0.8888888888888888,\"#fdca26\"],[1.0,\"#f0f921\"]],\"type\":\"histogram2d\"}],\"histogram2dcontour\":[{\"colorbar\":{\"outlinewidth\":0,\"ticks\":\"\"},\"colorscale\":[[0.0,\"#0d0887\"],[0.1111111111111111,\"#46039f\"],[0.2222222222222222,\"#7201a8\"],[0.3333333333333333,\"#9c179e\"],[0.4444444444444444,\"#bd3786\"],[0.5555555555555556,\"#d8576b\"],[0.6666666666666666,\"#ed7953\"],[0.7777777777777778,\"#fb9f3a\"],[0.8888888888888888,\"#fdca26\"],[1.0,\"#f0f921\"]],\"type\":\"histogram2dcontour\"}],\"mesh3d\":[{\"colorbar\":{\"outlinewidth\":0,\"ticks\":\"\"},\"type\":\"mesh3d\"}],\"parcoords\":[{\"line\":{\"colorbar\":{\"outlinewidth\":0,\"ticks\":\"\"}},\"type\":\"parcoords\"}],\"pie\":[{\"automargin\":true,\"type\":\"pie\"}],\"scatter\":[{\"marker\":{\"colorbar\":{\"outlinewidth\":0,\"ticks\":\"\"}},\"type\":\"scatter\"}],\"scatter3d\":[{\"line\":{\"colorbar\":{\"outlinewidth\":0,\"ticks\":\"\"}},\"marker\":{\"colorbar\":{\"outlinewidth\":0,\"ticks\":\"\"}},\"type\":\"scatter3d\"}],\"scattercarpet\":[{\"marker\":{\"colorbar\":{\"outlinewidth\":0,\"ticks\":\"\"}},\"type\":\"scattercarpet\"}],\"scattergeo\":[{\"marker\":{\"colorbar\":{\"outlinewidth\":0,\"ticks\":\"\"}},\"type\":\"scattergeo\"}],\"scattergl\":[{\"marker\":{\"colorbar\":{\"outlinewidth\":0,\"ticks\":\"\"}},\"type\":\"scattergl\"}],\"scattermapbox\":[{\"marker\":{\"colorbar\":{\"outlinewidth\":0,\"ticks\":\"\"}},\"type\":\"scattermapbox\"}],\"scatterpolar\":[{\"marker\":{\"colorbar\":{\"outlinewidth\":0,\"ticks\":\"\"}},\"type\":\"scatterpolar\"}],\"scatterpolargl\":[{\"marker\":{\"colorbar\":{\"outlinewidth\":0,\"ticks\":\"\"}},\"type\":\"scatterpolargl\"}],\"scatterternary\":[{\"marker\":{\"colorbar\":{\"outlinewidth\":0,\"ticks\":\"\"}},\"type\":\"scatterternary\"}],\"surface\":[{\"colorbar\":{\"outlinewidth\":0,\"ticks\":\"\"},\"colorscale\":[[0.0,\"#0d0887\"],[0.1111111111111111,\"#46039f\"],[0.2222222222222222,\"#7201a8\"],[0.3333333333333333,\"#9c179e\"],[0.4444444444444444,\"#bd3786\"],[0.5555555555555556,\"#d8576b\"],[0.6666666666666666,\"#ed7953\"],[0.7777777777777778,\"#fb9f3a\"],[0.8888888888888888,\"#fdca26\"],[1.0,\"#f0f921\"]],\"type\":\"surface\"}],\"table\":[{\"cells\":{\"fill\":{\"color\":\"#EBF0F8\"},\"line\":{\"color\":\"white\"}},\"header\":{\"fill\":{\"color\":\"#C8D4E3\"},\"line\":{\"color\":\"white\"}},\"type\":\"table\"}]},\"layout\":{\"annotationdefaults\":{\"arrowcolor\":\"#2a3f5f\",\"arrowhead\":0,\"arrowwidth\":1},\"autotypenumbers\":\"strict\",\"coloraxis\":{\"colorbar\":{\"outlinewidth\":0,\"ticks\":\"\"}},\"colorscale\":{\"diverging\":[[0,\"#8e0152\"],[0.1,\"#c51b7d\"],[0.2,\"#de77ae\"],[0.3,\"#f1b6da\"],[0.4,\"#fde0ef\"],[0.5,\"#f7f7f7\"],[0.6,\"#e6f5d0\"],[0.7,\"#b8e186\"],[0.8,\"#7fbc41\"],[0.9,\"#4d9221\"],[1,\"#276419\"]],\"sequential\":[[0.0,\"#0d0887\"],[0.1111111111111111,\"#46039f\"],[0.2222222222222222,\"#7201a8\"],[0.3333333333333333,\"#9c179e\"],[0.4444444444444444,\"#bd3786\"],[0.5555555555555556,\"#d8576b\"],[0.6666666666666666,\"#ed7953\"],[0.7777777777777778,\"#fb9f3a\"],[0.8888888888888888,\"#fdca26\"],[1.0,\"#f0f921\"]],\"sequentialminus\":[[0.0,\"#0d0887\"],[0.1111111111111111,\"#46039f\"],[0.2222222222222222,\"#7201a8\"],[0.3333333333333333,\"#9c179e\"],[0.4444444444444444,\"#bd3786\"],[0.5555555555555556,\"#d8576b\"],[0.6666666666666666,\"#ed7953\"],[0.7777777777777778,\"#fb9f3a\"],[0.8888888888888888,\"#fdca26\"],[1.0,\"#f0f921\"]]},\"colorway\":[\"#636efa\",\"#EF553B\",\"#00cc96\",\"#ab63fa\",\"#FFA15A\",\"#19d3f3\",\"#FF6692\",\"#B6E880\",\"#FF97FF\",\"#FECB52\"],\"font\":{\"color\":\"#2a3f5f\"},\"geo\":{\"bgcolor\":\"white\",\"lakecolor\":\"white\",\"landcolor\":\"#E5ECF6\",\"showlakes\":true,\"showland\":true,\"subunitcolor\":\"white\"},\"hoverlabel\":{\"align\":\"left\"},\"hovermode\":\"closest\",\"mapbox\":{\"style\":\"light\"},\"paper_bgcolor\":\"white\",\"plot_bgcolor\":\"#E5ECF6\",\"polar\":{\"angularaxis\":{\"gridcolor\":\"white\",\"linecolor\":\"white\",\"ticks\":\"\"},\"bgcolor\":\"#E5ECF6\",\"radialaxis\":{\"gridcolor\":\"white\",\"linecolor\":\"white\",\"ticks\":\"\"}},\"scene\":{\"xaxis\":{\"backgroundcolor\":\"#E5ECF6\",\"gridcolor\":\"white\",\"gridwidth\":2,\"linecolor\":\"white\",\"showbackground\":true,\"ticks\":\"\",\"zerolinecolor\":\"white\"},\"yaxis\":{\"backgroundcolor\":\"#E5ECF6\",\"gridcolor\":\"white\",\"gridwidth\":2,\"linecolor\":\"white\",\"showbackground\":true,\"ticks\":\"\",\"zerolinecolor\":\"white\"},\"zaxis\":{\"backgroundcolor\":\"#E5ECF6\",\"gridcolor\":\"white\",\"gridwidth\":2,\"linecolor\":\"white\",\"showbackground\":true,\"ticks\":\"\",\"zerolinecolor\":\"white\"}},\"shapedefaults\":{\"line\":{\"color\":\"#2a3f5f\"}},\"ternary\":{\"aaxis\":{\"gridcolor\":\"white\",\"linecolor\":\"white\",\"ticks\":\"\"},\"baxis\":{\"gridcolor\":\"white\",\"linecolor\":\"white\",\"ticks\":\"\"},\"bgcolor\":\"#E5ECF6\",\"caxis\":{\"gridcolor\":\"white\",\"linecolor\":\"white\",\"ticks\":\"\"}},\"title\":{\"x\":0.05},\"xaxis\":{\"automargin\":true,\"gridcolor\":\"white\",\"linecolor\":\"white\",\"ticks\":\"\",\"title\":{\"standoff\":15},\"zerolinecolor\":\"white\",\"zerolinewidth\":2},\"yaxis\":{\"automargin\":true,\"gridcolor\":\"white\",\"linecolor\":\"white\",\"ticks\":\"\",\"title\":{\"standoff\":15},\"zerolinecolor\":\"white\",\"zerolinewidth\":2}}}},                        {\"responsive\": true}                    ).then(function(){\n",
              "                            \n",
              "var gd = document.getElementById('c4b3a94f-8cb2-48b2-8f84-cb14e0b16594');\n",
              "var x = new MutationObserver(function (mutations, observer) {{\n",
              "        var display = window.getComputedStyle(gd).display;\n",
              "        if (!display || display === 'none') {{\n",
              "            console.log([gd, 'removed!']);\n",
              "            Plotly.purge(gd);\n",
              "            observer.disconnect();\n",
              "        }}\n",
              "}});\n",
              "\n",
              "// Listen for the removal of the full notebook cells\n",
              "var notebookContainer = gd.closest('#notebook-container');\n",
              "if (notebookContainer) {{\n",
              "    x.observe(notebookContainer, {childList: true});\n",
              "}}\n",
              "\n",
              "// Listen for the clearing of the current output cell\n",
              "var outputEl = gd.closest('.output');\n",
              "if (outputEl) {{\n",
              "    x.observe(outputEl, {childList: true});\n",
              "}}\n",
              "\n",
              "                        })                };                            </script>        </div>\n",
              "</body>\n",
              "</html>"
            ]
          },
          "metadata": {}
        }
      ]
    },
    {
      "cell_type": "markdown",
      "source": [
        "Dessa vez, vemos que a otimização convergiu mais cedo, portanto utilizaremos o modelo da iteração 44."
      ],
      "metadata": {
        "id": "3cPuI4oQ47Bl"
      }
    },
    {
      "cell_type": "code",
      "source": [
        "print(f\"Melhor trial : \\n{study.best_trial}\")\n",
        "\n",
        "print(f\"Melhor valor do f-score : \\n{study.best_value}\")\n",
        "\n",
        "print(f\"Melhores parâmetros : \\n{study.best_params}\")"
      ],
      "metadata": {
        "colab": {
          "base_uri": "https://localhost:8080/"
        },
        "id": "yRpUo_E35DKA",
        "outputId": "915d262e-06d2-4552-97cb-623da9fddf26"
      },
      "execution_count": null,
      "outputs": [
        {
          "output_type": "stream",
          "name": "stdout",
          "text": [
            "Melhor trial : \n",
            "FrozenTrial(number=43, values=[0.8471589451898791], datetime_start=datetime.datetime(2022, 9, 2, 15, 24, 18, 181749), datetime_complete=datetime.datetime(2022, 9, 2, 15, 24, 40, 419569), params={'classifier': 'XGB', 'xgb_n_estimators': 825, 'xgb_learning_rate': 0.05466132863394454, 'xgb_max_depth': 15}, distributions={'classifier': CategoricalDistribution(choices=('XGB',)), 'xgb_n_estimators': IntDistribution(high=1250, log=False, low=750, step=1), 'xgb_learning_rate': FloatDistribution(high=0.1, log=True, low=0.001, step=None), 'xgb_max_depth': IntDistribution(high=32, log=False, low=15, step=1)}, user_attrs={}, system_attrs={}, intermediate_values={}, trial_id=43, state=TrialState.COMPLETE, value=None)\n",
            "Melhor valor do f-score : \n",
            "0.8471589451898791\n",
            "Melhores parâmetros : \n",
            "{'classifier': 'XGB', 'xgb_n_estimators': 825, 'xgb_learning_rate': 0.05466132863394454, 'xgb_max_depth': 15}\n"
          ]
        }
      ]
    },
    {
      "cell_type": "code",
      "source": [
        "best_xgb = XGBClassifier(\n",
        "      random_state=RANDOM_STATE, \n",
        "      n_estimators=study.best_params['xgb_n_estimators'], \n",
        "      learning_rate=study.best_params['xgb_learning_rate'], \n",
        "      max_depth=study.best_params['xgb_max_depth']\n",
        ")\n",
        "best_xgb.fit(X_train, y_train)"
      ],
      "metadata": {
        "colab": {
          "base_uri": "https://localhost:8080/"
        },
        "id": "WpdPwtzb5eKB",
        "outputId": "45217475-b292-415a-f3a1-f8c6572a5193"
      },
      "execution_count": null,
      "outputs": [
        {
          "output_type": "execute_result",
          "data": {
            "text/plain": [
              "XGBClassifier(learning_rate=0.05466132863394454, max_depth=15, n_estimators=825,\n",
              "              random_state=42)"
            ]
          },
          "metadata": {},
          "execution_count": 116
        }
      ]
    },
    {
      "cell_type": "code",
      "source": [
        "y_pred = best_xgb.predict(X_val)\n",
        "y_proba = best_xgb.predict_proba(X_val)\n",
        "eval_metrics(y_val, y_pred, y_proba)"
      ],
      "metadata": {
        "colab": {
          "base_uri": "https://localhost:8080/"
        },
        "id": "bUjxOwN7_h6G",
        "outputId": "fb0c9658-8778-4f4c-da28-e9159d1c8946"
      },
      "execution_count": null,
      "outputs": [
        {
          "output_type": "execute_result",
          "data": {
            "text/plain": [
              "(0.8670721112076455, 0.8875522095601506, 0.8471589451898791)"
            ]
          },
          "metadata": {},
          "execution_count": 123
        }
      ]
    },
    {
      "cell_type": "markdown",
      "source": [
        "### Optuna Study MLP"
      ],
      "metadata": {
        "id": "KsQNQLst6Ljx"
      }
    },
    {
      "cell_type": "code",
      "source": [
        "# Passo 1. Definindo função de objetivo a ser maximizada\n",
        "def objective_mlp(trial):\n",
        "  classifier = trial.suggest_categorical(\"classifier\", [\"MLP\"])\n",
        "  \n",
        "  # Passo 2. Definindo conjunto de hiperparâmetros\n",
        "  mlp_hidden_layer_sizes = trial.suggest_categorical(\"mlp_hidden_layer_sizes\", [(50,), (100,), (50,50)])\n",
        "  mlp_activation = trial.suggest_categorical(\"mlp_activation\", ['logistic', 'tanh', 'relu'])\n",
        "  mlp_solver = trial.suggest_categorical(\"mlp_solver\", ['adam', 'sgd'])\n",
        "  clf = MLPClassifier(\n",
        "      random_state=RANDOM_STATE, \n",
        "      max_iter=EPOCHS,\n",
        "      hidden_layer_sizes=mlp_hidden_layer_sizes, \n",
        "      activation=mlp_activation, \n",
        "      solver=mlp_solver\n",
        "  )\n",
        "  \n",
        "  # Treinando o modelo\n",
        "  clf.fit(X_train, y_train)\n",
        "\n",
        "  # Usando conjunto de validação para obter métricas\n",
        "  y_pred = clf.predict(X_val)\n",
        "  y_proba = clf.predict_proba(X_val)\n",
        "\n",
        "  # Passo 3: Métrica otimizada\n",
        "  acc, auroc, f1 = eval_metrics(y_val, y_pred, y_proba)\n",
        "  return f1"
      ],
      "metadata": {
        "id": "ec5r1cC46Ljy"
      },
      "execution_count": null,
      "outputs": []
    },
    {
      "cell_type": "code",
      "source": [
        "# Passo 4: Rodar o estudo\n",
        "study_mlp = optuna.create_study(direction=\"maximize\")\n",
        "study_mlp.optimize(objective_mlp, n_trials=100)"
      ],
      "metadata": {
        "colab": {
          "base_uri": "https://localhost:8080/"
        },
        "outputId": "48a2f035-19da-4449-d104-32f68ef9da66",
        "id": "cj1Ir5916Ljy"
      },
      "execution_count": null,
      "outputs": [
        {
          "output_type": "stream",
          "name": "stderr",
          "text": [
            "\u001b[32m[I 2022-09-02 15:55:43,292]\u001b[0m A new study created in memory with name: no-name-f7668a24-504e-4014-b600-49c9e1033d40\u001b[0m\n",
            "/usr/local/lib/python3.7/dist-packages/optuna/distributions.py:502: UserWarning:\n",
            "\n",
            "Choices for a categorical distribution should be a tuple of None, bool, int, float and str for persistent storage but contains (50,) which is of type tuple.\n",
            "\n",
            "/usr/local/lib/python3.7/dist-packages/optuna/distributions.py:502: UserWarning:\n",
            "\n",
            "Choices for a categorical distribution should be a tuple of None, bool, int, float and str for persistent storage but contains (100,) which is of type tuple.\n",
            "\n",
            "/usr/local/lib/python3.7/dist-packages/optuna/distributions.py:502: UserWarning:\n",
            "\n",
            "Choices for a categorical distribution should be a tuple of None, bool, int, float and str for persistent storage but contains (50, 50) which is of type tuple.\n",
            "\n",
            "\u001b[32m[I 2022-09-02 15:55:50,422]\u001b[0m Trial 0 finished with value: 0.7414321194381616 and parameters: {'classifier': 'MLP', 'mlp_hidden_layer_sizes': (100,), 'mlp_activation': 'tanh', 'mlp_solver': 'adam'}. Best is trial 0 with value: 0.7414321194381616.\u001b[0m\n",
            "/usr/local/lib/python3.7/dist-packages/optuna/distributions.py:502: UserWarning:\n",
            "\n",
            "Choices for a categorical distribution should be a tuple of None, bool, int, float and str for persistent storage but contains (50,) which is of type tuple.\n",
            "\n",
            "/usr/local/lib/python3.7/dist-packages/optuna/distributions.py:502: UserWarning:\n",
            "\n",
            "Choices for a categorical distribution should be a tuple of None, bool, int, float and str for persistent storage but contains (100,) which is of type tuple.\n",
            "\n",
            "/usr/local/lib/python3.7/dist-packages/optuna/distributions.py:502: UserWarning:\n",
            "\n",
            "Choices for a categorical distribution should be a tuple of None, bool, int, float and str for persistent storage but contains (50, 50) which is of type tuple.\n",
            "\n",
            "\u001b[32m[I 2022-09-02 15:55:57,448]\u001b[0m Trial 1 finished with value: 0.7414321194381616 and parameters: {'classifier': 'MLP', 'mlp_hidden_layer_sizes': (100,), 'mlp_activation': 'tanh', 'mlp_solver': 'adam'}. Best is trial 0 with value: 0.7414321194381616.\u001b[0m\n",
            "/usr/local/lib/python3.7/dist-packages/optuna/distributions.py:502: UserWarning:\n",
            "\n",
            "Choices for a categorical distribution should be a tuple of None, bool, int, float and str for persistent storage but contains (50,) which is of type tuple.\n",
            "\n",
            "/usr/local/lib/python3.7/dist-packages/optuna/distributions.py:502: UserWarning:\n",
            "\n",
            "Choices for a categorical distribution should be a tuple of None, bool, int, float and str for persistent storage but contains (100,) which is of type tuple.\n",
            "\n",
            "/usr/local/lib/python3.7/dist-packages/optuna/distributions.py:502: UserWarning:\n",
            "\n",
            "Choices for a categorical distribution should be a tuple of None, bool, int, float and str for persistent storage but contains (50, 50) which is of type tuple.\n",
            "\n",
            "\u001b[32m[I 2022-09-02 15:56:00,487]\u001b[0m Trial 2 finished with value: 0.7415467133346342 and parameters: {'classifier': 'MLP', 'mlp_hidden_layer_sizes': (100,), 'mlp_activation': 'tanh', 'mlp_solver': 'sgd'}. Best is trial 2 with value: 0.7415467133346342.\u001b[0m\n",
            "/usr/local/lib/python3.7/dist-packages/optuna/distributions.py:502: UserWarning:\n",
            "\n",
            "Choices for a categorical distribution should be a tuple of None, bool, int, float and str for persistent storage but contains (50,) which is of type tuple.\n",
            "\n",
            "/usr/local/lib/python3.7/dist-packages/optuna/distributions.py:502: UserWarning:\n",
            "\n",
            "Choices for a categorical distribution should be a tuple of None, bool, int, float and str for persistent storage but contains (100,) which is of type tuple.\n",
            "\n",
            "/usr/local/lib/python3.7/dist-packages/optuna/distributions.py:502: UserWarning:\n",
            "\n",
            "Choices for a categorical distribution should be a tuple of None, bool, int, float and str for persistent storage but contains (50, 50) which is of type tuple.\n",
            "\n",
            "\u001b[32m[I 2022-09-02 15:56:03,534]\u001b[0m Trial 3 finished with value: 0.7532334067647636 and parameters: {'classifier': 'MLP', 'mlp_hidden_layer_sizes': (50, 50), 'mlp_activation': 'relu', 'mlp_solver': 'adam'}. Best is trial 3 with value: 0.7532334067647636.\u001b[0m\n",
            "/usr/local/lib/python3.7/dist-packages/optuna/distributions.py:502: UserWarning:\n",
            "\n",
            "Choices for a categorical distribution should be a tuple of None, bool, int, float and str for persistent storage but contains (50,) which is of type tuple.\n",
            "\n",
            "/usr/local/lib/python3.7/dist-packages/optuna/distributions.py:502: UserWarning:\n",
            "\n",
            "Choices for a categorical distribution should be a tuple of None, bool, int, float and str for persistent storage but contains (100,) which is of type tuple.\n",
            "\n",
            "/usr/local/lib/python3.7/dist-packages/optuna/distributions.py:502: UserWarning:\n",
            "\n",
            "Choices for a categorical distribution should be a tuple of None, bool, int, float and str for persistent storage but contains (50, 50) which is of type tuple.\n",
            "\n",
            "\u001b[32m[I 2022-09-02 15:56:05,327]\u001b[0m Trial 4 finished with value: 0.7415467133346342 and parameters: {'classifier': 'MLP', 'mlp_hidden_layer_sizes': (100,), 'mlp_activation': 'logistic', 'mlp_solver': 'sgd'}. Best is trial 3 with value: 0.7532334067647636.\u001b[0m\n",
            "/usr/local/lib/python3.7/dist-packages/optuna/distributions.py:502: UserWarning:\n",
            "\n",
            "Choices for a categorical distribution should be a tuple of None, bool, int, float and str for persistent storage but contains (50,) which is of type tuple.\n",
            "\n",
            "/usr/local/lib/python3.7/dist-packages/optuna/distributions.py:502: UserWarning:\n",
            "\n",
            "Choices for a categorical distribution should be a tuple of None, bool, int, float and str for persistent storage but contains (100,) which is of type tuple.\n",
            "\n",
            "/usr/local/lib/python3.7/dist-packages/optuna/distributions.py:502: UserWarning:\n",
            "\n",
            "Choices for a categorical distribution should be a tuple of None, bool, int, float and str for persistent storage but contains (50, 50) which is of type tuple.\n",
            "\n",
            "\u001b[32m[I 2022-09-02 15:56:16,846]\u001b[0m Trial 5 finished with value: 0.7414321194381616 and parameters: {'classifier': 'MLP', 'mlp_hidden_layer_sizes': (100,), 'mlp_activation': 'tanh', 'mlp_solver': 'adam'}. Best is trial 3 with value: 0.7532334067647636.\u001b[0m\n",
            "/usr/local/lib/python3.7/dist-packages/optuna/distributions.py:502: UserWarning:\n",
            "\n",
            "Choices for a categorical distribution should be a tuple of None, bool, int, float and str for persistent storage but contains (50,) which is of type tuple.\n",
            "\n",
            "/usr/local/lib/python3.7/dist-packages/optuna/distributions.py:502: UserWarning:\n",
            "\n",
            "Choices for a categorical distribution should be a tuple of None, bool, int, float and str for persistent storage but contains (100,) which is of type tuple.\n",
            "\n",
            "/usr/local/lib/python3.7/dist-packages/optuna/distributions.py:502: UserWarning:\n",
            "\n",
            "Choices for a categorical distribution should be a tuple of None, bool, int, float and str for persistent storage but contains (50, 50) which is of type tuple.\n",
            "\n",
            "\u001b[32m[I 2022-09-02 15:56:34,195]\u001b[0m Trial 6 finished with value: 0.7414321194381616 and parameters: {'classifier': 'MLP', 'mlp_hidden_layer_sizes': (100,), 'mlp_activation': 'tanh', 'mlp_solver': 'adam'}. Best is trial 3 with value: 0.7532334067647636.\u001b[0m\n",
            "/usr/local/lib/python3.7/dist-packages/optuna/distributions.py:502: UserWarning:\n",
            "\n",
            "Choices for a categorical distribution should be a tuple of None, bool, int, float and str for persistent storage but contains (50,) which is of type tuple.\n",
            "\n",
            "/usr/local/lib/python3.7/dist-packages/optuna/distributions.py:502: UserWarning:\n",
            "\n",
            "Choices for a categorical distribution should be a tuple of None, bool, int, float and str for persistent storage but contains (100,) which is of type tuple.\n",
            "\n",
            "/usr/local/lib/python3.7/dist-packages/optuna/distributions.py:502: UserWarning:\n",
            "\n",
            "Choices for a categorical distribution should be a tuple of None, bool, int, float and str for persistent storage but contains (50, 50) which is of type tuple.\n",
            "\n",
            "\u001b[32m[I 2022-09-02 15:56:43,815]\u001b[0m Trial 7 finished with value: 0.7588588818503835 and parameters: {'classifier': 'MLP', 'mlp_hidden_layer_sizes': (50,), 'mlp_activation': 'tanh', 'mlp_solver': 'adam'}. Best is trial 7 with value: 0.7588588818503835.\u001b[0m\n",
            "/usr/local/lib/python3.7/dist-packages/optuna/distributions.py:502: UserWarning:\n",
            "\n",
            "Choices for a categorical distribution should be a tuple of None, bool, int, float and str for persistent storage but contains (50,) which is of type tuple.\n",
            "\n",
            "/usr/local/lib/python3.7/dist-packages/optuna/distributions.py:502: UserWarning:\n",
            "\n",
            "Choices for a categorical distribution should be a tuple of None, bool, int, float and str for persistent storage but contains (100,) which is of type tuple.\n",
            "\n",
            "/usr/local/lib/python3.7/dist-packages/optuna/distributions.py:502: UserWarning:\n",
            "\n",
            "Choices for a categorical distribution should be a tuple of None, bool, int, float and str for persistent storage but contains (50, 50) which is of type tuple.\n",
            "\n",
            "\u001b[32m[I 2022-09-02 15:56:45,547]\u001b[0m Trial 8 finished with value: 0.7415467133346342 and parameters: {'classifier': 'MLP', 'mlp_hidden_layer_sizes': (50,), 'mlp_activation': 'tanh', 'mlp_solver': 'sgd'}. Best is trial 7 with value: 0.7588588818503835.\u001b[0m\n",
            "/usr/local/lib/python3.7/dist-packages/optuna/distributions.py:502: UserWarning:\n",
            "\n",
            "Choices for a categorical distribution should be a tuple of None, bool, int, float and str for persistent storage but contains (50,) which is of type tuple.\n",
            "\n",
            "/usr/local/lib/python3.7/dist-packages/optuna/distributions.py:502: UserWarning:\n",
            "\n",
            "Choices for a categorical distribution should be a tuple of None, bool, int, float and str for persistent storage but contains (100,) which is of type tuple.\n",
            "\n",
            "/usr/local/lib/python3.7/dist-packages/optuna/distributions.py:502: UserWarning:\n",
            "\n",
            "Choices for a categorical distribution should be a tuple of None, bool, int, float and str for persistent storage but contains (50, 50) which is of type tuple.\n",
            "\n",
            "\u001b[32m[I 2022-09-02 15:56:46,920]\u001b[0m Trial 9 finished with value: 0.7415467133346342 and parameters: {'classifier': 'MLP', 'mlp_hidden_layer_sizes': (50, 50), 'mlp_activation': 'logistic', 'mlp_solver': 'sgd'}. Best is trial 7 with value: 0.7588588818503835.\u001b[0m\n",
            "/usr/local/lib/python3.7/dist-packages/optuna/distributions.py:502: UserWarning:\n",
            "\n",
            "Choices for a categorical distribution should be a tuple of None, bool, int, float and str for persistent storage but contains (50,) which is of type tuple.\n",
            "\n",
            "/usr/local/lib/python3.7/dist-packages/optuna/distributions.py:502: UserWarning:\n",
            "\n",
            "Choices for a categorical distribution should be a tuple of None, bool, int, float and str for persistent storage but contains (100,) which is of type tuple.\n",
            "\n",
            "/usr/local/lib/python3.7/dist-packages/optuna/distributions.py:502: UserWarning:\n",
            "\n",
            "Choices for a categorical distribution should be a tuple of None, bool, int, float and str for persistent storage but contains (50, 50) which is of type tuple.\n",
            "\n",
            "\u001b[32m[I 2022-09-02 15:56:48,433]\u001b[0m Trial 10 finished with value: 0.7469401641672903 and parameters: {'classifier': 'MLP', 'mlp_hidden_layer_sizes': (50,), 'mlp_activation': 'relu', 'mlp_solver': 'adam'}. Best is trial 7 with value: 0.7588588818503835.\u001b[0m\n",
            "/usr/local/lib/python3.7/dist-packages/optuna/distributions.py:502: UserWarning:\n",
            "\n",
            "Choices for a categorical distribution should be a tuple of None, bool, int, float and str for persistent storage but contains (50,) which is of type tuple.\n",
            "\n",
            "/usr/local/lib/python3.7/dist-packages/optuna/distributions.py:502: UserWarning:\n",
            "\n",
            "Choices for a categorical distribution should be a tuple of None, bool, int, float and str for persistent storage but contains (100,) which is of type tuple.\n",
            "\n",
            "/usr/local/lib/python3.7/dist-packages/optuna/distributions.py:502: UserWarning:\n",
            "\n",
            "Choices for a categorical distribution should be a tuple of None, bool, int, float and str for persistent storage but contains (50, 50) which is of type tuple.\n",
            "\n",
            "\u001b[32m[I 2022-09-02 15:56:51,453]\u001b[0m Trial 11 finished with value: 0.7532334067647636 and parameters: {'classifier': 'MLP', 'mlp_hidden_layer_sizes': (50, 50), 'mlp_activation': 'relu', 'mlp_solver': 'adam'}. Best is trial 7 with value: 0.7588588818503835.\u001b[0m\n",
            "/usr/local/lib/python3.7/dist-packages/optuna/distributions.py:502: UserWarning:\n",
            "\n",
            "Choices for a categorical distribution should be a tuple of None, bool, int, float and str for persistent storage but contains (50,) which is of type tuple.\n",
            "\n",
            "/usr/local/lib/python3.7/dist-packages/optuna/distributions.py:502: UserWarning:\n",
            "\n",
            "Choices for a categorical distribution should be a tuple of None, bool, int, float and str for persistent storage but contains (100,) which is of type tuple.\n",
            "\n",
            "/usr/local/lib/python3.7/dist-packages/optuna/distributions.py:502: UserWarning:\n",
            "\n",
            "Choices for a categorical distribution should be a tuple of None, bool, int, float and str for persistent storage but contains (50, 50) which is of type tuple.\n",
            "\n",
            "\u001b[32m[I 2022-09-02 15:56:52,983]\u001b[0m Trial 12 finished with value: 0.7469401641672903 and parameters: {'classifier': 'MLP', 'mlp_hidden_layer_sizes': (50,), 'mlp_activation': 'relu', 'mlp_solver': 'adam'}. Best is trial 7 with value: 0.7588588818503835.\u001b[0m\n",
            "/usr/local/lib/python3.7/dist-packages/optuna/distributions.py:502: UserWarning:\n",
            "\n",
            "Choices for a categorical distribution should be a tuple of None, bool, int, float and str for persistent storage but contains (50,) which is of type tuple.\n",
            "\n",
            "/usr/local/lib/python3.7/dist-packages/optuna/distributions.py:502: UserWarning:\n",
            "\n",
            "Choices for a categorical distribution should be a tuple of None, bool, int, float and str for persistent storage but contains (100,) which is of type tuple.\n",
            "\n",
            "/usr/local/lib/python3.7/dist-packages/optuna/distributions.py:502: UserWarning:\n",
            "\n",
            "Choices for a categorical distribution should be a tuple of None, bool, int, float and str for persistent storage but contains (50, 50) which is of type tuple.\n",
            "\n",
            "\u001b[32m[I 2022-09-02 15:56:55,912]\u001b[0m Trial 13 finished with value: 0.7532334067647636 and parameters: {'classifier': 'MLP', 'mlp_hidden_layer_sizes': (50, 50), 'mlp_activation': 'relu', 'mlp_solver': 'adam'}. Best is trial 7 with value: 0.7588588818503835.\u001b[0m\n",
            "/usr/local/lib/python3.7/dist-packages/optuna/distributions.py:502: UserWarning:\n",
            "\n",
            "Choices for a categorical distribution should be a tuple of None, bool, int, float and str for persistent storage but contains (50,) which is of type tuple.\n",
            "\n",
            "/usr/local/lib/python3.7/dist-packages/optuna/distributions.py:502: UserWarning:\n",
            "\n",
            "Choices for a categorical distribution should be a tuple of None, bool, int, float and str for persistent storage but contains (100,) which is of type tuple.\n",
            "\n",
            "/usr/local/lib/python3.7/dist-packages/optuna/distributions.py:502: UserWarning:\n",
            "\n",
            "Choices for a categorical distribution should be a tuple of None, bool, int, float and str for persistent storage but contains (50, 50) which is of type tuple.\n",
            "\n",
            "\u001b[32m[I 2022-09-02 15:56:58,931]\u001b[0m Trial 14 finished with value: 0.7532334067647636 and parameters: {'classifier': 'MLP', 'mlp_hidden_layer_sizes': (50, 50), 'mlp_activation': 'relu', 'mlp_solver': 'adam'}. Best is trial 7 with value: 0.7588588818503835.\u001b[0m\n",
            "/usr/local/lib/python3.7/dist-packages/optuna/distributions.py:502: UserWarning:\n",
            "\n",
            "Choices for a categorical distribution should be a tuple of None, bool, int, float and str for persistent storage but contains (50,) which is of type tuple.\n",
            "\n",
            "/usr/local/lib/python3.7/dist-packages/optuna/distributions.py:502: UserWarning:\n",
            "\n",
            "Choices for a categorical distribution should be a tuple of None, bool, int, float and str for persistent storage but contains (100,) which is of type tuple.\n",
            "\n",
            "/usr/local/lib/python3.7/dist-packages/optuna/distributions.py:502: UserWarning:\n",
            "\n",
            "Choices for a categorical distribution should be a tuple of None, bool, int, float and str for persistent storage but contains (50, 50) which is of type tuple.\n",
            "\n",
            "\u001b[32m[I 2022-09-02 15:57:09,450]\u001b[0m Trial 15 finished with value: 0.7519070984357403 and parameters: {'classifier': 'MLP', 'mlp_hidden_layer_sizes': (50,), 'mlp_activation': 'logistic', 'mlp_solver': 'adam'}. Best is trial 7 with value: 0.7588588818503835.\u001b[0m\n",
            "/usr/local/lib/python3.7/dist-packages/optuna/distributions.py:502: UserWarning:\n",
            "\n",
            "Choices for a categorical distribution should be a tuple of None, bool, int, float and str for persistent storage but contains (50,) which is of type tuple.\n",
            "\n",
            "/usr/local/lib/python3.7/dist-packages/optuna/distributions.py:502: UserWarning:\n",
            "\n",
            "Choices for a categorical distribution should be a tuple of None, bool, int, float and str for persistent storage but contains (100,) which is of type tuple.\n",
            "\n",
            "/usr/local/lib/python3.7/dist-packages/optuna/distributions.py:502: UserWarning:\n",
            "\n",
            "Choices for a categorical distribution should be a tuple of None, bool, int, float and str for persistent storage but contains (50, 50) which is of type tuple.\n",
            "\n",
            "\u001b[32m[I 2022-09-02 15:57:12,417]\u001b[0m Trial 16 finished with value: 0.7532334067647636 and parameters: {'classifier': 'MLP', 'mlp_hidden_layer_sizes': (50, 50), 'mlp_activation': 'relu', 'mlp_solver': 'adam'}. Best is trial 7 with value: 0.7588588818503835.\u001b[0m\n",
            "/usr/local/lib/python3.7/dist-packages/optuna/distributions.py:502: UserWarning:\n",
            "\n",
            "Choices for a categorical distribution should be a tuple of None, bool, int, float and str for persistent storage but contains (50,) which is of type tuple.\n",
            "\n",
            "/usr/local/lib/python3.7/dist-packages/optuna/distributions.py:502: UserWarning:\n",
            "\n",
            "Choices for a categorical distribution should be a tuple of None, bool, int, float and str for persistent storage but contains (100,) which is of type tuple.\n",
            "\n",
            "/usr/local/lib/python3.7/dist-packages/optuna/distributions.py:502: UserWarning:\n",
            "\n",
            "Choices for a categorical distribution should be a tuple of None, bool, int, float and str for persistent storage but contains (50, 50) which is of type tuple.\n",
            "\n",
            "\u001b[32m[I 2022-09-02 15:57:13,975]\u001b[0m Trial 17 finished with value: 0.7469401641672903 and parameters: {'classifier': 'MLP', 'mlp_hidden_layer_sizes': (50,), 'mlp_activation': 'relu', 'mlp_solver': 'adam'}. Best is trial 7 with value: 0.7588588818503835.\u001b[0m\n",
            "/usr/local/lib/python3.7/dist-packages/optuna/distributions.py:502: UserWarning:\n",
            "\n",
            "Choices for a categorical distribution should be a tuple of None, bool, int, float and str for persistent storage but contains (50,) which is of type tuple.\n",
            "\n",
            "/usr/local/lib/python3.7/dist-packages/optuna/distributions.py:502: UserWarning:\n",
            "\n",
            "Choices for a categorical distribution should be a tuple of None, bool, int, float and str for persistent storage but contains (100,) which is of type tuple.\n",
            "\n",
            "/usr/local/lib/python3.7/dist-packages/optuna/distributions.py:502: UserWarning:\n",
            "\n",
            "Choices for a categorical distribution should be a tuple of None, bool, int, float and str for persistent storage but contains (50, 50) which is of type tuple.\n",
            "\n",
            "\u001b[32m[I 2022-09-02 15:57:15,668]\u001b[0m Trial 18 finished with value: 0.7415467133346342 and parameters: {'classifier': 'MLP', 'mlp_hidden_layer_sizes': (50,), 'mlp_activation': 'tanh', 'mlp_solver': 'sgd'}. Best is trial 7 with value: 0.7588588818503835.\u001b[0m\n",
            "/usr/local/lib/python3.7/dist-packages/optuna/distributions.py:502: UserWarning:\n",
            "\n",
            "Choices for a categorical distribution should be a tuple of None, bool, int, float and str for persistent storage but contains (50,) which is of type tuple.\n",
            "\n",
            "/usr/local/lib/python3.7/dist-packages/optuna/distributions.py:502: UserWarning:\n",
            "\n",
            "Choices for a categorical distribution should be a tuple of None, bool, int, float and str for persistent storage but contains (100,) which is of type tuple.\n",
            "\n",
            "/usr/local/lib/python3.7/dist-packages/optuna/distributions.py:502: UserWarning:\n",
            "\n",
            "Choices for a categorical distribution should be a tuple of None, bool, int, float and str for persistent storage but contains (50, 50) which is of type tuple.\n",
            "\n",
            "\u001b[32m[I 2022-09-02 15:57:29,383]\u001b[0m Trial 19 finished with value: 0.7711609688544775 and parameters: {'classifier': 'MLP', 'mlp_hidden_layer_sizes': (50, 50), 'mlp_activation': 'logistic', 'mlp_solver': 'adam'}. Best is trial 19 with value: 0.7711609688544775.\u001b[0m\n",
            "/usr/local/lib/python3.7/dist-packages/optuna/distributions.py:502: UserWarning:\n",
            "\n",
            "Choices for a categorical distribution should be a tuple of None, bool, int, float and str for persistent storage but contains (50,) which is of type tuple.\n",
            "\n",
            "/usr/local/lib/python3.7/dist-packages/optuna/distributions.py:502: UserWarning:\n",
            "\n",
            "Choices for a categorical distribution should be a tuple of None, bool, int, float and str for persistent storage but contains (100,) which is of type tuple.\n",
            "\n",
            "/usr/local/lib/python3.7/dist-packages/optuna/distributions.py:502: UserWarning:\n",
            "\n",
            "Choices for a categorical distribution should be a tuple of None, bool, int, float and str for persistent storage but contains (50, 50) which is of type tuple.\n",
            "\n",
            "\u001b[32m[I 2022-09-02 15:57:41,668]\u001b[0m Trial 20 finished with value: 0.7711609688544775 and parameters: {'classifier': 'MLP', 'mlp_hidden_layer_sizes': (50, 50), 'mlp_activation': 'logistic', 'mlp_solver': 'adam'}. Best is trial 19 with value: 0.7711609688544775.\u001b[0m\n",
            "/usr/local/lib/python3.7/dist-packages/optuna/distributions.py:502: UserWarning:\n",
            "\n",
            "Choices for a categorical distribution should be a tuple of None, bool, int, float and str for persistent storage but contains (50,) which is of type tuple.\n",
            "\n",
            "/usr/local/lib/python3.7/dist-packages/optuna/distributions.py:502: UserWarning:\n",
            "\n",
            "Choices for a categorical distribution should be a tuple of None, bool, int, float and str for persistent storage but contains (100,) which is of type tuple.\n",
            "\n",
            "/usr/local/lib/python3.7/dist-packages/optuna/distributions.py:502: UserWarning:\n",
            "\n",
            "Choices for a categorical distribution should be a tuple of None, bool, int, float and str for persistent storage but contains (50, 50) which is of type tuple.\n",
            "\n",
            "\u001b[32m[I 2022-09-02 15:57:56,662]\u001b[0m Trial 21 finished with value: 0.7711609688544775 and parameters: {'classifier': 'MLP', 'mlp_hidden_layer_sizes': (50, 50), 'mlp_activation': 'logistic', 'mlp_solver': 'adam'}. Best is trial 19 with value: 0.7711609688544775.\u001b[0m\n",
            "/usr/local/lib/python3.7/dist-packages/optuna/distributions.py:502: UserWarning:\n",
            "\n",
            "Choices for a categorical distribution should be a tuple of None, bool, int, float and str for persistent storage but contains (50,) which is of type tuple.\n",
            "\n",
            "/usr/local/lib/python3.7/dist-packages/optuna/distributions.py:502: UserWarning:\n",
            "\n",
            "Choices for a categorical distribution should be a tuple of None, bool, int, float and str for persistent storage but contains (100,) which is of type tuple.\n",
            "\n",
            "/usr/local/lib/python3.7/dist-packages/optuna/distributions.py:502: UserWarning:\n",
            "\n",
            "Choices for a categorical distribution should be a tuple of None, bool, int, float and str for persistent storage but contains (50, 50) which is of type tuple.\n",
            "\n",
            "\u001b[32m[I 2022-09-02 15:58:09,033]\u001b[0m Trial 22 finished with value: 0.7711609688544775 and parameters: {'classifier': 'MLP', 'mlp_hidden_layer_sizes': (50, 50), 'mlp_activation': 'logistic', 'mlp_solver': 'adam'}. Best is trial 19 with value: 0.7711609688544775.\u001b[0m\n",
            "/usr/local/lib/python3.7/dist-packages/optuna/distributions.py:502: UserWarning:\n",
            "\n",
            "Choices for a categorical distribution should be a tuple of None, bool, int, float and str for persistent storage but contains (50,) which is of type tuple.\n",
            "\n",
            "/usr/local/lib/python3.7/dist-packages/optuna/distributions.py:502: UserWarning:\n",
            "\n",
            "Choices for a categorical distribution should be a tuple of None, bool, int, float and str for persistent storage but contains (100,) which is of type tuple.\n",
            "\n",
            "/usr/local/lib/python3.7/dist-packages/optuna/distributions.py:502: UserWarning:\n",
            "\n",
            "Choices for a categorical distribution should be a tuple of None, bool, int, float and str for persistent storage but contains (50, 50) which is of type tuple.\n",
            "\n",
            "\u001b[32m[I 2022-09-02 15:58:21,260]\u001b[0m Trial 23 finished with value: 0.7711609688544775 and parameters: {'classifier': 'MLP', 'mlp_hidden_layer_sizes': (50, 50), 'mlp_activation': 'logistic', 'mlp_solver': 'adam'}. Best is trial 19 with value: 0.7711609688544775.\u001b[0m\n",
            "/usr/local/lib/python3.7/dist-packages/optuna/distributions.py:502: UserWarning:\n",
            "\n",
            "Choices for a categorical distribution should be a tuple of None, bool, int, float and str for persistent storage but contains (50,) which is of type tuple.\n",
            "\n",
            "/usr/local/lib/python3.7/dist-packages/optuna/distributions.py:502: UserWarning:\n",
            "\n",
            "Choices for a categorical distribution should be a tuple of None, bool, int, float and str for persistent storage but contains (100,) which is of type tuple.\n",
            "\n",
            "/usr/local/lib/python3.7/dist-packages/optuna/distributions.py:502: UserWarning:\n",
            "\n",
            "Choices for a categorical distribution should be a tuple of None, bool, int, float and str for persistent storage but contains (50, 50) which is of type tuple.\n",
            "\n",
            "\u001b[32m[I 2022-09-02 15:58:33,420]\u001b[0m Trial 24 finished with value: 0.7711609688544775 and parameters: {'classifier': 'MLP', 'mlp_hidden_layer_sizes': (50, 50), 'mlp_activation': 'logistic', 'mlp_solver': 'adam'}. Best is trial 19 with value: 0.7711609688544775.\u001b[0m\n",
            "/usr/local/lib/python3.7/dist-packages/optuna/distributions.py:502: UserWarning:\n",
            "\n",
            "Choices for a categorical distribution should be a tuple of None, bool, int, float and str for persistent storage but contains (50,) which is of type tuple.\n",
            "\n",
            "/usr/local/lib/python3.7/dist-packages/optuna/distributions.py:502: UserWarning:\n",
            "\n",
            "Choices for a categorical distribution should be a tuple of None, bool, int, float and str for persistent storage but contains (100,) which is of type tuple.\n",
            "\n",
            "/usr/local/lib/python3.7/dist-packages/optuna/distributions.py:502: UserWarning:\n",
            "\n",
            "Choices for a categorical distribution should be a tuple of None, bool, int, float and str for persistent storage but contains (50, 50) which is of type tuple.\n",
            "\n",
            "\u001b[32m[I 2022-09-02 15:58:45,553]\u001b[0m Trial 25 finished with value: 0.7711609688544775 and parameters: {'classifier': 'MLP', 'mlp_hidden_layer_sizes': (50, 50), 'mlp_activation': 'logistic', 'mlp_solver': 'adam'}. Best is trial 19 with value: 0.7711609688544775.\u001b[0m\n",
            "/usr/local/lib/python3.7/dist-packages/optuna/distributions.py:502: UserWarning:\n",
            "\n",
            "Choices for a categorical distribution should be a tuple of None, bool, int, float and str for persistent storage but contains (50,) which is of type tuple.\n",
            "\n",
            "/usr/local/lib/python3.7/dist-packages/optuna/distributions.py:502: UserWarning:\n",
            "\n",
            "Choices for a categorical distribution should be a tuple of None, bool, int, float and str for persistent storage but contains (100,) which is of type tuple.\n",
            "\n",
            "/usr/local/lib/python3.7/dist-packages/optuna/distributions.py:502: UserWarning:\n",
            "\n",
            "Choices for a categorical distribution should be a tuple of None, bool, int, float and str for persistent storage but contains (50, 50) which is of type tuple.\n",
            "\n",
            "\u001b[32m[I 2022-09-02 15:58:46,901]\u001b[0m Trial 26 finished with value: 0.7415467133346342 and parameters: {'classifier': 'MLP', 'mlp_hidden_layer_sizes': (50, 50), 'mlp_activation': 'logistic', 'mlp_solver': 'sgd'}. Best is trial 19 with value: 0.7711609688544775.\u001b[0m\n",
            "/usr/local/lib/python3.7/dist-packages/optuna/distributions.py:502: UserWarning:\n",
            "\n",
            "Choices for a categorical distribution should be a tuple of None, bool, int, float and str for persistent storage but contains (50,) which is of type tuple.\n",
            "\n",
            "/usr/local/lib/python3.7/dist-packages/optuna/distributions.py:502: UserWarning:\n",
            "\n",
            "Choices for a categorical distribution should be a tuple of None, bool, int, float and str for persistent storage but contains (100,) which is of type tuple.\n",
            "\n",
            "/usr/local/lib/python3.7/dist-packages/optuna/distributions.py:502: UserWarning:\n",
            "\n",
            "Choices for a categorical distribution should be a tuple of None, bool, int, float and str for persistent storage but contains (50, 50) which is of type tuple.\n",
            "\n",
            "\u001b[32m[I 2022-09-02 15:58:59,113]\u001b[0m Trial 27 finished with value: 0.7711609688544775 and parameters: {'classifier': 'MLP', 'mlp_hidden_layer_sizes': (50, 50), 'mlp_activation': 'logistic', 'mlp_solver': 'adam'}. Best is trial 19 with value: 0.7711609688544775.\u001b[0m\n",
            "/usr/local/lib/python3.7/dist-packages/optuna/distributions.py:502: UserWarning:\n",
            "\n",
            "Choices for a categorical distribution should be a tuple of None, bool, int, float and str for persistent storage but contains (50,) which is of type tuple.\n",
            "\n",
            "/usr/local/lib/python3.7/dist-packages/optuna/distributions.py:502: UserWarning:\n",
            "\n",
            "Choices for a categorical distribution should be a tuple of None, bool, int, float and str for persistent storage but contains (100,) which is of type tuple.\n",
            "\n",
            "/usr/local/lib/python3.7/dist-packages/optuna/distributions.py:502: UserWarning:\n",
            "\n",
            "Choices for a categorical distribution should be a tuple of None, bool, int, float and str for persistent storage but contains (50, 50) which is of type tuple.\n",
            "\n",
            "\u001b[32m[I 2022-09-02 15:59:12,490]\u001b[0m Trial 28 finished with value: 0.7711609688544775 and parameters: {'classifier': 'MLP', 'mlp_hidden_layer_sizes': (50, 50), 'mlp_activation': 'logistic', 'mlp_solver': 'adam'}. Best is trial 19 with value: 0.7711609688544775.\u001b[0m\n",
            "/usr/local/lib/python3.7/dist-packages/optuna/distributions.py:502: UserWarning:\n",
            "\n",
            "Choices for a categorical distribution should be a tuple of None, bool, int, float and str for persistent storage but contains (50,) which is of type tuple.\n",
            "\n",
            "/usr/local/lib/python3.7/dist-packages/optuna/distributions.py:502: UserWarning:\n",
            "\n",
            "Choices for a categorical distribution should be a tuple of None, bool, int, float and str for persistent storage but contains (100,) which is of type tuple.\n",
            "\n",
            "/usr/local/lib/python3.7/dist-packages/optuna/distributions.py:502: UserWarning:\n",
            "\n",
            "Choices for a categorical distribution should be a tuple of None, bool, int, float and str for persistent storage but contains (50, 50) which is of type tuple.\n",
            "\n",
            "\u001b[32m[I 2022-09-02 15:59:24,616]\u001b[0m Trial 29 finished with value: 0.7711609688544775 and parameters: {'classifier': 'MLP', 'mlp_hidden_layer_sizes': (50, 50), 'mlp_activation': 'logistic', 'mlp_solver': 'adam'}. Best is trial 19 with value: 0.7711609688544775.\u001b[0m\n",
            "/usr/local/lib/python3.7/dist-packages/optuna/distributions.py:502: UserWarning:\n",
            "\n",
            "Choices for a categorical distribution should be a tuple of None, bool, int, float and str for persistent storage but contains (50,) which is of type tuple.\n",
            "\n",
            "/usr/local/lib/python3.7/dist-packages/optuna/distributions.py:502: UserWarning:\n",
            "\n",
            "Choices for a categorical distribution should be a tuple of None, bool, int, float and str for persistent storage but contains (100,) which is of type tuple.\n",
            "\n",
            "/usr/local/lib/python3.7/dist-packages/optuna/distributions.py:502: UserWarning:\n",
            "\n",
            "Choices for a categorical distribution should be a tuple of None, bool, int, float and str for persistent storage but contains (50, 50) which is of type tuple.\n",
            "\n",
            "\u001b[32m[I 2022-09-02 15:59:36,918]\u001b[0m Trial 30 finished with value: 0.7711609688544775 and parameters: {'classifier': 'MLP', 'mlp_hidden_layer_sizes': (50, 50), 'mlp_activation': 'logistic', 'mlp_solver': 'adam'}. Best is trial 19 with value: 0.7711609688544775.\u001b[0m\n",
            "/usr/local/lib/python3.7/dist-packages/optuna/distributions.py:502: UserWarning:\n",
            "\n",
            "Choices for a categorical distribution should be a tuple of None, bool, int, float and str for persistent storage but contains (50,) which is of type tuple.\n",
            "\n",
            "/usr/local/lib/python3.7/dist-packages/optuna/distributions.py:502: UserWarning:\n",
            "\n",
            "Choices for a categorical distribution should be a tuple of None, bool, int, float and str for persistent storage but contains (100,) which is of type tuple.\n",
            "\n",
            "/usr/local/lib/python3.7/dist-packages/optuna/distributions.py:502: UserWarning:\n",
            "\n",
            "Choices for a categorical distribution should be a tuple of None, bool, int, float and str for persistent storage but contains (50, 50) which is of type tuple.\n",
            "\n",
            "\u001b[32m[I 2022-09-02 15:59:49,188]\u001b[0m Trial 31 finished with value: 0.7711609688544775 and parameters: {'classifier': 'MLP', 'mlp_hidden_layer_sizes': (50, 50), 'mlp_activation': 'logistic', 'mlp_solver': 'adam'}. Best is trial 19 with value: 0.7711609688544775.\u001b[0m\n",
            "/usr/local/lib/python3.7/dist-packages/optuna/distributions.py:502: UserWarning:\n",
            "\n",
            "Choices for a categorical distribution should be a tuple of None, bool, int, float and str for persistent storage but contains (50,) which is of type tuple.\n",
            "\n",
            "/usr/local/lib/python3.7/dist-packages/optuna/distributions.py:502: UserWarning:\n",
            "\n",
            "Choices for a categorical distribution should be a tuple of None, bool, int, float and str for persistent storage but contains (100,) which is of type tuple.\n",
            "\n",
            "/usr/local/lib/python3.7/dist-packages/optuna/distributions.py:502: UserWarning:\n",
            "\n",
            "Choices for a categorical distribution should be a tuple of None, bool, int, float and str for persistent storage but contains (50, 50) which is of type tuple.\n",
            "\n",
            "\u001b[32m[I 2022-09-02 16:00:05,623]\u001b[0m Trial 32 finished with value: 0.7711609688544775 and parameters: {'classifier': 'MLP', 'mlp_hidden_layer_sizes': (50, 50), 'mlp_activation': 'logistic', 'mlp_solver': 'adam'}. Best is trial 19 with value: 0.7711609688544775.\u001b[0m\n",
            "/usr/local/lib/python3.7/dist-packages/optuna/distributions.py:502: UserWarning:\n",
            "\n",
            "Choices for a categorical distribution should be a tuple of None, bool, int, float and str for persistent storage but contains (50,) which is of type tuple.\n",
            "\n",
            "/usr/local/lib/python3.7/dist-packages/optuna/distributions.py:502: UserWarning:\n",
            "\n",
            "Choices for a categorical distribution should be a tuple of None, bool, int, float and str for persistent storage but contains (100,) which is of type tuple.\n",
            "\n",
            "/usr/local/lib/python3.7/dist-packages/optuna/distributions.py:502: UserWarning:\n",
            "\n",
            "Choices for a categorical distribution should be a tuple of None, bool, int, float and str for persistent storage but contains (50, 50) which is of type tuple.\n",
            "\n",
            "\u001b[32m[I 2022-09-02 16:00:17,999]\u001b[0m Trial 33 finished with value: 0.7711609688544775 and parameters: {'classifier': 'MLP', 'mlp_hidden_layer_sizes': (50, 50), 'mlp_activation': 'logistic', 'mlp_solver': 'adam'}. Best is trial 19 with value: 0.7711609688544775.\u001b[0m\n",
            "/usr/local/lib/python3.7/dist-packages/optuna/distributions.py:502: UserWarning:\n",
            "\n",
            "Choices for a categorical distribution should be a tuple of None, bool, int, float and str for persistent storage but contains (50,) which is of type tuple.\n",
            "\n",
            "/usr/local/lib/python3.7/dist-packages/optuna/distributions.py:502: UserWarning:\n",
            "\n",
            "Choices for a categorical distribution should be a tuple of None, bool, int, float and str for persistent storage but contains (100,) which is of type tuple.\n",
            "\n",
            "/usr/local/lib/python3.7/dist-packages/optuna/distributions.py:502: UserWarning:\n",
            "\n",
            "Choices for a categorical distribution should be a tuple of None, bool, int, float and str for persistent storage but contains (50, 50) which is of type tuple.\n",
            "\n",
            "\u001b[32m[I 2022-09-02 16:00:30,267]\u001b[0m Trial 34 finished with value: 0.7711609688544775 and parameters: {'classifier': 'MLP', 'mlp_hidden_layer_sizes': (50, 50), 'mlp_activation': 'logistic', 'mlp_solver': 'adam'}. Best is trial 19 with value: 0.7711609688544775.\u001b[0m\n",
            "/usr/local/lib/python3.7/dist-packages/optuna/distributions.py:502: UserWarning:\n",
            "\n",
            "Choices for a categorical distribution should be a tuple of None, bool, int, float and str for persistent storage but contains (50,) which is of type tuple.\n",
            "\n",
            "/usr/local/lib/python3.7/dist-packages/optuna/distributions.py:502: UserWarning:\n",
            "\n",
            "Choices for a categorical distribution should be a tuple of None, bool, int, float and str for persistent storage but contains (100,) which is of type tuple.\n",
            "\n",
            "/usr/local/lib/python3.7/dist-packages/optuna/distributions.py:502: UserWarning:\n",
            "\n",
            "Choices for a categorical distribution should be a tuple of None, bool, int, float and str for persistent storage but contains (50, 50) which is of type tuple.\n",
            "\n",
            "\u001b[32m[I 2022-09-02 16:00:42,766]\u001b[0m Trial 35 finished with value: 0.7711609688544775 and parameters: {'classifier': 'MLP', 'mlp_hidden_layer_sizes': (50, 50), 'mlp_activation': 'logistic', 'mlp_solver': 'adam'}. Best is trial 19 with value: 0.7711609688544775.\u001b[0m\n",
            "/usr/local/lib/python3.7/dist-packages/optuna/distributions.py:502: UserWarning:\n",
            "\n",
            "Choices for a categorical distribution should be a tuple of None, bool, int, float and str for persistent storage but contains (50,) which is of type tuple.\n",
            "\n",
            "/usr/local/lib/python3.7/dist-packages/optuna/distributions.py:502: UserWarning:\n",
            "\n",
            "Choices for a categorical distribution should be a tuple of None, bool, int, float and str for persistent storage but contains (100,) which is of type tuple.\n",
            "\n",
            "/usr/local/lib/python3.7/dist-packages/optuna/distributions.py:502: UserWarning:\n",
            "\n",
            "Choices for a categorical distribution should be a tuple of None, bool, int, float and str for persistent storage but contains (50, 50) which is of type tuple.\n",
            "\n",
            "\u001b[32m[I 2022-09-02 16:00:44,600]\u001b[0m Trial 36 finished with value: 0.7415467133346342 and parameters: {'classifier': 'MLP', 'mlp_hidden_layer_sizes': (100,), 'mlp_activation': 'logistic', 'mlp_solver': 'sgd'}. Best is trial 19 with value: 0.7711609688544775.\u001b[0m\n",
            "/usr/local/lib/python3.7/dist-packages/optuna/distributions.py:502: UserWarning:\n",
            "\n",
            "Choices for a categorical distribution should be a tuple of None, bool, int, float and str for persistent storage but contains (50,) which is of type tuple.\n",
            "\n",
            "/usr/local/lib/python3.7/dist-packages/optuna/distributions.py:502: UserWarning:\n",
            "\n",
            "Choices for a categorical distribution should be a tuple of None, bool, int, float and str for persistent storage but contains (100,) which is of type tuple.\n",
            "\n",
            "/usr/local/lib/python3.7/dist-packages/optuna/distributions.py:502: UserWarning:\n",
            "\n",
            "Choices for a categorical distribution should be a tuple of None, bool, int, float and str for persistent storage but contains (50, 50) which is of type tuple.\n",
            "\n",
            "\u001b[32m[I 2022-09-02 16:00:52,782]\u001b[0m Trial 37 finished with value: 0.7406853851273875 and parameters: {'classifier': 'MLP', 'mlp_hidden_layer_sizes': (100,), 'mlp_activation': 'logistic', 'mlp_solver': 'adam'}. Best is trial 19 with value: 0.7711609688544775.\u001b[0m\n",
            "/usr/local/lib/python3.7/dist-packages/optuna/distributions.py:502: UserWarning:\n",
            "\n",
            "Choices for a categorical distribution should be a tuple of None, bool, int, float and str for persistent storage but contains (50,) which is of type tuple.\n",
            "\n",
            "/usr/local/lib/python3.7/dist-packages/optuna/distributions.py:502: UserWarning:\n",
            "\n",
            "Choices for a categorical distribution should be a tuple of None, bool, int, float and str for persistent storage but contains (100,) which is of type tuple.\n",
            "\n",
            "/usr/local/lib/python3.7/dist-packages/optuna/distributions.py:502: UserWarning:\n",
            "\n",
            "Choices for a categorical distribution should be a tuple of None, bool, int, float and str for persistent storage but contains (50, 50) which is of type tuple.\n",
            "\n",
            "\u001b[32m[I 2022-09-02 16:01:07,590]\u001b[0m Trial 38 finished with value: 0.7711609688544775 and parameters: {'classifier': 'MLP', 'mlp_hidden_layer_sizes': (50, 50), 'mlp_activation': 'logistic', 'mlp_solver': 'adam'}. Best is trial 19 with value: 0.7711609688544775.\u001b[0m\n",
            "/usr/local/lib/python3.7/dist-packages/optuna/distributions.py:502: UserWarning:\n",
            "\n",
            "Choices for a categorical distribution should be a tuple of None, bool, int, float and str for persistent storage but contains (50,) which is of type tuple.\n",
            "\n",
            "/usr/local/lib/python3.7/dist-packages/optuna/distributions.py:502: UserWarning:\n",
            "\n",
            "Choices for a categorical distribution should be a tuple of None, bool, int, float and str for persistent storage but contains (100,) which is of type tuple.\n",
            "\n",
            "/usr/local/lib/python3.7/dist-packages/optuna/distributions.py:502: UserWarning:\n",
            "\n",
            "Choices for a categorical distribution should be a tuple of None, bool, int, float and str for persistent storage but contains (50, 50) which is of type tuple.\n",
            "\n",
            "\u001b[32m[I 2022-09-02 16:01:08,966]\u001b[0m Trial 39 finished with value: 0.7415467133346342 and parameters: {'classifier': 'MLP', 'mlp_hidden_layer_sizes': (50, 50), 'mlp_activation': 'logistic', 'mlp_solver': 'sgd'}. Best is trial 19 with value: 0.7711609688544775.\u001b[0m\n",
            "/usr/local/lib/python3.7/dist-packages/optuna/distributions.py:502: UserWarning:\n",
            "\n",
            "Choices for a categorical distribution should be a tuple of None, bool, int, float and str for persistent storage but contains (50,) which is of type tuple.\n",
            "\n",
            "/usr/local/lib/python3.7/dist-packages/optuna/distributions.py:502: UserWarning:\n",
            "\n",
            "Choices for a categorical distribution should be a tuple of None, bool, int, float and str for persistent storage but contains (100,) which is of type tuple.\n",
            "\n",
            "/usr/local/lib/python3.7/dist-packages/optuna/distributions.py:502: UserWarning:\n",
            "\n",
            "Choices for a categorical distribution should be a tuple of None, bool, int, float and str for persistent storage but contains (50, 50) which is of type tuple.\n",
            "\n",
            "\u001b[32m[I 2022-09-02 16:01:16,961]\u001b[0m Trial 40 finished with value: 0.7406853851273875 and parameters: {'classifier': 'MLP', 'mlp_hidden_layer_sizes': (100,), 'mlp_activation': 'logistic', 'mlp_solver': 'adam'}. Best is trial 19 with value: 0.7711609688544775.\u001b[0m\n",
            "/usr/local/lib/python3.7/dist-packages/optuna/distributions.py:502: UserWarning:\n",
            "\n",
            "Choices for a categorical distribution should be a tuple of None, bool, int, float and str for persistent storage but contains (50,) which is of type tuple.\n",
            "\n",
            "/usr/local/lib/python3.7/dist-packages/optuna/distributions.py:502: UserWarning:\n",
            "\n",
            "Choices for a categorical distribution should be a tuple of None, bool, int, float and str for persistent storage but contains (100,) which is of type tuple.\n",
            "\n",
            "/usr/local/lib/python3.7/dist-packages/optuna/distributions.py:502: UserWarning:\n",
            "\n",
            "Choices for a categorical distribution should be a tuple of None, bool, int, float and str for persistent storage but contains (50, 50) which is of type tuple.\n",
            "\n",
            "\u001b[32m[I 2022-09-02 16:01:29,230]\u001b[0m Trial 41 finished with value: 0.7711609688544775 and parameters: {'classifier': 'MLP', 'mlp_hidden_layer_sizes': (50, 50), 'mlp_activation': 'logistic', 'mlp_solver': 'adam'}. Best is trial 19 with value: 0.7711609688544775.\u001b[0m\n",
            "/usr/local/lib/python3.7/dist-packages/optuna/distributions.py:502: UserWarning:\n",
            "\n",
            "Choices for a categorical distribution should be a tuple of None, bool, int, float and str for persistent storage but contains (50,) which is of type tuple.\n",
            "\n",
            "/usr/local/lib/python3.7/dist-packages/optuna/distributions.py:502: UserWarning:\n",
            "\n",
            "Choices for a categorical distribution should be a tuple of None, bool, int, float and str for persistent storage but contains (100,) which is of type tuple.\n",
            "\n",
            "/usr/local/lib/python3.7/dist-packages/optuna/distributions.py:502: UserWarning:\n",
            "\n",
            "Choices for a categorical distribution should be a tuple of None, bool, int, float and str for persistent storage but contains (50, 50) which is of type tuple.\n",
            "\n",
            "\u001b[32m[I 2022-09-02 16:01:41,652]\u001b[0m Trial 42 finished with value: 0.7711609688544775 and parameters: {'classifier': 'MLP', 'mlp_hidden_layer_sizes': (50, 50), 'mlp_activation': 'logistic', 'mlp_solver': 'adam'}. Best is trial 19 with value: 0.7711609688544775.\u001b[0m\n",
            "/usr/local/lib/python3.7/dist-packages/optuna/distributions.py:502: UserWarning:\n",
            "\n",
            "Choices for a categorical distribution should be a tuple of None, bool, int, float and str for persistent storage but contains (50,) which is of type tuple.\n",
            "\n",
            "/usr/local/lib/python3.7/dist-packages/optuna/distributions.py:502: UserWarning:\n",
            "\n",
            "Choices for a categorical distribution should be a tuple of None, bool, int, float and str for persistent storage but contains (100,) which is of type tuple.\n",
            "\n",
            "/usr/local/lib/python3.7/dist-packages/optuna/distributions.py:502: UserWarning:\n",
            "\n",
            "Choices for a categorical distribution should be a tuple of None, bool, int, float and str for persistent storage but contains (50, 50) which is of type tuple.\n",
            "\n",
            "\u001b[32m[I 2022-09-02 16:01:54,276]\u001b[0m Trial 43 finished with value: 0.7711609688544775 and parameters: {'classifier': 'MLP', 'mlp_hidden_layer_sizes': (50, 50), 'mlp_activation': 'logistic', 'mlp_solver': 'adam'}. Best is trial 19 with value: 0.7711609688544775.\u001b[0m\n",
            "/usr/local/lib/python3.7/dist-packages/optuna/distributions.py:502: UserWarning:\n",
            "\n",
            "Choices for a categorical distribution should be a tuple of None, bool, int, float and str for persistent storage but contains (50,) which is of type tuple.\n",
            "\n",
            "/usr/local/lib/python3.7/dist-packages/optuna/distributions.py:502: UserWarning:\n",
            "\n",
            "Choices for a categorical distribution should be a tuple of None, bool, int, float and str for persistent storage but contains (100,) which is of type tuple.\n",
            "\n",
            "/usr/local/lib/python3.7/dist-packages/optuna/distributions.py:502: UserWarning:\n",
            "\n",
            "Choices for a categorical distribution should be a tuple of None, bool, int, float and str for persistent storage but contains (50, 50) which is of type tuple.\n",
            "\n",
            "\u001b[32m[I 2022-09-02 16:02:05,087]\u001b[0m Trial 44 finished with value: 0.7443542990735308 and parameters: {'classifier': 'MLP', 'mlp_hidden_layer_sizes': (50, 50), 'mlp_activation': 'tanh', 'mlp_solver': 'adam'}. Best is trial 19 with value: 0.7711609688544775.\u001b[0m\n",
            "/usr/local/lib/python3.7/dist-packages/optuna/distributions.py:502: UserWarning:\n",
            "\n",
            "Choices for a categorical distribution should be a tuple of None, bool, int, float and str for persistent storage but contains (50,) which is of type tuple.\n",
            "\n",
            "/usr/local/lib/python3.7/dist-packages/optuna/distributions.py:502: UserWarning:\n",
            "\n",
            "Choices for a categorical distribution should be a tuple of None, bool, int, float and str for persistent storage but contains (100,) which is of type tuple.\n",
            "\n",
            "/usr/local/lib/python3.7/dist-packages/optuna/distributions.py:502: UserWarning:\n",
            "\n",
            "Choices for a categorical distribution should be a tuple of None, bool, int, float and str for persistent storage but contains (50, 50) which is of type tuple.\n",
            "\n",
            "\u001b[32m[I 2022-09-02 16:02:20,085]\u001b[0m Trial 45 finished with value: 0.7711609688544775 and parameters: {'classifier': 'MLP', 'mlp_hidden_layer_sizes': (50, 50), 'mlp_activation': 'logistic', 'mlp_solver': 'adam'}. Best is trial 19 with value: 0.7711609688544775.\u001b[0m\n",
            "/usr/local/lib/python3.7/dist-packages/optuna/distributions.py:502: UserWarning:\n",
            "\n",
            "Choices for a categorical distribution should be a tuple of None, bool, int, float and str for persistent storage but contains (50,) which is of type tuple.\n",
            "\n",
            "/usr/local/lib/python3.7/dist-packages/optuna/distributions.py:502: UserWarning:\n",
            "\n",
            "Choices for a categorical distribution should be a tuple of None, bool, int, float and str for persistent storage but contains (100,) which is of type tuple.\n",
            "\n",
            "/usr/local/lib/python3.7/dist-packages/optuna/distributions.py:502: UserWarning:\n",
            "\n",
            "Choices for a categorical distribution should be a tuple of None, bool, int, float and str for persistent storage but contains (50, 50) which is of type tuple.\n",
            "\n",
            "\u001b[32m[I 2022-09-02 16:02:32,382]\u001b[0m Trial 46 finished with value: 0.7711609688544775 and parameters: {'classifier': 'MLP', 'mlp_hidden_layer_sizes': (50, 50), 'mlp_activation': 'logistic', 'mlp_solver': 'adam'}. Best is trial 19 with value: 0.7711609688544775.\u001b[0m\n",
            "/usr/local/lib/python3.7/dist-packages/optuna/distributions.py:502: UserWarning:\n",
            "\n",
            "Choices for a categorical distribution should be a tuple of None, bool, int, float and str for persistent storage but contains (50,) which is of type tuple.\n",
            "\n",
            "/usr/local/lib/python3.7/dist-packages/optuna/distributions.py:502: UserWarning:\n",
            "\n",
            "Choices for a categorical distribution should be a tuple of None, bool, int, float and str for persistent storage but contains (100,) which is of type tuple.\n",
            "\n",
            "/usr/local/lib/python3.7/dist-packages/optuna/distributions.py:502: UserWarning:\n",
            "\n",
            "Choices for a categorical distribution should be a tuple of None, bool, int, float and str for persistent storage but contains (50, 50) which is of type tuple.\n",
            "\n",
            "\u001b[32m[I 2022-09-02 16:02:34,989]\u001b[0m Trial 47 finished with value: 0.7415467133346342 and parameters: {'classifier': 'MLP', 'mlp_hidden_layer_sizes': (50, 50), 'mlp_activation': 'tanh', 'mlp_solver': 'sgd'}. Best is trial 19 with value: 0.7711609688544775.\u001b[0m\n",
            "/usr/local/lib/python3.7/dist-packages/optuna/distributions.py:502: UserWarning:\n",
            "\n",
            "Choices for a categorical distribution should be a tuple of None, bool, int, float and str for persistent storage but contains (50,) which is of type tuple.\n",
            "\n",
            "/usr/local/lib/python3.7/dist-packages/optuna/distributions.py:502: UserWarning:\n",
            "\n",
            "Choices for a categorical distribution should be a tuple of None, bool, int, float and str for persistent storage but contains (100,) which is of type tuple.\n",
            "\n",
            "/usr/local/lib/python3.7/dist-packages/optuna/distributions.py:502: UserWarning:\n",
            "\n",
            "Choices for a categorical distribution should be a tuple of None, bool, int, float and str for persistent storage but contains (50, 50) which is of type tuple.\n",
            "\n",
            "\u001b[32m[I 2022-09-02 16:02:43,138]\u001b[0m Trial 48 finished with value: 0.7406853851273875 and parameters: {'classifier': 'MLP', 'mlp_hidden_layer_sizes': (100,), 'mlp_activation': 'logistic', 'mlp_solver': 'adam'}. Best is trial 19 with value: 0.7711609688544775.\u001b[0m\n",
            "/usr/local/lib/python3.7/dist-packages/optuna/distributions.py:502: UserWarning:\n",
            "\n",
            "Choices for a categorical distribution should be a tuple of None, bool, int, float and str for persistent storage but contains (50,) which is of type tuple.\n",
            "\n",
            "/usr/local/lib/python3.7/dist-packages/optuna/distributions.py:502: UserWarning:\n",
            "\n",
            "Choices for a categorical distribution should be a tuple of None, bool, int, float and str for persistent storage but contains (100,) which is of type tuple.\n",
            "\n",
            "/usr/local/lib/python3.7/dist-packages/optuna/distributions.py:502: UserWarning:\n",
            "\n",
            "Choices for a categorical distribution should be a tuple of None, bool, int, float and str for persistent storage but contains (50, 50) which is of type tuple.\n",
            "\n",
            "\u001b[32m[I 2022-09-02 16:02:55,420]\u001b[0m Trial 49 finished with value: 0.7711609688544775 and parameters: {'classifier': 'MLP', 'mlp_hidden_layer_sizes': (50, 50), 'mlp_activation': 'logistic', 'mlp_solver': 'adam'}. Best is trial 19 with value: 0.7711609688544775.\u001b[0m\n",
            "/usr/local/lib/python3.7/dist-packages/optuna/distributions.py:502: UserWarning:\n",
            "\n",
            "Choices for a categorical distribution should be a tuple of None, bool, int, float and str for persistent storage but contains (50,) which is of type tuple.\n",
            "\n",
            "/usr/local/lib/python3.7/dist-packages/optuna/distributions.py:502: UserWarning:\n",
            "\n",
            "Choices for a categorical distribution should be a tuple of None, bool, int, float and str for persistent storage but contains (100,) which is of type tuple.\n",
            "\n",
            "/usr/local/lib/python3.7/dist-packages/optuna/distributions.py:502: UserWarning:\n",
            "\n",
            "Choices for a categorical distribution should be a tuple of None, bool, int, float and str for persistent storage but contains (50, 50) which is of type tuple.\n",
            "\n",
            "\u001b[32m[I 2022-09-02 16:03:07,593]\u001b[0m Trial 50 finished with value: 0.7711609688544775 and parameters: {'classifier': 'MLP', 'mlp_hidden_layer_sizes': (50, 50), 'mlp_activation': 'logistic', 'mlp_solver': 'adam'}. Best is trial 19 with value: 0.7711609688544775.\u001b[0m\n",
            "/usr/local/lib/python3.7/dist-packages/optuna/distributions.py:502: UserWarning:\n",
            "\n",
            "Choices for a categorical distribution should be a tuple of None, bool, int, float and str for persistent storage but contains (50,) which is of type tuple.\n",
            "\n",
            "/usr/local/lib/python3.7/dist-packages/optuna/distributions.py:502: UserWarning:\n",
            "\n",
            "Choices for a categorical distribution should be a tuple of None, bool, int, float and str for persistent storage but contains (100,) which is of type tuple.\n",
            "\n",
            "/usr/local/lib/python3.7/dist-packages/optuna/distributions.py:502: UserWarning:\n",
            "\n",
            "Choices for a categorical distribution should be a tuple of None, bool, int, float and str for persistent storage but contains (50, 50) which is of type tuple.\n",
            "\n",
            "\u001b[32m[I 2022-09-02 16:03:19,634]\u001b[0m Trial 51 finished with value: 0.7711609688544775 and parameters: {'classifier': 'MLP', 'mlp_hidden_layer_sizes': (50, 50), 'mlp_activation': 'logistic', 'mlp_solver': 'adam'}. Best is trial 19 with value: 0.7711609688544775.\u001b[0m\n",
            "/usr/local/lib/python3.7/dist-packages/optuna/distributions.py:502: UserWarning:\n",
            "\n",
            "Choices for a categorical distribution should be a tuple of None, bool, int, float and str for persistent storage but contains (50,) which is of type tuple.\n",
            "\n",
            "/usr/local/lib/python3.7/dist-packages/optuna/distributions.py:502: UserWarning:\n",
            "\n",
            "Choices for a categorical distribution should be a tuple of None, bool, int, float and str for persistent storage but contains (100,) which is of type tuple.\n",
            "\n",
            "/usr/local/lib/python3.7/dist-packages/optuna/distributions.py:502: UserWarning:\n",
            "\n",
            "Choices for a categorical distribution should be a tuple of None, bool, int, float and str for persistent storage but contains (50, 50) which is of type tuple.\n",
            "\n",
            "\u001b[32m[I 2022-09-02 16:03:31,845]\u001b[0m Trial 52 finished with value: 0.7711609688544775 and parameters: {'classifier': 'MLP', 'mlp_hidden_layer_sizes': (50, 50), 'mlp_activation': 'logistic', 'mlp_solver': 'adam'}. Best is trial 19 with value: 0.7711609688544775.\u001b[0m\n",
            "/usr/local/lib/python3.7/dist-packages/optuna/distributions.py:502: UserWarning:\n",
            "\n",
            "Choices for a categorical distribution should be a tuple of None, bool, int, float and str for persistent storage but contains (50,) which is of type tuple.\n",
            "\n",
            "/usr/local/lib/python3.7/dist-packages/optuna/distributions.py:502: UserWarning:\n",
            "\n",
            "Choices for a categorical distribution should be a tuple of None, bool, int, float and str for persistent storage but contains (100,) which is of type tuple.\n",
            "\n",
            "/usr/local/lib/python3.7/dist-packages/optuna/distributions.py:502: UserWarning:\n",
            "\n",
            "Choices for a categorical distribution should be a tuple of None, bool, int, float and str for persistent storage but contains (50, 50) which is of type tuple.\n",
            "\n",
            "\u001b[32m[I 2022-09-02 16:03:44,183]\u001b[0m Trial 53 finished with value: 0.7711609688544775 and parameters: {'classifier': 'MLP', 'mlp_hidden_layer_sizes': (50, 50), 'mlp_activation': 'logistic', 'mlp_solver': 'adam'}. Best is trial 19 with value: 0.7711609688544775.\u001b[0m\n",
            "/usr/local/lib/python3.7/dist-packages/optuna/distributions.py:502: UserWarning:\n",
            "\n",
            "Choices for a categorical distribution should be a tuple of None, bool, int, float and str for persistent storage but contains (50,) which is of type tuple.\n",
            "\n",
            "/usr/local/lib/python3.7/dist-packages/optuna/distributions.py:502: UserWarning:\n",
            "\n",
            "Choices for a categorical distribution should be a tuple of None, bool, int, float and str for persistent storage but contains (100,) which is of type tuple.\n",
            "\n",
            "/usr/local/lib/python3.7/dist-packages/optuna/distributions.py:502: UserWarning:\n",
            "\n",
            "Choices for a categorical distribution should be a tuple of None, bool, int, float and str for persistent storage but contains (50, 50) which is of type tuple.\n",
            "\n",
            "\u001b[32m[I 2022-09-02 16:03:54,680]\u001b[0m Trial 54 finished with value: 0.7519070984357403 and parameters: {'classifier': 'MLP', 'mlp_hidden_layer_sizes': (50,), 'mlp_activation': 'logistic', 'mlp_solver': 'adam'}. Best is trial 19 with value: 0.7711609688544775.\u001b[0m\n",
            "/usr/local/lib/python3.7/dist-packages/optuna/distributions.py:502: UserWarning:\n",
            "\n",
            "Choices for a categorical distribution should be a tuple of None, bool, int, float and str for persistent storage but contains (50,) which is of type tuple.\n",
            "\n",
            "/usr/local/lib/python3.7/dist-packages/optuna/distributions.py:502: UserWarning:\n",
            "\n",
            "Choices for a categorical distribution should be a tuple of None, bool, int, float and str for persistent storage but contains (100,) which is of type tuple.\n",
            "\n",
            "/usr/local/lib/python3.7/dist-packages/optuna/distributions.py:502: UserWarning:\n",
            "\n",
            "Choices for a categorical distribution should be a tuple of None, bool, int, float and str for persistent storage but contains (50, 50) which is of type tuple.\n",
            "\n",
            "\u001b[32m[I 2022-09-02 16:04:05,367]\u001b[0m Trial 55 finished with value: 0.7443542990735308 and parameters: {'classifier': 'MLP', 'mlp_hidden_layer_sizes': (50, 50), 'mlp_activation': 'tanh', 'mlp_solver': 'adam'}. Best is trial 19 with value: 0.7711609688544775.\u001b[0m\n",
            "/usr/local/lib/python3.7/dist-packages/optuna/distributions.py:502: UserWarning:\n",
            "\n",
            "Choices for a categorical distribution should be a tuple of None, bool, int, float and str for persistent storage but contains (50,) which is of type tuple.\n",
            "\n",
            "/usr/local/lib/python3.7/dist-packages/optuna/distributions.py:502: UserWarning:\n",
            "\n",
            "Choices for a categorical distribution should be a tuple of None, bool, int, float and str for persistent storage but contains (100,) which is of type tuple.\n",
            "\n",
            "/usr/local/lib/python3.7/dist-packages/optuna/distributions.py:502: UserWarning:\n",
            "\n",
            "Choices for a categorical distribution should be a tuple of None, bool, int, float and str for persistent storage but contains (50, 50) which is of type tuple.\n",
            "\n",
            "\u001b[32m[I 2022-09-02 16:04:08,454]\u001b[0m Trial 56 finished with value: 0.7532334067647636 and parameters: {'classifier': 'MLP', 'mlp_hidden_layer_sizes': (50, 50), 'mlp_activation': 'relu', 'mlp_solver': 'adam'}. Best is trial 19 with value: 0.7711609688544775.\u001b[0m\n",
            "/usr/local/lib/python3.7/dist-packages/optuna/distributions.py:502: UserWarning:\n",
            "\n",
            "Choices for a categorical distribution should be a tuple of None, bool, int, float and str for persistent storage but contains (50,) which is of type tuple.\n",
            "\n",
            "/usr/local/lib/python3.7/dist-packages/optuna/distributions.py:502: UserWarning:\n",
            "\n",
            "Choices for a categorical distribution should be a tuple of None, bool, int, float and str for persistent storage but contains (100,) which is of type tuple.\n",
            "\n",
            "/usr/local/lib/python3.7/dist-packages/optuna/distributions.py:502: UserWarning:\n",
            "\n",
            "Choices for a categorical distribution should be a tuple of None, bool, int, float and str for persistent storage but contains (50, 50) which is of type tuple.\n",
            "\n",
            "\u001b[32m[I 2022-09-02 16:04:20,744]\u001b[0m Trial 57 finished with value: 0.7711609688544775 and parameters: {'classifier': 'MLP', 'mlp_hidden_layer_sizes': (50, 50), 'mlp_activation': 'logistic', 'mlp_solver': 'adam'}. Best is trial 19 with value: 0.7711609688544775.\u001b[0m\n",
            "/usr/local/lib/python3.7/dist-packages/optuna/distributions.py:502: UserWarning:\n",
            "\n",
            "Choices for a categorical distribution should be a tuple of None, bool, int, float and str for persistent storage but contains (50,) which is of type tuple.\n",
            "\n",
            "/usr/local/lib/python3.7/dist-packages/optuna/distributions.py:502: UserWarning:\n",
            "\n",
            "Choices for a categorical distribution should be a tuple of None, bool, int, float and str for persistent storage but contains (100,) which is of type tuple.\n",
            "\n",
            "/usr/local/lib/python3.7/dist-packages/optuna/distributions.py:502: UserWarning:\n",
            "\n",
            "Choices for a categorical distribution should be a tuple of None, bool, int, float and str for persistent storage but contains (50, 50) which is of type tuple.\n",
            "\n",
            "\u001b[32m[I 2022-09-02 16:04:21,924]\u001b[0m Trial 58 finished with value: 0.7415467133346342 and parameters: {'classifier': 'MLP', 'mlp_hidden_layer_sizes': (50,), 'mlp_activation': 'logistic', 'mlp_solver': 'sgd'}. Best is trial 19 with value: 0.7711609688544775.\u001b[0m\n",
            "/usr/local/lib/python3.7/dist-packages/optuna/distributions.py:502: UserWarning:\n",
            "\n",
            "Choices for a categorical distribution should be a tuple of None, bool, int, float and str for persistent storage but contains (50,) which is of type tuple.\n",
            "\n",
            "/usr/local/lib/python3.7/dist-packages/optuna/distributions.py:502: UserWarning:\n",
            "\n",
            "Choices for a categorical distribution should be a tuple of None, bool, int, float and str for persistent storage but contains (100,) which is of type tuple.\n",
            "\n",
            "/usr/local/lib/python3.7/dist-packages/optuna/distributions.py:502: UserWarning:\n",
            "\n",
            "Choices for a categorical distribution should be a tuple of None, bool, int, float and str for persistent storage but contains (50, 50) which is of type tuple.\n",
            "\n",
            "\u001b[32m[I 2022-09-02 16:04:37,128]\u001b[0m Trial 59 finished with value: 0.7711609688544775 and parameters: {'classifier': 'MLP', 'mlp_hidden_layer_sizes': (50, 50), 'mlp_activation': 'logistic', 'mlp_solver': 'adam'}. Best is trial 19 with value: 0.7711609688544775.\u001b[0m\n",
            "/usr/local/lib/python3.7/dist-packages/optuna/distributions.py:502: UserWarning:\n",
            "\n",
            "Choices for a categorical distribution should be a tuple of None, bool, int, float and str for persistent storage but contains (50,) which is of type tuple.\n",
            "\n",
            "/usr/local/lib/python3.7/dist-packages/optuna/distributions.py:502: UserWarning:\n",
            "\n",
            "Choices for a categorical distribution should be a tuple of None, bool, int, float and str for persistent storage but contains (100,) which is of type tuple.\n",
            "\n",
            "/usr/local/lib/python3.7/dist-packages/optuna/distributions.py:502: UserWarning:\n",
            "\n",
            "Choices for a categorical distribution should be a tuple of None, bool, int, float and str for persistent storage but contains (50, 50) which is of type tuple.\n",
            "\n",
            "\u001b[32m[I 2022-09-02 16:04:40,125]\u001b[0m Trial 60 finished with value: 0.7532334067647636 and parameters: {'classifier': 'MLP', 'mlp_hidden_layer_sizes': (50, 50), 'mlp_activation': 'relu', 'mlp_solver': 'adam'}. Best is trial 19 with value: 0.7711609688544775.\u001b[0m\n",
            "/usr/local/lib/python3.7/dist-packages/optuna/distributions.py:502: UserWarning:\n",
            "\n",
            "Choices for a categorical distribution should be a tuple of None, bool, int, float and str for persistent storage but contains (50,) which is of type tuple.\n",
            "\n",
            "/usr/local/lib/python3.7/dist-packages/optuna/distributions.py:502: UserWarning:\n",
            "\n",
            "Choices for a categorical distribution should be a tuple of None, bool, int, float and str for persistent storage but contains (100,) which is of type tuple.\n",
            "\n",
            "/usr/local/lib/python3.7/dist-packages/optuna/distributions.py:502: UserWarning:\n",
            "\n",
            "Choices for a categorical distribution should be a tuple of None, bool, int, float and str for persistent storage but contains (50, 50) which is of type tuple.\n",
            "\n",
            "\u001b[32m[I 2022-09-02 16:04:52,259]\u001b[0m Trial 61 finished with value: 0.7711609688544775 and parameters: {'classifier': 'MLP', 'mlp_hidden_layer_sizes': (50, 50), 'mlp_activation': 'logistic', 'mlp_solver': 'adam'}. Best is trial 19 with value: 0.7711609688544775.\u001b[0m\n",
            "/usr/local/lib/python3.7/dist-packages/optuna/distributions.py:502: UserWarning:\n",
            "\n",
            "Choices for a categorical distribution should be a tuple of None, bool, int, float and str for persistent storage but contains (50,) which is of type tuple.\n",
            "\n",
            "/usr/local/lib/python3.7/dist-packages/optuna/distributions.py:502: UserWarning:\n",
            "\n",
            "Choices for a categorical distribution should be a tuple of None, bool, int, float and str for persistent storage but contains (100,) which is of type tuple.\n",
            "\n",
            "/usr/local/lib/python3.7/dist-packages/optuna/distributions.py:502: UserWarning:\n",
            "\n",
            "Choices for a categorical distribution should be a tuple of None, bool, int, float and str for persistent storage but contains (50, 50) which is of type tuple.\n",
            "\n",
            "\u001b[32m[I 2022-09-02 16:05:04,560]\u001b[0m Trial 62 finished with value: 0.7711609688544775 and parameters: {'classifier': 'MLP', 'mlp_hidden_layer_sizes': (50, 50), 'mlp_activation': 'logistic', 'mlp_solver': 'adam'}. Best is trial 19 with value: 0.7711609688544775.\u001b[0m\n",
            "/usr/local/lib/python3.7/dist-packages/optuna/distributions.py:502: UserWarning:\n",
            "\n",
            "Choices for a categorical distribution should be a tuple of None, bool, int, float and str for persistent storage but contains (50,) which is of type tuple.\n",
            "\n",
            "/usr/local/lib/python3.7/dist-packages/optuna/distributions.py:502: UserWarning:\n",
            "\n",
            "Choices for a categorical distribution should be a tuple of None, bool, int, float and str for persistent storage but contains (100,) which is of type tuple.\n",
            "\n",
            "/usr/local/lib/python3.7/dist-packages/optuna/distributions.py:502: UserWarning:\n",
            "\n",
            "Choices for a categorical distribution should be a tuple of None, bool, int, float and str for persistent storage but contains (50, 50) which is of type tuple.\n",
            "\n",
            "\u001b[32m[I 2022-09-02 16:05:16,771]\u001b[0m Trial 63 finished with value: 0.7711609688544775 and parameters: {'classifier': 'MLP', 'mlp_hidden_layer_sizes': (50, 50), 'mlp_activation': 'logistic', 'mlp_solver': 'adam'}. Best is trial 19 with value: 0.7711609688544775.\u001b[0m\n",
            "/usr/local/lib/python3.7/dist-packages/optuna/distributions.py:502: UserWarning:\n",
            "\n",
            "Choices for a categorical distribution should be a tuple of None, bool, int, float and str for persistent storage but contains (50,) which is of type tuple.\n",
            "\n",
            "/usr/local/lib/python3.7/dist-packages/optuna/distributions.py:502: UserWarning:\n",
            "\n",
            "Choices for a categorical distribution should be a tuple of None, bool, int, float and str for persistent storage but contains (100,) which is of type tuple.\n",
            "\n",
            "/usr/local/lib/python3.7/dist-packages/optuna/distributions.py:502: UserWarning:\n",
            "\n",
            "Choices for a categorical distribution should be a tuple of None, bool, int, float and str for persistent storage but contains (50, 50) which is of type tuple.\n",
            "\n",
            "\u001b[32m[I 2022-09-02 16:05:29,025]\u001b[0m Trial 64 finished with value: 0.7711609688544775 and parameters: {'classifier': 'MLP', 'mlp_hidden_layer_sizes': (50, 50), 'mlp_activation': 'logistic', 'mlp_solver': 'adam'}. Best is trial 19 with value: 0.7711609688544775.\u001b[0m\n",
            "/usr/local/lib/python3.7/dist-packages/optuna/distributions.py:502: UserWarning:\n",
            "\n",
            "Choices for a categorical distribution should be a tuple of None, bool, int, float and str for persistent storage but contains (50,) which is of type tuple.\n",
            "\n",
            "/usr/local/lib/python3.7/dist-packages/optuna/distributions.py:502: UserWarning:\n",
            "\n",
            "Choices for a categorical distribution should be a tuple of None, bool, int, float and str for persistent storage but contains (100,) which is of type tuple.\n",
            "\n",
            "/usr/local/lib/python3.7/dist-packages/optuna/distributions.py:502: UserWarning:\n",
            "\n",
            "Choices for a categorical distribution should be a tuple of None, bool, int, float and str for persistent storage but contains (50, 50) which is of type tuple.\n",
            "\n",
            "\u001b[32m[I 2022-09-02 16:05:41,414]\u001b[0m Trial 65 finished with value: 0.7711609688544775 and parameters: {'classifier': 'MLP', 'mlp_hidden_layer_sizes': (50, 50), 'mlp_activation': 'logistic', 'mlp_solver': 'adam'}. Best is trial 19 with value: 0.7711609688544775.\u001b[0m\n",
            "/usr/local/lib/python3.7/dist-packages/optuna/distributions.py:502: UserWarning:\n",
            "\n",
            "Choices for a categorical distribution should be a tuple of None, bool, int, float and str for persistent storage but contains (50,) which is of type tuple.\n",
            "\n",
            "/usr/local/lib/python3.7/dist-packages/optuna/distributions.py:502: UserWarning:\n",
            "\n",
            "Choices for a categorical distribution should be a tuple of None, bool, int, float and str for persistent storage but contains (100,) which is of type tuple.\n",
            "\n",
            "/usr/local/lib/python3.7/dist-packages/optuna/distributions.py:502: UserWarning:\n",
            "\n",
            "Choices for a categorical distribution should be a tuple of None, bool, int, float and str for persistent storage but contains (50, 50) which is of type tuple.\n",
            "\n",
            "\u001b[32m[I 2022-09-02 16:05:53,813]\u001b[0m Trial 66 finished with value: 0.7711609688544775 and parameters: {'classifier': 'MLP', 'mlp_hidden_layer_sizes': (50, 50), 'mlp_activation': 'logistic', 'mlp_solver': 'adam'}. Best is trial 19 with value: 0.7711609688544775.\u001b[0m\n",
            "/usr/local/lib/python3.7/dist-packages/optuna/distributions.py:502: UserWarning:\n",
            "\n",
            "Choices for a categorical distribution should be a tuple of None, bool, int, float and str for persistent storage but contains (50,) which is of type tuple.\n",
            "\n",
            "/usr/local/lib/python3.7/dist-packages/optuna/distributions.py:502: UserWarning:\n",
            "\n",
            "Choices for a categorical distribution should be a tuple of None, bool, int, float and str for persistent storage but contains (100,) which is of type tuple.\n",
            "\n",
            "/usr/local/lib/python3.7/dist-packages/optuna/distributions.py:502: UserWarning:\n",
            "\n",
            "Choices for a categorical distribution should be a tuple of None, bool, int, float and str for persistent storage but contains (50, 50) which is of type tuple.\n",
            "\n",
            "\u001b[32m[I 2022-09-02 16:06:02,059]\u001b[0m Trial 67 finished with value: 0.7406853851273875 and parameters: {'classifier': 'MLP', 'mlp_hidden_layer_sizes': (100,), 'mlp_activation': 'logistic', 'mlp_solver': 'adam'}. Best is trial 19 with value: 0.7711609688544775.\u001b[0m\n",
            "/usr/local/lib/python3.7/dist-packages/optuna/distributions.py:502: UserWarning:\n",
            "\n",
            "Choices for a categorical distribution should be a tuple of None, bool, int, float and str for persistent storage but contains (50,) which is of type tuple.\n",
            "\n",
            "/usr/local/lib/python3.7/dist-packages/optuna/distributions.py:502: UserWarning:\n",
            "\n",
            "Choices for a categorical distribution should be a tuple of None, bool, int, float and str for persistent storage but contains (100,) which is of type tuple.\n",
            "\n",
            "/usr/local/lib/python3.7/dist-packages/optuna/distributions.py:502: UserWarning:\n",
            "\n",
            "Choices for a categorical distribution should be a tuple of None, bool, int, float and str for persistent storage but contains (50, 50) which is of type tuple.\n",
            "\n",
            "\u001b[32m[I 2022-09-02 16:06:12,763]\u001b[0m Trial 68 finished with value: 0.7443542990735308 and parameters: {'classifier': 'MLP', 'mlp_hidden_layer_sizes': (50, 50), 'mlp_activation': 'tanh', 'mlp_solver': 'adam'}. Best is trial 19 with value: 0.7711609688544775.\u001b[0m\n",
            "/usr/local/lib/python3.7/dist-packages/optuna/distributions.py:502: UserWarning:\n",
            "\n",
            "Choices for a categorical distribution should be a tuple of None, bool, int, float and str for persistent storage but contains (50,) which is of type tuple.\n",
            "\n",
            "/usr/local/lib/python3.7/dist-packages/optuna/distributions.py:502: UserWarning:\n",
            "\n",
            "Choices for a categorical distribution should be a tuple of None, bool, int, float and str for persistent storage but contains (100,) which is of type tuple.\n",
            "\n",
            "/usr/local/lib/python3.7/dist-packages/optuna/distributions.py:502: UserWarning:\n",
            "\n",
            "Choices for a categorical distribution should be a tuple of None, bool, int, float and str for persistent storage but contains (50, 50) which is of type tuple.\n",
            "\n",
            "\u001b[32m[I 2022-09-02 16:06:13,959]\u001b[0m Trial 69 finished with value: 0.7415467133346342 and parameters: {'classifier': 'MLP', 'mlp_hidden_layer_sizes': (50,), 'mlp_activation': 'logistic', 'mlp_solver': 'sgd'}. Best is trial 19 with value: 0.7711609688544775.\u001b[0m\n",
            "/usr/local/lib/python3.7/dist-packages/optuna/distributions.py:502: UserWarning:\n",
            "\n",
            "Choices for a categorical distribution should be a tuple of None, bool, int, float and str for persistent storage but contains (50,) which is of type tuple.\n",
            "\n",
            "/usr/local/lib/python3.7/dist-packages/optuna/distributions.py:502: UserWarning:\n",
            "\n",
            "Choices for a categorical distribution should be a tuple of None, bool, int, float and str for persistent storage but contains (100,) which is of type tuple.\n",
            "\n",
            "/usr/local/lib/python3.7/dist-packages/optuna/distributions.py:502: UserWarning:\n",
            "\n",
            "Choices for a categorical distribution should be a tuple of None, bool, int, float and str for persistent storage but contains (50, 50) which is of type tuple.\n",
            "\n",
            "\u001b[32m[I 2022-09-02 16:06:26,161]\u001b[0m Trial 70 finished with value: 0.7711609688544775 and parameters: {'classifier': 'MLP', 'mlp_hidden_layer_sizes': (50, 50), 'mlp_activation': 'logistic', 'mlp_solver': 'adam'}. Best is trial 19 with value: 0.7711609688544775.\u001b[0m\n",
            "/usr/local/lib/python3.7/dist-packages/optuna/distributions.py:502: UserWarning:\n",
            "\n",
            "Choices for a categorical distribution should be a tuple of None, bool, int, float and str for persistent storage but contains (50,) which is of type tuple.\n",
            "\n",
            "/usr/local/lib/python3.7/dist-packages/optuna/distributions.py:502: UserWarning:\n",
            "\n",
            "Choices for a categorical distribution should be a tuple of None, bool, int, float and str for persistent storage but contains (100,) which is of type tuple.\n",
            "\n",
            "/usr/local/lib/python3.7/dist-packages/optuna/distributions.py:502: UserWarning:\n",
            "\n",
            "Choices for a categorical distribution should be a tuple of None, bool, int, float and str for persistent storage but contains (50, 50) which is of type tuple.\n",
            "\n",
            "\u001b[32m[I 2022-09-02 16:06:41,035]\u001b[0m Trial 71 finished with value: 0.7711609688544775 and parameters: {'classifier': 'MLP', 'mlp_hidden_layer_sizes': (50, 50), 'mlp_activation': 'logistic', 'mlp_solver': 'adam'}. Best is trial 19 with value: 0.7711609688544775.\u001b[0m\n",
            "/usr/local/lib/python3.7/dist-packages/optuna/distributions.py:502: UserWarning:\n",
            "\n",
            "Choices for a categorical distribution should be a tuple of None, bool, int, float and str for persistent storage but contains (50,) which is of type tuple.\n",
            "\n",
            "/usr/local/lib/python3.7/dist-packages/optuna/distributions.py:502: UserWarning:\n",
            "\n",
            "Choices for a categorical distribution should be a tuple of None, bool, int, float and str for persistent storage but contains (100,) which is of type tuple.\n",
            "\n",
            "/usr/local/lib/python3.7/dist-packages/optuna/distributions.py:502: UserWarning:\n",
            "\n",
            "Choices for a categorical distribution should be a tuple of None, bool, int, float and str for persistent storage but contains (50, 50) which is of type tuple.\n",
            "\n",
            "\u001b[32m[I 2022-09-02 16:06:53,092]\u001b[0m Trial 72 finished with value: 0.7711609688544775 and parameters: {'classifier': 'MLP', 'mlp_hidden_layer_sizes': (50, 50), 'mlp_activation': 'logistic', 'mlp_solver': 'adam'}. Best is trial 19 with value: 0.7711609688544775.\u001b[0m\n",
            "/usr/local/lib/python3.7/dist-packages/optuna/distributions.py:502: UserWarning:\n",
            "\n",
            "Choices for a categorical distribution should be a tuple of None, bool, int, float and str for persistent storage but contains (50,) which is of type tuple.\n",
            "\n",
            "/usr/local/lib/python3.7/dist-packages/optuna/distributions.py:502: UserWarning:\n",
            "\n",
            "Choices for a categorical distribution should be a tuple of None, bool, int, float and str for persistent storage but contains (100,) which is of type tuple.\n",
            "\n",
            "/usr/local/lib/python3.7/dist-packages/optuna/distributions.py:502: UserWarning:\n",
            "\n",
            "Choices for a categorical distribution should be a tuple of None, bool, int, float and str for persistent storage but contains (50, 50) which is of type tuple.\n",
            "\n",
            "\u001b[32m[I 2022-09-02 16:07:05,227]\u001b[0m Trial 73 finished with value: 0.7711609688544775 and parameters: {'classifier': 'MLP', 'mlp_hidden_layer_sizes': (50, 50), 'mlp_activation': 'logistic', 'mlp_solver': 'adam'}. Best is trial 19 with value: 0.7711609688544775.\u001b[0m\n",
            "/usr/local/lib/python3.7/dist-packages/optuna/distributions.py:502: UserWarning:\n",
            "\n",
            "Choices for a categorical distribution should be a tuple of None, bool, int, float and str for persistent storage but contains (50,) which is of type tuple.\n",
            "\n",
            "/usr/local/lib/python3.7/dist-packages/optuna/distributions.py:502: UserWarning:\n",
            "\n",
            "Choices for a categorical distribution should be a tuple of None, bool, int, float and str for persistent storage but contains (100,) which is of type tuple.\n",
            "\n",
            "/usr/local/lib/python3.7/dist-packages/optuna/distributions.py:502: UserWarning:\n",
            "\n",
            "Choices for a categorical distribution should be a tuple of None, bool, int, float and str for persistent storage but contains (50, 50) which is of type tuple.\n",
            "\n",
            "\u001b[32m[I 2022-09-02 16:07:17,086]\u001b[0m Trial 74 finished with value: 0.7711609688544775 and parameters: {'classifier': 'MLP', 'mlp_hidden_layer_sizes': (50, 50), 'mlp_activation': 'logistic', 'mlp_solver': 'adam'}. Best is trial 19 with value: 0.7711609688544775.\u001b[0m\n",
            "/usr/local/lib/python3.7/dist-packages/optuna/distributions.py:502: UserWarning:\n",
            "\n",
            "Choices for a categorical distribution should be a tuple of None, bool, int, float and str for persistent storage but contains (50,) which is of type tuple.\n",
            "\n",
            "/usr/local/lib/python3.7/dist-packages/optuna/distributions.py:502: UserWarning:\n",
            "\n",
            "Choices for a categorical distribution should be a tuple of None, bool, int, float and str for persistent storage but contains (100,) which is of type tuple.\n",
            "\n",
            "/usr/local/lib/python3.7/dist-packages/optuna/distributions.py:502: UserWarning:\n",
            "\n",
            "Choices for a categorical distribution should be a tuple of None, bool, int, float and str for persistent storage but contains (50, 50) which is of type tuple.\n",
            "\n",
            "\u001b[32m[I 2022-09-02 16:07:29,114]\u001b[0m Trial 75 finished with value: 0.7711609688544775 and parameters: {'classifier': 'MLP', 'mlp_hidden_layer_sizes': (50, 50), 'mlp_activation': 'logistic', 'mlp_solver': 'adam'}. Best is trial 19 with value: 0.7711609688544775.\u001b[0m\n",
            "/usr/local/lib/python3.7/dist-packages/optuna/distributions.py:502: UserWarning:\n",
            "\n",
            "Choices for a categorical distribution should be a tuple of None, bool, int, float and str for persistent storage but contains (50,) which is of type tuple.\n",
            "\n",
            "/usr/local/lib/python3.7/dist-packages/optuna/distributions.py:502: UserWarning:\n",
            "\n",
            "Choices for a categorical distribution should be a tuple of None, bool, int, float and str for persistent storage but contains (100,) which is of type tuple.\n",
            "\n",
            "/usr/local/lib/python3.7/dist-packages/optuna/distributions.py:502: UserWarning:\n",
            "\n",
            "Choices for a categorical distribution should be a tuple of None, bool, int, float and str for persistent storage but contains (50, 50) which is of type tuple.\n",
            "\n",
            "\u001b[32m[I 2022-09-02 16:07:32,055]\u001b[0m Trial 76 finished with value: 0.7532334067647636 and parameters: {'classifier': 'MLP', 'mlp_hidden_layer_sizes': (50, 50), 'mlp_activation': 'relu', 'mlp_solver': 'adam'}. Best is trial 19 with value: 0.7711609688544775.\u001b[0m\n",
            "/usr/local/lib/python3.7/dist-packages/optuna/distributions.py:502: UserWarning:\n",
            "\n",
            "Choices for a categorical distribution should be a tuple of None, bool, int, float and str for persistent storage but contains (50,) which is of type tuple.\n",
            "\n",
            "/usr/local/lib/python3.7/dist-packages/optuna/distributions.py:502: UserWarning:\n",
            "\n",
            "Choices for a categorical distribution should be a tuple of None, bool, int, float and str for persistent storage but contains (100,) which is of type tuple.\n",
            "\n",
            "/usr/local/lib/python3.7/dist-packages/optuna/distributions.py:502: UserWarning:\n",
            "\n",
            "Choices for a categorical distribution should be a tuple of None, bool, int, float and str for persistent storage but contains (50, 50) which is of type tuple.\n",
            "\n",
            "\u001b[32m[I 2022-09-02 16:07:44,028]\u001b[0m Trial 77 finished with value: 0.7711609688544775 and parameters: {'classifier': 'MLP', 'mlp_hidden_layer_sizes': (50, 50), 'mlp_activation': 'logistic', 'mlp_solver': 'adam'}. Best is trial 19 with value: 0.7711609688544775.\u001b[0m\n",
            "/usr/local/lib/python3.7/dist-packages/optuna/distributions.py:502: UserWarning:\n",
            "\n",
            "Choices for a categorical distribution should be a tuple of None, bool, int, float and str for persistent storage but contains (50,) which is of type tuple.\n",
            "\n",
            "/usr/local/lib/python3.7/dist-packages/optuna/distributions.py:502: UserWarning:\n",
            "\n",
            "Choices for a categorical distribution should be a tuple of None, bool, int, float and str for persistent storage but contains (100,) which is of type tuple.\n",
            "\n",
            "/usr/local/lib/python3.7/dist-packages/optuna/distributions.py:502: UserWarning:\n",
            "\n",
            "Choices for a categorical distribution should be a tuple of None, bool, int, float and str for persistent storage but contains (50, 50) which is of type tuple.\n",
            "\n",
            "\u001b[32m[I 2022-09-02 16:07:56,028]\u001b[0m Trial 78 finished with value: 0.7711609688544775 and parameters: {'classifier': 'MLP', 'mlp_hidden_layer_sizes': (50, 50), 'mlp_activation': 'logistic', 'mlp_solver': 'adam'}. Best is trial 19 with value: 0.7711609688544775.\u001b[0m\n",
            "/usr/local/lib/python3.7/dist-packages/optuna/distributions.py:502: UserWarning:\n",
            "\n",
            "Choices for a categorical distribution should be a tuple of None, bool, int, float and str for persistent storage but contains (50,) which is of type tuple.\n",
            "\n",
            "/usr/local/lib/python3.7/dist-packages/optuna/distributions.py:502: UserWarning:\n",
            "\n",
            "Choices for a categorical distribution should be a tuple of None, bool, int, float and str for persistent storage but contains (100,) which is of type tuple.\n",
            "\n",
            "/usr/local/lib/python3.7/dist-packages/optuna/distributions.py:502: UserWarning:\n",
            "\n",
            "Choices for a categorical distribution should be a tuple of None, bool, int, float and str for persistent storage but contains (50, 50) which is of type tuple.\n",
            "\n",
            "\u001b[32m[I 2022-09-02 16:08:03,960]\u001b[0m Trial 79 finished with value: 0.7406853851273875 and parameters: {'classifier': 'MLP', 'mlp_hidden_layer_sizes': (100,), 'mlp_activation': 'logistic', 'mlp_solver': 'adam'}. Best is trial 19 with value: 0.7711609688544775.\u001b[0m\n",
            "/usr/local/lib/python3.7/dist-packages/optuna/distributions.py:502: UserWarning:\n",
            "\n",
            "Choices for a categorical distribution should be a tuple of None, bool, int, float and str for persistent storage but contains (50,) which is of type tuple.\n",
            "\n",
            "/usr/local/lib/python3.7/dist-packages/optuna/distributions.py:502: UserWarning:\n",
            "\n",
            "Choices for a categorical distribution should be a tuple of None, bool, int, float and str for persistent storage but contains (100,) which is of type tuple.\n",
            "\n",
            "/usr/local/lib/python3.7/dist-packages/optuna/distributions.py:502: UserWarning:\n",
            "\n",
            "Choices for a categorical distribution should be a tuple of None, bool, int, float and str for persistent storage but contains (50, 50) which is of type tuple.\n",
            "\n",
            "\u001b[32m[I 2022-09-02 16:08:15,954]\u001b[0m Trial 80 finished with value: 0.7711609688544775 and parameters: {'classifier': 'MLP', 'mlp_hidden_layer_sizes': (50, 50), 'mlp_activation': 'logistic', 'mlp_solver': 'adam'}. Best is trial 19 with value: 0.7711609688544775.\u001b[0m\n",
            "/usr/local/lib/python3.7/dist-packages/optuna/distributions.py:502: UserWarning:\n",
            "\n",
            "Choices for a categorical distribution should be a tuple of None, bool, int, float and str for persistent storage but contains (50,) which is of type tuple.\n",
            "\n",
            "/usr/local/lib/python3.7/dist-packages/optuna/distributions.py:502: UserWarning:\n",
            "\n",
            "Choices for a categorical distribution should be a tuple of None, bool, int, float and str for persistent storage but contains (100,) which is of type tuple.\n",
            "\n",
            "/usr/local/lib/python3.7/dist-packages/optuna/distributions.py:502: UserWarning:\n",
            "\n",
            "Choices for a categorical distribution should be a tuple of None, bool, int, float and str for persistent storage but contains (50, 50) which is of type tuple.\n",
            "\n",
            "\u001b[32m[I 2022-09-02 16:08:28,048]\u001b[0m Trial 81 finished with value: 0.7711609688544775 and parameters: {'classifier': 'MLP', 'mlp_hidden_layer_sizes': (50, 50), 'mlp_activation': 'logistic', 'mlp_solver': 'adam'}. Best is trial 19 with value: 0.7711609688544775.\u001b[0m\n",
            "/usr/local/lib/python3.7/dist-packages/optuna/distributions.py:502: UserWarning:\n",
            "\n",
            "Choices for a categorical distribution should be a tuple of None, bool, int, float and str for persistent storage but contains (50,) which is of type tuple.\n",
            "\n",
            "/usr/local/lib/python3.7/dist-packages/optuna/distributions.py:502: UserWarning:\n",
            "\n",
            "Choices for a categorical distribution should be a tuple of None, bool, int, float and str for persistent storage but contains (100,) which is of type tuple.\n",
            "\n",
            "/usr/local/lib/python3.7/dist-packages/optuna/distributions.py:502: UserWarning:\n",
            "\n",
            "Choices for a categorical distribution should be a tuple of None, bool, int, float and str for persistent storage but contains (50, 50) which is of type tuple.\n",
            "\n",
            "\u001b[32m[I 2022-09-02 16:08:40,059]\u001b[0m Trial 82 finished with value: 0.7711609688544775 and parameters: {'classifier': 'MLP', 'mlp_hidden_layer_sizes': (50, 50), 'mlp_activation': 'logistic', 'mlp_solver': 'adam'}. Best is trial 19 with value: 0.7711609688544775.\u001b[0m\n",
            "/usr/local/lib/python3.7/dist-packages/optuna/distributions.py:502: UserWarning:\n",
            "\n",
            "Choices for a categorical distribution should be a tuple of None, bool, int, float and str for persistent storage but contains (50,) which is of type tuple.\n",
            "\n",
            "/usr/local/lib/python3.7/dist-packages/optuna/distributions.py:502: UserWarning:\n",
            "\n",
            "Choices for a categorical distribution should be a tuple of None, bool, int, float and str for persistent storage but contains (100,) which is of type tuple.\n",
            "\n",
            "/usr/local/lib/python3.7/dist-packages/optuna/distributions.py:502: UserWarning:\n",
            "\n",
            "Choices for a categorical distribution should be a tuple of None, bool, int, float and str for persistent storage but contains (50, 50) which is of type tuple.\n",
            "\n",
            "\u001b[32m[I 2022-09-02 16:08:54,718]\u001b[0m Trial 83 finished with value: 0.7711609688544775 and parameters: {'classifier': 'MLP', 'mlp_hidden_layer_sizes': (50, 50), 'mlp_activation': 'logistic', 'mlp_solver': 'adam'}. Best is trial 19 with value: 0.7711609688544775.\u001b[0m\n",
            "/usr/local/lib/python3.7/dist-packages/optuna/distributions.py:502: UserWarning:\n",
            "\n",
            "Choices for a categorical distribution should be a tuple of None, bool, int, float and str for persistent storage but contains (50,) which is of type tuple.\n",
            "\n",
            "/usr/local/lib/python3.7/dist-packages/optuna/distributions.py:502: UserWarning:\n",
            "\n",
            "Choices for a categorical distribution should be a tuple of None, bool, int, float and str for persistent storage but contains (100,) which is of type tuple.\n",
            "\n",
            "/usr/local/lib/python3.7/dist-packages/optuna/distributions.py:502: UserWarning:\n",
            "\n",
            "Choices for a categorical distribution should be a tuple of None, bool, int, float and str for persistent storage but contains (50, 50) which is of type tuple.\n",
            "\n",
            "\u001b[32m[I 2022-09-02 16:09:06,801]\u001b[0m Trial 84 finished with value: 0.7711609688544775 and parameters: {'classifier': 'MLP', 'mlp_hidden_layer_sizes': (50, 50), 'mlp_activation': 'logistic', 'mlp_solver': 'adam'}. Best is trial 19 with value: 0.7711609688544775.\u001b[0m\n",
            "/usr/local/lib/python3.7/dist-packages/optuna/distributions.py:502: UserWarning:\n",
            "\n",
            "Choices for a categorical distribution should be a tuple of None, bool, int, float and str for persistent storage but contains (50,) which is of type tuple.\n",
            "\n",
            "/usr/local/lib/python3.7/dist-packages/optuna/distributions.py:502: UserWarning:\n",
            "\n",
            "Choices for a categorical distribution should be a tuple of None, bool, int, float and str for persistent storage but contains (100,) which is of type tuple.\n",
            "\n",
            "/usr/local/lib/python3.7/dist-packages/optuna/distributions.py:502: UserWarning:\n",
            "\n",
            "Choices for a categorical distribution should be a tuple of None, bool, int, float and str for persistent storage but contains (50, 50) which is of type tuple.\n",
            "\n",
            "\u001b[32m[I 2022-09-02 16:09:18,808]\u001b[0m Trial 85 finished with value: 0.7711609688544775 and parameters: {'classifier': 'MLP', 'mlp_hidden_layer_sizes': (50, 50), 'mlp_activation': 'logistic', 'mlp_solver': 'adam'}. Best is trial 19 with value: 0.7711609688544775.\u001b[0m\n",
            "/usr/local/lib/python3.7/dist-packages/optuna/distributions.py:502: UserWarning:\n",
            "\n",
            "Choices for a categorical distribution should be a tuple of None, bool, int, float and str for persistent storage but contains (50,) which is of type tuple.\n",
            "\n",
            "/usr/local/lib/python3.7/dist-packages/optuna/distributions.py:502: UserWarning:\n",
            "\n",
            "Choices for a categorical distribution should be a tuple of None, bool, int, float and str for persistent storage but contains (100,) which is of type tuple.\n",
            "\n",
            "/usr/local/lib/python3.7/dist-packages/optuna/distributions.py:502: UserWarning:\n",
            "\n",
            "Choices for a categorical distribution should be a tuple of None, bool, int, float and str for persistent storage but contains (50, 50) which is of type tuple.\n",
            "\n",
            "\u001b[32m[I 2022-09-02 16:09:29,382]\u001b[0m Trial 86 finished with value: 0.7443542990735308 and parameters: {'classifier': 'MLP', 'mlp_hidden_layer_sizes': (50, 50), 'mlp_activation': 'tanh', 'mlp_solver': 'adam'}. Best is trial 19 with value: 0.7711609688544775.\u001b[0m\n",
            "/usr/local/lib/python3.7/dist-packages/optuna/distributions.py:502: UserWarning:\n",
            "\n",
            "Choices for a categorical distribution should be a tuple of None, bool, int, float and str for persistent storage but contains (50,) which is of type tuple.\n",
            "\n",
            "/usr/local/lib/python3.7/dist-packages/optuna/distributions.py:502: UserWarning:\n",
            "\n",
            "Choices for a categorical distribution should be a tuple of None, bool, int, float and str for persistent storage but contains (100,) which is of type tuple.\n",
            "\n",
            "/usr/local/lib/python3.7/dist-packages/optuna/distributions.py:502: UserWarning:\n",
            "\n",
            "Choices for a categorical distribution should be a tuple of None, bool, int, float and str for persistent storage but contains (50, 50) which is of type tuple.\n",
            "\n",
            "\u001b[32m[I 2022-09-02 16:09:30,719]\u001b[0m Trial 87 finished with value: 0.7415467133346342 and parameters: {'classifier': 'MLP', 'mlp_hidden_layer_sizes': (50, 50), 'mlp_activation': 'logistic', 'mlp_solver': 'sgd'}. Best is trial 19 with value: 0.7711609688544775.\u001b[0m\n",
            "/usr/local/lib/python3.7/dist-packages/optuna/distributions.py:502: UserWarning:\n",
            "\n",
            "Choices for a categorical distribution should be a tuple of None, bool, int, float and str for persistent storage but contains (50,) which is of type tuple.\n",
            "\n",
            "/usr/local/lib/python3.7/dist-packages/optuna/distributions.py:502: UserWarning:\n",
            "\n",
            "Choices for a categorical distribution should be a tuple of None, bool, int, float and str for persistent storage but contains (100,) which is of type tuple.\n",
            "\n",
            "/usr/local/lib/python3.7/dist-packages/optuna/distributions.py:502: UserWarning:\n",
            "\n",
            "Choices for a categorical distribution should be a tuple of None, bool, int, float and str for persistent storage but contains (50, 50) which is of type tuple.\n",
            "\n",
            "\u001b[32m[I 2022-09-02 16:09:42,846]\u001b[0m Trial 88 finished with value: 0.7711609688544775 and parameters: {'classifier': 'MLP', 'mlp_hidden_layer_sizes': (50, 50), 'mlp_activation': 'logistic', 'mlp_solver': 'adam'}. Best is trial 19 with value: 0.7711609688544775.\u001b[0m\n",
            "/usr/local/lib/python3.7/dist-packages/optuna/distributions.py:502: UserWarning:\n",
            "\n",
            "Choices for a categorical distribution should be a tuple of None, bool, int, float and str for persistent storage but contains (50,) which is of type tuple.\n",
            "\n",
            "/usr/local/lib/python3.7/dist-packages/optuna/distributions.py:502: UserWarning:\n",
            "\n",
            "Choices for a categorical distribution should be a tuple of None, bool, int, float and str for persistent storage but contains (100,) which is of type tuple.\n",
            "\n",
            "/usr/local/lib/python3.7/dist-packages/optuna/distributions.py:502: UserWarning:\n",
            "\n",
            "Choices for a categorical distribution should be a tuple of None, bool, int, float and str for persistent storage but contains (50, 50) which is of type tuple.\n",
            "\n",
            "\u001b[32m[I 2022-09-02 16:09:53,274]\u001b[0m Trial 89 finished with value: 0.7519070984357403 and parameters: {'classifier': 'MLP', 'mlp_hidden_layer_sizes': (50,), 'mlp_activation': 'logistic', 'mlp_solver': 'adam'}. Best is trial 19 with value: 0.7711609688544775.\u001b[0m\n",
            "/usr/local/lib/python3.7/dist-packages/optuna/distributions.py:502: UserWarning:\n",
            "\n",
            "Choices for a categorical distribution should be a tuple of None, bool, int, float and str for persistent storage but contains (50,) which is of type tuple.\n",
            "\n",
            "/usr/local/lib/python3.7/dist-packages/optuna/distributions.py:502: UserWarning:\n",
            "\n",
            "Choices for a categorical distribution should be a tuple of None, bool, int, float and str for persistent storage but contains (100,) which is of type tuple.\n",
            "\n",
            "/usr/local/lib/python3.7/dist-packages/optuna/distributions.py:502: UserWarning:\n",
            "\n",
            "Choices for a categorical distribution should be a tuple of None, bool, int, float and str for persistent storage but contains (50, 50) which is of type tuple.\n",
            "\n",
            "\u001b[32m[I 2022-09-02 16:10:05,549]\u001b[0m Trial 90 finished with value: 0.7711609688544775 and parameters: {'classifier': 'MLP', 'mlp_hidden_layer_sizes': (50, 50), 'mlp_activation': 'logistic', 'mlp_solver': 'adam'}. Best is trial 19 with value: 0.7711609688544775.\u001b[0m\n",
            "/usr/local/lib/python3.7/dist-packages/optuna/distributions.py:502: UserWarning:\n",
            "\n",
            "Choices for a categorical distribution should be a tuple of None, bool, int, float and str for persistent storage but contains (50,) which is of type tuple.\n",
            "\n",
            "/usr/local/lib/python3.7/dist-packages/optuna/distributions.py:502: UserWarning:\n",
            "\n",
            "Choices for a categorical distribution should be a tuple of None, bool, int, float and str for persistent storage but contains (100,) which is of type tuple.\n",
            "\n",
            "/usr/local/lib/python3.7/dist-packages/optuna/distributions.py:502: UserWarning:\n",
            "\n",
            "Choices for a categorical distribution should be a tuple of None, bool, int, float and str for persistent storage but contains (50, 50) which is of type tuple.\n",
            "\n",
            "\u001b[32m[I 2022-09-02 16:10:17,753]\u001b[0m Trial 91 finished with value: 0.7711609688544775 and parameters: {'classifier': 'MLP', 'mlp_hidden_layer_sizes': (50, 50), 'mlp_activation': 'logistic', 'mlp_solver': 'adam'}. Best is trial 19 with value: 0.7711609688544775.\u001b[0m\n",
            "/usr/local/lib/python3.7/dist-packages/optuna/distributions.py:502: UserWarning:\n",
            "\n",
            "Choices for a categorical distribution should be a tuple of None, bool, int, float and str for persistent storage but contains (50,) which is of type tuple.\n",
            "\n",
            "/usr/local/lib/python3.7/dist-packages/optuna/distributions.py:502: UserWarning:\n",
            "\n",
            "Choices for a categorical distribution should be a tuple of None, bool, int, float and str for persistent storage but contains (100,) which is of type tuple.\n",
            "\n",
            "/usr/local/lib/python3.7/dist-packages/optuna/distributions.py:502: UserWarning:\n",
            "\n",
            "Choices for a categorical distribution should be a tuple of None, bool, int, float and str for persistent storage but contains (50, 50) which is of type tuple.\n",
            "\n",
            "\u001b[32m[I 2022-09-02 16:10:29,852]\u001b[0m Trial 92 finished with value: 0.7711609688544775 and parameters: {'classifier': 'MLP', 'mlp_hidden_layer_sizes': (50, 50), 'mlp_activation': 'logistic', 'mlp_solver': 'adam'}. Best is trial 19 with value: 0.7711609688544775.\u001b[0m\n",
            "/usr/local/lib/python3.7/dist-packages/optuna/distributions.py:502: UserWarning:\n",
            "\n",
            "Choices for a categorical distribution should be a tuple of None, bool, int, float and str for persistent storage but contains (50,) which is of type tuple.\n",
            "\n",
            "/usr/local/lib/python3.7/dist-packages/optuna/distributions.py:502: UserWarning:\n",
            "\n",
            "Choices for a categorical distribution should be a tuple of None, bool, int, float and str for persistent storage but contains (100,) which is of type tuple.\n",
            "\n",
            "/usr/local/lib/python3.7/dist-packages/optuna/distributions.py:502: UserWarning:\n",
            "\n",
            "Choices for a categorical distribution should be a tuple of None, bool, int, float and str for persistent storage but contains (50, 50) which is of type tuple.\n",
            "\n",
            "\u001b[32m[I 2022-09-02 16:10:41,884]\u001b[0m Trial 93 finished with value: 0.7711609688544775 and parameters: {'classifier': 'MLP', 'mlp_hidden_layer_sizes': (50, 50), 'mlp_activation': 'logistic', 'mlp_solver': 'adam'}. Best is trial 19 with value: 0.7711609688544775.\u001b[0m\n",
            "/usr/local/lib/python3.7/dist-packages/optuna/distributions.py:502: UserWarning:\n",
            "\n",
            "Choices for a categorical distribution should be a tuple of None, bool, int, float and str for persistent storage but contains (50,) which is of type tuple.\n",
            "\n",
            "/usr/local/lib/python3.7/dist-packages/optuna/distributions.py:502: UserWarning:\n",
            "\n",
            "Choices for a categorical distribution should be a tuple of None, bool, int, float and str for persistent storage but contains (100,) which is of type tuple.\n",
            "\n",
            "/usr/local/lib/python3.7/dist-packages/optuna/distributions.py:502: UserWarning:\n",
            "\n",
            "Choices for a categorical distribution should be a tuple of None, bool, int, float and str for persistent storage but contains (50, 50) which is of type tuple.\n",
            "\n",
            "\u001b[32m[I 2022-09-02 16:10:53,985]\u001b[0m Trial 94 finished with value: 0.7711609688544775 and parameters: {'classifier': 'MLP', 'mlp_hidden_layer_sizes': (50, 50), 'mlp_activation': 'logistic', 'mlp_solver': 'adam'}. Best is trial 19 with value: 0.7711609688544775.\u001b[0m\n",
            "/usr/local/lib/python3.7/dist-packages/optuna/distributions.py:502: UserWarning:\n",
            "\n",
            "Choices for a categorical distribution should be a tuple of None, bool, int, float and str for persistent storage but contains (50,) which is of type tuple.\n",
            "\n",
            "/usr/local/lib/python3.7/dist-packages/optuna/distributions.py:502: UserWarning:\n",
            "\n",
            "Choices for a categorical distribution should be a tuple of None, bool, int, float and str for persistent storage but contains (100,) which is of type tuple.\n",
            "\n",
            "/usr/local/lib/python3.7/dist-packages/optuna/distributions.py:502: UserWarning:\n",
            "\n",
            "Choices for a categorical distribution should be a tuple of None, bool, int, float and str for persistent storage but contains (50, 50) which is of type tuple.\n",
            "\n",
            "\u001b[32m[I 2022-09-02 16:10:56,932]\u001b[0m Trial 95 finished with value: 0.7532334067647636 and parameters: {'classifier': 'MLP', 'mlp_hidden_layer_sizes': (50, 50), 'mlp_activation': 'relu', 'mlp_solver': 'adam'}. Best is trial 19 with value: 0.7711609688544775.\u001b[0m\n",
            "/usr/local/lib/python3.7/dist-packages/optuna/distributions.py:502: UserWarning:\n",
            "\n",
            "Choices for a categorical distribution should be a tuple of None, bool, int, float and str for persistent storage but contains (50,) which is of type tuple.\n",
            "\n",
            "/usr/local/lib/python3.7/dist-packages/optuna/distributions.py:502: UserWarning:\n",
            "\n",
            "Choices for a categorical distribution should be a tuple of None, bool, int, float and str for persistent storage but contains (100,) which is of type tuple.\n",
            "\n",
            "/usr/local/lib/python3.7/dist-packages/optuna/distributions.py:502: UserWarning:\n",
            "\n",
            "Choices for a categorical distribution should be a tuple of None, bool, int, float and str for persistent storage but contains (50, 50) which is of type tuple.\n",
            "\n",
            "\u001b[32m[I 2022-09-02 16:11:09,022]\u001b[0m Trial 96 finished with value: 0.7711609688544775 and parameters: {'classifier': 'MLP', 'mlp_hidden_layer_sizes': (50, 50), 'mlp_activation': 'logistic', 'mlp_solver': 'adam'}. Best is trial 19 with value: 0.7711609688544775.\u001b[0m\n",
            "/usr/local/lib/python3.7/dist-packages/optuna/distributions.py:502: UserWarning:\n",
            "\n",
            "Choices for a categorical distribution should be a tuple of None, bool, int, float and str for persistent storage but contains (50,) which is of type tuple.\n",
            "\n",
            "/usr/local/lib/python3.7/dist-packages/optuna/distributions.py:502: UserWarning:\n",
            "\n",
            "Choices for a categorical distribution should be a tuple of None, bool, int, float and str for persistent storage but contains (100,) which is of type tuple.\n",
            "\n",
            "/usr/local/lib/python3.7/dist-packages/optuna/distributions.py:502: UserWarning:\n",
            "\n",
            "Choices for a categorical distribution should be a tuple of None, bool, int, float and str for persistent storage but contains (50, 50) which is of type tuple.\n",
            "\n",
            "\u001b[32m[I 2022-09-02 16:11:20,963]\u001b[0m Trial 97 finished with value: 0.7711609688544775 and parameters: {'classifier': 'MLP', 'mlp_hidden_layer_sizes': (50, 50), 'mlp_activation': 'logistic', 'mlp_solver': 'adam'}. Best is trial 19 with value: 0.7711609688544775.\u001b[0m\n",
            "/usr/local/lib/python3.7/dist-packages/optuna/distributions.py:502: UserWarning:\n",
            "\n",
            "Choices for a categorical distribution should be a tuple of None, bool, int, float and str for persistent storage but contains (50,) which is of type tuple.\n",
            "\n",
            "/usr/local/lib/python3.7/dist-packages/optuna/distributions.py:502: UserWarning:\n",
            "\n",
            "Choices for a categorical distribution should be a tuple of None, bool, int, float and str for persistent storage but contains (100,) which is of type tuple.\n",
            "\n",
            "/usr/local/lib/python3.7/dist-packages/optuna/distributions.py:502: UserWarning:\n",
            "\n",
            "Choices for a categorical distribution should be a tuple of None, bool, int, float and str for persistent storage but contains (50, 50) which is of type tuple.\n",
            "\n",
            "\u001b[32m[I 2022-09-02 16:11:32,885]\u001b[0m Trial 98 finished with value: 0.7711609688544775 and parameters: {'classifier': 'MLP', 'mlp_hidden_layer_sizes': (50, 50), 'mlp_activation': 'logistic', 'mlp_solver': 'adam'}. Best is trial 19 with value: 0.7711609688544775.\u001b[0m\n",
            "/usr/local/lib/python3.7/dist-packages/optuna/distributions.py:502: UserWarning:\n",
            "\n",
            "Choices for a categorical distribution should be a tuple of None, bool, int, float and str for persistent storage but contains (50,) which is of type tuple.\n",
            "\n",
            "/usr/local/lib/python3.7/dist-packages/optuna/distributions.py:502: UserWarning:\n",
            "\n",
            "Choices for a categorical distribution should be a tuple of None, bool, int, float and str for persistent storage but contains (100,) which is of type tuple.\n",
            "\n",
            "/usr/local/lib/python3.7/dist-packages/optuna/distributions.py:502: UserWarning:\n",
            "\n",
            "Choices for a categorical distribution should be a tuple of None, bool, int, float and str for persistent storage but contains (50, 50) which is of type tuple.\n",
            "\n",
            "\u001b[32m[I 2022-09-02 16:11:44,925]\u001b[0m Trial 99 finished with value: 0.7711609688544775 and parameters: {'classifier': 'MLP', 'mlp_hidden_layer_sizes': (50, 50), 'mlp_activation': 'logistic', 'mlp_solver': 'adam'}. Best is trial 19 with value: 0.7711609688544775.\u001b[0m\n"
          ]
        }
      ]
    },
    {
      "cell_type": "code",
      "source": [
        "optuna.visualization.plot_optimization_history(study_mlp).show()"
      ],
      "metadata": {
        "colab": {
          "base_uri": "https://localhost:8080/",
          "height": 542
        },
        "outputId": "ca49ed3f-2713-4221-9f4e-c3bc7e331a08",
        "id": "nOeCt-iN6Ljy"
      },
      "execution_count": null,
      "outputs": [
        {
          "output_type": "display_data",
          "data": {
            "text/html": [
              "<html>\n",
              "<head><meta charset=\"utf-8\" /></head>\n",
              "<body>\n",
              "    <div>            <script src=\"https://cdnjs.cloudflare.com/ajax/libs/mathjax/2.7.5/MathJax.js?config=TeX-AMS-MML_SVG\"></script><script type=\"text/javascript\">if (window.MathJax) {MathJax.Hub.Config({SVG: {font: \"STIX-Web\"}});}</script>                <script type=\"text/javascript\">window.PlotlyConfig = {MathJaxConfig: 'local'};</script>\n",
              "        <script src=\"https://cdn.plot.ly/plotly-2.8.3.min.js\"></script>                <div id=\"77024157-48e8-45fb-a009-272b55438ebb\" class=\"plotly-graph-div\" style=\"height:525px; width:100%;\"></div>            <script type=\"text/javascript\">                                    window.PLOTLYENV=window.PLOTLYENV || {};                                    if (document.getElementById(\"77024157-48e8-45fb-a009-272b55438ebb\")) {                    Plotly.newPlot(                        \"77024157-48e8-45fb-a009-272b55438ebb\",                        [{\"mode\":\"markers\",\"name\":\"Objective Value\",\"x\":[0,1,2,3,4,5,6,7,8,9,10,11,12,13,14,15,16,17,18,19,20,21,22,23,24,25,26,27,28,29,30,31,32,33,34,35,36,37,38,39,40,41,42,43,44,45,46,47,48,49,50,51,52,53,54,55,56,57,58,59,60,61,62,63,64,65,66,67,68,69,70,71,72,73,74,75,76,77,78,79,80,81,82,83,84,85,86,87,88,89,90,91,92,93,94,95,96,97,98,99],\"y\":[0.7414321194381616,0.7414321194381616,0.7415467133346342,0.7532334067647636,0.7415467133346342,0.7414321194381616,0.7414321194381616,0.7588588818503835,0.7415467133346342,0.7415467133346342,0.7469401641672903,0.7532334067647636,0.7469401641672903,0.7532334067647636,0.7532334067647636,0.7519070984357403,0.7532334067647636,0.7469401641672903,0.7415467133346342,0.7711609688544775,0.7711609688544775,0.7711609688544775,0.7711609688544775,0.7711609688544775,0.7711609688544775,0.7711609688544775,0.7415467133346342,0.7711609688544775,0.7711609688544775,0.7711609688544775,0.7711609688544775,0.7711609688544775,0.7711609688544775,0.7711609688544775,0.7711609688544775,0.7711609688544775,0.7415467133346342,0.7406853851273875,0.7711609688544775,0.7415467133346342,0.7406853851273875,0.7711609688544775,0.7711609688544775,0.7711609688544775,0.7443542990735308,0.7711609688544775,0.7711609688544775,0.7415467133346342,0.7406853851273875,0.7711609688544775,0.7711609688544775,0.7711609688544775,0.7711609688544775,0.7711609688544775,0.7519070984357403,0.7443542990735308,0.7532334067647636,0.7711609688544775,0.7415467133346342,0.7711609688544775,0.7532334067647636,0.7711609688544775,0.7711609688544775,0.7711609688544775,0.7711609688544775,0.7711609688544775,0.7711609688544775,0.7406853851273875,0.7443542990735308,0.7415467133346342,0.7711609688544775,0.7711609688544775,0.7711609688544775,0.7711609688544775,0.7711609688544775,0.7711609688544775,0.7532334067647636,0.7711609688544775,0.7711609688544775,0.7406853851273875,0.7711609688544775,0.7711609688544775,0.7711609688544775,0.7711609688544775,0.7711609688544775,0.7711609688544775,0.7443542990735308,0.7415467133346342,0.7711609688544775,0.7519070984357403,0.7711609688544775,0.7711609688544775,0.7711609688544775,0.7711609688544775,0.7711609688544775,0.7532334067647636,0.7711609688544775,0.7711609688544775,0.7711609688544775,0.7711609688544775],\"type\":\"scatter\"},{\"name\":\"Best Value\",\"x\":[0,1,2,3,4,5,6,7,8,9,10,11,12,13,14,15,16,17,18,19,20,21,22,23,24,25,26,27,28,29,30,31,32,33,34,35,36,37,38,39,40,41,42,43,44,45,46,47,48,49,50,51,52,53,54,55,56,57,58,59,60,61,62,63,64,65,66,67,68,69,70,71,72,73,74,75,76,77,78,79,80,81,82,83,84,85,86,87,88,89,90,91,92,93,94,95,96,97,98,99],\"y\":[0.7414321194381616,0.7414321194381616,0.7415467133346342,0.7532334067647636,0.7532334067647636,0.7532334067647636,0.7532334067647636,0.7588588818503835,0.7588588818503835,0.7588588818503835,0.7588588818503835,0.7588588818503835,0.7588588818503835,0.7588588818503835,0.7588588818503835,0.7588588818503835,0.7588588818503835,0.7588588818503835,0.7588588818503835,0.7711609688544775,0.7711609688544775,0.7711609688544775,0.7711609688544775,0.7711609688544775,0.7711609688544775,0.7711609688544775,0.7711609688544775,0.7711609688544775,0.7711609688544775,0.7711609688544775,0.7711609688544775,0.7711609688544775,0.7711609688544775,0.7711609688544775,0.7711609688544775,0.7711609688544775,0.7711609688544775,0.7711609688544775,0.7711609688544775,0.7711609688544775,0.7711609688544775,0.7711609688544775,0.7711609688544775,0.7711609688544775,0.7711609688544775,0.7711609688544775,0.7711609688544775,0.7711609688544775,0.7711609688544775,0.7711609688544775,0.7711609688544775,0.7711609688544775,0.7711609688544775,0.7711609688544775,0.7711609688544775,0.7711609688544775,0.7711609688544775,0.7711609688544775,0.7711609688544775,0.7711609688544775,0.7711609688544775,0.7711609688544775,0.7711609688544775,0.7711609688544775,0.7711609688544775,0.7711609688544775,0.7711609688544775,0.7711609688544775,0.7711609688544775,0.7711609688544775,0.7711609688544775,0.7711609688544775,0.7711609688544775,0.7711609688544775,0.7711609688544775,0.7711609688544775,0.7711609688544775,0.7711609688544775,0.7711609688544775,0.7711609688544775,0.7711609688544775,0.7711609688544775,0.7711609688544775,0.7711609688544775,0.7711609688544775,0.7711609688544775,0.7711609688544775,0.7711609688544775,0.7711609688544775,0.7711609688544775,0.7711609688544775,0.7711609688544775,0.7711609688544775,0.7711609688544775,0.7711609688544775,0.7711609688544775,0.7711609688544775,0.7711609688544775,0.7711609688544775,0.7711609688544775],\"type\":\"scatter\"}],                        {\"title\":{\"text\":\"Optimization History Plot\"},\"xaxis\":{\"title\":{\"text\":\"Trial\"}},\"yaxis\":{\"title\":{\"text\":\"Objective Value\"}},\"template\":{\"data\":{\"bar\":[{\"error_x\":{\"color\":\"#2a3f5f\"},\"error_y\":{\"color\":\"#2a3f5f\"},\"marker\":{\"line\":{\"color\":\"#E5ECF6\",\"width\":0.5},\"pattern\":{\"fillmode\":\"overlay\",\"size\":10,\"solidity\":0.2}},\"type\":\"bar\"}],\"barpolar\":[{\"marker\":{\"line\":{\"color\":\"#E5ECF6\",\"width\":0.5},\"pattern\":{\"fillmode\":\"overlay\",\"size\":10,\"solidity\":0.2}},\"type\":\"barpolar\"}],\"carpet\":[{\"aaxis\":{\"endlinecolor\":\"#2a3f5f\",\"gridcolor\":\"white\",\"linecolor\":\"white\",\"minorgridcolor\":\"white\",\"startlinecolor\":\"#2a3f5f\"},\"baxis\":{\"endlinecolor\":\"#2a3f5f\",\"gridcolor\":\"white\",\"linecolor\":\"white\",\"minorgridcolor\":\"white\",\"startlinecolor\":\"#2a3f5f\"},\"type\":\"carpet\"}],\"choropleth\":[{\"colorbar\":{\"outlinewidth\":0,\"ticks\":\"\"},\"type\":\"choropleth\"}],\"contour\":[{\"colorbar\":{\"outlinewidth\":0,\"ticks\":\"\"},\"colorscale\":[[0.0,\"#0d0887\"],[0.1111111111111111,\"#46039f\"],[0.2222222222222222,\"#7201a8\"],[0.3333333333333333,\"#9c179e\"],[0.4444444444444444,\"#bd3786\"],[0.5555555555555556,\"#d8576b\"],[0.6666666666666666,\"#ed7953\"],[0.7777777777777778,\"#fb9f3a\"],[0.8888888888888888,\"#fdca26\"],[1.0,\"#f0f921\"]],\"type\":\"contour\"}],\"contourcarpet\":[{\"colorbar\":{\"outlinewidth\":0,\"ticks\":\"\"},\"type\":\"contourcarpet\"}],\"heatmap\":[{\"colorbar\":{\"outlinewidth\":0,\"ticks\":\"\"},\"colorscale\":[[0.0,\"#0d0887\"],[0.1111111111111111,\"#46039f\"],[0.2222222222222222,\"#7201a8\"],[0.3333333333333333,\"#9c179e\"],[0.4444444444444444,\"#bd3786\"],[0.5555555555555556,\"#d8576b\"],[0.6666666666666666,\"#ed7953\"],[0.7777777777777778,\"#fb9f3a\"],[0.8888888888888888,\"#fdca26\"],[1.0,\"#f0f921\"]],\"type\":\"heatmap\"}],\"heatmapgl\":[{\"colorbar\":{\"outlinewidth\":0,\"ticks\":\"\"},\"colorscale\":[[0.0,\"#0d0887\"],[0.1111111111111111,\"#46039f\"],[0.2222222222222222,\"#7201a8\"],[0.3333333333333333,\"#9c179e\"],[0.4444444444444444,\"#bd3786\"],[0.5555555555555556,\"#d8576b\"],[0.6666666666666666,\"#ed7953\"],[0.7777777777777778,\"#fb9f3a\"],[0.8888888888888888,\"#fdca26\"],[1.0,\"#f0f921\"]],\"type\":\"heatmapgl\"}],\"histogram\":[{\"marker\":{\"pattern\":{\"fillmode\":\"overlay\",\"size\":10,\"solidity\":0.2}},\"type\":\"histogram\"}],\"histogram2d\":[{\"colorbar\":{\"outlinewidth\":0,\"ticks\":\"\"},\"colorscale\":[[0.0,\"#0d0887\"],[0.1111111111111111,\"#46039f\"],[0.2222222222222222,\"#7201a8\"],[0.3333333333333333,\"#9c179e\"],[0.4444444444444444,\"#bd3786\"],[0.5555555555555556,\"#d8576b\"],[0.6666666666666666,\"#ed7953\"],[0.7777777777777778,\"#fb9f3a\"],[0.8888888888888888,\"#fdca26\"],[1.0,\"#f0f921\"]],\"type\":\"histogram2d\"}],\"histogram2dcontour\":[{\"colorbar\":{\"outlinewidth\":0,\"ticks\":\"\"},\"colorscale\":[[0.0,\"#0d0887\"],[0.1111111111111111,\"#46039f\"],[0.2222222222222222,\"#7201a8\"],[0.3333333333333333,\"#9c179e\"],[0.4444444444444444,\"#bd3786\"],[0.5555555555555556,\"#d8576b\"],[0.6666666666666666,\"#ed7953\"],[0.7777777777777778,\"#fb9f3a\"],[0.8888888888888888,\"#fdca26\"],[1.0,\"#f0f921\"]],\"type\":\"histogram2dcontour\"}],\"mesh3d\":[{\"colorbar\":{\"outlinewidth\":0,\"ticks\":\"\"},\"type\":\"mesh3d\"}],\"parcoords\":[{\"line\":{\"colorbar\":{\"outlinewidth\":0,\"ticks\":\"\"}},\"type\":\"parcoords\"}],\"pie\":[{\"automargin\":true,\"type\":\"pie\"}],\"scatter\":[{\"marker\":{\"colorbar\":{\"outlinewidth\":0,\"ticks\":\"\"}},\"type\":\"scatter\"}],\"scatter3d\":[{\"line\":{\"colorbar\":{\"outlinewidth\":0,\"ticks\":\"\"}},\"marker\":{\"colorbar\":{\"outlinewidth\":0,\"ticks\":\"\"}},\"type\":\"scatter3d\"}],\"scattercarpet\":[{\"marker\":{\"colorbar\":{\"outlinewidth\":0,\"ticks\":\"\"}},\"type\":\"scattercarpet\"}],\"scattergeo\":[{\"marker\":{\"colorbar\":{\"outlinewidth\":0,\"ticks\":\"\"}},\"type\":\"scattergeo\"}],\"scattergl\":[{\"marker\":{\"colorbar\":{\"outlinewidth\":0,\"ticks\":\"\"}},\"type\":\"scattergl\"}],\"scattermapbox\":[{\"marker\":{\"colorbar\":{\"outlinewidth\":0,\"ticks\":\"\"}},\"type\":\"scattermapbox\"}],\"scatterpolar\":[{\"marker\":{\"colorbar\":{\"outlinewidth\":0,\"ticks\":\"\"}},\"type\":\"scatterpolar\"}],\"scatterpolargl\":[{\"marker\":{\"colorbar\":{\"outlinewidth\":0,\"ticks\":\"\"}},\"type\":\"scatterpolargl\"}],\"scatterternary\":[{\"marker\":{\"colorbar\":{\"outlinewidth\":0,\"ticks\":\"\"}},\"type\":\"scatterternary\"}],\"surface\":[{\"colorbar\":{\"outlinewidth\":0,\"ticks\":\"\"},\"colorscale\":[[0.0,\"#0d0887\"],[0.1111111111111111,\"#46039f\"],[0.2222222222222222,\"#7201a8\"],[0.3333333333333333,\"#9c179e\"],[0.4444444444444444,\"#bd3786\"],[0.5555555555555556,\"#d8576b\"],[0.6666666666666666,\"#ed7953\"],[0.7777777777777778,\"#fb9f3a\"],[0.8888888888888888,\"#fdca26\"],[1.0,\"#f0f921\"]],\"type\":\"surface\"}],\"table\":[{\"cells\":{\"fill\":{\"color\":\"#EBF0F8\"},\"line\":{\"color\":\"white\"}},\"header\":{\"fill\":{\"color\":\"#C8D4E3\"},\"line\":{\"color\":\"white\"}},\"type\":\"table\"}]},\"layout\":{\"annotationdefaults\":{\"arrowcolor\":\"#2a3f5f\",\"arrowhead\":0,\"arrowwidth\":1},\"autotypenumbers\":\"strict\",\"coloraxis\":{\"colorbar\":{\"outlinewidth\":0,\"ticks\":\"\"}},\"colorscale\":{\"diverging\":[[0,\"#8e0152\"],[0.1,\"#c51b7d\"],[0.2,\"#de77ae\"],[0.3,\"#f1b6da\"],[0.4,\"#fde0ef\"],[0.5,\"#f7f7f7\"],[0.6,\"#e6f5d0\"],[0.7,\"#b8e186\"],[0.8,\"#7fbc41\"],[0.9,\"#4d9221\"],[1,\"#276419\"]],\"sequential\":[[0.0,\"#0d0887\"],[0.1111111111111111,\"#46039f\"],[0.2222222222222222,\"#7201a8\"],[0.3333333333333333,\"#9c179e\"],[0.4444444444444444,\"#bd3786\"],[0.5555555555555556,\"#d8576b\"],[0.6666666666666666,\"#ed7953\"],[0.7777777777777778,\"#fb9f3a\"],[0.8888888888888888,\"#fdca26\"],[1.0,\"#f0f921\"]],\"sequentialminus\":[[0.0,\"#0d0887\"],[0.1111111111111111,\"#46039f\"],[0.2222222222222222,\"#7201a8\"],[0.3333333333333333,\"#9c179e\"],[0.4444444444444444,\"#bd3786\"],[0.5555555555555556,\"#d8576b\"],[0.6666666666666666,\"#ed7953\"],[0.7777777777777778,\"#fb9f3a\"],[0.8888888888888888,\"#fdca26\"],[1.0,\"#f0f921\"]]},\"colorway\":[\"#636efa\",\"#EF553B\",\"#00cc96\",\"#ab63fa\",\"#FFA15A\",\"#19d3f3\",\"#FF6692\",\"#B6E880\",\"#FF97FF\",\"#FECB52\"],\"font\":{\"color\":\"#2a3f5f\"},\"geo\":{\"bgcolor\":\"white\",\"lakecolor\":\"white\",\"landcolor\":\"#E5ECF6\",\"showlakes\":true,\"showland\":true,\"subunitcolor\":\"white\"},\"hoverlabel\":{\"align\":\"left\"},\"hovermode\":\"closest\",\"mapbox\":{\"style\":\"light\"},\"paper_bgcolor\":\"white\",\"plot_bgcolor\":\"#E5ECF6\",\"polar\":{\"angularaxis\":{\"gridcolor\":\"white\",\"linecolor\":\"white\",\"ticks\":\"\"},\"bgcolor\":\"#E5ECF6\",\"radialaxis\":{\"gridcolor\":\"white\",\"linecolor\":\"white\",\"ticks\":\"\"}},\"scene\":{\"xaxis\":{\"backgroundcolor\":\"#E5ECF6\",\"gridcolor\":\"white\",\"gridwidth\":2,\"linecolor\":\"white\",\"showbackground\":true,\"ticks\":\"\",\"zerolinecolor\":\"white\"},\"yaxis\":{\"backgroundcolor\":\"#E5ECF6\",\"gridcolor\":\"white\",\"gridwidth\":2,\"linecolor\":\"white\",\"showbackground\":true,\"ticks\":\"\",\"zerolinecolor\":\"white\"},\"zaxis\":{\"backgroundcolor\":\"#E5ECF6\",\"gridcolor\":\"white\",\"gridwidth\":2,\"linecolor\":\"white\",\"showbackground\":true,\"ticks\":\"\",\"zerolinecolor\":\"white\"}},\"shapedefaults\":{\"line\":{\"color\":\"#2a3f5f\"}},\"ternary\":{\"aaxis\":{\"gridcolor\":\"white\",\"linecolor\":\"white\",\"ticks\":\"\"},\"baxis\":{\"gridcolor\":\"white\",\"linecolor\":\"white\",\"ticks\":\"\"},\"bgcolor\":\"#E5ECF6\",\"caxis\":{\"gridcolor\":\"white\",\"linecolor\":\"white\",\"ticks\":\"\"}},\"title\":{\"x\":0.05},\"xaxis\":{\"automargin\":true,\"gridcolor\":\"white\",\"linecolor\":\"white\",\"ticks\":\"\",\"title\":{\"standoff\":15},\"zerolinecolor\":\"white\",\"zerolinewidth\":2},\"yaxis\":{\"automargin\":true,\"gridcolor\":\"white\",\"linecolor\":\"white\",\"ticks\":\"\",\"title\":{\"standoff\":15},\"zerolinecolor\":\"white\",\"zerolinewidth\":2}}}},                        {\"responsive\": true}                    ).then(function(){\n",
              "                            \n",
              "var gd = document.getElementById('77024157-48e8-45fb-a009-272b55438ebb');\n",
              "var x = new MutationObserver(function (mutations, observer) {{\n",
              "        var display = window.getComputedStyle(gd).display;\n",
              "        if (!display || display === 'none') {{\n",
              "            console.log([gd, 'removed!']);\n",
              "            Plotly.purge(gd);\n",
              "            observer.disconnect();\n",
              "        }}\n",
              "}});\n",
              "\n",
              "// Listen for the removal of the full notebook cells\n",
              "var notebookContainer = gd.closest('#notebook-container');\n",
              "if (notebookContainer) {{\n",
              "    x.observe(notebookContainer, {childList: true});\n",
              "}}\n",
              "\n",
              "// Listen for the clearing of the current output cell\n",
              "var outputEl = gd.closest('.output');\n",
              "if (outputEl) {{\n",
              "    x.observe(outputEl, {childList: true});\n",
              "}}\n",
              "\n",
              "                        })                };                            </script>        </div>\n",
              "</body>\n",
              "</html>"
            ]
          },
          "metadata": {}
        }
      ]
    },
    {
      "cell_type": "markdown",
      "source": [
        "Dessa vez, vemos que a otimização convergiu mais cedo e vários modelos atingiram o mesmo resultado."
      ],
      "metadata": {
        "id": "tU7nQT066Ljy"
      }
    },
    {
      "cell_type": "code",
      "source": [
        "print(f\"Melhor trial : \\n{study_mlp.best_trial}\")\n",
        "\n",
        "print(f\"Melhor valor do f-score : \\n{study_mlp.best_value}\")\n",
        "\n",
        "print(f\"Melhores parâmetros : \\n{study_mlp.best_params}\")"
      ],
      "metadata": {
        "colab": {
          "base_uri": "https://localhost:8080/"
        },
        "outputId": "70c96221-4661-409b-ee02-a8a762e5fd98",
        "id": "_4zMhnmp6Ljy"
      },
      "execution_count": null,
      "outputs": [
        {
          "output_type": "stream",
          "name": "stdout",
          "text": [
            "Melhor trial : \n",
            "FrozenTrial(number=19, values=[0.7711609688544775], datetime_start=datetime.datetime(2022, 9, 2, 15, 57, 15, 679566), datetime_complete=datetime.datetime(2022, 9, 2, 15, 57, 29, 382377), params={'classifier': 'MLP', 'mlp_hidden_layer_sizes': (50, 50), 'mlp_activation': 'logistic', 'mlp_solver': 'adam'}, distributions={'classifier': CategoricalDistribution(choices=('MLP',)), 'mlp_hidden_layer_sizes': CategoricalDistribution(choices=((50,), (100,), (50, 50))), 'mlp_activation': CategoricalDistribution(choices=('logistic', 'tanh', 'relu')), 'mlp_solver': CategoricalDistribution(choices=('adam', 'sgd'))}, user_attrs={}, system_attrs={}, intermediate_values={}, trial_id=19, state=TrialState.COMPLETE, value=None)\n",
            "Melhor valor do f-score : \n",
            "0.7711609688544775\n",
            "Melhores parâmetros : \n",
            "{'classifier': 'MLP', 'mlp_hidden_layer_sizes': (50, 50), 'mlp_activation': 'logistic', 'mlp_solver': 'adam'}\n"
          ]
        }
      ]
    },
    {
      "cell_type": "code",
      "source": [
        "best_mlp = MLPClassifier(\n",
        "      random_state=RANDOM_STATE, \n",
        "      max_iter=EPOCHS,\n",
        "      hidden_layer_sizes=study_mlp.best_params['mlp_hidden_layer_sizes'], \n",
        "      activation=study_mlp.best_params['mlp_activation'], \n",
        "      solver=study_mlp.best_params['mlp_solver']\n",
        ")\n",
        "best_mlp.fit(X_train, y_train)"
      ],
      "metadata": {
        "colab": {
          "base_uri": "https://localhost:8080/"
        },
        "outputId": "cc68f019-8582-4ae1-aec2-eb4465162889",
        "id": "rnWXe3U_6Ljz"
      },
      "execution_count": null,
      "outputs": [
        {
          "output_type": "execute_result",
          "data": {
            "text/plain": [
              "MLPClassifier(activation='logistic', hidden_layer_sizes=(50, 50), max_iter=1000,\n",
              "              random_state=42)"
            ]
          },
          "metadata": {},
          "execution_count": 121
        }
      ]
    },
    {
      "cell_type": "code",
      "source": [
        "y_pred = best_mlp.predict(X_val)\n",
        "y_proba = best_mlp.predict_proba(X_val)\n",
        "eval_metrics(y_val, y_pred, y_proba)"
      ],
      "metadata": {
        "colab": {
          "base_uri": "https://localhost:8080/"
        },
        "id": "H2eT6B29_S-Z",
        "outputId": "eaf5d430-6bed-408d-b6eb-259c769b9508"
      },
      "execution_count": null,
      "outputs": [
        {
          "output_type": "execute_result",
          "data": {
            "text/plain": [
              "(0.8184187662901824, 0.7551745475171453, 0.7711609688544775)"
            ]
          },
          "metadata": {},
          "execution_count": 122
        }
      ]
    },
    {
      "cell_type": "markdown",
      "source": [
        "### Optuna Study RF"
      ],
      "metadata": {
        "id": "TIvQV4_2NbHT"
      }
    },
    {
      "cell_type": "markdown",
      "source": [
        "Primeiramente, observamos a relação entre os atributos escolhidos e o valor da métrica de avaliação"
      ],
      "metadata": {
        "id": "17xVYG1lNrTE"
      }
    },
    {
      "cell_type": "code",
      "source": [
        "optuna.visualization.plot_slice(study, params=['rf_n_estimators', 'rf_max_depth', 'rf_criterion'])"
      ],
      "metadata": {
        "colab": {
          "base_uri": "https://localhost:8080/",
          "height": 542
        },
        "id": "paFyYK3ENeOL",
        "outputId": "419edc85-4d4b-49e7-986c-5e7ffb18707c"
      },
      "execution_count": null,
      "outputs": [
        {
          "output_type": "display_data",
          "data": {
            "text/html": [
              "<html>\n",
              "<head><meta charset=\"utf-8\" /></head>\n",
              "<body>\n",
              "    <div>            <script src=\"https://cdnjs.cloudflare.com/ajax/libs/mathjax/2.7.5/MathJax.js?config=TeX-AMS-MML_SVG\"></script><script type=\"text/javascript\">if (window.MathJax) {MathJax.Hub.Config({SVG: {font: \"STIX-Web\"}});}</script>                <script type=\"text/javascript\">window.PlotlyConfig = {MathJaxConfig: 'local'};</script>\n",
              "        <script src=\"https://cdn.plot.ly/plotly-2.8.3.min.js\"></script>                <div id=\"8ea68321-6b0f-4040-b8b7-ae91a8046b50\" class=\"plotly-graph-div\" style=\"height:525px; width:100%;\"></div>            <script type=\"text/javascript\">                                    window.PLOTLYENV=window.PLOTLYENV || {};                                    if (document.getElementById(\"8ea68321-6b0f-4040-b8b7-ae91a8046b50\")) {                    Plotly.newPlot(                        \"8ea68321-6b0f-4040-b8b7-ae91a8046b50\",                        [{\"marker\":{\"color\":[10,16,20,28,47,58,75,96],\"colorbar\":{\"title\":{\"text\":\"Trial\"},\"x\":1.0,\"xpad\":40},\"colorscale\":[[0.0,\"rgb(247,251,255)\"],[0.125,\"rgb(222,235,247)\"],[0.25,\"rgb(198,219,239)\"],[0.375,\"rgb(158,202,225)\"],[0.5,\"rgb(107,174,214)\"],[0.625,\"rgb(66,146,198)\"],[0.75,\"rgb(33,113,181)\"],[0.875,\"rgb(8,81,156)\"],[1.0,\"rgb(8,48,107)\"]],\"line\":{\"color\":\"Grey\",\"width\":0.5},\"showscale\":true},\"mode\":\"markers\",\"showlegend\":false,\"x\":[\"entropy\",\"gini\",\"gini\",\"entropy\",\"entropy\",\"gini\",\"entropy\",\"gini\"],\"y\":[0.7798625966459564,0.782089051359182,0.7415467133346342,0.7415467133346342,0.7885381471828041,0.7787189641647454,0.7809857914637548,0.7848341453317761],\"type\":\"scatter\",\"xaxis\":\"x\",\"yaxis\":\"y\"},{\"marker\":{\"color\":[10,16,20,28,47,58,75,96],\"colorbar\":{\"title\":{\"text\":\"Trial\"},\"x\":1.0,\"xpad\":40},\"colorscale\":[[0.0,\"rgb(247,251,255)\"],[0.125,\"rgb(222,235,247)\"],[0.25,\"rgb(198,219,239)\"],[0.375,\"rgb(158,202,225)\"],[0.5,\"rgb(107,174,214)\"],[0.625,\"rgb(66,146,198)\"],[0.75,\"rgb(33,113,181)\"],[0.875,\"rgb(8,81,156)\"],[1.0,\"rgb(8,48,107)\"]],\"line\":{\"color\":\"Grey\",\"width\":0.5},\"showscale\":false},\"mode\":\"markers\",\"showlegend\":false,\"x\":[18,30,2,2,32,15,18,25],\"y\":[0.7798625966459564,0.782089051359182,0.7415467133346342,0.7415467133346342,0.7885381471828041,0.7787189641647454,0.7809857914637548,0.7848341453317761],\"type\":\"scatter\",\"xaxis\":\"x2\",\"yaxis\":\"y2\"},{\"marker\":{\"color\":[10,16,20,28,47,58,75,96],\"colorbar\":{\"title\":{\"text\":\"Trial\"},\"x\":1.0,\"xpad\":40},\"colorscale\":[[0.0,\"rgb(247,251,255)\"],[0.125,\"rgb(222,235,247)\"],[0.25,\"rgb(198,219,239)\"],[0.375,\"rgb(158,202,225)\"],[0.5,\"rgb(107,174,214)\"],[0.625,\"rgb(66,146,198)\"],[0.75,\"rgb(33,113,181)\"],[0.875,\"rgb(8,81,156)\"],[1.0,\"rgb(8,48,107)\"]],\"line\":{\"color\":\"Grey\",\"width\":0.5},\"showscale\":false},\"mode\":\"markers\",\"showlegend\":false,\"x\":[481,916,108,834,91,502,720,326],\"y\":[0.7798625966459564,0.782089051359182,0.7415467133346342,0.7415467133346342,0.7885381471828041,0.7787189641647454,0.7809857914637548,0.7848341453317761],\"type\":\"scatter\",\"xaxis\":\"x3\",\"yaxis\":\"y3\"}],                        {\"template\":{\"data\":{\"bar\":[{\"error_x\":{\"color\":\"#2a3f5f\"},\"error_y\":{\"color\":\"#2a3f5f\"},\"marker\":{\"line\":{\"color\":\"#E5ECF6\",\"width\":0.5},\"pattern\":{\"fillmode\":\"overlay\",\"size\":10,\"solidity\":0.2}},\"type\":\"bar\"}],\"barpolar\":[{\"marker\":{\"line\":{\"color\":\"#E5ECF6\",\"width\":0.5},\"pattern\":{\"fillmode\":\"overlay\",\"size\":10,\"solidity\":0.2}},\"type\":\"barpolar\"}],\"carpet\":[{\"aaxis\":{\"endlinecolor\":\"#2a3f5f\",\"gridcolor\":\"white\",\"linecolor\":\"white\",\"minorgridcolor\":\"white\",\"startlinecolor\":\"#2a3f5f\"},\"baxis\":{\"endlinecolor\":\"#2a3f5f\",\"gridcolor\":\"white\",\"linecolor\":\"white\",\"minorgridcolor\":\"white\",\"startlinecolor\":\"#2a3f5f\"},\"type\":\"carpet\"}],\"choropleth\":[{\"colorbar\":{\"outlinewidth\":0,\"ticks\":\"\"},\"type\":\"choropleth\"}],\"contour\":[{\"colorbar\":{\"outlinewidth\":0,\"ticks\":\"\"},\"colorscale\":[[0.0,\"#0d0887\"],[0.1111111111111111,\"#46039f\"],[0.2222222222222222,\"#7201a8\"],[0.3333333333333333,\"#9c179e\"],[0.4444444444444444,\"#bd3786\"],[0.5555555555555556,\"#d8576b\"],[0.6666666666666666,\"#ed7953\"],[0.7777777777777778,\"#fb9f3a\"],[0.8888888888888888,\"#fdca26\"],[1.0,\"#f0f921\"]],\"type\":\"contour\"}],\"contourcarpet\":[{\"colorbar\":{\"outlinewidth\":0,\"ticks\":\"\"},\"type\":\"contourcarpet\"}],\"heatmap\":[{\"colorbar\":{\"outlinewidth\":0,\"ticks\":\"\"},\"colorscale\":[[0.0,\"#0d0887\"],[0.1111111111111111,\"#46039f\"],[0.2222222222222222,\"#7201a8\"],[0.3333333333333333,\"#9c179e\"],[0.4444444444444444,\"#bd3786\"],[0.5555555555555556,\"#d8576b\"],[0.6666666666666666,\"#ed7953\"],[0.7777777777777778,\"#fb9f3a\"],[0.8888888888888888,\"#fdca26\"],[1.0,\"#f0f921\"]],\"type\":\"heatmap\"}],\"heatmapgl\":[{\"colorbar\":{\"outlinewidth\":0,\"ticks\":\"\"},\"colorscale\":[[0.0,\"#0d0887\"],[0.1111111111111111,\"#46039f\"],[0.2222222222222222,\"#7201a8\"],[0.3333333333333333,\"#9c179e\"],[0.4444444444444444,\"#bd3786\"],[0.5555555555555556,\"#d8576b\"],[0.6666666666666666,\"#ed7953\"],[0.7777777777777778,\"#fb9f3a\"],[0.8888888888888888,\"#fdca26\"],[1.0,\"#f0f921\"]],\"type\":\"heatmapgl\"}],\"histogram\":[{\"marker\":{\"pattern\":{\"fillmode\":\"overlay\",\"size\":10,\"solidity\":0.2}},\"type\":\"histogram\"}],\"histogram2d\":[{\"colorbar\":{\"outlinewidth\":0,\"ticks\":\"\"},\"colorscale\":[[0.0,\"#0d0887\"],[0.1111111111111111,\"#46039f\"],[0.2222222222222222,\"#7201a8\"],[0.3333333333333333,\"#9c179e\"],[0.4444444444444444,\"#bd3786\"],[0.5555555555555556,\"#d8576b\"],[0.6666666666666666,\"#ed7953\"],[0.7777777777777778,\"#fb9f3a\"],[0.8888888888888888,\"#fdca26\"],[1.0,\"#f0f921\"]],\"type\":\"histogram2d\"}],\"histogram2dcontour\":[{\"colorbar\":{\"outlinewidth\":0,\"ticks\":\"\"},\"colorscale\":[[0.0,\"#0d0887\"],[0.1111111111111111,\"#46039f\"],[0.2222222222222222,\"#7201a8\"],[0.3333333333333333,\"#9c179e\"],[0.4444444444444444,\"#bd3786\"],[0.5555555555555556,\"#d8576b\"],[0.6666666666666666,\"#ed7953\"],[0.7777777777777778,\"#fb9f3a\"],[0.8888888888888888,\"#fdca26\"],[1.0,\"#f0f921\"]],\"type\":\"histogram2dcontour\"}],\"mesh3d\":[{\"colorbar\":{\"outlinewidth\":0,\"ticks\":\"\"},\"type\":\"mesh3d\"}],\"parcoords\":[{\"line\":{\"colorbar\":{\"outlinewidth\":0,\"ticks\":\"\"}},\"type\":\"parcoords\"}],\"pie\":[{\"automargin\":true,\"type\":\"pie\"}],\"scatter\":[{\"marker\":{\"colorbar\":{\"outlinewidth\":0,\"ticks\":\"\"}},\"type\":\"scatter\"}],\"scatter3d\":[{\"line\":{\"colorbar\":{\"outlinewidth\":0,\"ticks\":\"\"}},\"marker\":{\"colorbar\":{\"outlinewidth\":0,\"ticks\":\"\"}},\"type\":\"scatter3d\"}],\"scattercarpet\":[{\"marker\":{\"colorbar\":{\"outlinewidth\":0,\"ticks\":\"\"}},\"type\":\"scattercarpet\"}],\"scattergeo\":[{\"marker\":{\"colorbar\":{\"outlinewidth\":0,\"ticks\":\"\"}},\"type\":\"scattergeo\"}],\"scattergl\":[{\"marker\":{\"colorbar\":{\"outlinewidth\":0,\"ticks\":\"\"}},\"type\":\"scattergl\"}],\"scattermapbox\":[{\"marker\":{\"colorbar\":{\"outlinewidth\":0,\"ticks\":\"\"}},\"type\":\"scattermapbox\"}],\"scatterpolar\":[{\"marker\":{\"colorbar\":{\"outlinewidth\":0,\"ticks\":\"\"}},\"type\":\"scatterpolar\"}],\"scatterpolargl\":[{\"marker\":{\"colorbar\":{\"outlinewidth\":0,\"ticks\":\"\"}},\"type\":\"scatterpolargl\"}],\"scatterternary\":[{\"marker\":{\"colorbar\":{\"outlinewidth\":0,\"ticks\":\"\"}},\"type\":\"scatterternary\"}],\"surface\":[{\"colorbar\":{\"outlinewidth\":0,\"ticks\":\"\"},\"colorscale\":[[0.0,\"#0d0887\"],[0.1111111111111111,\"#46039f\"],[0.2222222222222222,\"#7201a8\"],[0.3333333333333333,\"#9c179e\"],[0.4444444444444444,\"#bd3786\"],[0.5555555555555556,\"#d8576b\"],[0.6666666666666666,\"#ed7953\"],[0.7777777777777778,\"#fb9f3a\"],[0.8888888888888888,\"#fdca26\"],[1.0,\"#f0f921\"]],\"type\":\"surface\"}],\"table\":[{\"cells\":{\"fill\":{\"color\":\"#EBF0F8\"},\"line\":{\"color\":\"white\"}},\"header\":{\"fill\":{\"color\":\"#C8D4E3\"},\"line\":{\"color\":\"white\"}},\"type\":\"table\"}]},\"layout\":{\"annotationdefaults\":{\"arrowcolor\":\"#2a3f5f\",\"arrowhead\":0,\"arrowwidth\":1},\"autotypenumbers\":\"strict\",\"coloraxis\":{\"colorbar\":{\"outlinewidth\":0,\"ticks\":\"\"}},\"colorscale\":{\"diverging\":[[0,\"#8e0152\"],[0.1,\"#c51b7d\"],[0.2,\"#de77ae\"],[0.3,\"#f1b6da\"],[0.4,\"#fde0ef\"],[0.5,\"#f7f7f7\"],[0.6,\"#e6f5d0\"],[0.7,\"#b8e186\"],[0.8,\"#7fbc41\"],[0.9,\"#4d9221\"],[1,\"#276419\"]],\"sequential\":[[0.0,\"#0d0887\"],[0.1111111111111111,\"#46039f\"],[0.2222222222222222,\"#7201a8\"],[0.3333333333333333,\"#9c179e\"],[0.4444444444444444,\"#bd3786\"],[0.5555555555555556,\"#d8576b\"],[0.6666666666666666,\"#ed7953\"],[0.7777777777777778,\"#fb9f3a\"],[0.8888888888888888,\"#fdca26\"],[1.0,\"#f0f921\"]],\"sequentialminus\":[[0.0,\"#0d0887\"],[0.1111111111111111,\"#46039f\"],[0.2222222222222222,\"#7201a8\"],[0.3333333333333333,\"#9c179e\"],[0.4444444444444444,\"#bd3786\"],[0.5555555555555556,\"#d8576b\"],[0.6666666666666666,\"#ed7953\"],[0.7777777777777778,\"#fb9f3a\"],[0.8888888888888888,\"#fdca26\"],[1.0,\"#f0f921\"]]},\"colorway\":[\"#636efa\",\"#EF553B\",\"#00cc96\",\"#ab63fa\",\"#FFA15A\",\"#19d3f3\",\"#FF6692\",\"#B6E880\",\"#FF97FF\",\"#FECB52\"],\"font\":{\"color\":\"#2a3f5f\"},\"geo\":{\"bgcolor\":\"white\",\"lakecolor\":\"white\",\"landcolor\":\"#E5ECF6\",\"showlakes\":true,\"showland\":true,\"subunitcolor\":\"white\"},\"hoverlabel\":{\"align\":\"left\"},\"hovermode\":\"closest\",\"mapbox\":{\"style\":\"light\"},\"paper_bgcolor\":\"white\",\"plot_bgcolor\":\"#E5ECF6\",\"polar\":{\"angularaxis\":{\"gridcolor\":\"white\",\"linecolor\":\"white\",\"ticks\":\"\"},\"bgcolor\":\"#E5ECF6\",\"radialaxis\":{\"gridcolor\":\"white\",\"linecolor\":\"white\",\"ticks\":\"\"}},\"scene\":{\"xaxis\":{\"backgroundcolor\":\"#E5ECF6\",\"gridcolor\":\"white\",\"gridwidth\":2,\"linecolor\":\"white\",\"showbackground\":true,\"ticks\":\"\",\"zerolinecolor\":\"white\"},\"yaxis\":{\"backgroundcolor\":\"#E5ECF6\",\"gridcolor\":\"white\",\"gridwidth\":2,\"linecolor\":\"white\",\"showbackground\":true,\"ticks\":\"\",\"zerolinecolor\":\"white\"},\"zaxis\":{\"backgroundcolor\":\"#E5ECF6\",\"gridcolor\":\"white\",\"gridwidth\":2,\"linecolor\":\"white\",\"showbackground\":true,\"ticks\":\"\",\"zerolinecolor\":\"white\"}},\"shapedefaults\":{\"line\":{\"color\":\"#2a3f5f\"}},\"ternary\":{\"aaxis\":{\"gridcolor\":\"white\",\"linecolor\":\"white\",\"ticks\":\"\"},\"baxis\":{\"gridcolor\":\"white\",\"linecolor\":\"white\",\"ticks\":\"\"},\"bgcolor\":\"#E5ECF6\",\"caxis\":{\"gridcolor\":\"white\",\"linecolor\":\"white\",\"ticks\":\"\"}},\"title\":{\"x\":0.05},\"xaxis\":{\"automargin\":true,\"gridcolor\":\"white\",\"linecolor\":\"white\",\"ticks\":\"\",\"title\":{\"standoff\":15},\"zerolinecolor\":\"white\",\"zerolinewidth\":2},\"yaxis\":{\"automargin\":true,\"gridcolor\":\"white\",\"linecolor\":\"white\",\"ticks\":\"\",\"title\":{\"standoff\":15},\"zerolinecolor\":\"white\",\"zerolinewidth\":2}}},\"xaxis\":{\"anchor\":\"y\",\"domain\":[0.0,0.2888888888888889],\"title\":{\"text\":\"rf_criterion\"}},\"yaxis\":{\"anchor\":\"x\",\"domain\":[0.0,1.0],\"title\":{\"text\":\"Objective Value\"}},\"xaxis2\":{\"anchor\":\"y2\",\"domain\":[0.35555555555555557,0.6444444444444445],\"title\":{\"text\":\"rf_max_depth\"}},\"yaxis2\":{\"anchor\":\"x2\",\"domain\":[0.0,1.0],\"matches\":\"y\",\"showticklabels\":false},\"xaxis3\":{\"anchor\":\"y3\",\"domain\":[0.7111111111111111,1.0],\"title\":{\"text\":\"rf_n_estimators\"}},\"yaxis3\":{\"anchor\":\"x3\",\"domain\":[0.0,1.0],\"matches\":\"y\",\"showticklabels\":false},\"title\":{\"text\":\"Slice Plot\"}},                        {\"responsive\": true}                    ).then(function(){\n",
              "                            \n",
              "var gd = document.getElementById('8ea68321-6b0f-4040-b8b7-ae91a8046b50');\n",
              "var x = new MutationObserver(function (mutations, observer) {{\n",
              "        var display = window.getComputedStyle(gd).display;\n",
              "        if (!display || display === 'none') {{\n",
              "            console.log([gd, 'removed!']);\n",
              "            Plotly.purge(gd);\n",
              "            observer.disconnect();\n",
              "        }}\n",
              "}});\n",
              "\n",
              "// Listen for the removal of the full notebook cells\n",
              "var notebookContainer = gd.closest('#notebook-container');\n",
              "if (notebookContainer) {{\n",
              "    x.observe(notebookContainer, {childList: true});\n",
              "}}\n",
              "\n",
              "// Listen for the clearing of the current output cell\n",
              "var outputEl = gd.closest('.output');\n",
              "if (outputEl) {{\n",
              "    x.observe(outputEl, {childList: true});\n",
              "}}\n",
              "\n",
              "                        })                };                            </script>        </div>\n",
              "</body>\n",
              "</html>"
            ]
          },
          "metadata": {}
        }
      ]
    },
    {
      "cell_type": "markdown",
      "source": [
        "Vemos que max_depth mais alto (entre 15 e 32) e n_estimators mais alto (entre 400 e 1000) resultam em melhores modelos, enquanto para criterion não parece haver muita diferença"
      ],
      "metadata": {
        "id": "tu6gRYjdNxge"
      }
    },
    {
      "cell_type": "code",
      "source": [
        "# Passo 1. Definindo função de objetivo a ser maximizada\n",
        "def objective_rf(trial):\n",
        "  classifier = trial.suggest_categorical(\"classifier\", [\"RF\"])\n",
        "  \n",
        "  # Passo 2. Definindo conjunto de hiperparâmetros\n",
        "  rf_n_estimators = trial.suggest_int(\"rf_n_estimators\", 400, 1000)\n",
        "  rf_criterion = trial.suggest_categorical('rf_criterion', ['gini', 'entropy'])\n",
        "  rf_max_depth = trial.suggest_int(\"rf_max_depth\", 15, 32)\n",
        "  clf = RandomForestClassifier(\n",
        "      random_state=RANDOM_STATE, \n",
        "      max_depth=rf_max_depth, \n",
        "      n_estimators=rf_n_estimators, \n",
        "      criterion=rf_criterion\n",
        "  )\n",
        "  \n",
        "  # Treinando o modelo\n",
        "  clf.fit(X_train, y_train)\n",
        "\n",
        "  # Usando conjunto de validação para obter métricas\n",
        "  y_pred = clf.predict(X_val)\n",
        "  y_proba = clf.predict_proba(X_val)\n",
        "\n",
        "  # Passo 3: Métrica otimizada\n",
        "  acc, auroc, f1 = eval_metrics(y_val, y_pred, y_proba)\n",
        "  return f1"
      ],
      "metadata": {
        "id": "lzKiS0lvNqJQ"
      },
      "execution_count": null,
      "outputs": []
    },
    {
      "cell_type": "code",
      "source": [
        "# Passo 4: Rodar o estudo\n",
        "study_rf = optuna.create_study(direction=\"maximize\")\n",
        "study_rf.optimize(objective_rf, n_trials=100)"
      ],
      "metadata": {
        "colab": {
          "base_uri": "https://localhost:8080/"
        },
        "outputId": "d91215c0-7a89-4141-89a2-061b0ba32ab8",
        "id": "fuO4Im1SNqJQ"
      },
      "execution_count": null,
      "outputs": [
        {
          "output_type": "stream",
          "name": "stderr",
          "text": [
            "\u001b[32m[I 2022-09-02 17:22:48,686]\u001b[0m A new study created in memory with name: no-name-518130e5-543b-4289-9de3-9d96c66bc9bf\u001b[0m\n",
            "\u001b[32m[I 2022-09-02 17:23:05,153]\u001b[0m Trial 0 finished with value: 0.7815703277959272 and parameters: {'classifier': 'RF', 'rf_n_estimators': 783, 'rf_criterion': 'entropy', 'rf_max_depth': 23}. Best is trial 0 with value: 0.7815703277959272.\u001b[0m\n",
            "\u001b[32m[I 2022-09-02 17:23:15,349]\u001b[0m Trial 1 finished with value: 0.7781256981188157 and parameters: {'classifier': 'RF', 'rf_n_estimators': 506, 'rf_criterion': 'entropy', 'rf_max_depth': 17}. Best is trial 0 with value: 0.7815703277959272.\u001b[0m\n",
            "\u001b[32m[I 2022-09-02 17:23:30,622]\u001b[0m Trial 2 finished with value: 0.7815703277959272 and parameters: {'classifier': 'RF', 'rf_n_estimators': 720, 'rf_criterion': 'entropy', 'rf_max_depth': 24}. Best is trial 0 with value: 0.7815703277959272.\u001b[0m\n",
            "\u001b[32m[I 2022-09-02 17:23:37,355]\u001b[0m Trial 3 finished with value: 0.7809142465597833 and parameters: {'classifier': 'RF', 'rf_n_estimators': 403, 'rf_criterion': 'gini', 'rf_max_depth': 26}. Best is trial 0 with value: 0.7815703277959272.\u001b[0m\n",
            "\u001b[32m[I 2022-09-02 17:23:46,514]\u001b[0m Trial 4 finished with value: 0.7815012403620846 and parameters: {'classifier': 'RF', 'rf_n_estimators': 553, 'rf_criterion': 'gini', 'rf_max_depth': 29}. Best is trial 0 with value: 0.7815703277959272.\u001b[0m\n",
            "\u001b[32m[I 2022-09-02 17:23:56,133]\u001b[0m Trial 5 finished with value: 0.7758448260605746 and parameters: {'classifier': 'RF', 'rf_n_estimators': 625, 'rf_criterion': 'gini', 'rf_max_depth': 15}. Best is trial 0 with value: 0.7815703277959272.\u001b[0m\n",
            "\u001b[32m[I 2022-09-02 17:24:06,352]\u001b[0m Trial 6 finished with value: 0.7842376955244468 and parameters: {'classifier': 'RF', 'rf_n_estimators': 619, 'rf_criterion': 'gini', 'rf_max_depth': 25}. Best is trial 6 with value: 0.7842376955244468.\u001b[0m\n",
            "\u001b[32m[I 2022-09-02 17:24:13,696]\u001b[0m Trial 7 finished with value: 0.782089051359182 and parameters: {'classifier': 'RF', 'rf_n_estimators': 450, 'rf_criterion': 'gini', 'rf_max_depth': 20}. Best is trial 6 with value: 0.7842376955244468.\u001b[0m\n",
            "\u001b[32m[I 2022-09-02 17:24:27,599]\u001b[0m Trial 8 finished with value: 0.782089051359182 and parameters: {'classifier': 'RF', 'rf_n_estimators': 838, 'rf_criterion': 'gini', 'rf_max_depth': 28}. Best is trial 6 with value: 0.7842376955244468.\u001b[0m\n",
            "\u001b[32m[I 2022-09-02 17:24:41,445]\u001b[0m Trial 9 finished with value: 0.782089051359182 and parameters: {'classifier': 'RF', 'rf_n_estimators': 839, 'rf_criterion': 'gini', 'rf_max_depth': 28}. Best is trial 6 with value: 0.7842376955244468.\u001b[0m\n",
            "\u001b[32m[I 2022-09-02 17:24:55,030]\u001b[0m Trial 10 finished with value: 0.7809857914637548 and parameters: {'classifier': 'RF', 'rf_n_estimators': 645, 'rf_criterion': 'entropy', 'rf_max_depth': 32}. Best is trial 6 with value: 0.7842376955244468.\u001b[0m\n",
            "\u001b[32m[I 2022-09-02 17:25:10,603]\u001b[0m Trial 11 finished with value: 0.7809857914637548 and parameters: {'classifier': 'RF', 'rf_n_estimators': 954, 'rf_criterion': 'gini', 'rf_max_depth': 19}. Best is trial 6 with value: 0.7842376955244468.\u001b[0m\n",
            "\u001b[32m[I 2022-09-02 17:25:17,422]\u001b[0m Trial 12 finished with value: 0.7848341453317761 and parameters: {'classifier': 'RF', 'rf_n_estimators': 407, 'rf_criterion': 'gini', 'rf_max_depth': 21}. Best is trial 12 with value: 0.7848341453317761.\u001b[0m\n",
            "\u001b[32m[I 2022-09-02 17:25:26,598]\u001b[0m Trial 13 finished with value: 0.7882939479155949 and parameters: {'classifier': 'RF', 'rf_n_estimators': 555, 'rf_criterion': 'gini', 'rf_max_depth': 22}. Best is trial 13 with value: 0.7882939479155949.\u001b[0m\n",
            "\u001b[32m[I 2022-09-02 17:25:35,053]\u001b[0m Trial 14 finished with value: 0.7842376955244468 and parameters: {'classifier': 'RF', 'rf_n_estimators': 513, 'rf_criterion': 'gini', 'rf_max_depth': 21}. Best is trial 13 with value: 0.7882939479155949.\u001b[0m\n",
            "\u001b[32m[I 2022-09-02 17:25:41,841]\u001b[0m Trial 15 finished with value: 0.7899487106191736 and parameters: {'classifier': 'RF', 'rf_n_estimators': 409, 'rf_criterion': 'gini', 'rf_max_depth': 22}. Best is trial 15 with value: 0.7899487106191736.\u001b[0m\n",
            "\u001b[32m[I 2022-09-02 17:25:51,067]\u001b[0m Trial 16 finished with value: 0.782089051359182 and parameters: {'classifier': 'RF', 'rf_n_estimators': 556, 'rf_criterion': 'gini', 'rf_max_depth': 23}. Best is trial 15 with value: 0.7899487106191736.\u001b[0m\n",
            "\u001b[32m[I 2022-09-02 17:25:58,891]\u001b[0m Trial 17 finished with value: 0.7831728625746309 and parameters: {'classifier': 'RF', 'rf_n_estimators': 480, 'rf_criterion': 'gini', 'rf_max_depth': 18}. Best is trial 15 with value: 0.7899487106191736.\u001b[0m\n",
            "\u001b[32m[I 2022-09-02 17:26:11,277]\u001b[0m Trial 18 finished with value: 0.7798191456441737 and parameters: {'classifier': 'RF', 'rf_n_estimators': 589, 'rf_criterion': 'entropy', 'rf_max_depth': 22}. Best is trial 15 with value: 0.7899487106191736.\u001b[0m\n",
            "\u001b[32m[I 2022-09-02 17:26:22,269]\u001b[0m Trial 19 finished with value: 0.7815703277959272 and parameters: {'classifier': 'RF', 'rf_n_estimators': 687, 'rf_criterion': 'gini', 'rf_max_depth': 16}. Best is trial 15 with value: 0.7899487106191736.\u001b[0m\n",
            "\u001b[32m[I 2022-09-02 17:26:29,855]\u001b[0m Trial 20 finished with value: 0.7826776956198876 and parameters: {'classifier': 'RF', 'rf_n_estimators': 458, 'rf_criterion': 'gini', 'rf_max_depth': 26}. Best is trial 15 with value: 0.7899487106191736.\u001b[0m\n",
            "\u001b[32m[I 2022-09-02 17:26:36,787]\u001b[0m Trial 21 finished with value: 0.7831728625746309 and parameters: {'classifier': 'RF', 'rf_n_estimators': 417, 'rf_criterion': 'gini', 'rf_max_depth': 21}. Best is trial 15 with value: 0.7899487106191736.\u001b[0m\n",
            "\u001b[32m[I 2022-09-02 17:26:43,647]\u001b[0m Trial 22 finished with value: 0.782089051359182 and parameters: {'classifier': 'RF', 'rf_n_estimators': 415, 'rf_criterion': 'gini', 'rf_max_depth': 20}. Best is trial 15 with value: 0.7899487106191736.\u001b[0m\n",
            "\u001b[32m[I 2022-09-02 17:26:52,474]\u001b[0m Trial 23 finished with value: 0.7870871909303964 and parameters: {'classifier': 'RF', 'rf_n_estimators': 539, 'rf_criterion': 'gini', 'rf_max_depth': 22}. Best is trial 15 with value: 0.7899487106191736.\u001b[0m\n",
            "\u001b[32m[I 2022-09-02 17:27:01,300]\u001b[0m Trial 24 finished with value: 0.7848341453317761 and parameters: {'classifier': 'RF', 'rf_n_estimators': 535, 'rf_criterion': 'gini', 'rf_max_depth': 24}. Best is trial 15 with value: 0.7899487106191736.\u001b[0m\n",
            "\u001b[32m[I 2022-09-02 17:27:10,797]\u001b[0m Trial 25 finished with value: 0.7809857914637548 and parameters: {'classifier': 'RF', 'rf_n_estimators': 581, 'rf_criterion': 'gini', 'rf_max_depth': 19}. Best is trial 15 with value: 0.7899487106191736.\u001b[0m\n",
            "\u001b[32m[I 2022-09-02 17:27:21,074]\u001b[0m Trial 26 finished with value: 0.7809857914637548 and parameters: {'classifier': 'RF', 'rf_n_estimators': 485, 'rf_criterion': 'entropy', 'rf_max_depth': 22}. Best is trial 15 with value: 0.7899487106191736.\u001b[0m\n",
            "\u001b[32m[I 2022-09-02 17:27:33,089]\u001b[0m Trial 27 finished with value: 0.7848341453317761 and parameters: {'classifier': 'RF', 'rf_n_estimators': 721, 'rf_criterion': 'gini', 'rf_max_depth': 25}. Best is trial 15 with value: 0.7899487106191736.\u001b[0m\n",
            "\u001b[32m[I 2022-09-02 17:27:43,925]\u001b[0m Trial 28 finished with value: 0.7815012403620846 and parameters: {'classifier': 'RF', 'rf_n_estimators': 676, 'rf_criterion': 'gini', 'rf_max_depth': 18}. Best is trial 15 with value: 0.7899487106191736.\u001b[0m\n",
            "\u001b[32m[I 2022-09-02 17:27:53,597]\u001b[0m Trial 29 finished with value: 0.7809857914637548 and parameters: {'classifier': 'RF', 'rf_n_estimators': 458, 'rf_criterion': 'entropy', 'rf_max_depth': 22}. Best is trial 15 with value: 0.7899487106191736.\u001b[0m\n",
            "\u001b[32m[I 2022-09-02 17:28:06,521]\u001b[0m Trial 30 finished with value: 0.782089051359182 and parameters: {'classifier': 'RF', 'rf_n_estimators': 784, 'rf_criterion': 'gini', 'rf_max_depth': 23}. Best is trial 15 with value: 0.7899487106191736.\u001b[0m\n",
            "\u001b[32m[I 2022-09-02 17:28:18,721]\u001b[0m Trial 31 finished with value: 0.7848341453317761 and parameters: {'classifier': 'RF', 'rf_n_estimators': 739, 'rf_criterion': 'gini', 'rf_max_depth': 25}. Best is trial 15 with value: 0.7899487106191736.\u001b[0m\n",
            "\u001b[32m[I 2022-09-02 17:28:31,105]\u001b[0m Trial 32 finished with value: 0.7832671894693408 and parameters: {'classifier': 'RF', 'rf_n_estimators': 749, 'rf_criterion': 'gini', 'rf_max_depth': 26}. Best is trial 15 with value: 0.7899487106191736.\u001b[0m\n",
            "\u001b[32m[I 2022-09-02 17:28:42,101]\u001b[0m Trial 33 finished with value: 0.7826776956198876 and parameters: {'classifier': 'RF', 'rf_n_estimators': 658, 'rf_criterion': 'gini', 'rf_max_depth': 24}. Best is trial 15 with value: 0.7899487106191736.\u001b[0m\n",
            "\u001b[32m[I 2022-09-02 17:28:59,077]\u001b[0m Trial 34 finished with value: 0.7815703277959272 and parameters: {'classifier': 'RF', 'rf_n_estimators': 789, 'rf_criterion': 'entropy', 'rf_max_depth': 23}. Best is trial 15 with value: 0.7899487106191736.\u001b[0m\n",
            "\u001b[32m[I 2022-09-02 17:29:07,543]\u001b[0m Trial 35 finished with value: 0.7860297120644247 and parameters: {'classifier': 'RF', 'rf_n_estimators': 514, 'rf_criterion': 'gini', 'rf_max_depth': 25}. Best is trial 15 with value: 0.7899487106191736.\u001b[0m\n",
            "\u001b[32m[I 2022-09-02 17:29:16,306]\u001b[0m Trial 36 finished with value: 0.7870871909303964 and parameters: {'classifier': 'RF', 'rf_n_estimators': 523, 'rf_criterion': 'gini', 'rf_max_depth': 28}. Best is trial 15 with value: 0.7899487106191736.\u001b[0m\n",
            "\u001b[32m[I 2022-09-02 17:29:26,375]\u001b[0m Trial 37 finished with value: 0.7837654762132548 and parameters: {'classifier': 'RF', 'rf_n_estimators': 596, 'rf_criterion': 'gini', 'rf_max_depth': 30}. Best is trial 15 with value: 0.7899487106191736.\u001b[0m\n",
            "\u001b[32m[I 2022-09-02 17:29:38,120]\u001b[0m Trial 38 finished with value: 0.7832671894693408 and parameters: {'classifier': 'RF', 'rf_n_estimators': 553, 'rf_criterion': 'entropy', 'rf_max_depth': 32}. Best is trial 15 with value: 0.7899487106191736.\u001b[0m\n",
            "\u001b[32m[I 2022-09-02 17:29:46,488]\u001b[0m Trial 39 finished with value: 0.782089051359182 and parameters: {'classifier': 'RF', 'rf_n_estimators': 500, 'rf_criterion': 'gini', 'rf_max_depth': 27}. Best is trial 15 with value: 0.7899487106191736.\u001b[0m\n",
            "\u001b[32m[I 2022-09-02 17:29:53,868]\u001b[0m Trial 40 finished with value: 0.7832671894693408 and parameters: {'classifier': 'RF', 'rf_n_estimators': 445, 'rf_criterion': 'gini', 'rf_max_depth': 20}. Best is trial 15 with value: 0.7899487106191736.\u001b[0m\n",
            "\u001b[32m[I 2022-09-02 17:30:02,651]\u001b[0m Trial 41 finished with value: 0.7848341453317761 and parameters: {'classifier': 'RF', 'rf_n_estimators': 523, 'rf_criterion': 'gini', 'rf_max_depth': 30}. Best is trial 15 with value: 0.7899487106191736.\u001b[0m\n",
            "\u001b[32m[I 2022-09-02 17:30:12,986]\u001b[0m Trial 42 finished with value: 0.7826776956198876 and parameters: {'classifier': 'RF', 'rf_n_estimators': 616, 'rf_criterion': 'gini', 'rf_max_depth': 27}. Best is trial 15 with value: 0.7899487106191736.\u001b[0m\n",
            "\u001b[32m[I 2022-09-02 17:30:22,404]\u001b[0m Trial 43 finished with value: 0.7837654762132548 and parameters: {'classifier': 'RF', 'rf_n_estimators': 561, 'rf_criterion': 'gini', 'rf_max_depth': 24}. Best is trial 15 with value: 0.7899487106191736.\u001b[0m\n",
            "\u001b[32m[I 2022-09-02 17:30:30,731]\u001b[0m Trial 44 finished with value: 0.7804020693960121 and parameters: {'classifier': 'RF', 'rf_n_estimators': 492, 'rf_criterion': 'gini', 'rf_max_depth': 29}. Best is trial 15 with value: 0.7899487106191736.\u001b[0m\n",
            "\u001b[32m[I 2022-09-02 17:30:39,637]\u001b[0m Trial 45 finished with value: 0.7870871909303964 and parameters: {'classifier': 'RF', 'rf_n_estimators': 531, 'rf_criterion': 'gini', 'rf_max_depth': 22}. Best is trial 15 with value: 0.7899487106191736.\u001b[0m\n",
            "\u001b[32m[I 2022-09-02 17:30:46,904]\u001b[0m Trial 46 finished with value: 0.7899487106191736 and parameters: {'classifier': 'RF', 'rf_n_estimators': 438, 'rf_criterion': 'gini', 'rf_max_depth': 22}. Best is trial 15 with value: 0.7899487106191736.\u001b[0m\n",
            "\u001b[32m[I 2022-09-02 17:30:53,990]\u001b[0m Trial 47 finished with value: 0.7825810997331559 and parameters: {'classifier': 'RF', 'rf_n_estimators': 428, 'rf_criterion': 'gini', 'rf_max_depth': 21}. Best is trial 15 with value: 0.7899487106191736.\u001b[0m\n",
            "\u001b[32m[I 2022-09-02 17:31:01,716]\u001b[0m Trial 48 finished with value: 0.782089051359182 and parameters: {'classifier': 'RF', 'rf_n_estimators': 474, 'rf_criterion': 'gini', 'rf_max_depth': 20}. Best is trial 15 with value: 0.7899487106191736.\u001b[0m\n",
            "\u001b[32m[I 2022-09-02 17:31:10,779]\u001b[0m Trial 49 finished with value: 0.7815703277959272 and parameters: {'classifier': 'RF', 'rf_n_estimators': 433, 'rf_criterion': 'entropy', 'rf_max_depth': 22}. Best is trial 15 with value: 0.7899487106191736.\u001b[0m\n",
            "\u001b[32m[I 2022-09-02 17:31:25,836]\u001b[0m Trial 50 finished with value: 0.7809857914637548 and parameters: {'classifier': 'RF', 'rf_n_estimators': 916, 'rf_criterion': 'gini', 'rf_max_depth': 19}. Best is trial 15 with value: 0.7899487106191736.\u001b[0m\n",
            "\u001b[32m[I 2022-09-02 17:31:34,847]\u001b[0m Trial 51 finished with value: 0.782089051359182 and parameters: {'classifier': 'RF', 'rf_n_estimators': 545, 'rf_criterion': 'gini', 'rf_max_depth': 23}. Best is trial 15 with value: 0.7899487106191736.\u001b[0m\n",
            "\u001b[32m[I 2022-09-02 17:31:41,456]\u001b[0m Trial 52 finished with value: 0.7882939479155949 and parameters: {'classifier': 'RF', 'rf_n_estimators': 400, 'rf_criterion': 'gini', 'rf_max_depth': 22}. Best is trial 15 with value: 0.7899487106191736.\u001b[0m\n",
            "\u001b[32m[I 2022-09-02 17:31:48,227]\u001b[0m Trial 53 finished with value: 0.7848341453317761 and parameters: {'classifier': 'RF', 'rf_n_estimators': 408, 'rf_criterion': 'gini', 'rf_max_depth': 21}. Best is trial 15 with value: 0.7899487106191736.\u001b[0m\n",
            "\u001b[32m[I 2022-09-02 17:31:56,049]\u001b[0m Trial 54 finished with value: 0.7893402365290165 and parameters: {'classifier': 'RF', 'rf_n_estimators': 464, 'rf_criterion': 'gini', 'rf_max_depth': 22}. Best is trial 15 with value: 0.7899487106191736.\u001b[0m\n",
            "\u001b[32m[I 2022-09-02 17:32:03,641]\u001b[0m Trial 55 finished with value: 0.7826776956198876 and parameters: {'classifier': 'RF', 'rf_n_estimators': 460, 'rf_criterion': 'gini', 'rf_max_depth': 23}. Best is trial 15 with value: 0.7899487106191736.\u001b[0m\n",
            "\u001b[32m[I 2022-09-02 17:32:10,956]\u001b[0m Trial 56 finished with value: 0.7882939479155949 and parameters: {'classifier': 'RF', 'rf_n_estimators': 441, 'rf_criterion': 'gini', 'rf_max_depth': 22}. Best is trial 15 with value: 0.7899487106191736.\u001b[0m\n",
            "\u001b[32m[I 2022-09-02 17:32:18,378]\u001b[0m Trial 57 finished with value: 0.7854314785894784 and parameters: {'classifier': 'RF', 'rf_n_estimators': 439, 'rf_criterion': 'gini', 'rf_max_depth': 21}. Best is trial 15 with value: 0.7899487106191736.\u001b[0m\n",
            "\u001b[32m[I 2022-09-02 17:32:24,963]\u001b[0m Trial 58 finished with value: 0.782089051359182 and parameters: {'classifier': 'RF', 'rf_n_estimators': 400, 'rf_criterion': 'gini', 'rf_max_depth': 20}. Best is trial 15 with value: 0.7899487106191736.\u001b[0m\n",
            "\u001b[32m[I 2022-09-02 17:32:32,848]\u001b[0m Trial 59 finished with value: 0.7854314785894784 and parameters: {'classifier': 'RF', 'rf_n_estimators': 474, 'rf_criterion': 'gini', 'rf_max_depth': 24}. Best is trial 15 with value: 0.7899487106191736.\u001b[0m\n",
            "\u001b[32m[I 2022-09-02 17:32:39,768]\u001b[0m Trial 60 finished with value: 0.7787043934581689 and parameters: {'classifier': 'RF', 'rf_n_estimators': 424, 'rf_criterion': 'gini', 'rf_max_depth': 19}. Best is trial 15 with value: 0.7899487106191736.\u001b[0m\n",
            "\u001b[32m[I 2022-09-02 17:32:47,363]\u001b[0m Trial 61 finished with value: 0.7876900946043259 and parameters: {'classifier': 'RF', 'rf_n_estimators': 461, 'rf_criterion': 'gini', 'rf_max_depth': 22}. Best is trial 15 with value: 0.7899487106191736.\u001b[0m\n",
            "\u001b[32m[I 2022-09-02 17:32:54,847]\u001b[0m Trial 62 finished with value: 0.7899487106191736 and parameters: {'classifier': 'RF', 'rf_n_estimators': 453, 'rf_criterion': 'gini', 'rf_max_depth': 22}. Best is trial 15 with value: 0.7899487106191736.\u001b[0m\n",
            "\u001b[32m[I 2022-09-02 17:33:01,458]\u001b[0m Trial 63 finished with value: 0.7848341453317761 and parameters: {'classifier': 'RF', 'rf_n_estimators': 401, 'rf_criterion': 'gini', 'rf_max_depth': 21}. Best is trial 15 with value: 0.7899487106191736.\u001b[0m\n",
            "\u001b[32m[I 2022-09-02 17:33:08,732]\u001b[0m Trial 64 finished with value: 0.7882939479155949 and parameters: {'classifier': 'RF', 'rf_n_estimators': 441, 'rf_criterion': 'gini', 'rf_max_depth': 22}. Best is trial 15 with value: 0.7899487106191736.\u001b[0m\n",
            "\u001b[32m[I 2022-09-02 17:33:17,026]\u001b[0m Trial 65 finished with value: 0.7860297120644247 and parameters: {'classifier': 'RF', 'rf_n_estimators': 499, 'rf_criterion': 'gini', 'rf_max_depth': 23}. Best is trial 15 with value: 0.7899487106191736.\u001b[0m\n",
            "\u001b[32m[I 2022-09-02 17:33:26,362]\u001b[0m Trial 66 finished with value: 0.7809857914637548 and parameters: {'classifier': 'RF', 'rf_n_estimators': 444, 'rf_criterion': 'entropy', 'rf_max_depth': 20}. Best is trial 15 with value: 0.7899487106191736.\u001b[0m\n",
            "\u001b[32m[I 2022-09-02 17:33:33,266]\u001b[0m Trial 67 finished with value: 0.7831728625746309 and parameters: {'classifier': 'RF', 'rf_n_estimators': 422, 'rf_criterion': 'gini', 'rf_max_depth': 18}. Best is trial 15 with value: 0.7899487106191736.\u001b[0m\n",
            "\u001b[32m[I 2022-09-02 17:33:41,277]\u001b[0m Trial 68 finished with value: 0.7854314785894784 and parameters: {'classifier': 'RF', 'rf_n_estimators': 480, 'rf_criterion': 'gini', 'rf_max_depth': 24}. Best is trial 15 with value: 0.7899487106191736.\u001b[0m\n",
            "\u001b[32m[I 2022-09-02 17:33:48,673]\u001b[0m Trial 69 finished with value: 0.7832671894693408 and parameters: {'classifier': 'RF', 'rf_n_estimators': 447, 'rf_criterion': 'gini', 'rf_max_depth': 23}. Best is trial 15 with value: 0.7899487106191736.\u001b[0m\n",
            "\u001b[32m[I 2022-09-02 17:33:56,565]\u001b[0m Trial 70 finished with value: 0.7831728625746309 and parameters: {'classifier': 'RF', 'rf_n_estimators': 472, 'rf_criterion': 'gini', 'rf_max_depth': 21}. Best is trial 15 with value: 0.7899487106191736.\u001b[0m\n",
            "\u001b[32m[I 2022-09-02 17:34:03,670]\u001b[0m Trial 71 finished with value: 0.7899487106191736 and parameters: {'classifier': 'RF', 'rf_n_estimators': 425, 'rf_criterion': 'gini', 'rf_max_depth': 22}. Best is trial 15 with value: 0.7899487106191736.\u001b[0m\n",
            "\u001b[32m[I 2022-09-02 17:34:10,681]\u001b[0m Trial 72 finished with value: 0.7899487106191736 and parameters: {'classifier': 'RF', 'rf_n_estimators': 426, 'rf_criterion': 'gini', 'rf_max_depth': 22}. Best is trial 15 with value: 0.7899487106191736.\u001b[0m\n",
            "\u001b[32m[I 2022-09-02 17:34:17,787]\u001b[0m Trial 73 finished with value: 0.7899487106191736 and parameters: {'classifier': 'RF', 'rf_n_estimators': 425, 'rf_criterion': 'gini', 'rf_max_depth': 22}. Best is trial 15 with value: 0.7899487106191736.\u001b[0m\n",
            "\u001b[32m[I 2022-09-02 17:34:24,801]\u001b[0m Trial 74 finished with value: 0.7832671894693408 and parameters: {'classifier': 'RF', 'rf_n_estimators': 420, 'rf_criterion': 'gini', 'rf_max_depth': 23}. Best is trial 15 with value: 0.7899487106191736.\u001b[0m\n",
            "\u001b[32m[I 2022-09-02 17:34:32,495]\u001b[0m Trial 75 finished with value: 0.7893402365290165 and parameters: {'classifier': 'RF', 'rf_n_estimators': 464, 'rf_criterion': 'gini', 'rf_max_depth': 22}. Best is trial 15 with value: 0.7899487106191736.\u001b[0m\n",
            "\u001b[32m[I 2022-09-02 17:34:40,219]\u001b[0m Trial 76 finished with value: 0.7831728625746309 and parameters: {'classifier': 'RF', 'rf_n_estimators': 463, 'rf_criterion': 'gini', 'rf_max_depth': 21}. Best is trial 15 with value: 0.7899487106191736.\u001b[0m\n",
            "\u001b[32m[I 2022-09-02 17:34:48,382]\u001b[0m Trial 77 finished with value: 0.7848341453317761 and parameters: {'classifier': 'RF', 'rf_n_estimators': 491, 'rf_criterion': 'gini', 'rf_max_depth': 24}. Best is trial 15 with value: 0.7899487106191736.\u001b[0m\n",
            "\u001b[32m[I 2022-09-02 17:34:59,020]\u001b[0m Trial 78 finished with value: 0.782089051359182 and parameters: {'classifier': 'RF', 'rf_n_estimators': 509, 'rf_criterion': 'entropy', 'rf_max_depth': 21}. Best is trial 15 with value: 0.7899487106191736.\u001b[0m\n",
            "\u001b[32m[I 2022-09-02 17:35:05,965]\u001b[0m Trial 79 finished with value: 0.782089051359182 and parameters: {'classifier': 'RF', 'rf_n_estimators': 418, 'rf_criterion': 'gini', 'rf_max_depth': 20}. Best is trial 15 with value: 0.7899487106191736.\u001b[0m\n",
            "\u001b[32m[I 2022-09-02 17:35:13,619]\u001b[0m Trial 80 finished with value: 0.7831728625746309 and parameters: {'classifier': 'RF', 'rf_n_estimators': 456, 'rf_criterion': 'gini', 'rf_max_depth': 25}. Best is trial 15 with value: 0.7899487106191736.\u001b[0m\n",
            "\u001b[32m[I 2022-09-02 17:35:20,882]\u001b[0m Trial 81 finished with value: 0.7899487106191736 and parameters: {'classifier': 'RF', 'rf_n_estimators': 435, 'rf_criterion': 'gini', 'rf_max_depth': 22}. Best is trial 15 with value: 0.7899487106191736.\u001b[0m\n",
            "\u001b[32m[I 2022-09-02 17:35:28,156]\u001b[0m Trial 82 finished with value: 0.7899487106191736 and parameters: {'classifier': 'RF', 'rf_n_estimators': 434, 'rf_criterion': 'gini', 'rf_max_depth': 22}. Best is trial 15 with value: 0.7899487106191736.\u001b[0m\n",
            "\u001b[32m[I 2022-09-02 17:35:35,325]\u001b[0m Trial 83 finished with value: 0.7832671894693408 and parameters: {'classifier': 'RF', 'rf_n_estimators': 430, 'rf_criterion': 'gini', 'rf_max_depth': 23}. Best is trial 15 with value: 0.7899487106191736.\u001b[0m\n",
            "\u001b[32m[I 2022-09-02 17:35:42,259]\u001b[0m Trial 84 finished with value: 0.7882939479155949 and parameters: {'classifier': 'RF', 'rf_n_estimators': 414, 'rf_criterion': 'gini', 'rf_max_depth': 22}. Best is trial 15 with value: 0.7899487106191736.\u001b[0m\n",
            "\u001b[32m[I 2022-09-02 17:35:49,307]\u001b[0m Trial 85 finished with value: 0.7825810997331559 and parameters: {'classifier': 'RF', 'rf_n_estimators': 429, 'rf_criterion': 'gini', 'rf_max_depth': 21}. Best is trial 15 with value: 0.7899487106191736.\u001b[0m\n",
            "\u001b[32m[I 2022-09-02 17:35:56,760]\u001b[0m Trial 86 finished with value: 0.7832671894693408 and parameters: {'classifier': 'RF', 'rf_n_estimators': 450, 'rf_criterion': 'gini', 'rf_max_depth': 23}. Best is trial 15 with value: 0.7899487106191736.\u001b[0m\n",
            "\u001b[32m[I 2022-09-02 17:36:04,837]\u001b[0m Trial 87 finished with value: 0.7860297120644247 and parameters: {'classifier': 'RF', 'rf_n_estimators': 485, 'rf_criterion': 'gini', 'rf_max_depth': 22}. Best is trial 15 with value: 0.7899487106191736.\u001b[0m\n",
            "\u001b[32m[I 2022-09-02 17:36:11,558]\u001b[0m Trial 88 finished with value: 0.782089051359182 and parameters: {'classifier': 'RF', 'rf_n_estimators': 408, 'rf_criterion': 'gini', 'rf_max_depth': 20}. Best is trial 15 with value: 0.7899487106191736.\u001b[0m\n",
            "\u001b[32m[I 2022-09-02 17:36:25,726]\u001b[0m Trial 89 finished with value: 0.782089051359182 and parameters: {'classifier': 'RF', 'rf_n_estimators': 852, 'rf_criterion': 'gini', 'rf_max_depth': 24}. Best is trial 15 with value: 0.7899487106191736.\u001b[0m\n",
            "\u001b[32m[I 2022-09-02 17:36:34,995]\u001b[0m Trial 90 finished with value: 0.7815703277959272 and parameters: {'classifier': 'RF', 'rf_n_estimators': 435, 'rf_criterion': 'entropy', 'rf_max_depth': 23}. Best is trial 15 with value: 0.7899487106191736.\u001b[0m\n",
            "\u001b[32m[I 2022-09-02 17:36:42,807]\u001b[0m Trial 91 finished with value: 0.7893402365290165 and parameters: {'classifier': 'RF', 'rf_n_estimators': 470, 'rf_criterion': 'gini', 'rf_max_depth': 22}. Best is trial 15 with value: 0.7899487106191736.\u001b[0m\n",
            "\u001b[32m[I 2022-09-02 17:36:50,610]\u001b[0m Trial 92 finished with value: 0.7893402365290165 and parameters: {'classifier': 'RF', 'rf_n_estimators': 472, 'rf_criterion': 'gini', 'rf_max_depth': 22}. Best is trial 15 with value: 0.7899487106191736.\u001b[0m\n",
            "\u001b[32m[I 2022-09-02 17:36:57,615]\u001b[0m Trial 93 finished with value: 0.7764139533747949 and parameters: {'classifier': 'RF', 'rf_n_estimators': 453, 'rf_criterion': 'gini', 'rf_max_depth': 15}. Best is trial 15 with value: 0.7899487106191736.\u001b[0m\n",
            "\u001b[32m[I 2022-09-02 17:37:05,956]\u001b[0m Trial 94 finished with value: 0.7809142465597833 and parameters: {'classifier': 'RF', 'rf_n_estimators': 507, 'rf_criterion': 'gini', 'rf_max_depth': 21}. Best is trial 15 with value: 0.7899487106191736.\u001b[0m\n",
            "\u001b[32m[I 2022-09-02 17:37:12,837]\u001b[0m Trial 95 finished with value: 0.7876900946043259 and parameters: {'classifier': 'RF', 'rf_n_estimators': 416, 'rf_criterion': 'gini', 'rf_max_depth': 22}. Best is trial 15 with value: 0.7899487106191736.\u001b[0m\n",
            "\u001b[32m[I 2022-09-02 17:37:21,035]\u001b[0m Trial 96 finished with value: 0.7792370045109146 and parameters: {'classifier': 'RF', 'rf_n_estimators': 489, 'rf_criterion': 'gini', 'rf_max_depth': 21}. Best is trial 15 with value: 0.7899487106191736.\u001b[0m\n",
            "\u001b[32m[I 2022-09-02 17:37:29,144]\u001b[0m Trial 97 finished with value: 0.7826776956198876 and parameters: {'classifier': 'RF', 'rf_n_estimators': 472, 'rf_criterion': 'gini', 'rf_max_depth': 23}. Best is trial 15 with value: 0.7899487106191736.\u001b[0m\n",
            "\u001b[32m[I 2022-09-02 17:37:36,644]\u001b[0m Trial 98 finished with value: 0.7899487106191736 and parameters: {'classifier': 'RF', 'rf_n_estimators': 434, 'rf_criterion': 'gini', 'rf_max_depth': 22}. Best is trial 15 with value: 0.7899487106191736.\u001b[0m\n",
            "\u001b[32m[I 2022-09-02 17:37:44,268]\u001b[0m Trial 99 finished with value: 0.7815703277959272 and parameters: {'classifier': 'RF', 'rf_n_estimators': 435, 'rf_criterion': 'gini', 'rf_max_depth': 23}. Best is trial 15 with value: 0.7899487106191736.\u001b[0m\n"
          ]
        }
      ]
    },
    {
      "cell_type": "code",
      "source": [
        "optuna.visualization.plot_optimization_history(study_rf).show()"
      ],
      "metadata": {
        "colab": {
          "base_uri": "https://localhost:8080/",
          "height": 542
        },
        "id": "sx-r2s2bSZFW",
        "outputId": "2ccd0314-4b12-4bba-bec1-eb93149c9d35"
      },
      "execution_count": null,
      "outputs": [
        {
          "output_type": "display_data",
          "data": {
            "text/html": [
              "<html>\n",
              "<head><meta charset=\"utf-8\" /></head>\n",
              "<body>\n",
              "    <div>            <script src=\"https://cdnjs.cloudflare.com/ajax/libs/mathjax/2.7.5/MathJax.js?config=TeX-AMS-MML_SVG\"></script><script type=\"text/javascript\">if (window.MathJax) {MathJax.Hub.Config({SVG: {font: \"STIX-Web\"}});}</script>                <script type=\"text/javascript\">window.PlotlyConfig = {MathJaxConfig: 'local'};</script>\n",
              "        <script src=\"https://cdn.plot.ly/plotly-2.8.3.min.js\"></script>                <div id=\"1c2cb18f-2f7f-4415-8eef-3355ba8bc48e\" class=\"plotly-graph-div\" style=\"height:525px; width:100%;\"></div>            <script type=\"text/javascript\">                                    window.PLOTLYENV=window.PLOTLYENV || {};                                    if (document.getElementById(\"1c2cb18f-2f7f-4415-8eef-3355ba8bc48e\")) {                    Plotly.newPlot(                        \"1c2cb18f-2f7f-4415-8eef-3355ba8bc48e\",                        [{\"mode\":\"markers\",\"name\":\"Objective Value\",\"x\":[0,1,2,3,4,5,6,7,8,9,10,11,12,13,14,15,16,17,18,19,20,21,22,23,24,25,26,27,28,29,30,31,32,33,34,35,36,37,38,39,40,41,42,43,44,45,46,47,48,49,50,51,52,53,54,55,56,57,58,59,60,61,62,63,64,65,66,67,68,69,70,71,72,73,74,75,76,77,78,79,80,81,82,83,84,85,86,87,88,89,90,91,92,93,94,95,96,97,98,99],\"y\":[0.7815703277959272,0.7781256981188157,0.7815703277959272,0.7809142465597833,0.7815012403620846,0.7758448260605746,0.7842376955244468,0.782089051359182,0.782089051359182,0.782089051359182,0.7809857914637548,0.7809857914637548,0.7848341453317761,0.7882939479155949,0.7842376955244468,0.7899487106191736,0.782089051359182,0.7831728625746309,0.7798191456441737,0.7815703277959272,0.7826776956198876,0.7831728625746309,0.782089051359182,0.7870871909303964,0.7848341453317761,0.7809857914637548,0.7809857914637548,0.7848341453317761,0.7815012403620846,0.7809857914637548,0.782089051359182,0.7848341453317761,0.7832671894693408,0.7826776956198876,0.7815703277959272,0.7860297120644247,0.7870871909303964,0.7837654762132548,0.7832671894693408,0.782089051359182,0.7832671894693408,0.7848341453317761,0.7826776956198876,0.7837654762132548,0.7804020693960121,0.7870871909303964,0.7899487106191736,0.7825810997331559,0.782089051359182,0.7815703277959272,0.7809857914637548,0.782089051359182,0.7882939479155949,0.7848341453317761,0.7893402365290165,0.7826776956198876,0.7882939479155949,0.7854314785894784,0.782089051359182,0.7854314785894784,0.7787043934581689,0.7876900946043259,0.7899487106191736,0.7848341453317761,0.7882939479155949,0.7860297120644247,0.7809857914637548,0.7831728625746309,0.7854314785894784,0.7832671894693408,0.7831728625746309,0.7899487106191736,0.7899487106191736,0.7899487106191736,0.7832671894693408,0.7893402365290165,0.7831728625746309,0.7848341453317761,0.782089051359182,0.782089051359182,0.7831728625746309,0.7899487106191736,0.7899487106191736,0.7832671894693408,0.7882939479155949,0.7825810997331559,0.7832671894693408,0.7860297120644247,0.782089051359182,0.782089051359182,0.7815703277959272,0.7893402365290165,0.7893402365290165,0.7764139533747949,0.7809142465597833,0.7876900946043259,0.7792370045109146,0.7826776956198876,0.7899487106191736,0.7815703277959272],\"type\":\"scatter\"},{\"name\":\"Best Value\",\"x\":[0,1,2,3,4,5,6,7,8,9,10,11,12,13,14,15,16,17,18,19,20,21,22,23,24,25,26,27,28,29,30,31,32,33,34,35,36,37,38,39,40,41,42,43,44,45,46,47,48,49,50,51,52,53,54,55,56,57,58,59,60,61,62,63,64,65,66,67,68,69,70,71,72,73,74,75,76,77,78,79,80,81,82,83,84,85,86,87,88,89,90,91,92,93,94,95,96,97,98,99],\"y\":[0.7815703277959272,0.7815703277959272,0.7815703277959272,0.7815703277959272,0.7815703277959272,0.7815703277959272,0.7842376955244468,0.7842376955244468,0.7842376955244468,0.7842376955244468,0.7842376955244468,0.7842376955244468,0.7848341453317761,0.7882939479155949,0.7882939479155949,0.7899487106191736,0.7899487106191736,0.7899487106191736,0.7899487106191736,0.7899487106191736,0.7899487106191736,0.7899487106191736,0.7899487106191736,0.7899487106191736,0.7899487106191736,0.7899487106191736,0.7899487106191736,0.7899487106191736,0.7899487106191736,0.7899487106191736,0.7899487106191736,0.7899487106191736,0.7899487106191736,0.7899487106191736,0.7899487106191736,0.7899487106191736,0.7899487106191736,0.7899487106191736,0.7899487106191736,0.7899487106191736,0.7899487106191736,0.7899487106191736,0.7899487106191736,0.7899487106191736,0.7899487106191736,0.7899487106191736,0.7899487106191736,0.7899487106191736,0.7899487106191736,0.7899487106191736,0.7899487106191736,0.7899487106191736,0.7899487106191736,0.7899487106191736,0.7899487106191736,0.7899487106191736,0.7899487106191736,0.7899487106191736,0.7899487106191736,0.7899487106191736,0.7899487106191736,0.7899487106191736,0.7899487106191736,0.7899487106191736,0.7899487106191736,0.7899487106191736,0.7899487106191736,0.7899487106191736,0.7899487106191736,0.7899487106191736,0.7899487106191736,0.7899487106191736,0.7899487106191736,0.7899487106191736,0.7899487106191736,0.7899487106191736,0.7899487106191736,0.7899487106191736,0.7899487106191736,0.7899487106191736,0.7899487106191736,0.7899487106191736,0.7899487106191736,0.7899487106191736,0.7899487106191736,0.7899487106191736,0.7899487106191736,0.7899487106191736,0.7899487106191736,0.7899487106191736,0.7899487106191736,0.7899487106191736,0.7899487106191736,0.7899487106191736,0.7899487106191736,0.7899487106191736,0.7899487106191736,0.7899487106191736,0.7899487106191736,0.7899487106191736],\"type\":\"scatter\"}],                        {\"title\":{\"text\":\"Optimization History Plot\"},\"xaxis\":{\"title\":{\"text\":\"Trial\"}},\"yaxis\":{\"title\":{\"text\":\"Objective Value\"}},\"template\":{\"data\":{\"bar\":[{\"error_x\":{\"color\":\"#2a3f5f\"},\"error_y\":{\"color\":\"#2a3f5f\"},\"marker\":{\"line\":{\"color\":\"#E5ECF6\",\"width\":0.5},\"pattern\":{\"fillmode\":\"overlay\",\"size\":10,\"solidity\":0.2}},\"type\":\"bar\"}],\"barpolar\":[{\"marker\":{\"line\":{\"color\":\"#E5ECF6\",\"width\":0.5},\"pattern\":{\"fillmode\":\"overlay\",\"size\":10,\"solidity\":0.2}},\"type\":\"barpolar\"}],\"carpet\":[{\"aaxis\":{\"endlinecolor\":\"#2a3f5f\",\"gridcolor\":\"white\",\"linecolor\":\"white\",\"minorgridcolor\":\"white\",\"startlinecolor\":\"#2a3f5f\"},\"baxis\":{\"endlinecolor\":\"#2a3f5f\",\"gridcolor\":\"white\",\"linecolor\":\"white\",\"minorgridcolor\":\"white\",\"startlinecolor\":\"#2a3f5f\"},\"type\":\"carpet\"}],\"choropleth\":[{\"colorbar\":{\"outlinewidth\":0,\"ticks\":\"\"},\"type\":\"choropleth\"}],\"contour\":[{\"colorbar\":{\"outlinewidth\":0,\"ticks\":\"\"},\"colorscale\":[[0.0,\"#0d0887\"],[0.1111111111111111,\"#46039f\"],[0.2222222222222222,\"#7201a8\"],[0.3333333333333333,\"#9c179e\"],[0.4444444444444444,\"#bd3786\"],[0.5555555555555556,\"#d8576b\"],[0.6666666666666666,\"#ed7953\"],[0.7777777777777778,\"#fb9f3a\"],[0.8888888888888888,\"#fdca26\"],[1.0,\"#f0f921\"]],\"type\":\"contour\"}],\"contourcarpet\":[{\"colorbar\":{\"outlinewidth\":0,\"ticks\":\"\"},\"type\":\"contourcarpet\"}],\"heatmap\":[{\"colorbar\":{\"outlinewidth\":0,\"ticks\":\"\"},\"colorscale\":[[0.0,\"#0d0887\"],[0.1111111111111111,\"#46039f\"],[0.2222222222222222,\"#7201a8\"],[0.3333333333333333,\"#9c179e\"],[0.4444444444444444,\"#bd3786\"],[0.5555555555555556,\"#d8576b\"],[0.6666666666666666,\"#ed7953\"],[0.7777777777777778,\"#fb9f3a\"],[0.8888888888888888,\"#fdca26\"],[1.0,\"#f0f921\"]],\"type\":\"heatmap\"}],\"heatmapgl\":[{\"colorbar\":{\"outlinewidth\":0,\"ticks\":\"\"},\"colorscale\":[[0.0,\"#0d0887\"],[0.1111111111111111,\"#46039f\"],[0.2222222222222222,\"#7201a8\"],[0.3333333333333333,\"#9c179e\"],[0.4444444444444444,\"#bd3786\"],[0.5555555555555556,\"#d8576b\"],[0.6666666666666666,\"#ed7953\"],[0.7777777777777778,\"#fb9f3a\"],[0.8888888888888888,\"#fdca26\"],[1.0,\"#f0f921\"]],\"type\":\"heatmapgl\"}],\"histogram\":[{\"marker\":{\"pattern\":{\"fillmode\":\"overlay\",\"size\":10,\"solidity\":0.2}},\"type\":\"histogram\"}],\"histogram2d\":[{\"colorbar\":{\"outlinewidth\":0,\"ticks\":\"\"},\"colorscale\":[[0.0,\"#0d0887\"],[0.1111111111111111,\"#46039f\"],[0.2222222222222222,\"#7201a8\"],[0.3333333333333333,\"#9c179e\"],[0.4444444444444444,\"#bd3786\"],[0.5555555555555556,\"#d8576b\"],[0.6666666666666666,\"#ed7953\"],[0.7777777777777778,\"#fb9f3a\"],[0.8888888888888888,\"#fdca26\"],[1.0,\"#f0f921\"]],\"type\":\"histogram2d\"}],\"histogram2dcontour\":[{\"colorbar\":{\"outlinewidth\":0,\"ticks\":\"\"},\"colorscale\":[[0.0,\"#0d0887\"],[0.1111111111111111,\"#46039f\"],[0.2222222222222222,\"#7201a8\"],[0.3333333333333333,\"#9c179e\"],[0.4444444444444444,\"#bd3786\"],[0.5555555555555556,\"#d8576b\"],[0.6666666666666666,\"#ed7953\"],[0.7777777777777778,\"#fb9f3a\"],[0.8888888888888888,\"#fdca26\"],[1.0,\"#f0f921\"]],\"type\":\"histogram2dcontour\"}],\"mesh3d\":[{\"colorbar\":{\"outlinewidth\":0,\"ticks\":\"\"},\"type\":\"mesh3d\"}],\"parcoords\":[{\"line\":{\"colorbar\":{\"outlinewidth\":0,\"ticks\":\"\"}},\"type\":\"parcoords\"}],\"pie\":[{\"automargin\":true,\"type\":\"pie\"}],\"scatter\":[{\"marker\":{\"colorbar\":{\"outlinewidth\":0,\"ticks\":\"\"}},\"type\":\"scatter\"}],\"scatter3d\":[{\"line\":{\"colorbar\":{\"outlinewidth\":0,\"ticks\":\"\"}},\"marker\":{\"colorbar\":{\"outlinewidth\":0,\"ticks\":\"\"}},\"type\":\"scatter3d\"}],\"scattercarpet\":[{\"marker\":{\"colorbar\":{\"outlinewidth\":0,\"ticks\":\"\"}},\"type\":\"scattercarpet\"}],\"scattergeo\":[{\"marker\":{\"colorbar\":{\"outlinewidth\":0,\"ticks\":\"\"}},\"type\":\"scattergeo\"}],\"scattergl\":[{\"marker\":{\"colorbar\":{\"outlinewidth\":0,\"ticks\":\"\"}},\"type\":\"scattergl\"}],\"scattermapbox\":[{\"marker\":{\"colorbar\":{\"outlinewidth\":0,\"ticks\":\"\"}},\"type\":\"scattermapbox\"}],\"scatterpolar\":[{\"marker\":{\"colorbar\":{\"outlinewidth\":0,\"ticks\":\"\"}},\"type\":\"scatterpolar\"}],\"scatterpolargl\":[{\"marker\":{\"colorbar\":{\"outlinewidth\":0,\"ticks\":\"\"}},\"type\":\"scatterpolargl\"}],\"scatterternary\":[{\"marker\":{\"colorbar\":{\"outlinewidth\":0,\"ticks\":\"\"}},\"type\":\"scatterternary\"}],\"surface\":[{\"colorbar\":{\"outlinewidth\":0,\"ticks\":\"\"},\"colorscale\":[[0.0,\"#0d0887\"],[0.1111111111111111,\"#46039f\"],[0.2222222222222222,\"#7201a8\"],[0.3333333333333333,\"#9c179e\"],[0.4444444444444444,\"#bd3786\"],[0.5555555555555556,\"#d8576b\"],[0.6666666666666666,\"#ed7953\"],[0.7777777777777778,\"#fb9f3a\"],[0.8888888888888888,\"#fdca26\"],[1.0,\"#f0f921\"]],\"type\":\"surface\"}],\"table\":[{\"cells\":{\"fill\":{\"color\":\"#EBF0F8\"},\"line\":{\"color\":\"white\"}},\"header\":{\"fill\":{\"color\":\"#C8D4E3\"},\"line\":{\"color\":\"white\"}},\"type\":\"table\"}]},\"layout\":{\"annotationdefaults\":{\"arrowcolor\":\"#2a3f5f\",\"arrowhead\":0,\"arrowwidth\":1},\"autotypenumbers\":\"strict\",\"coloraxis\":{\"colorbar\":{\"outlinewidth\":0,\"ticks\":\"\"}},\"colorscale\":{\"diverging\":[[0,\"#8e0152\"],[0.1,\"#c51b7d\"],[0.2,\"#de77ae\"],[0.3,\"#f1b6da\"],[0.4,\"#fde0ef\"],[0.5,\"#f7f7f7\"],[0.6,\"#e6f5d0\"],[0.7,\"#b8e186\"],[0.8,\"#7fbc41\"],[0.9,\"#4d9221\"],[1,\"#276419\"]],\"sequential\":[[0.0,\"#0d0887\"],[0.1111111111111111,\"#46039f\"],[0.2222222222222222,\"#7201a8\"],[0.3333333333333333,\"#9c179e\"],[0.4444444444444444,\"#bd3786\"],[0.5555555555555556,\"#d8576b\"],[0.6666666666666666,\"#ed7953\"],[0.7777777777777778,\"#fb9f3a\"],[0.8888888888888888,\"#fdca26\"],[1.0,\"#f0f921\"]],\"sequentialminus\":[[0.0,\"#0d0887\"],[0.1111111111111111,\"#46039f\"],[0.2222222222222222,\"#7201a8\"],[0.3333333333333333,\"#9c179e\"],[0.4444444444444444,\"#bd3786\"],[0.5555555555555556,\"#d8576b\"],[0.6666666666666666,\"#ed7953\"],[0.7777777777777778,\"#fb9f3a\"],[0.8888888888888888,\"#fdca26\"],[1.0,\"#f0f921\"]]},\"colorway\":[\"#636efa\",\"#EF553B\",\"#00cc96\",\"#ab63fa\",\"#FFA15A\",\"#19d3f3\",\"#FF6692\",\"#B6E880\",\"#FF97FF\",\"#FECB52\"],\"font\":{\"color\":\"#2a3f5f\"},\"geo\":{\"bgcolor\":\"white\",\"lakecolor\":\"white\",\"landcolor\":\"#E5ECF6\",\"showlakes\":true,\"showland\":true,\"subunitcolor\":\"white\"},\"hoverlabel\":{\"align\":\"left\"},\"hovermode\":\"closest\",\"mapbox\":{\"style\":\"light\"},\"paper_bgcolor\":\"white\",\"plot_bgcolor\":\"#E5ECF6\",\"polar\":{\"angularaxis\":{\"gridcolor\":\"white\",\"linecolor\":\"white\",\"ticks\":\"\"},\"bgcolor\":\"#E5ECF6\",\"radialaxis\":{\"gridcolor\":\"white\",\"linecolor\":\"white\",\"ticks\":\"\"}},\"scene\":{\"xaxis\":{\"backgroundcolor\":\"#E5ECF6\",\"gridcolor\":\"white\",\"gridwidth\":2,\"linecolor\":\"white\",\"showbackground\":true,\"ticks\":\"\",\"zerolinecolor\":\"white\"},\"yaxis\":{\"backgroundcolor\":\"#E5ECF6\",\"gridcolor\":\"white\",\"gridwidth\":2,\"linecolor\":\"white\",\"showbackground\":true,\"ticks\":\"\",\"zerolinecolor\":\"white\"},\"zaxis\":{\"backgroundcolor\":\"#E5ECF6\",\"gridcolor\":\"white\",\"gridwidth\":2,\"linecolor\":\"white\",\"showbackground\":true,\"ticks\":\"\",\"zerolinecolor\":\"white\"}},\"shapedefaults\":{\"line\":{\"color\":\"#2a3f5f\"}},\"ternary\":{\"aaxis\":{\"gridcolor\":\"white\",\"linecolor\":\"white\",\"ticks\":\"\"},\"baxis\":{\"gridcolor\":\"white\",\"linecolor\":\"white\",\"ticks\":\"\"},\"bgcolor\":\"#E5ECF6\",\"caxis\":{\"gridcolor\":\"white\",\"linecolor\":\"white\",\"ticks\":\"\"}},\"title\":{\"x\":0.05},\"xaxis\":{\"automargin\":true,\"gridcolor\":\"white\",\"linecolor\":\"white\",\"ticks\":\"\",\"title\":{\"standoff\":15},\"zerolinecolor\":\"white\",\"zerolinewidth\":2},\"yaxis\":{\"automargin\":true,\"gridcolor\":\"white\",\"linecolor\":\"white\",\"ticks\":\"\",\"title\":{\"standoff\":15},\"zerolinecolor\":\"white\",\"zerolinewidth\":2}}}},                        {\"responsive\": true}                    ).then(function(){\n",
              "                            \n",
              "var gd = document.getElementById('1c2cb18f-2f7f-4415-8eef-3355ba8bc48e');\n",
              "var x = new MutationObserver(function (mutations, observer) {{\n",
              "        var display = window.getComputedStyle(gd).display;\n",
              "        if (!display || display === 'none') {{\n",
              "            console.log([gd, 'removed!']);\n",
              "            Plotly.purge(gd);\n",
              "            observer.disconnect();\n",
              "        }}\n",
              "}});\n",
              "\n",
              "// Listen for the removal of the full notebook cells\n",
              "var notebookContainer = gd.closest('#notebook-container');\n",
              "if (notebookContainer) {{\n",
              "    x.observe(notebookContainer, {childList: true});\n",
              "}}\n",
              "\n",
              "// Listen for the clearing of the current output cell\n",
              "var outputEl = gd.closest('.output');\n",
              "if (outputEl) {{\n",
              "    x.observe(outputEl, {childList: true});\n",
              "}}\n",
              "\n",
              "                        })                };                            </script>        </div>\n",
              "</body>\n",
              "</html>"
            ]
          },
          "metadata": {}
        }
      ]
    },
    {
      "cell_type": "markdown",
      "source": [
        "Assim como no estudo da MLP, observamos que o modelo RF também convergiu cedo e não foi superado ao longo dos treinos"
      ],
      "metadata": {
        "id": "D-g6Ukc8Sf9o"
      }
    },
    {
      "cell_type": "code",
      "source": [
        "print(f\"Melhor trial : \\n{study_rf.best_trial}\")\n",
        "\n",
        "print(f\"Melhor valor do f-score : \\n{study_rf.best_value}\")\n",
        "\n",
        "print(f\"Melhores parâmetros : \\n{study_rf.best_params}\")"
      ],
      "metadata": {
        "colab": {
          "base_uri": "https://localhost:8080/"
        },
        "outputId": "0b2c5c74-f7eb-405f-9eff-ad8117f74b2a",
        "id": "LriAOGVPSsOK"
      },
      "execution_count": null,
      "outputs": [
        {
          "output_type": "stream",
          "name": "stdout",
          "text": [
            "Melhor trial : \n",
            "FrozenTrial(number=15, values=[0.7899487106191736], datetime_start=datetime.datetime(2022, 9, 2, 17, 25, 35, 55733), datetime_complete=datetime.datetime(2022, 9, 2, 17, 25, 41, 840948), params={'classifier': 'RF', 'rf_n_estimators': 409, 'rf_criterion': 'gini', 'rf_max_depth': 22}, distributions={'classifier': CategoricalDistribution(choices=('RF',)), 'rf_n_estimators': IntDistribution(high=1000, log=False, low=400, step=1), 'rf_criterion': CategoricalDistribution(choices=('gini', 'entropy')), 'rf_max_depth': IntDistribution(high=32, log=False, low=15, step=1)}, user_attrs={}, system_attrs={}, intermediate_values={}, trial_id=15, state=TrialState.COMPLETE, value=None)\n",
            "Melhor valor do f-score : \n",
            "0.7899487106191736\n",
            "Melhores parâmetros : \n",
            "{'classifier': 'RF', 'rf_n_estimators': 409, 'rf_criterion': 'gini', 'rf_max_depth': 22}\n"
          ]
        }
      ]
    },
    {
      "cell_type": "code",
      "source": [
        "best_rf = RandomForestClassifier(\n",
        "      random_state=RANDOM_STATE,\n",
        "      n_estimators=study_rf.best_params['rf_n_estimators'],\n",
        "      criterion=study_rf.best_params['rf_criterion'],\n",
        "      max_depth=study_rf.best_params['rf_max_depth']\n",
        ")\n",
        "best_rf.fit(X_train, y_train)"
      ],
      "metadata": {
        "colab": {
          "base_uri": "https://localhost:8080/"
        },
        "outputId": "03a1bb39-c72a-47ff-f1e6-60a8d3ea5dd3",
        "id": "EfxrlzVrSsOL"
      },
      "execution_count": null,
      "outputs": [
        {
          "output_type": "execute_result",
          "data": {
            "text/plain": [
              "RandomForestClassifier(max_depth=22, n_estimators=409, random_state=42)"
            ]
          },
          "metadata": {},
          "execution_count": 134
        }
      ]
    },
    {
      "cell_type": "code",
      "source": [
        "y_pred = best_rf.predict(X_val)\n",
        "y_proba = best_rf.predict_proba(X_val)\n",
        "eval_metrics(y_val, y_pred, y_proba)"
      ],
      "metadata": {
        "colab": {
          "base_uri": "https://localhost:8080/"
        },
        "outputId": "28421ee6-562e-4905-8588-d98dcaa9ec6f",
        "id": "GITYYwZuSsOM"
      },
      "execution_count": null,
      "outputs": [
        {
          "output_type": "execute_result",
          "data": {
            "text/plain": [
              "(0.838401390095569, 0.8382947455267364, 0.7899487106191736)"
            ]
          },
          "metadata": {},
          "execution_count": 135
        }
      ]
    },
    {
      "cell_type": "markdown",
      "source": [
        "### Optuna Study LR"
      ],
      "metadata": {
        "id": "mwUlT984TghS"
      }
    },
    {
      "cell_type": "markdown",
      "source": [
        "Primeiramente, observamos a relação entre os atributos escolhidos e o valor da métrica de avaliação"
      ],
      "metadata": {
        "id": "CuFR3cCuTghT"
      }
    },
    {
      "cell_type": "code",
      "source": [
        "optuna.visualization.plot_slice(study, params=['lr_solver', 'lr_penalty'])"
      ],
      "metadata": {
        "colab": {
          "base_uri": "https://localhost:8080/",
          "height": 542
        },
        "outputId": "d82dcfe2-aa49-4ad1-da71-00d1a8f734e1",
        "id": "PSUEnkcpTghT"
      },
      "execution_count": null,
      "outputs": [
        {
          "output_type": "display_data",
          "data": {
            "text/html": [
              "<html>\n",
              "<head><meta charset=\"utf-8\" /></head>\n",
              "<body>\n",
              "    <div>            <script src=\"https://cdnjs.cloudflare.com/ajax/libs/mathjax/2.7.5/MathJax.js?config=TeX-AMS-MML_SVG\"></script><script type=\"text/javascript\">if (window.MathJax) {MathJax.Hub.Config({SVG: {font: \"STIX-Web\"}});}</script>                <script type=\"text/javascript\">window.PlotlyConfig = {MathJaxConfig: 'local'};</script>\n",
              "        <script src=\"https://cdn.plot.ly/plotly-2.8.3.min.js\"></script>                <div id=\"4e4869d5-5a2b-4039-9df2-d41d6d414afc\" class=\"plotly-graph-div\" style=\"height:525px; width:100%;\"></div>            <script type=\"text/javascript\">                                    window.PLOTLYENV=window.PLOTLYENV || {};                                    if (document.getElementById(\"4e4869d5-5a2b-4039-9df2-d41d6d414afc\")) {                    Plotly.newPlot(                        \"4e4869d5-5a2b-4039-9df2-d41d6d414afc\",                        [{\"marker\":{\"color\":[4,5,8,9,37,40,49,68,87],\"colorbar\":{\"title\":{\"text\":\"Trial\"},\"x\":1.0,\"xpad\":40},\"colorscale\":[[0.0,\"rgb(247,251,255)\"],[0.125,\"rgb(222,235,247)\"],[0.25,\"rgb(198,219,239)\"],[0.375,\"rgb(158,202,225)\"],[0.5,\"rgb(107,174,214)\"],[0.625,\"rgb(66,146,198)\"],[0.75,\"rgb(33,113,181)\"],[0.875,\"rgb(8,81,156)\"],[1.0,\"rgb(8,48,107)\"]],\"line\":{\"color\":\"Grey\",\"width\":0.5},\"showscale\":true},\"mode\":\"markers\",\"showlegend\":false,\"x\":[\"l2\",\"l2\",\"l2\",\"l2\",\"l1\",\"l1\",\"l1\",\"l1\",\"l1\"],\"y\":[0.7415467133346342,0.7415467133346342,0.7538235059016244,0.7415467133346342,0.7590172385817247,0.7590172385817247,0.7590172385817247,0.7415467133346342,0.7590172385817247],\"type\":\"scatter\",\"xaxis\":\"x\",\"yaxis\":\"y\"},{\"marker\":{\"color\":[4,5,8,9,37,40,49,68,87],\"colorbar\":{\"title\":{\"text\":\"Trial\"},\"x\":1.0,\"xpad\":40},\"colorscale\":[[0.0,\"rgb(247,251,255)\"],[0.125,\"rgb(222,235,247)\"],[0.25,\"rgb(198,219,239)\"],[0.375,\"rgb(158,202,225)\"],[0.5,\"rgb(107,174,214)\"],[0.625,\"rgb(66,146,198)\"],[0.75,\"rgb(33,113,181)\"],[0.875,\"rgb(8,81,156)\"],[1.0,\"rgb(8,48,107)\"]],\"line\":{\"color\":\"Grey\",\"width\":0.5},\"showscale\":false},\"mode\":\"markers\",\"showlegend\":false,\"x\":[\"saga\",\"saga\",\"liblinear\",\"saga\",\"liblinear\",\"liblinear\",\"liblinear\",\"saga\",\"liblinear\"],\"y\":[0.7415467133346342,0.7415467133346342,0.7538235059016244,0.7415467133346342,0.7590172385817247,0.7590172385817247,0.7590172385817247,0.7415467133346342,0.7590172385817247],\"type\":\"scatter\",\"xaxis\":\"x2\",\"yaxis\":\"y2\"}],                        {\"template\":{\"data\":{\"bar\":[{\"error_x\":{\"color\":\"#2a3f5f\"},\"error_y\":{\"color\":\"#2a3f5f\"},\"marker\":{\"line\":{\"color\":\"#E5ECF6\",\"width\":0.5},\"pattern\":{\"fillmode\":\"overlay\",\"size\":10,\"solidity\":0.2}},\"type\":\"bar\"}],\"barpolar\":[{\"marker\":{\"line\":{\"color\":\"#E5ECF6\",\"width\":0.5},\"pattern\":{\"fillmode\":\"overlay\",\"size\":10,\"solidity\":0.2}},\"type\":\"barpolar\"}],\"carpet\":[{\"aaxis\":{\"endlinecolor\":\"#2a3f5f\",\"gridcolor\":\"white\",\"linecolor\":\"white\",\"minorgridcolor\":\"white\",\"startlinecolor\":\"#2a3f5f\"},\"baxis\":{\"endlinecolor\":\"#2a3f5f\",\"gridcolor\":\"white\",\"linecolor\":\"white\",\"minorgridcolor\":\"white\",\"startlinecolor\":\"#2a3f5f\"},\"type\":\"carpet\"}],\"choropleth\":[{\"colorbar\":{\"outlinewidth\":0,\"ticks\":\"\"},\"type\":\"choropleth\"}],\"contour\":[{\"colorbar\":{\"outlinewidth\":0,\"ticks\":\"\"},\"colorscale\":[[0.0,\"#0d0887\"],[0.1111111111111111,\"#46039f\"],[0.2222222222222222,\"#7201a8\"],[0.3333333333333333,\"#9c179e\"],[0.4444444444444444,\"#bd3786\"],[0.5555555555555556,\"#d8576b\"],[0.6666666666666666,\"#ed7953\"],[0.7777777777777778,\"#fb9f3a\"],[0.8888888888888888,\"#fdca26\"],[1.0,\"#f0f921\"]],\"type\":\"contour\"}],\"contourcarpet\":[{\"colorbar\":{\"outlinewidth\":0,\"ticks\":\"\"},\"type\":\"contourcarpet\"}],\"heatmap\":[{\"colorbar\":{\"outlinewidth\":0,\"ticks\":\"\"},\"colorscale\":[[0.0,\"#0d0887\"],[0.1111111111111111,\"#46039f\"],[0.2222222222222222,\"#7201a8\"],[0.3333333333333333,\"#9c179e\"],[0.4444444444444444,\"#bd3786\"],[0.5555555555555556,\"#d8576b\"],[0.6666666666666666,\"#ed7953\"],[0.7777777777777778,\"#fb9f3a\"],[0.8888888888888888,\"#fdca26\"],[1.0,\"#f0f921\"]],\"type\":\"heatmap\"}],\"heatmapgl\":[{\"colorbar\":{\"outlinewidth\":0,\"ticks\":\"\"},\"colorscale\":[[0.0,\"#0d0887\"],[0.1111111111111111,\"#46039f\"],[0.2222222222222222,\"#7201a8\"],[0.3333333333333333,\"#9c179e\"],[0.4444444444444444,\"#bd3786\"],[0.5555555555555556,\"#d8576b\"],[0.6666666666666666,\"#ed7953\"],[0.7777777777777778,\"#fb9f3a\"],[0.8888888888888888,\"#fdca26\"],[1.0,\"#f0f921\"]],\"type\":\"heatmapgl\"}],\"histogram\":[{\"marker\":{\"pattern\":{\"fillmode\":\"overlay\",\"size\":10,\"solidity\":0.2}},\"type\":\"histogram\"}],\"histogram2d\":[{\"colorbar\":{\"outlinewidth\":0,\"ticks\":\"\"},\"colorscale\":[[0.0,\"#0d0887\"],[0.1111111111111111,\"#46039f\"],[0.2222222222222222,\"#7201a8\"],[0.3333333333333333,\"#9c179e\"],[0.4444444444444444,\"#bd3786\"],[0.5555555555555556,\"#d8576b\"],[0.6666666666666666,\"#ed7953\"],[0.7777777777777778,\"#fb9f3a\"],[0.8888888888888888,\"#fdca26\"],[1.0,\"#f0f921\"]],\"type\":\"histogram2d\"}],\"histogram2dcontour\":[{\"colorbar\":{\"outlinewidth\":0,\"ticks\":\"\"},\"colorscale\":[[0.0,\"#0d0887\"],[0.1111111111111111,\"#46039f\"],[0.2222222222222222,\"#7201a8\"],[0.3333333333333333,\"#9c179e\"],[0.4444444444444444,\"#bd3786\"],[0.5555555555555556,\"#d8576b\"],[0.6666666666666666,\"#ed7953\"],[0.7777777777777778,\"#fb9f3a\"],[0.8888888888888888,\"#fdca26\"],[1.0,\"#f0f921\"]],\"type\":\"histogram2dcontour\"}],\"mesh3d\":[{\"colorbar\":{\"outlinewidth\":0,\"ticks\":\"\"},\"type\":\"mesh3d\"}],\"parcoords\":[{\"line\":{\"colorbar\":{\"outlinewidth\":0,\"ticks\":\"\"}},\"type\":\"parcoords\"}],\"pie\":[{\"automargin\":true,\"type\":\"pie\"}],\"scatter\":[{\"marker\":{\"colorbar\":{\"outlinewidth\":0,\"ticks\":\"\"}},\"type\":\"scatter\"}],\"scatter3d\":[{\"line\":{\"colorbar\":{\"outlinewidth\":0,\"ticks\":\"\"}},\"marker\":{\"colorbar\":{\"outlinewidth\":0,\"ticks\":\"\"}},\"type\":\"scatter3d\"}],\"scattercarpet\":[{\"marker\":{\"colorbar\":{\"outlinewidth\":0,\"ticks\":\"\"}},\"type\":\"scattercarpet\"}],\"scattergeo\":[{\"marker\":{\"colorbar\":{\"outlinewidth\":0,\"ticks\":\"\"}},\"type\":\"scattergeo\"}],\"scattergl\":[{\"marker\":{\"colorbar\":{\"outlinewidth\":0,\"ticks\":\"\"}},\"type\":\"scattergl\"}],\"scattermapbox\":[{\"marker\":{\"colorbar\":{\"outlinewidth\":0,\"ticks\":\"\"}},\"type\":\"scattermapbox\"}],\"scatterpolar\":[{\"marker\":{\"colorbar\":{\"outlinewidth\":0,\"ticks\":\"\"}},\"type\":\"scatterpolar\"}],\"scatterpolargl\":[{\"marker\":{\"colorbar\":{\"outlinewidth\":0,\"ticks\":\"\"}},\"type\":\"scatterpolargl\"}],\"scatterternary\":[{\"marker\":{\"colorbar\":{\"outlinewidth\":0,\"ticks\":\"\"}},\"type\":\"scatterternary\"}],\"surface\":[{\"colorbar\":{\"outlinewidth\":0,\"ticks\":\"\"},\"colorscale\":[[0.0,\"#0d0887\"],[0.1111111111111111,\"#46039f\"],[0.2222222222222222,\"#7201a8\"],[0.3333333333333333,\"#9c179e\"],[0.4444444444444444,\"#bd3786\"],[0.5555555555555556,\"#d8576b\"],[0.6666666666666666,\"#ed7953\"],[0.7777777777777778,\"#fb9f3a\"],[0.8888888888888888,\"#fdca26\"],[1.0,\"#f0f921\"]],\"type\":\"surface\"}],\"table\":[{\"cells\":{\"fill\":{\"color\":\"#EBF0F8\"},\"line\":{\"color\":\"white\"}},\"header\":{\"fill\":{\"color\":\"#C8D4E3\"},\"line\":{\"color\":\"white\"}},\"type\":\"table\"}]},\"layout\":{\"annotationdefaults\":{\"arrowcolor\":\"#2a3f5f\",\"arrowhead\":0,\"arrowwidth\":1},\"autotypenumbers\":\"strict\",\"coloraxis\":{\"colorbar\":{\"outlinewidth\":0,\"ticks\":\"\"}},\"colorscale\":{\"diverging\":[[0,\"#8e0152\"],[0.1,\"#c51b7d\"],[0.2,\"#de77ae\"],[0.3,\"#f1b6da\"],[0.4,\"#fde0ef\"],[0.5,\"#f7f7f7\"],[0.6,\"#e6f5d0\"],[0.7,\"#b8e186\"],[0.8,\"#7fbc41\"],[0.9,\"#4d9221\"],[1,\"#276419\"]],\"sequential\":[[0.0,\"#0d0887\"],[0.1111111111111111,\"#46039f\"],[0.2222222222222222,\"#7201a8\"],[0.3333333333333333,\"#9c179e\"],[0.4444444444444444,\"#bd3786\"],[0.5555555555555556,\"#d8576b\"],[0.6666666666666666,\"#ed7953\"],[0.7777777777777778,\"#fb9f3a\"],[0.8888888888888888,\"#fdca26\"],[1.0,\"#f0f921\"]],\"sequentialminus\":[[0.0,\"#0d0887\"],[0.1111111111111111,\"#46039f\"],[0.2222222222222222,\"#7201a8\"],[0.3333333333333333,\"#9c179e\"],[0.4444444444444444,\"#bd3786\"],[0.5555555555555556,\"#d8576b\"],[0.6666666666666666,\"#ed7953\"],[0.7777777777777778,\"#fb9f3a\"],[0.8888888888888888,\"#fdca26\"],[1.0,\"#f0f921\"]]},\"colorway\":[\"#636efa\",\"#EF553B\",\"#00cc96\",\"#ab63fa\",\"#FFA15A\",\"#19d3f3\",\"#FF6692\",\"#B6E880\",\"#FF97FF\",\"#FECB52\"],\"font\":{\"color\":\"#2a3f5f\"},\"geo\":{\"bgcolor\":\"white\",\"lakecolor\":\"white\",\"landcolor\":\"#E5ECF6\",\"showlakes\":true,\"showland\":true,\"subunitcolor\":\"white\"},\"hoverlabel\":{\"align\":\"left\"},\"hovermode\":\"closest\",\"mapbox\":{\"style\":\"light\"},\"paper_bgcolor\":\"white\",\"plot_bgcolor\":\"#E5ECF6\",\"polar\":{\"angularaxis\":{\"gridcolor\":\"white\",\"linecolor\":\"white\",\"ticks\":\"\"},\"bgcolor\":\"#E5ECF6\",\"radialaxis\":{\"gridcolor\":\"white\",\"linecolor\":\"white\",\"ticks\":\"\"}},\"scene\":{\"xaxis\":{\"backgroundcolor\":\"#E5ECF6\",\"gridcolor\":\"white\",\"gridwidth\":2,\"linecolor\":\"white\",\"showbackground\":true,\"ticks\":\"\",\"zerolinecolor\":\"white\"},\"yaxis\":{\"backgroundcolor\":\"#E5ECF6\",\"gridcolor\":\"white\",\"gridwidth\":2,\"linecolor\":\"white\",\"showbackground\":true,\"ticks\":\"\",\"zerolinecolor\":\"white\"},\"zaxis\":{\"backgroundcolor\":\"#E5ECF6\",\"gridcolor\":\"white\",\"gridwidth\":2,\"linecolor\":\"white\",\"showbackground\":true,\"ticks\":\"\",\"zerolinecolor\":\"white\"}},\"shapedefaults\":{\"line\":{\"color\":\"#2a3f5f\"}},\"ternary\":{\"aaxis\":{\"gridcolor\":\"white\",\"linecolor\":\"white\",\"ticks\":\"\"},\"baxis\":{\"gridcolor\":\"white\",\"linecolor\":\"white\",\"ticks\":\"\"},\"bgcolor\":\"#E5ECF6\",\"caxis\":{\"gridcolor\":\"white\",\"linecolor\":\"white\",\"ticks\":\"\"}},\"title\":{\"x\":0.05},\"xaxis\":{\"automargin\":true,\"gridcolor\":\"white\",\"linecolor\":\"white\",\"ticks\":\"\",\"title\":{\"standoff\":15},\"zerolinecolor\":\"white\",\"zerolinewidth\":2},\"yaxis\":{\"automargin\":true,\"gridcolor\":\"white\",\"linecolor\":\"white\",\"ticks\":\"\",\"title\":{\"standoff\":15},\"zerolinecolor\":\"white\",\"zerolinewidth\":2}}},\"xaxis\":{\"anchor\":\"y\",\"domain\":[0.0,0.45],\"title\":{\"text\":\"lr_penalty\"}},\"yaxis\":{\"anchor\":\"x\",\"domain\":[0.0,1.0],\"title\":{\"text\":\"Objective Value\"}},\"xaxis2\":{\"anchor\":\"y2\",\"domain\":[0.55,1.0],\"title\":{\"text\":\"lr_solver\"}},\"yaxis2\":{\"anchor\":\"x2\",\"domain\":[0.0,1.0],\"matches\":\"y\",\"showticklabels\":false},\"title\":{\"text\":\"Slice Plot\"}},                        {\"responsive\": true}                    ).then(function(){\n",
              "                            \n",
              "var gd = document.getElementById('4e4869d5-5a2b-4039-9df2-d41d6d414afc');\n",
              "var x = new MutationObserver(function (mutations, observer) {{\n",
              "        var display = window.getComputedStyle(gd).display;\n",
              "        if (!display || display === 'none') {{\n",
              "            console.log([gd, 'removed!']);\n",
              "            Plotly.purge(gd);\n",
              "            observer.disconnect();\n",
              "        }}\n",
              "}});\n",
              "\n",
              "// Listen for the removal of the full notebook cells\n",
              "var notebookContainer = gd.closest('#notebook-container');\n",
              "if (notebookContainer) {{\n",
              "    x.observe(notebookContainer, {childList: true});\n",
              "}}\n",
              "\n",
              "// Listen for the clearing of the current output cell\n",
              "var outputEl = gd.closest('.output');\n",
              "if (outputEl) {{\n",
              "    x.observe(outputEl, {childList: true});\n",
              "}}\n",
              "\n",
              "                        })                };                            </script>        </div>\n",
              "</body>\n",
              "</html>"
            ]
          },
          "metadata": {}
        }
      ]
    },
    {
      "cell_type": "markdown",
      "source": [
        "Vemos que o modelo foi testado poucas vezes na execução geral, portanto não conseguimos obter insights acerca destes hiperparâmetros, dessa forma, executaremos o estudo exclusivamente com o algortimo LogisticRegression"
      ],
      "metadata": {
        "id": "NYXLB5viTghT"
      }
    },
    {
      "cell_type": "code",
      "source": [
        "# Passo 1. Definindo função de objetivo a ser maximizada\n",
        "def objective_lr(trial):\n",
        "  classifier = trial.suggest_categorical(\"classifier\", [\"LR\"])\n",
        "  \n",
        "  # Passo 2. Definindo conjunto de hiperparâmetros\n",
        "  lr_penalty = trial.suggest_categorical(\"lr_penalty\", ['l1', 'l2'])\n",
        "  lr_solver = trial.suggest_categorical(\"lr_solver\", ['liblinear', 'saga'])\n",
        "  clf = LogisticRegression(random_state=RANDOM_STATE, penalty=lr_penalty, solver=lr_solver, max_iter=EPOCHS)\n",
        "  \n",
        "  # Treinando o modelo\n",
        "  clf.fit(X_train, y_train)\n",
        "\n",
        "  # Usando conjunto de validação para obter métricas\n",
        "  y_pred = clf.predict(X_val)\n",
        "  y_proba = clf.predict_proba(X_val)\n",
        "\n",
        "  # Passo 3: Métrica otimizada\n",
        "  acc, auroc, f1 = eval_metrics(y_val, y_pred, y_proba)\n",
        "  return f1"
      ],
      "metadata": {
        "id": "y90LmddLTghU"
      },
      "execution_count": null,
      "outputs": []
    },
    {
      "cell_type": "code",
      "source": [
        "# Passo 4: Rodar o estudo\n",
        "study_lr = optuna.create_study(direction=\"maximize\")\n",
        "study_lr.optimize(objective_lr, n_trials=100)"
      ],
      "metadata": {
        "colab": {
          "base_uri": "https://localhost:8080/"
        },
        "outputId": "7d72a24c-73c7-4840-9241-598d009a5ada",
        "id": "dq6mqBlcTghU"
      },
      "execution_count": null,
      "outputs": [
        {
          "output_type": "stream",
          "name": "stderr",
          "text": [
            "\u001b[32m[I 2022-09-02 17:50:24,111]\u001b[0m A new study created in memory with name: no-name-d2aaff76-1d2e-4174-8c45-cd0e51b5606f\u001b[0m\n",
            "\u001b[32m[I 2022-09-02 17:50:24,191]\u001b[0m Trial 0 finished with value: 0.7538235059016244 and parameters: {'classifier': 'LR', 'lr_penalty': 'l2', 'lr_solver': 'liblinear'}. Best is trial 0 with value: 0.7538235059016244.\u001b[0m\n",
            "\u001b[32m[I 2022-09-02 17:50:24,287]\u001b[0m Trial 1 finished with value: 0.7538235059016244 and parameters: {'classifier': 'LR', 'lr_penalty': 'l2', 'lr_solver': 'liblinear'}. Best is trial 0 with value: 0.7538235059016244.\u001b[0m\n",
            "\u001b[32m[I 2022-09-02 17:50:24,566]\u001b[0m Trial 2 finished with value: 0.7590172385817247 and parameters: {'classifier': 'LR', 'lr_penalty': 'l1', 'lr_solver': 'liblinear'}. Best is trial 2 with value: 0.7590172385817247.\u001b[0m\n",
            "\u001b[32m[I 2022-09-02 17:50:24,841]\u001b[0m Trial 3 finished with value: 0.7590172385817247 and parameters: {'classifier': 'LR', 'lr_penalty': 'l1', 'lr_solver': 'liblinear'}. Best is trial 2 with value: 0.7590172385817247.\u001b[0m\n",
            "\u001b[32m[I 2022-09-02 17:50:25,136]\u001b[0m Trial 4 finished with value: 0.7590172385817247 and parameters: {'classifier': 'LR', 'lr_penalty': 'l1', 'lr_solver': 'liblinear'}. Best is trial 2 with value: 0.7590172385817247.\u001b[0m\n",
            "\u001b[32m[I 2022-09-02 17:50:25,230]\u001b[0m Trial 5 finished with value: 0.7538235059016244 and parameters: {'classifier': 'LR', 'lr_penalty': 'l2', 'lr_solver': 'liblinear'}. Best is trial 2 with value: 0.7590172385817247.\u001b[0m\n",
            "\u001b[32m[I 2022-09-02 17:50:25,327]\u001b[0m Trial 6 finished with value: 0.7538235059016244 and parameters: {'classifier': 'LR', 'lr_penalty': 'l2', 'lr_solver': 'liblinear'}. Best is trial 2 with value: 0.7590172385817247.\u001b[0m\n",
            "/usr/local/lib/python3.7/dist-packages/sklearn/linear_model/_sag.py:354: ConvergenceWarning:\n",
            "\n",
            "The max_iter was reached which means the coef_ did not converge\n",
            "\n",
            "\u001b[32m[I 2022-09-02 17:50:27,742]\u001b[0m Trial 7 finished with value: 0.7415467133346342 and parameters: {'classifier': 'LR', 'lr_penalty': 'l2', 'lr_solver': 'saga'}. Best is trial 2 with value: 0.7590172385817247.\u001b[0m\n",
            "\u001b[32m[I 2022-09-02 17:50:27,829]\u001b[0m Trial 8 finished with value: 0.7538235059016244 and parameters: {'classifier': 'LR', 'lr_penalty': 'l2', 'lr_solver': 'liblinear'}. Best is trial 2 with value: 0.7590172385817247.\u001b[0m\n",
            "/usr/local/lib/python3.7/dist-packages/sklearn/linear_model/_sag.py:354: ConvergenceWarning:\n",
            "\n",
            "The max_iter was reached which means the coef_ did not converge\n",
            "\n",
            "\u001b[32m[I 2022-09-02 17:50:30,715]\u001b[0m Trial 9 finished with value: 0.7415467133346342 and parameters: {'classifier': 'LR', 'lr_penalty': 'l1', 'lr_solver': 'saga'}. Best is trial 2 with value: 0.7590172385817247.\u001b[0m\n",
            "/usr/local/lib/python3.7/dist-packages/sklearn/linear_model/_sag.py:354: ConvergenceWarning:\n",
            "\n",
            "The max_iter was reached which means the coef_ did not converge\n",
            "\n",
            "\u001b[32m[I 2022-09-02 17:50:33,651]\u001b[0m Trial 10 finished with value: 0.7415467133346342 and parameters: {'classifier': 'LR', 'lr_penalty': 'l1', 'lr_solver': 'saga'}. Best is trial 2 with value: 0.7590172385817247.\u001b[0m\n",
            "\u001b[32m[I 2022-09-02 17:50:33,921]\u001b[0m Trial 11 finished with value: 0.7590172385817247 and parameters: {'classifier': 'LR', 'lr_penalty': 'l1', 'lr_solver': 'liblinear'}. Best is trial 2 with value: 0.7590172385817247.\u001b[0m\n",
            "\u001b[32m[I 2022-09-02 17:50:34,198]\u001b[0m Trial 12 finished with value: 0.7590172385817247 and parameters: {'classifier': 'LR', 'lr_penalty': 'l1', 'lr_solver': 'liblinear'}. Best is trial 2 with value: 0.7590172385817247.\u001b[0m\n",
            "\u001b[32m[I 2022-09-02 17:50:34,468]\u001b[0m Trial 13 finished with value: 0.7590172385817247 and parameters: {'classifier': 'LR', 'lr_penalty': 'l1', 'lr_solver': 'liblinear'}. Best is trial 2 with value: 0.7590172385817247.\u001b[0m\n",
            "\u001b[32m[I 2022-09-02 17:50:34,747]\u001b[0m Trial 14 finished with value: 0.7590172385817247 and parameters: {'classifier': 'LR', 'lr_penalty': 'l1', 'lr_solver': 'liblinear'}. Best is trial 2 with value: 0.7590172385817247.\u001b[0m\n",
            "/usr/local/lib/python3.7/dist-packages/sklearn/linear_model/_sag.py:354: ConvergenceWarning:\n",
            "\n",
            "The max_iter was reached which means the coef_ did not converge\n",
            "\n",
            "\u001b[32m[I 2022-09-02 17:50:37,600]\u001b[0m Trial 15 finished with value: 0.7415467133346342 and parameters: {'classifier': 'LR', 'lr_penalty': 'l1', 'lr_solver': 'saga'}. Best is trial 2 with value: 0.7590172385817247.\u001b[0m\n",
            "\u001b[32m[I 2022-09-02 17:50:37,877]\u001b[0m Trial 16 finished with value: 0.7590172385817247 and parameters: {'classifier': 'LR', 'lr_penalty': 'l1', 'lr_solver': 'liblinear'}. Best is trial 2 with value: 0.7590172385817247.\u001b[0m\n",
            "\u001b[32m[I 2022-09-02 17:50:38,159]\u001b[0m Trial 17 finished with value: 0.7590172385817247 and parameters: {'classifier': 'LR', 'lr_penalty': 'l1', 'lr_solver': 'liblinear'}. Best is trial 2 with value: 0.7590172385817247.\u001b[0m\n",
            "/usr/local/lib/python3.7/dist-packages/sklearn/linear_model/_sag.py:354: ConvergenceWarning:\n",
            "\n",
            "The max_iter was reached which means the coef_ did not converge\n",
            "\n",
            "\u001b[32m[I 2022-09-02 17:50:41,014]\u001b[0m Trial 18 finished with value: 0.7415467133346342 and parameters: {'classifier': 'LR', 'lr_penalty': 'l1', 'lr_solver': 'saga'}. Best is trial 2 with value: 0.7590172385817247.\u001b[0m\n",
            "\u001b[32m[I 2022-09-02 17:50:41,287]\u001b[0m Trial 19 finished with value: 0.7590172385817247 and parameters: {'classifier': 'LR', 'lr_penalty': 'l1', 'lr_solver': 'liblinear'}. Best is trial 2 with value: 0.7590172385817247.\u001b[0m\n",
            "\u001b[32m[I 2022-09-02 17:50:41,559]\u001b[0m Trial 20 finished with value: 0.7590172385817247 and parameters: {'classifier': 'LR', 'lr_penalty': 'l1', 'lr_solver': 'liblinear'}. Best is trial 2 with value: 0.7590172385817247.\u001b[0m\n",
            "\u001b[32m[I 2022-09-02 17:50:41,858]\u001b[0m Trial 21 finished with value: 0.7590172385817247 and parameters: {'classifier': 'LR', 'lr_penalty': 'l1', 'lr_solver': 'liblinear'}. Best is trial 2 with value: 0.7590172385817247.\u001b[0m\n",
            "\u001b[32m[I 2022-09-02 17:50:42,130]\u001b[0m Trial 22 finished with value: 0.7590172385817247 and parameters: {'classifier': 'LR', 'lr_penalty': 'l1', 'lr_solver': 'liblinear'}. Best is trial 2 with value: 0.7590172385817247.\u001b[0m\n",
            "\u001b[32m[I 2022-09-02 17:50:42,417]\u001b[0m Trial 23 finished with value: 0.7590172385817247 and parameters: {'classifier': 'LR', 'lr_penalty': 'l1', 'lr_solver': 'liblinear'}. Best is trial 2 with value: 0.7590172385817247.\u001b[0m\n",
            "\u001b[32m[I 2022-09-02 17:50:42,686]\u001b[0m Trial 24 finished with value: 0.7590172385817247 and parameters: {'classifier': 'LR', 'lr_penalty': 'l1', 'lr_solver': 'liblinear'}. Best is trial 2 with value: 0.7590172385817247.\u001b[0m\n",
            "\u001b[32m[I 2022-09-02 17:50:42,966]\u001b[0m Trial 25 finished with value: 0.7590172385817247 and parameters: {'classifier': 'LR', 'lr_penalty': 'l1', 'lr_solver': 'liblinear'}. Best is trial 2 with value: 0.7590172385817247.\u001b[0m\n",
            "/usr/local/lib/python3.7/dist-packages/sklearn/linear_model/_sag.py:354: ConvergenceWarning:\n",
            "\n",
            "The max_iter was reached which means the coef_ did not converge\n",
            "\n",
            "\u001b[32m[I 2022-09-02 17:50:45,808]\u001b[0m Trial 26 finished with value: 0.7415467133346342 and parameters: {'classifier': 'LR', 'lr_penalty': 'l1', 'lr_solver': 'saga'}. Best is trial 2 with value: 0.7590172385817247.\u001b[0m\n",
            "\u001b[32m[I 2022-09-02 17:50:46,089]\u001b[0m Trial 27 finished with value: 0.7590172385817247 and parameters: {'classifier': 'LR', 'lr_penalty': 'l1', 'lr_solver': 'liblinear'}. Best is trial 2 with value: 0.7590172385817247.\u001b[0m\n",
            "\u001b[32m[I 2022-09-02 17:50:46,360]\u001b[0m Trial 28 finished with value: 0.7590172385817247 and parameters: {'classifier': 'LR', 'lr_penalty': 'l1', 'lr_solver': 'liblinear'}. Best is trial 2 with value: 0.7590172385817247.\u001b[0m\n",
            "\u001b[32m[I 2022-09-02 17:50:46,452]\u001b[0m Trial 29 finished with value: 0.7538235059016244 and parameters: {'classifier': 'LR', 'lr_penalty': 'l2', 'lr_solver': 'liblinear'}. Best is trial 2 with value: 0.7590172385817247.\u001b[0m\n",
            "\u001b[32m[I 2022-09-02 17:50:46,723]\u001b[0m Trial 30 finished with value: 0.7590172385817247 and parameters: {'classifier': 'LR', 'lr_penalty': 'l1', 'lr_solver': 'liblinear'}. Best is trial 2 with value: 0.7590172385817247.\u001b[0m\n",
            "\u001b[32m[I 2022-09-02 17:50:47,002]\u001b[0m Trial 31 finished with value: 0.7590172385817247 and parameters: {'classifier': 'LR', 'lr_penalty': 'l1', 'lr_solver': 'liblinear'}. Best is trial 2 with value: 0.7590172385817247.\u001b[0m\n",
            "\u001b[32m[I 2022-09-02 17:50:47,276]\u001b[0m Trial 32 finished with value: 0.7590172385817247 and parameters: {'classifier': 'LR', 'lr_penalty': 'l1', 'lr_solver': 'liblinear'}. Best is trial 2 with value: 0.7590172385817247.\u001b[0m\n",
            "\u001b[32m[I 2022-09-02 17:50:47,552]\u001b[0m Trial 33 finished with value: 0.7590172385817247 and parameters: {'classifier': 'LR', 'lr_penalty': 'l1', 'lr_solver': 'liblinear'}. Best is trial 2 with value: 0.7590172385817247.\u001b[0m\n",
            "\u001b[32m[I 2022-09-02 17:50:47,819]\u001b[0m Trial 34 finished with value: 0.7590172385817247 and parameters: {'classifier': 'LR', 'lr_penalty': 'l1', 'lr_solver': 'liblinear'}. Best is trial 2 with value: 0.7590172385817247.\u001b[0m\n",
            "\u001b[32m[I 2022-09-02 17:50:48,104]\u001b[0m Trial 35 finished with value: 0.7590172385817247 and parameters: {'classifier': 'LR', 'lr_penalty': 'l1', 'lr_solver': 'liblinear'}. Best is trial 2 with value: 0.7590172385817247.\u001b[0m\n",
            "\u001b[32m[I 2022-09-02 17:50:48,194]\u001b[0m Trial 36 finished with value: 0.7538235059016244 and parameters: {'classifier': 'LR', 'lr_penalty': 'l2', 'lr_solver': 'liblinear'}. Best is trial 2 with value: 0.7590172385817247.\u001b[0m\n",
            "\u001b[32m[I 2022-09-02 17:50:48,468]\u001b[0m Trial 37 finished with value: 0.7590172385817247 and parameters: {'classifier': 'LR', 'lr_penalty': 'l1', 'lr_solver': 'liblinear'}. Best is trial 2 with value: 0.7590172385817247.\u001b[0m\n",
            "\u001b[32m[I 2022-09-02 17:50:48,559]\u001b[0m Trial 38 finished with value: 0.7538235059016244 and parameters: {'classifier': 'LR', 'lr_penalty': 'l2', 'lr_solver': 'liblinear'}. Best is trial 2 with value: 0.7590172385817247.\u001b[0m\n",
            "\u001b[32m[I 2022-09-02 17:50:48,839]\u001b[0m Trial 39 finished with value: 0.7590172385817247 and parameters: {'classifier': 'LR', 'lr_penalty': 'l1', 'lr_solver': 'liblinear'}. Best is trial 2 with value: 0.7590172385817247.\u001b[0m\n",
            "/usr/local/lib/python3.7/dist-packages/sklearn/linear_model/_sag.py:354: ConvergenceWarning:\n",
            "\n",
            "The max_iter was reached which means the coef_ did not converge\n",
            "\n",
            "\u001b[32m[I 2022-09-02 17:50:51,184]\u001b[0m Trial 40 finished with value: 0.7415467133346342 and parameters: {'classifier': 'LR', 'lr_penalty': 'l2', 'lr_solver': 'saga'}. Best is trial 2 with value: 0.7590172385817247.\u001b[0m\n",
            "\u001b[32m[I 2022-09-02 17:50:51,451]\u001b[0m Trial 41 finished with value: 0.7590172385817247 and parameters: {'classifier': 'LR', 'lr_penalty': 'l1', 'lr_solver': 'liblinear'}. Best is trial 2 with value: 0.7590172385817247.\u001b[0m\n",
            "\u001b[32m[I 2022-09-02 17:50:51,720]\u001b[0m Trial 42 finished with value: 0.7590172385817247 and parameters: {'classifier': 'LR', 'lr_penalty': 'l1', 'lr_solver': 'liblinear'}. Best is trial 2 with value: 0.7590172385817247.\u001b[0m\n",
            "\u001b[32m[I 2022-09-02 17:50:51,987]\u001b[0m Trial 43 finished with value: 0.7590172385817247 and parameters: {'classifier': 'LR', 'lr_penalty': 'l1', 'lr_solver': 'liblinear'}. Best is trial 2 with value: 0.7590172385817247.\u001b[0m\n",
            "\u001b[32m[I 2022-09-02 17:50:52,268]\u001b[0m Trial 44 finished with value: 0.7590172385817247 and parameters: {'classifier': 'LR', 'lr_penalty': 'l1', 'lr_solver': 'liblinear'}. Best is trial 2 with value: 0.7590172385817247.\u001b[0m\n",
            "\u001b[32m[I 2022-09-02 17:50:52,540]\u001b[0m Trial 45 finished with value: 0.7590172385817247 and parameters: {'classifier': 'LR', 'lr_penalty': 'l1', 'lr_solver': 'liblinear'}. Best is trial 2 with value: 0.7590172385817247.\u001b[0m\n",
            "\u001b[32m[I 2022-09-02 17:50:52,818]\u001b[0m Trial 46 finished with value: 0.7590172385817247 and parameters: {'classifier': 'LR', 'lr_penalty': 'l1', 'lr_solver': 'liblinear'}. Best is trial 2 with value: 0.7590172385817247.\u001b[0m\n",
            "\u001b[32m[I 2022-09-02 17:50:53,094]\u001b[0m Trial 47 finished with value: 0.7590172385817247 and parameters: {'classifier': 'LR', 'lr_penalty': 'l1', 'lr_solver': 'liblinear'}. Best is trial 2 with value: 0.7590172385817247.\u001b[0m\n",
            "/usr/local/lib/python3.7/dist-packages/sklearn/linear_model/_sag.py:354: ConvergenceWarning:\n",
            "\n",
            "The max_iter was reached which means the coef_ did not converge\n",
            "\n",
            "\u001b[32m[I 2022-09-02 17:50:55,919]\u001b[0m Trial 48 finished with value: 0.7415467133346342 and parameters: {'classifier': 'LR', 'lr_penalty': 'l1', 'lr_solver': 'saga'}. Best is trial 2 with value: 0.7590172385817247.\u001b[0m\n",
            "\u001b[32m[I 2022-09-02 17:50:56,021]\u001b[0m Trial 49 finished with value: 0.7538235059016244 and parameters: {'classifier': 'LR', 'lr_penalty': 'l2', 'lr_solver': 'liblinear'}. Best is trial 2 with value: 0.7590172385817247.\u001b[0m\n",
            "\u001b[32m[I 2022-09-02 17:50:56,305]\u001b[0m Trial 50 finished with value: 0.7590172385817247 and parameters: {'classifier': 'LR', 'lr_penalty': 'l1', 'lr_solver': 'liblinear'}. Best is trial 2 with value: 0.7590172385817247.\u001b[0m\n",
            "\u001b[32m[I 2022-09-02 17:50:56,574]\u001b[0m Trial 51 finished with value: 0.7590172385817247 and parameters: {'classifier': 'LR', 'lr_penalty': 'l1', 'lr_solver': 'liblinear'}. Best is trial 2 with value: 0.7590172385817247.\u001b[0m\n",
            "\u001b[32m[I 2022-09-02 17:50:56,848]\u001b[0m Trial 52 finished with value: 0.7590172385817247 and parameters: {'classifier': 'LR', 'lr_penalty': 'l1', 'lr_solver': 'liblinear'}. Best is trial 2 with value: 0.7590172385817247.\u001b[0m\n",
            "\u001b[32m[I 2022-09-02 17:50:57,129]\u001b[0m Trial 53 finished with value: 0.7590172385817247 and parameters: {'classifier': 'LR', 'lr_penalty': 'l1', 'lr_solver': 'liblinear'}. Best is trial 2 with value: 0.7590172385817247.\u001b[0m\n",
            "\u001b[32m[I 2022-09-02 17:50:57,413]\u001b[0m Trial 54 finished with value: 0.7590172385817247 and parameters: {'classifier': 'LR', 'lr_penalty': 'l1', 'lr_solver': 'liblinear'}. Best is trial 2 with value: 0.7590172385817247.\u001b[0m\n",
            "\u001b[32m[I 2022-09-02 17:50:57,681]\u001b[0m Trial 55 finished with value: 0.7590172385817247 and parameters: {'classifier': 'LR', 'lr_penalty': 'l1', 'lr_solver': 'liblinear'}. Best is trial 2 with value: 0.7590172385817247.\u001b[0m\n",
            "\u001b[32m[I 2022-09-02 17:50:57,955]\u001b[0m Trial 56 finished with value: 0.7590172385817247 and parameters: {'classifier': 'LR', 'lr_penalty': 'l1', 'lr_solver': 'liblinear'}. Best is trial 2 with value: 0.7590172385817247.\u001b[0m\n",
            "/usr/local/lib/python3.7/dist-packages/sklearn/linear_model/_sag.py:354: ConvergenceWarning:\n",
            "\n",
            "The max_iter was reached which means the coef_ did not converge\n",
            "\n",
            "\u001b[32m[I 2022-09-02 17:51:00,763]\u001b[0m Trial 57 finished with value: 0.7415467133346342 and parameters: {'classifier': 'LR', 'lr_penalty': 'l1', 'lr_solver': 'saga'}. Best is trial 2 with value: 0.7590172385817247.\u001b[0m\n",
            "\u001b[32m[I 2022-09-02 17:51:01,039]\u001b[0m Trial 58 finished with value: 0.7590172385817247 and parameters: {'classifier': 'LR', 'lr_penalty': 'l1', 'lr_solver': 'liblinear'}. Best is trial 2 with value: 0.7590172385817247.\u001b[0m\n",
            "\u001b[32m[I 2022-09-02 17:51:01,315]\u001b[0m Trial 59 finished with value: 0.7590172385817247 and parameters: {'classifier': 'LR', 'lr_penalty': 'l1', 'lr_solver': 'liblinear'}. Best is trial 2 with value: 0.7590172385817247.\u001b[0m\n",
            "\u001b[32m[I 2022-09-02 17:51:01,593]\u001b[0m Trial 60 finished with value: 0.7590172385817247 and parameters: {'classifier': 'LR', 'lr_penalty': 'l1', 'lr_solver': 'liblinear'}. Best is trial 2 with value: 0.7590172385817247.\u001b[0m\n",
            "\u001b[32m[I 2022-09-02 17:51:01,869]\u001b[0m Trial 61 finished with value: 0.7590172385817247 and parameters: {'classifier': 'LR', 'lr_penalty': 'l1', 'lr_solver': 'liblinear'}. Best is trial 2 with value: 0.7590172385817247.\u001b[0m\n",
            "\u001b[32m[I 2022-09-02 17:51:02,145]\u001b[0m Trial 62 finished with value: 0.7590172385817247 and parameters: {'classifier': 'LR', 'lr_penalty': 'l1', 'lr_solver': 'liblinear'}. Best is trial 2 with value: 0.7590172385817247.\u001b[0m\n",
            "\u001b[32m[I 2022-09-02 17:51:02,424]\u001b[0m Trial 63 finished with value: 0.7590172385817247 and parameters: {'classifier': 'LR', 'lr_penalty': 'l1', 'lr_solver': 'liblinear'}. Best is trial 2 with value: 0.7590172385817247.\u001b[0m\n",
            "\u001b[32m[I 2022-09-02 17:51:02,694]\u001b[0m Trial 64 finished with value: 0.7590172385817247 and parameters: {'classifier': 'LR', 'lr_penalty': 'l1', 'lr_solver': 'liblinear'}. Best is trial 2 with value: 0.7590172385817247.\u001b[0m\n",
            "\u001b[32m[I 2022-09-02 17:51:02,964]\u001b[0m Trial 65 finished with value: 0.7590172385817247 and parameters: {'classifier': 'LR', 'lr_penalty': 'l1', 'lr_solver': 'liblinear'}. Best is trial 2 with value: 0.7590172385817247.\u001b[0m\n",
            "\u001b[32m[I 2022-09-02 17:51:03,242]\u001b[0m Trial 66 finished with value: 0.7590172385817247 and parameters: {'classifier': 'LR', 'lr_penalty': 'l1', 'lr_solver': 'liblinear'}. Best is trial 2 with value: 0.7590172385817247.\u001b[0m\n",
            "/usr/local/lib/python3.7/dist-packages/sklearn/linear_model/_sag.py:354: ConvergenceWarning:\n",
            "\n",
            "The max_iter was reached which means the coef_ did not converge\n",
            "\n",
            "\u001b[32m[I 2022-09-02 17:51:06,078]\u001b[0m Trial 67 finished with value: 0.7415467133346342 and parameters: {'classifier': 'LR', 'lr_penalty': 'l1', 'lr_solver': 'saga'}. Best is trial 2 with value: 0.7590172385817247.\u001b[0m\n",
            "\u001b[32m[I 2022-09-02 17:51:06,180]\u001b[0m Trial 68 finished with value: 0.7538235059016244 and parameters: {'classifier': 'LR', 'lr_penalty': 'l2', 'lr_solver': 'liblinear'}. Best is trial 2 with value: 0.7590172385817247.\u001b[0m\n",
            "\u001b[32m[I 2022-09-02 17:51:06,455]\u001b[0m Trial 69 finished with value: 0.7590172385817247 and parameters: {'classifier': 'LR', 'lr_penalty': 'l1', 'lr_solver': 'liblinear'}. Best is trial 2 with value: 0.7590172385817247.\u001b[0m\n",
            "\u001b[32m[I 2022-09-02 17:51:06,735]\u001b[0m Trial 70 finished with value: 0.7590172385817247 and parameters: {'classifier': 'LR', 'lr_penalty': 'l1', 'lr_solver': 'liblinear'}. Best is trial 2 with value: 0.7590172385817247.\u001b[0m\n",
            "\u001b[32m[I 2022-09-02 17:51:07,016]\u001b[0m Trial 71 finished with value: 0.7590172385817247 and parameters: {'classifier': 'LR', 'lr_penalty': 'l1', 'lr_solver': 'liblinear'}. Best is trial 2 with value: 0.7590172385817247.\u001b[0m\n",
            "\u001b[32m[I 2022-09-02 17:51:07,291]\u001b[0m Trial 72 finished with value: 0.7590172385817247 and parameters: {'classifier': 'LR', 'lr_penalty': 'l1', 'lr_solver': 'liblinear'}. Best is trial 2 with value: 0.7590172385817247.\u001b[0m\n",
            "\u001b[32m[I 2022-09-02 17:51:07,574]\u001b[0m Trial 73 finished with value: 0.7590172385817247 and parameters: {'classifier': 'LR', 'lr_penalty': 'l1', 'lr_solver': 'liblinear'}. Best is trial 2 with value: 0.7590172385817247.\u001b[0m\n",
            "\u001b[32m[I 2022-09-02 17:51:07,847]\u001b[0m Trial 74 finished with value: 0.7590172385817247 and parameters: {'classifier': 'LR', 'lr_penalty': 'l1', 'lr_solver': 'liblinear'}. Best is trial 2 with value: 0.7590172385817247.\u001b[0m\n",
            "\u001b[32m[I 2022-09-02 17:51:08,126]\u001b[0m Trial 75 finished with value: 0.7590172385817247 and parameters: {'classifier': 'LR', 'lr_penalty': 'l1', 'lr_solver': 'liblinear'}. Best is trial 2 with value: 0.7590172385817247.\u001b[0m\n",
            "\u001b[32m[I 2022-09-02 17:51:08,400]\u001b[0m Trial 76 finished with value: 0.7590172385817247 and parameters: {'classifier': 'LR', 'lr_penalty': 'l1', 'lr_solver': 'liblinear'}. Best is trial 2 with value: 0.7590172385817247.\u001b[0m\n",
            "\u001b[32m[I 2022-09-02 17:51:08,686]\u001b[0m Trial 77 finished with value: 0.7590172385817247 and parameters: {'classifier': 'LR', 'lr_penalty': 'l1', 'lr_solver': 'liblinear'}. Best is trial 2 with value: 0.7590172385817247.\u001b[0m\n",
            "\u001b[32m[I 2022-09-02 17:51:08,784]\u001b[0m Trial 78 finished with value: 0.7538235059016244 and parameters: {'classifier': 'LR', 'lr_penalty': 'l2', 'lr_solver': 'liblinear'}. Best is trial 2 with value: 0.7590172385817247.\u001b[0m\n",
            "/usr/local/lib/python3.7/dist-packages/sklearn/linear_model/_sag.py:354: ConvergenceWarning:\n",
            "\n",
            "The max_iter was reached which means the coef_ did not converge\n",
            "\n",
            "\u001b[32m[I 2022-09-02 17:51:11,659]\u001b[0m Trial 79 finished with value: 0.7415467133346342 and parameters: {'classifier': 'LR', 'lr_penalty': 'l1', 'lr_solver': 'saga'}. Best is trial 2 with value: 0.7590172385817247.\u001b[0m\n",
            "\u001b[32m[I 2022-09-02 17:51:11,931]\u001b[0m Trial 80 finished with value: 0.7590172385817247 and parameters: {'classifier': 'LR', 'lr_penalty': 'l1', 'lr_solver': 'liblinear'}. Best is trial 2 with value: 0.7590172385817247.\u001b[0m\n",
            "\u001b[32m[I 2022-09-02 17:51:12,209]\u001b[0m Trial 81 finished with value: 0.7590172385817247 and parameters: {'classifier': 'LR', 'lr_penalty': 'l1', 'lr_solver': 'liblinear'}. Best is trial 2 with value: 0.7590172385817247.\u001b[0m\n",
            "\u001b[32m[I 2022-09-02 17:51:12,486]\u001b[0m Trial 82 finished with value: 0.7590172385817247 and parameters: {'classifier': 'LR', 'lr_penalty': 'l1', 'lr_solver': 'liblinear'}. Best is trial 2 with value: 0.7590172385817247.\u001b[0m\n",
            "\u001b[32m[I 2022-09-02 17:51:12,767]\u001b[0m Trial 83 finished with value: 0.7590172385817247 and parameters: {'classifier': 'LR', 'lr_penalty': 'l1', 'lr_solver': 'liblinear'}. Best is trial 2 with value: 0.7590172385817247.\u001b[0m\n",
            "\u001b[32m[I 2022-09-02 17:51:13,043]\u001b[0m Trial 84 finished with value: 0.7590172385817247 and parameters: {'classifier': 'LR', 'lr_penalty': 'l1', 'lr_solver': 'liblinear'}. Best is trial 2 with value: 0.7590172385817247.\u001b[0m\n",
            "\u001b[32m[I 2022-09-02 17:51:13,321]\u001b[0m Trial 85 finished with value: 0.7590172385817247 and parameters: {'classifier': 'LR', 'lr_penalty': 'l1', 'lr_solver': 'liblinear'}. Best is trial 2 with value: 0.7590172385817247.\u001b[0m\n",
            "\u001b[32m[I 2022-09-02 17:51:13,599]\u001b[0m Trial 86 finished with value: 0.7590172385817247 and parameters: {'classifier': 'LR', 'lr_penalty': 'l1', 'lr_solver': 'liblinear'}. Best is trial 2 with value: 0.7590172385817247.\u001b[0m\n",
            "\u001b[32m[I 2022-09-02 17:51:13,874]\u001b[0m Trial 87 finished with value: 0.7590172385817247 and parameters: {'classifier': 'LR', 'lr_penalty': 'l1', 'lr_solver': 'liblinear'}. Best is trial 2 with value: 0.7590172385817247.\u001b[0m\n",
            "\u001b[32m[I 2022-09-02 17:51:14,158]\u001b[0m Trial 88 finished with value: 0.7590172385817247 and parameters: {'classifier': 'LR', 'lr_penalty': 'l1', 'lr_solver': 'liblinear'}. Best is trial 2 with value: 0.7590172385817247.\u001b[0m\n",
            "\u001b[32m[I 2022-09-02 17:51:14,430]\u001b[0m Trial 89 finished with value: 0.7590172385817247 and parameters: {'classifier': 'LR', 'lr_penalty': 'l1', 'lr_solver': 'liblinear'}. Best is trial 2 with value: 0.7590172385817247.\u001b[0m\n",
            "\u001b[32m[I 2022-09-02 17:51:14,710]\u001b[0m Trial 90 finished with value: 0.7590172385817247 and parameters: {'classifier': 'LR', 'lr_penalty': 'l1', 'lr_solver': 'liblinear'}. Best is trial 2 with value: 0.7590172385817247.\u001b[0m\n",
            "\u001b[32m[I 2022-09-02 17:51:14,984]\u001b[0m Trial 91 finished with value: 0.7590172385817247 and parameters: {'classifier': 'LR', 'lr_penalty': 'l1', 'lr_solver': 'liblinear'}. Best is trial 2 with value: 0.7590172385817247.\u001b[0m\n",
            "\u001b[32m[I 2022-09-02 17:51:15,279]\u001b[0m Trial 92 finished with value: 0.7590172385817247 and parameters: {'classifier': 'LR', 'lr_penalty': 'l1', 'lr_solver': 'liblinear'}. Best is trial 2 with value: 0.7590172385817247.\u001b[0m\n",
            "\u001b[32m[I 2022-09-02 17:51:15,554]\u001b[0m Trial 93 finished with value: 0.7590172385817247 and parameters: {'classifier': 'LR', 'lr_penalty': 'l1', 'lr_solver': 'liblinear'}. Best is trial 2 with value: 0.7590172385817247.\u001b[0m\n",
            "\u001b[32m[I 2022-09-02 17:51:15,833]\u001b[0m Trial 94 finished with value: 0.7590172385817247 and parameters: {'classifier': 'LR', 'lr_penalty': 'l1', 'lr_solver': 'liblinear'}. Best is trial 2 with value: 0.7590172385817247.\u001b[0m\n",
            "\u001b[32m[I 2022-09-02 17:51:16,110]\u001b[0m Trial 95 finished with value: 0.7590172385817247 and parameters: {'classifier': 'LR', 'lr_penalty': 'l1', 'lr_solver': 'liblinear'}. Best is trial 2 with value: 0.7590172385817247.\u001b[0m\n",
            "\u001b[32m[I 2022-09-02 17:51:16,384]\u001b[0m Trial 96 finished with value: 0.7590172385817247 and parameters: {'classifier': 'LR', 'lr_penalty': 'l1', 'lr_solver': 'liblinear'}. Best is trial 2 with value: 0.7590172385817247.\u001b[0m\n",
            "\u001b[32m[I 2022-09-02 17:51:16,653]\u001b[0m Trial 97 finished with value: 0.7590172385817247 and parameters: {'classifier': 'LR', 'lr_penalty': 'l1', 'lr_solver': 'liblinear'}. Best is trial 2 with value: 0.7590172385817247.\u001b[0m\n",
            "/usr/local/lib/python3.7/dist-packages/sklearn/linear_model/_sag.py:354: ConvergenceWarning:\n",
            "\n",
            "The max_iter was reached which means the coef_ did not converge\n",
            "\n",
            "\u001b[32m[I 2022-09-02 17:51:19,054]\u001b[0m Trial 98 finished with value: 0.7415467133346342 and parameters: {'classifier': 'LR', 'lr_penalty': 'l2', 'lr_solver': 'saga'}. Best is trial 2 with value: 0.7590172385817247.\u001b[0m\n",
            "\u001b[32m[I 2022-09-02 17:51:19,326]\u001b[0m Trial 99 finished with value: 0.7590172385817247 and parameters: {'classifier': 'LR', 'lr_penalty': 'l1', 'lr_solver': 'liblinear'}. Best is trial 2 with value: 0.7590172385817247.\u001b[0m\n"
          ]
        }
      ]
    },
    {
      "cell_type": "code",
      "source": [
        "optuna.visualization.plot_optimization_history(study_lr).show()"
      ],
      "metadata": {
        "colab": {
          "base_uri": "https://localhost:8080/",
          "height": 542
        },
        "outputId": "bd436920-3761-40ef-af0f-ba876089110f",
        "id": "tJ56HVNLTghV"
      },
      "execution_count": null,
      "outputs": [
        {
          "output_type": "display_data",
          "data": {
            "text/html": [
              "<html>\n",
              "<head><meta charset=\"utf-8\" /></head>\n",
              "<body>\n",
              "    <div>            <script src=\"https://cdnjs.cloudflare.com/ajax/libs/mathjax/2.7.5/MathJax.js?config=TeX-AMS-MML_SVG\"></script><script type=\"text/javascript\">if (window.MathJax) {MathJax.Hub.Config({SVG: {font: \"STIX-Web\"}});}</script>                <script type=\"text/javascript\">window.PlotlyConfig = {MathJaxConfig: 'local'};</script>\n",
              "        <script src=\"https://cdn.plot.ly/plotly-2.8.3.min.js\"></script>                <div id=\"30a8d5d1-1ce4-41d6-9a6b-4c0c1fe53e11\" class=\"plotly-graph-div\" style=\"height:525px; width:100%;\"></div>            <script type=\"text/javascript\">                                    window.PLOTLYENV=window.PLOTLYENV || {};                                    if (document.getElementById(\"30a8d5d1-1ce4-41d6-9a6b-4c0c1fe53e11\")) {                    Plotly.newPlot(                        \"30a8d5d1-1ce4-41d6-9a6b-4c0c1fe53e11\",                        [{\"mode\":\"markers\",\"name\":\"Objective Value\",\"x\":[0,1,2,3,4,5,6,7,8,9,10,11,12,13,14,15,16,17,18,19,20,21,22,23,24,25,26,27,28,29,30,31,32,33,34,35,36,37,38,39,40,41,42,43,44,45,46,47,48,49,50,51,52,53,54,55,56,57,58,59,60,61,62,63,64,65,66,67,68,69,70,71,72,73,74,75,76,77,78,79,80,81,82,83,84,85,86,87,88,89,90,91,92,93,94,95,96,97,98,99],\"y\":[0.7538235059016244,0.7538235059016244,0.7590172385817247,0.7590172385817247,0.7590172385817247,0.7538235059016244,0.7538235059016244,0.7415467133346342,0.7538235059016244,0.7415467133346342,0.7415467133346342,0.7590172385817247,0.7590172385817247,0.7590172385817247,0.7590172385817247,0.7415467133346342,0.7590172385817247,0.7590172385817247,0.7415467133346342,0.7590172385817247,0.7590172385817247,0.7590172385817247,0.7590172385817247,0.7590172385817247,0.7590172385817247,0.7590172385817247,0.7415467133346342,0.7590172385817247,0.7590172385817247,0.7538235059016244,0.7590172385817247,0.7590172385817247,0.7590172385817247,0.7590172385817247,0.7590172385817247,0.7590172385817247,0.7538235059016244,0.7590172385817247,0.7538235059016244,0.7590172385817247,0.7415467133346342,0.7590172385817247,0.7590172385817247,0.7590172385817247,0.7590172385817247,0.7590172385817247,0.7590172385817247,0.7590172385817247,0.7415467133346342,0.7538235059016244,0.7590172385817247,0.7590172385817247,0.7590172385817247,0.7590172385817247,0.7590172385817247,0.7590172385817247,0.7590172385817247,0.7415467133346342,0.7590172385817247,0.7590172385817247,0.7590172385817247,0.7590172385817247,0.7590172385817247,0.7590172385817247,0.7590172385817247,0.7590172385817247,0.7590172385817247,0.7415467133346342,0.7538235059016244,0.7590172385817247,0.7590172385817247,0.7590172385817247,0.7590172385817247,0.7590172385817247,0.7590172385817247,0.7590172385817247,0.7590172385817247,0.7590172385817247,0.7538235059016244,0.7415467133346342,0.7590172385817247,0.7590172385817247,0.7590172385817247,0.7590172385817247,0.7590172385817247,0.7590172385817247,0.7590172385817247,0.7590172385817247,0.7590172385817247,0.7590172385817247,0.7590172385817247,0.7590172385817247,0.7590172385817247,0.7590172385817247,0.7590172385817247,0.7590172385817247,0.7590172385817247,0.7590172385817247,0.7415467133346342,0.7590172385817247],\"type\":\"scatter\"},{\"name\":\"Best Value\",\"x\":[0,1,2,3,4,5,6,7,8,9,10,11,12,13,14,15,16,17,18,19,20,21,22,23,24,25,26,27,28,29,30,31,32,33,34,35,36,37,38,39,40,41,42,43,44,45,46,47,48,49,50,51,52,53,54,55,56,57,58,59,60,61,62,63,64,65,66,67,68,69,70,71,72,73,74,75,76,77,78,79,80,81,82,83,84,85,86,87,88,89,90,91,92,93,94,95,96,97,98,99],\"y\":[0.7538235059016244,0.7538235059016244,0.7590172385817247,0.7590172385817247,0.7590172385817247,0.7590172385817247,0.7590172385817247,0.7590172385817247,0.7590172385817247,0.7590172385817247,0.7590172385817247,0.7590172385817247,0.7590172385817247,0.7590172385817247,0.7590172385817247,0.7590172385817247,0.7590172385817247,0.7590172385817247,0.7590172385817247,0.7590172385817247,0.7590172385817247,0.7590172385817247,0.7590172385817247,0.7590172385817247,0.7590172385817247,0.7590172385817247,0.7590172385817247,0.7590172385817247,0.7590172385817247,0.7590172385817247,0.7590172385817247,0.7590172385817247,0.7590172385817247,0.7590172385817247,0.7590172385817247,0.7590172385817247,0.7590172385817247,0.7590172385817247,0.7590172385817247,0.7590172385817247,0.7590172385817247,0.7590172385817247,0.7590172385817247,0.7590172385817247,0.7590172385817247,0.7590172385817247,0.7590172385817247,0.7590172385817247,0.7590172385817247,0.7590172385817247,0.7590172385817247,0.7590172385817247,0.7590172385817247,0.7590172385817247,0.7590172385817247,0.7590172385817247,0.7590172385817247,0.7590172385817247,0.7590172385817247,0.7590172385817247,0.7590172385817247,0.7590172385817247,0.7590172385817247,0.7590172385817247,0.7590172385817247,0.7590172385817247,0.7590172385817247,0.7590172385817247,0.7590172385817247,0.7590172385817247,0.7590172385817247,0.7590172385817247,0.7590172385817247,0.7590172385817247,0.7590172385817247,0.7590172385817247,0.7590172385817247,0.7590172385817247,0.7590172385817247,0.7590172385817247,0.7590172385817247,0.7590172385817247,0.7590172385817247,0.7590172385817247,0.7590172385817247,0.7590172385817247,0.7590172385817247,0.7590172385817247,0.7590172385817247,0.7590172385817247,0.7590172385817247,0.7590172385817247,0.7590172385817247,0.7590172385817247,0.7590172385817247,0.7590172385817247,0.7590172385817247,0.7590172385817247,0.7590172385817247,0.7590172385817247],\"type\":\"scatter\"}],                        {\"title\":{\"text\":\"Optimization History Plot\"},\"xaxis\":{\"title\":{\"text\":\"Trial\"}},\"yaxis\":{\"title\":{\"text\":\"Objective Value\"}},\"template\":{\"data\":{\"bar\":[{\"error_x\":{\"color\":\"#2a3f5f\"},\"error_y\":{\"color\":\"#2a3f5f\"},\"marker\":{\"line\":{\"color\":\"#E5ECF6\",\"width\":0.5},\"pattern\":{\"fillmode\":\"overlay\",\"size\":10,\"solidity\":0.2}},\"type\":\"bar\"}],\"barpolar\":[{\"marker\":{\"line\":{\"color\":\"#E5ECF6\",\"width\":0.5},\"pattern\":{\"fillmode\":\"overlay\",\"size\":10,\"solidity\":0.2}},\"type\":\"barpolar\"}],\"carpet\":[{\"aaxis\":{\"endlinecolor\":\"#2a3f5f\",\"gridcolor\":\"white\",\"linecolor\":\"white\",\"minorgridcolor\":\"white\",\"startlinecolor\":\"#2a3f5f\"},\"baxis\":{\"endlinecolor\":\"#2a3f5f\",\"gridcolor\":\"white\",\"linecolor\":\"white\",\"minorgridcolor\":\"white\",\"startlinecolor\":\"#2a3f5f\"},\"type\":\"carpet\"}],\"choropleth\":[{\"colorbar\":{\"outlinewidth\":0,\"ticks\":\"\"},\"type\":\"choropleth\"}],\"contour\":[{\"colorbar\":{\"outlinewidth\":0,\"ticks\":\"\"},\"colorscale\":[[0.0,\"#0d0887\"],[0.1111111111111111,\"#46039f\"],[0.2222222222222222,\"#7201a8\"],[0.3333333333333333,\"#9c179e\"],[0.4444444444444444,\"#bd3786\"],[0.5555555555555556,\"#d8576b\"],[0.6666666666666666,\"#ed7953\"],[0.7777777777777778,\"#fb9f3a\"],[0.8888888888888888,\"#fdca26\"],[1.0,\"#f0f921\"]],\"type\":\"contour\"}],\"contourcarpet\":[{\"colorbar\":{\"outlinewidth\":0,\"ticks\":\"\"},\"type\":\"contourcarpet\"}],\"heatmap\":[{\"colorbar\":{\"outlinewidth\":0,\"ticks\":\"\"},\"colorscale\":[[0.0,\"#0d0887\"],[0.1111111111111111,\"#46039f\"],[0.2222222222222222,\"#7201a8\"],[0.3333333333333333,\"#9c179e\"],[0.4444444444444444,\"#bd3786\"],[0.5555555555555556,\"#d8576b\"],[0.6666666666666666,\"#ed7953\"],[0.7777777777777778,\"#fb9f3a\"],[0.8888888888888888,\"#fdca26\"],[1.0,\"#f0f921\"]],\"type\":\"heatmap\"}],\"heatmapgl\":[{\"colorbar\":{\"outlinewidth\":0,\"ticks\":\"\"},\"colorscale\":[[0.0,\"#0d0887\"],[0.1111111111111111,\"#46039f\"],[0.2222222222222222,\"#7201a8\"],[0.3333333333333333,\"#9c179e\"],[0.4444444444444444,\"#bd3786\"],[0.5555555555555556,\"#d8576b\"],[0.6666666666666666,\"#ed7953\"],[0.7777777777777778,\"#fb9f3a\"],[0.8888888888888888,\"#fdca26\"],[1.0,\"#f0f921\"]],\"type\":\"heatmapgl\"}],\"histogram\":[{\"marker\":{\"pattern\":{\"fillmode\":\"overlay\",\"size\":10,\"solidity\":0.2}},\"type\":\"histogram\"}],\"histogram2d\":[{\"colorbar\":{\"outlinewidth\":0,\"ticks\":\"\"},\"colorscale\":[[0.0,\"#0d0887\"],[0.1111111111111111,\"#46039f\"],[0.2222222222222222,\"#7201a8\"],[0.3333333333333333,\"#9c179e\"],[0.4444444444444444,\"#bd3786\"],[0.5555555555555556,\"#d8576b\"],[0.6666666666666666,\"#ed7953\"],[0.7777777777777778,\"#fb9f3a\"],[0.8888888888888888,\"#fdca26\"],[1.0,\"#f0f921\"]],\"type\":\"histogram2d\"}],\"histogram2dcontour\":[{\"colorbar\":{\"outlinewidth\":0,\"ticks\":\"\"},\"colorscale\":[[0.0,\"#0d0887\"],[0.1111111111111111,\"#46039f\"],[0.2222222222222222,\"#7201a8\"],[0.3333333333333333,\"#9c179e\"],[0.4444444444444444,\"#bd3786\"],[0.5555555555555556,\"#d8576b\"],[0.6666666666666666,\"#ed7953\"],[0.7777777777777778,\"#fb9f3a\"],[0.8888888888888888,\"#fdca26\"],[1.0,\"#f0f921\"]],\"type\":\"histogram2dcontour\"}],\"mesh3d\":[{\"colorbar\":{\"outlinewidth\":0,\"ticks\":\"\"},\"type\":\"mesh3d\"}],\"parcoords\":[{\"line\":{\"colorbar\":{\"outlinewidth\":0,\"ticks\":\"\"}},\"type\":\"parcoords\"}],\"pie\":[{\"automargin\":true,\"type\":\"pie\"}],\"scatter\":[{\"marker\":{\"colorbar\":{\"outlinewidth\":0,\"ticks\":\"\"}},\"type\":\"scatter\"}],\"scatter3d\":[{\"line\":{\"colorbar\":{\"outlinewidth\":0,\"ticks\":\"\"}},\"marker\":{\"colorbar\":{\"outlinewidth\":0,\"ticks\":\"\"}},\"type\":\"scatter3d\"}],\"scattercarpet\":[{\"marker\":{\"colorbar\":{\"outlinewidth\":0,\"ticks\":\"\"}},\"type\":\"scattercarpet\"}],\"scattergeo\":[{\"marker\":{\"colorbar\":{\"outlinewidth\":0,\"ticks\":\"\"}},\"type\":\"scattergeo\"}],\"scattergl\":[{\"marker\":{\"colorbar\":{\"outlinewidth\":0,\"ticks\":\"\"}},\"type\":\"scattergl\"}],\"scattermapbox\":[{\"marker\":{\"colorbar\":{\"outlinewidth\":0,\"ticks\":\"\"}},\"type\":\"scattermapbox\"}],\"scatterpolar\":[{\"marker\":{\"colorbar\":{\"outlinewidth\":0,\"ticks\":\"\"}},\"type\":\"scatterpolar\"}],\"scatterpolargl\":[{\"marker\":{\"colorbar\":{\"outlinewidth\":0,\"ticks\":\"\"}},\"type\":\"scatterpolargl\"}],\"scatterternary\":[{\"marker\":{\"colorbar\":{\"outlinewidth\":0,\"ticks\":\"\"}},\"type\":\"scatterternary\"}],\"surface\":[{\"colorbar\":{\"outlinewidth\":0,\"ticks\":\"\"},\"colorscale\":[[0.0,\"#0d0887\"],[0.1111111111111111,\"#46039f\"],[0.2222222222222222,\"#7201a8\"],[0.3333333333333333,\"#9c179e\"],[0.4444444444444444,\"#bd3786\"],[0.5555555555555556,\"#d8576b\"],[0.6666666666666666,\"#ed7953\"],[0.7777777777777778,\"#fb9f3a\"],[0.8888888888888888,\"#fdca26\"],[1.0,\"#f0f921\"]],\"type\":\"surface\"}],\"table\":[{\"cells\":{\"fill\":{\"color\":\"#EBF0F8\"},\"line\":{\"color\":\"white\"}},\"header\":{\"fill\":{\"color\":\"#C8D4E3\"},\"line\":{\"color\":\"white\"}},\"type\":\"table\"}]},\"layout\":{\"annotationdefaults\":{\"arrowcolor\":\"#2a3f5f\",\"arrowhead\":0,\"arrowwidth\":1},\"autotypenumbers\":\"strict\",\"coloraxis\":{\"colorbar\":{\"outlinewidth\":0,\"ticks\":\"\"}},\"colorscale\":{\"diverging\":[[0,\"#8e0152\"],[0.1,\"#c51b7d\"],[0.2,\"#de77ae\"],[0.3,\"#f1b6da\"],[0.4,\"#fde0ef\"],[0.5,\"#f7f7f7\"],[0.6,\"#e6f5d0\"],[0.7,\"#b8e186\"],[0.8,\"#7fbc41\"],[0.9,\"#4d9221\"],[1,\"#276419\"]],\"sequential\":[[0.0,\"#0d0887\"],[0.1111111111111111,\"#46039f\"],[0.2222222222222222,\"#7201a8\"],[0.3333333333333333,\"#9c179e\"],[0.4444444444444444,\"#bd3786\"],[0.5555555555555556,\"#d8576b\"],[0.6666666666666666,\"#ed7953\"],[0.7777777777777778,\"#fb9f3a\"],[0.8888888888888888,\"#fdca26\"],[1.0,\"#f0f921\"]],\"sequentialminus\":[[0.0,\"#0d0887\"],[0.1111111111111111,\"#46039f\"],[0.2222222222222222,\"#7201a8\"],[0.3333333333333333,\"#9c179e\"],[0.4444444444444444,\"#bd3786\"],[0.5555555555555556,\"#d8576b\"],[0.6666666666666666,\"#ed7953\"],[0.7777777777777778,\"#fb9f3a\"],[0.8888888888888888,\"#fdca26\"],[1.0,\"#f0f921\"]]},\"colorway\":[\"#636efa\",\"#EF553B\",\"#00cc96\",\"#ab63fa\",\"#FFA15A\",\"#19d3f3\",\"#FF6692\",\"#B6E880\",\"#FF97FF\",\"#FECB52\"],\"font\":{\"color\":\"#2a3f5f\"},\"geo\":{\"bgcolor\":\"white\",\"lakecolor\":\"white\",\"landcolor\":\"#E5ECF6\",\"showlakes\":true,\"showland\":true,\"subunitcolor\":\"white\"},\"hoverlabel\":{\"align\":\"left\"},\"hovermode\":\"closest\",\"mapbox\":{\"style\":\"light\"},\"paper_bgcolor\":\"white\",\"plot_bgcolor\":\"#E5ECF6\",\"polar\":{\"angularaxis\":{\"gridcolor\":\"white\",\"linecolor\":\"white\",\"ticks\":\"\"},\"bgcolor\":\"#E5ECF6\",\"radialaxis\":{\"gridcolor\":\"white\",\"linecolor\":\"white\",\"ticks\":\"\"}},\"scene\":{\"xaxis\":{\"backgroundcolor\":\"#E5ECF6\",\"gridcolor\":\"white\",\"gridwidth\":2,\"linecolor\":\"white\",\"showbackground\":true,\"ticks\":\"\",\"zerolinecolor\":\"white\"},\"yaxis\":{\"backgroundcolor\":\"#E5ECF6\",\"gridcolor\":\"white\",\"gridwidth\":2,\"linecolor\":\"white\",\"showbackground\":true,\"ticks\":\"\",\"zerolinecolor\":\"white\"},\"zaxis\":{\"backgroundcolor\":\"#E5ECF6\",\"gridcolor\":\"white\",\"gridwidth\":2,\"linecolor\":\"white\",\"showbackground\":true,\"ticks\":\"\",\"zerolinecolor\":\"white\"}},\"shapedefaults\":{\"line\":{\"color\":\"#2a3f5f\"}},\"ternary\":{\"aaxis\":{\"gridcolor\":\"white\",\"linecolor\":\"white\",\"ticks\":\"\"},\"baxis\":{\"gridcolor\":\"white\",\"linecolor\":\"white\",\"ticks\":\"\"},\"bgcolor\":\"#E5ECF6\",\"caxis\":{\"gridcolor\":\"white\",\"linecolor\":\"white\",\"ticks\":\"\"}},\"title\":{\"x\":0.05},\"xaxis\":{\"automargin\":true,\"gridcolor\":\"white\",\"linecolor\":\"white\",\"ticks\":\"\",\"title\":{\"standoff\":15},\"zerolinecolor\":\"white\",\"zerolinewidth\":2},\"yaxis\":{\"automargin\":true,\"gridcolor\":\"white\",\"linecolor\":\"white\",\"ticks\":\"\",\"title\":{\"standoff\":15},\"zerolinecolor\":\"white\",\"zerolinewidth\":2}}}},                        {\"responsive\": true}                    ).then(function(){\n",
              "                            \n",
              "var gd = document.getElementById('30a8d5d1-1ce4-41d6-9a6b-4c0c1fe53e11');\n",
              "var x = new MutationObserver(function (mutations, observer) {{\n",
              "        var display = window.getComputedStyle(gd).display;\n",
              "        if (!display || display === 'none') {{\n",
              "            console.log([gd, 'removed!']);\n",
              "            Plotly.purge(gd);\n",
              "            observer.disconnect();\n",
              "        }}\n",
              "}});\n",
              "\n",
              "// Listen for the removal of the full notebook cells\n",
              "var notebookContainer = gd.closest('#notebook-container');\n",
              "if (notebookContainer) {{\n",
              "    x.observe(notebookContainer, {childList: true});\n",
              "}}\n",
              "\n",
              "// Listen for the clearing of the current output cell\n",
              "var outputEl = gd.closest('.output');\n",
              "if (outputEl) {{\n",
              "    x.observe(outputEl, {childList: true});\n",
              "}}\n",
              "\n",
              "                        })                };                            </script>        </div>\n",
              "</body>\n",
              "</html>"
            ]
          },
          "metadata": {}
        }
      ]
    },
    {
      "cell_type": "markdown",
      "source": [
        "Assim como no estudo da RF e da MLP, observamos que o modelo LR também convergiu cedo e não foi superado ao longo dos treinos."
      ],
      "metadata": {
        "id": "LEY_zC-TTghW"
      }
    },
    {
      "cell_type": "code",
      "source": [
        "print(f\"Melhor trial : \\n{study_lr.best_trial}\")\n",
        "\n",
        "print(f\"Melhor valor do f-score : \\n{study_lr.best_value}\")\n",
        "\n",
        "print(f\"Melhores parâmetros : \\n{study_lr.best_params}\")"
      ],
      "metadata": {
        "colab": {
          "base_uri": "https://localhost:8080/"
        },
        "outputId": "deb20c87-bc21-45c0-c949-e50cd6b372d3",
        "id": "Jdym3HnVTghX"
      },
      "execution_count": null,
      "outputs": [
        {
          "output_type": "stream",
          "name": "stdout",
          "text": [
            "Melhor trial : \n",
            "FrozenTrial(number=2, values=[0.7590172385817247], datetime_start=datetime.datetime(2022, 9, 2, 17, 50, 24, 291488), datetime_complete=datetime.datetime(2022, 9, 2, 17, 50, 24, 565757), params={'classifier': 'LR', 'lr_penalty': 'l1', 'lr_solver': 'liblinear'}, distributions={'classifier': CategoricalDistribution(choices=('LR',)), 'lr_penalty': CategoricalDistribution(choices=('l1', 'l2')), 'lr_solver': CategoricalDistribution(choices=('liblinear', 'saga'))}, user_attrs={}, system_attrs={}, intermediate_values={}, trial_id=2, state=TrialState.COMPLETE, value=None)\n",
            "Melhor valor do f-score : \n",
            "0.7590172385817247\n",
            "Melhores parâmetros : \n",
            "{'classifier': 'LR', 'lr_penalty': 'l1', 'lr_solver': 'liblinear'}\n"
          ]
        }
      ]
    },
    {
      "cell_type": "code",
      "source": [
        "best_lr = LogisticRegression(\n",
        "      random_state=RANDOM_STATE,\n",
        "      penalty=study_lr.best_params['lr_penalty'],\n",
        "      solver=study_lr.best_params['lr_solver']\n",
        ")\n",
        "best_lr.fit(X_train, y_train)"
      ],
      "metadata": {
        "colab": {
          "base_uri": "https://localhost:8080/"
        },
        "outputId": "3bcb7f65-fdf6-4299-934e-b7abca4cc24f",
        "id": "FQ1vEkUhTghY"
      },
      "execution_count": null,
      "outputs": [
        {
          "output_type": "execute_result",
          "data": {
            "text/plain": [
              "LogisticRegression(penalty='l1', random_state=42, solver='liblinear')"
            ]
          },
          "metadata": {},
          "execution_count": 141
        }
      ]
    },
    {
      "cell_type": "code",
      "source": [
        "y_pred = best_lr.predict(X_val)\n",
        "y_proba = best_lr.predict_proba(X_val)\n",
        "eval_metrics(y_val, y_pred, y_proba)"
      ],
      "metadata": {
        "colab": {
          "base_uri": "https://localhost:8080/"
        },
        "outputId": "9554d7cb-dc2b-4697-cf86-4027f367b668",
        "id": "UCsb5cGbTghZ"
      },
      "execution_count": null,
      "outputs": [
        {
          "output_type": "execute_result",
          "data": {
            "text/plain": [
              "(0.8192875760208514, 0.7522404991491776, 0.7590172385817247)"
            ]
          },
          "metadata": {},
          "execution_count": 142
        }
      ]
    },
    {
      "cell_type": "markdown",
      "source": [
        "### Finalizando os testes e selecionando o melhor modelo geral"
      ],
      "metadata": {
        "id": "zrtYedp1XBoB"
      }
    },
    {
      "cell_type": "code",
      "source": [
        "clfs = [best_xgb, best_mlp, best_rf, best_lr]\n",
        "for clf in clfs:\n",
        "  print('modelo', ':', clf)\n",
        "  y_pred = clf.predict(X_test)\n",
        "  y_proba = clf.predict_proba(X_test)\n",
        "  acc, auroc, f1 = eval_metrics(y_test, y_pred, y_proba)\n",
        "  print(f'Accuracy : {acc}')\n",
        "  print(f'AUROC : {auroc}')\n",
        "  print(f'F1-Score : {f1}')\n",
        "  print('\\n')"
      ],
      "metadata": {
        "colab": {
          "base_uri": "https://localhost:8080/"
        },
        "id": "uhRFPX_KXFCf",
        "outputId": "549de610-982b-48ac-bb91-4a4c44624091"
      },
      "execution_count": null,
      "outputs": [
        {
          "output_type": "stream",
          "name": "stdout",
          "text": [
            "modelo : XGBClassifier(learning_rate=0.05466132863394454, max_depth=15, n_estimators=825,\n",
            "              random_state=42)\n",
            "Accuracy : 0.8670143415906127\n",
            "AUROC : 0.8688219982575212\n",
            "F1-Score : 0.8438085994252841\n",
            "\n",
            "\n",
            "modelo : MLPClassifier(activation='logistic', hidden_layer_sizes=(50, 50), max_iter=1000,\n",
            "              random_state=42)\n",
            "Accuracy : 0.8296392872664059\n",
            "AUROC : 0.7435383076443192\n",
            "F1-Score : 0.7870603182573797\n",
            "\n",
            "\n",
            "modelo : RandomForestClassifier(max_depth=22, n_estimators=409, random_state=42)\n",
            "Accuracy : 0.8448500651890483\n",
            "AUROC : 0.8193542878962258\n",
            "F1-Score : 0.7969093744078708\n",
            "\n",
            "\n",
            "modelo : LogisticRegression(penalty='l1', random_state=42, solver='liblinear')\n",
            "Accuracy : 0.8365927857453281\n",
            "AUROC : 0.7540698174699638\n",
            "F1-Score : 0.7779334926959199\n",
            "\n",
            "\n"
          ]
        }
      ]
    },
    {
      "cell_type": "markdown",
      "source": [
        "Assim, finalizando os testes observamos que o melhor modelo no geral foi atingido utilizando o algoritmo XGBoost com os seguintes hiperparâmetros tunados:\n",
        "\n",
        "```\n",
        "learning_rate = 0.05466132863394454\n",
        "max_depth = 15\n",
        "n_estimators = 825\n",
        "```\n",
        "\n"
      ],
      "metadata": {
        "id": "-_ZGA_KTX1M3"
      }
    },
    {
      "cell_type": "code",
      "source": [
        "best_clf = best_xgb"
      ],
      "metadata": {
        "id": "DObd2prCYxWR"
      },
      "execution_count": null,
      "outputs": []
    },
    {
      "cell_type": "markdown",
      "source": [
        "## Diagnóstico do modelo\n",
        "O objetivo dessa última seção é avaliar como o modelo performa nos diferentes conjuntos do dataset, sobretudo treino e teste, e identificar possíveis problemas como *overfit* ou *underfit*. A partir disto, tomamos as ações necessárias para resolução do diagnóstico."
      ],
      "metadata": {
        "id": "EZ8hEmSaYwfG"
      }
    },
    {
      "cell_type": "code",
      "source": [
        "# Treino\n",
        "y_pred_train = best_clf.predict(X_train)\n",
        "y_proba_train = best_clf.predict_proba(X_train)\n",
        "acc_train, auroc_train, f1_train = eval_metrics(y_train, y_pred_train, y_proba_train)\n",
        "print(f'Accuracy train : {acc_train}')\n",
        "print(f'AUROC train : {auroc_train}')\n",
        "print(f'F1-Score train : {f1_train}')"
      ],
      "metadata": {
        "id": "sLh15sD0ZNhS",
        "outputId": "a80c77f0-ff96-4d43-b595-89fec9c64216",
        "colab": {
          "base_uri": "https://localhost:8080/"
        }
      },
      "execution_count": null,
      "outputs": [
        {
          "output_type": "stream",
          "name": "stdout",
          "text": [
            "Accuracy train : 1.0\n",
            "AUROC train : 1.0\n",
            "F1-Score train : 1.0\n"
          ]
        }
      ]
    },
    {
      "cell_type": "code",
      "source": [
        "# Teste\n",
        "y_pred_test = best_clf.predict(X_test)\n",
        "y_proba_test = best_clf.predict_proba(X_test)\n",
        "acc_test, auroc_test, f1_test = eval_metrics(y_test, y_pred_test, y_proba_test)\n",
        "print(f'Accuracy test : {acc_test}')\n",
        "print(f'AUROC test : {auroc_test}')\n",
        "print(f'F1-Score test : {f1_test}')"
      ],
      "metadata": {
        "id": "WnGJOp-hZYMc",
        "outputId": "fb41a175-ef08-479b-e006-fdb4c7e0f0bc",
        "colab": {
          "base_uri": "https://localhost:8080/"
        }
      },
      "execution_count": null,
      "outputs": [
        {
          "output_type": "stream",
          "name": "stdout",
          "text": [
            "Accuracy test : 0.8670143415906127\n",
            "AUROC test : 0.8688219982575212\n",
            "F1-Score test : 0.8438085994252841\n"
          ]
        }
      ]
    },
    {
      "cell_type": "markdown",
      "source": [
        "Assim, dada a grande diferença nas métricas (> 15%) para os dados de treino e teste, chegamos ao diagnóstico de ***overfitting***."
      ],
      "metadata": {
        "id": "IQ5kZHpraG7Y"
      }
    },
    {
      "cell_type": "markdown",
      "source": [
        "### Resolvendo overfitting no XGBoost\n",
        "Segundo os tutoriais na [documentação do XGBoost](https://xgboost.readthedocs.io/en/stable/tutorials/param_tuning.html), existem duas formas principais de controlar o cenário de overfitting nos modelos:\n",
        "\n",
        "1. Controlar a complexidade do modelo via hiperparâmetros como `max_depth`, `min_child_weight` e `gamma`\n",
        "2. Adicionar aleatoriedade para deixar o treinamento menos suscetível a *noise* com os hiperparâmetros `subsample` e `colsample_bytree` \n",
        "\n",
        "Além disso, como estamos utilizando um dataset desbalanceado, é recomendado que `max_delta_step` seja 1.\n",
        "\n",
        "Então, decidimos misturar as estratégias 1 e 2 para prevenir o overfitting e realizar novamente o processo de tuning do modelo XGBoost."
      ],
      "metadata": {
        "id": "pP5YdjXkhQtg"
      }
    },
    {
      "cell_type": "code",
      "source": [
        "# Passo 1. Definindo função de objetivo a ser maximizada\n",
        "def objective_xgb_no_overfit(trial):\n",
        "  classifier = trial.suggest_categorical(\"classifier\", [\"XGB\"])\n",
        "  \n",
        "  # Passo 2. Definindo conjunto de hiperparâmetros\n",
        "  xgb_n_estimators = trial.suggest_int(\"xgb_n_estimators\", 750, 1250)\n",
        "  xgb_learning_rate = trial.suggest_float('xgb_learning_rate', 1e-3, 1e-1, log=True)\n",
        "  clf = XGBClassifier(\n",
        "      random_state=RANDOM_STATE, \n",
        "      n_estimators=xgb_n_estimators,\n",
        "      learning_rate=xgb_learning_rate, \n",
        "      max_depth=10, # valor mais baixo para prevenir o overfitting\n",
        "      subsample=0.7, # adicionar randomness\n",
        "      colsample_bytree=0.7, # adicionar randomness\n",
        "      max_delta_step=1 # ajuda com datasets desbalanceados\n",
        "  )\n",
        "  \n",
        "  # Treinando o modelo\n",
        "  clf.fit(X_train, y_train)\n",
        "\n",
        "  # Usando conjunto de validação para obter métricas\n",
        "  y_pred = clf.predict(X_val)\n",
        "  y_proba = clf.predict_proba(X_val)\n",
        "\n",
        "  # Passo 3: Métrica otimizada\n",
        "  acc, auroc, f1 = eval_metrics(y_val, y_pred, y_proba)\n",
        "  return f1"
      ],
      "metadata": {
        "id": "lBAT5ityhUxI"
      },
      "execution_count": null,
      "outputs": []
    },
    {
      "cell_type": "code",
      "source": [
        "study_xgb = optuna.create_study(direction=\"maximize\")\n",
        "study_xgb.optimize(objective_xgb_no_overfit, n_trials=100)"
      ],
      "metadata": {
        "id": "9za5tQnzkd_2",
        "outputId": "a9bec373-7326-47eb-d10b-87bad2bcfdc3",
        "colab": {
          "base_uri": "https://localhost:8080/"
        }
      },
      "execution_count": null,
      "outputs": [
        {
          "output_type": "stream",
          "name": "stderr",
          "text": [
            "\u001b[32m[I 2022-09-03 00:23:47,043]\u001b[0m A new study created in memory with name: no-name-a3f99ef4-5898-4bfb-ba83-f9e5acc3f06a\u001b[0m\n",
            "\u001b[32m[I 2022-09-03 00:24:02,865]\u001b[0m Trial 0 finished with value: 0.8247973643854246 and parameters: {'classifier': 'XGB', 'xgb_n_estimators': 1006, 'xgb_learning_rate': 0.029489761599009144}. Best is trial 0 with value: 0.8247973643854246.\u001b[0m\n",
            "\u001b[32m[I 2022-09-03 00:24:18,748]\u001b[0m Trial 1 finished with value: 0.7944659426488688 and parameters: {'classifier': 'XGB', 'xgb_n_estimators': 907, 'xgb_learning_rate': 0.0042633977575447304}. Best is trial 0 with value: 0.8247973643854246.\u001b[0m\n",
            "\u001b[32m[I 2022-09-03 00:24:32,695]\u001b[0m Trial 2 finished with value: 0.8220291448981654 and parameters: {'classifier': 'XGB', 'xgb_n_estimators': 862, 'xgb_learning_rate': 0.03592027760744507}. Best is trial 0 with value: 0.8247973643854246.\u001b[0m\n",
            "\u001b[32m[I 2022-09-03 00:24:48,336]\u001b[0m Trial 3 finished with value: 0.8162926424683298 and parameters: {'classifier': 'XGB', 'xgb_n_estimators': 962, 'xgb_learning_rate': 0.013350732737433318}. Best is trial 0 with value: 0.8247973643854246.\u001b[0m\n",
            "\u001b[32m[I 2022-09-03 00:25:07,743]\u001b[0m Trial 4 finished with value: 0.8309448252841817 and parameters: {'classifier': 'XGB', 'xgb_n_estimators': 1123, 'xgb_learning_rate': 0.02445251762216935}. Best is trial 4 with value: 0.8309448252841817.\u001b[0m\n",
            "\u001b[32m[I 2022-09-03 00:25:20,346]\u001b[0m Trial 5 finished with value: 0.7548081477595404 and parameters: {'classifier': 'XGB', 'xgb_n_estimators': 810, 'xgb_learning_rate': 0.001170766881907741}. Best is trial 4 with value: 0.8309448252841817.\u001b[0m\n",
            "\u001b[32m[I 2022-09-03 00:25:40,801]\u001b[0m Trial 6 finished with value: 0.7792948463742121 and parameters: {'classifier': 'XGB', 'xgb_n_estimators': 1179, 'xgb_learning_rate': 0.002209274469522268}. Best is trial 4 with value: 0.8309448252841817.\u001b[0m\n",
            "\u001b[32m[I 2022-09-03 00:26:01,290]\u001b[0m Trial 7 finished with value: 0.8140545016397144 and parameters: {'classifier': 'XGB', 'xgb_n_estimators': 1237, 'xgb_learning_rate': 0.00781370457228505}. Best is trial 4 with value: 0.8309448252841817.\u001b[0m\n",
            "\u001b[32m[I 2022-09-03 00:26:21,158]\u001b[0m Trial 8 finished with value: 0.8097798924820065 and parameters: {'classifier': 'XGB', 'xgb_n_estimators': 1099, 'xgb_learning_rate': 0.007852685508991023}. Best is trial 4 with value: 0.8309448252841817.\u001b[0m\n",
            "\u001b[32m[I 2022-09-03 00:26:39,496]\u001b[0m Trial 9 finished with value: 0.8168687865131602 and parameters: {'classifier': 'XGB', 'xgb_n_estimators': 1121, 'xgb_learning_rate': 0.010099061792633939}. Best is trial 4 with value: 0.8309448252841817.\u001b[0m\n",
            "\u001b[32m[I 2022-09-03 00:26:53,225]\u001b[0m Trial 10 finished with value: 0.8341616796492887 and parameters: {'classifier': 'XGB', 'xgb_n_estimators': 1040, 'xgb_learning_rate': 0.09268982487431741}. Best is trial 10 with value: 0.8341616796492887.\u001b[0m\n",
            "\u001b[32m[I 2022-09-03 00:27:07,264]\u001b[0m Trial 11 finished with value: 0.8305849528685062 and parameters: {'classifier': 'XGB', 'xgb_n_estimators': 1039, 'xgb_learning_rate': 0.09276830488548507}. Best is trial 10 with value: 0.8341616796492887.\u001b[0m\n",
            "\u001b[32m[I 2022-09-03 00:27:22,410]\u001b[0m Trial 12 finished with value: 0.835585338162139 and parameters: {'classifier': 'XGB', 'xgb_n_estimators': 1083, 'xgb_learning_rate': 0.08135724207429376}. Best is trial 12 with value: 0.835585338162139.\u001b[0m\n",
            "\u001b[32m[I 2022-09-03 00:27:37,018]\u001b[0m Trial 13 finished with value: 0.8199253325596977 and parameters: {'classifier': 'XGB', 'xgb_n_estimators': 1050, 'xgb_learning_rate': 0.0967305975104511}. Best is trial 12 with value: 0.835585338162139.\u001b[0m\n",
            "\u001b[32m[I 2022-09-03 00:27:50,951]\u001b[0m Trial 14 finished with value: 0.8246431701754307 and parameters: {'classifier': 'XGB', 'xgb_n_estimators': 970, 'xgb_learning_rate': 0.06418408041382605}. Best is trial 12 with value: 0.835585338162139.\u001b[0m\n",
            "\u001b[32m[I 2022-09-03 00:28:08,071]\u001b[0m Trial 15 finished with value: 0.8271797223388829 and parameters: {'classifier': 'XGB', 'xgb_n_estimators': 1198, 'xgb_learning_rate': 0.05275878148014654}. Best is trial 12 with value: 0.835585338162139.\u001b[0m\n",
            "\u001b[32m[I 2022-09-03 00:28:20,305]\u001b[0m Trial 16 finished with value: 0.8205998403273336 and parameters: {'classifier': 'XGB', 'xgb_n_estimators': 750, 'xgb_learning_rate': 0.015894890032805326}. Best is trial 12 with value: 0.835585338162139.\u001b[0m\n",
            "\u001b[32m[I 2022-09-03 00:28:36,729]\u001b[0m Trial 17 finished with value: 0.8295352093679632 and parameters: {'classifier': 'XGB', 'xgb_n_estimators': 1076, 'xgb_learning_rate': 0.04597986557759133}. Best is trial 12 with value: 0.835585338162139.\u001b[0m\n",
            "\u001b[32m[I 2022-09-03 00:28:53,197]\u001b[0m Trial 18 finished with value: 0.8206457071982264 and parameters: {'classifier': 'XGB', 'xgb_n_estimators': 949, 'xgb_learning_rate': 0.019756041928707887}. Best is trial 12 with value: 0.835585338162139.\u001b[0m\n",
            "\u001b[32m[I 2022-09-03 00:29:09,340]\u001b[0m Trial 19 finished with value: 0.8273574285070305 and parameters: {'classifier': 'XGB', 'xgb_n_estimators': 1166, 'xgb_learning_rate': 0.07178668731130446}. Best is trial 12 with value: 0.835585338162139.\u001b[0m\n",
            "\u001b[32m[I 2022-09-03 00:29:24,951]\u001b[0m Trial 20 finished with value: 0.8280573605456906 and parameters: {'classifier': 'XGB', 'xgb_n_estimators': 1014, 'xgb_learning_rate': 0.036854385991361385}. Best is trial 12 with value: 0.835585338162139.\u001b[0m\n",
            "\u001b[32m[I 2022-09-03 00:29:42,914]\u001b[0m Trial 21 finished with value: 0.8254926262853721 and parameters: {'classifier': 'XGB', 'xgb_n_estimators': 1130, 'xgb_learning_rate': 0.023179266542180894}. Best is trial 12 with value: 0.835585338162139.\u001b[0m\n",
            "\u001b[32m[I 2022-09-03 00:29:59,574]\u001b[0m Trial 22 finished with value: 0.8343148302245581 and parameters: {'classifier': 'XGB', 'xgb_n_estimators': 1077, 'xgb_learning_rate': 0.060819436726926426}. Best is trial 12 with value: 0.835585338162139.\u001b[0m\n",
            "\u001b[32m[I 2022-09-03 00:30:14,458]\u001b[0m Trial 23 finished with value: 0.8233190057820489 and parameters: {'classifier': 'XGB', 'xgb_n_estimators': 1061, 'xgb_learning_rate': 0.06919201455789888}. Best is trial 12 with value: 0.835585338162139.\u001b[0m\n",
            "\u001b[32m[I 2022-09-03 00:30:27,720]\u001b[0m Trial 24 finished with value: 0.835585338162139 and parameters: {'classifier': 'XGB', 'xgb_n_estimators': 1023, 'xgb_learning_rate': 0.099838089569023}. Best is trial 12 with value: 0.835585338162139.\u001b[0m\n",
            "\u001b[32m[I 2022-09-03 00:30:41,715]\u001b[0m Trial 25 finished with value: 0.8349455666101375 and parameters: {'classifier': 'XGB', 'xgb_n_estimators': 933, 'xgb_learning_rate': 0.04478833627800679}. Best is trial 12 with value: 0.835585338162139.\u001b[0m\n",
            "\u001b[32m[I 2022-09-03 00:30:55,386]\u001b[0m Trial 26 finished with value: 0.8267320544434729 and parameters: {'classifier': 'XGB', 'xgb_n_estimators': 899, 'xgb_learning_rate': 0.04237131758790318}. Best is trial 12 with value: 0.835585338162139.\u001b[0m\n",
            "\u001b[32m[I 2022-09-03 00:31:09,469]\u001b[0m Trial 27 finished with value: 0.8213692313736142 and parameters: {'classifier': 'XGB', 'xgb_n_estimators': 897, 'xgb_learning_rate': 0.05009827871745209}. Best is trial 12 with value: 0.835585338162139.\u001b[0m\n",
            "\u001b[32m[I 2022-09-03 00:31:24,619]\u001b[0m Trial 28 finished with value: 0.8261487130424559 and parameters: {'classifier': 'XGB', 'xgb_n_estimators': 930, 'xgb_learning_rate': 0.03141448864291098}. Best is trial 12 with value: 0.835585338162139.\u001b[0m\n",
            "\u001b[32m[I 2022-09-03 00:31:37,527]\u001b[0m Trial 29 finished with value: 0.8297663484016956 and parameters: {'classifier': 'XGB', 'xgb_n_estimators': 993, 'xgb_learning_rate': 0.09956022318022723}. Best is trial 12 with value: 0.835585338162139.\u001b[0m\n",
            "\u001b[32m[I 2022-09-03 00:31:50,862]\u001b[0m Trial 30 finished with value: 0.823456742794845 and parameters: {'classifier': 'XGB', 'xgb_n_estimators': 849, 'xgb_learning_rate': 0.03014850825139399}. Best is trial 12 with value: 0.835585338162139.\u001b[0m\n",
            "\u001b[32m[I 2022-09-03 00:32:05,026]\u001b[0m Trial 31 finished with value: 0.8246431701754307 and parameters: {'classifier': 'XGB', 'xgb_n_estimators': 1000, 'xgb_learning_rate': 0.06448543212020626}. Best is trial 12 with value: 0.835585338162139.\u001b[0m\n",
            "\u001b[32m[I 2022-09-03 00:32:20,513]\u001b[0m Trial 32 finished with value: 0.8279733623894316 and parameters: {'classifier': 'XGB', 'xgb_n_estimators': 1086, 'xgb_learning_rate': 0.05846420849877729}. Best is trial 12 with value: 0.835585338162139.\u001b[0m\n",
            "\u001b[32m[I 2022-09-03 00:32:35,793]\u001b[0m Trial 33 finished with value: 0.8297663484016956 and parameters: {'classifier': 'XGB', 'xgb_n_estimators': 1024, 'xgb_learning_rate': 0.07949248190317607}. Best is trial 12 with value: 0.835585338162139.\u001b[0m\n",
            "\u001b[32m[I 2022-09-03 00:32:50,866]\u001b[0m Trial 34 finished with value: 0.8268465180183436 and parameters: {'classifier': 'XGB', 'xgb_n_estimators': 970, 'xgb_learning_rate': 0.04002047947310833}. Best is trial 12 with value: 0.835585338162139.\u001b[0m\n",
            "\u001b[32m[I 2022-09-03 00:33:11,100]\u001b[0m Trial 35 finished with value: 0.7926103152449282 and parameters: {'classifier': 'XGB', 'xgb_n_estimators': 1147, 'xgb_learning_rate': 0.0037614686307493464}. Best is trial 12 with value: 0.835585338162139.\u001b[0m\n",
            "\u001b[32m[I 2022-09-03 00:33:27,225]\u001b[0m Trial 36 finished with value: 0.8327055531558705 and parameters: {'classifier': 'XGB', 'xgb_n_estimators': 1096, 'xgb_learning_rate': 0.05097120815196262}. Best is trial 12 with value: 0.835585338162139.\u001b[0m\n",
            "\u001b[32m[I 2022-09-03 00:33:43,536]\u001b[0m Trial 37 finished with value: 0.8220805763388737 and parameters: {'classifier': 'XGB', 'xgb_n_estimators': 922, 'xgb_learning_rate': 0.025562179762033503}. Best is trial 12 with value: 0.835585338162139.\u001b[0m\n",
            "\u001b[32m[I 2022-09-03 00:33:55,939]\u001b[0m Trial 38 finished with value: 0.8293766398695214 and parameters: {'classifier': 'XGB', 'xgb_n_estimators': 861, 'xgb_learning_rate': 0.07090299750387073}. Best is trial 12 with value: 0.835585338162139.\u001b[0m\n",
            "\u001b[32m[I 2022-09-03 00:34:11,363]\u001b[0m Trial 39 finished with value: 0.8260970501576359 and parameters: {'classifier': 'XGB', 'xgb_n_estimators': 992, 'xgb_learning_rate': 0.03458760072845943}. Best is trial 12 with value: 0.835585338162139.\u001b[0m\n",
            "\u001b[32m[I 2022-09-03 00:34:29,484]\u001b[0m Trial 40 finished with value: 0.7605158791084073 and parameters: {'classifier': 'XGB', 'xgb_n_estimators': 1103, 'xgb_learning_rate': 0.0013370685869600189}. Best is trial 12 with value: 0.835585338162139.\u001b[0m\n",
            "\u001b[32m[I 2022-09-03 00:34:43,499]\u001b[0m Trial 41 finished with value: 0.8266587659205407 and parameters: {'classifier': 'XGB', 'xgb_n_estimators': 1037, 'xgb_learning_rate': 0.07980296052157924}. Best is trial 12 with value: 0.835585338162139.\u001b[0m\n",
            "\u001b[32m[I 2022-09-03 00:34:59,079]\u001b[0m Trial 42 finished with value: 0.8310512326903058 and parameters: {'classifier': 'XGB', 'xgb_n_estimators': 1065, 'xgb_learning_rate': 0.08473993231972163}. Best is trial 12 with value: 0.835585338162139.\u001b[0m\n",
            "\u001b[32m[I 2022-09-03 00:35:14,035]\u001b[0m Trial 43 finished with value: 0.8219887968002443 and parameters: {'classifier': 'XGB', 'xgb_n_estimators': 1027, 'xgb_learning_rate': 0.054389399860491995}. Best is trial 12 with value: 0.835585338162139.\u001b[0m\n",
            "\u001b[32m[I 2022-09-03 00:35:27,715]\u001b[0m Trial 44 finished with value: 0.8278792642159711 and parameters: {'classifier': 'XGB', 'xgb_n_estimators': 1055, 'xgb_learning_rate': 0.09951042911514926}. Best is trial 12 with value: 0.835585338162139.\u001b[0m\n",
            "\u001b[32m[I 2022-09-03 00:35:43,995]\u001b[0m Trial 45 finished with value: 0.795215889903347 and parameters: {'classifier': 'XGB', 'xgb_n_estimators': 953, 'xgb_learning_rate': 0.00528977352774069}. Best is trial 12 with value: 0.835585338162139.\u001b[0m\n",
            "\u001b[32m[I 2022-09-03 00:35:58,088]\u001b[0m Trial 46 finished with value: 0.8325898646688791 and parameters: {'classifier': 'XGB', 'xgb_n_estimators': 982, 'xgb_learning_rate': 0.06142307695378845}. Best is trial 12 with value: 0.835585338162139.\u001b[0m\n",
            "\u001b[32m[I 2022-09-03 00:36:14,393]\u001b[0m Trial 47 finished with value: 0.8250883350205519 and parameters: {'classifier': 'XGB', 'xgb_n_estimators': 1122, 'xgb_learning_rate': 0.08150937302165794}. Best is trial 12 with value: 0.835585338162139.\u001b[0m\n",
            "\u001b[32m[I 2022-09-03 00:36:33,951]\u001b[0m Trial 48 finished with value: 0.8206457071982264 and parameters: {'classifier': 'XGB', 'xgb_n_estimators': 1213, 'xgb_learning_rate': 0.012459567454429414}. Best is trial 12 with value: 0.835585338162139.\u001b[0m\n",
            "\u001b[32m[I 2022-09-03 00:36:49,172]\u001b[0m Trial 49 finished with value: 0.8267320544434729 and parameters: {'classifier': 'XGB', 'xgb_n_estimators': 1011, 'xgb_learning_rate': 0.04496733062254948}. Best is trial 12 with value: 0.835585338162139.\u001b[0m\n",
            "\u001b[32m[I 2022-09-03 00:37:04,484]\u001b[0m Trial 50 finished with value: 0.829461105559146 and parameters: {'classifier': 'XGB', 'xgb_n_estimators': 1080, 'xgb_learning_rate': 0.06088237893401302}. Best is trial 12 with value: 0.835585338162139.\u001b[0m\n",
            "\u001b[32m[I 2022-09-03 00:37:20,402]\u001b[0m Trial 51 finished with value: 0.8314913304929656 and parameters: {'classifier': 'XGB', 'xgb_n_estimators': 1099, 'xgb_learning_rate': 0.052730770064389185}. Best is trial 12 with value: 0.835585338162139.\u001b[0m\n",
            "\u001b[32m[I 2022-09-03 00:37:35,846]\u001b[0m Trial 52 finished with value: 0.8324647982382675 and parameters: {'classifier': 'XGB', 'xgb_n_estimators': 1045, 'xgb_learning_rate': 0.07984368905672608}. Best is trial 12 with value: 0.835585338162139.\u001b[0m\n",
            "\u001b[32m[I 2022-09-03 00:37:54,048]\u001b[0m Trial 53 finished with value: 0.8276156794746706 and parameters: {'classifier': 'XGB', 'xgb_n_estimators': 1148, 'xgb_learning_rate': 0.019487951292951954}. Best is trial 12 with value: 0.835585338162139.\u001b[0m\n",
            "\u001b[32m[I 2022-09-03 00:38:10,090]\u001b[0m Trial 54 finished with value: 0.8206816032307666 and parameters: {'classifier': 'XGB', 'xgb_n_estimators': 1085, 'xgb_learning_rate': 0.04630292868772567}. Best is trial 12 with value: 0.835585338162139.\u001b[0m\n",
            "\u001b[32m[I 2022-09-03 00:38:26,727]\u001b[0m Trial 55 finished with value: 0.826034505963875 and parameters: {'classifier': 'XGB', 'xgb_n_estimators': 1110, 'xgb_learning_rate': 0.03801901993779431}. Best is trial 12 with value: 0.835585338162139.\u001b[0m\n",
            "\u001b[32m[I 2022-09-03 00:38:43,610]\u001b[0m Trial 56 finished with value: 0.8271797223388829 and parameters: {'classifier': 'XGB', 'xgb_n_estimators': 1143, 'xgb_learning_rate': 0.07032512374097806}. Best is trial 12 with value: 0.835585338162139.\u001b[0m\n",
            "\u001b[32m[I 2022-09-03 00:38:57,320]\u001b[0m Trial 57 finished with value: 0.8345947764692516 and parameters: {'classifier': 'XGB', 'xgb_n_estimators': 1035, 'xgb_learning_rate': 0.08917051459438358}. Best is trial 12 with value: 0.835585338162139.\u001b[0m\n",
            "\u001b[32m[I 2022-09-03 00:39:11,414]\u001b[0m Trial 58 finished with value: 0.8284758648629883 and parameters: {'classifier': 'XGB', 'xgb_n_estimators': 1069, 'xgb_learning_rate': 0.09082052868340115}. Best is trial 12 with value: 0.835585338162139.\u001b[0m\n",
            "\u001b[32m[I 2022-09-03 00:39:24,154]\u001b[0m Trial 59 finished with value: 0.8361359453677494 and parameters: {'classifier': 'XGB', 'xgb_n_estimators': 938, 'xgb_learning_rate': 0.09566405544902458}. Best is trial 59 with value: 0.8361359453677494.\u001b[0m\n",
            "\u001b[32m[I 2022-09-03 00:39:36,375]\u001b[0m Trial 60 finished with value: 0.8291776446239825 and parameters: {'classifier': 'XGB', 'xgb_n_estimators': 918, 'xgb_learning_rate': 0.09938412430029088}. Best is trial 59 with value: 0.8361359453677494.\u001b[0m\n",
            "\u001b[32m[I 2022-09-03 00:39:49,040]\u001b[0m Trial 61 finished with value: 0.8311755669090821 and parameters: {'classifier': 'XGB', 'xgb_n_estimators': 882, 'xgb_learning_rate': 0.07333778026775883}. Best is trial 59 with value: 0.8361359453677494.\u001b[0m\n",
            "\u001b[32m[I 2022-09-03 00:40:03,241]\u001b[0m Trial 62 finished with value: 0.8299853698468653 and parameters: {'classifier': 'XGB', 'xgb_n_estimators': 937, 'xgb_learning_rate': 0.08627013599264587}. Best is trial 59 with value: 0.8361359453677494.\u001b[0m\n",
            "\u001b[32m[I 2022-09-03 00:40:17,340]\u001b[0m Trial 63 finished with value: 0.8212997944195579 and parameters: {'classifier': 'XGB', 'xgb_n_estimators': 973, 'xgb_learning_rate': 0.06189844859072416}. Best is trial 59 with value: 0.8361359453677494.\u001b[0m\n",
            "\u001b[32m[I 2022-09-03 00:40:31,557]\u001b[0m Trial 64 finished with value: 0.8284758648629883 and parameters: {'classifier': 'XGB', 'xgb_n_estimators': 1023, 'xgb_learning_rate': 0.0739289157409373}. Best is trial 59 with value: 0.8361359453677494.\u001b[0m\n",
            "\u001b[32m[I 2022-09-03 00:40:43,016]\u001b[0m Trial 65 finished with value: 0.835585338162139 and parameters: {'classifier': 'XGB', 'xgb_n_estimators': 820, 'xgb_learning_rate': 0.09037232476016847}. Best is trial 59 with value: 0.8361359453677494.\u001b[0m\n",
            "\u001b[32m[I 2022-09-03 00:40:55,131]\u001b[0m Trial 66 finished with value: 0.82883243944755 and parameters: {'classifier': 'XGB', 'xgb_n_estimators': 807, 'xgb_learning_rate': 0.057644350499194016}. Best is trial 59 with value: 0.8361359453677494.\u001b[0m\n",
            "\u001b[32m[I 2022-09-03 00:41:06,414]\u001b[0m Trial 67 finished with value: 0.8402675908152923 and parameters: {'classifier': 'XGB', 'xgb_n_estimators': 821, 'xgb_learning_rate': 0.09983629923873781}. Best is trial 67 with value: 0.8402675908152923.\u001b[0m\n",
            "\u001b[32m[I 2022-09-03 00:41:19,293]\u001b[0m Trial 68 finished with value: 0.8311755669090821 and parameters: {'classifier': 'XGB', 'xgb_n_estimators': 836, 'xgb_learning_rate': 0.09043603248765274}. Best is trial 67 with value: 0.8402675908152923.\u001b[0m\n",
            "\u001b[32m[I 2022-09-03 00:41:29,657]\u001b[0m Trial 69 finished with value: 0.8311755669090821 and parameters: {'classifier': 'XGB', 'xgb_n_estimators': 756, 'xgb_learning_rate': 0.09986732047634003}. Best is trial 67 with value: 0.8402675908152923.\u001b[0m\n",
            "\u001b[32m[I 2022-09-03 00:41:41,412]\u001b[0m Trial 70 finished with value: 0.8253382171445398 and parameters: {'classifier': 'XGB', 'xgb_n_estimators': 798, 'xgb_learning_rate': 0.07252139343058862}. Best is trial 67 with value: 0.8402675908152923.\u001b[0m\n",
            "\u001b[32m[I 2022-09-03 00:41:53,077]\u001b[0m Trial 71 finished with value: 0.8261487130424559 and parameters: {'classifier': 'XGB', 'xgb_n_estimators': 795, 'xgb_learning_rate': 0.06630265214394106}. Best is trial 67 with value: 0.8402675908152923.\u001b[0m\n",
            "\u001b[32m[I 2022-09-03 00:42:04,118]\u001b[0m Trial 72 finished with value: 0.8353074090693552 and parameters: {'classifier': 'XGB', 'xgb_n_estimators': 779, 'xgb_learning_rate': 0.08474869234499609}. Best is trial 67 with value: 0.8402675908152923.\u001b[0m\n",
            "\u001b[32m[I 2022-09-03 00:42:15,088]\u001b[0m Trial 73 finished with value: 0.8382833372850476 and parameters: {'classifier': 'XGB', 'xgb_n_estimators': 771, 'xgb_learning_rate': 0.08498964207987267}. Best is trial 67 with value: 0.8402675908152923.\u001b[0m\n",
            "\u001b[32m[I 2022-09-03 00:42:27,484]\u001b[0m Trial 74 finished with value: 0.8351714114792813 and parameters: {'classifier': 'XGB', 'xgb_n_estimators': 769, 'xgb_learning_rate': 0.08057660311146246}. Best is trial 67 with value: 0.8402675908152923.\u001b[0m\n",
            "\u001b[32m[I 2022-09-03 00:42:38,454]\u001b[0m Trial 75 finished with value: 0.8312905166076321 and parameters: {'classifier': 'XGB', 'xgb_n_estimators': 765, 'xgb_learning_rate': 0.08006781681565843}. Best is trial 67 with value: 0.8402675908152923.\u001b[0m\n",
            "\u001b[32m[I 2022-09-03 00:42:49,403]\u001b[0m Trial 76 finished with value: 0.8313958512320124 and parameters: {'classifier': 'XGB', 'xgb_n_estimators': 778, 'xgb_learning_rate': 0.08465164290079588}. Best is trial 67 with value: 0.8402675908152923.\u001b[0m\n",
            "\u001b[32m[I 2022-09-03 00:43:01,599]\u001b[0m Trial 77 finished with value: 0.8279733623894316 and parameters: {'classifier': 'XGB', 'xgb_n_estimators': 833, 'xgb_learning_rate': 0.06732129136139332}. Best is trial 67 with value: 0.8402675908152923.\u001b[0m\n",
            "\u001b[32m[I 2022-09-03 00:43:15,099]\u001b[0m Trial 78 finished with value: 0.7781256981188157 and parameters: {'classifier': 'XGB', 'xgb_n_estimators': 781, 'xgb_learning_rate': 0.003001852174397062}. Best is trial 67 with value: 0.8402675908152923.\u001b[0m\n",
            "\u001b[32m[I 2022-09-03 00:43:26,842]\u001b[0m Trial 79 finished with value: 0.82883243944755 and parameters: {'classifier': 'XGB', 'xgb_n_estimators': 775, 'xgb_learning_rate': 0.05001389004970144}. Best is trial 67 with value: 0.8402675908152923.\u001b[0m\n",
            "\u001b[32m[I 2022-09-03 00:43:42,060]\u001b[0m Trial 80 finished with value: 0.8046567004614967 and parameters: {'classifier': 'XGB', 'xgb_n_estimators': 820, 'xgb_learning_rate': 0.0071884648258859025}. Best is trial 67 with value: 0.8402675908152923.\u001b[0m\n",
            "\u001b[32m[I 2022-09-03 00:43:54,409]\u001b[0m Trial 81 finished with value: 0.8337484221232933 and parameters: {'classifier': 'XGB', 'xgb_n_estimators': 879, 'xgb_learning_rate': 0.0771107757525252}. Best is trial 67 with value: 0.8402675908152923.\u001b[0m\n",
            "\u001b[32m[I 2022-09-03 00:44:05,869]\u001b[0m Trial 82 finished with value: 0.8347211489009806 and parameters: {'classifier': 'XGB', 'xgb_n_estimators': 822, 'xgb_learning_rate': 0.08921154361256603}. Best is trial 67 with value: 0.8402675908152923.\u001b[0m\n",
            "\u001b[32m[I 2022-09-03 00:44:17,843]\u001b[0m Trial 83 finished with value: 0.818643894176571 and parameters: {'classifier': 'XGB', 'xgb_n_estimators': 787, 'xgb_learning_rate': 0.05612034505055616}. Best is trial 67 with value: 0.8402675908152923.\u001b[0m\n",
            "\u001b[32m[I 2022-09-03 00:44:29,386]\u001b[0m Trial 84 finished with value: 0.8338834759293675 and parameters: {'classifier': 'XGB', 'xgb_n_estimators': 851, 'xgb_learning_rate': 0.0989523658446677}. Best is trial 67 with value: 0.8402675908152923.\u001b[0m\n",
            "\u001b[32m[I 2022-09-03 00:44:40,610]\u001b[0m Trial 85 finished with value: 0.8293766398695214 and parameters: {'classifier': 'XGB', 'xgb_n_estimators': 763, 'xgb_learning_rate': 0.0677590638787171}. Best is trial 67 with value: 0.8402675908152923.\u001b[0m\n",
            "\u001b[32m[I 2022-09-03 00:44:52,109]\u001b[0m Trial 86 finished with value: 0.8264813981753485 and parameters: {'classifier': 'XGB', 'xgb_n_estimators': 801, 'xgb_learning_rate': 0.07805059437666242}. Best is trial 67 with value: 0.8402675908152923.\u001b[0m\n",
            "\u001b[32m[I 2022-09-03 00:45:06,621]\u001b[0m Trial 87 finished with value: 0.8234618404258675 and parameters: {'classifier': 'XGB', 'xgb_n_estimators': 819, 'xgb_learning_rate': 0.03345904888335883}. Best is trial 67 with value: 0.8402675908152923.\u001b[0m\n",
            "\u001b[32m[I 2022-09-03 00:45:20,196]\u001b[0m Trial 88 finished with value: 0.8260970501576359 and parameters: {'classifier': 'XGB', 'xgb_n_estimators': 881, 'xgb_learning_rate': 0.042439330549385784}. Best is trial 67 with value: 0.8402675908152923.\u001b[0m\n",
            "\u001b[32m[I 2022-09-03 00:45:31,954]\u001b[0m Trial 89 finished with value: 0.8267947303933542 and parameters: {'classifier': 'XGB', 'xgb_n_estimators': 767, 'xgb_learning_rate': 0.04733647656280807}. Best is trial 67 with value: 0.8402675908152923.\u001b[0m\n",
            "\u001b[32m[I 2022-09-03 00:45:43,972]\u001b[0m Trial 90 finished with value: 0.8234618404258675 and parameters: {'classifier': 'XGB', 'xgb_n_estimators': 752, 'xgb_learning_rate': 0.02752105929609023}. Best is trial 67 with value: 0.8402675908152923.\u001b[0m\n",
            "\u001b[32m[I 2022-09-03 00:45:55,419]\u001b[0m Trial 91 finished with value: 0.8306899574107605 and parameters: {'classifier': 'XGB', 'xgb_n_estimators': 824, 'xgb_learning_rate': 0.0856103411646685}. Best is trial 67 with value: 0.8402675908152923.\u001b[0m\n",
            "\u001b[32m[I 2022-09-03 00:46:06,996]\u001b[0m Trial 92 finished with value: 0.8358848798338329 and parameters: {'classifier': 'XGB', 'xgb_n_estimators': 841, 'xgb_learning_rate': 0.09084486656008875}. Best is trial 67 with value: 0.8402675908152923.\u001b[0m\n",
            "\u001b[32m[I 2022-09-03 00:46:20,814]\u001b[0m Trial 93 finished with value: 0.8328116314805439 and parameters: {'classifier': 'XGB', 'xgb_n_estimators': 845, 'xgb_learning_rate': 0.06576200893036581}. Best is trial 67 with value: 0.8402675908152923.\u001b[0m\n",
            "\u001b[32m[I 2022-09-03 00:46:31,849]\u001b[0m Trial 94 finished with value: 0.8299853698468653 and parameters: {'classifier': 'XGB', 'xgb_n_estimators': 788, 'xgb_learning_rate': 0.08899650765778634}. Best is trial 67 with value: 0.8402675908152923.\u001b[0m\n",
            "\u001b[32m[I 2022-09-03 00:46:44,058]\u001b[0m Trial 95 finished with value: 0.8291776446239825 and parameters: {'classifier': 'XGB', 'xgb_n_estimators': 863, 'xgb_learning_rate': 0.07505753773921894}. Best is trial 67 with value: 0.8402675908152923.\u001b[0m\n",
            "\u001b[32m[I 2022-09-03 00:46:56,140]\u001b[0m Trial 96 finished with value: 0.8254006556915068 and parameters: {'classifier': 'XGB', 'xgb_n_estimators': 811, 'xgb_learning_rate': 0.05914897882232195}. Best is trial 67 with value: 0.8402675908152923.\u001b[0m\n",
            "\u001b[32m[I 2022-09-03 00:47:08,409]\u001b[0m Trial 97 finished with value: 0.8343148302245581 and parameters: {'classifier': 'XGB', 'xgb_n_estimators': 904, 'xgb_learning_rate': 0.09219155964459179}. Best is trial 67 with value: 0.8402675908152923.\u001b[0m\n",
            "\u001b[32m[I 2022-09-03 00:47:20,471]\u001b[0m Trial 98 finished with value: 0.8325898646688791 and parameters: {'classifier': 'XGB', 'xgb_n_estimators': 860, 'xgb_learning_rate': 0.08192376836529532}. Best is trial 67 with value: 0.8402675908152923.\u001b[0m\n",
            "\u001b[32m[I 2022-09-03 00:47:32,150]\u001b[0m Trial 99 finished with value: 0.8306899574107605 and parameters: {'classifier': 'XGB', 'xgb_n_estimators': 773, 'xgb_learning_rate': 0.06427190512324912}. Best is trial 67 with value: 0.8402675908152923.\u001b[0m\n"
          ]
        }
      ]
    },
    {
      "cell_type": "code",
      "source": [
        "optuna.visualization.plot_optimization_history(study_xgb).show()"
      ],
      "metadata": {
        "colab": {
          "base_uri": "https://localhost:8080/",
          "height": 542
        },
        "outputId": "9840b6e0-f538-4210-adde-cd38e9ad538d",
        "id": "iyKH8yd0tr6S"
      },
      "execution_count": null,
      "outputs": [
        {
          "output_type": "display_data",
          "data": {
            "text/html": [
              "<html>\n",
              "<head><meta charset=\"utf-8\" /></head>\n",
              "<body>\n",
              "    <div>            <script src=\"https://cdnjs.cloudflare.com/ajax/libs/mathjax/2.7.5/MathJax.js?config=TeX-AMS-MML_SVG\"></script><script type=\"text/javascript\">if (window.MathJax) {MathJax.Hub.Config({SVG: {font: \"STIX-Web\"}});}</script>                <script type=\"text/javascript\">window.PlotlyConfig = {MathJaxConfig: 'local'};</script>\n",
              "        <script src=\"https://cdn.plot.ly/plotly-2.8.3.min.js\"></script>                <div id=\"1021bd02-77d1-4447-aea8-90531753226a\" class=\"plotly-graph-div\" style=\"height:525px; width:100%;\"></div>            <script type=\"text/javascript\">                                    window.PLOTLYENV=window.PLOTLYENV || {};                                    if (document.getElementById(\"1021bd02-77d1-4447-aea8-90531753226a\")) {                    Plotly.newPlot(                        \"1021bd02-77d1-4447-aea8-90531753226a\",                        [{\"mode\":\"markers\",\"name\":\"Objective Value\",\"x\":[0,1,2,3,4,5,6,7,8,9,10,11,12,13,14,15,16,17,18,19,20,21,22,23,24,25,26,27,28,29,30,31,32,33,34,35,36,37,38,39,40,41,42,43,44,45,46,47,48,49,50,51,52,53,54,55,56,57,58,59,60,61,62,63,64,65,66,67,68,69,70,71,72,73,74,75,76,77,78,79,80,81,82,83,84,85,86,87,88,89,90,91,92,93,94,95,96,97,98,99],\"y\":[0.8247973643854246,0.7944659426488688,0.8220291448981654,0.8162926424683298,0.8309448252841817,0.7548081477595404,0.7792948463742121,0.8140545016397144,0.8097798924820065,0.8168687865131602,0.8341616796492887,0.8305849528685062,0.835585338162139,0.8199253325596977,0.8246431701754307,0.8271797223388829,0.8205998403273336,0.8295352093679632,0.8206457071982264,0.8273574285070305,0.8280573605456906,0.8254926262853721,0.8343148302245581,0.8233190057820489,0.835585338162139,0.8349455666101375,0.8267320544434729,0.8213692313736142,0.8261487130424559,0.8297663484016956,0.823456742794845,0.8246431701754307,0.8279733623894316,0.8297663484016956,0.8268465180183436,0.7926103152449282,0.8327055531558705,0.8220805763388737,0.8293766398695214,0.8260970501576359,0.7605158791084073,0.8266587659205407,0.8310512326903058,0.8219887968002443,0.8278792642159711,0.795215889903347,0.8325898646688791,0.8250883350205519,0.8206457071982264,0.8267320544434729,0.829461105559146,0.8314913304929656,0.8324647982382675,0.8276156794746706,0.8206816032307666,0.826034505963875,0.8271797223388829,0.8345947764692516,0.8284758648629883,0.8361359453677494,0.8291776446239825,0.8311755669090821,0.8299853698468653,0.8212997944195579,0.8284758648629883,0.835585338162139,0.82883243944755,0.8402675908152923,0.8311755669090821,0.8311755669090821,0.8253382171445398,0.8261487130424559,0.8353074090693552,0.8382833372850476,0.8351714114792813,0.8312905166076321,0.8313958512320124,0.8279733623894316,0.7781256981188157,0.82883243944755,0.8046567004614967,0.8337484221232933,0.8347211489009806,0.818643894176571,0.8338834759293675,0.8293766398695214,0.8264813981753485,0.8234618404258675,0.8260970501576359,0.8267947303933542,0.8234618404258675,0.8306899574107605,0.8358848798338329,0.8328116314805439,0.8299853698468653,0.8291776446239825,0.8254006556915068,0.8343148302245581,0.8325898646688791,0.8306899574107605],\"type\":\"scatter\"},{\"name\":\"Best Value\",\"x\":[0,1,2,3,4,5,6,7,8,9,10,11,12,13,14,15,16,17,18,19,20,21,22,23,24,25,26,27,28,29,30,31,32,33,34,35,36,37,38,39,40,41,42,43,44,45,46,47,48,49,50,51,52,53,54,55,56,57,58,59,60,61,62,63,64,65,66,67,68,69,70,71,72,73,74,75,76,77,78,79,80,81,82,83,84,85,86,87,88,89,90,91,92,93,94,95,96,97,98,99],\"y\":[0.8247973643854246,0.8247973643854246,0.8247973643854246,0.8247973643854246,0.8309448252841817,0.8309448252841817,0.8309448252841817,0.8309448252841817,0.8309448252841817,0.8309448252841817,0.8341616796492887,0.8341616796492887,0.835585338162139,0.835585338162139,0.835585338162139,0.835585338162139,0.835585338162139,0.835585338162139,0.835585338162139,0.835585338162139,0.835585338162139,0.835585338162139,0.835585338162139,0.835585338162139,0.835585338162139,0.835585338162139,0.835585338162139,0.835585338162139,0.835585338162139,0.835585338162139,0.835585338162139,0.835585338162139,0.835585338162139,0.835585338162139,0.835585338162139,0.835585338162139,0.835585338162139,0.835585338162139,0.835585338162139,0.835585338162139,0.835585338162139,0.835585338162139,0.835585338162139,0.835585338162139,0.835585338162139,0.835585338162139,0.835585338162139,0.835585338162139,0.835585338162139,0.835585338162139,0.835585338162139,0.835585338162139,0.835585338162139,0.835585338162139,0.835585338162139,0.835585338162139,0.835585338162139,0.835585338162139,0.835585338162139,0.8361359453677494,0.8361359453677494,0.8361359453677494,0.8361359453677494,0.8361359453677494,0.8361359453677494,0.8361359453677494,0.8361359453677494,0.8402675908152923,0.8402675908152923,0.8402675908152923,0.8402675908152923,0.8402675908152923,0.8402675908152923,0.8402675908152923,0.8402675908152923,0.8402675908152923,0.8402675908152923,0.8402675908152923,0.8402675908152923,0.8402675908152923,0.8402675908152923,0.8402675908152923,0.8402675908152923,0.8402675908152923,0.8402675908152923,0.8402675908152923,0.8402675908152923,0.8402675908152923,0.8402675908152923,0.8402675908152923,0.8402675908152923,0.8402675908152923,0.8402675908152923,0.8402675908152923,0.8402675908152923,0.8402675908152923,0.8402675908152923,0.8402675908152923,0.8402675908152923,0.8402675908152923],\"type\":\"scatter\"}],                        {\"title\":{\"text\":\"Optimization History Plot\"},\"xaxis\":{\"title\":{\"text\":\"Trial\"}},\"yaxis\":{\"title\":{\"text\":\"Objective Value\"}},\"template\":{\"data\":{\"bar\":[{\"error_x\":{\"color\":\"#2a3f5f\"},\"error_y\":{\"color\":\"#2a3f5f\"},\"marker\":{\"line\":{\"color\":\"#E5ECF6\",\"width\":0.5},\"pattern\":{\"fillmode\":\"overlay\",\"size\":10,\"solidity\":0.2}},\"type\":\"bar\"}],\"barpolar\":[{\"marker\":{\"line\":{\"color\":\"#E5ECF6\",\"width\":0.5},\"pattern\":{\"fillmode\":\"overlay\",\"size\":10,\"solidity\":0.2}},\"type\":\"barpolar\"}],\"carpet\":[{\"aaxis\":{\"endlinecolor\":\"#2a3f5f\",\"gridcolor\":\"white\",\"linecolor\":\"white\",\"minorgridcolor\":\"white\",\"startlinecolor\":\"#2a3f5f\"},\"baxis\":{\"endlinecolor\":\"#2a3f5f\",\"gridcolor\":\"white\",\"linecolor\":\"white\",\"minorgridcolor\":\"white\",\"startlinecolor\":\"#2a3f5f\"},\"type\":\"carpet\"}],\"choropleth\":[{\"colorbar\":{\"outlinewidth\":0,\"ticks\":\"\"},\"type\":\"choropleth\"}],\"contour\":[{\"colorbar\":{\"outlinewidth\":0,\"ticks\":\"\"},\"colorscale\":[[0.0,\"#0d0887\"],[0.1111111111111111,\"#46039f\"],[0.2222222222222222,\"#7201a8\"],[0.3333333333333333,\"#9c179e\"],[0.4444444444444444,\"#bd3786\"],[0.5555555555555556,\"#d8576b\"],[0.6666666666666666,\"#ed7953\"],[0.7777777777777778,\"#fb9f3a\"],[0.8888888888888888,\"#fdca26\"],[1.0,\"#f0f921\"]],\"type\":\"contour\"}],\"contourcarpet\":[{\"colorbar\":{\"outlinewidth\":0,\"ticks\":\"\"},\"type\":\"contourcarpet\"}],\"heatmap\":[{\"colorbar\":{\"outlinewidth\":0,\"ticks\":\"\"},\"colorscale\":[[0.0,\"#0d0887\"],[0.1111111111111111,\"#46039f\"],[0.2222222222222222,\"#7201a8\"],[0.3333333333333333,\"#9c179e\"],[0.4444444444444444,\"#bd3786\"],[0.5555555555555556,\"#d8576b\"],[0.6666666666666666,\"#ed7953\"],[0.7777777777777778,\"#fb9f3a\"],[0.8888888888888888,\"#fdca26\"],[1.0,\"#f0f921\"]],\"type\":\"heatmap\"}],\"heatmapgl\":[{\"colorbar\":{\"outlinewidth\":0,\"ticks\":\"\"},\"colorscale\":[[0.0,\"#0d0887\"],[0.1111111111111111,\"#46039f\"],[0.2222222222222222,\"#7201a8\"],[0.3333333333333333,\"#9c179e\"],[0.4444444444444444,\"#bd3786\"],[0.5555555555555556,\"#d8576b\"],[0.6666666666666666,\"#ed7953\"],[0.7777777777777778,\"#fb9f3a\"],[0.8888888888888888,\"#fdca26\"],[1.0,\"#f0f921\"]],\"type\":\"heatmapgl\"}],\"histogram\":[{\"marker\":{\"pattern\":{\"fillmode\":\"overlay\",\"size\":10,\"solidity\":0.2}},\"type\":\"histogram\"}],\"histogram2d\":[{\"colorbar\":{\"outlinewidth\":0,\"ticks\":\"\"},\"colorscale\":[[0.0,\"#0d0887\"],[0.1111111111111111,\"#46039f\"],[0.2222222222222222,\"#7201a8\"],[0.3333333333333333,\"#9c179e\"],[0.4444444444444444,\"#bd3786\"],[0.5555555555555556,\"#d8576b\"],[0.6666666666666666,\"#ed7953\"],[0.7777777777777778,\"#fb9f3a\"],[0.8888888888888888,\"#fdca26\"],[1.0,\"#f0f921\"]],\"type\":\"histogram2d\"}],\"histogram2dcontour\":[{\"colorbar\":{\"outlinewidth\":0,\"ticks\":\"\"},\"colorscale\":[[0.0,\"#0d0887\"],[0.1111111111111111,\"#46039f\"],[0.2222222222222222,\"#7201a8\"],[0.3333333333333333,\"#9c179e\"],[0.4444444444444444,\"#bd3786\"],[0.5555555555555556,\"#d8576b\"],[0.6666666666666666,\"#ed7953\"],[0.7777777777777778,\"#fb9f3a\"],[0.8888888888888888,\"#fdca26\"],[1.0,\"#f0f921\"]],\"type\":\"histogram2dcontour\"}],\"mesh3d\":[{\"colorbar\":{\"outlinewidth\":0,\"ticks\":\"\"},\"type\":\"mesh3d\"}],\"parcoords\":[{\"line\":{\"colorbar\":{\"outlinewidth\":0,\"ticks\":\"\"}},\"type\":\"parcoords\"}],\"pie\":[{\"automargin\":true,\"type\":\"pie\"}],\"scatter\":[{\"marker\":{\"colorbar\":{\"outlinewidth\":0,\"ticks\":\"\"}},\"type\":\"scatter\"}],\"scatter3d\":[{\"line\":{\"colorbar\":{\"outlinewidth\":0,\"ticks\":\"\"}},\"marker\":{\"colorbar\":{\"outlinewidth\":0,\"ticks\":\"\"}},\"type\":\"scatter3d\"}],\"scattercarpet\":[{\"marker\":{\"colorbar\":{\"outlinewidth\":0,\"ticks\":\"\"}},\"type\":\"scattercarpet\"}],\"scattergeo\":[{\"marker\":{\"colorbar\":{\"outlinewidth\":0,\"ticks\":\"\"}},\"type\":\"scattergeo\"}],\"scattergl\":[{\"marker\":{\"colorbar\":{\"outlinewidth\":0,\"ticks\":\"\"}},\"type\":\"scattergl\"}],\"scattermapbox\":[{\"marker\":{\"colorbar\":{\"outlinewidth\":0,\"ticks\":\"\"}},\"type\":\"scattermapbox\"}],\"scatterpolar\":[{\"marker\":{\"colorbar\":{\"outlinewidth\":0,\"ticks\":\"\"}},\"type\":\"scatterpolar\"}],\"scatterpolargl\":[{\"marker\":{\"colorbar\":{\"outlinewidth\":0,\"ticks\":\"\"}},\"type\":\"scatterpolargl\"}],\"scatterternary\":[{\"marker\":{\"colorbar\":{\"outlinewidth\":0,\"ticks\":\"\"}},\"type\":\"scatterternary\"}],\"surface\":[{\"colorbar\":{\"outlinewidth\":0,\"ticks\":\"\"},\"colorscale\":[[0.0,\"#0d0887\"],[0.1111111111111111,\"#46039f\"],[0.2222222222222222,\"#7201a8\"],[0.3333333333333333,\"#9c179e\"],[0.4444444444444444,\"#bd3786\"],[0.5555555555555556,\"#d8576b\"],[0.6666666666666666,\"#ed7953\"],[0.7777777777777778,\"#fb9f3a\"],[0.8888888888888888,\"#fdca26\"],[1.0,\"#f0f921\"]],\"type\":\"surface\"}],\"table\":[{\"cells\":{\"fill\":{\"color\":\"#EBF0F8\"},\"line\":{\"color\":\"white\"}},\"header\":{\"fill\":{\"color\":\"#C8D4E3\"},\"line\":{\"color\":\"white\"}},\"type\":\"table\"}]},\"layout\":{\"annotationdefaults\":{\"arrowcolor\":\"#2a3f5f\",\"arrowhead\":0,\"arrowwidth\":1},\"autotypenumbers\":\"strict\",\"coloraxis\":{\"colorbar\":{\"outlinewidth\":0,\"ticks\":\"\"}},\"colorscale\":{\"diverging\":[[0,\"#8e0152\"],[0.1,\"#c51b7d\"],[0.2,\"#de77ae\"],[0.3,\"#f1b6da\"],[0.4,\"#fde0ef\"],[0.5,\"#f7f7f7\"],[0.6,\"#e6f5d0\"],[0.7,\"#b8e186\"],[0.8,\"#7fbc41\"],[0.9,\"#4d9221\"],[1,\"#276419\"]],\"sequential\":[[0.0,\"#0d0887\"],[0.1111111111111111,\"#46039f\"],[0.2222222222222222,\"#7201a8\"],[0.3333333333333333,\"#9c179e\"],[0.4444444444444444,\"#bd3786\"],[0.5555555555555556,\"#d8576b\"],[0.6666666666666666,\"#ed7953\"],[0.7777777777777778,\"#fb9f3a\"],[0.8888888888888888,\"#fdca26\"],[1.0,\"#f0f921\"]],\"sequentialminus\":[[0.0,\"#0d0887\"],[0.1111111111111111,\"#46039f\"],[0.2222222222222222,\"#7201a8\"],[0.3333333333333333,\"#9c179e\"],[0.4444444444444444,\"#bd3786\"],[0.5555555555555556,\"#d8576b\"],[0.6666666666666666,\"#ed7953\"],[0.7777777777777778,\"#fb9f3a\"],[0.8888888888888888,\"#fdca26\"],[1.0,\"#f0f921\"]]},\"colorway\":[\"#636efa\",\"#EF553B\",\"#00cc96\",\"#ab63fa\",\"#FFA15A\",\"#19d3f3\",\"#FF6692\",\"#B6E880\",\"#FF97FF\",\"#FECB52\"],\"font\":{\"color\":\"#2a3f5f\"},\"geo\":{\"bgcolor\":\"white\",\"lakecolor\":\"white\",\"landcolor\":\"#E5ECF6\",\"showlakes\":true,\"showland\":true,\"subunitcolor\":\"white\"},\"hoverlabel\":{\"align\":\"left\"},\"hovermode\":\"closest\",\"mapbox\":{\"style\":\"light\"},\"paper_bgcolor\":\"white\",\"plot_bgcolor\":\"#E5ECF6\",\"polar\":{\"angularaxis\":{\"gridcolor\":\"white\",\"linecolor\":\"white\",\"ticks\":\"\"},\"bgcolor\":\"#E5ECF6\",\"radialaxis\":{\"gridcolor\":\"white\",\"linecolor\":\"white\",\"ticks\":\"\"}},\"scene\":{\"xaxis\":{\"backgroundcolor\":\"#E5ECF6\",\"gridcolor\":\"white\",\"gridwidth\":2,\"linecolor\":\"white\",\"showbackground\":true,\"ticks\":\"\",\"zerolinecolor\":\"white\"},\"yaxis\":{\"backgroundcolor\":\"#E5ECF6\",\"gridcolor\":\"white\",\"gridwidth\":2,\"linecolor\":\"white\",\"showbackground\":true,\"ticks\":\"\",\"zerolinecolor\":\"white\"},\"zaxis\":{\"backgroundcolor\":\"#E5ECF6\",\"gridcolor\":\"white\",\"gridwidth\":2,\"linecolor\":\"white\",\"showbackground\":true,\"ticks\":\"\",\"zerolinecolor\":\"white\"}},\"shapedefaults\":{\"line\":{\"color\":\"#2a3f5f\"}},\"ternary\":{\"aaxis\":{\"gridcolor\":\"white\",\"linecolor\":\"white\",\"ticks\":\"\"},\"baxis\":{\"gridcolor\":\"white\",\"linecolor\":\"white\",\"ticks\":\"\"},\"bgcolor\":\"#E5ECF6\",\"caxis\":{\"gridcolor\":\"white\",\"linecolor\":\"white\",\"ticks\":\"\"}},\"title\":{\"x\":0.05},\"xaxis\":{\"automargin\":true,\"gridcolor\":\"white\",\"linecolor\":\"white\",\"ticks\":\"\",\"title\":{\"standoff\":15},\"zerolinecolor\":\"white\",\"zerolinewidth\":2},\"yaxis\":{\"automargin\":true,\"gridcolor\":\"white\",\"linecolor\":\"white\",\"ticks\":\"\",\"title\":{\"standoff\":15},\"zerolinecolor\":\"white\",\"zerolinewidth\":2}}}},                        {\"responsive\": true}                    ).then(function(){\n",
              "                            \n",
              "var gd = document.getElementById('1021bd02-77d1-4447-aea8-90531753226a');\n",
              "var x = new MutationObserver(function (mutations, observer) {{\n",
              "        var display = window.getComputedStyle(gd).display;\n",
              "        if (!display || display === 'none') {{\n",
              "            console.log([gd, 'removed!']);\n",
              "            Plotly.purge(gd);\n",
              "            observer.disconnect();\n",
              "        }}\n",
              "}});\n",
              "\n",
              "// Listen for the removal of the full notebook cells\n",
              "var notebookContainer = gd.closest('#notebook-container');\n",
              "if (notebookContainer) {{\n",
              "    x.observe(notebookContainer, {childList: true});\n",
              "}}\n",
              "\n",
              "// Listen for the clearing of the current output cell\n",
              "var outputEl = gd.closest('.output');\n",
              "if (outputEl) {{\n",
              "    x.observe(outputEl, {childList: true});\n",
              "}}\n",
              "\n",
              "                        })                };                            </script>        </div>\n",
              "</body>\n",
              "</html>"
            ]
          },
          "metadata": {}
        }
      ]
    },
    {
      "cell_type": "code",
      "source": [
        "print(f\"Melhor trial : \\n{study_xgb.best_trial}\")\n",
        "\n",
        "print(f\"Melhor valor do f-score : \\n{study_xgb.best_value}\")\n",
        "\n",
        "print(f\"Melhores parâmetros : \\n{study_xgb.best_params}\")"
      ],
      "metadata": {
        "colab": {
          "base_uri": "https://localhost:8080/"
        },
        "outputId": "998e4733-c71d-4f73-9ca4-78f4df06b95f",
        "id": "J7C5fkQztr6U"
      },
      "execution_count": null,
      "outputs": [
        {
          "output_type": "stream",
          "name": "stdout",
          "text": [
            "Melhor trial : \n",
            "FrozenTrial(number=67, values=[0.8402675908152923], datetime_start=datetime.datetime(2022, 9, 3, 0, 40, 55, 134601), datetime_complete=datetime.datetime(2022, 9, 3, 0, 41, 6, 413899), params={'classifier': 'XGB', 'xgb_n_estimators': 821, 'xgb_learning_rate': 0.09983629923873781}, distributions={'classifier': CategoricalDistribution(choices=('XGB',)), 'xgb_n_estimators': IntDistribution(high=1250, log=False, low=750, step=1), 'xgb_learning_rate': FloatDistribution(high=0.1, log=True, low=0.001, step=None)}, user_attrs={}, system_attrs={}, intermediate_values={}, trial_id=67, state=TrialState.COMPLETE, value=None)\n",
            "Melhor valor do f-score : \n",
            "0.8402675908152923\n",
            "Melhores parâmetros : \n",
            "{'classifier': 'XGB', 'xgb_n_estimators': 821, 'xgb_learning_rate': 0.09983629923873781}\n"
          ]
        }
      ]
    },
    {
      "cell_type": "code",
      "source": [
        "best_xgb = XGBClassifier(\n",
        "      random_state=RANDOM_STATE, \n",
        "      n_estimators=study_xgb.best_params['xgb_n_estimators'], \n",
        "      learning_rate=study_xgb.best_params['xgb_learning_rate'], \n",
        "      max_depth=10,\n",
        "      subsample=0.7,\n",
        "      colsample_bytree=0.7,\n",
        "      max_delta_step=1\n",
        ")\n",
        "best_xgb.fit(X_train, y_train)"
      ],
      "metadata": {
        "colab": {
          "base_uri": "https://localhost:8080/"
        },
        "outputId": "ee168cf0-1fff-4ff5-aed2-f6915c1e1310",
        "id": "PBAMYZTRtr6V"
      },
      "execution_count": null,
      "outputs": [
        {
          "output_type": "execute_result",
          "data": {
            "text/plain": [
              "XGBClassifier(colsample_bytree=0.7, learning_rate=0.09983629923873781,\n",
              "              max_delta_step=1, max_depth=10, n_estimators=821, random_state=42,\n",
              "              subsample=0.7)"
            ]
          },
          "metadata": {},
          "execution_count": 31
        }
      ]
    },
    {
      "cell_type": "code",
      "source": [
        "best_clf = best_xgb"
      ],
      "metadata": {
        "id": "71M0vQp6uH8e"
      },
      "execution_count": null,
      "outputs": []
    },
    {
      "cell_type": "markdown",
      "source": [
        "Por fim, testamos se o controle de complexidade aliado à adição de aleatoriedade de fato fez com que o modelo melhorasse seu overfit"
      ],
      "metadata": {
        "id": "G6vDVrjwuQlc"
      }
    },
    {
      "cell_type": "code",
      "source": [
        "# Treino\n",
        "y_pred_train = best_clf.predict(X_train)\n",
        "y_proba_train = best_clf.predict_proba(X_train)\n",
        "acc_train, auroc_train, f1_train = eval_metrics(y_train, y_pred_train, y_proba_train)\n",
        "print(f'Accuracy train : {acc_train}')\n",
        "print(f'AUROC train : {auroc_train}')\n",
        "print(f'F1-Score train : {f1_train}')"
      ],
      "metadata": {
        "outputId": "4d723717-54ed-4d71-e8d8-0cb2a7141349",
        "colab": {
          "base_uri": "https://localhost:8080/"
        },
        "id": "xQng2F2oudS2"
      },
      "execution_count": null,
      "outputs": [
        {
          "output_type": "stream",
          "name": "stdout",
          "text": [
            "Accuracy train : 1.0\n",
            "AUROC train : 1.0\n",
            "F1-Score train : 1.0\n"
          ]
        }
      ]
    },
    {
      "cell_type": "code",
      "source": [
        "# Teste\n",
        "y_pred_test = best_clf.predict(X_test)\n",
        "y_proba_test = best_clf.predict_proba(X_test)\n",
        "acc_test, auroc_test, f1_test = eval_metrics(y_test, y_pred_test, y_proba_test)\n",
        "print(f'Accuracy test : {acc_test}')\n",
        "print(f'AUROC test : {auroc_test}')\n",
        "print(f'F1-Score test : {f1_test}')"
      ],
      "metadata": {
        "outputId": "d1352efc-04d7-4076-943e-ecbf1df71b91",
        "colab": {
          "base_uri": "https://localhost:8080/"
        },
        "id": "OC8yc2PHudS2"
      },
      "execution_count": null,
      "outputs": [
        {
          "output_type": "stream",
          "name": "stdout",
          "text": [
            "Accuracy test : 0.8657105606258149\n",
            "AUROC test : 0.8575926901937163\n",
            "F1-Score test : 0.8436433294464425\n"
          ]
        }
      ]
    },
    {
      "cell_type": "markdown",
      "source": [
        "O modelo continua num estado de overfit, já que os resultados para treino e teste diferem em aproximadamente 15% em todas as métricas."
      ],
      "metadata": {
        "id": "h3R106vTY3uT"
      }
    },
    {
      "cell_type": "markdown",
      "source": [
        "### Usando Cross Validation para prevenir *overtting*\n",
        "A *cross validation* é uma técnica para avaliar a capacidade de generalização de um modelo, a partir de um conjunto de dados. O conceito central das técnicas de *cross validation* é o particionamento do conjunto de dados em subconjuntos mutuamente exclusivos, e posteriormente, o uso de alguns destes subconjuntos para a estimação dos parâmetros do modelo (dados de treinamento), sendo os subconjuntos restantes (dados de validação ou de teste) empregados na validação do modelo. Exemplo abaixo:\n",
        "\n",
        "![image.png](data:image/png;base64,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)"
      ],
      "metadata": {
        "id": "S9oqqh9zZEyg"
      }
    },
    {
      "cell_type": "markdown",
      "source": [
        "Inicialmente, vamos juntar novamente os dados de treino e validação para compor o conjunto de treino da cross validation"
      ],
      "metadata": {
        "id": "iVOaLUzoa8jy"
      }
    },
    {
      "cell_type": "code",
      "source": [
        "X_train_cv = X_train.append(X_val, ignore_index=True)\n",
        "X_train_cv.shape"
      ],
      "metadata": {
        "id": "rsDxNueKbRYn",
        "outputId": "1e8f7de5-05d2-4222-ee61-88eba01f9fe4",
        "colab": {
          "base_uri": "https://localhost:8080/"
        }
      },
      "execution_count": 18,
      "outputs": [
        {
          "output_type": "execute_result",
          "data": {
            "text/plain": [
              "(9203, 14)"
            ]
          },
          "metadata": {},
          "execution_count": 18
        }
      ]
    },
    {
      "cell_type": "code",
      "source": [
        "y_train_cv = y_train.append(y_val, ignore_index=True)\n",
        "y_train_cv.shape"
      ],
      "metadata": {
        "id": "dGlWKCdicJYO",
        "outputId": "6063d79a-847e-41a5-e562-e1ceee9559d3",
        "colab": {
          "base_uri": "https://localhost:8080/"
        }
      },
      "execution_count": 20,
      "outputs": [
        {
          "output_type": "execute_result",
          "data": {
            "text/plain": [
              "(9203,)"
            ]
          },
          "metadata": {},
          "execution_count": 20
        }
      ]
    },
    {
      "cell_type": "markdown",
      "source": [
        "Agora, novamente seguindo os passos para otimização com Optuna"
      ],
      "metadata": {
        "id": "UFKdJX8ocUoK"
      }
    },
    {
      "cell_type": "code",
      "source": [
        "def objective_xgb_cv(trial):\n",
        "  classifier = trial.suggest_categorical(\"classifier\", [\"XGB\"])\n",
        "  \n",
        "  # Passo 2. Definindo conjunto de hiperparâmetros\n",
        "  xgb_n_estimators = trial.suggest_int(\"xgb_n_estimators\", 750, 1250)\n",
        "  xgb_learning_rate = trial.suggest_float('xgb_learning_rate', 1e-3, 1e-1, log=True)\n",
        "  clf = XGBClassifier(\n",
        "      random_state=RANDOM_STATE, \n",
        "      n_estimators=xgb_n_estimators,\n",
        "      learning_rate=xgb_learning_rate, \n",
        "      max_depth=10, # valor mais baixo para prevenir o overfitting\n",
        "      subsample=0.7, # adicionar randomness\n",
        "      colsample_bytree=0.7, # adicionar randomness\n",
        "      max_delta_step=1 # ajuda com datasets desbalanceados\n",
        "  )\n",
        "  \n",
        "  # Passo 3: Métrica otimizada\n",
        "  scores = cross_val_score(clf, X_train_cv, y_train_cv, cv=5, scoring='f1_weighted')\n",
        "  return scores.mean()"
      ],
      "metadata": {
        "id": "AKbPsNcfZ23w"
      },
      "execution_count": 24,
      "outputs": []
    },
    {
      "cell_type": "code",
      "source": [
        "study_xgb_cv = optuna.create_study(direction=\"maximize\")\n",
        "study_xgb_cv.optimize(objective_xgb_cv, n_trials=100)"
      ],
      "metadata": {
        "id": "uxRxO_O2dPDW",
        "outputId": "bffe9a6c-9568-42e2-f0c5-4525dbb0fdeb",
        "colab": {
          "base_uri": "https://localhost:8080/"
        }
      },
      "execution_count": 25,
      "outputs": [
        {
          "output_type": "stream",
          "name": "stderr",
          "text": [
            "\u001b[32m[I 2022-09-05 11:43:40,209]\u001b[0m A new study created in memory with name: no-name-f7ba907a-ac09-4eda-8d37-b161e94e65b1\u001b[0m\n",
            "\u001b[32m[I 2022-09-05 11:44:51,451]\u001b[0m Trial 0 finished with value: 0.8406150187455435 and parameters: {'classifier': 'XGB', 'xgb_n_estimators': 878, 'xgb_learning_rate': 0.028622176554717462}. Best is trial 0 with value: 0.8406150187455435.\u001b[0m\n",
            "\u001b[32m[I 2022-09-05 11:46:29,770]\u001b[0m Trial 1 finished with value: 0.8091187182611209 and parameters: {'classifier': 'XGB', 'xgb_n_estimators': 1086, 'xgb_learning_rate': 0.003971122542780551}. Best is trial 0 with value: 0.8406150187455435.\u001b[0m\n",
            "\u001b[32m[I 2022-09-05 11:48:03,056]\u001b[0m Trial 2 finished with value: 0.8444490202167507 and parameters: {'classifier': 'XGB', 'xgb_n_estimators': 1210, 'xgb_learning_rate': 0.03366157489392972}. Best is trial 2 with value: 0.8444490202167507.\u001b[0m\n",
            "\u001b[32m[I 2022-09-05 11:49:33,719]\u001b[0m Trial 3 finished with value: 0.7975397928562281 and parameters: {'classifier': 'XGB', 'xgb_n_estimators': 1014, 'xgb_learning_rate': 0.002901723059241499}. Best is trial 2 with value: 0.8444490202167507.\u001b[0m\n",
            "\u001b[32m[I 2022-09-05 11:50:52,025]\u001b[0m Trial 4 finished with value: 0.842502802784637 and parameters: {'classifier': 'XGB', 'xgb_n_estimators': 988, 'xgb_learning_rate': 0.03198924821434054}. Best is trial 2 with value: 0.8444490202167507.\u001b[0m\n",
            "\u001b[32m[I 2022-09-05 11:52:37,518]\u001b[0m Trial 5 finished with value: 0.8240704985704509 and parameters: {'classifier': 'XGB', 'xgb_n_estimators': 1238, 'xgb_learning_rate': 0.00667221410349688}. Best is trial 2 with value: 0.8444490202167507.\u001b[0m\n",
            "\u001b[32m[I 2022-09-05 11:54:06,789]\u001b[0m Trial 6 finished with value: 0.8367375633703074 and parameters: {'classifier': 'XGB', 'xgb_n_estimators': 1097, 'xgb_learning_rate': 0.01904815124235647}. Best is trial 2 with value: 0.8444490202167507.\u001b[0m\n",
            "\u001b[32m[I 2022-09-05 11:55:16,743]\u001b[0m Trial 7 finished with value: 0.7877354537617594 and parameters: {'classifier': 'XGB', 'xgb_n_estimators': 808, 'xgb_learning_rate': 0.0023073234264046356}. Best is trial 2 with value: 0.8444490202167507.\u001b[0m\n",
            "\u001b[32m[I 2022-09-05 11:56:28,600]\u001b[0m Trial 8 finished with value: 0.8415860704178776 and parameters: {'classifier': 'XGB', 'xgb_n_estimators': 906, 'xgb_learning_rate': 0.03308242767890159}. Best is trial 2 with value: 0.8444490202167507.\u001b[0m\n",
            "\u001b[32m[I 2022-09-05 11:57:55,297]\u001b[0m Trial 9 finished with value: 0.7871078119289103 and parameters: {'classifier': 'XGB', 'xgb_n_estimators': 1004, 'xgb_learning_rate': 0.0017947110916410678}. Best is trial 2 with value: 0.8444490202167507.\u001b[0m\n",
            "\u001b[32m[I 2022-09-05 11:59:12,697]\u001b[0m Trial 10 finished with value: 0.8459775080001032 and parameters: {'classifier': 'XGB', 'xgb_n_estimators': 1230, 'xgb_learning_rate': 0.09551828896026325}. Best is trial 10 with value: 0.8459775080001032.\u001b[0m\n",
            "\u001b[32m[I 2022-09-05 12:00:32,424]\u001b[0m Trial 11 finished with value: 0.8455271340335837 and parameters: {'classifier': 'XGB', 'xgb_n_estimators': 1249, 'xgb_learning_rate': 0.08921036897562726}. Best is trial 10 with value: 0.8459775080001032.\u001b[0m\n",
            "\u001b[32m[I 2022-09-05 12:01:50,055]\u001b[0m Trial 12 finished with value: 0.8452424028438401 and parameters: {'classifier': 'XGB', 'xgb_n_estimators': 1167, 'xgb_learning_rate': 0.0821301279608224}. Best is trial 10 with value: 0.8459775080001032.\u001b[0m\n",
            "\u001b[32m[I 2022-09-05 12:03:03,616]\u001b[0m Trial 13 finished with value: 0.846213474634667 and parameters: {'classifier': 'XGB', 'xgb_n_estimators': 1149, 'xgb_learning_rate': 0.09797108957148365}. Best is trial 13 with value: 0.846213474634667.\u001b[0m\n",
            "\u001b[32m[I 2022-09-05 12:04:22,589]\u001b[0m Trial 14 finished with value: 0.8438076129588474 and parameters: {'classifier': 'XGB', 'xgb_n_estimators': 1151, 'xgb_learning_rate': 0.07118495079424737}. Best is trial 13 with value: 0.846213474634667.\u001b[0m\n",
            "\u001b[32m[I 2022-09-05 12:05:52,780]\u001b[0m Trial 15 finished with value: 0.7827038687909595 and parameters: {'classifier': 'XGB', 'xgb_n_estimators': 1105, 'xgb_learning_rate': 0.0010573833310375525}. Best is trial 13 with value: 0.846213474634667.\u001b[0m\n",
            "\u001b[32m[I 2022-09-05 12:07:27,828]\u001b[0m Trial 16 finished with value: 0.8351418786366398 and parameters: {'classifier': 'XGB', 'xgb_n_estimators': 1156, 'xgb_learning_rate': 0.01370476017824403}. Best is trial 13 with value: 0.846213474634667.\u001b[0m\n",
            "\u001b[32m[I 2022-09-05 12:08:54,460]\u001b[0m Trial 17 finished with value: 0.8455133591185684 and parameters: {'classifier': 'XGB', 'xgb_n_estimators': 1195, 'xgb_learning_rate': 0.051485175901253066}. Best is trial 13 with value: 0.846213474634667.\u001b[0m\n",
            "\u001b[32m[I 2022-09-05 12:10:24,081]\u001b[0m Trial 18 finished with value: 0.8261698462011606 and parameters: {'classifier': 'XGB', 'xgb_n_estimators': 1063, 'xgb_learning_rate': 0.008143513759164608}. Best is trial 13 with value: 0.846213474634667.\u001b[0m\n",
            "\u001b[32m[I 2022-09-05 12:11:46,925]\u001b[0m Trial 19 finished with value: 0.8468418472883504 and parameters: {'classifier': 'XGB', 'xgb_n_estimators': 1137, 'xgb_learning_rate': 0.05301472696635091}. Best is trial 19 with value: 0.8468418472883504.\u001b[0m\n",
            "\u001b[32m[I 2022-09-05 12:12:58,638]\u001b[0m Trial 20 finished with value: 0.8454146228448461 and parameters: {'classifier': 'XGB', 'xgb_n_estimators': 940, 'xgb_learning_rate': 0.04680123857266539}. Best is trial 19 with value: 0.8468418472883504.\u001b[0m\n",
            "\u001b[32m[I 2022-09-05 12:14:11,138]\u001b[0m Trial 21 finished with value: 0.8428364304846164 and parameters: {'classifier': 'XGB', 'xgb_n_estimators': 1137, 'xgb_learning_rate': 0.09873638351265222}. Best is trial 19 with value: 0.8468418472883504.\u001b[0m\n",
            "\u001b[32m[I 2022-09-05 12:15:36,527]\u001b[0m Trial 22 finished with value: 0.8459665133714631 and parameters: {'classifier': 'XGB', 'xgb_n_estimators': 1203, 'xgb_learning_rate': 0.05642453941245928}. Best is trial 19 with value: 0.8468418472883504.\u001b[0m\n",
            "\u001b[32m[I 2022-09-05 12:17:01,164]\u001b[0m Trial 23 finished with value: 0.8382027131235809 and parameters: {'classifier': 'XGB', 'xgb_n_estimators': 1044, 'xgb_learning_rate': 0.020433923811110945}. Best is trial 19 with value: 0.8468418472883504.\u001b[0m\n",
            "\u001b[32m[I 2022-09-05 12:18:22,963]\u001b[0m Trial 24 finished with value: 0.8457816313426901 and parameters: {'classifier': 'XGB', 'xgb_n_estimators': 1127, 'xgb_learning_rate': 0.054399947826458746}. Best is trial 19 with value: 0.8468418472883504.\u001b[0m\n",
            "\u001b[32m[I 2022-09-05 12:19:43,592]\u001b[0m Trial 25 finished with value: 0.8454899571160673 and parameters: {'classifier': 'XGB', 'xgb_n_estimators': 1186, 'xgb_learning_rate': 0.07129939470874547}. Best is trial 19 with value: 0.8468418472883504.\u001b[0m\n",
            "\u001b[32m[I 2022-09-05 12:21:14,224]\u001b[0m Trial 26 finished with value: 0.8430403307418993 and parameters: {'classifier': 'XGB', 'xgb_n_estimators': 1229, 'xgb_learning_rate': 0.04523499401960425}. Best is trial 19 with value: 0.8468418472883504.\u001b[0m\n",
            "\u001b[32m[I 2022-09-05 12:22:17,350]\u001b[0m Trial 27 finished with value: 0.83425163993944 and parameters: {'classifier': 'XGB', 'xgb_n_estimators': 765, 'xgb_learning_rate': 0.01904420620604767}. Best is trial 19 with value: 0.8468418472883504.\u001b[0m\n",
            "\u001b[32m[I 2022-09-05 12:23:27,092]\u001b[0m Trial 28 finished with value: 0.8450157723939942 and parameters: {'classifier': 'XGB', 'xgb_n_estimators': 1059, 'xgb_learning_rate': 0.09317959806728267}. Best is trial 19 with value: 0.8468418472883504.\u001b[0m\n",
            "\u001b[32m[I 2022-09-05 12:25:00,459]\u001b[0m Trial 29 finished with value: 0.8324540630054844 and parameters: {'classifier': 'XGB', 'xgb_n_estimators': 1130, 'xgb_learning_rate': 0.01175266843378499}. Best is trial 19 with value: 0.8468418472883504.\u001b[0m\n",
            "\u001b[32m[I 2022-09-05 12:26:22,257]\u001b[0m Trial 30 finished with value: 0.8464445060766665 and parameters: {'classifier': 'XGB', 'xgb_n_estimators': 1171, 'xgb_learning_rate': 0.06378291235557618}. Best is trial 19 with value: 0.8468418472883504.\u001b[0m\n",
            "\u001b[32m[I 2022-09-05 12:27:43,403]\u001b[0m Trial 31 finished with value: 0.8461383600535 and parameters: {'classifier': 'XGB', 'xgb_n_estimators': 1176, 'xgb_learning_rate': 0.06922924868943213}. Best is trial 19 with value: 0.8468418472883504.\u001b[0m\n",
            "\u001b[32m[I 2022-09-05 12:29:00,698]\u001b[0m Trial 32 finished with value: 0.8456385631061263 and parameters: {'classifier': 'XGB', 'xgb_n_estimators': 1084, 'xgb_learning_rate': 0.06422766798480019}. Best is trial 19 with value: 0.8468418472883504.\u001b[0m\n",
            "\u001b[32m[I 2022-09-05 12:30:28,950]\u001b[0m Trial 33 finished with value: 0.8441050949595524 and parameters: {'classifier': 'XGB', 'xgb_n_estimators': 1177, 'xgb_learning_rate': 0.04244748358031101}. Best is trial 19 with value: 0.8468418472883504.\u001b[0m\n",
            "\u001b[32m[I 2022-09-05 12:31:54,682]\u001b[0m Trial 34 finished with value: 0.8436318261855205 and parameters: {'classifier': 'XGB', 'xgb_n_estimators': 1119, 'xgb_learning_rate': 0.03872103907281401}. Best is trial 19 with value: 0.8468418472883504.\u001b[0m\n",
            "\u001b[32m[I 2022-09-05 12:33:12,798]\u001b[0m Trial 35 finished with value: 0.8388461093261652 and parameters: {'classifier': 'XGB', 'xgb_n_estimators': 968, 'xgb_learning_rate': 0.025501430312963}. Best is trial 19 with value: 0.8468418472883504.\u001b[0m\n",
            "\u001b[32m[I 2022-09-05 12:34:36,055]\u001b[0m Trial 36 finished with value: 0.8422690939242392 and parameters: {'classifier': 'XGB', 'xgb_n_estimators': 1043, 'xgb_learning_rate': 0.02757642952252574}. Best is trial 19 with value: 0.8468418472883504.\u001b[0m\n",
            "\u001b[32m[I 2022-09-05 12:35:59,250]\u001b[0m Trial 37 finished with value: 0.8446818046333607 and parameters: {'classifier': 'XGB', 'xgb_n_estimators': 1204, 'xgb_learning_rate': 0.06699289404650162}. Best is trial 19 with value: 0.8468418472883504.\u001b[0m\n",
            "\u001b[32m[I 2022-09-05 12:37:32,812]\u001b[0m Trial 38 finished with value: 0.819451420054073 and parameters: {'classifier': 'XGB', 'xgb_n_estimators': 1084, 'xgb_learning_rate': 0.0060108239372406854}. Best is trial 19 with value: 0.8468418472883504.\u001b[0m\n",
            "\u001b[32m[I 2022-09-05 12:39:02,161]\u001b[0m Trial 39 finished with value: 0.8428635650283033 and parameters: {'classifier': 'XGB', 'xgb_n_estimators': 1164, 'xgb_learning_rate': 0.03747281184683143}. Best is trial 19 with value: 0.8468418472883504.\u001b[0m\n",
            "\u001b[32m[I 2022-09-05 12:40:32,171]\u001b[0m Trial 40 finished with value: 0.8094870263648819 and parameters: {'classifier': 'XGB', 'xgb_n_estimators': 1022, 'xgb_learning_rate': 0.004482330792143215}. Best is trial 19 with value: 0.8468418472883504.\u001b[0m\n",
            "\u001b[32m[I 2022-09-05 12:41:55,989]\u001b[0m Trial 41 finished with value: 0.8471561119776181 and parameters: {'classifier': 'XGB', 'xgb_n_estimators': 1234, 'xgb_learning_rate': 0.07080417356253398}. Best is trial 41 with value: 0.8471561119776181.\u001b[0m\n",
            "\u001b[32m[I 2022-09-05 12:43:18,048]\u001b[0m Trial 42 finished with value: 0.84399098039171 and parameters: {'classifier': 'XGB', 'xgb_n_estimators': 1219, 'xgb_learning_rate': 0.07415015922659232}. Best is trial 41 with value: 0.8471561119776181.\u001b[0m\n",
            "\u001b[32m[I 2022-09-05 12:44:43,831]\u001b[0m Trial 43 finished with value: 0.8462148458132649 and parameters: {'classifier': 'XGB', 'xgb_n_estimators': 1250, 'xgb_learning_rate': 0.06562496586332425}. Best is trial 41 with value: 0.8471561119776181.\u001b[0m\n",
            "\u001b[32m[I 2022-09-05 12:46:11,570]\u001b[0m Trial 44 finished with value: 0.8439739948160158 and parameters: {'classifier': 'XGB', 'xgb_n_estimators': 1247, 'xgb_learning_rate': 0.05891263923098306}. Best is trial 41 with value: 0.8471561119776181.\u001b[0m\n",
            "\u001b[32m[I 2022-09-05 12:47:46,585]\u001b[0m Trial 45 finished with value: 0.8437515016381519 and parameters: {'classifier': 'XGB', 'xgb_n_estimators': 1217, 'xgb_learning_rate': 0.031977297596808875}. Best is trial 41 with value: 0.8471561119776181.\u001b[0m\n",
            "\u001b[32m[I 2022-09-05 12:49:08,407]\u001b[0m Trial 46 finished with value: 0.846830529837544 and parameters: {'classifier': 'XGB', 'xgb_n_estimators': 1247, 'xgb_learning_rate': 0.08280498040419043}. Best is trial 41 with value: 0.8471561119776181.\u001b[0m\n",
            "\u001b[32m[I 2022-09-05 12:50:38,840]\u001b[0m Trial 47 finished with value: 0.8464670277014831 and parameters: {'classifier': 'XGB', 'xgb_n_estimators': 1248, 'xgb_learning_rate': 0.05176729432182982}. Best is trial 41 with value: 0.8471561119776181.\u001b[0m\n",
            "\u001b[32m[I 2022-09-05 12:51:48,983]\u001b[0m Trial 48 finished with value: 0.8364182123513508 and parameters: {'classifier': 'XGB', 'xgb_n_estimators': 856, 'xgb_learning_rate': 0.021844271084849782}. Best is trial 41 with value: 0.8471561119776181.\u001b[0m\n",
            "\u001b[32m[I 2022-09-05 12:53:29,599]\u001b[0m Trial 49 finished with value: 0.8350700236303344 and parameters: {'classifier': 'XGB', 'xgb_n_estimators': 1223, 'xgb_learning_rate': 0.015000789306322664}. Best is trial 41 with value: 0.8471561119776181.\u001b[0m\n",
            "\u001b[32m[I 2022-09-05 12:54:49,209]\u001b[0m Trial 50 finished with value: 0.8452530024340676 and parameters: {'classifier': 'XGB', 'xgb_n_estimators': 1192, 'xgb_learning_rate': 0.08030455520349228}. Best is trial 41 with value: 0.8471561119776181.\u001b[0m\n",
            "\u001b[32m[I 2022-09-05 12:56:20,082]\u001b[0m Trial 51 finished with value: 0.843709825117298 and parameters: {'classifier': 'XGB', 'xgb_n_estimators': 1245, 'xgb_learning_rate': 0.04997135057338233}. Best is trial 41 with value: 0.8471561119776181.\u001b[0m\n",
            "\u001b[32m[I 2022-09-05 12:57:54,478]\u001b[0m Trial 52 finished with value: 0.8450764331995593 and parameters: {'classifier': 'XGB', 'xgb_n_estimators': 1250, 'xgb_learning_rate': 0.039674199150200457}. Best is trial 41 with value: 0.8471561119776181.\u001b[0m\n",
            "\u001b[32m[I 2022-09-05 12:59:14,840]\u001b[0m Trial 53 finished with value: 0.8440069250490415 and parameters: {'classifier': 'XGB', 'xgb_n_estimators': 1209, 'xgb_learning_rate': 0.08157004228106687}. Best is trial 41 with value: 0.8471561119776181.\u001b[0m\n",
            "\u001b[32m[I 2022-09-05 13:00:42,571]\u001b[0m Trial 54 finished with value: 0.8464273816883174 and parameters: {'classifier': 'XGB', 'xgb_n_estimators': 1233, 'xgb_learning_rate': 0.057881317243404985}. Best is trial 41 with value: 0.8471561119776181.\u001b[0m\n",
            "\u001b[32m[I 2022-09-05 13:02:10,269]\u001b[0m Trial 55 finished with value: 0.8443878136311366 and parameters: {'classifier': 'XGB', 'xgb_n_estimators': 1225, 'xgb_learning_rate': 0.05693750705507015}. Best is trial 41 with value: 0.8471561119776181.\u001b[0m\n",
            "\u001b[32m[I 2022-09-05 13:03:44,383]\u001b[0m Trial 56 finished with value: 0.8422356852318732 and parameters: {'classifier': 'XGB', 'xgb_n_estimators': 1191, 'xgb_learning_rate': 0.029707886399535987}. Best is trial 41 with value: 0.8471561119776181.\u001b[0m\n",
            "\u001b[32m[I 2022-09-05 13:05:10,926]\u001b[0m Trial 57 finished with value: 0.8444398967016437 and parameters: {'classifier': 'XGB', 'xgb_n_estimators': 1154, 'xgb_learning_rate': 0.045361084143904024}. Best is trial 41 with value: 0.8471561119776181.\u001b[0m\n",
            "\u001b[32m[I 2022-09-05 13:06:45,105]\u001b[0m Trial 58 finished with value: 0.8442744845166631 and parameters: {'classifier': 'XGB', 'xgb_n_estimators': 1228, 'xgb_learning_rate': 0.03531153122565612}. Best is trial 41 with value: 0.8471561119776181.\u001b[0m\n",
            "\u001b[32m[I 2022-09-05 13:08:03,736]\u001b[0m Trial 59 finished with value: 0.8459477828556757 and parameters: {'classifier': 'XGB', 'xgb_n_estimators': 1204, 'xgb_learning_rate': 0.08558263265333534}. Best is trial 41 with value: 0.8471561119776181.\u001b[0m\n",
            "\u001b[32m[I 2022-09-05 13:09:27,916]\u001b[0m Trial 60 finished with value: 0.8455772549454588 and parameters: {'classifier': 'XGB', 'xgb_n_estimators': 1173, 'xgb_learning_rate': 0.05627567602564361}. Best is trial 41 with value: 0.8471561119776181.\u001b[0m\n",
            "\u001b[32m[I 2022-09-05 13:10:53,921]\u001b[0m Trial 61 finished with value: 0.8476436571152239 and parameters: {'classifier': 'XGB', 'xgb_n_estimators': 1235, 'xgb_learning_rate': 0.06272323627796678}. Best is trial 61 with value: 0.8476436571152239.\u001b[0m\n",
            "\u001b[32m[I 2022-09-05 13:12:11,440]\u001b[0m Trial 62 finished with value: 0.846867990196572 and parameters: {'classifier': 'XGB', 'xgb_n_estimators': 1231, 'xgb_learning_rate': 0.09784047248425436}. Best is trial 61 with value: 0.8476436571152239.\u001b[0m\n",
            "\u001b[32m[I 2022-09-05 13:13:28,065]\u001b[0m Trial 63 finished with value: 0.8457176519283023 and parameters: {'classifier': 'XGB', 'xgb_n_estimators': 1143, 'xgb_learning_rate': 0.08049524438769554}. Best is trial 61 with value: 0.8476436571152239.\u001b[0m\n",
            "\u001b[32m[I 2022-09-05 13:14:44,007]\u001b[0m Trial 64 finished with value: 0.8490712471426693 and parameters: {'classifier': 'XGB', 'xgb_n_estimators': 1209, 'xgb_learning_rate': 0.09923687970094489}. Best is trial 64 with value: 0.8490712471426693.\u001b[0m\n",
            "\u001b[32m[I 2022-09-05 13:16:00,641]\u001b[0m Trial 65 finished with value: 0.846669723005624 and parameters: {'classifier': 'XGB', 'xgb_n_estimators': 1215, 'xgb_learning_rate': 0.09774493150954323}. Best is trial 64 with value: 0.8490712471426693.\u001b[0m\n",
            "\u001b[32m[I 2022-09-05 13:17:18,405]\u001b[0m Trial 66 finished with value: 0.8472427314950378 and parameters: {'classifier': 'XGB', 'xgb_n_estimators': 1209, 'xgb_learning_rate': 0.09504408260018143}. Best is trial 64 with value: 0.8490712471426693.\u001b[0m\n",
            "\u001b[32m[I 2022-09-05 13:18:31,879]\u001b[0m Trial 67 finished with value: 0.8460419068722576 and parameters: {'classifier': 'XGB', 'xgb_n_estimators': 1110, 'xgb_learning_rate': 0.08804886623902772}. Best is trial 64 with value: 0.8490712471426693.\u001b[0m\n",
            "\u001b[32m[I 2022-09-05 13:19:52,066]\u001b[0m Trial 68 finished with value: 0.8454192244647404 and parameters: {'classifier': 'XGB', 'xgb_n_estimators': 1186, 'xgb_learning_rate': 0.07448961406618956}. Best is trial 64 with value: 0.8490712471426693.\u001b[0m\n",
            "\u001b[32m[I 2022-09-05 13:21:09,044]\u001b[0m Trial 69 finished with value: 0.8464776819245626 and parameters: {'classifier': 'XGB', 'xgb_n_estimators': 1234, 'xgb_learning_rate': 0.09981214042512779}. Best is trial 64 with value: 0.8490712471426693.\u001b[0m\n",
            "\u001b[32m[I 2022-09-05 13:22:51,562]\u001b[0m Trial 70 finished with value: 0.7842686704986881 and parameters: {'classifier': 'XGB', 'xgb_n_estimators': 1202, 'xgb_learning_rate': 0.0013229633914976322}. Best is trial 64 with value: 0.8490712471426693.\u001b[0m\n",
            "\u001b[32m[I 2022-09-05 13:24:08,812]\u001b[0m Trial 71 finished with value: 0.8452827696760158 and parameters: {'classifier': 'XGB', 'xgb_n_estimators': 1216, 'xgb_learning_rate': 0.09758878660702852}. Best is trial 64 with value: 0.8490712471426693.\u001b[0m\n",
            "\u001b[32m[I 2022-09-05 13:25:31,346]\u001b[0m Trial 72 finished with value: 0.8437170270840888 and parameters: {'classifier': 'XGB', 'xgb_n_estimators': 1235, 'xgb_learning_rate': 0.0755518070146662}. Best is trial 64 with value: 0.8490712471426693.\u001b[0m\n",
            "\u001b[32m[I 2022-09-05 13:26:49,264]\u001b[0m Trial 73 finished with value: 0.8444960055908585 and parameters: {'classifier': 'XGB', 'xgb_n_estimators': 1212, 'xgb_learning_rate': 0.08960209344029689}. Best is trial 64 with value: 0.8490712471426693.\u001b[0m\n",
            "\u001b[32m[I 2022-09-05 13:28:13,709]\u001b[0m Trial 74 finished with value: 0.8464496893686964 and parameters: {'classifier': 'XGB', 'xgb_n_estimators': 1186, 'xgb_learning_rate': 0.06473497046876509}. Best is trial 64 with value: 0.8490712471426693.\u001b[0m\n",
            "\u001b[32m[I 2022-09-05 13:29:27,709]\u001b[0m Trial 75 finished with value: 0.846501752200923 and parameters: {'classifier': 'XGB', 'xgb_n_estimators': 1167, 'xgb_learning_rate': 0.09958442973424135}. Best is trial 64 with value: 0.8490712471426693.\u001b[0m\n",
            "\u001b[32m[I 2022-09-05 13:30:46,269]\u001b[0m Trial 76 finished with value: 0.846176467451728 and parameters: {'classifier': 'XGB', 'xgb_n_estimators': 1200, 'xgb_learning_rate': 0.08451139505272193}. Best is trial 64 with value: 0.8490712471426693.\u001b[0m\n",
            "\u001b[32m[I 2022-09-05 13:32:10,329]\u001b[0m Trial 77 finished with value: 0.8453476473153454 and parameters: {'classifier': 'XGB', 'xgb_n_estimators': 1234, 'xgb_learning_rate': 0.06969037805696866}. Best is trial 64 with value: 0.8490712471426693.\u001b[0m\n",
            "\u001b[32m[I 2022-09-05 13:33:55,608]\u001b[0m Trial 78 finished with value: 0.7963446859981979 and parameters: {'classifier': 'XGB', 'xgb_n_estimators': 1184, 'xgb_learning_rate': 0.0023858486496364404}. Best is trial 64 with value: 0.8490712471426693.\u001b[0m\n",
            "\u001b[32m[I 2022-09-05 13:35:20,651]\u001b[0m Trial 79 finished with value: 0.8444741220303692 and parameters: {'classifier': 'XGB', 'xgb_n_estimators': 1218, 'xgb_learning_rate': 0.06121610922793639}. Best is trial 64 with value: 0.8490712471426693.\u001b[0m\n",
            "\u001b[32m[I 2022-09-05 13:36:38,965]\u001b[0m Trial 80 finished with value: 0.845057015068733 and parameters: {'classifier': 'XGB', 'xgb_n_estimators': 1161, 'xgb_learning_rate': 0.07622441808479538}. Best is trial 64 with value: 0.8490712471426693.\u001b[0m\n",
            "\u001b[32m[I 2022-09-05 13:37:52,834]\u001b[0m Trial 81 finished with value: 0.8460344014143588 and parameters: {'classifier': 'XGB', 'xgb_n_estimators': 1168, 'xgb_learning_rate': 0.09980873356640718}. Best is trial 64 with value: 0.8490712471426693.\u001b[0m\n",
            "\u001b[32m[I 2022-09-05 13:39:07,390]\u001b[0m Trial 82 finished with value: 0.8449775635144421 and parameters: {'classifier': 'XGB', 'xgb_n_estimators': 1139, 'xgb_learning_rate': 0.08868970604622027}. Best is trial 64 with value: 0.8490712471426693.\u001b[0m\n",
            "\u001b[32m[I 2022-09-05 13:40:28,573]\u001b[0m Trial 83 finished with value: 0.8456443950451649 and parameters: {'classifier': 'XGB', 'xgb_n_estimators': 1196, 'xgb_learning_rate': 0.07261571351007577}. Best is trial 64 with value: 0.8490712471426693.\u001b[0m\n",
            "\u001b[32m[I 2022-09-05 13:41:56,337]\u001b[0m Trial 84 finished with value: 0.8443730519968324 and parameters: {'classifier': 'XGB', 'xgb_n_estimators': 1211, 'xgb_learning_rate': 0.05130845432588744}. Best is trial 64 with value: 0.8490712471426693.\u001b[0m\n",
            "\u001b[32m[I 2022-09-05 13:43:16,900]\u001b[0m Trial 85 finished with value: 0.8470532071722223 and parameters: {'classifier': 'XGB', 'xgb_n_estimators': 1238, 'xgb_learning_rate': 0.0845358856866333}. Best is trial 64 with value: 0.8490712471426693.\u001b[0m\n",
            "\u001b[32m[I 2022-09-05 13:44:49,019]\u001b[0m Trial 86 finished with value: 0.8465519343324253 and parameters: {'classifier': 'XGB', 'xgb_n_estimators': 1240, 'xgb_learning_rate': 0.04436092219710295}. Best is trial 64 with value: 0.8490712471426693.\u001b[0m\n",
            "\u001b[32m[I 2022-09-05 13:46:14,781]\u001b[0m Trial 87 finished with value: 0.8428308679006588 and parameters: {'classifier': 'XGB', 'xgb_n_estimators': 1227, 'xgb_learning_rate': 0.06304492807313164}. Best is trial 64 with value: 0.8490712471426693.\u001b[0m\n",
            "\u001b[32m[I 2022-09-05 13:47:21,544]\u001b[0m Trial 88 finished with value: 0.8473043160138216 and parameters: {'classifier': 'XGB', 'xgb_n_estimators': 973, 'xgb_learning_rate': 0.08584280319199535}. Best is trial 64 with value: 0.8490712471426693.\u001b[0m\n",
            "\u001b[32m[I 2022-09-05 13:48:30,561]\u001b[0m Trial 89 finished with value: 0.8477694901897653 and parameters: {'classifier': 'XGB', 'xgb_n_estimators': 965, 'xgb_learning_rate': 0.07199740996479338}. Best is trial 64 with value: 0.8490712471426693.\u001b[0m\n",
            "\u001b[32m[I 2022-09-05 13:49:44,462]\u001b[0m Trial 90 finished with value: 0.8441076290558829 and parameters: {'classifier': 'XGB', 'xgb_n_estimators': 972, 'xgb_learning_rate': 0.04840232838335349}. Best is trial 64 with value: 0.8490712471426693.\u001b[0m\n",
            "\u001b[32m[I 2022-09-05 13:50:48,865]\u001b[0m Trial 91 finished with value: 0.8468394753580079 and parameters: {'classifier': 'XGB', 'xgb_n_estimators': 918, 'xgb_learning_rate': 0.08290696006793775}. Best is trial 64 with value: 0.8490712471426693.\u001b[0m\n",
            "\u001b[32m[I 2022-09-05 13:51:56,578]\u001b[0m Trial 92 finished with value: 0.844742266815207 and parameters: {'classifier': 'XGB', 'xgb_n_estimators': 940, 'xgb_learning_rate': 0.06880921148508923}. Best is trial 64 with value: 0.8490712471426693.\u001b[0m\n",
            "\u001b[32m[I 2022-09-05 13:53:02,530]\u001b[0m Trial 93 finished with value: 0.8469120053045873 and parameters: {'classifier': 'XGB', 'xgb_n_estimators': 934, 'xgb_learning_rate': 0.0780116411410724}. Best is trial 64 with value: 0.8490712471426693.\u001b[0m\n",
            "\u001b[32m[I 2022-09-05 13:54:11,460]\u001b[0m Trial 94 finished with value: 0.8447246447598873 and parameters: {'classifier': 'XGB', 'xgb_n_estimators': 979, 'xgb_learning_rate': 0.07508444194989655}. Best is trial 64 with value: 0.8490712471426693.\u001b[0m\n",
            "\u001b[32m[I 2022-09-05 13:55:21,122]\u001b[0m Trial 95 finished with value: 0.845405654988087 and parameters: {'classifier': 'XGB', 'xgb_n_estimators': 946, 'xgb_learning_rate': 0.0605624537520892}. Best is trial 64 with value: 0.8490712471426693.\u001b[0m\n",
            "\u001b[32m[I 2022-09-05 13:56:28,911]\u001b[0m Trial 96 finished with value: 0.8445316628988053 and parameters: {'classifier': 'XGB', 'xgb_n_estimators': 1000, 'xgb_learning_rate': 0.08870313544137069}. Best is trial 64 with value: 0.8490712471426693.\u001b[0m\n",
            "\u001b[32m[I 2022-09-05 13:57:34,847]\u001b[0m Trial 97 finished with value: 0.8419279155121375 and parameters: {'classifier': 'XGB', 'xgb_n_estimators': 872, 'xgb_learning_rate': 0.05504910676566658}. Best is trial 64 with value: 0.8490712471426693.\u001b[0m\n",
            "\u001b[32m[I 2022-09-05 13:58:43,296]\u001b[0m Trial 98 finished with value: 0.8449787833074407 and parameters: {'classifier': 'XGB', 'xgb_n_estimators': 954, 'xgb_learning_rate': 0.06860611497835001}. Best is trial 64 with value: 0.8490712471426693.\u001b[0m\n",
            "\u001b[32m[I 2022-09-05 13:59:48,539]\u001b[0m Trial 99 finished with value: 0.8476435714729178 and parameters: {'classifier': 'XGB', 'xgb_n_estimators': 917, 'xgb_learning_rate': 0.07736557338633417}. Best is trial 64 with value: 0.8490712471426693.\u001b[0m\n"
          ]
        }
      ]
    },
    {
      "cell_type": "code",
      "source": [
        "optuna.visualization.plot_optimization_history(study_xgb_cv).show()"
      ],
      "metadata": {
        "colab": {
          "base_uri": "https://localhost:8080/",
          "height": 542
        },
        "outputId": "c8d7cadc-1b44-44ed-9143-ffed78ce3d8b",
        "id": "GmYU97HCAWbt"
      },
      "execution_count": 26,
      "outputs": [
        {
          "output_type": "display_data",
          "data": {
            "text/html": [
              "<html>\n",
              "<head><meta charset=\"utf-8\" /></head>\n",
              "<body>\n",
              "    <div>            <script src=\"https://cdnjs.cloudflare.com/ajax/libs/mathjax/2.7.5/MathJax.js?config=TeX-AMS-MML_SVG\"></script><script type=\"text/javascript\">if (window.MathJax) {MathJax.Hub.Config({SVG: {font: \"STIX-Web\"}});}</script>                <script type=\"text/javascript\">window.PlotlyConfig = {MathJaxConfig: 'local'};</script>\n",
              "        <script src=\"https://cdn.plot.ly/plotly-2.8.3.min.js\"></script>                <div id=\"dee9a086-5dbe-49f9-a9e6-451fd76ee4a8\" class=\"plotly-graph-div\" style=\"height:525px; width:100%;\"></div>            <script type=\"text/javascript\">                                    window.PLOTLYENV=window.PLOTLYENV || {};                                    if (document.getElementById(\"dee9a086-5dbe-49f9-a9e6-451fd76ee4a8\")) {                    Plotly.newPlot(                        \"dee9a086-5dbe-49f9-a9e6-451fd76ee4a8\",                        [{\"mode\":\"markers\",\"name\":\"Objective Value\",\"x\":[0,1,2,3,4,5,6,7,8,9,10,11,12,13,14,15,16,17,18,19,20,21,22,23,24,25,26,27,28,29,30,31,32,33,34,35,36,37,38,39,40,41,42,43,44,45,46,47,48,49,50,51,52,53,54,55,56,57,58,59,60,61,62,63,64,65,66,67,68,69,70,71,72,73,74,75,76,77,78,79,80,81,82,83,84,85,86,87,88,89,90,91,92,93,94,95,96,97,98,99],\"y\":[0.8406150187455435,0.8091187182611209,0.8444490202167507,0.7975397928562281,0.842502802784637,0.8240704985704509,0.8367375633703074,0.7877354537617594,0.8415860704178776,0.7871078119289103,0.8459775080001032,0.8455271340335837,0.8452424028438401,0.846213474634667,0.8438076129588474,0.7827038687909595,0.8351418786366398,0.8455133591185684,0.8261698462011606,0.8468418472883504,0.8454146228448461,0.8428364304846164,0.8459665133714631,0.8382027131235809,0.8457816313426901,0.8454899571160673,0.8430403307418993,0.83425163993944,0.8450157723939942,0.8324540630054844,0.8464445060766665,0.8461383600535,0.8456385631061263,0.8441050949595524,0.8436318261855205,0.8388461093261652,0.8422690939242392,0.8446818046333607,0.819451420054073,0.8428635650283033,0.8094870263648819,0.8471561119776181,0.84399098039171,0.8462148458132649,0.8439739948160158,0.8437515016381519,0.846830529837544,0.8464670277014831,0.8364182123513508,0.8350700236303344,0.8452530024340676,0.843709825117298,0.8450764331995593,0.8440069250490415,0.8464273816883174,0.8443878136311366,0.8422356852318732,0.8444398967016437,0.8442744845166631,0.8459477828556757,0.8455772549454588,0.8476436571152239,0.846867990196572,0.8457176519283023,0.8490712471426693,0.846669723005624,0.8472427314950378,0.8460419068722576,0.8454192244647404,0.8464776819245626,0.7842686704986881,0.8452827696760158,0.8437170270840888,0.8444960055908585,0.8464496893686964,0.846501752200923,0.846176467451728,0.8453476473153454,0.7963446859981979,0.8444741220303692,0.845057015068733,0.8460344014143588,0.8449775635144421,0.8456443950451649,0.8443730519968324,0.8470532071722223,0.8465519343324253,0.8428308679006588,0.8473043160138216,0.8477694901897653,0.8441076290558829,0.8468394753580079,0.844742266815207,0.8469120053045873,0.8447246447598873,0.845405654988087,0.8445316628988053,0.8419279155121375,0.8449787833074407,0.8476435714729178],\"type\":\"scatter\"},{\"name\":\"Best Value\",\"x\":[0,1,2,3,4,5,6,7,8,9,10,11,12,13,14,15,16,17,18,19,20,21,22,23,24,25,26,27,28,29,30,31,32,33,34,35,36,37,38,39,40,41,42,43,44,45,46,47,48,49,50,51,52,53,54,55,56,57,58,59,60,61,62,63,64,65,66,67,68,69,70,71,72,73,74,75,76,77,78,79,80,81,82,83,84,85,86,87,88,89,90,91,92,93,94,95,96,97,98,99],\"y\":[0.8406150187455435,0.8406150187455435,0.8444490202167507,0.8444490202167507,0.8444490202167507,0.8444490202167507,0.8444490202167507,0.8444490202167507,0.8444490202167507,0.8444490202167507,0.8459775080001032,0.8459775080001032,0.8459775080001032,0.846213474634667,0.846213474634667,0.846213474634667,0.846213474634667,0.846213474634667,0.846213474634667,0.8468418472883504,0.8468418472883504,0.8468418472883504,0.8468418472883504,0.8468418472883504,0.8468418472883504,0.8468418472883504,0.8468418472883504,0.8468418472883504,0.8468418472883504,0.8468418472883504,0.8468418472883504,0.8468418472883504,0.8468418472883504,0.8468418472883504,0.8468418472883504,0.8468418472883504,0.8468418472883504,0.8468418472883504,0.8468418472883504,0.8468418472883504,0.8468418472883504,0.8471561119776181,0.8471561119776181,0.8471561119776181,0.8471561119776181,0.8471561119776181,0.8471561119776181,0.8471561119776181,0.8471561119776181,0.8471561119776181,0.8471561119776181,0.8471561119776181,0.8471561119776181,0.8471561119776181,0.8471561119776181,0.8471561119776181,0.8471561119776181,0.8471561119776181,0.8471561119776181,0.8471561119776181,0.8471561119776181,0.8476436571152239,0.8476436571152239,0.8476436571152239,0.8490712471426693,0.8490712471426693,0.8490712471426693,0.8490712471426693,0.8490712471426693,0.8490712471426693,0.8490712471426693,0.8490712471426693,0.8490712471426693,0.8490712471426693,0.8490712471426693,0.8490712471426693,0.8490712471426693,0.8490712471426693,0.8490712471426693,0.8490712471426693,0.8490712471426693,0.8490712471426693,0.8490712471426693,0.8490712471426693,0.8490712471426693,0.8490712471426693,0.8490712471426693,0.8490712471426693,0.8490712471426693,0.8490712471426693,0.8490712471426693,0.8490712471426693,0.8490712471426693,0.8490712471426693,0.8490712471426693,0.8490712471426693,0.8490712471426693,0.8490712471426693,0.8490712471426693,0.8490712471426693],\"type\":\"scatter\"}],                        {\"title\":{\"text\":\"Optimization History Plot\"},\"xaxis\":{\"title\":{\"text\":\"Trial\"}},\"yaxis\":{\"title\":{\"text\":\"Objective Value\"}},\"template\":{\"data\":{\"bar\":[{\"error_x\":{\"color\":\"#2a3f5f\"},\"error_y\":{\"color\":\"#2a3f5f\"},\"marker\":{\"line\":{\"color\":\"#E5ECF6\",\"width\":0.5},\"pattern\":{\"fillmode\":\"overlay\",\"size\":10,\"solidity\":0.2}},\"type\":\"bar\"}],\"barpolar\":[{\"marker\":{\"line\":{\"color\":\"#E5ECF6\",\"width\":0.5},\"pattern\":{\"fillmode\":\"overlay\",\"size\":10,\"solidity\":0.2}},\"type\":\"barpolar\"}],\"carpet\":[{\"aaxis\":{\"endlinecolor\":\"#2a3f5f\",\"gridcolor\":\"white\",\"linecolor\":\"white\",\"minorgridcolor\":\"white\",\"startlinecolor\":\"#2a3f5f\"},\"baxis\":{\"endlinecolor\":\"#2a3f5f\",\"gridcolor\":\"white\",\"linecolor\":\"white\",\"minorgridcolor\":\"white\",\"startlinecolor\":\"#2a3f5f\"},\"type\":\"carpet\"}],\"choropleth\":[{\"colorbar\":{\"outlinewidth\":0,\"ticks\":\"\"},\"type\":\"choropleth\"}],\"contour\":[{\"colorbar\":{\"outlinewidth\":0,\"ticks\":\"\"},\"colorscale\":[[0.0,\"#0d0887\"],[0.1111111111111111,\"#46039f\"],[0.2222222222222222,\"#7201a8\"],[0.3333333333333333,\"#9c179e\"],[0.4444444444444444,\"#bd3786\"],[0.5555555555555556,\"#d8576b\"],[0.6666666666666666,\"#ed7953\"],[0.7777777777777778,\"#fb9f3a\"],[0.8888888888888888,\"#fdca26\"],[1.0,\"#f0f921\"]],\"type\":\"contour\"}],\"contourcarpet\":[{\"colorbar\":{\"outlinewidth\":0,\"ticks\":\"\"},\"type\":\"contourcarpet\"}],\"heatmap\":[{\"colorbar\":{\"outlinewidth\":0,\"ticks\":\"\"},\"colorscale\":[[0.0,\"#0d0887\"],[0.1111111111111111,\"#46039f\"],[0.2222222222222222,\"#7201a8\"],[0.3333333333333333,\"#9c179e\"],[0.4444444444444444,\"#bd3786\"],[0.5555555555555556,\"#d8576b\"],[0.6666666666666666,\"#ed7953\"],[0.7777777777777778,\"#fb9f3a\"],[0.8888888888888888,\"#fdca26\"],[1.0,\"#f0f921\"]],\"type\":\"heatmap\"}],\"heatmapgl\":[{\"colorbar\":{\"outlinewidth\":0,\"ticks\":\"\"},\"colorscale\":[[0.0,\"#0d0887\"],[0.1111111111111111,\"#46039f\"],[0.2222222222222222,\"#7201a8\"],[0.3333333333333333,\"#9c179e\"],[0.4444444444444444,\"#bd3786\"],[0.5555555555555556,\"#d8576b\"],[0.6666666666666666,\"#ed7953\"],[0.7777777777777778,\"#fb9f3a\"],[0.8888888888888888,\"#fdca26\"],[1.0,\"#f0f921\"]],\"type\":\"heatmapgl\"}],\"histogram\":[{\"marker\":{\"pattern\":{\"fillmode\":\"overlay\",\"size\":10,\"solidity\":0.2}},\"type\":\"histogram\"}],\"histogram2d\":[{\"colorbar\":{\"outlinewidth\":0,\"ticks\":\"\"},\"colorscale\":[[0.0,\"#0d0887\"],[0.1111111111111111,\"#46039f\"],[0.2222222222222222,\"#7201a8\"],[0.3333333333333333,\"#9c179e\"],[0.4444444444444444,\"#bd3786\"],[0.5555555555555556,\"#d8576b\"],[0.6666666666666666,\"#ed7953\"],[0.7777777777777778,\"#fb9f3a\"],[0.8888888888888888,\"#fdca26\"],[1.0,\"#f0f921\"]],\"type\":\"histogram2d\"}],\"histogram2dcontour\":[{\"colorbar\":{\"outlinewidth\":0,\"ticks\":\"\"},\"colorscale\":[[0.0,\"#0d0887\"],[0.1111111111111111,\"#46039f\"],[0.2222222222222222,\"#7201a8\"],[0.3333333333333333,\"#9c179e\"],[0.4444444444444444,\"#bd3786\"],[0.5555555555555556,\"#d8576b\"],[0.6666666666666666,\"#ed7953\"],[0.7777777777777778,\"#fb9f3a\"],[0.8888888888888888,\"#fdca26\"],[1.0,\"#f0f921\"]],\"type\":\"histogram2dcontour\"}],\"mesh3d\":[{\"colorbar\":{\"outlinewidth\":0,\"ticks\":\"\"},\"type\":\"mesh3d\"}],\"parcoords\":[{\"line\":{\"colorbar\":{\"outlinewidth\":0,\"ticks\":\"\"}},\"type\":\"parcoords\"}],\"pie\":[{\"automargin\":true,\"type\":\"pie\"}],\"scatter\":[{\"marker\":{\"colorbar\":{\"outlinewidth\":0,\"ticks\":\"\"}},\"type\":\"scatter\"}],\"scatter3d\":[{\"line\":{\"colorbar\":{\"outlinewidth\":0,\"ticks\":\"\"}},\"marker\":{\"colorbar\":{\"outlinewidth\":0,\"ticks\":\"\"}},\"type\":\"scatter3d\"}],\"scattercarpet\":[{\"marker\":{\"colorbar\":{\"outlinewidth\":0,\"ticks\":\"\"}},\"type\":\"scattercarpet\"}],\"scattergeo\":[{\"marker\":{\"colorbar\":{\"outlinewidth\":0,\"ticks\":\"\"}},\"type\":\"scattergeo\"}],\"scattergl\":[{\"marker\":{\"colorbar\":{\"outlinewidth\":0,\"ticks\":\"\"}},\"type\":\"scattergl\"}],\"scattermapbox\":[{\"marker\":{\"colorbar\":{\"outlinewidth\":0,\"ticks\":\"\"}},\"type\":\"scattermapbox\"}],\"scatterpolar\":[{\"marker\":{\"colorbar\":{\"outlinewidth\":0,\"ticks\":\"\"}},\"type\":\"scatterpolar\"}],\"scatterpolargl\":[{\"marker\":{\"colorbar\":{\"outlinewidth\":0,\"ticks\":\"\"}},\"type\":\"scatterpolargl\"}],\"scatterternary\":[{\"marker\":{\"colorbar\":{\"outlinewidth\":0,\"ticks\":\"\"}},\"type\":\"scatterternary\"}],\"surface\":[{\"colorbar\":{\"outlinewidth\":0,\"ticks\":\"\"},\"colorscale\":[[0.0,\"#0d0887\"],[0.1111111111111111,\"#46039f\"],[0.2222222222222222,\"#7201a8\"],[0.3333333333333333,\"#9c179e\"],[0.4444444444444444,\"#bd3786\"],[0.5555555555555556,\"#d8576b\"],[0.6666666666666666,\"#ed7953\"],[0.7777777777777778,\"#fb9f3a\"],[0.8888888888888888,\"#fdca26\"],[1.0,\"#f0f921\"]],\"type\":\"surface\"}],\"table\":[{\"cells\":{\"fill\":{\"color\":\"#EBF0F8\"},\"line\":{\"color\":\"white\"}},\"header\":{\"fill\":{\"color\":\"#C8D4E3\"},\"line\":{\"color\":\"white\"}},\"type\":\"table\"}]},\"layout\":{\"annotationdefaults\":{\"arrowcolor\":\"#2a3f5f\",\"arrowhead\":0,\"arrowwidth\":1},\"autotypenumbers\":\"strict\",\"coloraxis\":{\"colorbar\":{\"outlinewidth\":0,\"ticks\":\"\"}},\"colorscale\":{\"diverging\":[[0,\"#8e0152\"],[0.1,\"#c51b7d\"],[0.2,\"#de77ae\"],[0.3,\"#f1b6da\"],[0.4,\"#fde0ef\"],[0.5,\"#f7f7f7\"],[0.6,\"#e6f5d0\"],[0.7,\"#b8e186\"],[0.8,\"#7fbc41\"],[0.9,\"#4d9221\"],[1,\"#276419\"]],\"sequential\":[[0.0,\"#0d0887\"],[0.1111111111111111,\"#46039f\"],[0.2222222222222222,\"#7201a8\"],[0.3333333333333333,\"#9c179e\"],[0.4444444444444444,\"#bd3786\"],[0.5555555555555556,\"#d8576b\"],[0.6666666666666666,\"#ed7953\"],[0.7777777777777778,\"#fb9f3a\"],[0.8888888888888888,\"#fdca26\"],[1.0,\"#f0f921\"]],\"sequentialminus\":[[0.0,\"#0d0887\"],[0.1111111111111111,\"#46039f\"],[0.2222222222222222,\"#7201a8\"],[0.3333333333333333,\"#9c179e\"],[0.4444444444444444,\"#bd3786\"],[0.5555555555555556,\"#d8576b\"],[0.6666666666666666,\"#ed7953\"],[0.7777777777777778,\"#fb9f3a\"],[0.8888888888888888,\"#fdca26\"],[1.0,\"#f0f921\"]]},\"colorway\":[\"#636efa\",\"#EF553B\",\"#00cc96\",\"#ab63fa\",\"#FFA15A\",\"#19d3f3\",\"#FF6692\",\"#B6E880\",\"#FF97FF\",\"#FECB52\"],\"font\":{\"color\":\"#2a3f5f\"},\"geo\":{\"bgcolor\":\"white\",\"lakecolor\":\"white\",\"landcolor\":\"#E5ECF6\",\"showlakes\":true,\"showland\":true,\"subunitcolor\":\"white\"},\"hoverlabel\":{\"align\":\"left\"},\"hovermode\":\"closest\",\"mapbox\":{\"style\":\"light\"},\"paper_bgcolor\":\"white\",\"plot_bgcolor\":\"#E5ECF6\",\"polar\":{\"angularaxis\":{\"gridcolor\":\"white\",\"linecolor\":\"white\",\"ticks\":\"\"},\"bgcolor\":\"#E5ECF6\",\"radialaxis\":{\"gridcolor\":\"white\",\"linecolor\":\"white\",\"ticks\":\"\"}},\"scene\":{\"xaxis\":{\"backgroundcolor\":\"#E5ECF6\",\"gridcolor\":\"white\",\"gridwidth\":2,\"linecolor\":\"white\",\"showbackground\":true,\"ticks\":\"\",\"zerolinecolor\":\"white\"},\"yaxis\":{\"backgroundcolor\":\"#E5ECF6\",\"gridcolor\":\"white\",\"gridwidth\":2,\"linecolor\":\"white\",\"showbackground\":true,\"ticks\":\"\",\"zerolinecolor\":\"white\"},\"zaxis\":{\"backgroundcolor\":\"#E5ECF6\",\"gridcolor\":\"white\",\"gridwidth\":2,\"linecolor\":\"white\",\"showbackground\":true,\"ticks\":\"\",\"zerolinecolor\":\"white\"}},\"shapedefaults\":{\"line\":{\"color\":\"#2a3f5f\"}},\"ternary\":{\"aaxis\":{\"gridcolor\":\"white\",\"linecolor\":\"white\",\"ticks\":\"\"},\"baxis\":{\"gridcolor\":\"white\",\"linecolor\":\"white\",\"ticks\":\"\"},\"bgcolor\":\"#E5ECF6\",\"caxis\":{\"gridcolor\":\"white\",\"linecolor\":\"white\",\"ticks\":\"\"}},\"title\":{\"x\":0.05},\"xaxis\":{\"automargin\":true,\"gridcolor\":\"white\",\"linecolor\":\"white\",\"ticks\":\"\",\"title\":{\"standoff\":15},\"zerolinecolor\":\"white\",\"zerolinewidth\":2},\"yaxis\":{\"automargin\":true,\"gridcolor\":\"white\",\"linecolor\":\"white\",\"ticks\":\"\",\"title\":{\"standoff\":15},\"zerolinecolor\":\"white\",\"zerolinewidth\":2}}}},                        {\"responsive\": true}                    ).then(function(){\n",
              "                            \n",
              "var gd = document.getElementById('dee9a086-5dbe-49f9-a9e6-451fd76ee4a8');\n",
              "var x = new MutationObserver(function (mutations, observer) {{\n",
              "        var display = window.getComputedStyle(gd).display;\n",
              "        if (!display || display === 'none') {{\n",
              "            console.log([gd, 'removed!']);\n",
              "            Plotly.purge(gd);\n",
              "            observer.disconnect();\n",
              "        }}\n",
              "}});\n",
              "\n",
              "// Listen for the removal of the full notebook cells\n",
              "var notebookContainer = gd.closest('#notebook-container');\n",
              "if (notebookContainer) {{\n",
              "    x.observe(notebookContainer, {childList: true});\n",
              "}}\n",
              "\n",
              "// Listen for the clearing of the current output cell\n",
              "var outputEl = gd.closest('.output');\n",
              "if (outputEl) {{\n",
              "    x.observe(outputEl, {childList: true});\n",
              "}}\n",
              "\n",
              "                        })                };                            </script>        </div>\n",
              "</body>\n",
              "</html>"
            ]
          },
          "metadata": {}
        }
      ]
    },
    {
      "cell_type": "code",
      "source": [
        "print(f\"Melhor trial : \\n{study_xgb_cv.best_trial}\")\n",
        "\n",
        "print(f\"Melhor valor do f-score : \\n{study_xgb_cv.best_value}\")\n",
        "\n",
        "print(f\"Melhores parâmetros : \\n{study_xgb_cv.best_params}\")"
      ],
      "metadata": {
        "colab": {
          "base_uri": "https://localhost:8080/"
        },
        "outputId": "73774527-f0bb-4f05-b93f-8344b4077bb4",
        "id": "0HhZQyAFAWbu"
      },
      "execution_count": 27,
      "outputs": [
        {
          "output_type": "stream",
          "name": "stdout",
          "text": [
            "Melhor trial : \n",
            "FrozenTrial(number=64, values=[0.8490712471426693], datetime_start=datetime.datetime(2022, 9, 5, 13, 13, 28, 67756), datetime_complete=datetime.datetime(2022, 9, 5, 13, 14, 44, 6963), params={'classifier': 'XGB', 'xgb_n_estimators': 1209, 'xgb_learning_rate': 0.09923687970094489}, distributions={'classifier': CategoricalDistribution(choices=('XGB',)), 'xgb_n_estimators': IntDistribution(high=1250, log=False, low=750, step=1), 'xgb_learning_rate': FloatDistribution(high=0.1, log=True, low=0.001, step=None)}, user_attrs={}, system_attrs={}, intermediate_values={}, trial_id=64, state=TrialState.COMPLETE, value=None)\n",
            "Melhor valor do f-score : \n",
            "0.8490712471426693\n",
            "Melhores parâmetros : \n",
            "{'classifier': 'XGB', 'xgb_n_estimators': 1209, 'xgb_learning_rate': 0.09923687970094489}\n"
          ]
        }
      ]
    },
    {
      "cell_type": "code",
      "source": [
        "best_xgb_cv = XGBClassifier(\n",
        "      random_state=RANDOM_STATE, \n",
        "      n_estimators=study_xgb_cv.best_params['xgb_n_estimators'], \n",
        "      learning_rate=study_xgb_cv.best_params['xgb_learning_rate'], \n",
        "      max_depth=10,\n",
        "      subsample=0.7,\n",
        "      colsample_bytree=0.7,\n",
        "      max_delta_step=1\n",
        ")\n",
        "cv_scores = cross_val_score(best_xgb_cv, X_train_cv, y_train_cv, cv=5, scoring='f1_weighted')\n",
        "cv_scores"
      ],
      "metadata": {
        "colab": {
          "base_uri": "https://localhost:8080/"
        },
        "outputId": "594e00b4-465f-4cf7-ab87-9e12b8b0bfc9",
        "id": "OQNbMCycAWbu"
      },
      "execution_count": 37,
      "outputs": [
        {
          "output_type": "execute_result",
          "data": {
            "text/plain": [
              "array([0.85267896, 0.84082377, 0.84869074, 0.860582  , 0.84258077])"
            ]
          },
          "metadata": {},
          "execution_count": 37
        }
      ]
    },
    {
      "cell_type": "code",
      "source": [
        "best_xgb_cv.fit(X_train_cv, y_train_cv)"
      ],
      "metadata": {
        "id": "mIclJ_OxCEja",
        "outputId": "7644ea90-5d3d-4acb-dbd6-edce726ed197",
        "colab": {
          "base_uri": "https://localhost:8080/"
        }
      },
      "execution_count": 40,
      "outputs": [
        {
          "output_type": "execute_result",
          "data": {
            "text/plain": [
              "XGBClassifier(colsample_bytree=0.7, learning_rate=0.09923687970094489,\n",
              "              max_delta_step=1, max_depth=10, n_estimators=1209,\n",
              "              random_state=42, subsample=0.7)"
            ]
          },
          "metadata": {},
          "execution_count": 40
        }
      ]
    },
    {
      "cell_type": "code",
      "source": [
        "best_clf = best_xgb_cv"
      ],
      "metadata": {
        "id": "3LEURTrnAWbv"
      },
      "execution_count": 41,
      "outputs": []
    },
    {
      "cell_type": "markdown",
      "source": [
        "Por fim, testamos se o processo de otimização utilizando *cross validation* de fato fez com que o modelo melhorasse seu quadro de overfit"
      ],
      "metadata": {
        "id": "2U6p3KLMAWbv"
      }
    },
    {
      "cell_type": "code",
      "source": [
        "best_clf"
      ],
      "metadata": {
        "id": "fqnSs4HqBmMG",
        "outputId": "e7bc8bd0-caa1-4e9c-8643-2b8ca33fcd01",
        "colab": {
          "base_uri": "https://localhost:8080/"
        }
      },
      "execution_count": 42,
      "outputs": [
        {
          "output_type": "execute_result",
          "data": {
            "text/plain": [
              "XGBClassifier(colsample_bytree=0.7, learning_rate=0.09923687970094489,\n",
              "              max_delta_step=1, max_depth=10, n_estimators=1209,\n",
              "              random_state=42, subsample=0.7)"
            ]
          },
          "metadata": {},
          "execution_count": 42
        }
      ]
    },
    {
      "cell_type": "code",
      "source": [
        "# Treino\n",
        "y_pred_train = best_clf.predict(X_train_cv)\n",
        "y_proba_train = best_clf.predict_proba(X_train_cv)\n",
        "acc_train, auroc_train, f1_train = eval_metrics(y_train_cv, y_pred_train, y_proba_train)\n",
        "print(f'Accuracy train : {acc_train}')\n",
        "print(f'AUROC train : {auroc_train}')\n",
        "print(f'F1-Score train : {f1_train}')"
      ],
      "metadata": {
        "outputId": "9d54a280-9a54-4e10-d3fe-2be3c284b987",
        "colab": {
          "base_uri": "https://localhost:8080/"
        },
        "id": "OhxnbKWYAWbv"
      },
      "execution_count": 43,
      "outputs": [
        {
          "output_type": "stream",
          "name": "stdout",
          "text": [
            "Accuracy train : 1.0\n",
            "AUROC train : 1.0\n",
            "F1-Score train : 1.0\n"
          ]
        }
      ]
    },
    {
      "cell_type": "code",
      "source": [
        "# Teste\n",
        "y_pred_test = best_clf.predict(X_test)\n",
        "y_proba_test = best_clf.predict_proba(X_test)\n",
        "acc_test, auroc_test, f1_test = eval_metrics(y_test, y_pred_test, y_proba_test)\n",
        "print(f'Accuracy test : {acc_test}')\n",
        "print(f'AUROC test : {auroc_test}')\n",
        "print(f'F1-Score test : {f1_test}')"
      ],
      "metadata": {
        "outputId": "6f41247b-633b-4e10-db3e-48d1a3314fda",
        "colab": {
          "base_uri": "https://localhost:8080/"
        },
        "id": "sAjuNNp3AWbv"
      },
      "execution_count": 44,
      "outputs": [
        {
          "output_type": "stream",
          "name": "stdout",
          "text": [
            "Accuracy test : 0.863102998696219\n",
            "AUROC test : 0.871556721988577\n",
            "F1-Score test : 0.8432476095744041\n"
          ]
        }
      ]
    },
    {
      "cell_type": "markdown",
      "source": [
        "Conlusão: o modelo continua num estado de overfit, já que os resultados para treino e teste diferem em aproximadamente 15% em todas as métricas, mesmo após redução de complexidade, inserção de aleatoriedade e uso de cross validation. "
      ],
      "metadata": {
        "id": "qs8nIm8jCa28"
      }
    }
  ]
}