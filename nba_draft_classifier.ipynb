{
  "nbformat": 4,
  "nbformat_minor": 0,
  "metadata": {
    "colab": {
      "provenance": [],
      "collapsed_sections": [],
      "authorship_tag": "ABX9TyMU4eHUKGfnVU0cRSL8ppNz"
    },
    "kernelspec": {
      "name": "python3",
      "display_name": "Python 3"
    },
    "language_info": {
      "name": "python"
    }
  },
  "cells": [
    {
      "cell_type": "markdown",
      "source": [
        "# Classificador de draft da NBA\n",
        "O objetivo do modelo é, a partir dos dados das temporadas 1996-97 a 2021-22, classificar corretamente se o jogador é *undrafted*, ou seja, não foi draftado.\n",
        "\n",
        "Passo a passo:\n",
        "* Escolha do problema ✔\n",
        "* Separação dos dados em treino, validação e teste ✔\n",
        "* Selecionar algoritmos para resolver o problema \n",
        "* Adicionar MLFlow no treinamento dos modelos\n",
        "* Executar uma ferramenta de seleção de hiper-parâmetros\n",
        "* Realizar diagnóstico do melhor modelo e melhorá-lo a partir disso"
      ],
      "metadata": {
        "id": "PJfJvnM4GaO_"
      }
    },
    {
      "cell_type": "markdown",
      "source": [
        "## Dependências"
      ],
      "metadata": {
        "id": "e7eqhDsqGwzI"
      }
    },
    {
      "cell_type": "code",
      "source": [
        "!pip install mlflow"
      ],
      "metadata": {
        "id": "5R6drsFKg1se"
      },
      "execution_count": null,
      "outputs": []
    },
    {
      "cell_type": "code",
      "source": [
        "import pandas as pd\n",
        "from sklearn.model_selection import train_test_split\n",
        "from sklearn.neural_network import MLPClassifier\n",
        "from sklearn.metrics import f1_score, roc_auc_score, accuracy_score\n",
        "from sklearn.linear_model import LogisticRegression\n",
        "from sklearn.ensemble import RandomForestClassifier\n",
        "from xgboost import XGBClassifier\n",
        "import mlflow\n",
        "import mlflow.sklearn\n",
        "from urllib.parse import urlparse"
      ],
      "metadata": {
        "id": "THYbQrQqHEe_"
      },
      "execution_count": 16,
      "outputs": []
    },
    {
      "cell_type": "code",
      "execution_count": 5,
      "metadata": {
        "colab": {
          "base_uri": "https://localhost:8080/"
        },
        "id": "mbZf1HDwGWwK",
        "outputId": "b1469a9d-a59d-4c2b-cadc-c1e7d5c277c0"
      },
      "outputs": [
        {
          "output_type": "stream",
          "name": "stdout",
          "text": [
            "Mounted at /content/drive\n"
          ]
        }
      ],
      "source": [
        "from google.colab import drive\n",
        "drive.mount('/content/drive')"
      ]
    },
    {
      "cell_type": "code",
      "source": [
        "# Path Tales\n",
        "path = '/content/drive/MyDrive/2022.1/TA GDI/projeto1/data/classification.csv'"
      ],
      "metadata": {
        "id": "Ia1wXqZUG99m"
      },
      "execution_count": 6,
      "outputs": []
    },
    {
      "cell_type": "code",
      "source": [
        "dataset = pd.read_csv(path)"
      ],
      "metadata": {
        "id": "gLJi0q33G6Vu"
      },
      "execution_count": 7,
      "outputs": []
    },
    {
      "cell_type": "code",
      "source": [
        "dataset.head()"
      ],
      "metadata": {
        "colab": {
          "base_uri": "https://localhost:8080/",
          "height": 300
        },
        "id": "Leeat6W5H1dc",
        "outputId": "e0f195c9-77b5-4f51-f2f5-6a3cb2932a49"
      },
      "execution_count": 8,
      "outputs": [
        {
          "output_type": "execute_result",
          "data": {
            "text/plain": [
              "   player_name  team_abbreviation       age  player_height  player_weight  \\\n",
              "0         2071                 16  0.153846       0.750000       0.485714   \n",
              "1         1475                 13  0.461538       0.678571       0.485714   \n",
              "2         1466                  2  0.423077       0.714286       0.533333   \n",
              "3         1465                  9  0.153846       0.642857       0.485714   \n",
              "4         1464                 35  0.153846       0.535714       0.438095   \n",
              "\n",
              "   college  country  draft_year  draft_round  draft_number  ...  oreb_pct  \\\n",
              "0       65       72    0.568966        0.125      0.175758  ...     0.127   \n",
              "1      117       72         NaN          NaN           NaN  ...     0.016   \n",
              "2      227       72         NaN          NaN           NaN  ...     0.083   \n",
              "3      189       72    0.568966        0.125      0.151515  ...     0.109   \n",
              "4      249       72    0.551724        0.250      0.303030  ...     0.087   \n",
              "\n",
              "   dreb_pct  usg_pct  ts_pct  ast_pct  season  undrafted  season_start_year  \\\n",
              "0     0.182    0.142   0.536    0.052       0        0.0                0.0   \n",
              "1     0.115    0.151   0.535    0.099       0        1.0                0.0   \n",
              "2     0.152    0.167   0.542    0.101       0        1.0                0.0   \n",
              "3     0.118    0.233   0.482    0.114       0        0.0                0.0   \n",
              "4     0.045    0.135   0.470    0.125       0        0.0                0.0   \n",
              "\n",
              "   season_end_year    gp_pct  \n",
              "0              0.0  0.865854  \n",
              "1              0.0  0.865854  \n",
              "2              0.0  0.902439  \n",
              "3              0.0  0.512195  \n",
              "4              0.0  0.109756  \n",
              "\n",
              "[5 rows x 25 columns]"
            ],
            "text/html": [
              "\n",
              "  <div id=\"df-fa4f9e92-d105-4ac7-bf03-42b6a5bebfa2\">\n",
              "    <div class=\"colab-df-container\">\n",
              "      <div>\n",
              "<style scoped>\n",
              "    .dataframe tbody tr th:only-of-type {\n",
              "        vertical-align: middle;\n",
              "    }\n",
              "\n",
              "    .dataframe tbody tr th {\n",
              "        vertical-align: top;\n",
              "    }\n",
              "\n",
              "    .dataframe thead th {\n",
              "        text-align: right;\n",
              "    }\n",
              "</style>\n",
              "<table border=\"1\" class=\"dataframe\">\n",
              "  <thead>\n",
              "    <tr style=\"text-align: right;\">\n",
              "      <th></th>\n",
              "      <th>player_name</th>\n",
              "      <th>team_abbreviation</th>\n",
              "      <th>age</th>\n",
              "      <th>player_height</th>\n",
              "      <th>player_weight</th>\n",
              "      <th>college</th>\n",
              "      <th>country</th>\n",
              "      <th>draft_year</th>\n",
              "      <th>draft_round</th>\n",
              "      <th>draft_number</th>\n",
              "      <th>...</th>\n",
              "      <th>oreb_pct</th>\n",
              "      <th>dreb_pct</th>\n",
              "      <th>usg_pct</th>\n",
              "      <th>ts_pct</th>\n",
              "      <th>ast_pct</th>\n",
              "      <th>season</th>\n",
              "      <th>undrafted</th>\n",
              "      <th>season_start_year</th>\n",
              "      <th>season_end_year</th>\n",
              "      <th>gp_pct</th>\n",
              "    </tr>\n",
              "  </thead>\n",
              "  <tbody>\n",
              "    <tr>\n",
              "      <th>0</th>\n",
              "      <td>2071</td>\n",
              "      <td>16</td>\n",
              "      <td>0.153846</td>\n",
              "      <td>0.750000</td>\n",
              "      <td>0.485714</td>\n",
              "      <td>65</td>\n",
              "      <td>72</td>\n",
              "      <td>0.568966</td>\n",
              "      <td>0.125</td>\n",
              "      <td>0.175758</td>\n",
              "      <td>...</td>\n",
              "      <td>0.127</td>\n",
              "      <td>0.182</td>\n",
              "      <td>0.142</td>\n",
              "      <td>0.536</td>\n",
              "      <td>0.052</td>\n",
              "      <td>0</td>\n",
              "      <td>0.0</td>\n",
              "      <td>0.0</td>\n",
              "      <td>0.0</td>\n",
              "      <td>0.865854</td>\n",
              "    </tr>\n",
              "    <tr>\n",
              "      <th>1</th>\n",
              "      <td>1475</td>\n",
              "      <td>13</td>\n",
              "      <td>0.461538</td>\n",
              "      <td>0.678571</td>\n",
              "      <td>0.485714</td>\n",
              "      <td>117</td>\n",
              "      <td>72</td>\n",
              "      <td>NaN</td>\n",
              "      <td>NaN</td>\n",
              "      <td>NaN</td>\n",
              "      <td>...</td>\n",
              "      <td>0.016</td>\n",
              "      <td>0.115</td>\n",
              "      <td>0.151</td>\n",
              "      <td>0.535</td>\n",
              "      <td>0.099</td>\n",
              "      <td>0</td>\n",
              "      <td>1.0</td>\n",
              "      <td>0.0</td>\n",
              "      <td>0.0</td>\n",
              "      <td>0.865854</td>\n",
              "    </tr>\n",
              "    <tr>\n",
              "      <th>2</th>\n",
              "      <td>1466</td>\n",
              "      <td>2</td>\n",
              "      <td>0.423077</td>\n",
              "      <td>0.714286</td>\n",
              "      <td>0.533333</td>\n",
              "      <td>227</td>\n",
              "      <td>72</td>\n",
              "      <td>NaN</td>\n",
              "      <td>NaN</td>\n",
              "      <td>NaN</td>\n",
              "      <td>...</td>\n",
              "      <td>0.083</td>\n",
              "      <td>0.152</td>\n",
              "      <td>0.167</td>\n",
              "      <td>0.542</td>\n",
              "      <td>0.101</td>\n",
              "      <td>0</td>\n",
              "      <td>1.0</td>\n",
              "      <td>0.0</td>\n",
              "      <td>0.0</td>\n",
              "      <td>0.902439</td>\n",
              "    </tr>\n",
              "    <tr>\n",
              "      <th>3</th>\n",
              "      <td>1465</td>\n",
              "      <td>9</td>\n",
              "      <td>0.153846</td>\n",
              "      <td>0.642857</td>\n",
              "      <td>0.485714</td>\n",
              "      <td>189</td>\n",
              "      <td>72</td>\n",
              "      <td>0.568966</td>\n",
              "      <td>0.125</td>\n",
              "      <td>0.151515</td>\n",
              "      <td>...</td>\n",
              "      <td>0.109</td>\n",
              "      <td>0.118</td>\n",
              "      <td>0.233</td>\n",
              "      <td>0.482</td>\n",
              "      <td>0.114</td>\n",
              "      <td>0</td>\n",
              "      <td>0.0</td>\n",
              "      <td>0.0</td>\n",
              "      <td>0.0</td>\n",
              "      <td>0.512195</td>\n",
              "    </tr>\n",
              "    <tr>\n",
              "      <th>4</th>\n",
              "      <td>1464</td>\n",
              "      <td>35</td>\n",
              "      <td>0.153846</td>\n",
              "      <td>0.535714</td>\n",
              "      <td>0.438095</td>\n",
              "      <td>249</td>\n",
              "      <td>72</td>\n",
              "      <td>0.551724</td>\n",
              "      <td>0.250</td>\n",
              "      <td>0.303030</td>\n",
              "      <td>...</td>\n",
              "      <td>0.087</td>\n",
              "      <td>0.045</td>\n",
              "      <td>0.135</td>\n",
              "      <td>0.470</td>\n",
              "      <td>0.125</td>\n",
              "      <td>0</td>\n",
              "      <td>0.0</td>\n",
              "      <td>0.0</td>\n",
              "      <td>0.0</td>\n",
              "      <td>0.109756</td>\n",
              "    </tr>\n",
              "  </tbody>\n",
              "</table>\n",
              "<p>5 rows × 25 columns</p>\n",
              "</div>\n",
              "      <button class=\"colab-df-convert\" onclick=\"convertToInteractive('df-fa4f9e92-d105-4ac7-bf03-42b6a5bebfa2')\"\n",
              "              title=\"Convert this dataframe to an interactive table.\"\n",
              "              style=\"display:none;\">\n",
              "        \n",
              "  <svg xmlns=\"http://www.w3.org/2000/svg\" height=\"24px\"viewBox=\"0 0 24 24\"\n",
              "       width=\"24px\">\n",
              "    <path d=\"M0 0h24v24H0V0z\" fill=\"none\"/>\n",
              "    <path d=\"M18.56 5.44l.94 2.06.94-2.06 2.06-.94-2.06-.94-.94-2.06-.94 2.06-2.06.94zm-11 1L8.5 8.5l.94-2.06 2.06-.94-2.06-.94L8.5 2.5l-.94 2.06-2.06.94zm10 10l.94 2.06.94-2.06 2.06-.94-2.06-.94-.94-2.06-.94 2.06-2.06.94z\"/><path d=\"M17.41 7.96l-1.37-1.37c-.4-.4-.92-.59-1.43-.59-.52 0-1.04.2-1.43.59L10.3 9.45l-7.72 7.72c-.78.78-.78 2.05 0 2.83L4 21.41c.39.39.9.59 1.41.59.51 0 1.02-.2 1.41-.59l7.78-7.78 2.81-2.81c.8-.78.8-2.07 0-2.86zM5.41 20L4 18.59l7.72-7.72 1.47 1.35L5.41 20z\"/>\n",
              "  </svg>\n",
              "      </button>\n",
              "      \n",
              "  <style>\n",
              "    .colab-df-container {\n",
              "      display:flex;\n",
              "      flex-wrap:wrap;\n",
              "      gap: 12px;\n",
              "    }\n",
              "\n",
              "    .colab-df-convert {\n",
              "      background-color: #E8F0FE;\n",
              "      border: none;\n",
              "      border-radius: 50%;\n",
              "      cursor: pointer;\n",
              "      display: none;\n",
              "      fill: #1967D2;\n",
              "      height: 32px;\n",
              "      padding: 0 0 0 0;\n",
              "      width: 32px;\n",
              "    }\n",
              "\n",
              "    .colab-df-convert:hover {\n",
              "      background-color: #E2EBFA;\n",
              "      box-shadow: 0px 1px 2px rgba(60, 64, 67, 0.3), 0px 1px 3px 1px rgba(60, 64, 67, 0.15);\n",
              "      fill: #174EA6;\n",
              "    }\n",
              "\n",
              "    [theme=dark] .colab-df-convert {\n",
              "      background-color: #3B4455;\n",
              "      fill: #D2E3FC;\n",
              "    }\n",
              "\n",
              "    [theme=dark] .colab-df-convert:hover {\n",
              "      background-color: #434B5C;\n",
              "      box-shadow: 0px 1px 3px 1px rgba(0, 0, 0, 0.15);\n",
              "      filter: drop-shadow(0px 1px 2px rgba(0, 0, 0, 0.3));\n",
              "      fill: #FFFFFF;\n",
              "    }\n",
              "  </style>\n",
              "\n",
              "      <script>\n",
              "        const buttonEl =\n",
              "          document.querySelector('#df-fa4f9e92-d105-4ac7-bf03-42b6a5bebfa2 button.colab-df-convert');\n",
              "        buttonEl.style.display =\n",
              "          google.colab.kernel.accessAllowed ? 'block' : 'none';\n",
              "\n",
              "        async function convertToInteractive(key) {\n",
              "          const element = document.querySelector('#df-fa4f9e92-d105-4ac7-bf03-42b6a5bebfa2');\n",
              "          const dataTable =\n",
              "            await google.colab.kernel.invokeFunction('convertToInteractive',\n",
              "                                                     [key], {});\n",
              "          if (!dataTable) return;\n",
              "\n",
              "          const docLinkHtml = 'Like what you see? Visit the ' +\n",
              "            '<a target=\"_blank\" href=https://colab.research.google.com/notebooks/data_table.ipynb>data table notebook</a>'\n",
              "            + ' to learn more about interactive tables.';\n",
              "          element.innerHTML = '';\n",
              "          dataTable['output_type'] = 'display_data';\n",
              "          await google.colab.output.renderOutput(dataTable, element);\n",
              "          const docLink = document.createElement('div');\n",
              "          docLink.innerHTML = docLinkHtml;\n",
              "          element.appendChild(docLink);\n",
              "        }\n",
              "      </script>\n",
              "    </div>\n",
              "  </div>\n",
              "  "
            ]
          },
          "metadata": {},
          "execution_count": 8
        }
      ]
    },
    {
      "cell_type": "code",
      "source": [
        "dataset.groupby(['undrafted'])['player_name'].count()"
      ],
      "metadata": {
        "colab": {
          "base_uri": "https://localhost:8080/"
        },
        "id": "Vio_Z_hNL6bz",
        "outputId": "298bbc66-0b61-4437-c590-7c01e13786a7"
      },
      "execution_count": 9,
      "outputs": [
        {
          "output_type": "execute_result",
          "data": {
            "text/plain": [
              "undrafted\n",
              "0.0    9629\n",
              "1.0    1875\n",
              "Name: player_name, dtype: int64"
            ]
          },
          "metadata": {},
          "execution_count": 9
        }
      ]
    },
    {
      "cell_type": "markdown",
      "source": [
        "## Separação dos conjuntos de treino, validação e teste"
      ],
      "metadata": {
        "id": "ExKQUnZPH38z"
      }
    },
    {
      "cell_type": "code",
      "source": [
        "RANDOM_STATE = 42"
      ],
      "metadata": {
        "id": "ta4Ksm2PKsb8"
      },
      "execution_count": 10,
      "outputs": []
    },
    {
      "cell_type": "code",
      "source": [
        "dataset.columns"
      ],
      "metadata": {
        "colab": {
          "base_uri": "https://localhost:8080/"
        },
        "id": "xVZ_6CLBH7Is",
        "outputId": "bc296f2c-ebba-4097-e12c-1b8dfeea8f49"
      },
      "execution_count": 11,
      "outputs": [
        {
          "output_type": "execute_result",
          "data": {
            "text/plain": [
              "Index(['player_name', 'team_abbreviation', 'age', 'player_height',\n",
              "       'player_weight', 'college', 'country', 'draft_year', 'draft_round',\n",
              "       'draft_number', 'gp', 'pts', 'reb', 'ast', 'net_rating', 'oreb_pct',\n",
              "       'dreb_pct', 'usg_pct', 'ts_pct', 'ast_pct', 'season', 'undrafted',\n",
              "       'season_start_year', 'season_end_year', 'gp_pct'],\n",
              "      dtype='object')"
            ]
          },
          "metadata": {},
          "execution_count": 11
        }
      ]
    },
    {
      "cell_type": "markdown",
      "source": [
        "Escolhemos as colunas de altura, peso, faculdade, país, jogos realizados e métricas de desempenho (pts, reb, ast...) para compor o conjunto de features e a coluna 'undrafted' é nossa label"
      ],
      "metadata": {
        "id": "xKozGNDBJHiX"
      }
    },
    {
      "cell_type": "code",
      "source": [
        "X = dataset[['player_height', 'player_weight', 'college', 'country', \n",
        "             'gp', 'pts', 'reb', 'ast', 'net_rating', 'oreb_pct',\n",
        "             'dreb_pct', 'usg_pct', 'ts_pct', 'ast_pct']]\n",
        "y = dataset['undrafted']\n",
        "X.shape, y.shape"
      ],
      "metadata": {
        "colab": {
          "base_uri": "https://localhost:8080/"
        },
        "id": "zupxjVukJFcS",
        "outputId": "5cb10aa3-8008-46d7-d36e-60aa1aeb1e8c"
      },
      "execution_count": 12,
      "outputs": [
        {
          "output_type": "execute_result",
          "data": {
            "text/plain": [
              "((11504, 14), (11504,))"
            ]
          },
          "metadata": {},
          "execution_count": 12
        }
      ]
    },
    {
      "cell_type": "markdown",
      "source": [
        "Designamos 70% dos dados para teste, 20% para treino e 10% para validação"
      ],
      "metadata": {
        "id": "GhYvbWJ7KA4X"
      }
    },
    {
      "cell_type": "code",
      "source": [
        "X_train, X_test, y_train, y_test = train_test_split(X, y, test_size=0.2, random_state=RANDOM_STATE)\n",
        "X_train, X_val, y_train, y_val = train_test_split(X_train, y_train, test_size=0.125, random_state=RANDOM_STATE)\n",
        "\n",
        "X_train.shape, X_val.shape, X_test.shape"
      ],
      "metadata": {
        "colab": {
          "base_uri": "https://localhost:8080/"
        },
        "id": "xjsVXc5vJFKX",
        "outputId": "30521e67-95f1-4d7a-de8d-e0835d2e73b5"
      },
      "execution_count": 13,
      "outputs": [
        {
          "output_type": "execute_result",
          "data": {
            "text/plain": [
              "((8052, 14), (1151, 14), (2301, 14))"
            ]
          },
          "metadata": {},
          "execution_count": 13
        }
      ]
    },
    {
      "cell_type": "markdown",
      "source": [
        "## Seleção de algoritmos\n",
        "Selecionamos os seguintes para resolução do problema de classificação:\n",
        "* MLP\n",
        "* RandomForest\n",
        "* XGBoost\n",
        "* LogisticRegression\n",
        "Além disso, como notamos que o dataset é bem desbalanceado, utilizaremos o f1 score como métrica de treinamento."
      ],
      "metadata": {
        "id": "XTb7ZLb2K761"
      }
    },
    {
      "cell_type": "code",
      "source": [
        "def eval_metrics(y_true, y_pred, y_proba):\n",
        "  f1 = f1_score(y_true, y_pred, average='weighted')\n",
        "  acc = accuracy_score(y_true, y_pred)\n",
        "  auroc = roc_auc_score(y_true, y_proba[:, 1])\n",
        "  return acc, auroc, f1"
      ],
      "metadata": {
        "id": "mH4FTfYZh5zQ"
      },
      "execution_count": 15,
      "outputs": []
    },
    {
      "cell_type": "markdown",
      "source": [
        "### MLPs\n",
        "No algoritmo MLP, vamos variar os parâmetros `hidden_layer_sizes` (número de neurônios nas camadas escondidas), `activation` (função de ativação dos neurônios) e `solver` que otimiza a atualização dos pesos."
      ],
      "metadata": {
        "id": "pd6l89HGLtro"
      }
    },
    {
      "cell_type": "code",
      "source": [
        "EPOCHS=500"
      ],
      "metadata": {
        "id": "aBhJjqn0NtSi"
      },
      "execution_count": 14,
      "outputs": []
    },
    {
      "cell_type": "markdown",
      "source": [
        "#### Tentativa 1"
      ],
      "metadata": {
        "id": "VRKunS7bNqM6"
      }
    },
    {
      "cell_type": "code",
      "source": [
        "hidden_layer_sizes=(100,)\n",
        "activation='relu'\n",
        "solver='adam'"
      ],
      "metadata": {
        "id": "pUjx7YCZiyF1"
      },
      "execution_count": 40,
      "outputs": []
    },
    {
      "cell_type": "code",
      "source": [
        "with mlflow.start_run():\n",
        "  mlp = MLPClassifier(random_state=RANDOM_STATE, max_iter=EPOCHS, hidden_layer_sizes=hidden_layer_sizes, activation=activation, solver=solver)\n",
        "  mlp.fit(X_train, y_train)\n",
        "\n",
        "  y_pred = mlp.predict(X_val)\n",
        "  y_proba = mlp.predict_proba(X_val)\n",
        "\n",
        "  (acc, auroc, f1) = eval_metrics(y_val, y_pred, y_proba)\n",
        "\n",
        "  mlflow.log_param(\"hidden_layer_sizes\", hidden_layer_sizes)\n",
        "  mlflow.log_param(\"activation\", activation)\n",
        "  mlflow.log_param(\"solver\", solver)\n",
        "  mlflow.log_metric(\"accuracy\", acc)\n",
        "  mlflow.log_metric(\"auroc\", auroc)\n",
        "  mlflow.log_metric(\"f1\", f1)\n",
        "\n",
        "  tracking_url_type_store = urlparse(mlflow.get_tracking_uri()).scheme\n",
        "\n",
        "  # Model registry does not work with file store\n",
        "  if tracking_url_type_store != \"file\":\n",
        "    # Register the model\n",
        "    # There are other ways to use the Model Registry, which depends on the use case,\n",
        "    # please refer to the doc for more information:\n",
        "    # https://mlflow.org/docs/latest/model-registry.html#api-workflow\n",
        "    mlflow.sklearn.log_model(mlp, \"model\", registered_model_name=\"MLP_NBA_Undrafted\")\n",
        "  else:\n",
        "    mlflow.sklearn.log_model(mlp, \"model\")"
      ],
      "metadata": {
        "id": "AuG_R7QnhrSD"
      },
      "execution_count": 41,
      "outputs": []
    },
    {
      "cell_type": "code",
      "source": [
        "!less /content/mlruns/0/b5f8ad22854f4b568521073bda44aa34/params/activation"
      ],
      "metadata": {
        "colab": {
          "base_uri": "https://localhost:8080/"
        },
        "id": "OTpS6u24jkfj",
        "outputId": "d7c0bf27-ffd4-49b5-c4cd-cf4bd3f762e8"
      },
      "execution_count": 44,
      "outputs": [
        {
          "output_type": "stream",
          "name": "stdout",
          "text": [
            "relu\n",
            "\u001b[K\u001b[?1l\u001b>\u001b[2J\u001b[?47l\u001b8"
          ]
        }
      ]
    },
    {
      "cell_type": "code",
      "source": [
        "!less /content/mlruns/0/b5f8ad22854f4b568521073bda44aa34/params/hidden_layer_sizes"
      ],
      "metadata": {
        "colab": {
          "base_uri": "https://localhost:8080/"
        },
        "id": "qXQPU2ikniGC",
        "outputId": "63d20db8-c75d-4261-84ff-02f06886c93e"
      },
      "execution_count": 45,
      "outputs": [
        {
          "output_type": "stream",
          "name": "stdout",
          "text": [
            "(100,)\n",
            "\u001b[K\u001b[?1l\u001b>\u001b[2J\u001b[?47l\u001b8"
          ]
        }
      ]
    },
    {
      "cell_type": "code",
      "source": [
        "!less /content/mlruns/0/b5f8ad22854f4b568521073bda44aa34/params/solver"
      ],
      "metadata": {
        "colab": {
          "base_uri": "https://localhost:8080/"
        },
        "id": "uCj8-429nibL",
        "outputId": "98c85a13-d14c-455e-c564-16e5904ca258"
      },
      "execution_count": 46,
      "outputs": [
        {
          "output_type": "stream",
          "name": "stdout",
          "text": [
            "adam\n",
            "\u001b[K\u001b[?1l\u001b>\u001b[2J\u001b[?47l\u001b8"
          ]
        }
      ]
    },
    {
      "cell_type": "code",
      "source": [
        "!less /content/mlruns/0/b5f8ad22854f4b568521073bda44aa34/metrics/auroc"
      ],
      "metadata": {
        "colab": {
          "base_uri": "https://localhost:8080/"
        },
        "id": "l-mSe7CekBpZ",
        "outputId": "df9d8c1d-fe2d-4996-949b-075e5570499b"
      },
      "execution_count": 47,
      "outputs": [
        {
          "output_type": "stream",
          "name": "stdout",
          "text": [
            "1662078783968 0.7446037229928325 0\n",
            "\u001b[K\u001b[?1l\u001b>\u001b[2J\u001b[?47l\u001b8"
          ]
        }
      ]
    },
    {
      "cell_type": "code",
      "source": [
        "!less /content/mlruns/0/b5f8ad22854f4b568521073bda44aa34/metrics/f1"
      ],
      "metadata": {
        "colab": {
          "base_uri": "https://localhost:8080/"
        },
        "id": "7iYKxU6TnWdp",
        "outputId": "553dc2af-52c0-4867-bb18-36dc6ba543b4"
      },
      "execution_count": 48,
      "outputs": [
        {
          "output_type": "stream",
          "name": "stdout",
          "text": [
            "1662078783970 0.754230082735617 0\n",
            "\u001b[K\u001b[?1l\u001b>\u001b[2J\u001b[?47l\u001b8"
          ]
        }
      ]
    },
    {
      "cell_type": "code",
      "source": [
        "!less /content/mlruns/0/b5f8ad22854f4b568521073bda44aa34/metrics/accuracy"
      ],
      "metadata": {
        "colab": {
          "base_uri": "https://localhost:8080/"
        },
        "id": "63QFVWAFnqRj",
        "outputId": "9816d4d1-189f-4765-db5e-9bbd27bf0c5d"
      },
      "execution_count": 49,
      "outputs": [
        {
          "output_type": "stream",
          "name": "stdout",
          "text": [
            "1662078783967 0.8201563857515204 0\n",
            "\u001b[K\u001b[?1l\u001b>\u001b[2J\u001b[?47l\u001b8"
          ]
        }
      ]
    },
    {
      "cell_type": "markdown",
      "source": [
        "#### Tentativa 2\n",
        "\n",
        "\n",
        "```\n",
        "hidden_layers = (10,10)\n",
        "```\n",
        "\n"
      ],
      "metadata": {
        "id": "BQvdNFw8QY_e"
      }
    },
    {
      "cell_type": "code",
      "source": [
        "hidden_layer_sizes=(10, 10)\n",
        "activation='relu'\n",
        "solver='adam'"
      ],
      "metadata": {
        "id": "S_H_k2RHn0OT"
      },
      "execution_count": 50,
      "outputs": []
    },
    {
      "cell_type": "code",
      "source": [
        "with mlflow.start_run():\n",
        "  mlp = MLPClassifier(random_state=RANDOM_STATE, max_iter=EPOCHS, hidden_layer_sizes=hidden_layer_sizes, activation=activation, solver=solver)\n",
        "  mlp.fit(X_train, y_train)\n",
        "\n",
        "  y_pred = mlp.predict(X_val)\n",
        "  y_proba = mlp.predict_proba(X_val)\n",
        "\n",
        "  (acc, auroc, f1) = eval_metrics(y_val, y_pred, y_proba)\n",
        "\n",
        "  mlflow.log_param(\"hidden_layer_sizes\", hidden_layer_sizes)\n",
        "  mlflow.log_param(\"activation\", activation)\n",
        "  mlflow.log_param(\"solver\", solver)\n",
        "  mlflow.log_metric(\"accuracy\", acc)\n",
        "  mlflow.log_metric(\"auroc\", auroc)\n",
        "  mlflow.log_metric(\"f1\", f1)\n",
        "\n",
        "  tracking_url_type_store = urlparse(mlflow.get_tracking_uri()).scheme\n",
        "\n",
        "  # Model registry does not work with file store\n",
        "  if tracking_url_type_store != \"file\":\n",
        "    # Register the model\n",
        "    # There are other ways to use the Model Registry, which depends on the use case,\n",
        "    # please refer to the doc for more information:\n",
        "    # https://mlflow.org/docs/latest/model-registry.html#api-workflow\n",
        "    mlflow.sklearn.log_model(mlp, \"model\", registered_model_name=\"MLP_NBA_Undrafted\")\n",
        "  else:\n",
        "    mlflow.sklearn.log_model(mlp, \"model\")"
      ],
      "metadata": {
        "id": "EfshK61In0OT"
      },
      "execution_count": 51,
      "outputs": []
    },
    {
      "cell_type": "code",
      "source": [
        "!cat /content/mlruns/0/dac45b74013a437bae0dfae8d95fe6f1/params/activation"
      ],
      "metadata": {
        "outputId": "7878900a-9083-4b57-815e-33fc59872178",
        "colab": {
          "base_uri": "https://localhost:8080/"
        },
        "id": "hka0WiD6n0OT"
      },
      "execution_count": 52,
      "outputs": [
        {
          "output_type": "stream",
          "name": "stdout",
          "text": [
            "relu"
          ]
        }
      ]
    },
    {
      "cell_type": "code",
      "source": [
        "!cat /content/mlruns/0/dac45b74013a437bae0dfae8d95fe6f1/params/hidden_layer_sizes"
      ],
      "metadata": {
        "outputId": "4e2fddb2-7838-454b-d360-ce05d2cd11f4",
        "colab": {
          "base_uri": "https://localhost:8080/"
        },
        "id": "5h1m_TkTn0OT"
      },
      "execution_count": 53,
      "outputs": [
        {
          "output_type": "stream",
          "name": "stdout",
          "text": [
            "(10, 10)"
          ]
        }
      ]
    },
    {
      "cell_type": "code",
      "source": [
        "!cat /content/mlruns/0/dac45b74013a437bae0dfae8d95fe6f1/params/solver"
      ],
      "metadata": {
        "outputId": "dffc2faa-150d-499d-ef18-5c3d4b1441d9",
        "colab": {
          "base_uri": "https://localhost:8080/"
        },
        "id": "eGelSMBjn0OU"
      },
      "execution_count": 54,
      "outputs": [
        {
          "output_type": "stream",
          "name": "stdout",
          "text": [
            "adam"
          ]
        }
      ]
    },
    {
      "cell_type": "code",
      "source": [
        "!cat /content/mlruns/0/dac45b74013a437bae0dfae8d95fe6f1/metrics/auroc"
      ],
      "metadata": {
        "outputId": "6b4f2503-d616-4943-df53-20991ffe8681",
        "colab": {
          "base_uri": "https://localhost:8080/"
        },
        "id": "HNg4KYRkn0OU"
      },
      "execution_count": 55,
      "outputs": [
        {
          "output_type": "stream",
          "name": "stdout",
          "text": [
            "1662078957608 0.7428969215696385 0\n"
          ]
        }
      ]
    },
    {
      "cell_type": "code",
      "source": [
        "!cat /content/mlruns/0/dac45b74013a437bae0dfae8d95fe6f1/metrics/f1"
      ],
      "metadata": {
        "outputId": "0dd9b2ea-3693-490a-d16f-bc82c970d380",
        "colab": {
          "base_uri": "https://localhost:8080/"
        },
        "id": "Ipa0Rrsxn0OU"
      },
      "execution_count": 56,
      "outputs": [
        {
          "output_type": "stream",
          "name": "stdout",
          "text": [
            "1662078957610 0.7431908403435481 0\n"
          ]
        }
      ]
    },
    {
      "cell_type": "code",
      "source": [
        "!cat /content/mlruns/0/dac45b74013a437bae0dfae8d95fe6f1/metrics/accuracy"
      ],
      "metadata": {
        "outputId": "bfac4da4-9b50-4545-e663-6abb085236ae",
        "colab": {
          "base_uri": "https://localhost:8080/"
        },
        "id": "U4MzZuGBn0OU"
      },
      "execution_count": 57,
      "outputs": [
        {
          "output_type": "stream",
          "name": "stdout",
          "text": [
            "1662078957607 0.8218940052128584 0\n"
          ]
        }
      ]
    },
    {
      "cell_type": "markdown",
      "source": [
        "#### Tentativa 3\n",
        "\n",
        "```\n",
        "hidden_layers = (10,10)\n",
        "activation = 'logistic'\n",
        "solver = 'sgd'\n",
        "```\n",
        "\n",
        "\n"
      ],
      "metadata": {
        "id": "nv5LpMtnOuQX"
      }
    },
    {
      "cell_type": "code",
      "source": [
        "hidden_layer_sizes=(10, 10)\n",
        "activation='logistic'\n",
        "solver='sgd'"
      ],
      "metadata": {
        "id": "PBaD_uG4oNWw"
      },
      "execution_count": 58,
      "outputs": []
    },
    {
      "cell_type": "code",
      "source": [
        "with mlflow.start_run():\n",
        "  mlp = MLPClassifier(random_state=RANDOM_STATE, max_iter=EPOCHS, hidden_layer_sizes=hidden_layer_sizes, activation=activation, solver=solver)\n",
        "  mlp.fit(X_train, y_train)\n",
        "\n",
        "  y_pred = mlp.predict(X_val)\n",
        "  y_proba = mlp.predict_proba(X_val)\n",
        "\n",
        "  (acc, auroc, f1) = eval_metrics(y_val, y_pred, y_proba)\n",
        "\n",
        "  mlflow.log_param(\"hidden_layer_sizes\", hidden_layer_sizes)\n",
        "  mlflow.log_param(\"activation\", activation)\n",
        "  mlflow.log_param(\"solver\", solver)\n",
        "  mlflow.log_metric(\"accuracy\", acc)\n",
        "  mlflow.log_metric(\"auroc\", auroc)\n",
        "  mlflow.log_metric(\"f1\", f1)\n",
        "\n",
        "  tracking_url_type_store = urlparse(mlflow.get_tracking_uri()).scheme\n",
        "\n",
        "  # Model registry does not work with file store\n",
        "  if tracking_url_type_store != \"file\":\n",
        "    # Register the model\n",
        "    # There are other ways to use the Model Registry, which depends on the use case,\n",
        "    # please refer to the doc for more information:\n",
        "    # https://mlflow.org/docs/latest/model-registry.html#api-workflow\n",
        "    mlflow.sklearn.log_model(mlp, \"model\", registered_model_name=\"MLP_NBA_Undrafted\")\n",
        "  else:\n",
        "    mlflow.sklearn.log_model(mlp, \"model\")"
      ],
      "metadata": {
        "id": "Zlh1buKHoNWw"
      },
      "execution_count": 59,
      "outputs": []
    },
    {
      "cell_type": "code",
      "source": [
        "!cat /content/mlruns/0/c3f5c69195704f6f80d3a0b0c326c97d/params/activation"
      ],
      "metadata": {
        "outputId": "a8c42e11-60e3-497d-868d-dbdb489a54df",
        "colab": {
          "base_uri": "https://localhost:8080/"
        },
        "id": "4k0ok9zboNWw"
      },
      "execution_count": 60,
      "outputs": [
        {
          "output_type": "stream",
          "name": "stdout",
          "text": [
            "logistic"
          ]
        }
      ]
    },
    {
      "cell_type": "code",
      "source": [
        "!cat /content/mlruns/0/c3f5c69195704f6f80d3a0b0c326c97d/params/hidden_layer_sizes"
      ],
      "metadata": {
        "outputId": "42ed2eda-23ab-4d12-a93b-ebf79025ddbb",
        "colab": {
          "base_uri": "https://localhost:8080/"
        },
        "id": "_FwhJbWcoNWx"
      },
      "execution_count": 61,
      "outputs": [
        {
          "output_type": "stream",
          "name": "stdout",
          "text": [
            "(10, 10)"
          ]
        }
      ]
    },
    {
      "cell_type": "code",
      "source": [
        "!cat /content/mlruns/0/c3f5c69195704f6f80d3a0b0c326c97d/params/solver"
      ],
      "metadata": {
        "outputId": "3e7f7d99-86c9-42bc-f015-cdaed7c96bcd",
        "colab": {
          "base_uri": "https://localhost:8080/"
        },
        "id": "cVIbY7M1oNWx"
      },
      "execution_count": 62,
      "outputs": [
        {
          "output_type": "stream",
          "name": "stdout",
          "text": [
            "sgd"
          ]
        }
      ]
    },
    {
      "cell_type": "code",
      "source": [
        "!cat /content/mlruns/0/c3f5c69195704f6f80d3a0b0c326c97d/metrics/auroc"
      ],
      "metadata": {
        "outputId": "68d3678c-93d0-4a0a-8c7d-5c8ff2ba31f0",
        "colab": {
          "base_uri": "https://localhost:8080/"
        },
        "id": "YGeI5r7uoNWx"
      },
      "execution_count": 63,
      "outputs": [
        {
          "output_type": "stream",
          "name": "stdout",
          "text": [
            "1662079054027 0.48951683597174234 0\n"
          ]
        }
      ]
    },
    {
      "cell_type": "code",
      "source": [
        "!cat /content/mlruns/0/c3f5c69195704f6f80d3a0b0c326c97d/metrics/f1"
      ],
      "metadata": {
        "outputId": "d3a35c97-b9e5-4f9e-ae08-b404f9f8292a",
        "colab": {
          "base_uri": "https://localhost:8080/"
        },
        "id": "SRs9b1jaoNWx"
      },
      "execution_count": 64,
      "outputs": [
        {
          "output_type": "stream",
          "name": "stdout",
          "text": [
            "1662079054028 0.7415467133346342 0\n"
          ]
        }
      ]
    },
    {
      "cell_type": "code",
      "source": [
        "!cat /content/mlruns/0/c3f5c69195704f6f80d3a0b0c326c97d/metrics/accuracy"
      ],
      "metadata": {
        "outputId": "4ed06a7d-53cc-400c-80e7-ac0353e3aeaa",
        "colab": {
          "base_uri": "https://localhost:8080/"
        },
        "id": "aN-cJ3Z_oNWy"
      },
      "execution_count": 65,
      "outputs": [
        {
          "output_type": "stream",
          "name": "stdout",
          "text": [
            "1662079054025 0.8218940052128584 0\n"
          ]
        }
      ]
    }
  ]
}