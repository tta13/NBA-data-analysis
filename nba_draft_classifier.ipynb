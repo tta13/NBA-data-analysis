{
  "nbformat": 4,
  "nbformat_minor": 0,
  "metadata": {
    "colab": {
      "provenance": [],
      "collapsed_sections": [],
      "authorship_tag": "ABX9TyOgeyKjMzHcd+G8tNnbO7ox"
    },
    "kernelspec": {
      "name": "python3",
      "display_name": "Python 3"
    },
    "language_info": {
      "name": "python"
    }
  },
  "cells": [
    {
      "cell_type": "markdown",
      "source": [
        "# Classificador de draft da NBA\n",
        "O objetivo do modelo é, a partir dos dados das temporadas 1996-97 a 2021-22, classificar corretamente se o jogador é *undrafted*, ou seja, não foi draftado.\n",
        "\n",
        "Passo a passo:\n",
        "* Escolha do problema ✔\n",
        "* Separação dos dados em treino, validação e teste ✔\n",
        "* Selecionar algoritmos para resolver o problema ✔\n",
        "* Adicionar MLFlow no treinamento dos modelos ✔\n",
        "* Executar uma ferramenta de seleção de hiper-parâmetros\n",
        "* Realizar diagnóstico do melhor modelo e melhorá-lo a partir disso"
      ],
      "metadata": {
        "id": "PJfJvnM4GaO_"
      }
    },
    {
      "cell_type": "markdown",
      "source": [
        "## Dependências"
      ],
      "metadata": {
        "id": "e7eqhDsqGwzI"
      }
    },
    {
      "cell_type": "code",
      "source": [
        "!pip install mlflow"
      ],
      "metadata": {
        "id": "5R6drsFKg1se"
      },
      "execution_count": null,
      "outputs": []
    },
    {
      "cell_type": "code",
      "source": [
        "import pandas as pd\n",
        "from sklearn.model_selection import train_test_split\n",
        "from sklearn.neural_network import MLPClassifier\n",
        "from sklearn.metrics import f1_score, roc_auc_score, accuracy_score\n",
        "from sklearn.linear_model import LogisticRegression\n",
        "from sklearn.ensemble import RandomForestClassifier\n",
        "from xgboost import XGBClassifier\n",
        "import mlflow\n",
        "import mlflow.sklearn\n",
        "from urllib.parse import urlparse"
      ],
      "metadata": {
        "id": "THYbQrQqHEe_"
      },
      "execution_count": 2,
      "outputs": []
    },
    {
      "cell_type": "code",
      "execution_count": 3,
      "metadata": {
        "colab": {
          "base_uri": "https://localhost:8080/"
        },
        "id": "mbZf1HDwGWwK",
        "outputId": "1159440d-59c3-439c-ee42-749bb426e702"
      },
      "outputs": [
        {
          "output_type": "stream",
          "name": "stdout",
          "text": [
            "Mounted at /content/drive\n"
          ]
        }
      ],
      "source": [
        "from google.colab import drive\n",
        "drive.mount('/content/drive')"
      ]
    },
    {
      "cell_type": "markdown",
      "source": [
        "## Carregando o dataset"
      ],
      "metadata": {
        "id": "gm2qLjq5B5KS"
      }
    },
    {
      "cell_type": "code",
      "source": [
        "# Path Tales\n",
        "path = '/content/drive/MyDrive/2022.1/TA GDI/projeto1/data/classification.csv'"
      ],
      "metadata": {
        "id": "Ia1wXqZUG99m"
      },
      "execution_count": 6,
      "outputs": []
    },
    {
      "cell_type": "code",
      "source": [
        "dataset = pd.read_csv(path)"
      ],
      "metadata": {
        "id": "gLJi0q33G6Vu"
      },
      "execution_count": 7,
      "outputs": []
    },
    {
      "cell_type": "code",
      "source": [
        "dataset.head()"
      ],
      "metadata": {
        "colab": {
          "base_uri": "https://localhost:8080/",
          "height": 300
        },
        "id": "Leeat6W5H1dc",
        "outputId": "29512f5d-84cc-411c-cb65-13ea4e2b4c8c"
      },
      "execution_count": 8,
      "outputs": [
        {
          "output_type": "execute_result",
          "data": {
            "text/plain": [
              "   player_name  team_abbreviation       age  player_height  player_weight  \\\n",
              "0         2071                 16  0.153846       0.750000       0.485714   \n",
              "1         1475                 13  0.461538       0.678571       0.485714   \n",
              "2         1466                  2  0.423077       0.714286       0.533333   \n",
              "3         1465                  9  0.153846       0.642857       0.485714   \n",
              "4         1464                 35  0.153846       0.535714       0.438095   \n",
              "\n",
              "   college  country  draft_year  draft_round  draft_number  ...  oreb_pct  \\\n",
              "0       65       72    0.568966        0.125      0.175758  ...     0.127   \n",
              "1      117       72         NaN          NaN           NaN  ...     0.016   \n",
              "2      227       72         NaN          NaN           NaN  ...     0.083   \n",
              "3      189       72    0.568966        0.125      0.151515  ...     0.109   \n",
              "4      249       72    0.551724        0.250      0.303030  ...     0.087   \n",
              "\n",
              "   dreb_pct  usg_pct  ts_pct  ast_pct  season  undrafted  season_start_year  \\\n",
              "0     0.182    0.142   0.536    0.052       0        0.0                0.0   \n",
              "1     0.115    0.151   0.535    0.099       0        1.0                0.0   \n",
              "2     0.152    0.167   0.542    0.101       0        1.0                0.0   \n",
              "3     0.118    0.233   0.482    0.114       0        0.0                0.0   \n",
              "4     0.045    0.135   0.470    0.125       0        0.0                0.0   \n",
              "\n",
              "   season_end_year    gp_pct  \n",
              "0              0.0  0.865854  \n",
              "1              0.0  0.865854  \n",
              "2              0.0  0.902439  \n",
              "3              0.0  0.512195  \n",
              "4              0.0  0.109756  \n",
              "\n",
              "[5 rows x 25 columns]"
            ],
            "text/html": [
              "\n",
              "  <div id=\"df-bc63b79a-c240-4fd8-90b8-b2032c5c12c0\">\n",
              "    <div class=\"colab-df-container\">\n",
              "      <div>\n",
              "<style scoped>\n",
              "    .dataframe tbody tr th:only-of-type {\n",
              "        vertical-align: middle;\n",
              "    }\n",
              "\n",
              "    .dataframe tbody tr th {\n",
              "        vertical-align: top;\n",
              "    }\n",
              "\n",
              "    .dataframe thead th {\n",
              "        text-align: right;\n",
              "    }\n",
              "</style>\n",
              "<table border=\"1\" class=\"dataframe\">\n",
              "  <thead>\n",
              "    <tr style=\"text-align: right;\">\n",
              "      <th></th>\n",
              "      <th>player_name</th>\n",
              "      <th>team_abbreviation</th>\n",
              "      <th>age</th>\n",
              "      <th>player_height</th>\n",
              "      <th>player_weight</th>\n",
              "      <th>college</th>\n",
              "      <th>country</th>\n",
              "      <th>draft_year</th>\n",
              "      <th>draft_round</th>\n",
              "      <th>draft_number</th>\n",
              "      <th>...</th>\n",
              "      <th>oreb_pct</th>\n",
              "      <th>dreb_pct</th>\n",
              "      <th>usg_pct</th>\n",
              "      <th>ts_pct</th>\n",
              "      <th>ast_pct</th>\n",
              "      <th>season</th>\n",
              "      <th>undrafted</th>\n",
              "      <th>season_start_year</th>\n",
              "      <th>season_end_year</th>\n",
              "      <th>gp_pct</th>\n",
              "    </tr>\n",
              "  </thead>\n",
              "  <tbody>\n",
              "    <tr>\n",
              "      <th>0</th>\n",
              "      <td>2071</td>\n",
              "      <td>16</td>\n",
              "      <td>0.153846</td>\n",
              "      <td>0.750000</td>\n",
              "      <td>0.485714</td>\n",
              "      <td>65</td>\n",
              "      <td>72</td>\n",
              "      <td>0.568966</td>\n",
              "      <td>0.125</td>\n",
              "      <td>0.175758</td>\n",
              "      <td>...</td>\n",
              "      <td>0.127</td>\n",
              "      <td>0.182</td>\n",
              "      <td>0.142</td>\n",
              "      <td>0.536</td>\n",
              "      <td>0.052</td>\n",
              "      <td>0</td>\n",
              "      <td>0.0</td>\n",
              "      <td>0.0</td>\n",
              "      <td>0.0</td>\n",
              "      <td>0.865854</td>\n",
              "    </tr>\n",
              "    <tr>\n",
              "      <th>1</th>\n",
              "      <td>1475</td>\n",
              "      <td>13</td>\n",
              "      <td>0.461538</td>\n",
              "      <td>0.678571</td>\n",
              "      <td>0.485714</td>\n",
              "      <td>117</td>\n",
              "      <td>72</td>\n",
              "      <td>NaN</td>\n",
              "      <td>NaN</td>\n",
              "      <td>NaN</td>\n",
              "      <td>...</td>\n",
              "      <td>0.016</td>\n",
              "      <td>0.115</td>\n",
              "      <td>0.151</td>\n",
              "      <td>0.535</td>\n",
              "      <td>0.099</td>\n",
              "      <td>0</td>\n",
              "      <td>1.0</td>\n",
              "      <td>0.0</td>\n",
              "      <td>0.0</td>\n",
              "      <td>0.865854</td>\n",
              "    </tr>\n",
              "    <tr>\n",
              "      <th>2</th>\n",
              "      <td>1466</td>\n",
              "      <td>2</td>\n",
              "      <td>0.423077</td>\n",
              "      <td>0.714286</td>\n",
              "      <td>0.533333</td>\n",
              "      <td>227</td>\n",
              "      <td>72</td>\n",
              "      <td>NaN</td>\n",
              "      <td>NaN</td>\n",
              "      <td>NaN</td>\n",
              "      <td>...</td>\n",
              "      <td>0.083</td>\n",
              "      <td>0.152</td>\n",
              "      <td>0.167</td>\n",
              "      <td>0.542</td>\n",
              "      <td>0.101</td>\n",
              "      <td>0</td>\n",
              "      <td>1.0</td>\n",
              "      <td>0.0</td>\n",
              "      <td>0.0</td>\n",
              "      <td>0.902439</td>\n",
              "    </tr>\n",
              "    <tr>\n",
              "      <th>3</th>\n",
              "      <td>1465</td>\n",
              "      <td>9</td>\n",
              "      <td>0.153846</td>\n",
              "      <td>0.642857</td>\n",
              "      <td>0.485714</td>\n",
              "      <td>189</td>\n",
              "      <td>72</td>\n",
              "      <td>0.568966</td>\n",
              "      <td>0.125</td>\n",
              "      <td>0.151515</td>\n",
              "      <td>...</td>\n",
              "      <td>0.109</td>\n",
              "      <td>0.118</td>\n",
              "      <td>0.233</td>\n",
              "      <td>0.482</td>\n",
              "      <td>0.114</td>\n",
              "      <td>0</td>\n",
              "      <td>0.0</td>\n",
              "      <td>0.0</td>\n",
              "      <td>0.0</td>\n",
              "      <td>0.512195</td>\n",
              "    </tr>\n",
              "    <tr>\n",
              "      <th>4</th>\n",
              "      <td>1464</td>\n",
              "      <td>35</td>\n",
              "      <td>0.153846</td>\n",
              "      <td>0.535714</td>\n",
              "      <td>0.438095</td>\n",
              "      <td>249</td>\n",
              "      <td>72</td>\n",
              "      <td>0.551724</td>\n",
              "      <td>0.250</td>\n",
              "      <td>0.303030</td>\n",
              "      <td>...</td>\n",
              "      <td>0.087</td>\n",
              "      <td>0.045</td>\n",
              "      <td>0.135</td>\n",
              "      <td>0.470</td>\n",
              "      <td>0.125</td>\n",
              "      <td>0</td>\n",
              "      <td>0.0</td>\n",
              "      <td>0.0</td>\n",
              "      <td>0.0</td>\n",
              "      <td>0.109756</td>\n",
              "    </tr>\n",
              "  </tbody>\n",
              "</table>\n",
              "<p>5 rows × 25 columns</p>\n",
              "</div>\n",
              "      <button class=\"colab-df-convert\" onclick=\"convertToInteractive('df-bc63b79a-c240-4fd8-90b8-b2032c5c12c0')\"\n",
              "              title=\"Convert this dataframe to an interactive table.\"\n",
              "              style=\"display:none;\">\n",
              "        \n",
              "  <svg xmlns=\"http://www.w3.org/2000/svg\" height=\"24px\"viewBox=\"0 0 24 24\"\n",
              "       width=\"24px\">\n",
              "    <path d=\"M0 0h24v24H0V0z\" fill=\"none\"/>\n",
              "    <path d=\"M18.56 5.44l.94 2.06.94-2.06 2.06-.94-2.06-.94-.94-2.06-.94 2.06-2.06.94zm-11 1L8.5 8.5l.94-2.06 2.06-.94-2.06-.94L8.5 2.5l-.94 2.06-2.06.94zm10 10l.94 2.06.94-2.06 2.06-.94-2.06-.94-.94-2.06-.94 2.06-2.06.94z\"/><path d=\"M17.41 7.96l-1.37-1.37c-.4-.4-.92-.59-1.43-.59-.52 0-1.04.2-1.43.59L10.3 9.45l-7.72 7.72c-.78.78-.78 2.05 0 2.83L4 21.41c.39.39.9.59 1.41.59.51 0 1.02-.2 1.41-.59l7.78-7.78 2.81-2.81c.8-.78.8-2.07 0-2.86zM5.41 20L4 18.59l7.72-7.72 1.47 1.35L5.41 20z\"/>\n",
              "  </svg>\n",
              "      </button>\n",
              "      \n",
              "  <style>\n",
              "    .colab-df-container {\n",
              "      display:flex;\n",
              "      flex-wrap:wrap;\n",
              "      gap: 12px;\n",
              "    }\n",
              "\n",
              "    .colab-df-convert {\n",
              "      background-color: #E8F0FE;\n",
              "      border: none;\n",
              "      border-radius: 50%;\n",
              "      cursor: pointer;\n",
              "      display: none;\n",
              "      fill: #1967D2;\n",
              "      height: 32px;\n",
              "      padding: 0 0 0 0;\n",
              "      width: 32px;\n",
              "    }\n",
              "\n",
              "    .colab-df-convert:hover {\n",
              "      background-color: #E2EBFA;\n",
              "      box-shadow: 0px 1px 2px rgba(60, 64, 67, 0.3), 0px 1px 3px 1px rgba(60, 64, 67, 0.15);\n",
              "      fill: #174EA6;\n",
              "    }\n",
              "\n",
              "    [theme=dark] .colab-df-convert {\n",
              "      background-color: #3B4455;\n",
              "      fill: #D2E3FC;\n",
              "    }\n",
              "\n",
              "    [theme=dark] .colab-df-convert:hover {\n",
              "      background-color: #434B5C;\n",
              "      box-shadow: 0px 1px 3px 1px rgba(0, 0, 0, 0.15);\n",
              "      filter: drop-shadow(0px 1px 2px rgba(0, 0, 0, 0.3));\n",
              "      fill: #FFFFFF;\n",
              "    }\n",
              "  </style>\n",
              "\n",
              "      <script>\n",
              "        const buttonEl =\n",
              "          document.querySelector('#df-bc63b79a-c240-4fd8-90b8-b2032c5c12c0 button.colab-df-convert');\n",
              "        buttonEl.style.display =\n",
              "          google.colab.kernel.accessAllowed ? 'block' : 'none';\n",
              "\n",
              "        async function convertToInteractive(key) {\n",
              "          const element = document.querySelector('#df-bc63b79a-c240-4fd8-90b8-b2032c5c12c0');\n",
              "          const dataTable =\n",
              "            await google.colab.kernel.invokeFunction('convertToInteractive',\n",
              "                                                     [key], {});\n",
              "          if (!dataTable) return;\n",
              "\n",
              "          const docLinkHtml = 'Like what you see? Visit the ' +\n",
              "            '<a target=\"_blank\" href=https://colab.research.google.com/notebooks/data_table.ipynb>data table notebook</a>'\n",
              "            + ' to learn more about interactive tables.';\n",
              "          element.innerHTML = '';\n",
              "          dataTable['output_type'] = 'display_data';\n",
              "          await google.colab.output.renderOutput(dataTable, element);\n",
              "          const docLink = document.createElement('div');\n",
              "          docLink.innerHTML = docLinkHtml;\n",
              "          element.appendChild(docLink);\n",
              "        }\n",
              "      </script>\n",
              "    </div>\n",
              "  </div>\n",
              "  "
            ]
          },
          "metadata": {},
          "execution_count": 8
        }
      ]
    },
    {
      "cell_type": "code",
      "source": [
        "dataset.groupby(['undrafted'])['player_name'].count()"
      ],
      "metadata": {
        "colab": {
          "base_uri": "https://localhost:8080/"
        },
        "id": "Vio_Z_hNL6bz",
        "outputId": "0024458b-ae98-4704-dd99-1f63cf3c4256"
      },
      "execution_count": 9,
      "outputs": [
        {
          "output_type": "execute_result",
          "data": {
            "text/plain": [
              "undrafted\n",
              "0.0    9629\n",
              "1.0    1875\n",
              "Name: player_name, dtype: int64"
            ]
          },
          "metadata": {},
          "execution_count": 9
        }
      ]
    },
    {
      "cell_type": "markdown",
      "source": [
        "Como podemos observar, nosso dataset é desbalanceado com relação a categoria 'undrafted'."
      ],
      "metadata": {
        "id": "0-0IFSlaCCEk"
      }
    },
    {
      "cell_type": "markdown",
      "source": [
        "## Separação dos conjuntos de treino, validação e teste"
      ],
      "metadata": {
        "id": "ExKQUnZPH38z"
      }
    },
    {
      "cell_type": "code",
      "source": [
        "RANDOM_STATE = 42"
      ],
      "metadata": {
        "id": "ta4Ksm2PKsb8"
      },
      "execution_count": 10,
      "outputs": []
    },
    {
      "cell_type": "code",
      "source": [
        "dataset.columns"
      ],
      "metadata": {
        "colab": {
          "base_uri": "https://localhost:8080/"
        },
        "id": "xVZ_6CLBH7Is",
        "outputId": "05e16b37-8f8c-4be9-b541-819e03e7910b"
      },
      "execution_count": 11,
      "outputs": [
        {
          "output_type": "execute_result",
          "data": {
            "text/plain": [
              "Index(['player_name', 'team_abbreviation', 'age', 'player_height',\n",
              "       'player_weight', 'college', 'country', 'draft_year', 'draft_round',\n",
              "       'draft_number', 'gp', 'pts', 'reb', 'ast', 'net_rating', 'oreb_pct',\n",
              "       'dreb_pct', 'usg_pct', 'ts_pct', 'ast_pct', 'season', 'undrafted',\n",
              "       'season_start_year', 'season_end_year', 'gp_pct'],\n",
              "      dtype='object')"
            ]
          },
          "metadata": {},
          "execution_count": 11
        }
      ]
    },
    {
      "cell_type": "markdown",
      "source": [
        "Escolhemos as colunas de altura, peso, faculdade, país, jogos realizados e métricas de desempenho (pts, reb, ast...) para compor o conjunto de features e a coluna 'undrafted' é nossa label"
      ],
      "metadata": {
        "id": "xKozGNDBJHiX"
      }
    },
    {
      "cell_type": "code",
      "source": [
        "X = dataset[['player_height', 'player_weight', 'college', 'country', \n",
        "             'gp', 'pts', 'reb', 'ast', 'net_rating', 'oreb_pct',\n",
        "             'dreb_pct', 'usg_pct', 'ts_pct', 'ast_pct']]\n",
        "y = dataset['undrafted']\n",
        "X.shape, y.shape"
      ],
      "metadata": {
        "colab": {
          "base_uri": "https://localhost:8080/"
        },
        "id": "zupxjVukJFcS",
        "outputId": "efc601c3-63f4-40bc-f344-98b709786c2d"
      },
      "execution_count": 12,
      "outputs": [
        {
          "output_type": "execute_result",
          "data": {
            "text/plain": [
              "((11504, 14), (11504,))"
            ]
          },
          "metadata": {},
          "execution_count": 12
        }
      ]
    },
    {
      "cell_type": "markdown",
      "source": [
        "Designamos 70% dos dados para treino, 20% para teste e 10% para validação"
      ],
      "metadata": {
        "id": "GhYvbWJ7KA4X"
      }
    },
    {
      "cell_type": "code",
      "source": [
        "X_train, X_test, y_train, y_test = train_test_split(X, y, test_size=0.2, random_state=RANDOM_STATE)\n",
        "X_train, X_val, y_train, y_val = train_test_split(X_train, y_train, test_size=0.125, random_state=RANDOM_STATE)\n",
        "\n",
        "X_train.shape, X_val.shape, X_test.shape"
      ],
      "metadata": {
        "colab": {
          "base_uri": "https://localhost:8080/"
        },
        "id": "xjsVXc5vJFKX",
        "outputId": "b706f090-4f8c-4cab-ae5d-09a59f0946d8"
      },
      "execution_count": 13,
      "outputs": [
        {
          "output_type": "execute_result",
          "data": {
            "text/plain": [
              "((8052, 14), (1151, 14), (2301, 14))"
            ]
          },
          "metadata": {},
          "execution_count": 13
        }
      ]
    },
    {
      "cell_type": "markdown",
      "source": [
        "## Seleção de algoritmos\n",
        "Selecionamos os seguintes para resolução do problema de classificação:\n",
        "* MLP\n",
        "* RandomForest\n",
        "* XGBoost\n",
        "* LogisticRegression\n",
        "\n",
        "Ademais, como notamos que o dataset é bem desbalanceado, utilizaremos o f1 score como métrica principal na validação, além de AUROC e accuracy."
      ],
      "metadata": {
        "id": "XTb7ZLb2K761"
      }
    },
    {
      "cell_type": "code",
      "source": [
        "def eval_metrics(y_true, y_pred, y_proba):\n",
        "  f1 = f1_score(y_true, y_pred, average='weighted')\n",
        "  acc = accuracy_score(y_true, y_pred)\n",
        "  auroc = roc_auc_score(y_true, y_proba[:, 1])\n",
        "  return acc, auroc, f1"
      ],
      "metadata": {
        "id": "mH4FTfYZh5zQ"
      },
      "execution_count": 14,
      "outputs": []
    },
    {
      "cell_type": "markdown",
      "source": [
        "### MLPs\n",
        "No algoritmo MLP, vamos variar os parâmetros `hidden_layer_sizes` (número de neurônios nas camadas escondidas), `activation` (função de ativação dos neurônios) e `solver` que otimiza a atualização dos pesos."
      ],
      "metadata": {
        "id": "pd6l89HGLtro"
      }
    },
    {
      "cell_type": "code",
      "source": [
        "EPOCHS=500"
      ],
      "metadata": {
        "id": "aBhJjqn0NtSi"
      },
      "execution_count": null,
      "outputs": []
    },
    {
      "cell_type": "markdown",
      "source": [
        "#### Tentativa 1"
      ],
      "metadata": {
        "id": "VRKunS7bNqM6"
      }
    },
    {
      "cell_type": "code",
      "source": [
        "hidden_layer_sizes=(100,)\n",
        "activation='relu'\n",
        "solver='adam'"
      ],
      "metadata": {
        "id": "pUjx7YCZiyF1"
      },
      "execution_count": null,
      "outputs": []
    },
    {
      "cell_type": "code",
      "source": [
        "with mlflow.start_run():\n",
        "  mlp = MLPClassifier(random_state=RANDOM_STATE, max_iter=EPOCHS, hidden_layer_sizes=hidden_layer_sizes, activation=activation, solver=solver)\n",
        "  mlp.fit(X_train, y_train)\n",
        "\n",
        "  y_pred = mlp.predict(X_val)\n",
        "  y_proba = mlp.predict_proba(X_val)\n",
        "\n",
        "  (acc, auroc, f1) = eval_metrics(y_val, y_pred, y_proba)\n",
        "\n",
        "  mlflow.log_param(\"hidden_layer_sizes\", hidden_layer_sizes)\n",
        "  mlflow.log_param(\"activation\", activation)\n",
        "  mlflow.log_param(\"solver\", solver)\n",
        "  mlflow.log_metric(\"accuracy\", acc)\n",
        "  mlflow.log_metric(\"auroc\", auroc)\n",
        "  mlflow.log_metric(\"f1\", f1)\n",
        "\n",
        "  tracking_url_type_store = urlparse(mlflow.get_tracking_uri()).scheme\n",
        "\n",
        "  # Model registry does not work with file store\n",
        "  if tracking_url_type_store != \"file\":\n",
        "    # Register the model\n",
        "    # There are other ways to use the Model Registry, which depends on the use case,\n",
        "    # please refer to the doc for more information:\n",
        "    # https://mlflow.org/docs/latest/model-registry.html#api-workflow\n",
        "    mlflow.sklearn.log_model(mlp, \"model\", registered_model_name=\"MLP_NBA_Undrafted\")\n",
        "  else:\n",
        "    mlflow.sklearn.log_model(mlp, \"model\")"
      ],
      "metadata": {
        "id": "AuG_R7QnhrSD"
      },
      "execution_count": null,
      "outputs": []
    },
    {
      "cell_type": "code",
      "source": [
        "!less /content/mlruns/0/b5f8ad22854f4b568521073bda44aa34/params/activation"
      ],
      "metadata": {
        "colab": {
          "base_uri": "https://localhost:8080/"
        },
        "id": "OTpS6u24jkfj",
        "outputId": "d7c0bf27-ffd4-49b5-c4cd-cf4bd3f762e8"
      },
      "execution_count": null,
      "outputs": [
        {
          "output_type": "stream",
          "name": "stdout",
          "text": [
            "relu\n",
            "\u001b[K\u001b[?1l\u001b>\u001b[2J\u001b[?47l\u001b8"
          ]
        }
      ]
    },
    {
      "cell_type": "code",
      "source": [
        "!less /content/mlruns/0/b5f8ad22854f4b568521073bda44aa34/params/hidden_layer_sizes"
      ],
      "metadata": {
        "colab": {
          "base_uri": "https://localhost:8080/"
        },
        "id": "qXQPU2ikniGC",
        "outputId": "63d20db8-c75d-4261-84ff-02f06886c93e"
      },
      "execution_count": null,
      "outputs": [
        {
          "output_type": "stream",
          "name": "stdout",
          "text": [
            "(100,)\n",
            "\u001b[K\u001b[?1l\u001b>\u001b[2J\u001b[?47l\u001b8"
          ]
        }
      ]
    },
    {
      "cell_type": "code",
      "source": [
        "!less /content/mlruns/0/b5f8ad22854f4b568521073bda44aa34/params/solver"
      ],
      "metadata": {
        "colab": {
          "base_uri": "https://localhost:8080/"
        },
        "id": "uCj8-429nibL",
        "outputId": "98c85a13-d14c-455e-c564-16e5904ca258"
      },
      "execution_count": null,
      "outputs": [
        {
          "output_type": "stream",
          "name": "stdout",
          "text": [
            "adam\n",
            "\u001b[K\u001b[?1l\u001b>\u001b[2J\u001b[?47l\u001b8"
          ]
        }
      ]
    },
    {
      "cell_type": "code",
      "source": [
        "!less /content/mlruns/0/b5f8ad22854f4b568521073bda44aa34/metrics/auroc"
      ],
      "metadata": {
        "colab": {
          "base_uri": "https://localhost:8080/"
        },
        "id": "l-mSe7CekBpZ",
        "outputId": "df9d8c1d-fe2d-4996-949b-075e5570499b"
      },
      "execution_count": null,
      "outputs": [
        {
          "output_type": "stream",
          "name": "stdout",
          "text": [
            "1662078783968 0.7446037229928325 0\n",
            "\u001b[K\u001b[?1l\u001b>\u001b[2J\u001b[?47l\u001b8"
          ]
        }
      ]
    },
    {
      "cell_type": "code",
      "source": [
        "!less /content/mlruns/0/b5f8ad22854f4b568521073bda44aa34/metrics/f1"
      ],
      "metadata": {
        "colab": {
          "base_uri": "https://localhost:8080/"
        },
        "id": "7iYKxU6TnWdp",
        "outputId": "553dc2af-52c0-4867-bb18-36dc6ba543b4"
      },
      "execution_count": null,
      "outputs": [
        {
          "output_type": "stream",
          "name": "stdout",
          "text": [
            "1662078783970 0.754230082735617 0\n",
            "\u001b[K\u001b[?1l\u001b>\u001b[2J\u001b[?47l\u001b8"
          ]
        }
      ]
    },
    {
      "cell_type": "code",
      "source": [
        "!less /content/mlruns/0/b5f8ad22854f4b568521073bda44aa34/metrics/accuracy"
      ],
      "metadata": {
        "colab": {
          "base_uri": "https://localhost:8080/"
        },
        "id": "63QFVWAFnqRj",
        "outputId": "9816d4d1-189f-4765-db5e-9bbd27bf0c5d"
      },
      "execution_count": null,
      "outputs": [
        {
          "output_type": "stream",
          "name": "stdout",
          "text": [
            "1662078783967 0.8201563857515204 0\n",
            "\u001b[K\u001b[?1l\u001b>\u001b[2J\u001b[?47l\u001b8"
          ]
        }
      ]
    },
    {
      "cell_type": "markdown",
      "source": [
        "#### Tentativa 2\n",
        "\n",
        "\n",
        "```\n",
        "hidden_layers = (10,10)\n",
        "```\n",
        "\n"
      ],
      "metadata": {
        "id": "BQvdNFw8QY_e"
      }
    },
    {
      "cell_type": "code",
      "source": [
        "hidden_layer_sizes=(10, 10)\n",
        "activation='relu'\n",
        "solver='adam'"
      ],
      "metadata": {
        "id": "S_H_k2RHn0OT"
      },
      "execution_count": null,
      "outputs": []
    },
    {
      "cell_type": "code",
      "source": [
        "with mlflow.start_run():\n",
        "  mlp = MLPClassifier(random_state=RANDOM_STATE, max_iter=EPOCHS, hidden_layer_sizes=hidden_layer_sizes, activation=activation, solver=solver)\n",
        "  mlp.fit(X_train, y_train)\n",
        "\n",
        "  y_pred = mlp.predict(X_val)\n",
        "  y_proba = mlp.predict_proba(X_val)\n",
        "\n",
        "  (acc, auroc, f1) = eval_metrics(y_val, y_pred, y_proba)\n",
        "\n",
        "  mlflow.log_param(\"hidden_layer_sizes\", hidden_layer_sizes)\n",
        "  mlflow.log_param(\"activation\", activation)\n",
        "  mlflow.log_param(\"solver\", solver)\n",
        "  mlflow.log_metric(\"accuracy\", acc)\n",
        "  mlflow.log_metric(\"auroc\", auroc)\n",
        "  mlflow.log_metric(\"f1\", f1)\n",
        "\n",
        "  tracking_url_type_store = urlparse(mlflow.get_tracking_uri()).scheme\n",
        "\n",
        "  # Model registry does not work with file store\n",
        "  if tracking_url_type_store != \"file\":\n",
        "    # Register the model\n",
        "    # There are other ways to use the Model Registry, which depends on the use case,\n",
        "    # please refer to the doc for more information:\n",
        "    # https://mlflow.org/docs/latest/model-registry.html#api-workflow\n",
        "    mlflow.sklearn.log_model(mlp, \"model\", registered_model_name=\"MLP_NBA_Undrafted\")\n",
        "  else:\n",
        "    mlflow.sklearn.log_model(mlp, \"model\")"
      ],
      "metadata": {
        "id": "EfshK61In0OT"
      },
      "execution_count": null,
      "outputs": []
    },
    {
      "cell_type": "code",
      "source": [
        "!cat /content/mlruns/0/dac45b74013a437bae0dfae8d95fe6f1/params/activation"
      ],
      "metadata": {
        "outputId": "7878900a-9083-4b57-815e-33fc59872178",
        "colab": {
          "base_uri": "https://localhost:8080/"
        },
        "id": "hka0WiD6n0OT"
      },
      "execution_count": null,
      "outputs": [
        {
          "output_type": "stream",
          "name": "stdout",
          "text": [
            "relu"
          ]
        }
      ]
    },
    {
      "cell_type": "code",
      "source": [
        "!cat /content/mlruns/0/dac45b74013a437bae0dfae8d95fe6f1/params/hidden_layer_sizes"
      ],
      "metadata": {
        "outputId": "4e2fddb2-7838-454b-d360-ce05d2cd11f4",
        "colab": {
          "base_uri": "https://localhost:8080/"
        },
        "id": "5h1m_TkTn0OT"
      },
      "execution_count": null,
      "outputs": [
        {
          "output_type": "stream",
          "name": "stdout",
          "text": [
            "(10, 10)"
          ]
        }
      ]
    },
    {
      "cell_type": "code",
      "source": [
        "!cat /content/mlruns/0/dac45b74013a437bae0dfae8d95fe6f1/params/solver"
      ],
      "metadata": {
        "outputId": "dffc2faa-150d-499d-ef18-5c3d4b1441d9",
        "colab": {
          "base_uri": "https://localhost:8080/"
        },
        "id": "eGelSMBjn0OU"
      },
      "execution_count": null,
      "outputs": [
        {
          "output_type": "stream",
          "name": "stdout",
          "text": [
            "adam"
          ]
        }
      ]
    },
    {
      "cell_type": "code",
      "source": [
        "!cat /content/mlruns/0/dac45b74013a437bae0dfae8d95fe6f1/metrics/auroc"
      ],
      "metadata": {
        "outputId": "6b4f2503-d616-4943-df53-20991ffe8681",
        "colab": {
          "base_uri": "https://localhost:8080/"
        },
        "id": "HNg4KYRkn0OU"
      },
      "execution_count": null,
      "outputs": [
        {
          "output_type": "stream",
          "name": "stdout",
          "text": [
            "1662078957608 0.7428969215696385 0\n"
          ]
        }
      ]
    },
    {
      "cell_type": "code",
      "source": [
        "!cat /content/mlruns/0/dac45b74013a437bae0dfae8d95fe6f1/metrics/f1"
      ],
      "metadata": {
        "outputId": "0dd9b2ea-3693-490a-d16f-bc82c970d380",
        "colab": {
          "base_uri": "https://localhost:8080/"
        },
        "id": "Ipa0Rrsxn0OU"
      },
      "execution_count": null,
      "outputs": [
        {
          "output_type": "stream",
          "name": "stdout",
          "text": [
            "1662078957610 0.7431908403435481 0\n"
          ]
        }
      ]
    },
    {
      "cell_type": "code",
      "source": [
        "!cat /content/mlruns/0/dac45b74013a437bae0dfae8d95fe6f1/metrics/accuracy"
      ],
      "metadata": {
        "outputId": "bfac4da4-9b50-4545-e663-6abb085236ae",
        "colab": {
          "base_uri": "https://localhost:8080/"
        },
        "id": "U4MzZuGBn0OU"
      },
      "execution_count": null,
      "outputs": [
        {
          "output_type": "stream",
          "name": "stdout",
          "text": [
            "1662078957607 0.8218940052128584 0\n"
          ]
        }
      ]
    },
    {
      "cell_type": "markdown",
      "source": [
        "#### Tentativa 3\n",
        "\n",
        "```\n",
        "hidden_layers = (10,10)\n",
        "activation = 'logistic'\n",
        "solver = 'sgd'\n",
        "```\n",
        "\n",
        "\n"
      ],
      "metadata": {
        "id": "nv5LpMtnOuQX"
      }
    },
    {
      "cell_type": "code",
      "source": [
        "hidden_layer_sizes=(10, 10)\n",
        "activation='logistic'\n",
        "solver='sgd'"
      ],
      "metadata": {
        "id": "PBaD_uG4oNWw"
      },
      "execution_count": null,
      "outputs": []
    },
    {
      "cell_type": "code",
      "source": [
        "with mlflow.start_run():\n",
        "  mlp = MLPClassifier(random_state=RANDOM_STATE, max_iter=EPOCHS, hidden_layer_sizes=hidden_layer_sizes, activation=activation, solver=solver)\n",
        "  mlp.fit(X_train, y_train)\n",
        "\n",
        "  y_pred = mlp.predict(X_val)\n",
        "  y_proba = mlp.predict_proba(X_val)\n",
        "\n",
        "  (acc, auroc, f1) = eval_metrics(y_val, y_pred, y_proba)\n",
        "\n",
        "  mlflow.log_param(\"hidden_layer_sizes\", hidden_layer_sizes)\n",
        "  mlflow.log_param(\"activation\", activation)\n",
        "  mlflow.log_param(\"solver\", solver)\n",
        "  mlflow.log_metric(\"accuracy\", acc)\n",
        "  mlflow.log_metric(\"auroc\", auroc)\n",
        "  mlflow.log_metric(\"f1\", f1)\n",
        "\n",
        "  tracking_url_type_store = urlparse(mlflow.get_tracking_uri()).scheme\n",
        "\n",
        "  # Model registry does not work with file store\n",
        "  if tracking_url_type_store != \"file\":\n",
        "    # Register the model\n",
        "    # There are other ways to use the Model Registry, which depends on the use case,\n",
        "    # please refer to the doc for more information:\n",
        "    # https://mlflow.org/docs/latest/model-registry.html#api-workflow\n",
        "    mlflow.sklearn.log_model(mlp, \"model\", registered_model_name=\"MLP_NBA_Undrafted\")\n",
        "  else:\n",
        "    mlflow.sklearn.log_model(mlp, \"model\")"
      ],
      "metadata": {
        "id": "Zlh1buKHoNWw"
      },
      "execution_count": null,
      "outputs": []
    },
    {
      "cell_type": "code",
      "source": [
        "!cat /content/mlruns/0/c3f5c69195704f6f80d3a0b0c326c97d/params/activation"
      ],
      "metadata": {
        "outputId": "a8c42e11-60e3-497d-868d-dbdb489a54df",
        "colab": {
          "base_uri": "https://localhost:8080/"
        },
        "id": "4k0ok9zboNWw"
      },
      "execution_count": null,
      "outputs": [
        {
          "output_type": "stream",
          "name": "stdout",
          "text": [
            "logistic"
          ]
        }
      ]
    },
    {
      "cell_type": "code",
      "source": [
        "!cat /content/mlruns/0/c3f5c69195704f6f80d3a0b0c326c97d/params/hidden_layer_sizes"
      ],
      "metadata": {
        "outputId": "42ed2eda-23ab-4d12-a93b-ebf79025ddbb",
        "colab": {
          "base_uri": "https://localhost:8080/"
        },
        "id": "_FwhJbWcoNWx"
      },
      "execution_count": null,
      "outputs": [
        {
          "output_type": "stream",
          "name": "stdout",
          "text": [
            "(10, 10)"
          ]
        }
      ]
    },
    {
      "cell_type": "code",
      "source": [
        "!cat /content/mlruns/0/c3f5c69195704f6f80d3a0b0c326c97d/params/solver"
      ],
      "metadata": {
        "outputId": "3e7f7d99-86c9-42bc-f015-cdaed7c96bcd",
        "colab": {
          "base_uri": "https://localhost:8080/"
        },
        "id": "cVIbY7M1oNWx"
      },
      "execution_count": null,
      "outputs": [
        {
          "output_type": "stream",
          "name": "stdout",
          "text": [
            "sgd"
          ]
        }
      ]
    },
    {
      "cell_type": "code",
      "source": [
        "!cat /content/mlruns/0/c3f5c69195704f6f80d3a0b0c326c97d/metrics/auroc"
      ],
      "metadata": {
        "outputId": "68d3678c-93d0-4a0a-8c7d-5c8ff2ba31f0",
        "colab": {
          "base_uri": "https://localhost:8080/"
        },
        "id": "YGeI5r7uoNWx"
      },
      "execution_count": null,
      "outputs": [
        {
          "output_type": "stream",
          "name": "stdout",
          "text": [
            "1662079054027 0.48951683597174234 0\n"
          ]
        }
      ]
    },
    {
      "cell_type": "code",
      "source": [
        "!cat /content/mlruns/0/c3f5c69195704f6f80d3a0b0c326c97d/metrics/f1"
      ],
      "metadata": {
        "outputId": "d3a35c97-b9e5-4f9e-ae08-b404f9f8292a",
        "colab": {
          "base_uri": "https://localhost:8080/"
        },
        "id": "SRs9b1jaoNWx"
      },
      "execution_count": null,
      "outputs": [
        {
          "output_type": "stream",
          "name": "stdout",
          "text": [
            "1662079054028 0.7415467133346342 0\n"
          ]
        }
      ]
    },
    {
      "cell_type": "code",
      "source": [
        "!cat /content/mlruns/0/c3f5c69195704f6f80d3a0b0c326c97d/metrics/accuracy"
      ],
      "metadata": {
        "outputId": "4ed06a7d-53cc-400c-80e7-ac0353e3aeaa",
        "colab": {
          "base_uri": "https://localhost:8080/"
        },
        "id": "aN-cJ3Z_oNWy"
      },
      "execution_count": null,
      "outputs": [
        {
          "output_type": "stream",
          "name": "stdout",
          "text": [
            "1662079054025 0.8218940052128584 0\n"
          ]
        }
      ]
    },
    {
      "cell_type": "markdown",
      "source": [
        "### LogisticRegression\n",
        "No algoritmo LogisticRegression, variaremos os parâmetros `penalty` (especifica a norma da penalidade) e `solver` (especifica o algoritmo de otimização)."
      ],
      "metadata": {
        "id": "STil5di1C1g1"
      }
    },
    {
      "cell_type": "markdown",
      "source": [
        "#### Tentativa 1\n",
        "\n",
        "\n",
        "```\n",
        "penalty = 'l2'\n",
        "solver = 'liblinear'\n",
        "```\n",
        "\n"
      ],
      "metadata": {
        "id": "IyJqbVjzEC9i"
      }
    },
    {
      "cell_type": "code",
      "source": [
        "penalty = 'l2'\n",
        "solver = 'liblinear'"
      ],
      "metadata": {
        "id": "-TRKidCiEAkz"
      },
      "execution_count": 15,
      "outputs": []
    },
    {
      "cell_type": "code",
      "source": [
        "with mlflow.start_run():\n",
        "  lr = LogisticRegression(random_state=RANDOM_STATE, penalty=penalty, solver=solver)\n",
        "  lr.fit(X_train, y_train)\n",
        "\n",
        "  y_pred = lr.predict(X_val)\n",
        "  y_proba = lr.predict_proba(X_val)\n",
        "\n",
        "  (acc, auroc, f1) = eval_metrics(y_val, y_pred, y_proba)\n",
        "\n",
        "  mlflow.log_param(\"penalty\", penalty)\n",
        "  mlflow.log_param(\"solver\", solver)\n",
        "  mlflow.log_metric(\"accuracy\", acc)\n",
        "  mlflow.log_metric(\"auroc\", auroc)\n",
        "  mlflow.log_metric(\"f1\", f1)\n",
        "\n",
        "  tracking_url_type_store = urlparse(mlflow.get_tracking_uri()).scheme\n",
        "\n",
        "  # Model registry does not work with file store\n",
        "  if tracking_url_type_store != \"file\":\n",
        "    # Register the model\n",
        "    # There are other ways to use the Model Registry, which depends on the use case,\n",
        "    # please refer to the doc for more information:\n",
        "    # https://mlflow.org/docs/latest/model-registry.html#api-workflow\n",
        "    mlflow.sklearn.log_model(lr, \"model\", registered_model_name=\"LR_NBA_Undrafted\")\n",
        "  else:\n",
        "    mlflow.sklearn.log_model(lr, \"model\")"
      ],
      "metadata": {
        "id": "eGSrJ-E8ERSY"
      },
      "execution_count": 16,
      "outputs": []
    },
    {
      "cell_type": "code",
      "source": [
        "!cat /content/mlruns/0/8fe01fc13e704af8befc92a1931e42e2/params/penalty"
      ],
      "metadata": {
        "outputId": "af1e4d79-ccaf-410c-c095-9092d3f93043",
        "colab": {
          "base_uri": "https://localhost:8080/"
        },
        "id": "XXHfE_aiFX3U"
      },
      "execution_count": 17,
      "outputs": [
        {
          "output_type": "stream",
          "name": "stdout",
          "text": [
            "l2"
          ]
        }
      ]
    },
    {
      "cell_type": "code",
      "source": [
        "!cat /content/mlruns/0/8fe01fc13e704af8befc92a1931e42e2/params/solver"
      ],
      "metadata": {
        "outputId": "3a8f3bad-6d57-4d73-8054-cafaaed35dce",
        "colab": {
          "base_uri": "https://localhost:8080/"
        },
        "id": "ER7oTCnuFX3a"
      },
      "execution_count": 19,
      "outputs": [
        {
          "output_type": "stream",
          "name": "stdout",
          "text": [
            "liblinear"
          ]
        }
      ]
    },
    {
      "cell_type": "code",
      "source": [
        "!cat /content/mlruns/0/8fe01fc13e704af8befc92a1931e42e2/metrics/auroc"
      ],
      "metadata": {
        "outputId": "1ac5f43d-2879-4a20-f1c3-555871450a45",
        "colab": {
          "base_uri": "https://localhost:8080/"
        },
        "id": "isaWxkplFX3a"
      },
      "execution_count": 20,
      "outputs": [
        {
          "output_type": "stream",
          "name": "stdout",
          "text": [
            "1662120201332 0.7512246686948899 0\n"
          ]
        }
      ]
    },
    {
      "cell_type": "code",
      "source": [
        "!cat /content/mlruns/0/8fe01fc13e704af8befc92a1931e42e2/metrics/f1"
      ],
      "metadata": {
        "outputId": "74ded6cd-031d-4e99-b331-67b5db029bf6",
        "colab": {
          "base_uri": "https://localhost:8080/"
        },
        "id": "BI5R0MKRFX3a"
      },
      "execution_count": 21,
      "outputs": [
        {
          "output_type": "stream",
          "name": "stdout",
          "text": [
            "1662120201334 0.7538235059016244 0\n"
          ]
        }
      ]
    },
    {
      "cell_type": "code",
      "source": [
        "!cat /content/mlruns/0/8fe01fc13e704af8befc92a1931e42e2/metrics/accuracy"
      ],
      "metadata": {
        "outputId": "9e252e68-94b7-4e82-f9f4-be7909a005bd",
        "colab": {
          "base_uri": "https://localhost:8080/"
        },
        "id": "KX3XJ1ByFX3a"
      },
      "execution_count": 22,
      "outputs": [
        {
          "output_type": "stream",
          "name": "stdout",
          "text": [
            "1662120201331 0.8218940052128584 0\n"
          ]
        }
      ]
    },
    {
      "cell_type": "markdown",
      "source": [
        "#### Tentativa 2\n",
        "\n",
        "```\n",
        "penalty = 'l1'\n",
        "solver = 'saga'\n",
        "```\n",
        "\n"
      ],
      "metadata": {
        "id": "bLTKWmSGFjxT"
      }
    },
    {
      "cell_type": "code",
      "source": [
        "penalty = 'l1'\n",
        "solver = 'saga'"
      ],
      "metadata": {
        "id": "Eq29b90oFzCr"
      },
      "execution_count": 27,
      "outputs": []
    },
    {
      "cell_type": "code",
      "source": [
        "with mlflow.start_run():\n",
        "  lr = LogisticRegression(random_state=RANDOM_STATE, penalty=penalty, solver=solver)\n",
        "  lr.fit(X_train, y_train)\n",
        "\n",
        "  y_pred = lr.predict(X_val)\n",
        "  y_proba = lr.predict_proba(X_val)\n",
        "\n",
        "  (acc, auroc, f1) = eval_metrics(y_val, y_pred, y_proba)\n",
        "\n",
        "  mlflow.log_param(\"penalty\", penalty)\n",
        "  mlflow.log_param(\"solver\", solver)\n",
        "  mlflow.log_metric(\"accuracy\", acc)\n",
        "  mlflow.log_metric(\"auroc\", auroc)\n",
        "  mlflow.log_metric(\"f1\", f1)\n",
        "\n",
        "  tracking_url_type_store = urlparse(mlflow.get_tracking_uri()).scheme\n",
        "\n",
        "  # Model registry does not work with file store\n",
        "  if tracking_url_type_store != \"file\":\n",
        "    # Register the model\n",
        "    # There are other ways to use the Model Registry, which depends on the use case,\n",
        "    # please refer to the doc for more information:\n",
        "    # https://mlflow.org/docs/latest/model-registry.html#api-workflow\n",
        "    mlflow.sklearn.log_model(lr, \"model\", registered_model_name=\"LR_NBA_Undrafted\")\n",
        "  else:\n",
        "    mlflow.sklearn.log_model(lr, \"model\")"
      ],
      "metadata": {
        "colab": {
          "base_uri": "https://localhost:8080/"
        },
        "id": "bBV6jtsGFzCr",
        "outputId": "eab4a94b-7f7b-4426-9161-7f266b1ecbec"
      },
      "execution_count": 28,
      "outputs": [
        {
          "output_type": "stream",
          "name": "stderr",
          "text": [
            "/usr/local/lib/python3.7/dist-packages/sklearn/linear_model/_sag.py:354: ConvergenceWarning: The max_iter was reached which means the coef_ did not converge\n",
            "  ConvergenceWarning,\n"
          ]
        }
      ]
    },
    {
      "cell_type": "code",
      "source": [
        "!cat /content/mlruns/0/0139f9f8834842c7bbb0421e078e6e5b/params/penalty"
      ],
      "metadata": {
        "outputId": "e07131dd-43b8-4c69-92a9-7d3e5e9d979f",
        "colab": {
          "base_uri": "https://localhost:8080/"
        },
        "id": "sX9pVXSfFzCr"
      },
      "execution_count": 31,
      "outputs": [
        {
          "output_type": "stream",
          "name": "stdout",
          "text": [
            "l1"
          ]
        }
      ]
    },
    {
      "cell_type": "code",
      "source": [
        "!cat /content/mlruns/0/0139f9f8834842c7bbb0421e078e6e5b/params/solver"
      ],
      "metadata": {
        "outputId": "fbaac0fc-d56d-47e5-81d5-3798e7dec3cd",
        "colab": {
          "base_uri": "https://localhost:8080/"
        },
        "id": "h3Q4KqO3FzCs"
      },
      "execution_count": 32,
      "outputs": [
        {
          "output_type": "stream",
          "name": "stdout",
          "text": [
            "saga"
          ]
        }
      ]
    },
    {
      "cell_type": "code",
      "source": [
        "!cat /content/mlruns/0/0139f9f8834842c7bbb0421e078e6e5b/metrics/auroc"
      ],
      "metadata": {
        "outputId": "978b07dc-fce1-4fdf-f0d0-f087695fd945",
        "colab": {
          "base_uri": "https://localhost:8080/"
        },
        "id": "mYLDHEB9FzCs"
      },
      "execution_count": 33,
      "outputs": [
        {
          "output_type": "stream",
          "name": "stdout",
          "text": [
            "1662120389437 0.663234156654463 0\n"
          ]
        }
      ]
    },
    {
      "cell_type": "code",
      "source": [
        "!cat /content/mlruns/0/0139f9f8834842c7bbb0421e078e6e5b/metrics/f1"
      ],
      "metadata": {
        "outputId": "bd807fde-935a-4ed0-c53b-1ea45d84fb02",
        "colab": {
          "base_uri": "https://localhost:8080/"
        },
        "id": "HfXXgFy5FzCs"
      },
      "execution_count": 34,
      "outputs": [
        {
          "output_type": "stream",
          "name": "stdout",
          "text": [
            "1662120389438 0.7415467133346342 0\n"
          ]
        }
      ]
    },
    {
      "cell_type": "code",
      "source": [
        "!cat /content/mlruns/0/0139f9f8834842c7bbb0421e078e6e5b/metrics/accuracy"
      ],
      "metadata": {
        "outputId": "a463e981-a808-4373-b578-d0be26c1baeb",
        "colab": {
          "base_uri": "https://localhost:8080/"
        },
        "id": "QA8U5HwQFzCs"
      },
      "execution_count": 35,
      "outputs": [
        {
          "output_type": "stream",
          "name": "stdout",
          "text": [
            "1662120389436 0.8218940052128584 0\n"
          ]
        }
      ]
    },
    {
      "cell_type": "markdown",
      "source": [
        "#### Tentativa 3\n",
        "\n",
        "```\n",
        "penalty = 'elasticnet'\n",
        "solver = 'saga'\n",
        "```\n",
        "\n"
      ],
      "metadata": {
        "id": "8c2tujn7GNs5"
      }
    },
    {
      "cell_type": "code",
      "source": [
        "penalty = 'elasticnet'\n",
        "solver = 'saga'"
      ],
      "metadata": {
        "id": "63MQS4PGGWDH"
      },
      "execution_count": 36,
      "outputs": []
    },
    {
      "cell_type": "code",
      "source": [
        "with mlflow.start_run():\n",
        "  lr = LogisticRegression(random_state=RANDOM_STATE, penalty=penalty, solver=solver, l1_ratio=0.5, max_iter=1000)\n",
        "  lr.fit(X_train, y_train)\n",
        "\n",
        "  y_pred = lr.predict(X_val)\n",
        "  y_proba = lr.predict_proba(X_val)\n",
        "\n",
        "  (acc, auroc, f1) = eval_metrics(y_val, y_pred, y_proba)\n",
        "\n",
        "  mlflow.log_param(\"penalty\", penalty)\n",
        "  mlflow.log_param(\"solver\", solver)\n",
        "  mlflow.log_metric(\"accuracy\", acc)\n",
        "  mlflow.log_metric(\"auroc\", auroc)\n",
        "  mlflow.log_metric(\"f1\", f1)\n",
        "\n",
        "  tracking_url_type_store = urlparse(mlflow.get_tracking_uri()).scheme\n",
        "\n",
        "  # Model registry does not work with file store\n",
        "  if tracking_url_type_store != \"file\":\n",
        "    # Register the model\n",
        "    # There are other ways to use the Model Registry, which depends on the use case,\n",
        "    # please refer to the doc for more information:\n",
        "    # https://mlflow.org/docs/latest/model-registry.html#api-workflow\n",
        "    mlflow.sklearn.log_model(lr, \"model\", registered_model_name=\"LR_NBA_Undrafted\")\n",
        "  else:\n",
        "    mlflow.sklearn.log_model(lr, \"model\")"
      ],
      "metadata": {
        "outputId": "e5a63273-b3f8-40e6-bc93-fc2e8c489290",
        "colab": {
          "base_uri": "https://localhost:8080/"
        },
        "id": "-Oat4qm3GWDH"
      },
      "execution_count": 37,
      "outputs": [
        {
          "output_type": "stream",
          "name": "stderr",
          "text": [
            "/usr/local/lib/python3.7/dist-packages/sklearn/linear_model/_sag.py:354: ConvergenceWarning: The max_iter was reached which means the coef_ did not converge\n",
            "  ConvergenceWarning,\n"
          ]
        }
      ]
    },
    {
      "cell_type": "code",
      "source": [
        "!cat /content/mlruns/0/253e4d2f20f24254a7fc2d693159bfc1/params/penalty"
      ],
      "metadata": {
        "outputId": "c60e5650-724e-4b64-e989-2eb3172d22d3",
        "colab": {
          "base_uri": "https://localhost:8080/"
        },
        "id": "kxkuQ8CJGWDI"
      },
      "execution_count": 38,
      "outputs": [
        {
          "output_type": "stream",
          "name": "stdout",
          "text": [
            "elasticnet"
          ]
        }
      ]
    },
    {
      "cell_type": "code",
      "source": [
        "!cat /content/mlruns/0/253e4d2f20f24254a7fc2d693159bfc1/params/solver"
      ],
      "metadata": {
        "outputId": "a83b610e-cf5c-4687-f8a6-04e4bdb2365f",
        "colab": {
          "base_uri": "https://localhost:8080/"
        },
        "id": "to0B5IYzGWDI"
      },
      "execution_count": 39,
      "outputs": [
        {
          "output_type": "stream",
          "name": "stdout",
          "text": [
            "saga"
          ]
        }
      ]
    },
    {
      "cell_type": "code",
      "source": [
        "!cat /content/mlruns/0/253e4d2f20f24254a7fc2d693159bfc1/metrics/auroc"
      ],
      "metadata": {
        "outputId": "dbf63b90-3df6-42d4-9ca9-1c9eb50fee00",
        "colab": {
          "base_uri": "https://localhost:8080/"
        },
        "id": "hRWuK79rGWDI"
      },
      "execution_count": 40,
      "outputs": [
        {
          "output_type": "stream",
          "name": "stdout",
          "text": [
            "1662120583300 0.709585933068633 0\n"
          ]
        }
      ]
    },
    {
      "cell_type": "code",
      "source": [
        "!cat /content/mlruns/0/253e4d2f20f24254a7fc2d693159bfc1/metrics/f1"
      ],
      "metadata": {
        "outputId": "63f986e6-100b-44fe-84c3-c14c460f422a",
        "colab": {
          "base_uri": "https://localhost:8080/"
        },
        "id": "BD4xe8IDGWDJ"
      },
      "execution_count": 41,
      "outputs": [
        {
          "output_type": "stream",
          "name": "stdout",
          "text": [
            "1662120583302 0.7415467133346342 0\n"
          ]
        }
      ]
    },
    {
      "cell_type": "code",
      "source": [
        "!cat /content/mlruns/0/253e4d2f20f24254a7fc2d693159bfc1/metrics/accuracy"
      ],
      "metadata": {
        "outputId": "7b7be717-80e3-423f-b834-1fe32c74ea4f",
        "colab": {
          "base_uri": "https://localhost:8080/"
        },
        "id": "F4VkaJnfGWDJ"
      },
      "execution_count": 42,
      "outputs": [
        {
          "output_type": "stream",
          "name": "stdout",
          "text": [
            "1662120583299 0.8218940052128584 0\n"
          ]
        }
      ]
    },
    {
      "cell_type": "markdown",
      "source": [
        "### RandomForestClassifier\n",
        "No algoritmo RandomForest, decidimos acompanhar a variação dos parâmetros `n_estimators` (número de árvores na floresta), `criterion` (função que mede a qualidade da separação) e `max_depth` (altera a profundidade máxima das árvores)."
      ],
      "metadata": {
        "id": "aXWFaAduHPzI"
      }
    },
    {
      "cell_type": "markdown",
      "source": [
        "#### Tentativa 1\n",
        "\n",
        "```\n",
        "n_estimators = 100\n",
        "criterion = 'gini'\n",
        "max_depth = None\n",
        "```\n",
        "\n"
      ],
      "metadata": {
        "id": "RZOXBeqhH-KR"
      }
    },
    {
      "cell_type": "code",
      "source": [
        "n_estimators = 100\n",
        "criterion = 'gini'\n",
        "max_depth = None"
      ],
      "metadata": {
        "id": "8P_hYOiRHSuE"
      },
      "execution_count": 43,
      "outputs": []
    },
    {
      "cell_type": "code",
      "source": [
        "with mlflow.start_run():\n",
        "  rf = RandomForestClassifier(random_state=RANDOM_STATE, n_estimators=n_estimators, criterion=criterion, max_depth=max_depth)\n",
        "  rf.fit(X_train, y_train)\n",
        "\n",
        "  y_pred = rf.predict(X_val)\n",
        "  y_proba = rf.predict_proba(X_val)\n",
        "\n",
        "  (acc, auroc, f1) = eval_metrics(y_val, y_pred, y_proba)\n",
        "\n",
        "  mlflow.log_param(\"n_estimators\", n_estimators)\n",
        "  mlflow.log_param(\"criterion\", criterion)\n",
        "  mlflow.log_param(\"max_depth\", max_depth)\n",
        "  mlflow.log_metric(\"accuracy\", acc)\n",
        "  mlflow.log_metric(\"auroc\", auroc)\n",
        "  mlflow.log_metric(\"f1\", f1)\n",
        "\n",
        "  tracking_url_type_store = urlparse(mlflow.get_tracking_uri()).scheme\n",
        "\n",
        "  # Model registry does not work with file store\n",
        "  if tracking_url_type_store != \"file\":\n",
        "    # Register the model\n",
        "    # There are other ways to use the Model Registry, which depends on the use case,\n",
        "    # please refer to the doc for more information:\n",
        "    # https://mlflow.org/docs/latest/model-registry.html#api-workflow\n",
        "    mlflow.sklearn.log_model(rf, \"model\", registered_model_name=\"RF_NBA_Undrafted\")\n",
        "  else:\n",
        "    mlflow.sklearn.log_model(rf, \"model\")"
      ],
      "metadata": {
        "id": "Pu_EFKlJISxf"
      },
      "execution_count": 44,
      "outputs": []
    },
    {
      "cell_type": "code",
      "source": [
        "!cat /content/mlruns/0/c3e9d3f5601c4cdabc0a4f0ba49e2541/params/n_estimators"
      ],
      "metadata": {
        "outputId": "45421716-a975-4fe4-eb28-f3ef93ee91dd",
        "colab": {
          "base_uri": "https://localhost:8080/"
        },
        "id": "T5hpKyG5I_EH"
      },
      "execution_count": 45,
      "outputs": [
        {
          "output_type": "stream",
          "name": "stdout",
          "text": [
            "100"
          ]
        }
      ]
    },
    {
      "cell_type": "code",
      "source": [
        "!cat /content/mlruns/0/c3e9d3f5601c4cdabc0a4f0ba49e2541/params/criterion"
      ],
      "metadata": {
        "outputId": "f34f1548-f43e-4d1f-cb5c-d93620ba83b0",
        "colab": {
          "base_uri": "https://localhost:8080/"
        },
        "id": "iE0Pn85FI_EO"
      },
      "execution_count": 46,
      "outputs": [
        {
          "output_type": "stream",
          "name": "stdout",
          "text": [
            "gini"
          ]
        }
      ]
    },
    {
      "cell_type": "code",
      "source": [
        "!cat /content/mlruns/0/c3e9d3f5601c4cdabc0a4f0ba49e2541/params/max_depth"
      ],
      "metadata": {
        "colab": {
          "base_uri": "https://localhost:8080/"
        },
        "id": "7pVA2esHJFzo",
        "outputId": "1cbea49f-bda1-485d-dce8-27b6251635d4"
      },
      "execution_count": 47,
      "outputs": [
        {
          "output_type": "stream",
          "name": "stdout",
          "text": [
            "None"
          ]
        }
      ]
    },
    {
      "cell_type": "code",
      "source": [
        "!cat /content/mlruns/0/c3e9d3f5601c4cdabc0a4f0ba49e2541/metrics/auroc"
      ],
      "metadata": {
        "outputId": "a9bc9b5f-0fc6-4446-df8d-541524d50c08",
        "colab": {
          "base_uri": "https://localhost:8080/"
        },
        "id": "rTGUlj7uI_EO"
      },
      "execution_count": 48,
      "outputs": [
        {
          "output_type": "stream",
          "name": "stdout",
          "text": [
            "1662121124478 0.8366240396019182 0\n"
          ]
        }
      ]
    },
    {
      "cell_type": "code",
      "source": [
        "!cat /content/mlruns/0/c3e9d3f5601c4cdabc0a4f0ba49e2541/metrics/f1"
      ],
      "metadata": {
        "outputId": "238fc064-7f69-476a-cb25-1f1d5003d5a0",
        "colab": {
          "base_uri": "https://localhost:8080/"
        },
        "id": "U1bucH2gI_EO"
      },
      "execution_count": 49,
      "outputs": [
        {
          "output_type": "stream",
          "name": "stdout",
          "text": [
            "1662121124479 0.7826776956198876 0\n"
          ]
        }
      ]
    },
    {
      "cell_type": "code",
      "source": [
        "!cat /content/mlruns/0/c3e9d3f5601c4cdabc0a4f0ba49e2541/metrics/accuracy"
      ],
      "metadata": {
        "outputId": "c3402dca-53e2-4c5f-c7b6-5e15efbea2e9",
        "colab": {
          "base_uri": "https://localhost:8080/"
        },
        "id": "inbAKEOaI_EP"
      },
      "execution_count": 50,
      "outputs": [
        {
          "output_type": "stream",
          "name": "stdout",
          "text": [
            "1662121124478 0.8340573414422241 0\n"
          ]
        }
      ]
    },
    {
      "cell_type": "markdown",
      "source": [
        "#### Tentativa 2\n",
        "\n",
        "```\n",
        "n_estimators = 200\n",
        "criterion = 'gini'\n",
        "max_depth = None\n",
        "```\n",
        "\n"
      ],
      "metadata": {
        "id": "PalwbzW3JSBe"
      }
    },
    {
      "cell_type": "code",
      "source": [
        "n_estimators = 200\n",
        "criterion = 'gini'\n",
        "max_depth = None"
      ],
      "metadata": {
        "id": "4oWLRI5oJSBf"
      },
      "execution_count": 51,
      "outputs": []
    },
    {
      "cell_type": "code",
      "source": [
        "with mlflow.start_run():\n",
        "  rf = RandomForestClassifier(random_state=RANDOM_STATE, n_estimators=n_estimators, criterion=criterion, max_depth=max_depth)\n",
        "  rf.fit(X_train, y_train)\n",
        "\n",
        "  y_pred = rf.predict(X_val)\n",
        "  y_proba = rf.predict_proba(X_val)\n",
        "\n",
        "  (acc, auroc, f1) = eval_metrics(y_val, y_pred, y_proba)\n",
        "\n",
        "  mlflow.log_param(\"n_estimators\", n_estimators)\n",
        "  mlflow.log_param(\"criterion\", criterion)\n",
        "  mlflow.log_param(\"max_depth\", max_depth)\n",
        "  mlflow.log_metric(\"accuracy\", acc)\n",
        "  mlflow.log_metric(\"auroc\", auroc)\n",
        "  mlflow.log_metric(\"f1\", f1)\n",
        "\n",
        "  tracking_url_type_store = urlparse(mlflow.get_tracking_uri()).scheme\n",
        "\n",
        "  # Model registry does not work with file store\n",
        "  if tracking_url_type_store != \"file\":\n",
        "    # Register the model\n",
        "    # There are other ways to use the Model Registry, which depends on the use case,\n",
        "    # please refer to the doc for more information:\n",
        "    # https://mlflow.org/docs/latest/model-registry.html#api-workflow\n",
        "    mlflow.sklearn.log_model(rf, \"model\", registered_model_name=\"RF_NBA_Undrafted\")\n",
        "  else:\n",
        "    mlflow.sklearn.log_model(rf, \"model\")"
      ],
      "metadata": {
        "id": "8vl9ZJwjJSBf"
      },
      "execution_count": 53,
      "outputs": []
    },
    {
      "cell_type": "code",
      "source": [
        "!cat /content/mlruns/0/37399a681ba84856928153aacde4623d/params/n_estimators"
      ],
      "metadata": {
        "outputId": "decee1c8-9d97-46b3-a3f7-46587e349046",
        "colab": {
          "base_uri": "https://localhost:8080/"
        },
        "id": "BQoF-vloJSBf"
      },
      "execution_count": 54,
      "outputs": [
        {
          "output_type": "stream",
          "name": "stdout",
          "text": [
            "200"
          ]
        }
      ]
    },
    {
      "cell_type": "code",
      "source": [
        "!cat /content/mlruns/0/37399a681ba84856928153aacde4623d/params/criterion"
      ],
      "metadata": {
        "outputId": "aaefa22a-d49e-433e-e6e9-a646b08c7ce2",
        "colab": {
          "base_uri": "https://localhost:8080/"
        },
        "id": "I7DrIFfgJSBg"
      },
      "execution_count": 55,
      "outputs": [
        {
          "output_type": "stream",
          "name": "stdout",
          "text": [
            "gini"
          ]
        }
      ]
    },
    {
      "cell_type": "code",
      "source": [
        "!cat /content/mlruns/0/37399a681ba84856928153aacde4623d/params/max_depth"
      ],
      "metadata": {
        "outputId": "8a9d0e80-713d-4601-8ab6-37f7d93b15c5",
        "colab": {
          "base_uri": "https://localhost:8080/"
        },
        "id": "I5tkJE1YJSBg"
      },
      "execution_count": 56,
      "outputs": [
        {
          "output_type": "stream",
          "name": "stdout",
          "text": [
            "None"
          ]
        }
      ]
    },
    {
      "cell_type": "code",
      "source": [
        "!cat /content/mlruns/0/37399a681ba84856928153aacde4623d/metrics/auroc"
      ],
      "metadata": {
        "outputId": "6bf8707e-9442-4c22-f01d-822d60e69bee",
        "colab": {
          "base_uri": "https://localhost:8080/"
        },
        "id": "JtXCpzlqJSBg"
      },
      "execution_count": 57,
      "outputs": [
        {
          "output_type": "stream",
          "name": "stdout",
          "text": [
            "1662121391197 0.8431702160573403 0\n"
          ]
        }
      ]
    },
    {
      "cell_type": "code",
      "source": [
        "!cat /content/mlruns/0/37399a681ba84856928153aacde4623d/metrics/f1"
      ],
      "metadata": {
        "outputId": "07394d99-979e-4c46-b48a-47f1607cbab5",
        "colab": {
          "base_uri": "https://localhost:8080/"
        },
        "id": "25vx0kjFJSBg"
      },
      "execution_count": 58,
      "outputs": [
        {
          "output_type": "stream",
          "name": "stdout",
          "text": [
            "1662121391198 0.7866288627891993 0\n"
          ]
        }
      ]
    },
    {
      "cell_type": "code",
      "source": [
        "!cat /content/mlruns/0/37399a681ba84856928153aacde4623d/metrics/accuracy"
      ],
      "metadata": {
        "outputId": "570721e9-42c0-41eb-a469-38e91bf54320",
        "colab": {
          "base_uri": "https://localhost:8080/"
        },
        "id": "YcY5-p2cJSBg"
      },
      "execution_count": 59,
      "outputs": [
        {
          "output_type": "stream",
          "name": "stdout",
          "text": [
            "1662121391197 0.8366637706342311 0\n"
          ]
        }
      ]
    },
    {
      "cell_type": "markdown",
      "source": [
        "#### Tentativa 3\n",
        "\n",
        "```\n",
        "n_estimators = 200\n",
        "criterion = 'entropy'\n",
        "max_depth = 15\n",
        "```\n",
        "\n"
      ],
      "metadata": {
        "id": "0Xd-5uNBKCbx"
      }
    },
    {
      "cell_type": "code",
      "source": [
        "n_estimators = 200\n",
        "criterion = 'entropy'\n",
        "max_depth = 15"
      ],
      "metadata": {
        "id": "Roc2zoL7KCbx"
      },
      "execution_count": 60,
      "outputs": []
    },
    {
      "cell_type": "code",
      "source": [
        "with mlflow.start_run():\n",
        "  rf = RandomForestClassifier(random_state=RANDOM_STATE, n_estimators=n_estimators, criterion=criterion, max_depth=max_depth)\n",
        "  rf.fit(X_train, y_train)\n",
        "\n",
        "  y_pred = rf.predict(X_val)\n",
        "  y_proba = rf.predict_proba(X_val)\n",
        "\n",
        "  (acc, auroc, f1) = eval_metrics(y_val, y_pred, y_proba)\n",
        "\n",
        "  mlflow.log_param(\"n_estimators\", n_estimators)\n",
        "  mlflow.log_param(\"criterion\", criterion)\n",
        "  mlflow.log_param(\"max_depth\", max_depth)\n",
        "  mlflow.log_metric(\"accuracy\", acc)\n",
        "  mlflow.log_metric(\"auroc\", auroc)\n",
        "  mlflow.log_metric(\"f1\", f1)\n",
        "\n",
        "  tracking_url_type_store = urlparse(mlflow.get_tracking_uri()).scheme\n",
        "\n",
        "  # Model registry does not work with file store\n",
        "  if tracking_url_type_store != \"file\":\n",
        "    # Register the model\n",
        "    # There are other ways to use the Model Registry, which depends on the use case,\n",
        "    # please refer to the doc for more information:\n",
        "    # https://mlflow.org/docs/latest/model-registry.html#api-workflow\n",
        "    mlflow.sklearn.log_model(rf, \"model\", registered_model_name=\"RF_NBA_Undrafted\")\n",
        "  else:\n",
        "    mlflow.sklearn.log_model(rf, \"model\")"
      ],
      "metadata": {
        "id": "txua-y1LKCbx"
      },
      "execution_count": 61,
      "outputs": []
    },
    {
      "cell_type": "code",
      "source": [
        "!cat /content/mlruns/0/37399a681ba84856928153aacde4623d/params/n_estimators"
      ],
      "metadata": {
        "outputId": "d287e629-c844-478b-bc00-a5f95e78dcd3",
        "colab": {
          "base_uri": "https://localhost:8080/"
        },
        "id": "8jKRXU-KKCby"
      },
      "execution_count": 62,
      "outputs": [
        {
          "output_type": "stream",
          "name": "stdout",
          "text": [
            "200"
          ]
        }
      ]
    },
    {
      "cell_type": "code",
      "source": [
        "!cat /content/mlruns/0/7bf1d8758b4d46f7b8497a9243c057f7/params/criterion"
      ],
      "metadata": {
        "outputId": "59ad153a-c212-439c-c88a-86807ee7a9b4",
        "colab": {
          "base_uri": "https://localhost:8080/"
        },
        "id": "QYPtObIdKCby"
      },
      "execution_count": 63,
      "outputs": [
        {
          "output_type": "stream",
          "name": "stdout",
          "text": [
            "entropy"
          ]
        }
      ]
    },
    {
      "cell_type": "code",
      "source": [
        "!cat /content/mlruns/0/7bf1d8758b4d46f7b8497a9243c057f7/params/max_depth"
      ],
      "metadata": {
        "outputId": "80168644-ea17-4e43-84e2-2e1f6a84bdaf",
        "colab": {
          "base_uri": "https://localhost:8080/"
        },
        "id": "6aLs1aZCKCby"
      },
      "execution_count": 64,
      "outputs": [
        {
          "output_type": "stream",
          "name": "stdout",
          "text": [
            "15"
          ]
        }
      ]
    },
    {
      "cell_type": "code",
      "source": [
        "!cat /content/mlruns/0/7bf1d8758b4d46f7b8497a9243c057f7/metrics/auroc"
      ],
      "metadata": {
        "outputId": "624130b3-5aa6-458d-d9a9-a4c66d45c2a7",
        "colab": {
          "base_uri": "https://localhost:8080/"
        },
        "id": "L30J2fvbKCby"
      },
      "execution_count": 65,
      "outputs": [
        {
          "output_type": "stream",
          "name": "stdout",
          "text": [
            "1662121542282 0.843335224049915 0\n"
          ]
        }
      ]
    },
    {
      "cell_type": "code",
      "source": [
        "!cat /content/mlruns/0/7bf1d8758b4d46f7b8497a9243c057f7/metrics/f1"
      ],
      "metadata": {
        "outputId": "e8ca2b9a-ba2c-4ae6-bb08-b8a59063ffb6",
        "colab": {
          "base_uri": "https://localhost:8080/"
        },
        "id": "PI0RFyo3KCby"
      },
      "execution_count": 66,
      "outputs": [
        {
          "output_type": "stream",
          "name": "stdout",
          "text": [
            "1662121542283 0.7746727489160805 0\n"
          ]
        }
      ]
    },
    {
      "cell_type": "code",
      "source": [
        "!cat /content/mlruns/0/7bf1d8758b4d46f7b8497a9243c057f7/metrics/accuracy"
      ],
      "metadata": {
        "outputId": "c142420d-9575-4af6-e636-c2845d5d1c91",
        "colab": {
          "base_uri": "https://localhost:8080/"
        },
        "id": "ndbrNpSTKCbz"
      },
      "execution_count": 67,
      "outputs": [
        {
          "output_type": "stream",
          "name": "stdout",
          "text": [
            "1662121542281 0.8305821025195482 0\n"
          ]
        }
      ]
    },
    {
      "cell_type": "markdown",
      "source": [
        "### XGBoost\n",
        "Para o algoritmo de classificação XGBoost, experimentaremos a alternação dos parâmetros `n_estimators` (equivalente ao da RandomForest), `learning_rate` (diminuição do tamanho dos passos, utilizado para prevenção de overfitting) e `max_depth` (equivalente ao RF)."
      ],
      "metadata": {
        "id": "9I0iGYU1Ko5J"
      }
    },
    {
      "cell_type": "markdown",
      "source": [
        "#### Tentativa 1\n",
        "\n",
        "```\n",
        "n_estimators = 100\n",
        "learning_rate = 1e-1\n",
        "max_depth = 6\n",
        "```\n",
        "\n"
      ],
      "metadata": {
        "id": "UiEMsunjN6jM"
      }
    },
    {
      "cell_type": "code",
      "source": [
        "n_estimators = 100\n",
        "learning_rate = 1e-1\n",
        "max_depth = 6"
      ],
      "metadata": {
        "id": "2_QL0eQvOGhd"
      },
      "execution_count": 68,
      "outputs": []
    },
    {
      "cell_type": "code",
      "source": [
        "with mlflow.start_run():\n",
        "  xgb = XGBClassifier(random_state=RANDOM_STATE, n_estimators=n_estimators, learning_rate=learning_rate, max_depth=max_depth)\n",
        "  xgb.fit(X_train, y_train)\n",
        "\n",
        "  y_pred = xgb.predict(X_val)\n",
        "  y_proba = xgb.predict_proba(X_val)\n",
        "\n",
        "  (acc, auroc, f1) = eval_metrics(y_val, y_pred, y_proba)\n",
        "\n",
        "  mlflow.log_param(\"n_estimators\", n_estimators)\n",
        "  mlflow.log_param(\"lr\", learning_rate)\n",
        "  mlflow.log_param(\"max_depth\", max_depth)\n",
        "  mlflow.log_metric(\"accuracy\", acc)\n",
        "  mlflow.log_metric(\"auroc\", auroc)\n",
        "  mlflow.log_metric(\"f1\", f1)\n",
        "\n",
        "  tracking_url_type_store = urlparse(mlflow.get_tracking_uri()).scheme\n",
        "\n",
        "  # Model registry does not work with file store\n",
        "  if tracking_url_type_store != \"file\":\n",
        "    # Register the model\n",
        "    # There are other ways to use the Model Registry, which depends on the use case,\n",
        "    # please refer to the doc for more information:\n",
        "    # https://mlflow.org/docs/latest/model-registry.html#api-workflow\n",
        "    mlflow.sklearn.log_model(xgb, \"model\", registered_model_name=\"XGB_NBA_Undrafted\")\n",
        "  else:\n",
        "    mlflow.sklearn.log_model(xgb, \"model\")"
      ],
      "metadata": {
        "id": "olZVCH3AOHiO"
      },
      "execution_count": 69,
      "outputs": []
    },
    {
      "cell_type": "code",
      "source": [
        "!cat /content/mlruns/0/613bc45c18564a3ab87fa0188ebf3140/params/n_estimators"
      ],
      "metadata": {
        "outputId": "055b711d-7d26-46f4-e01e-dd90cbb8cc88",
        "colab": {
          "base_uri": "https://localhost:8080/"
        },
        "id": "lO4z3jl5Okvd"
      },
      "execution_count": 70,
      "outputs": [
        {
          "output_type": "stream",
          "name": "stdout",
          "text": [
            "100"
          ]
        }
      ]
    },
    {
      "cell_type": "code",
      "source": [
        "!cat /content/mlruns/0/613bc45c18564a3ab87fa0188ebf3140/params/lr"
      ],
      "metadata": {
        "outputId": "869b4c36-0569-4d3b-e51c-5d21fc1a65f0",
        "colab": {
          "base_uri": "https://localhost:8080/"
        },
        "id": "XEoQeKuQOkvd"
      },
      "execution_count": 71,
      "outputs": [
        {
          "output_type": "stream",
          "name": "stdout",
          "text": [
            "0.1"
          ]
        }
      ]
    },
    {
      "cell_type": "code",
      "source": [
        "!cat /content/mlruns/0/613bc45c18564a3ab87fa0188ebf3140/params/max_depth"
      ],
      "metadata": {
        "outputId": "f38a77bf-53d5-44ad-b55a-d6e3c7259d2e",
        "colab": {
          "base_uri": "https://localhost:8080/"
        },
        "id": "FoT3mnCtOkvd"
      },
      "execution_count": 72,
      "outputs": [
        {
          "output_type": "stream",
          "name": "stdout",
          "text": [
            "6"
          ]
        }
      ]
    },
    {
      "cell_type": "code",
      "source": [
        "!cat /content/mlruns/0/613bc45c18564a3ab87fa0188ebf3140/metrics/auroc"
      ],
      "metadata": {
        "outputId": "67b38cea-a519-4506-d846-2a5ebbaaddba",
        "colab": {
          "base_uri": "https://localhost:8080/"
        },
        "id": "7DvkrPyeOkvd"
      },
      "execution_count": 73,
      "outputs": [
        {
          "output_type": "stream",
          "name": "stdout",
          "text": [
            "1662122624530 0.849894291754757 0\n"
          ]
        }
      ]
    },
    {
      "cell_type": "code",
      "source": [
        "!cat /content/mlruns/0/613bc45c18564a3ab87fa0188ebf3140/metrics/f1"
      ],
      "metadata": {
        "outputId": "9febc73f-60a1-494a-df32-120482b0133f",
        "colab": {
          "base_uri": "https://localhost:8080/"
        },
        "id": "dvcNRtshOkve"
      },
      "execution_count": 74,
      "outputs": [
        {
          "output_type": "stream",
          "name": "stdout",
          "text": [
            "1662122624531 0.8148418621868618 0\n"
          ]
        }
      ]
    },
    {
      "cell_type": "code",
      "source": [
        "!cat /content/mlruns/0/613bc45c18564a3ab87fa0188ebf3140/metrics/accuracy"
      ],
      "metadata": {
        "outputId": "c438f311-1d7b-4e20-d75c-3e7a1e449b4b",
        "colab": {
          "base_uri": "https://localhost:8080/"
        },
        "id": "QV8k5haEOkve"
      },
      "execution_count": 75,
      "outputs": [
        {
          "output_type": "stream",
          "name": "stdout",
          "text": [
            "1662122624530 0.8488271068635969 0\n"
          ]
        }
      ]
    },
    {
      "cell_type": "markdown",
      "source": [
        "#### Tentativa 2\n",
        "\n",
        "```\n",
        "n_estimators = 200\n",
        "learning_rate = 1e-2\n",
        "max_depth = 6\n",
        "```\n",
        "\n"
      ],
      "metadata": {
        "id": "KGR9qV21O1YX"
      }
    },
    {
      "cell_type": "code",
      "source": [
        "n_estimators = 200\n",
        "learning_rate = 1e-2\n",
        "max_depth = 6"
      ],
      "metadata": {
        "id": "n75zVAlRO1YX"
      },
      "execution_count": 76,
      "outputs": []
    },
    {
      "cell_type": "code",
      "source": [
        "with mlflow.start_run():\n",
        "  xgb = XGBClassifier(random_state=RANDOM_STATE, n_estimators=n_estimators, learning_rate=learning_rate, max_depth=max_depth)\n",
        "  xgb.fit(X_train, y_train)\n",
        "\n",
        "  y_pred = xgb.predict(X_val)\n",
        "  y_proba = xgb.predict_proba(X_val)\n",
        "\n",
        "  (acc, auroc, f1) = eval_metrics(y_val, y_pred, y_proba)\n",
        "\n",
        "  mlflow.log_param(\"n_estimators\", n_estimators)\n",
        "  mlflow.log_param(\"lr\", learning_rate)\n",
        "  mlflow.log_param(\"max_depth\", max_depth)\n",
        "  mlflow.log_metric(\"accuracy\", acc)\n",
        "  mlflow.log_metric(\"auroc\", auroc)\n",
        "  mlflow.log_metric(\"f1\", f1)\n",
        "\n",
        "  tracking_url_type_store = urlparse(mlflow.get_tracking_uri()).scheme\n",
        "\n",
        "  # Model registry does not work with file store\n",
        "  if tracking_url_type_store != \"file\":\n",
        "    # Register the model\n",
        "    # There are other ways to use the Model Registry, which depends on the use case,\n",
        "    # please refer to the doc for more information:\n",
        "    # https://mlflow.org/docs/latest/model-registry.html#api-workflow\n",
        "    mlflow.sklearn.log_model(xgb, \"model\", registered_model_name=\"XGB_NBA_Undrafted\")\n",
        "  else:\n",
        "    mlflow.sklearn.log_model(xgb, \"model\")"
      ],
      "metadata": {
        "id": "BZT7_mSRO1YX"
      },
      "execution_count": 77,
      "outputs": []
    },
    {
      "cell_type": "code",
      "source": [
        "!cat /content/mlruns/0/77d126395a034941bffff89e73f026d4/params/n_estimators"
      ],
      "metadata": {
        "outputId": "0d7860e4-d7a2-481d-b5d2-3030169df9dc",
        "colab": {
          "base_uri": "https://localhost:8080/"
        },
        "id": "oRUXScfnO1YX"
      },
      "execution_count": 78,
      "outputs": [
        {
          "output_type": "stream",
          "name": "stdout",
          "text": [
            "200"
          ]
        }
      ]
    },
    {
      "cell_type": "code",
      "source": [
        "!cat /content/mlruns/0/77d126395a034941bffff89e73f026d4/params/lr"
      ],
      "metadata": {
        "outputId": "f6114e97-72bd-450e-ee09-99e92be81f0a",
        "colab": {
          "base_uri": "https://localhost:8080/"
        },
        "id": "bBjdxxp_O1YX"
      },
      "execution_count": 79,
      "outputs": [
        {
          "output_type": "stream",
          "name": "stdout",
          "text": [
            "0.01"
          ]
        }
      ]
    },
    {
      "cell_type": "code",
      "source": [
        "!cat /content/mlruns/0/77d126395a034941bffff89e73f026d4/params/max_depth"
      ],
      "metadata": {
        "outputId": "68ef79c8-d2ba-4b33-f0df-df0c2260ec2f",
        "colab": {
          "base_uri": "https://localhost:8080/"
        },
        "id": "1EcEklL3O1YY"
      },
      "execution_count": 80,
      "outputs": [
        {
          "output_type": "stream",
          "name": "stdout",
          "text": [
            "6"
          ]
        }
      ]
    },
    {
      "cell_type": "code",
      "source": [
        "!cat /content/mlruns/0/77d126395a034941bffff89e73f026d4/metrics/auroc"
      ],
      "metadata": {
        "outputId": "96597089-0c0a-44a0-e3ec-9f5ef441b070",
        "colab": {
          "base_uri": "https://localhost:8080/"
        },
        "id": "DJkt9wBmO1YY"
      },
      "execution_count": 81,
      "outputs": [
        {
          "output_type": "stream",
          "name": "stdout",
          "text": [
            "1662122750497 0.7895787139689578 0\n"
          ]
        }
      ]
    },
    {
      "cell_type": "code",
      "source": [
        "!cat /content/mlruns/0/77d126395a034941bffff89e73f026d4/metrics/f1"
      ],
      "metadata": {
        "outputId": "a4987368-5fc2-44f4-f5f7-c67c6c54789a",
        "colab": {
          "base_uri": "https://localhost:8080/"
        },
        "id": "ZScEZ_o0O1YY"
      },
      "execution_count": 82,
      "outputs": [
        {
          "output_type": "stream",
          "name": "stdout",
          "text": [
            "1662122750498 0.7717092944984212 0\n"
          ]
        }
      ]
    },
    {
      "cell_type": "code",
      "source": [
        "!cat /content/mlruns/0/77d126395a034941bffff89e73f026d4/metrics/accuracy"
      ],
      "metadata": {
        "outputId": "f7b06920-1ef2-4ad5-f920-14ebedb7acef",
        "colab": {
          "base_uri": "https://localhost:8080/"
        },
        "id": "7w99AOafO1YY"
      },
      "execution_count": 83,
      "outputs": [
        {
          "output_type": "stream",
          "name": "stdout",
          "text": [
            "1662122750496 0.8297132927888793 0\n"
          ]
        }
      ]
    },
    {
      "cell_type": "markdown",
      "source": [
        "#### Tentativa 3\n",
        "\n",
        "```\n",
        "n_estimators = 200\n",
        "learning_rate = 1e-2\n",
        "max_depth = 15\n",
        "```\n",
        "\n"
      ],
      "metadata": {
        "id": "knAXjvF6QBum"
      }
    },
    {
      "cell_type": "code",
      "source": [
        "n_estimators = 200\n",
        "learning_rate = 1e-2\n",
        "max_depth = 15"
      ],
      "metadata": {
        "id": "HqeCzIErQBut"
      },
      "execution_count": 84,
      "outputs": []
    },
    {
      "cell_type": "code",
      "source": [
        "with mlflow.start_run():\n",
        "  xgb = XGBClassifier(random_state=RANDOM_STATE, n_estimators=n_estimators, learning_rate=learning_rate, max_depth=max_depth)\n",
        "  xgb.fit(X_train, y_train)\n",
        "\n",
        "  y_pred = xgb.predict(X_val)\n",
        "  y_proba = xgb.predict_proba(X_val)\n",
        "\n",
        "  (acc, auroc, f1) = eval_metrics(y_val, y_pred, y_proba)\n",
        "\n",
        "  mlflow.log_param(\"n_estimators\", n_estimators)\n",
        "  mlflow.log_param(\"lr\", learning_rate)\n",
        "  mlflow.log_param(\"max_depth\", max_depth)\n",
        "  mlflow.log_metric(\"accuracy\", acc)\n",
        "  mlflow.log_metric(\"auroc\", auroc)\n",
        "  mlflow.log_metric(\"f1\", f1)\n",
        "\n",
        "  tracking_url_type_store = urlparse(mlflow.get_tracking_uri()).scheme\n",
        "\n",
        "  # Model registry does not work with file store\n",
        "  if tracking_url_type_store != \"file\":\n",
        "    # Register the model\n",
        "    # There are other ways to use the Model Registry, which depends on the use case,\n",
        "    # please refer to the doc for more information:\n",
        "    # https://mlflow.org/docs/latest/model-registry.html#api-workflow\n",
        "    mlflow.sklearn.log_model(xgb, \"model\", registered_model_name=\"XGB_NBA_Undrafted\")\n",
        "  else:\n",
        "    mlflow.sklearn.log_model(xgb, \"model\")"
      ],
      "metadata": {
        "id": "PJKECCaJQBut"
      },
      "execution_count": 85,
      "outputs": []
    },
    {
      "cell_type": "code",
      "source": [
        "!cat /content/mlruns/0/5dcb815a2ad94bdfbd0ce1488408cd19/params/n_estimators"
      ],
      "metadata": {
        "outputId": "91be4a51-c258-4217-b549-6f5301fe4111",
        "colab": {
          "base_uri": "https://localhost:8080/"
        },
        "id": "yNxxm796QBut"
      },
      "execution_count": 87,
      "outputs": [
        {
          "output_type": "stream",
          "name": "stdout",
          "text": [
            "200"
          ]
        }
      ]
    },
    {
      "cell_type": "code",
      "source": [
        "!cat /content/mlruns/0/5dcb815a2ad94bdfbd0ce1488408cd19/params/lr"
      ],
      "metadata": {
        "outputId": "a8dbaf67-89f0-43b3-ef2f-0b39892dbbad",
        "colab": {
          "base_uri": "https://localhost:8080/"
        },
        "id": "gvmK46LLQBuu"
      },
      "execution_count": 88,
      "outputs": [
        {
          "output_type": "stream",
          "name": "stdout",
          "text": [
            "0.01"
          ]
        }
      ]
    },
    {
      "cell_type": "code",
      "source": [
        "!cat /content/mlruns/0/5dcb815a2ad94bdfbd0ce1488408cd19/params/max_depth"
      ],
      "metadata": {
        "outputId": "02d91322-d5ff-4db8-ae7b-563ea98b1f83",
        "colab": {
          "base_uri": "https://localhost:8080/"
        },
        "id": "oe8WJusKQBuu"
      },
      "execution_count": 86,
      "outputs": [
        {
          "output_type": "stream",
          "name": "stdout",
          "text": [
            "15"
          ]
        }
      ]
    },
    {
      "cell_type": "code",
      "source": [
        "!cat /content/mlruns/0/5dcb815a2ad94bdfbd0ce1488408cd19/metrics/auroc"
      ],
      "metadata": {
        "outputId": "d52fd1bf-a73b-444d-8c39-99415d32d466",
        "colab": {
          "base_uri": "https://localhost:8080/"
        },
        "id": "MeanPmY-QBuu"
      },
      "execution_count": 89,
      "outputs": [
        {
          "output_type": "stream",
          "name": "stdout",
          "text": [
            "1662123052672 0.8274377352653018 0\n"
          ]
        }
      ]
    },
    {
      "cell_type": "code",
      "source": [
        "!cat /content/mlruns/0/5dcb815a2ad94bdfbd0ce1488408cd19/metrics/f1"
      ],
      "metadata": {
        "outputId": "df4d64e2-b0a1-492b-a7cb-3e1f15639c34",
        "colab": {
          "base_uri": "https://localhost:8080/"
        },
        "id": "VCoxdCHaQBuu"
      },
      "execution_count": 90,
      "outputs": [
        {
          "output_type": "stream",
          "name": "stdout",
          "text": [
            "1662123052673 0.799668596929013 0\n"
          ]
        }
      ]
    },
    {
      "cell_type": "code",
      "source": [
        "!cat /content/mlruns/0/5dcb815a2ad94bdfbd0ce1488408cd19/metrics/accuracy"
      ],
      "metadata": {
        "outputId": "155fe94e-e474-4c13-86a5-26a1a9059eab",
        "colab": {
          "base_uri": "https://localhost:8080/"
        },
        "id": "yPrpabHdQBuu"
      },
      "execution_count": 91,
      "outputs": [
        {
          "output_type": "stream",
          "name": "stdout",
          "text": [
            "1662123052671 0.8340573414422241 0\n"
          ]
        }
      ]
    }
  ]
}