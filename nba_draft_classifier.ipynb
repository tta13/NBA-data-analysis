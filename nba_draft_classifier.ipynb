{
  "nbformat": 4,
  "nbformat_minor": 0,
  "metadata": {
    "colab": {
      "provenance": [],
      "collapsed_sections": [],
      "authorship_tag": "ABX9TyNrfUVi60CVXCg8uXmVVVKJ"
    },
    "kernelspec": {
      "name": "python3",
      "display_name": "Python 3"
    },
    "language_info": {
      "name": "python"
    }
  },
  "cells": [
    {
      "cell_type": "markdown",
      "source": [
        "# Classificador de draft da NBA\n",
        "O objetivo do modelo é, a partir dos dados das temporadas 1996-97 a 2021-22, classificar corretamente se o jogador é *undrafted*, ou seja, não foi draftado.\n",
        "\n",
        "Passo a passo:\n",
        "* Escolha do problema ✔\n",
        "* Separação dos dados em treino, validação e teste ✔\n",
        "* Selecionar algoritmos para resolver o problema \n",
        "* Adicionar MLFlow no treinamento dos modelos\n",
        "* Executar uma ferramenta de seleção de hiper-parâmetros\n",
        "* Realizar diagnóstico do melhor modelo e melhorá-lo a partir disso"
      ],
      "metadata": {
        "id": "PJfJvnM4GaO_"
      }
    },
    {
      "cell_type": "markdown",
      "source": [
        "## Dependências"
      ],
      "metadata": {
        "id": "e7eqhDsqGwzI"
      }
    },
    {
      "cell_type": "code",
      "source": [
        "import pandas as pd\n",
        "from sklearn.model_selection import train_test_split\n",
        "from sklearn.neural_network import MLPClassifier\n",
        "from sklearn.metrics import f1_score\n",
        "from sklearn.linear_model import LogisticRegression\n",
        "from sklearn.ensemble import RandomForestClassifier\n",
        "from xgboost import XGBClassifier"
      ],
      "metadata": {
        "id": "THYbQrQqHEe_"
      },
      "execution_count": 13,
      "outputs": []
    },
    {
      "cell_type": "code",
      "execution_count": 2,
      "metadata": {
        "colab": {
          "base_uri": "https://localhost:8080/"
        },
        "id": "mbZf1HDwGWwK",
        "outputId": "d2b9f0c2-acda-46cb-8c27-706a9ba3fa9e"
      },
      "outputs": [
        {
          "output_type": "stream",
          "name": "stdout",
          "text": [
            "Mounted at /content/drive\n"
          ]
        }
      ],
      "source": [
        "from google.colab import drive\n",
        "drive.mount('/content/drive')"
      ]
    },
    {
      "cell_type": "code",
      "source": [
        "# Path Tales\n",
        "path = '/content/drive/MyDrive/2022.1/TA GDI/projeto1/data/classification.csv'"
      ],
      "metadata": {
        "id": "Ia1wXqZUG99m"
      },
      "execution_count": 3,
      "outputs": []
    },
    {
      "cell_type": "code",
      "source": [
        "dataset = pd.read_csv(path)"
      ],
      "metadata": {
        "id": "gLJi0q33G6Vu"
      },
      "execution_count": 4,
      "outputs": []
    },
    {
      "cell_type": "code",
      "source": [
        "dataset.head()"
      ],
      "metadata": {
        "colab": {
          "base_uri": "https://localhost:8080/",
          "height": 300
        },
        "id": "Leeat6W5H1dc",
        "outputId": "07bb10b4-ae91-4da8-cc23-fdca10be5fc8"
      },
      "execution_count": 5,
      "outputs": [
        {
          "output_type": "execute_result",
          "data": {
            "text/plain": [
              "   player_name  team_abbreviation       age  player_height  player_weight  \\\n",
              "0         2071                 16  0.153846       0.750000       0.485714   \n",
              "1         1475                 13  0.461538       0.678571       0.485714   \n",
              "2         1466                  2  0.423077       0.714286       0.533333   \n",
              "3         1465                  9  0.153846       0.642857       0.485714   \n",
              "4         1464                 35  0.153846       0.535714       0.438095   \n",
              "\n",
              "   college  country  draft_year  draft_round  draft_number  ...  oreb_pct  \\\n",
              "0       65       72    0.568966        0.125      0.175758  ...     0.127   \n",
              "1      117       72         NaN          NaN           NaN  ...     0.016   \n",
              "2      227       72         NaN          NaN           NaN  ...     0.083   \n",
              "3      189       72    0.568966        0.125      0.151515  ...     0.109   \n",
              "4      249       72    0.551724        0.250      0.303030  ...     0.087   \n",
              "\n",
              "   dreb_pct  usg_pct  ts_pct  ast_pct  season  undrafted  season_start_year  \\\n",
              "0     0.182    0.142   0.536    0.052       0        0.0                0.0   \n",
              "1     0.115    0.151   0.535    0.099       0        1.0                0.0   \n",
              "2     0.152    0.167   0.542    0.101       0        1.0                0.0   \n",
              "3     0.118    0.233   0.482    0.114       0        0.0                0.0   \n",
              "4     0.045    0.135   0.470    0.125       0        0.0                0.0   \n",
              "\n",
              "   season_end_year    gp_pct  \n",
              "0              0.0  0.865854  \n",
              "1              0.0  0.865854  \n",
              "2              0.0  0.902439  \n",
              "3              0.0  0.512195  \n",
              "4              0.0  0.109756  \n",
              "\n",
              "[5 rows x 25 columns]"
            ],
            "text/html": [
              "\n",
              "  <div id=\"df-43fdb2c6-f889-4e3c-ba3f-6608e4c5f982\">\n",
              "    <div class=\"colab-df-container\">\n",
              "      <div>\n",
              "<style scoped>\n",
              "    .dataframe tbody tr th:only-of-type {\n",
              "        vertical-align: middle;\n",
              "    }\n",
              "\n",
              "    .dataframe tbody tr th {\n",
              "        vertical-align: top;\n",
              "    }\n",
              "\n",
              "    .dataframe thead th {\n",
              "        text-align: right;\n",
              "    }\n",
              "</style>\n",
              "<table border=\"1\" class=\"dataframe\">\n",
              "  <thead>\n",
              "    <tr style=\"text-align: right;\">\n",
              "      <th></th>\n",
              "      <th>player_name</th>\n",
              "      <th>team_abbreviation</th>\n",
              "      <th>age</th>\n",
              "      <th>player_height</th>\n",
              "      <th>player_weight</th>\n",
              "      <th>college</th>\n",
              "      <th>country</th>\n",
              "      <th>draft_year</th>\n",
              "      <th>draft_round</th>\n",
              "      <th>draft_number</th>\n",
              "      <th>...</th>\n",
              "      <th>oreb_pct</th>\n",
              "      <th>dreb_pct</th>\n",
              "      <th>usg_pct</th>\n",
              "      <th>ts_pct</th>\n",
              "      <th>ast_pct</th>\n",
              "      <th>season</th>\n",
              "      <th>undrafted</th>\n",
              "      <th>season_start_year</th>\n",
              "      <th>season_end_year</th>\n",
              "      <th>gp_pct</th>\n",
              "    </tr>\n",
              "  </thead>\n",
              "  <tbody>\n",
              "    <tr>\n",
              "      <th>0</th>\n",
              "      <td>2071</td>\n",
              "      <td>16</td>\n",
              "      <td>0.153846</td>\n",
              "      <td>0.750000</td>\n",
              "      <td>0.485714</td>\n",
              "      <td>65</td>\n",
              "      <td>72</td>\n",
              "      <td>0.568966</td>\n",
              "      <td>0.125</td>\n",
              "      <td>0.175758</td>\n",
              "      <td>...</td>\n",
              "      <td>0.127</td>\n",
              "      <td>0.182</td>\n",
              "      <td>0.142</td>\n",
              "      <td>0.536</td>\n",
              "      <td>0.052</td>\n",
              "      <td>0</td>\n",
              "      <td>0.0</td>\n",
              "      <td>0.0</td>\n",
              "      <td>0.0</td>\n",
              "      <td>0.865854</td>\n",
              "    </tr>\n",
              "    <tr>\n",
              "      <th>1</th>\n",
              "      <td>1475</td>\n",
              "      <td>13</td>\n",
              "      <td>0.461538</td>\n",
              "      <td>0.678571</td>\n",
              "      <td>0.485714</td>\n",
              "      <td>117</td>\n",
              "      <td>72</td>\n",
              "      <td>NaN</td>\n",
              "      <td>NaN</td>\n",
              "      <td>NaN</td>\n",
              "      <td>...</td>\n",
              "      <td>0.016</td>\n",
              "      <td>0.115</td>\n",
              "      <td>0.151</td>\n",
              "      <td>0.535</td>\n",
              "      <td>0.099</td>\n",
              "      <td>0</td>\n",
              "      <td>1.0</td>\n",
              "      <td>0.0</td>\n",
              "      <td>0.0</td>\n",
              "      <td>0.865854</td>\n",
              "    </tr>\n",
              "    <tr>\n",
              "      <th>2</th>\n",
              "      <td>1466</td>\n",
              "      <td>2</td>\n",
              "      <td>0.423077</td>\n",
              "      <td>0.714286</td>\n",
              "      <td>0.533333</td>\n",
              "      <td>227</td>\n",
              "      <td>72</td>\n",
              "      <td>NaN</td>\n",
              "      <td>NaN</td>\n",
              "      <td>NaN</td>\n",
              "      <td>...</td>\n",
              "      <td>0.083</td>\n",
              "      <td>0.152</td>\n",
              "      <td>0.167</td>\n",
              "      <td>0.542</td>\n",
              "      <td>0.101</td>\n",
              "      <td>0</td>\n",
              "      <td>1.0</td>\n",
              "      <td>0.0</td>\n",
              "      <td>0.0</td>\n",
              "      <td>0.902439</td>\n",
              "    </tr>\n",
              "    <tr>\n",
              "      <th>3</th>\n",
              "      <td>1465</td>\n",
              "      <td>9</td>\n",
              "      <td>0.153846</td>\n",
              "      <td>0.642857</td>\n",
              "      <td>0.485714</td>\n",
              "      <td>189</td>\n",
              "      <td>72</td>\n",
              "      <td>0.568966</td>\n",
              "      <td>0.125</td>\n",
              "      <td>0.151515</td>\n",
              "      <td>...</td>\n",
              "      <td>0.109</td>\n",
              "      <td>0.118</td>\n",
              "      <td>0.233</td>\n",
              "      <td>0.482</td>\n",
              "      <td>0.114</td>\n",
              "      <td>0</td>\n",
              "      <td>0.0</td>\n",
              "      <td>0.0</td>\n",
              "      <td>0.0</td>\n",
              "      <td>0.512195</td>\n",
              "    </tr>\n",
              "    <tr>\n",
              "      <th>4</th>\n",
              "      <td>1464</td>\n",
              "      <td>35</td>\n",
              "      <td>0.153846</td>\n",
              "      <td>0.535714</td>\n",
              "      <td>0.438095</td>\n",
              "      <td>249</td>\n",
              "      <td>72</td>\n",
              "      <td>0.551724</td>\n",
              "      <td>0.250</td>\n",
              "      <td>0.303030</td>\n",
              "      <td>...</td>\n",
              "      <td>0.087</td>\n",
              "      <td>0.045</td>\n",
              "      <td>0.135</td>\n",
              "      <td>0.470</td>\n",
              "      <td>0.125</td>\n",
              "      <td>0</td>\n",
              "      <td>0.0</td>\n",
              "      <td>0.0</td>\n",
              "      <td>0.0</td>\n",
              "      <td>0.109756</td>\n",
              "    </tr>\n",
              "  </tbody>\n",
              "</table>\n",
              "<p>5 rows × 25 columns</p>\n",
              "</div>\n",
              "      <button class=\"colab-df-convert\" onclick=\"convertToInteractive('df-43fdb2c6-f889-4e3c-ba3f-6608e4c5f982')\"\n",
              "              title=\"Convert this dataframe to an interactive table.\"\n",
              "              style=\"display:none;\">\n",
              "        \n",
              "  <svg xmlns=\"http://www.w3.org/2000/svg\" height=\"24px\"viewBox=\"0 0 24 24\"\n",
              "       width=\"24px\">\n",
              "    <path d=\"M0 0h24v24H0V0z\" fill=\"none\"/>\n",
              "    <path d=\"M18.56 5.44l.94 2.06.94-2.06 2.06-.94-2.06-.94-.94-2.06-.94 2.06-2.06.94zm-11 1L8.5 8.5l.94-2.06 2.06-.94-2.06-.94L8.5 2.5l-.94 2.06-2.06.94zm10 10l.94 2.06.94-2.06 2.06-.94-2.06-.94-.94-2.06-.94 2.06-2.06.94z\"/><path d=\"M17.41 7.96l-1.37-1.37c-.4-.4-.92-.59-1.43-.59-.52 0-1.04.2-1.43.59L10.3 9.45l-7.72 7.72c-.78.78-.78 2.05 0 2.83L4 21.41c.39.39.9.59 1.41.59.51 0 1.02-.2 1.41-.59l7.78-7.78 2.81-2.81c.8-.78.8-2.07 0-2.86zM5.41 20L4 18.59l7.72-7.72 1.47 1.35L5.41 20z\"/>\n",
              "  </svg>\n",
              "      </button>\n",
              "      \n",
              "  <style>\n",
              "    .colab-df-container {\n",
              "      display:flex;\n",
              "      flex-wrap:wrap;\n",
              "      gap: 12px;\n",
              "    }\n",
              "\n",
              "    .colab-df-convert {\n",
              "      background-color: #E8F0FE;\n",
              "      border: none;\n",
              "      border-radius: 50%;\n",
              "      cursor: pointer;\n",
              "      display: none;\n",
              "      fill: #1967D2;\n",
              "      height: 32px;\n",
              "      padding: 0 0 0 0;\n",
              "      width: 32px;\n",
              "    }\n",
              "\n",
              "    .colab-df-convert:hover {\n",
              "      background-color: #E2EBFA;\n",
              "      box-shadow: 0px 1px 2px rgba(60, 64, 67, 0.3), 0px 1px 3px 1px rgba(60, 64, 67, 0.15);\n",
              "      fill: #174EA6;\n",
              "    }\n",
              "\n",
              "    [theme=dark] .colab-df-convert {\n",
              "      background-color: #3B4455;\n",
              "      fill: #D2E3FC;\n",
              "    }\n",
              "\n",
              "    [theme=dark] .colab-df-convert:hover {\n",
              "      background-color: #434B5C;\n",
              "      box-shadow: 0px 1px 3px 1px rgba(0, 0, 0, 0.15);\n",
              "      filter: drop-shadow(0px 1px 2px rgba(0, 0, 0, 0.3));\n",
              "      fill: #FFFFFF;\n",
              "    }\n",
              "  </style>\n",
              "\n",
              "      <script>\n",
              "        const buttonEl =\n",
              "          document.querySelector('#df-43fdb2c6-f889-4e3c-ba3f-6608e4c5f982 button.colab-df-convert');\n",
              "        buttonEl.style.display =\n",
              "          google.colab.kernel.accessAllowed ? 'block' : 'none';\n",
              "\n",
              "        async function convertToInteractive(key) {\n",
              "          const element = document.querySelector('#df-43fdb2c6-f889-4e3c-ba3f-6608e4c5f982');\n",
              "          const dataTable =\n",
              "            await google.colab.kernel.invokeFunction('convertToInteractive',\n",
              "                                                     [key], {});\n",
              "          if (!dataTable) return;\n",
              "\n",
              "          const docLinkHtml = 'Like what you see? Visit the ' +\n",
              "            '<a target=\"_blank\" href=https://colab.research.google.com/notebooks/data_table.ipynb>data table notebook</a>'\n",
              "            + ' to learn more about interactive tables.';\n",
              "          element.innerHTML = '';\n",
              "          dataTable['output_type'] = 'display_data';\n",
              "          await google.colab.output.renderOutput(dataTable, element);\n",
              "          const docLink = document.createElement('div');\n",
              "          docLink.innerHTML = docLinkHtml;\n",
              "          element.appendChild(docLink);\n",
              "        }\n",
              "      </script>\n",
              "    </div>\n",
              "  </div>\n",
              "  "
            ]
          },
          "metadata": {},
          "execution_count": 5
        }
      ]
    },
    {
      "cell_type": "code",
      "source": [
        "dataset.groupby(['undrafted'])['player_name'].count()"
      ],
      "metadata": {
        "colab": {
          "base_uri": "https://localhost:8080/"
        },
        "id": "Vio_Z_hNL6bz",
        "outputId": "009a1aae-6047-428b-9a70-8738bc734668"
      },
      "execution_count": 12,
      "outputs": [
        {
          "output_type": "execute_result",
          "data": {
            "text/plain": [
              "undrafted\n",
              "0.0    9629\n",
              "1.0    1875\n",
              "Name: player_name, dtype: int64"
            ]
          },
          "metadata": {},
          "execution_count": 12
        }
      ]
    },
    {
      "cell_type": "markdown",
      "source": [
        "## Separação dos conjuntos de treino, validação e teste"
      ],
      "metadata": {
        "id": "ExKQUnZPH38z"
      }
    },
    {
      "cell_type": "code",
      "source": [
        "RANDOM_STATE = 42"
      ],
      "metadata": {
        "id": "ta4Ksm2PKsb8"
      },
      "execution_count": 10,
      "outputs": []
    },
    {
      "cell_type": "code",
      "source": [
        "dataset.columns"
      ],
      "metadata": {
        "colab": {
          "base_uri": "https://localhost:8080/"
        },
        "id": "xVZ_6CLBH7Is",
        "outputId": "4416d176-2d90-4a4d-83c3-3305194d30b8"
      },
      "execution_count": 6,
      "outputs": [
        {
          "output_type": "execute_result",
          "data": {
            "text/plain": [
              "Index(['player_name', 'team_abbreviation', 'age', 'player_height',\n",
              "       'player_weight', 'college', 'country', 'draft_year', 'draft_round',\n",
              "       'draft_number', 'gp', 'pts', 'reb', 'ast', 'net_rating', 'oreb_pct',\n",
              "       'dreb_pct', 'usg_pct', 'ts_pct', 'ast_pct', 'season', 'undrafted',\n",
              "       'season_start_year', 'season_end_year', 'gp_pct'],\n",
              "      dtype='object')"
            ]
          },
          "metadata": {},
          "execution_count": 6
        }
      ]
    },
    {
      "cell_type": "markdown",
      "source": [
        "Escolhemos as colunas de altura, peso, faculdade, país, jogos realizados e métricas de desempenho (pts, reb, ast...) para compor o conjunto de features e a coluna 'undrafted' é nossa label"
      ],
      "metadata": {
        "id": "xKozGNDBJHiX"
      }
    },
    {
      "cell_type": "code",
      "source": [
        "X = dataset[['player_height', 'player_weight', 'college', 'country', \n",
        "             'gp', 'pts', 'reb', 'ast', 'net_rating', 'oreb_pct',\n",
        "             'dreb_pct', 'usg_pct', 'ts_pct', 'ast_pct']]\n",
        "y = dataset['undrafted']\n",
        "X.shape, y.shape"
      ],
      "metadata": {
        "colab": {
          "base_uri": "https://localhost:8080/"
        },
        "id": "zupxjVukJFcS",
        "outputId": "cab28708-18fa-41f3-bf35-df89823caee0"
      },
      "execution_count": 8,
      "outputs": [
        {
          "output_type": "execute_result",
          "data": {
            "text/plain": [
              "((11504, 14), (11504,))"
            ]
          },
          "metadata": {},
          "execution_count": 8
        }
      ]
    },
    {
      "cell_type": "markdown",
      "source": [
        "Designamos 70% dos dados para teste, 20% para treino e 10% para validação"
      ],
      "metadata": {
        "id": "GhYvbWJ7KA4X"
      }
    },
    {
      "cell_type": "code",
      "source": [
        "X_train, X_test, y_train, y_test = train_test_split(X, y, test_size=0.2, random_state=RANDOM_STATE)\n",
        "X_train, X_val, y_train, y_val = train_test_split(X_train, y_train, test_size=0.125, random_state=RANDOM_STATE)\n",
        "\n",
        "X_train.shape, X_val.shape, X_test.shape"
      ],
      "metadata": {
        "colab": {
          "base_uri": "https://localhost:8080/"
        },
        "id": "xjsVXc5vJFKX",
        "outputId": "399a329c-102a-40e3-ce11-4c89ee9d5c43"
      },
      "execution_count": 11,
      "outputs": [
        {
          "output_type": "execute_result",
          "data": {
            "text/plain": [
              "((8052, 14), (1151, 14), (2301, 14))"
            ]
          },
          "metadata": {},
          "execution_count": 11
        }
      ]
    },
    {
      "cell_type": "markdown",
      "source": [
        "## Seleção de algoritmos\n",
        "Selecionamos os seguintes para resolução do problema de classificação:\n",
        "* MLP\n",
        "* RandomForest\n",
        "* XGBoost\n",
        "* LogisticRegression\n",
        "Além disso, como notamos que o dataset é bem desbalanceado, utilizaremos o f1 score como métrica de treinamento."
      ],
      "metadata": {
        "id": "XTb7ZLb2K761"
      }
    },
    {
      "cell_type": "markdown",
      "source": [
        "### MLPs"
      ],
      "metadata": {
        "id": "pd6l89HGLtro"
      }
    },
    {
      "cell_type": "code",
      "source": [
        "EPOCHS=500"
      ],
      "metadata": {
        "id": "aBhJjqn0NtSi"
      },
      "execution_count": 14,
      "outputs": []
    },
    {
      "cell_type": "markdown",
      "source": [
        "#### Default"
      ],
      "metadata": {
        "id": "VRKunS7bNqM6"
      }
    },
    {
      "cell_type": "markdown",
      "source": [
        "Realizando o treino do modelo"
      ],
      "metadata": {
        "id": "Qi9oXU45QE62"
      }
    },
    {
      "cell_type": "code",
      "source": [
        "mlp = MLPClassifier(random_state=RANDOM_STATE, max_iter=EPOCHS).fit(X_train, y_train)"
      ],
      "metadata": {
        "id": "gCyL6iXMLs9o"
      },
      "execution_count": 15,
      "outputs": []
    },
    {
      "cell_type": "markdown",
      "source": [
        "Validando:"
      ],
      "metadata": {
        "id": "g7b6e5A5Odgi"
      }
    },
    {
      "cell_type": "code",
      "source": [
        "y_pred = mlp.predict(X_val)\n",
        "f1_score(y_val, y_pred, average='weighted')"
      ],
      "metadata": {
        "colab": {
          "base_uri": "https://localhost:8080/"
        },
        "id": "QT3Jb1X9OZgK",
        "outputId": "b05ada5d-23ca-4f93-a78f-32980c03fcd7"
      },
      "execution_count": 18,
      "outputs": [
        {
          "output_type": "execute_result",
          "data": {
            "text/plain": [
              "0.754230082735617"
            ]
          },
          "metadata": {},
          "execution_count": 18
        }
      ]
    },
    {
      "cell_type": "markdown",
      "source": [
        "#### Tentativa 2\n",
        "\n",
        "\n",
        "```\n",
        "hidden_layers = (10,10)\n",
        "```\n",
        "\n"
      ],
      "metadata": {
        "id": "BQvdNFw8QY_e"
      }
    },
    {
      "cell_type": "code",
      "source": [
        "mlp = MLPClassifier(random_state=RANDOM_STATE, max_iter=EPOCHS, hidden_layer_sizes=(10, 10)).fit(X_train, y_train)"
      ],
      "metadata": {
        "id": "kemjEmrrQruA"
      },
      "execution_count": 21,
      "outputs": []
    },
    {
      "cell_type": "markdown",
      "source": [
        "Validando:"
      ],
      "metadata": {
        "id": "AVv9PzN7Qu0n"
      }
    },
    {
      "cell_type": "code",
      "source": [
        "y_pred = mlp.predict(X_val)\n",
        "f1_score(y_val, y_pred, average='weighted')"
      ],
      "metadata": {
        "colab": {
          "base_uri": "https://localhost:8080/"
        },
        "outputId": "7bdcba87-eb48-4f7b-dc90-0bb11623aa38",
        "id": "2VyecD4kQu0o"
      },
      "execution_count": 22,
      "outputs": [
        {
          "output_type": "execute_result",
          "data": {
            "text/plain": [
              "0.7431908403435481"
            ]
          },
          "metadata": {},
          "execution_count": 22
        }
      ]
    },
    {
      "cell_type": "markdown",
      "source": [
        "#### Tentativa 3\n",
        "\n",
        "```\n",
        "hidden_layers = (10,10)\n",
        "activation = 'logistic'\n",
        "```\n",
        "\n",
        "\n"
      ],
      "metadata": {
        "id": "nv5LpMtnOuQX"
      }
    },
    {
      "cell_type": "code",
      "source": [
        "mlp = MLPClassifier(random_state=RANDOM_STATE, max_iter=EPOCHS, hidden_layer_sizes=(10, 10), activation='logistic').fit(X_train, y_train)"
      ],
      "metadata": {
        "id": "axGt8VYyP6n_"
      },
      "execution_count": 19,
      "outputs": []
    },
    {
      "cell_type": "markdown",
      "source": [
        "Validando:"
      ],
      "metadata": {
        "id": "1yjpUC5OQQcr"
      }
    },
    {
      "cell_type": "code",
      "source": [
        "y_pred = mlp.predict(X_val)\n",
        "f1_score(y_val, y_pred, average='weighted')"
      ],
      "metadata": {
        "colab": {
          "base_uri": "https://localhost:8080/"
        },
        "outputId": "fdebc8fb-e3a3-4d50-ac02-4f464b686e67",
        "id": "ZHoaNXdqQQct"
      },
      "execution_count": 20,
      "outputs": [
        {
          "output_type": "execute_result",
          "data": {
            "text/plain": [
              "0.7456095918283264"
            ]
          },
          "metadata": {},
          "execution_count": 20
        }
      ]
    }
  ]
}