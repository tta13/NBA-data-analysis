{
  "nbformat": 4,
  "nbformat_minor": 0,
  "metadata": {
    "colab": {
      "provenance": [],
      "collapsed_sections": [],
      "authorship_tag": "ABX9TyNMBL/uX3ciKjbV7oumxfAK"
    },
    "kernelspec": {
      "name": "python3",
      "display_name": "Python 3"
    },
    "language_info": {
      "name": "python"
    }
  },
  "cells": [
    {
      "cell_type": "markdown",
      "source": [
        "# Classificador de draft da NBA\n",
        "O objetivo do modelo é, a partir dos dados das temporadas 1996-97 a 2021-22, classificar corretamente se o jogador é *undrafted*, ou seja, não foi draftado.\n",
        "\n",
        "Passo a passo:\n",
        "* Escolha do problema ✔\n",
        "* Separação dos dados em treino, validação e teste ✔\n",
        "* Selecionar algoritmos para resolver o problema ✔\n",
        "* Adicionar MLFlow no treinamento dos modelos ✔\n",
        "* Executar uma ferramenta de seleção de hiper-parâmetros ✔\n",
        "* Realizar diagnóstico do melhor modelo e melhorá-lo a partir disso"
      ],
      "metadata": {
        "id": "PJfJvnM4GaO_"
      }
    },
    {
      "cell_type": "markdown",
      "source": [
        "## Dependências"
      ],
      "metadata": {
        "id": "e7eqhDsqGwzI"
      }
    },
    {
      "cell_type": "code",
      "source": [
        "!pip install mlflow"
      ],
      "metadata": {
        "id": "5R6drsFKg1se"
      },
      "execution_count": null,
      "outputs": []
    },
    {
      "cell_type": "code",
      "source": [
        "import pandas as pd\n",
        "from sklearn.model_selection import train_test_split\n",
        "from sklearn.neural_network import MLPClassifier\n",
        "from sklearn.metrics import f1_score, roc_auc_score, accuracy_score\n",
        "from sklearn.linear_model import LogisticRegression\n",
        "from sklearn.ensemble import RandomForestClassifier\n",
        "from xgboost import XGBClassifier\n",
        "import mlflow\n",
        "import mlflow.sklearn\n",
        "from urllib.parse import urlparse"
      ],
      "metadata": {
        "id": "THYbQrQqHEe_"
      },
      "execution_count": 2,
      "outputs": []
    },
    {
      "cell_type": "code",
      "execution_count": 3,
      "metadata": {
        "colab": {
          "base_uri": "https://localhost:8080/"
        },
        "id": "mbZf1HDwGWwK",
        "outputId": "1159440d-59c3-439c-ee42-749bb426e702"
      },
      "outputs": [
        {
          "output_type": "stream",
          "name": "stdout",
          "text": [
            "Mounted at /content/drive\n"
          ]
        }
      ],
      "source": [
        "from google.colab import drive\n",
        "drive.mount('/content/drive')"
      ]
    },
    {
      "cell_type": "markdown",
      "source": [
        "## Carregando o dataset"
      ],
      "metadata": {
        "id": "gm2qLjq5B5KS"
      }
    },
    {
      "cell_type": "code",
      "source": [
        "# Path Tales\n",
        "path = '/content/drive/MyDrive/2022.1/TA GDI/projeto1/data/classification.csv'"
      ],
      "metadata": {
        "id": "Ia1wXqZUG99m"
      },
      "execution_count": 6,
      "outputs": []
    },
    {
      "cell_type": "code",
      "source": [
        "dataset = pd.read_csv(path)"
      ],
      "metadata": {
        "id": "gLJi0q33G6Vu"
      },
      "execution_count": 7,
      "outputs": []
    },
    {
      "cell_type": "code",
      "source": [
        "dataset.head()"
      ],
      "metadata": {
        "colab": {
          "base_uri": "https://localhost:8080/",
          "height": 300
        },
        "id": "Leeat6W5H1dc",
        "outputId": "29512f5d-84cc-411c-cb65-13ea4e2b4c8c"
      },
      "execution_count": 8,
      "outputs": [
        {
          "output_type": "execute_result",
          "data": {
            "text/plain": [
              "   player_name  team_abbreviation       age  player_height  player_weight  \\\n",
              "0         2071                 16  0.153846       0.750000       0.485714   \n",
              "1         1475                 13  0.461538       0.678571       0.485714   \n",
              "2         1466                  2  0.423077       0.714286       0.533333   \n",
              "3         1465                  9  0.153846       0.642857       0.485714   \n",
              "4         1464                 35  0.153846       0.535714       0.438095   \n",
              "\n",
              "   college  country  draft_year  draft_round  draft_number  ...  oreb_pct  \\\n",
              "0       65       72    0.568966        0.125      0.175758  ...     0.127   \n",
              "1      117       72         NaN          NaN           NaN  ...     0.016   \n",
              "2      227       72         NaN          NaN           NaN  ...     0.083   \n",
              "3      189       72    0.568966        0.125      0.151515  ...     0.109   \n",
              "4      249       72    0.551724        0.250      0.303030  ...     0.087   \n",
              "\n",
              "   dreb_pct  usg_pct  ts_pct  ast_pct  season  undrafted  season_start_year  \\\n",
              "0     0.182    0.142   0.536    0.052       0        0.0                0.0   \n",
              "1     0.115    0.151   0.535    0.099       0        1.0                0.0   \n",
              "2     0.152    0.167   0.542    0.101       0        1.0                0.0   \n",
              "3     0.118    0.233   0.482    0.114       0        0.0                0.0   \n",
              "4     0.045    0.135   0.470    0.125       0        0.0                0.0   \n",
              "\n",
              "   season_end_year    gp_pct  \n",
              "0              0.0  0.865854  \n",
              "1              0.0  0.865854  \n",
              "2              0.0  0.902439  \n",
              "3              0.0  0.512195  \n",
              "4              0.0  0.109756  \n",
              "\n",
              "[5 rows x 25 columns]"
            ],
            "text/html": [
              "\n",
              "  <div id=\"df-bc63b79a-c240-4fd8-90b8-b2032c5c12c0\">\n",
              "    <div class=\"colab-df-container\">\n",
              "      <div>\n",
              "<style scoped>\n",
              "    .dataframe tbody tr th:only-of-type {\n",
              "        vertical-align: middle;\n",
              "    }\n",
              "\n",
              "    .dataframe tbody tr th {\n",
              "        vertical-align: top;\n",
              "    }\n",
              "\n",
              "    .dataframe thead th {\n",
              "        text-align: right;\n",
              "    }\n",
              "</style>\n",
              "<table border=\"1\" class=\"dataframe\">\n",
              "  <thead>\n",
              "    <tr style=\"text-align: right;\">\n",
              "      <th></th>\n",
              "      <th>player_name</th>\n",
              "      <th>team_abbreviation</th>\n",
              "      <th>age</th>\n",
              "      <th>player_height</th>\n",
              "      <th>player_weight</th>\n",
              "      <th>college</th>\n",
              "      <th>country</th>\n",
              "      <th>draft_year</th>\n",
              "      <th>draft_round</th>\n",
              "      <th>draft_number</th>\n",
              "      <th>...</th>\n",
              "      <th>oreb_pct</th>\n",
              "      <th>dreb_pct</th>\n",
              "      <th>usg_pct</th>\n",
              "      <th>ts_pct</th>\n",
              "      <th>ast_pct</th>\n",
              "      <th>season</th>\n",
              "      <th>undrafted</th>\n",
              "      <th>season_start_year</th>\n",
              "      <th>season_end_year</th>\n",
              "      <th>gp_pct</th>\n",
              "    </tr>\n",
              "  </thead>\n",
              "  <tbody>\n",
              "    <tr>\n",
              "      <th>0</th>\n",
              "      <td>2071</td>\n",
              "      <td>16</td>\n",
              "      <td>0.153846</td>\n",
              "      <td>0.750000</td>\n",
              "      <td>0.485714</td>\n",
              "      <td>65</td>\n",
              "      <td>72</td>\n",
              "      <td>0.568966</td>\n",
              "      <td>0.125</td>\n",
              "      <td>0.175758</td>\n",
              "      <td>...</td>\n",
              "      <td>0.127</td>\n",
              "      <td>0.182</td>\n",
              "      <td>0.142</td>\n",
              "      <td>0.536</td>\n",
              "      <td>0.052</td>\n",
              "      <td>0</td>\n",
              "      <td>0.0</td>\n",
              "      <td>0.0</td>\n",
              "      <td>0.0</td>\n",
              "      <td>0.865854</td>\n",
              "    </tr>\n",
              "    <tr>\n",
              "      <th>1</th>\n",
              "      <td>1475</td>\n",
              "      <td>13</td>\n",
              "      <td>0.461538</td>\n",
              "      <td>0.678571</td>\n",
              "      <td>0.485714</td>\n",
              "      <td>117</td>\n",
              "      <td>72</td>\n",
              "      <td>NaN</td>\n",
              "      <td>NaN</td>\n",
              "      <td>NaN</td>\n",
              "      <td>...</td>\n",
              "      <td>0.016</td>\n",
              "      <td>0.115</td>\n",
              "      <td>0.151</td>\n",
              "      <td>0.535</td>\n",
              "      <td>0.099</td>\n",
              "      <td>0</td>\n",
              "      <td>1.0</td>\n",
              "      <td>0.0</td>\n",
              "      <td>0.0</td>\n",
              "      <td>0.865854</td>\n",
              "    </tr>\n",
              "    <tr>\n",
              "      <th>2</th>\n",
              "      <td>1466</td>\n",
              "      <td>2</td>\n",
              "      <td>0.423077</td>\n",
              "      <td>0.714286</td>\n",
              "      <td>0.533333</td>\n",
              "      <td>227</td>\n",
              "      <td>72</td>\n",
              "      <td>NaN</td>\n",
              "      <td>NaN</td>\n",
              "      <td>NaN</td>\n",
              "      <td>...</td>\n",
              "      <td>0.083</td>\n",
              "      <td>0.152</td>\n",
              "      <td>0.167</td>\n",
              "      <td>0.542</td>\n",
              "      <td>0.101</td>\n",
              "      <td>0</td>\n",
              "      <td>1.0</td>\n",
              "      <td>0.0</td>\n",
              "      <td>0.0</td>\n",
              "      <td>0.902439</td>\n",
              "    </tr>\n",
              "    <tr>\n",
              "      <th>3</th>\n",
              "      <td>1465</td>\n",
              "      <td>9</td>\n",
              "      <td>0.153846</td>\n",
              "      <td>0.642857</td>\n",
              "      <td>0.485714</td>\n",
              "      <td>189</td>\n",
              "      <td>72</td>\n",
              "      <td>0.568966</td>\n",
              "      <td>0.125</td>\n",
              "      <td>0.151515</td>\n",
              "      <td>...</td>\n",
              "      <td>0.109</td>\n",
              "      <td>0.118</td>\n",
              "      <td>0.233</td>\n",
              "      <td>0.482</td>\n",
              "      <td>0.114</td>\n",
              "      <td>0</td>\n",
              "      <td>0.0</td>\n",
              "      <td>0.0</td>\n",
              "      <td>0.0</td>\n",
              "      <td>0.512195</td>\n",
              "    </tr>\n",
              "    <tr>\n",
              "      <th>4</th>\n",
              "      <td>1464</td>\n",
              "      <td>35</td>\n",
              "      <td>0.153846</td>\n",
              "      <td>0.535714</td>\n",
              "      <td>0.438095</td>\n",
              "      <td>249</td>\n",
              "      <td>72</td>\n",
              "      <td>0.551724</td>\n",
              "      <td>0.250</td>\n",
              "      <td>0.303030</td>\n",
              "      <td>...</td>\n",
              "      <td>0.087</td>\n",
              "      <td>0.045</td>\n",
              "      <td>0.135</td>\n",
              "      <td>0.470</td>\n",
              "      <td>0.125</td>\n",
              "      <td>0</td>\n",
              "      <td>0.0</td>\n",
              "      <td>0.0</td>\n",
              "      <td>0.0</td>\n",
              "      <td>0.109756</td>\n",
              "    </tr>\n",
              "  </tbody>\n",
              "</table>\n",
              "<p>5 rows × 25 columns</p>\n",
              "</div>\n",
              "      <button class=\"colab-df-convert\" onclick=\"convertToInteractive('df-bc63b79a-c240-4fd8-90b8-b2032c5c12c0')\"\n",
              "              title=\"Convert this dataframe to an interactive table.\"\n",
              "              style=\"display:none;\">\n",
              "        \n",
              "  <svg xmlns=\"http://www.w3.org/2000/svg\" height=\"24px\"viewBox=\"0 0 24 24\"\n",
              "       width=\"24px\">\n",
              "    <path d=\"M0 0h24v24H0V0z\" fill=\"none\"/>\n",
              "    <path d=\"M18.56 5.44l.94 2.06.94-2.06 2.06-.94-2.06-.94-.94-2.06-.94 2.06-2.06.94zm-11 1L8.5 8.5l.94-2.06 2.06-.94-2.06-.94L8.5 2.5l-.94 2.06-2.06.94zm10 10l.94 2.06.94-2.06 2.06-.94-2.06-.94-.94-2.06-.94 2.06-2.06.94z\"/><path d=\"M17.41 7.96l-1.37-1.37c-.4-.4-.92-.59-1.43-.59-.52 0-1.04.2-1.43.59L10.3 9.45l-7.72 7.72c-.78.78-.78 2.05 0 2.83L4 21.41c.39.39.9.59 1.41.59.51 0 1.02-.2 1.41-.59l7.78-7.78 2.81-2.81c.8-.78.8-2.07 0-2.86zM5.41 20L4 18.59l7.72-7.72 1.47 1.35L5.41 20z\"/>\n",
              "  </svg>\n",
              "      </button>\n",
              "      \n",
              "  <style>\n",
              "    .colab-df-container {\n",
              "      display:flex;\n",
              "      flex-wrap:wrap;\n",
              "      gap: 12px;\n",
              "    }\n",
              "\n",
              "    .colab-df-convert {\n",
              "      background-color: #E8F0FE;\n",
              "      border: none;\n",
              "      border-radius: 50%;\n",
              "      cursor: pointer;\n",
              "      display: none;\n",
              "      fill: #1967D2;\n",
              "      height: 32px;\n",
              "      padding: 0 0 0 0;\n",
              "      width: 32px;\n",
              "    }\n",
              "\n",
              "    .colab-df-convert:hover {\n",
              "      background-color: #E2EBFA;\n",
              "      box-shadow: 0px 1px 2px rgba(60, 64, 67, 0.3), 0px 1px 3px 1px rgba(60, 64, 67, 0.15);\n",
              "      fill: #174EA6;\n",
              "    }\n",
              "\n",
              "    [theme=dark] .colab-df-convert {\n",
              "      background-color: #3B4455;\n",
              "      fill: #D2E3FC;\n",
              "    }\n",
              "\n",
              "    [theme=dark] .colab-df-convert:hover {\n",
              "      background-color: #434B5C;\n",
              "      box-shadow: 0px 1px 3px 1px rgba(0, 0, 0, 0.15);\n",
              "      filter: drop-shadow(0px 1px 2px rgba(0, 0, 0, 0.3));\n",
              "      fill: #FFFFFF;\n",
              "    }\n",
              "  </style>\n",
              "\n",
              "      <script>\n",
              "        const buttonEl =\n",
              "          document.querySelector('#df-bc63b79a-c240-4fd8-90b8-b2032c5c12c0 button.colab-df-convert');\n",
              "        buttonEl.style.display =\n",
              "          google.colab.kernel.accessAllowed ? 'block' : 'none';\n",
              "\n",
              "        async function convertToInteractive(key) {\n",
              "          const element = document.querySelector('#df-bc63b79a-c240-4fd8-90b8-b2032c5c12c0');\n",
              "          const dataTable =\n",
              "            await google.colab.kernel.invokeFunction('convertToInteractive',\n",
              "                                                     [key], {});\n",
              "          if (!dataTable) return;\n",
              "\n",
              "          const docLinkHtml = 'Like what you see? Visit the ' +\n",
              "            '<a target=\"_blank\" href=https://colab.research.google.com/notebooks/data_table.ipynb>data table notebook</a>'\n",
              "            + ' to learn more about interactive tables.';\n",
              "          element.innerHTML = '';\n",
              "          dataTable['output_type'] = 'display_data';\n",
              "          await google.colab.output.renderOutput(dataTable, element);\n",
              "          const docLink = document.createElement('div');\n",
              "          docLink.innerHTML = docLinkHtml;\n",
              "          element.appendChild(docLink);\n",
              "        }\n",
              "      </script>\n",
              "    </div>\n",
              "  </div>\n",
              "  "
            ]
          },
          "metadata": {},
          "execution_count": 8
        }
      ]
    },
    {
      "cell_type": "code",
      "source": [
        "dataset.groupby(['undrafted'])['player_name'].count()"
      ],
      "metadata": {
        "colab": {
          "base_uri": "https://localhost:8080/"
        },
        "id": "Vio_Z_hNL6bz",
        "outputId": "0024458b-ae98-4704-dd99-1f63cf3c4256"
      },
      "execution_count": 9,
      "outputs": [
        {
          "output_type": "execute_result",
          "data": {
            "text/plain": [
              "undrafted\n",
              "0.0    9629\n",
              "1.0    1875\n",
              "Name: player_name, dtype: int64"
            ]
          },
          "metadata": {},
          "execution_count": 9
        }
      ]
    },
    {
      "cell_type": "markdown",
      "source": [
        "Como podemos observar, nosso dataset é desbalanceado com relação a categoria 'undrafted'."
      ],
      "metadata": {
        "id": "0-0IFSlaCCEk"
      }
    },
    {
      "cell_type": "markdown",
      "source": [
        "## Separação dos conjuntos de treino, validação e teste"
      ],
      "metadata": {
        "id": "ExKQUnZPH38z"
      }
    },
    {
      "cell_type": "code",
      "source": [
        "RANDOM_STATE = 42"
      ],
      "metadata": {
        "id": "ta4Ksm2PKsb8"
      },
      "execution_count": 10,
      "outputs": []
    },
    {
      "cell_type": "code",
      "source": [
        "dataset.columns"
      ],
      "metadata": {
        "colab": {
          "base_uri": "https://localhost:8080/"
        },
        "id": "xVZ_6CLBH7Is",
        "outputId": "05e16b37-8f8c-4be9-b541-819e03e7910b"
      },
      "execution_count": 11,
      "outputs": [
        {
          "output_type": "execute_result",
          "data": {
            "text/plain": [
              "Index(['player_name', 'team_abbreviation', 'age', 'player_height',\n",
              "       'player_weight', 'college', 'country', 'draft_year', 'draft_round',\n",
              "       'draft_number', 'gp', 'pts', 'reb', 'ast', 'net_rating', 'oreb_pct',\n",
              "       'dreb_pct', 'usg_pct', 'ts_pct', 'ast_pct', 'season', 'undrafted',\n",
              "       'season_start_year', 'season_end_year', 'gp_pct'],\n",
              "      dtype='object')"
            ]
          },
          "metadata": {},
          "execution_count": 11
        }
      ]
    },
    {
      "cell_type": "markdown",
      "source": [
        "Escolhemos as colunas de altura, peso, faculdade, país, jogos realizados e métricas de desempenho (pts, reb, ast...) para compor o conjunto de features e a coluna 'undrafted' é nossa label"
      ],
      "metadata": {
        "id": "xKozGNDBJHiX"
      }
    },
    {
      "cell_type": "code",
      "source": [
        "X = dataset[['player_height', 'player_weight', 'college', 'country', \n",
        "             'gp', 'pts', 'reb', 'ast', 'net_rating', 'oreb_pct',\n",
        "             'dreb_pct', 'usg_pct', 'ts_pct', 'ast_pct']]\n",
        "y = dataset['undrafted']\n",
        "X.shape, y.shape"
      ],
      "metadata": {
        "colab": {
          "base_uri": "https://localhost:8080/"
        },
        "id": "zupxjVukJFcS",
        "outputId": "efc601c3-63f4-40bc-f344-98b709786c2d"
      },
      "execution_count": 12,
      "outputs": [
        {
          "output_type": "execute_result",
          "data": {
            "text/plain": [
              "((11504, 14), (11504,))"
            ]
          },
          "metadata": {},
          "execution_count": 12
        }
      ]
    },
    {
      "cell_type": "markdown",
      "source": [
        "Designamos 70% dos dados para treino, 20% para teste e 10% para validação"
      ],
      "metadata": {
        "id": "GhYvbWJ7KA4X"
      }
    },
    {
      "cell_type": "code",
      "source": [
        "X_train, X_test, y_train, y_test = train_test_split(X, y, test_size=0.2, random_state=RANDOM_STATE)\n",
        "X_train, X_val, y_train, y_val = train_test_split(X_train, y_train, test_size=0.125, random_state=RANDOM_STATE)\n",
        "\n",
        "X_train.shape, X_val.shape, X_test.shape"
      ],
      "metadata": {
        "colab": {
          "base_uri": "https://localhost:8080/"
        },
        "id": "xjsVXc5vJFKX",
        "outputId": "b706f090-4f8c-4cab-ae5d-09a59f0946d8"
      },
      "execution_count": 13,
      "outputs": [
        {
          "output_type": "execute_result",
          "data": {
            "text/plain": [
              "((8052, 14), (1151, 14), (2301, 14))"
            ]
          },
          "metadata": {},
          "execution_count": 13
        }
      ]
    },
    {
      "cell_type": "markdown",
      "source": [
        "## Seleção de algoritmos\n",
        "Selecionamos os seguintes para resolução do problema de classificação:\n",
        "* MLP\n",
        "* RandomForest\n",
        "* XGBoost\n",
        "* LogisticRegression\n",
        "\n",
        "Ademais, como notamos que o dataset é bem desbalanceado, utilizaremos o f1 score como métrica principal na validação, além de AUROC e accuracy."
      ],
      "metadata": {
        "id": "XTb7ZLb2K761"
      }
    },
    {
      "cell_type": "code",
      "source": [
        "def eval_metrics(y_true, y_pred, y_proba):\n",
        "  f1 = f1_score(y_true, y_pred, average='weighted')\n",
        "  acc = accuracy_score(y_true, y_pred)\n",
        "  auroc = roc_auc_score(y_true, y_proba[:, 1])\n",
        "  return acc, auroc, f1"
      ],
      "metadata": {
        "id": "mH4FTfYZh5zQ"
      },
      "execution_count": 14,
      "outputs": []
    },
    {
      "cell_type": "markdown",
      "source": [
        "### MLPs\n",
        "No algoritmo MLP, vamos variar os parâmetros `hidden_layer_sizes` (número de neurônios nas camadas escondidas), `activation` (função de ativação dos neurônios) e `solver` que otimiza a atualização dos pesos."
      ],
      "metadata": {
        "id": "pd6l89HGLtro"
      }
    },
    {
      "cell_type": "code",
      "source": [
        "EPOCHS=1000"
      ],
      "metadata": {
        "id": "aBhJjqn0NtSi"
      },
      "execution_count": 96,
      "outputs": []
    },
    {
      "cell_type": "markdown",
      "source": [
        "#### Tentativa 1"
      ],
      "metadata": {
        "id": "VRKunS7bNqM6"
      }
    },
    {
      "cell_type": "code",
      "source": [
        "hidden_layer_sizes=(100,)\n",
        "activation='relu'\n",
        "solver='adam'"
      ],
      "metadata": {
        "id": "pUjx7YCZiyF1"
      },
      "execution_count": null,
      "outputs": []
    },
    {
      "cell_type": "code",
      "source": [
        "with mlflow.start_run():\n",
        "  mlp = MLPClassifier(random_state=RANDOM_STATE, max_iter=EPOCHS, hidden_layer_sizes=hidden_layer_sizes, activation=activation, solver=solver)\n",
        "  mlp.fit(X_train, y_train)\n",
        "\n",
        "  y_pred = mlp.predict(X_val)\n",
        "  y_proba = mlp.predict_proba(X_val)\n",
        "\n",
        "  (acc, auroc, f1) = eval_metrics(y_val, y_pred, y_proba)\n",
        "\n",
        "  mlflow.log_param(\"hidden_layer_sizes\", hidden_layer_sizes)\n",
        "  mlflow.log_param(\"activation\", activation)\n",
        "  mlflow.log_param(\"solver\", solver)\n",
        "  mlflow.log_metric(\"accuracy\", acc)\n",
        "  mlflow.log_metric(\"auroc\", auroc)\n",
        "  mlflow.log_metric(\"f1\", f1)\n",
        "\n",
        "  tracking_url_type_store = urlparse(mlflow.get_tracking_uri()).scheme\n",
        "\n",
        "  # Model registry does not work with file store\n",
        "  if tracking_url_type_store != \"file\":\n",
        "    # Register the model\n",
        "    # There are other ways to use the Model Registry, which depends on the use case,\n",
        "    # please refer to the doc for more information:\n",
        "    # https://mlflow.org/docs/latest/model-registry.html#api-workflow\n",
        "    mlflow.sklearn.log_model(mlp, \"model\", registered_model_name=\"MLP_NBA_Undrafted\")\n",
        "  else:\n",
        "    mlflow.sklearn.log_model(mlp, \"model\")"
      ],
      "metadata": {
        "id": "AuG_R7QnhrSD"
      },
      "execution_count": null,
      "outputs": []
    },
    {
      "cell_type": "code",
      "source": [
        "!less /content/mlruns/0/b5f8ad22854f4b568521073bda44aa34/params/activation"
      ],
      "metadata": {
        "colab": {
          "base_uri": "https://localhost:8080/"
        },
        "id": "OTpS6u24jkfj",
        "outputId": "d7c0bf27-ffd4-49b5-c4cd-cf4bd3f762e8"
      },
      "execution_count": null,
      "outputs": [
        {
          "output_type": "stream",
          "name": "stdout",
          "text": [
            "relu\n",
            "\u001b[K\u001b[?1l\u001b>\u001b[2J\u001b[?47l\u001b8"
          ]
        }
      ]
    },
    {
      "cell_type": "code",
      "source": [
        "!less /content/mlruns/0/b5f8ad22854f4b568521073bda44aa34/params/hidden_layer_sizes"
      ],
      "metadata": {
        "colab": {
          "base_uri": "https://localhost:8080/"
        },
        "id": "qXQPU2ikniGC",
        "outputId": "63d20db8-c75d-4261-84ff-02f06886c93e"
      },
      "execution_count": null,
      "outputs": [
        {
          "output_type": "stream",
          "name": "stdout",
          "text": [
            "(100,)\n",
            "\u001b[K\u001b[?1l\u001b>\u001b[2J\u001b[?47l\u001b8"
          ]
        }
      ]
    },
    {
      "cell_type": "code",
      "source": [
        "!less /content/mlruns/0/b5f8ad22854f4b568521073bda44aa34/params/solver"
      ],
      "metadata": {
        "colab": {
          "base_uri": "https://localhost:8080/"
        },
        "id": "uCj8-429nibL",
        "outputId": "98c85a13-d14c-455e-c564-16e5904ca258"
      },
      "execution_count": null,
      "outputs": [
        {
          "output_type": "stream",
          "name": "stdout",
          "text": [
            "adam\n",
            "\u001b[K\u001b[?1l\u001b>\u001b[2J\u001b[?47l\u001b8"
          ]
        }
      ]
    },
    {
      "cell_type": "code",
      "source": [
        "!less /content/mlruns/0/b5f8ad22854f4b568521073bda44aa34/metrics/auroc"
      ],
      "metadata": {
        "colab": {
          "base_uri": "https://localhost:8080/"
        },
        "id": "l-mSe7CekBpZ",
        "outputId": "df9d8c1d-fe2d-4996-949b-075e5570499b"
      },
      "execution_count": null,
      "outputs": [
        {
          "output_type": "stream",
          "name": "stdout",
          "text": [
            "1662078783968 0.7446037229928325 0\n",
            "\u001b[K\u001b[?1l\u001b>\u001b[2J\u001b[?47l\u001b8"
          ]
        }
      ]
    },
    {
      "cell_type": "code",
      "source": [
        "!less /content/mlruns/0/b5f8ad22854f4b568521073bda44aa34/metrics/f1"
      ],
      "metadata": {
        "colab": {
          "base_uri": "https://localhost:8080/"
        },
        "id": "7iYKxU6TnWdp",
        "outputId": "553dc2af-52c0-4867-bb18-36dc6ba543b4"
      },
      "execution_count": null,
      "outputs": [
        {
          "output_type": "stream",
          "name": "stdout",
          "text": [
            "1662078783970 0.754230082735617 0\n",
            "\u001b[K\u001b[?1l\u001b>\u001b[2J\u001b[?47l\u001b8"
          ]
        }
      ]
    },
    {
      "cell_type": "code",
      "source": [
        "!less /content/mlruns/0/b5f8ad22854f4b568521073bda44aa34/metrics/accuracy"
      ],
      "metadata": {
        "colab": {
          "base_uri": "https://localhost:8080/"
        },
        "id": "63QFVWAFnqRj",
        "outputId": "9816d4d1-189f-4765-db5e-9bbd27bf0c5d"
      },
      "execution_count": null,
      "outputs": [
        {
          "output_type": "stream",
          "name": "stdout",
          "text": [
            "1662078783967 0.8201563857515204 0\n",
            "\u001b[K\u001b[?1l\u001b>\u001b[2J\u001b[?47l\u001b8"
          ]
        }
      ]
    },
    {
      "cell_type": "markdown",
      "source": [
        "#### Tentativa 2\n",
        "\n",
        "\n",
        "```\n",
        "hidden_layers = (10,10)\n",
        "```\n",
        "\n"
      ],
      "metadata": {
        "id": "BQvdNFw8QY_e"
      }
    },
    {
      "cell_type": "code",
      "source": [
        "hidden_layer_sizes=(10, 10)\n",
        "activation='relu'\n",
        "solver='adam'"
      ],
      "metadata": {
        "id": "S_H_k2RHn0OT"
      },
      "execution_count": null,
      "outputs": []
    },
    {
      "cell_type": "code",
      "source": [
        "with mlflow.start_run():\n",
        "  mlp = MLPClassifier(random_state=RANDOM_STATE, max_iter=EPOCHS, hidden_layer_sizes=hidden_layer_sizes, activation=activation, solver=solver)\n",
        "  mlp.fit(X_train, y_train)\n",
        "\n",
        "  y_pred = mlp.predict(X_val)\n",
        "  y_proba = mlp.predict_proba(X_val)\n",
        "\n",
        "  (acc, auroc, f1) = eval_metrics(y_val, y_pred, y_proba)\n",
        "\n",
        "  mlflow.log_param(\"hidden_layer_sizes\", hidden_layer_sizes)\n",
        "  mlflow.log_param(\"activation\", activation)\n",
        "  mlflow.log_param(\"solver\", solver)\n",
        "  mlflow.log_metric(\"accuracy\", acc)\n",
        "  mlflow.log_metric(\"auroc\", auroc)\n",
        "  mlflow.log_metric(\"f1\", f1)\n",
        "\n",
        "  tracking_url_type_store = urlparse(mlflow.get_tracking_uri()).scheme\n",
        "\n",
        "  # Model registry does not work with file store\n",
        "  if tracking_url_type_store != \"file\":\n",
        "    # Register the model\n",
        "    # There are other ways to use the Model Registry, which depends on the use case,\n",
        "    # please refer to the doc for more information:\n",
        "    # https://mlflow.org/docs/latest/model-registry.html#api-workflow\n",
        "    mlflow.sklearn.log_model(mlp, \"model\", registered_model_name=\"MLP_NBA_Undrafted\")\n",
        "  else:\n",
        "    mlflow.sklearn.log_model(mlp, \"model\")"
      ],
      "metadata": {
        "id": "EfshK61In0OT"
      },
      "execution_count": null,
      "outputs": []
    },
    {
      "cell_type": "code",
      "source": [
        "!cat /content/mlruns/0/dac45b74013a437bae0dfae8d95fe6f1/params/activation"
      ],
      "metadata": {
        "outputId": "7878900a-9083-4b57-815e-33fc59872178",
        "colab": {
          "base_uri": "https://localhost:8080/"
        },
        "id": "hka0WiD6n0OT"
      },
      "execution_count": null,
      "outputs": [
        {
          "output_type": "stream",
          "name": "stdout",
          "text": [
            "relu"
          ]
        }
      ]
    },
    {
      "cell_type": "code",
      "source": [
        "!cat /content/mlruns/0/dac45b74013a437bae0dfae8d95fe6f1/params/hidden_layer_sizes"
      ],
      "metadata": {
        "outputId": "4e2fddb2-7838-454b-d360-ce05d2cd11f4",
        "colab": {
          "base_uri": "https://localhost:8080/"
        },
        "id": "5h1m_TkTn0OT"
      },
      "execution_count": null,
      "outputs": [
        {
          "output_type": "stream",
          "name": "stdout",
          "text": [
            "(10, 10)"
          ]
        }
      ]
    },
    {
      "cell_type": "code",
      "source": [
        "!cat /content/mlruns/0/dac45b74013a437bae0dfae8d95fe6f1/params/solver"
      ],
      "metadata": {
        "outputId": "dffc2faa-150d-499d-ef18-5c3d4b1441d9",
        "colab": {
          "base_uri": "https://localhost:8080/"
        },
        "id": "eGelSMBjn0OU"
      },
      "execution_count": null,
      "outputs": [
        {
          "output_type": "stream",
          "name": "stdout",
          "text": [
            "adam"
          ]
        }
      ]
    },
    {
      "cell_type": "code",
      "source": [
        "!cat /content/mlruns/0/dac45b74013a437bae0dfae8d95fe6f1/metrics/auroc"
      ],
      "metadata": {
        "outputId": "6b4f2503-d616-4943-df53-20991ffe8681",
        "colab": {
          "base_uri": "https://localhost:8080/"
        },
        "id": "HNg4KYRkn0OU"
      },
      "execution_count": null,
      "outputs": [
        {
          "output_type": "stream",
          "name": "stdout",
          "text": [
            "1662078957608 0.7428969215696385 0\n"
          ]
        }
      ]
    },
    {
      "cell_type": "code",
      "source": [
        "!cat /content/mlruns/0/dac45b74013a437bae0dfae8d95fe6f1/metrics/f1"
      ],
      "metadata": {
        "outputId": "0dd9b2ea-3693-490a-d16f-bc82c970d380",
        "colab": {
          "base_uri": "https://localhost:8080/"
        },
        "id": "Ipa0Rrsxn0OU"
      },
      "execution_count": null,
      "outputs": [
        {
          "output_type": "stream",
          "name": "stdout",
          "text": [
            "1662078957610 0.7431908403435481 0\n"
          ]
        }
      ]
    },
    {
      "cell_type": "code",
      "source": [
        "!cat /content/mlruns/0/dac45b74013a437bae0dfae8d95fe6f1/metrics/accuracy"
      ],
      "metadata": {
        "outputId": "bfac4da4-9b50-4545-e663-6abb085236ae",
        "colab": {
          "base_uri": "https://localhost:8080/"
        },
        "id": "U4MzZuGBn0OU"
      },
      "execution_count": null,
      "outputs": [
        {
          "output_type": "stream",
          "name": "stdout",
          "text": [
            "1662078957607 0.8218940052128584 0\n"
          ]
        }
      ]
    },
    {
      "cell_type": "markdown",
      "source": [
        "#### Tentativa 3\n",
        "\n",
        "```\n",
        "hidden_layers = (10,10)\n",
        "activation = 'logistic'\n",
        "solver = 'sgd'\n",
        "```\n",
        "\n",
        "\n"
      ],
      "metadata": {
        "id": "nv5LpMtnOuQX"
      }
    },
    {
      "cell_type": "code",
      "source": [
        "hidden_layer_sizes=(10, 10)\n",
        "activation='logistic'\n",
        "solver='sgd'"
      ],
      "metadata": {
        "id": "PBaD_uG4oNWw"
      },
      "execution_count": null,
      "outputs": []
    },
    {
      "cell_type": "code",
      "source": [
        "with mlflow.start_run():\n",
        "  mlp = MLPClassifier(random_state=RANDOM_STATE, max_iter=EPOCHS, hidden_layer_sizes=hidden_layer_sizes, activation=activation, solver=solver)\n",
        "  mlp.fit(X_train, y_train)\n",
        "\n",
        "  y_pred = mlp.predict(X_val)\n",
        "  y_proba = mlp.predict_proba(X_val)\n",
        "\n",
        "  (acc, auroc, f1) = eval_metrics(y_val, y_pred, y_proba)\n",
        "\n",
        "  mlflow.log_param(\"hidden_layer_sizes\", hidden_layer_sizes)\n",
        "  mlflow.log_param(\"activation\", activation)\n",
        "  mlflow.log_param(\"solver\", solver)\n",
        "  mlflow.log_metric(\"accuracy\", acc)\n",
        "  mlflow.log_metric(\"auroc\", auroc)\n",
        "  mlflow.log_metric(\"f1\", f1)\n",
        "\n",
        "  tracking_url_type_store = urlparse(mlflow.get_tracking_uri()).scheme\n",
        "\n",
        "  # Model registry does not work with file store\n",
        "  if tracking_url_type_store != \"file\":\n",
        "    # Register the model\n",
        "    # There are other ways to use the Model Registry, which depends on the use case,\n",
        "    # please refer to the doc for more information:\n",
        "    # https://mlflow.org/docs/latest/model-registry.html#api-workflow\n",
        "    mlflow.sklearn.log_model(mlp, \"model\", registered_model_name=\"MLP_NBA_Undrafted\")\n",
        "  else:\n",
        "    mlflow.sklearn.log_model(mlp, \"model\")"
      ],
      "metadata": {
        "id": "Zlh1buKHoNWw"
      },
      "execution_count": null,
      "outputs": []
    },
    {
      "cell_type": "code",
      "source": [
        "!cat /content/mlruns/0/c3f5c69195704f6f80d3a0b0c326c97d/params/activation"
      ],
      "metadata": {
        "outputId": "a8c42e11-60e3-497d-868d-dbdb489a54df",
        "colab": {
          "base_uri": "https://localhost:8080/"
        },
        "id": "4k0ok9zboNWw"
      },
      "execution_count": null,
      "outputs": [
        {
          "output_type": "stream",
          "name": "stdout",
          "text": [
            "logistic"
          ]
        }
      ]
    },
    {
      "cell_type": "code",
      "source": [
        "!cat /content/mlruns/0/c3f5c69195704f6f80d3a0b0c326c97d/params/hidden_layer_sizes"
      ],
      "metadata": {
        "outputId": "42ed2eda-23ab-4d12-a93b-ebf79025ddbb",
        "colab": {
          "base_uri": "https://localhost:8080/"
        },
        "id": "_FwhJbWcoNWx"
      },
      "execution_count": null,
      "outputs": [
        {
          "output_type": "stream",
          "name": "stdout",
          "text": [
            "(10, 10)"
          ]
        }
      ]
    },
    {
      "cell_type": "code",
      "source": [
        "!cat /content/mlruns/0/c3f5c69195704f6f80d3a0b0c326c97d/params/solver"
      ],
      "metadata": {
        "outputId": "3e7f7d99-86c9-42bc-f015-cdaed7c96bcd",
        "colab": {
          "base_uri": "https://localhost:8080/"
        },
        "id": "cVIbY7M1oNWx"
      },
      "execution_count": null,
      "outputs": [
        {
          "output_type": "stream",
          "name": "stdout",
          "text": [
            "sgd"
          ]
        }
      ]
    },
    {
      "cell_type": "code",
      "source": [
        "!cat /content/mlruns/0/c3f5c69195704f6f80d3a0b0c326c97d/metrics/auroc"
      ],
      "metadata": {
        "outputId": "68d3678c-93d0-4a0a-8c7d-5c8ff2ba31f0",
        "colab": {
          "base_uri": "https://localhost:8080/"
        },
        "id": "YGeI5r7uoNWx"
      },
      "execution_count": null,
      "outputs": [
        {
          "output_type": "stream",
          "name": "stdout",
          "text": [
            "1662079054027 0.48951683597174234 0\n"
          ]
        }
      ]
    },
    {
      "cell_type": "code",
      "source": [
        "!cat /content/mlruns/0/c3f5c69195704f6f80d3a0b0c326c97d/metrics/f1"
      ],
      "metadata": {
        "outputId": "d3a35c97-b9e5-4f9e-ae08-b404f9f8292a",
        "colab": {
          "base_uri": "https://localhost:8080/"
        },
        "id": "SRs9b1jaoNWx"
      },
      "execution_count": null,
      "outputs": [
        {
          "output_type": "stream",
          "name": "stdout",
          "text": [
            "1662079054028 0.7415467133346342 0\n"
          ]
        }
      ]
    },
    {
      "cell_type": "code",
      "source": [
        "!cat /content/mlruns/0/c3f5c69195704f6f80d3a0b0c326c97d/metrics/accuracy"
      ],
      "metadata": {
        "outputId": "4ed06a7d-53cc-400c-80e7-ac0353e3aeaa",
        "colab": {
          "base_uri": "https://localhost:8080/"
        },
        "id": "aN-cJ3Z_oNWy"
      },
      "execution_count": null,
      "outputs": [
        {
          "output_type": "stream",
          "name": "stdout",
          "text": [
            "1662079054025 0.8218940052128584 0\n"
          ]
        }
      ]
    },
    {
      "cell_type": "markdown",
      "source": [
        "### LogisticRegression\n",
        "No algoritmo LogisticRegression, variaremos os parâmetros `penalty` (especifica a norma da penalidade) e `solver` (especifica o algoritmo de otimização)."
      ],
      "metadata": {
        "id": "STil5di1C1g1"
      }
    },
    {
      "cell_type": "markdown",
      "source": [
        "#### Tentativa 1\n",
        "\n",
        "\n",
        "```\n",
        "penalty = 'l2'\n",
        "solver = 'liblinear'\n",
        "```\n",
        "\n"
      ],
      "metadata": {
        "id": "IyJqbVjzEC9i"
      }
    },
    {
      "cell_type": "code",
      "source": [
        "penalty = 'l2'\n",
        "solver = 'liblinear'"
      ],
      "metadata": {
        "id": "-TRKidCiEAkz"
      },
      "execution_count": 15,
      "outputs": []
    },
    {
      "cell_type": "code",
      "source": [
        "with mlflow.start_run():\n",
        "  lr = LogisticRegression(random_state=RANDOM_STATE, penalty=penalty, solver=solver)\n",
        "  lr.fit(X_train, y_train)\n",
        "\n",
        "  y_pred = lr.predict(X_val)\n",
        "  y_proba = lr.predict_proba(X_val)\n",
        "\n",
        "  (acc, auroc, f1) = eval_metrics(y_val, y_pred, y_proba)\n",
        "\n",
        "  mlflow.log_param(\"penalty\", penalty)\n",
        "  mlflow.log_param(\"solver\", solver)\n",
        "  mlflow.log_metric(\"accuracy\", acc)\n",
        "  mlflow.log_metric(\"auroc\", auroc)\n",
        "  mlflow.log_metric(\"f1\", f1)\n",
        "\n",
        "  tracking_url_type_store = urlparse(mlflow.get_tracking_uri()).scheme\n",
        "\n",
        "  # Model registry does not work with file store\n",
        "  if tracking_url_type_store != \"file\":\n",
        "    # Register the model\n",
        "    # There are other ways to use the Model Registry, which depends on the use case,\n",
        "    # please refer to the doc for more information:\n",
        "    # https://mlflow.org/docs/latest/model-registry.html#api-workflow\n",
        "    mlflow.sklearn.log_model(lr, \"model\", registered_model_name=\"LR_NBA_Undrafted\")\n",
        "  else:\n",
        "    mlflow.sklearn.log_model(lr, \"model\")"
      ],
      "metadata": {
        "id": "eGSrJ-E8ERSY"
      },
      "execution_count": 16,
      "outputs": []
    },
    {
      "cell_type": "code",
      "source": [
        "!cat /content/mlruns/0/8fe01fc13e704af8befc92a1931e42e2/params/penalty"
      ],
      "metadata": {
        "outputId": "af1e4d79-ccaf-410c-c095-9092d3f93043",
        "colab": {
          "base_uri": "https://localhost:8080/"
        },
        "id": "XXHfE_aiFX3U"
      },
      "execution_count": 17,
      "outputs": [
        {
          "output_type": "stream",
          "name": "stdout",
          "text": [
            "l2"
          ]
        }
      ]
    },
    {
      "cell_type": "code",
      "source": [
        "!cat /content/mlruns/0/8fe01fc13e704af8befc92a1931e42e2/params/solver"
      ],
      "metadata": {
        "outputId": "3a8f3bad-6d57-4d73-8054-cafaaed35dce",
        "colab": {
          "base_uri": "https://localhost:8080/"
        },
        "id": "ER7oTCnuFX3a"
      },
      "execution_count": 19,
      "outputs": [
        {
          "output_type": "stream",
          "name": "stdout",
          "text": [
            "liblinear"
          ]
        }
      ]
    },
    {
      "cell_type": "code",
      "source": [
        "!cat /content/mlruns/0/8fe01fc13e704af8befc92a1931e42e2/metrics/auroc"
      ],
      "metadata": {
        "outputId": "1ac5f43d-2879-4a20-f1c3-555871450a45",
        "colab": {
          "base_uri": "https://localhost:8080/"
        },
        "id": "isaWxkplFX3a"
      },
      "execution_count": 20,
      "outputs": [
        {
          "output_type": "stream",
          "name": "stdout",
          "text": [
            "1662120201332 0.7512246686948899 0\n"
          ]
        }
      ]
    },
    {
      "cell_type": "code",
      "source": [
        "!cat /content/mlruns/0/8fe01fc13e704af8befc92a1931e42e2/metrics/f1"
      ],
      "metadata": {
        "outputId": "74ded6cd-031d-4e99-b331-67b5db029bf6",
        "colab": {
          "base_uri": "https://localhost:8080/"
        },
        "id": "BI5R0MKRFX3a"
      },
      "execution_count": 21,
      "outputs": [
        {
          "output_type": "stream",
          "name": "stdout",
          "text": [
            "1662120201334 0.7538235059016244 0\n"
          ]
        }
      ]
    },
    {
      "cell_type": "code",
      "source": [
        "!cat /content/mlruns/0/8fe01fc13e704af8befc92a1931e42e2/metrics/accuracy"
      ],
      "metadata": {
        "outputId": "9e252e68-94b7-4e82-f9f4-be7909a005bd",
        "colab": {
          "base_uri": "https://localhost:8080/"
        },
        "id": "KX3XJ1ByFX3a"
      },
      "execution_count": 22,
      "outputs": [
        {
          "output_type": "stream",
          "name": "stdout",
          "text": [
            "1662120201331 0.8218940052128584 0\n"
          ]
        }
      ]
    },
    {
      "cell_type": "markdown",
      "source": [
        "#### Tentativa 2\n",
        "\n",
        "```\n",
        "penalty = 'l1'\n",
        "solver = 'saga'\n",
        "```\n",
        "\n"
      ],
      "metadata": {
        "id": "bLTKWmSGFjxT"
      }
    },
    {
      "cell_type": "code",
      "source": [
        "penalty = 'l1'\n",
        "solver = 'saga'"
      ],
      "metadata": {
        "id": "Eq29b90oFzCr"
      },
      "execution_count": 27,
      "outputs": []
    },
    {
      "cell_type": "code",
      "source": [
        "with mlflow.start_run():\n",
        "  lr = LogisticRegression(random_state=RANDOM_STATE, penalty=penalty, solver=solver)\n",
        "  lr.fit(X_train, y_train)\n",
        "\n",
        "  y_pred = lr.predict(X_val)\n",
        "  y_proba = lr.predict_proba(X_val)\n",
        "\n",
        "  (acc, auroc, f1) = eval_metrics(y_val, y_pred, y_proba)\n",
        "\n",
        "  mlflow.log_param(\"penalty\", penalty)\n",
        "  mlflow.log_param(\"solver\", solver)\n",
        "  mlflow.log_metric(\"accuracy\", acc)\n",
        "  mlflow.log_metric(\"auroc\", auroc)\n",
        "  mlflow.log_metric(\"f1\", f1)\n",
        "\n",
        "  tracking_url_type_store = urlparse(mlflow.get_tracking_uri()).scheme\n",
        "\n",
        "  # Model registry does not work with file store\n",
        "  if tracking_url_type_store != \"file\":\n",
        "    # Register the model\n",
        "    # There are other ways to use the Model Registry, which depends on the use case,\n",
        "    # please refer to the doc for more information:\n",
        "    # https://mlflow.org/docs/latest/model-registry.html#api-workflow\n",
        "    mlflow.sklearn.log_model(lr, \"model\", registered_model_name=\"LR_NBA_Undrafted\")\n",
        "  else:\n",
        "    mlflow.sklearn.log_model(lr, \"model\")"
      ],
      "metadata": {
        "colab": {
          "base_uri": "https://localhost:8080/"
        },
        "id": "bBV6jtsGFzCr",
        "outputId": "eab4a94b-7f7b-4426-9161-7f266b1ecbec"
      },
      "execution_count": 28,
      "outputs": [
        {
          "output_type": "stream",
          "name": "stderr",
          "text": [
            "/usr/local/lib/python3.7/dist-packages/sklearn/linear_model/_sag.py:354: ConvergenceWarning: The max_iter was reached which means the coef_ did not converge\n",
            "  ConvergenceWarning,\n"
          ]
        }
      ]
    },
    {
      "cell_type": "code",
      "source": [
        "!cat /content/mlruns/0/0139f9f8834842c7bbb0421e078e6e5b/params/penalty"
      ],
      "metadata": {
        "outputId": "e07131dd-43b8-4c69-92a9-7d3e5e9d979f",
        "colab": {
          "base_uri": "https://localhost:8080/"
        },
        "id": "sX9pVXSfFzCr"
      },
      "execution_count": 31,
      "outputs": [
        {
          "output_type": "stream",
          "name": "stdout",
          "text": [
            "l1"
          ]
        }
      ]
    },
    {
      "cell_type": "code",
      "source": [
        "!cat /content/mlruns/0/0139f9f8834842c7bbb0421e078e6e5b/params/solver"
      ],
      "metadata": {
        "outputId": "fbaac0fc-d56d-47e5-81d5-3798e7dec3cd",
        "colab": {
          "base_uri": "https://localhost:8080/"
        },
        "id": "h3Q4KqO3FzCs"
      },
      "execution_count": 32,
      "outputs": [
        {
          "output_type": "stream",
          "name": "stdout",
          "text": [
            "saga"
          ]
        }
      ]
    },
    {
      "cell_type": "code",
      "source": [
        "!cat /content/mlruns/0/0139f9f8834842c7bbb0421e078e6e5b/metrics/auroc"
      ],
      "metadata": {
        "outputId": "978b07dc-fce1-4fdf-f0d0-f087695fd945",
        "colab": {
          "base_uri": "https://localhost:8080/"
        },
        "id": "mYLDHEB9FzCs"
      },
      "execution_count": 33,
      "outputs": [
        {
          "output_type": "stream",
          "name": "stdout",
          "text": [
            "1662120389437 0.663234156654463 0\n"
          ]
        }
      ]
    },
    {
      "cell_type": "code",
      "source": [
        "!cat /content/mlruns/0/0139f9f8834842c7bbb0421e078e6e5b/metrics/f1"
      ],
      "metadata": {
        "outputId": "bd807fde-935a-4ed0-c53b-1ea45d84fb02",
        "colab": {
          "base_uri": "https://localhost:8080/"
        },
        "id": "HfXXgFy5FzCs"
      },
      "execution_count": 34,
      "outputs": [
        {
          "output_type": "stream",
          "name": "stdout",
          "text": [
            "1662120389438 0.7415467133346342 0\n"
          ]
        }
      ]
    },
    {
      "cell_type": "code",
      "source": [
        "!cat /content/mlruns/0/0139f9f8834842c7bbb0421e078e6e5b/metrics/accuracy"
      ],
      "metadata": {
        "outputId": "a463e981-a808-4373-b578-d0be26c1baeb",
        "colab": {
          "base_uri": "https://localhost:8080/"
        },
        "id": "QA8U5HwQFzCs"
      },
      "execution_count": 35,
      "outputs": [
        {
          "output_type": "stream",
          "name": "stdout",
          "text": [
            "1662120389436 0.8218940052128584 0\n"
          ]
        }
      ]
    },
    {
      "cell_type": "markdown",
      "source": [
        "#### Tentativa 3\n",
        "\n",
        "```\n",
        "penalty = 'elasticnet'\n",
        "solver = 'saga'\n",
        "```\n",
        "\n"
      ],
      "metadata": {
        "id": "8c2tujn7GNs5"
      }
    },
    {
      "cell_type": "code",
      "source": [
        "penalty = 'elasticnet'\n",
        "solver = 'saga'"
      ],
      "metadata": {
        "id": "63MQS4PGGWDH"
      },
      "execution_count": 36,
      "outputs": []
    },
    {
      "cell_type": "code",
      "source": [
        "with mlflow.start_run():\n",
        "  lr = LogisticRegression(random_state=RANDOM_STATE, penalty=penalty, solver=solver, l1_ratio=0.5, max_iter=1000)\n",
        "  lr.fit(X_train, y_train)\n",
        "\n",
        "  y_pred = lr.predict(X_val)\n",
        "  y_proba = lr.predict_proba(X_val)\n",
        "\n",
        "  (acc, auroc, f1) = eval_metrics(y_val, y_pred, y_proba)\n",
        "\n",
        "  mlflow.log_param(\"penalty\", penalty)\n",
        "  mlflow.log_param(\"solver\", solver)\n",
        "  mlflow.log_metric(\"accuracy\", acc)\n",
        "  mlflow.log_metric(\"auroc\", auroc)\n",
        "  mlflow.log_metric(\"f1\", f1)\n",
        "\n",
        "  tracking_url_type_store = urlparse(mlflow.get_tracking_uri()).scheme\n",
        "\n",
        "  # Model registry does not work with file store\n",
        "  if tracking_url_type_store != \"file\":\n",
        "    # Register the model\n",
        "    # There are other ways to use the Model Registry, which depends on the use case,\n",
        "    # please refer to the doc for more information:\n",
        "    # https://mlflow.org/docs/latest/model-registry.html#api-workflow\n",
        "    mlflow.sklearn.log_model(lr, \"model\", registered_model_name=\"LR_NBA_Undrafted\")\n",
        "  else:\n",
        "    mlflow.sklearn.log_model(lr, \"model\")"
      ],
      "metadata": {
        "outputId": "e5a63273-b3f8-40e6-bc93-fc2e8c489290",
        "colab": {
          "base_uri": "https://localhost:8080/"
        },
        "id": "-Oat4qm3GWDH"
      },
      "execution_count": 37,
      "outputs": [
        {
          "output_type": "stream",
          "name": "stderr",
          "text": [
            "/usr/local/lib/python3.7/dist-packages/sklearn/linear_model/_sag.py:354: ConvergenceWarning: The max_iter was reached which means the coef_ did not converge\n",
            "  ConvergenceWarning,\n"
          ]
        }
      ]
    },
    {
      "cell_type": "code",
      "source": [
        "!cat /content/mlruns/0/253e4d2f20f24254a7fc2d693159bfc1/params/penalty"
      ],
      "metadata": {
        "outputId": "c60e5650-724e-4b64-e989-2eb3172d22d3",
        "colab": {
          "base_uri": "https://localhost:8080/"
        },
        "id": "kxkuQ8CJGWDI"
      },
      "execution_count": 38,
      "outputs": [
        {
          "output_type": "stream",
          "name": "stdout",
          "text": [
            "elasticnet"
          ]
        }
      ]
    },
    {
      "cell_type": "code",
      "source": [
        "!cat /content/mlruns/0/253e4d2f20f24254a7fc2d693159bfc1/params/solver"
      ],
      "metadata": {
        "outputId": "a83b610e-cf5c-4687-f8a6-04e4bdb2365f",
        "colab": {
          "base_uri": "https://localhost:8080/"
        },
        "id": "to0B5IYzGWDI"
      },
      "execution_count": 39,
      "outputs": [
        {
          "output_type": "stream",
          "name": "stdout",
          "text": [
            "saga"
          ]
        }
      ]
    },
    {
      "cell_type": "code",
      "source": [
        "!cat /content/mlruns/0/253e4d2f20f24254a7fc2d693159bfc1/metrics/auroc"
      ],
      "metadata": {
        "outputId": "dbf63b90-3df6-42d4-9ca9-1c9eb50fee00",
        "colab": {
          "base_uri": "https://localhost:8080/"
        },
        "id": "hRWuK79rGWDI"
      },
      "execution_count": 40,
      "outputs": [
        {
          "output_type": "stream",
          "name": "stdout",
          "text": [
            "1662120583300 0.709585933068633 0\n"
          ]
        }
      ]
    },
    {
      "cell_type": "code",
      "source": [
        "!cat /content/mlruns/0/253e4d2f20f24254a7fc2d693159bfc1/metrics/f1"
      ],
      "metadata": {
        "outputId": "63f986e6-100b-44fe-84c3-c14c460f422a",
        "colab": {
          "base_uri": "https://localhost:8080/"
        },
        "id": "BD4xe8IDGWDJ"
      },
      "execution_count": 41,
      "outputs": [
        {
          "output_type": "stream",
          "name": "stdout",
          "text": [
            "1662120583302 0.7415467133346342 0\n"
          ]
        }
      ]
    },
    {
      "cell_type": "code",
      "source": [
        "!cat /content/mlruns/0/253e4d2f20f24254a7fc2d693159bfc1/metrics/accuracy"
      ],
      "metadata": {
        "outputId": "7b7be717-80e3-423f-b834-1fe32c74ea4f",
        "colab": {
          "base_uri": "https://localhost:8080/"
        },
        "id": "F4VkaJnfGWDJ"
      },
      "execution_count": 42,
      "outputs": [
        {
          "output_type": "stream",
          "name": "stdout",
          "text": [
            "1662120583299 0.8218940052128584 0\n"
          ]
        }
      ]
    },
    {
      "cell_type": "markdown",
      "source": [
        "### RandomForestClassifier\n",
        "No algoritmo RandomForest, decidimos acompanhar a variação dos parâmetros `n_estimators` (número de árvores na floresta), `criterion` (função que mede a qualidade da separação) e `max_depth` (altera a profundidade máxima das árvores)."
      ],
      "metadata": {
        "id": "aXWFaAduHPzI"
      }
    },
    {
      "cell_type": "markdown",
      "source": [
        "#### Tentativa 1\n",
        "\n",
        "```\n",
        "n_estimators = 100\n",
        "criterion = 'gini'\n",
        "max_depth = None\n",
        "```\n",
        "\n"
      ],
      "metadata": {
        "id": "RZOXBeqhH-KR"
      }
    },
    {
      "cell_type": "code",
      "source": [
        "n_estimators = 100\n",
        "criterion = 'gini'\n",
        "max_depth = None"
      ],
      "metadata": {
        "id": "8P_hYOiRHSuE"
      },
      "execution_count": 43,
      "outputs": []
    },
    {
      "cell_type": "code",
      "source": [
        "with mlflow.start_run():\n",
        "  rf = RandomForestClassifier(random_state=RANDOM_STATE, n_estimators=n_estimators, criterion=criterion, max_depth=max_depth)\n",
        "  rf.fit(X_train, y_train)\n",
        "\n",
        "  y_pred = rf.predict(X_val)\n",
        "  y_proba = rf.predict_proba(X_val)\n",
        "\n",
        "  (acc, auroc, f1) = eval_metrics(y_val, y_pred, y_proba)\n",
        "\n",
        "  mlflow.log_param(\"n_estimators\", n_estimators)\n",
        "  mlflow.log_param(\"criterion\", criterion)\n",
        "  mlflow.log_param(\"max_depth\", max_depth)\n",
        "  mlflow.log_metric(\"accuracy\", acc)\n",
        "  mlflow.log_metric(\"auroc\", auroc)\n",
        "  mlflow.log_metric(\"f1\", f1)\n",
        "\n",
        "  tracking_url_type_store = urlparse(mlflow.get_tracking_uri()).scheme\n",
        "\n",
        "  # Model registry does not work with file store\n",
        "  if tracking_url_type_store != \"file\":\n",
        "    # Register the model\n",
        "    # There are other ways to use the Model Registry, which depends on the use case,\n",
        "    # please refer to the doc for more information:\n",
        "    # https://mlflow.org/docs/latest/model-registry.html#api-workflow\n",
        "    mlflow.sklearn.log_model(rf, \"model\", registered_model_name=\"RF_NBA_Undrafted\")\n",
        "  else:\n",
        "    mlflow.sklearn.log_model(rf, \"model\")"
      ],
      "metadata": {
        "id": "Pu_EFKlJISxf"
      },
      "execution_count": 44,
      "outputs": []
    },
    {
      "cell_type": "code",
      "source": [
        "!cat /content/mlruns/0/c3e9d3f5601c4cdabc0a4f0ba49e2541/params/n_estimators"
      ],
      "metadata": {
        "outputId": "45421716-a975-4fe4-eb28-f3ef93ee91dd",
        "colab": {
          "base_uri": "https://localhost:8080/"
        },
        "id": "T5hpKyG5I_EH"
      },
      "execution_count": 45,
      "outputs": [
        {
          "output_type": "stream",
          "name": "stdout",
          "text": [
            "100"
          ]
        }
      ]
    },
    {
      "cell_type": "code",
      "source": [
        "!cat /content/mlruns/0/c3e9d3f5601c4cdabc0a4f0ba49e2541/params/criterion"
      ],
      "metadata": {
        "outputId": "f34f1548-f43e-4d1f-cb5c-d93620ba83b0",
        "colab": {
          "base_uri": "https://localhost:8080/"
        },
        "id": "iE0Pn85FI_EO"
      },
      "execution_count": 46,
      "outputs": [
        {
          "output_type": "stream",
          "name": "stdout",
          "text": [
            "gini"
          ]
        }
      ]
    },
    {
      "cell_type": "code",
      "source": [
        "!cat /content/mlruns/0/c3e9d3f5601c4cdabc0a4f0ba49e2541/params/max_depth"
      ],
      "metadata": {
        "colab": {
          "base_uri": "https://localhost:8080/"
        },
        "id": "7pVA2esHJFzo",
        "outputId": "1cbea49f-bda1-485d-dce8-27b6251635d4"
      },
      "execution_count": 47,
      "outputs": [
        {
          "output_type": "stream",
          "name": "stdout",
          "text": [
            "None"
          ]
        }
      ]
    },
    {
      "cell_type": "code",
      "source": [
        "!cat /content/mlruns/0/c3e9d3f5601c4cdabc0a4f0ba49e2541/metrics/auroc"
      ],
      "metadata": {
        "outputId": "a9bc9b5f-0fc6-4446-df8d-541524d50c08",
        "colab": {
          "base_uri": "https://localhost:8080/"
        },
        "id": "rTGUlj7uI_EO"
      },
      "execution_count": 48,
      "outputs": [
        {
          "output_type": "stream",
          "name": "stdout",
          "text": [
            "1662121124478 0.8366240396019182 0\n"
          ]
        }
      ]
    },
    {
      "cell_type": "code",
      "source": [
        "!cat /content/mlruns/0/c3e9d3f5601c4cdabc0a4f0ba49e2541/metrics/f1"
      ],
      "metadata": {
        "outputId": "238fc064-7f69-476a-cb25-1f1d5003d5a0",
        "colab": {
          "base_uri": "https://localhost:8080/"
        },
        "id": "U1bucH2gI_EO"
      },
      "execution_count": 49,
      "outputs": [
        {
          "output_type": "stream",
          "name": "stdout",
          "text": [
            "1662121124479 0.7826776956198876 0\n"
          ]
        }
      ]
    },
    {
      "cell_type": "code",
      "source": [
        "!cat /content/mlruns/0/c3e9d3f5601c4cdabc0a4f0ba49e2541/metrics/accuracy"
      ],
      "metadata": {
        "outputId": "c3402dca-53e2-4c5f-c7b6-5e15efbea2e9",
        "colab": {
          "base_uri": "https://localhost:8080/"
        },
        "id": "inbAKEOaI_EP"
      },
      "execution_count": 50,
      "outputs": [
        {
          "output_type": "stream",
          "name": "stdout",
          "text": [
            "1662121124478 0.8340573414422241 0\n"
          ]
        }
      ]
    },
    {
      "cell_type": "markdown",
      "source": [
        "#### Tentativa 2\n",
        "\n",
        "```\n",
        "n_estimators = 200\n",
        "criterion = 'gini'\n",
        "max_depth = None\n",
        "```\n",
        "\n"
      ],
      "metadata": {
        "id": "PalwbzW3JSBe"
      }
    },
    {
      "cell_type": "code",
      "source": [
        "n_estimators = 200\n",
        "criterion = 'gini'\n",
        "max_depth = None"
      ],
      "metadata": {
        "id": "4oWLRI5oJSBf"
      },
      "execution_count": 51,
      "outputs": []
    },
    {
      "cell_type": "code",
      "source": [
        "with mlflow.start_run():\n",
        "  rf = RandomForestClassifier(random_state=RANDOM_STATE, n_estimators=n_estimators, criterion=criterion, max_depth=max_depth)\n",
        "  rf.fit(X_train, y_train)\n",
        "\n",
        "  y_pred = rf.predict(X_val)\n",
        "  y_proba = rf.predict_proba(X_val)\n",
        "\n",
        "  (acc, auroc, f1) = eval_metrics(y_val, y_pred, y_proba)\n",
        "\n",
        "  mlflow.log_param(\"n_estimators\", n_estimators)\n",
        "  mlflow.log_param(\"criterion\", criterion)\n",
        "  mlflow.log_param(\"max_depth\", max_depth)\n",
        "  mlflow.log_metric(\"accuracy\", acc)\n",
        "  mlflow.log_metric(\"auroc\", auroc)\n",
        "  mlflow.log_metric(\"f1\", f1)\n",
        "\n",
        "  tracking_url_type_store = urlparse(mlflow.get_tracking_uri()).scheme\n",
        "\n",
        "  # Model registry does not work with file store\n",
        "  if tracking_url_type_store != \"file\":\n",
        "    # Register the model\n",
        "    # There are other ways to use the Model Registry, which depends on the use case,\n",
        "    # please refer to the doc for more information:\n",
        "    # https://mlflow.org/docs/latest/model-registry.html#api-workflow\n",
        "    mlflow.sklearn.log_model(rf, \"model\", registered_model_name=\"RF_NBA_Undrafted\")\n",
        "  else:\n",
        "    mlflow.sklearn.log_model(rf, \"model\")"
      ],
      "metadata": {
        "id": "8vl9ZJwjJSBf"
      },
      "execution_count": 53,
      "outputs": []
    },
    {
      "cell_type": "code",
      "source": [
        "!cat /content/mlruns/0/37399a681ba84856928153aacde4623d/params/n_estimators"
      ],
      "metadata": {
        "outputId": "decee1c8-9d97-46b3-a3f7-46587e349046",
        "colab": {
          "base_uri": "https://localhost:8080/"
        },
        "id": "BQoF-vloJSBf"
      },
      "execution_count": 54,
      "outputs": [
        {
          "output_type": "stream",
          "name": "stdout",
          "text": [
            "200"
          ]
        }
      ]
    },
    {
      "cell_type": "code",
      "source": [
        "!cat /content/mlruns/0/37399a681ba84856928153aacde4623d/params/criterion"
      ],
      "metadata": {
        "outputId": "aaefa22a-d49e-433e-e6e9-a646b08c7ce2",
        "colab": {
          "base_uri": "https://localhost:8080/"
        },
        "id": "I7DrIFfgJSBg"
      },
      "execution_count": 55,
      "outputs": [
        {
          "output_type": "stream",
          "name": "stdout",
          "text": [
            "gini"
          ]
        }
      ]
    },
    {
      "cell_type": "code",
      "source": [
        "!cat /content/mlruns/0/37399a681ba84856928153aacde4623d/params/max_depth"
      ],
      "metadata": {
        "outputId": "8a9d0e80-713d-4601-8ab6-37f7d93b15c5",
        "colab": {
          "base_uri": "https://localhost:8080/"
        },
        "id": "I5tkJE1YJSBg"
      },
      "execution_count": 56,
      "outputs": [
        {
          "output_type": "stream",
          "name": "stdout",
          "text": [
            "None"
          ]
        }
      ]
    },
    {
      "cell_type": "code",
      "source": [
        "!cat /content/mlruns/0/37399a681ba84856928153aacde4623d/metrics/auroc"
      ],
      "metadata": {
        "outputId": "6bf8707e-9442-4c22-f01d-822d60e69bee",
        "colab": {
          "base_uri": "https://localhost:8080/"
        },
        "id": "JtXCpzlqJSBg"
      },
      "execution_count": 57,
      "outputs": [
        {
          "output_type": "stream",
          "name": "stdout",
          "text": [
            "1662121391197 0.8431702160573403 0\n"
          ]
        }
      ]
    },
    {
      "cell_type": "code",
      "source": [
        "!cat /content/mlruns/0/37399a681ba84856928153aacde4623d/metrics/f1"
      ],
      "metadata": {
        "outputId": "07394d99-979e-4c46-b48a-47f1607cbab5",
        "colab": {
          "base_uri": "https://localhost:8080/"
        },
        "id": "25vx0kjFJSBg"
      },
      "execution_count": 58,
      "outputs": [
        {
          "output_type": "stream",
          "name": "stdout",
          "text": [
            "1662121391198 0.7866288627891993 0\n"
          ]
        }
      ]
    },
    {
      "cell_type": "code",
      "source": [
        "!cat /content/mlruns/0/37399a681ba84856928153aacde4623d/metrics/accuracy"
      ],
      "metadata": {
        "outputId": "570721e9-42c0-41eb-a469-38e91bf54320",
        "colab": {
          "base_uri": "https://localhost:8080/"
        },
        "id": "YcY5-p2cJSBg"
      },
      "execution_count": 59,
      "outputs": [
        {
          "output_type": "stream",
          "name": "stdout",
          "text": [
            "1662121391197 0.8366637706342311 0\n"
          ]
        }
      ]
    },
    {
      "cell_type": "markdown",
      "source": [
        "#### Tentativa 3\n",
        "\n",
        "```\n",
        "n_estimators = 200\n",
        "criterion = 'entropy'\n",
        "max_depth = 15\n",
        "```\n",
        "\n"
      ],
      "metadata": {
        "id": "0Xd-5uNBKCbx"
      }
    },
    {
      "cell_type": "code",
      "source": [
        "n_estimators = 200\n",
        "criterion = 'entropy'\n",
        "max_depth = 15"
      ],
      "metadata": {
        "id": "Roc2zoL7KCbx"
      },
      "execution_count": 60,
      "outputs": []
    },
    {
      "cell_type": "code",
      "source": [
        "with mlflow.start_run():\n",
        "  rf = RandomForestClassifier(random_state=RANDOM_STATE, n_estimators=n_estimators, criterion=criterion, max_depth=max_depth)\n",
        "  rf.fit(X_train, y_train)\n",
        "\n",
        "  y_pred = rf.predict(X_val)\n",
        "  y_proba = rf.predict_proba(X_val)\n",
        "\n",
        "  (acc, auroc, f1) = eval_metrics(y_val, y_pred, y_proba)\n",
        "\n",
        "  mlflow.log_param(\"n_estimators\", n_estimators)\n",
        "  mlflow.log_param(\"criterion\", criterion)\n",
        "  mlflow.log_param(\"max_depth\", max_depth)\n",
        "  mlflow.log_metric(\"accuracy\", acc)\n",
        "  mlflow.log_metric(\"auroc\", auroc)\n",
        "  mlflow.log_metric(\"f1\", f1)\n",
        "\n",
        "  tracking_url_type_store = urlparse(mlflow.get_tracking_uri()).scheme\n",
        "\n",
        "  # Model registry does not work with file store\n",
        "  if tracking_url_type_store != \"file\":\n",
        "    # Register the model\n",
        "    # There are other ways to use the Model Registry, which depends on the use case,\n",
        "    # please refer to the doc for more information:\n",
        "    # https://mlflow.org/docs/latest/model-registry.html#api-workflow\n",
        "    mlflow.sklearn.log_model(rf, \"model\", registered_model_name=\"RF_NBA_Undrafted\")\n",
        "  else:\n",
        "    mlflow.sklearn.log_model(rf, \"model\")"
      ],
      "metadata": {
        "id": "txua-y1LKCbx"
      },
      "execution_count": 61,
      "outputs": []
    },
    {
      "cell_type": "code",
      "source": [
        "!cat /content/mlruns/0/37399a681ba84856928153aacde4623d/params/n_estimators"
      ],
      "metadata": {
        "outputId": "d287e629-c844-478b-bc00-a5f95e78dcd3",
        "colab": {
          "base_uri": "https://localhost:8080/"
        },
        "id": "8jKRXU-KKCby"
      },
      "execution_count": 62,
      "outputs": [
        {
          "output_type": "stream",
          "name": "stdout",
          "text": [
            "200"
          ]
        }
      ]
    },
    {
      "cell_type": "code",
      "source": [
        "!cat /content/mlruns/0/7bf1d8758b4d46f7b8497a9243c057f7/params/criterion"
      ],
      "metadata": {
        "outputId": "59ad153a-c212-439c-c88a-86807ee7a9b4",
        "colab": {
          "base_uri": "https://localhost:8080/"
        },
        "id": "QYPtObIdKCby"
      },
      "execution_count": 63,
      "outputs": [
        {
          "output_type": "stream",
          "name": "stdout",
          "text": [
            "entropy"
          ]
        }
      ]
    },
    {
      "cell_type": "code",
      "source": [
        "!cat /content/mlruns/0/7bf1d8758b4d46f7b8497a9243c057f7/params/max_depth"
      ],
      "metadata": {
        "outputId": "80168644-ea17-4e43-84e2-2e1f6a84bdaf",
        "colab": {
          "base_uri": "https://localhost:8080/"
        },
        "id": "6aLs1aZCKCby"
      },
      "execution_count": 64,
      "outputs": [
        {
          "output_type": "stream",
          "name": "stdout",
          "text": [
            "15"
          ]
        }
      ]
    },
    {
      "cell_type": "code",
      "source": [
        "!cat /content/mlruns/0/7bf1d8758b4d46f7b8497a9243c057f7/metrics/auroc"
      ],
      "metadata": {
        "outputId": "624130b3-5aa6-458d-d9a9-a4c66d45c2a7",
        "colab": {
          "base_uri": "https://localhost:8080/"
        },
        "id": "L30J2fvbKCby"
      },
      "execution_count": 65,
      "outputs": [
        {
          "output_type": "stream",
          "name": "stdout",
          "text": [
            "1662121542282 0.843335224049915 0\n"
          ]
        }
      ]
    },
    {
      "cell_type": "code",
      "source": [
        "!cat /content/mlruns/0/7bf1d8758b4d46f7b8497a9243c057f7/metrics/f1"
      ],
      "metadata": {
        "outputId": "e8ca2b9a-ba2c-4ae6-bb08-b8a59063ffb6",
        "colab": {
          "base_uri": "https://localhost:8080/"
        },
        "id": "PI0RFyo3KCby"
      },
      "execution_count": 66,
      "outputs": [
        {
          "output_type": "stream",
          "name": "stdout",
          "text": [
            "1662121542283 0.7746727489160805 0\n"
          ]
        }
      ]
    },
    {
      "cell_type": "code",
      "source": [
        "!cat /content/mlruns/0/7bf1d8758b4d46f7b8497a9243c057f7/metrics/accuracy"
      ],
      "metadata": {
        "outputId": "c142420d-9575-4af6-e636-c2845d5d1c91",
        "colab": {
          "base_uri": "https://localhost:8080/"
        },
        "id": "ndbrNpSTKCbz"
      },
      "execution_count": 67,
      "outputs": [
        {
          "output_type": "stream",
          "name": "stdout",
          "text": [
            "1662121542281 0.8305821025195482 0\n"
          ]
        }
      ]
    },
    {
      "cell_type": "markdown",
      "source": [
        "### XGBoost\n",
        "Para o algoritmo de classificação XGBoost, experimentaremos a alternação dos parâmetros `n_estimators` (equivalente ao da RandomForest), `learning_rate` (diminuição do tamanho dos passos, utilizado para prevenção de overfitting) e `max_depth` (equivalente ao RF)."
      ],
      "metadata": {
        "id": "9I0iGYU1Ko5J"
      }
    },
    {
      "cell_type": "markdown",
      "source": [
        "#### Tentativa 1\n",
        "\n",
        "```\n",
        "n_estimators = 100\n",
        "learning_rate = 1e-1\n",
        "max_depth = 6\n",
        "```\n",
        "\n"
      ],
      "metadata": {
        "id": "UiEMsunjN6jM"
      }
    },
    {
      "cell_type": "code",
      "source": [
        "n_estimators = 100\n",
        "learning_rate = 1e-1\n",
        "max_depth = 6"
      ],
      "metadata": {
        "id": "2_QL0eQvOGhd"
      },
      "execution_count": 68,
      "outputs": []
    },
    {
      "cell_type": "code",
      "source": [
        "with mlflow.start_run():\n",
        "  xgb = XGBClassifier(random_state=RANDOM_STATE, n_estimators=n_estimators, learning_rate=learning_rate, max_depth=max_depth)\n",
        "  xgb.fit(X_train, y_train)\n",
        "\n",
        "  y_pred = xgb.predict(X_val)\n",
        "  y_proba = xgb.predict_proba(X_val)\n",
        "\n",
        "  (acc, auroc, f1) = eval_metrics(y_val, y_pred, y_proba)\n",
        "\n",
        "  mlflow.log_param(\"n_estimators\", n_estimators)\n",
        "  mlflow.log_param(\"lr\", learning_rate)\n",
        "  mlflow.log_param(\"max_depth\", max_depth)\n",
        "  mlflow.log_metric(\"accuracy\", acc)\n",
        "  mlflow.log_metric(\"auroc\", auroc)\n",
        "  mlflow.log_metric(\"f1\", f1)\n",
        "\n",
        "  tracking_url_type_store = urlparse(mlflow.get_tracking_uri()).scheme\n",
        "\n",
        "  # Model registry does not work with file store\n",
        "  if tracking_url_type_store != \"file\":\n",
        "    # Register the model\n",
        "    # There are other ways to use the Model Registry, which depends on the use case,\n",
        "    # please refer to the doc for more information:\n",
        "    # https://mlflow.org/docs/latest/model-registry.html#api-workflow\n",
        "    mlflow.sklearn.log_model(xgb, \"model\", registered_model_name=\"XGB_NBA_Undrafted\")\n",
        "  else:\n",
        "    mlflow.sklearn.log_model(xgb, \"model\")"
      ],
      "metadata": {
        "id": "olZVCH3AOHiO"
      },
      "execution_count": 69,
      "outputs": []
    },
    {
      "cell_type": "code",
      "source": [
        "!cat /content/mlruns/0/613bc45c18564a3ab87fa0188ebf3140/params/n_estimators"
      ],
      "metadata": {
        "outputId": "055b711d-7d26-46f4-e01e-dd90cbb8cc88",
        "colab": {
          "base_uri": "https://localhost:8080/"
        },
        "id": "lO4z3jl5Okvd"
      },
      "execution_count": 70,
      "outputs": [
        {
          "output_type": "stream",
          "name": "stdout",
          "text": [
            "100"
          ]
        }
      ]
    },
    {
      "cell_type": "code",
      "source": [
        "!cat /content/mlruns/0/613bc45c18564a3ab87fa0188ebf3140/params/lr"
      ],
      "metadata": {
        "outputId": "869b4c36-0569-4d3b-e51c-5d21fc1a65f0",
        "colab": {
          "base_uri": "https://localhost:8080/"
        },
        "id": "XEoQeKuQOkvd"
      },
      "execution_count": 71,
      "outputs": [
        {
          "output_type": "stream",
          "name": "stdout",
          "text": [
            "0.1"
          ]
        }
      ]
    },
    {
      "cell_type": "code",
      "source": [
        "!cat /content/mlruns/0/613bc45c18564a3ab87fa0188ebf3140/params/max_depth"
      ],
      "metadata": {
        "outputId": "f38a77bf-53d5-44ad-b55a-d6e3c7259d2e",
        "colab": {
          "base_uri": "https://localhost:8080/"
        },
        "id": "FoT3mnCtOkvd"
      },
      "execution_count": 72,
      "outputs": [
        {
          "output_type": "stream",
          "name": "stdout",
          "text": [
            "6"
          ]
        }
      ]
    },
    {
      "cell_type": "code",
      "source": [
        "!cat /content/mlruns/0/613bc45c18564a3ab87fa0188ebf3140/metrics/auroc"
      ],
      "metadata": {
        "outputId": "67b38cea-a519-4506-d846-2a5ebbaaddba",
        "colab": {
          "base_uri": "https://localhost:8080/"
        },
        "id": "7DvkrPyeOkvd"
      },
      "execution_count": 73,
      "outputs": [
        {
          "output_type": "stream",
          "name": "stdout",
          "text": [
            "1662122624530 0.849894291754757 0\n"
          ]
        }
      ]
    },
    {
      "cell_type": "code",
      "source": [
        "!cat /content/mlruns/0/613bc45c18564a3ab87fa0188ebf3140/metrics/f1"
      ],
      "metadata": {
        "outputId": "9febc73f-60a1-494a-df32-120482b0133f",
        "colab": {
          "base_uri": "https://localhost:8080/"
        },
        "id": "dvcNRtshOkve"
      },
      "execution_count": 74,
      "outputs": [
        {
          "output_type": "stream",
          "name": "stdout",
          "text": [
            "1662122624531 0.8148418621868618 0\n"
          ]
        }
      ]
    },
    {
      "cell_type": "code",
      "source": [
        "!cat /content/mlruns/0/613bc45c18564a3ab87fa0188ebf3140/metrics/accuracy"
      ],
      "metadata": {
        "outputId": "c438f311-1d7b-4e20-d75c-3e7a1e449b4b",
        "colab": {
          "base_uri": "https://localhost:8080/"
        },
        "id": "QV8k5haEOkve"
      },
      "execution_count": 75,
      "outputs": [
        {
          "output_type": "stream",
          "name": "stdout",
          "text": [
            "1662122624530 0.8488271068635969 0\n"
          ]
        }
      ]
    },
    {
      "cell_type": "markdown",
      "source": [
        "#### Tentativa 2\n",
        "\n",
        "```\n",
        "n_estimators = 200\n",
        "learning_rate = 1e-2\n",
        "max_depth = 6\n",
        "```\n",
        "\n"
      ],
      "metadata": {
        "id": "KGR9qV21O1YX"
      }
    },
    {
      "cell_type": "code",
      "source": [
        "n_estimators = 200\n",
        "learning_rate = 1e-2\n",
        "max_depth = 6"
      ],
      "metadata": {
        "id": "n75zVAlRO1YX"
      },
      "execution_count": 76,
      "outputs": []
    },
    {
      "cell_type": "code",
      "source": [
        "with mlflow.start_run():\n",
        "  xgb = XGBClassifier(random_state=RANDOM_STATE, n_estimators=n_estimators, learning_rate=learning_rate, max_depth=max_depth)\n",
        "  xgb.fit(X_train, y_train)\n",
        "\n",
        "  y_pred = xgb.predict(X_val)\n",
        "  y_proba = xgb.predict_proba(X_val)\n",
        "\n",
        "  (acc, auroc, f1) = eval_metrics(y_val, y_pred, y_proba)\n",
        "\n",
        "  mlflow.log_param(\"n_estimators\", n_estimators)\n",
        "  mlflow.log_param(\"lr\", learning_rate)\n",
        "  mlflow.log_param(\"max_depth\", max_depth)\n",
        "  mlflow.log_metric(\"accuracy\", acc)\n",
        "  mlflow.log_metric(\"auroc\", auroc)\n",
        "  mlflow.log_metric(\"f1\", f1)\n",
        "\n",
        "  tracking_url_type_store = urlparse(mlflow.get_tracking_uri()).scheme\n",
        "\n",
        "  # Model registry does not work with file store\n",
        "  if tracking_url_type_store != \"file\":\n",
        "    # Register the model\n",
        "    # There are other ways to use the Model Registry, which depends on the use case,\n",
        "    # please refer to the doc for more information:\n",
        "    # https://mlflow.org/docs/latest/model-registry.html#api-workflow\n",
        "    mlflow.sklearn.log_model(xgb, \"model\", registered_model_name=\"XGB_NBA_Undrafted\")\n",
        "  else:\n",
        "    mlflow.sklearn.log_model(xgb, \"model\")"
      ],
      "metadata": {
        "id": "BZT7_mSRO1YX"
      },
      "execution_count": 77,
      "outputs": []
    },
    {
      "cell_type": "code",
      "source": [
        "!cat /content/mlruns/0/77d126395a034941bffff89e73f026d4/params/n_estimators"
      ],
      "metadata": {
        "outputId": "0d7860e4-d7a2-481d-b5d2-3030169df9dc",
        "colab": {
          "base_uri": "https://localhost:8080/"
        },
        "id": "oRUXScfnO1YX"
      },
      "execution_count": 78,
      "outputs": [
        {
          "output_type": "stream",
          "name": "stdout",
          "text": [
            "200"
          ]
        }
      ]
    },
    {
      "cell_type": "code",
      "source": [
        "!cat /content/mlruns/0/77d126395a034941bffff89e73f026d4/params/lr"
      ],
      "metadata": {
        "outputId": "f6114e97-72bd-450e-ee09-99e92be81f0a",
        "colab": {
          "base_uri": "https://localhost:8080/"
        },
        "id": "bBjdxxp_O1YX"
      },
      "execution_count": 79,
      "outputs": [
        {
          "output_type": "stream",
          "name": "stdout",
          "text": [
            "0.01"
          ]
        }
      ]
    },
    {
      "cell_type": "code",
      "source": [
        "!cat /content/mlruns/0/77d126395a034941bffff89e73f026d4/params/max_depth"
      ],
      "metadata": {
        "outputId": "68ef79c8-d2ba-4b33-f0df-df0c2260ec2f",
        "colab": {
          "base_uri": "https://localhost:8080/"
        },
        "id": "1EcEklL3O1YY"
      },
      "execution_count": 80,
      "outputs": [
        {
          "output_type": "stream",
          "name": "stdout",
          "text": [
            "6"
          ]
        }
      ]
    },
    {
      "cell_type": "code",
      "source": [
        "!cat /content/mlruns/0/77d126395a034941bffff89e73f026d4/metrics/auroc"
      ],
      "metadata": {
        "outputId": "96597089-0c0a-44a0-e3ec-9f5ef441b070",
        "colab": {
          "base_uri": "https://localhost:8080/"
        },
        "id": "DJkt9wBmO1YY"
      },
      "execution_count": 81,
      "outputs": [
        {
          "output_type": "stream",
          "name": "stdout",
          "text": [
            "1662122750497 0.7895787139689578 0\n"
          ]
        }
      ]
    },
    {
      "cell_type": "code",
      "source": [
        "!cat /content/mlruns/0/77d126395a034941bffff89e73f026d4/metrics/f1"
      ],
      "metadata": {
        "outputId": "a4987368-5fc2-44f4-f5f7-c67c6c54789a",
        "colab": {
          "base_uri": "https://localhost:8080/"
        },
        "id": "ZScEZ_o0O1YY"
      },
      "execution_count": 82,
      "outputs": [
        {
          "output_type": "stream",
          "name": "stdout",
          "text": [
            "1662122750498 0.7717092944984212 0\n"
          ]
        }
      ]
    },
    {
      "cell_type": "code",
      "source": [
        "!cat /content/mlruns/0/77d126395a034941bffff89e73f026d4/metrics/accuracy"
      ],
      "metadata": {
        "outputId": "f7b06920-1ef2-4ad5-f920-14ebedb7acef",
        "colab": {
          "base_uri": "https://localhost:8080/"
        },
        "id": "7w99AOafO1YY"
      },
      "execution_count": 83,
      "outputs": [
        {
          "output_type": "stream",
          "name": "stdout",
          "text": [
            "1662122750496 0.8297132927888793 0\n"
          ]
        }
      ]
    },
    {
      "cell_type": "markdown",
      "source": [
        "#### Tentativa 3\n",
        "\n",
        "```\n",
        "n_estimators = 200\n",
        "learning_rate = 1e-2\n",
        "max_depth = 15\n",
        "```\n",
        "\n"
      ],
      "metadata": {
        "id": "knAXjvF6QBum"
      }
    },
    {
      "cell_type": "code",
      "source": [
        "n_estimators = 200\n",
        "learning_rate = 1e-2\n",
        "max_depth = 15"
      ],
      "metadata": {
        "id": "HqeCzIErQBut"
      },
      "execution_count": 84,
      "outputs": []
    },
    {
      "cell_type": "code",
      "source": [
        "with mlflow.start_run():\n",
        "  xgb = XGBClassifier(random_state=RANDOM_STATE, n_estimators=n_estimators, learning_rate=learning_rate, max_depth=max_depth)\n",
        "  xgb.fit(X_train, y_train)\n",
        "\n",
        "  y_pred = xgb.predict(X_val)\n",
        "  y_proba = xgb.predict_proba(X_val)\n",
        "\n",
        "  (acc, auroc, f1) = eval_metrics(y_val, y_pred, y_proba)\n",
        "\n",
        "  mlflow.log_param(\"n_estimators\", n_estimators)\n",
        "  mlflow.log_param(\"lr\", learning_rate)\n",
        "  mlflow.log_param(\"max_depth\", max_depth)\n",
        "  mlflow.log_metric(\"accuracy\", acc)\n",
        "  mlflow.log_metric(\"auroc\", auroc)\n",
        "  mlflow.log_metric(\"f1\", f1)\n",
        "\n",
        "  tracking_url_type_store = urlparse(mlflow.get_tracking_uri()).scheme\n",
        "\n",
        "  # Model registry does not work with file store\n",
        "  if tracking_url_type_store != \"file\":\n",
        "    # Register the model\n",
        "    # There are other ways to use the Model Registry, which depends on the use case,\n",
        "    # please refer to the doc for more information:\n",
        "    # https://mlflow.org/docs/latest/model-registry.html#api-workflow\n",
        "    mlflow.sklearn.log_model(xgb, \"model\", registered_model_name=\"XGB_NBA_Undrafted\")\n",
        "  else:\n",
        "    mlflow.sklearn.log_model(xgb, \"model\")"
      ],
      "metadata": {
        "id": "PJKECCaJQBut"
      },
      "execution_count": 85,
      "outputs": []
    },
    {
      "cell_type": "code",
      "source": [
        "!cat /content/mlruns/0/5dcb815a2ad94bdfbd0ce1488408cd19/params/n_estimators"
      ],
      "metadata": {
        "outputId": "91be4a51-c258-4217-b549-6f5301fe4111",
        "colab": {
          "base_uri": "https://localhost:8080/"
        },
        "id": "yNxxm796QBut"
      },
      "execution_count": 87,
      "outputs": [
        {
          "output_type": "stream",
          "name": "stdout",
          "text": [
            "200"
          ]
        }
      ]
    },
    {
      "cell_type": "code",
      "source": [
        "!cat /content/mlruns/0/5dcb815a2ad94bdfbd0ce1488408cd19/params/lr"
      ],
      "metadata": {
        "outputId": "a8dbaf67-89f0-43b3-ef2f-0b39892dbbad",
        "colab": {
          "base_uri": "https://localhost:8080/"
        },
        "id": "gvmK46LLQBuu"
      },
      "execution_count": 88,
      "outputs": [
        {
          "output_type": "stream",
          "name": "stdout",
          "text": [
            "0.01"
          ]
        }
      ]
    },
    {
      "cell_type": "code",
      "source": [
        "!cat /content/mlruns/0/5dcb815a2ad94bdfbd0ce1488408cd19/params/max_depth"
      ],
      "metadata": {
        "outputId": "02d91322-d5ff-4db8-ae7b-563ea98b1f83",
        "colab": {
          "base_uri": "https://localhost:8080/"
        },
        "id": "oe8WJusKQBuu"
      },
      "execution_count": 86,
      "outputs": [
        {
          "output_type": "stream",
          "name": "stdout",
          "text": [
            "15"
          ]
        }
      ]
    },
    {
      "cell_type": "code",
      "source": [
        "!cat /content/mlruns/0/5dcb815a2ad94bdfbd0ce1488408cd19/metrics/auroc"
      ],
      "metadata": {
        "outputId": "d52fd1bf-a73b-444d-8c39-99415d32d466",
        "colab": {
          "base_uri": "https://localhost:8080/"
        },
        "id": "MeanPmY-QBuu"
      },
      "execution_count": 89,
      "outputs": [
        {
          "output_type": "stream",
          "name": "stdout",
          "text": [
            "1662123052672 0.8274377352653018 0\n"
          ]
        }
      ]
    },
    {
      "cell_type": "code",
      "source": [
        "!cat /content/mlruns/0/5dcb815a2ad94bdfbd0ce1488408cd19/metrics/f1"
      ],
      "metadata": {
        "outputId": "df4d64e2-b0a1-492b-a7cb-3e1f15639c34",
        "colab": {
          "base_uri": "https://localhost:8080/"
        },
        "id": "VCoxdCHaQBuu"
      },
      "execution_count": 90,
      "outputs": [
        {
          "output_type": "stream",
          "name": "stdout",
          "text": [
            "1662123052673 0.799668596929013 0\n"
          ]
        }
      ]
    },
    {
      "cell_type": "code",
      "source": [
        "!cat /content/mlruns/0/5dcb815a2ad94bdfbd0ce1488408cd19/metrics/accuracy"
      ],
      "metadata": {
        "outputId": "155fe94e-e474-4c13-86a5-26a1a9059eab",
        "colab": {
          "base_uri": "https://localhost:8080/"
        },
        "id": "yPrpabHdQBuu"
      },
      "execution_count": 91,
      "outputs": [
        {
          "output_type": "stream",
          "name": "stdout",
          "text": [
            "1662123052671 0.8340573414422241 0\n"
          ]
        }
      ]
    },
    {
      "cell_type": "markdown",
      "source": [
        "## Hyperparameter tuning\n",
        "Nossa tarefa agora é: utilizar os 4 algoritmos definidos acima para realizar o processe de *tuning* dos seus respectivos hiperparâmetros. Como já mencionado anteriormente, os algoritmos e parâmetros são:\n",
        "* `MLP`: `hidden_layer_sizes`, `activation` e `solver`\n",
        "* `LR`: `penalty` e `solver`\n",
        "* `RF`: `n_estimators`, `criterion` e `max_depth`\n",
        "* `XGB`: `n_estimators`, `learning_rate` e `max_depth`\n",
        "\n",
        "Como framework de otimização do processo, escolhemos o [Optuna](https://optuna.org/), com o qual, conseguimos treinar os modelos de maneira rápida e paralelizada seguindo o passo a passo:\n",
        "\n",
        "1. Definir uma função de objetivo\n",
        "2. Definir o conjunto de hiperparâmetros a serem testados\n",
        "3. Definir a métrica a ser otimizada (maximizada ou minimizada)\n",
        "4. Executar a função"
      ],
      "metadata": {
        "id": "EpRkkValRqwf"
      }
    },
    {
      "cell_type": "markdown",
      "source": [
        "### Optuna Study Geral\n",
        "No jargão do optuna, o termo *Trial* é uma chamada única da função de objetivo, e múltiplos *Trials* juntos são chamados de *Study*.\n",
        "\n"
      ],
      "metadata": {
        "id": "ilemt9MnX9yL"
      }
    },
    {
      "cell_type": "code",
      "source": [
        "!pip install optuna"
      ],
      "metadata": {
        "id": "9BKtmShbVPkD"
      },
      "execution_count": null,
      "outputs": []
    },
    {
      "cell_type": "code",
      "source": [
        "import optuna"
      ],
      "metadata": {
        "id": "ozdmUWhNVNyG"
      },
      "execution_count": 94,
      "outputs": []
    },
    {
      "cell_type": "code",
      "source": [
        "# Passo 1. Definindo função de objetivo a ser maximizada\n",
        "def objective(trial):\n",
        "  classifier = trial.suggest_categorical(\"classifier\", [\"MLP\", \"LR\", \"RF\", \"XGB\"])\n",
        "  \n",
        "  # Passo 2. Definindo conjunto de hiperparâmetros\n",
        "  if classifier == 'LR':\n",
        "    lr_penalty = trial.suggest_categorical(\"lr_penalty\", ['l1', 'l2'])\n",
        "    lr_solver = trial.suggest_categorical(\"lr_solver\", ['liblinear', 'saga'])\n",
        "    clf = LogisticRegression(random_state=RANDOM_STATE, penalty=lr_penalty, solver=lr_solver, max_iter=EPOCHS)\n",
        "  elif classifier == 'RF':\n",
        "    rf_n_estimators = trial.suggest_int(\"rf_n_estimators\", 50, 1000)\n",
        "    rf_criterion = trial.suggest_categorical('rf_criterion', ['gini', 'entropy'])\n",
        "    rf_max_depth = trial.suggest_int(\"rf_max_depth\", 2, 32)\n",
        "    clf = RandomForestClassifier(\n",
        "        random_state=RANDOM_STATE, \n",
        "        max_depth=rf_max_depth, \n",
        "        n_estimators=rf_n_estimators, \n",
        "        criterion=rf_criterion\n",
        "    )\n",
        "  elif classifier == 'MLP':\n",
        "    mlp_hidden_layer_sizes = trial.suggest_categorical(\"mlp_hidden_layer_sizes\", [(50,), (100,), (50,50)])\n",
        "    mlp_activation = trial.suggest_categorical(\"mlp_activation\", ['logistic', 'tanh', 'relu'])\n",
        "    mlp_solver = trial.suggest_categorical(\"mlp_solver\", ['adam', 'sgd'])\n",
        "    clf = MLPClassifier(\n",
        "        random_state=RANDOM_STATE, \n",
        "        max_iter=EPOCHS, \n",
        "        hidden_layer_sizes=mlp_hidden_layer_sizes, \n",
        "        activation=mlp_activation, \n",
        "        solver=mlp_solver\n",
        "    )\n",
        "  else:\n",
        "    xgb_n_estimators = trial.suggest_int(\"xgb_n_estimators\", 50, 1000)\n",
        "    xgb_learning_rate = trial.suggest_loguniform('xgb_learning_rate', 1e-5, 1e-2)\n",
        "    xgb_max_depth = trial.suggest_int(\"xgb_max_depth\", 2, 32)\n",
        "    clf = XGBClassifier(\n",
        "        random_state=RANDOM_STATE, \n",
        "        n_estimators=xgb_n_estimators, \n",
        "        learning_rate=xgb_learning_rate, \n",
        "        max_depth=xgb_max_depth\n",
        "    )\n",
        "  \n",
        "  # Treinando o modelo\n",
        "  clf.fit(X_train, y_train)\n",
        "\n",
        "  y_pred = clf.predict(X_val)\n",
        "  y_proba = clf.predict_proba(X_val)\n",
        "\n",
        "  # Passo 3: Métrica otimizada\n",
        "  acc, auroc, f1 = eval_metrics(y_val, y_pred, y_proba)\n",
        "  return f1"
      ],
      "metadata": {
        "id": "zNzURElXS9Id"
      },
      "execution_count": 124,
      "outputs": []
    },
    {
      "cell_type": "markdown",
      "source": [
        "Agora, finalmente executando o passo 4:"
      ],
      "metadata": {
        "id": "eNKDHmE7d6pG"
      }
    },
    {
      "cell_type": "code",
      "source": [
        "# Passo 4: Rodar o estudo\n",
        "study = optuna.create_study(direction=\"maximize\")\n",
        "study.optimize(objective, n_trials=100)"
      ],
      "metadata": {
        "colab": {
          "base_uri": "https://localhost:8080/"
        },
        "id": "xNJ4FLapd-x-",
        "outputId": "51fcd5c1-acae-41b3-9316-809acd477a01"
      },
      "execution_count": 125,
      "outputs": [
        {
          "output_type": "stream",
          "name": "stderr",
          "text": [
            "\u001b[32m[I 2022-09-02 16:20:10,123]\u001b[0m A new study created in memory with name: no-name-38064bc0-5cf1-463e-8ffc-57954264cc13\u001b[0m\n",
            "/usr/local/lib/python3.7/dist-packages/ipykernel_launcher.py:33: FutureWarning:\n",
            "\n",
            "suggest_loguniform has been deprecated in v3.0.0. This feature will be removed in v6.0.0. See https://github.com/optuna/optuna/releases/tag/v3.0.0. Use :func:`~optuna.trial.Trial.suggest_float` instead.\n",
            "\n",
            "\u001b[32m[I 2022-09-02 16:20:13,232]\u001b[0m Trial 0 finished with value: 0.7870334497214272 and parameters: {'classifier': 'XGB', 'xgb_n_estimators': 72, 'xgb_learning_rate': 1.8822901620188696e-05, 'xgb_max_depth': 31}. Best is trial 0 with value: 0.7870334497214272.\u001b[0m\n",
            "/usr/local/lib/python3.7/dist-packages/optuna/distributions.py:502: UserWarning:\n",
            "\n",
            "Choices for a categorical distribution should be a tuple of None, bool, int, float and str for persistent storage but contains (50,) which is of type tuple.\n",
            "\n",
            "/usr/local/lib/python3.7/dist-packages/optuna/distributions.py:502: UserWarning:\n",
            "\n",
            "Choices for a categorical distribution should be a tuple of None, bool, int, float and str for persistent storage but contains (100,) which is of type tuple.\n",
            "\n",
            "/usr/local/lib/python3.7/dist-packages/optuna/distributions.py:502: UserWarning:\n",
            "\n",
            "Choices for a categorical distribution should be a tuple of None, bool, int, float and str for persistent storage but contains (50, 50) which is of type tuple.\n",
            "\n",
            "\u001b[32m[I 2022-09-02 16:20:26,767]\u001b[0m Trial 1 finished with value: 0.7711609688544775 and parameters: {'classifier': 'MLP', 'mlp_hidden_layer_sizes': (50, 50), 'mlp_activation': 'logistic', 'mlp_solver': 'adam'}. Best is trial 0 with value: 0.7870334497214272.\u001b[0m\n",
            "/usr/local/lib/python3.7/dist-packages/optuna/distributions.py:502: UserWarning:\n",
            "\n",
            "Choices for a categorical distribution should be a tuple of None, bool, int, float and str for persistent storage but contains (50,) which is of type tuple.\n",
            "\n",
            "/usr/local/lib/python3.7/dist-packages/optuna/distributions.py:502: UserWarning:\n",
            "\n",
            "Choices for a categorical distribution should be a tuple of None, bool, int, float and str for persistent storage but contains (100,) which is of type tuple.\n",
            "\n",
            "/usr/local/lib/python3.7/dist-packages/optuna/distributions.py:502: UserWarning:\n",
            "\n",
            "Choices for a categorical distribution should be a tuple of None, bool, int, float and str for persistent storage but contains (50, 50) which is of type tuple.\n",
            "\n",
            "\u001b[32m[I 2022-09-02 16:20:28,595]\u001b[0m Trial 2 finished with value: 0.7415467133346342 and parameters: {'classifier': 'MLP', 'mlp_hidden_layer_sizes': (50,), 'mlp_activation': 'tanh', 'mlp_solver': 'sgd'}. Best is trial 0 with value: 0.7870334497214272.\u001b[0m\n",
            "/usr/local/lib/python3.7/dist-packages/ipykernel_launcher.py:33: FutureWarning:\n",
            "\n",
            "suggest_loguniform has been deprecated in v3.0.0. This feature will be removed in v6.0.0. See https://github.com/optuna/optuna/releases/tag/v3.0.0. Use :func:`~optuna.trial.Trial.suggest_float` instead.\n",
            "\n",
            "\u001b[32m[I 2022-09-02 16:20:37,270]\u001b[0m Trial 3 finished with value: 0.783203064064518 and parameters: {'classifier': 'XGB', 'xgb_n_estimators': 508, 'xgb_learning_rate': 2.9872297775031305e-05, 'xgb_max_depth': 8}. Best is trial 0 with value: 0.7870334497214272.\u001b[0m\n",
            "/usr/local/lib/python3.7/dist-packages/sklearn/linear_model/_sag.py:354: ConvergenceWarning:\n",
            "\n",
            "The max_iter was reached which means the coef_ did not converge\n",
            "\n",
            "\u001b[32m[I 2022-09-02 16:20:39,706]\u001b[0m Trial 4 finished with value: 0.7415467133346342 and parameters: {'classifier': 'LR', 'lr_penalty': 'l2', 'lr_solver': 'saga'}. Best is trial 0 with value: 0.7870334497214272.\u001b[0m\n",
            "/usr/local/lib/python3.7/dist-packages/sklearn/linear_model/_sag.py:354: ConvergenceWarning:\n",
            "\n",
            "The max_iter was reached which means the coef_ did not converge\n",
            "\n",
            "\u001b[32m[I 2022-09-02 16:20:42,172]\u001b[0m Trial 5 finished with value: 0.7415467133346342 and parameters: {'classifier': 'LR', 'lr_penalty': 'l2', 'lr_solver': 'saga'}. Best is trial 0 with value: 0.7870334497214272.\u001b[0m\n",
            "/usr/local/lib/python3.7/dist-packages/optuna/distributions.py:502: UserWarning:\n",
            "\n",
            "Choices for a categorical distribution should be a tuple of None, bool, int, float and str for persistent storage but contains (50,) which is of type tuple.\n",
            "\n",
            "/usr/local/lib/python3.7/dist-packages/optuna/distributions.py:502: UserWarning:\n",
            "\n",
            "Choices for a categorical distribution should be a tuple of None, bool, int, float and str for persistent storage but contains (100,) which is of type tuple.\n",
            "\n",
            "/usr/local/lib/python3.7/dist-packages/optuna/distributions.py:502: UserWarning:\n",
            "\n",
            "Choices for a categorical distribution should be a tuple of None, bool, int, float and str for persistent storage but contains (50, 50) which is of type tuple.\n",
            "\n",
            "\u001b[32m[I 2022-09-02 16:20:43,917]\u001b[0m Trial 6 finished with value: 0.7469401641672903 and parameters: {'classifier': 'MLP', 'mlp_hidden_layer_sizes': (50,), 'mlp_activation': 'relu', 'mlp_solver': 'adam'}. Best is trial 0 with value: 0.7870334497214272.\u001b[0m\n",
            "/usr/local/lib/python3.7/dist-packages/optuna/distributions.py:502: UserWarning:\n",
            "\n",
            "Choices for a categorical distribution should be a tuple of None, bool, int, float and str for persistent storage but contains (50,) which is of type tuple.\n",
            "\n",
            "/usr/local/lib/python3.7/dist-packages/optuna/distributions.py:502: UserWarning:\n",
            "\n",
            "Choices for a categorical distribution should be a tuple of None, bool, int, float and str for persistent storage but contains (100,) which is of type tuple.\n",
            "\n",
            "/usr/local/lib/python3.7/dist-packages/optuna/distributions.py:502: UserWarning:\n",
            "\n",
            "Choices for a categorical distribution should be a tuple of None, bool, int, float and str for persistent storage but contains (50, 50) which is of type tuple.\n",
            "\n",
            "\u001b[32m[I 2022-09-02 16:20:45,350]\u001b[0m Trial 7 finished with value: 0.7415467133346342 and parameters: {'classifier': 'MLP', 'mlp_hidden_layer_sizes': (50, 50), 'mlp_activation': 'logistic', 'mlp_solver': 'sgd'}. Best is trial 0 with value: 0.7870334497214272.\u001b[0m\n",
            "\u001b[32m[I 2022-09-02 16:20:45,452]\u001b[0m Trial 8 finished with value: 0.7538235059016244 and parameters: {'classifier': 'LR', 'lr_penalty': 'l2', 'lr_solver': 'liblinear'}. Best is trial 0 with value: 0.7870334497214272.\u001b[0m\n",
            "/usr/local/lib/python3.7/dist-packages/sklearn/linear_model/_sag.py:354: ConvergenceWarning:\n",
            "\n",
            "The max_iter was reached which means the coef_ did not converge\n",
            "\n",
            "\u001b[32m[I 2022-09-02 16:20:47,943]\u001b[0m Trial 9 finished with value: 0.7415467133346342 and parameters: {'classifier': 'LR', 'lr_penalty': 'l2', 'lr_solver': 'saga'}. Best is trial 0 with value: 0.7870334497214272.\u001b[0m\n",
            "\u001b[32m[I 2022-09-02 16:20:58,205]\u001b[0m Trial 10 finished with value: 0.7798625966459564 and parameters: {'classifier': 'RF', 'rf_n_estimators': 481, 'rf_criterion': 'entropy', 'rf_max_depth': 18}. Best is trial 0 with value: 0.7870334497214272.\u001b[0m\n",
            "/usr/local/lib/python3.7/dist-packages/ipykernel_launcher.py:33: FutureWarning:\n",
            "\n",
            "suggest_loguniform has been deprecated in v3.0.0. This feature will be removed in v6.0.0. See https://github.com/optuna/optuna/releases/tag/v3.0.0. Use :func:`~optuna.trial.Trial.suggest_float` instead.\n",
            "\n",
            "\u001b[32m[I 2022-09-02 16:20:59,977]\u001b[0m Trial 11 finished with value: 0.7781392514958982 and parameters: {'classifier': 'XGB', 'xgb_n_estimators': 85, 'xgb_learning_rate': 1.8362520156556426e-05, 'xgb_max_depth': 9}. Best is trial 0 with value: 0.7870334497214272.\u001b[0m\n",
            "/usr/local/lib/python3.7/dist-packages/ipykernel_launcher.py:33: FutureWarning:\n",
            "\n",
            "suggest_loguniform has been deprecated in v3.0.0. This feature will be removed in v6.0.0. See https://github.com/optuna/optuna/releases/tag/v3.0.0. Use :func:`~optuna.trial.Trial.suggest_float` instead.\n",
            "\n",
            "\u001b[32m[I 2022-09-02 16:21:32,360]\u001b[0m Trial 12 finished with value: 0.7861373424312416 and parameters: {'classifier': 'XGB', 'xgb_n_estimators': 758, 'xgb_learning_rate': 2.18913832003796e-05, 'xgb_max_depth': 30}. Best is trial 0 with value: 0.7870334497214272.\u001b[0m\n",
            "/usr/local/lib/python3.7/dist-packages/ipykernel_launcher.py:33: FutureWarning:\n",
            "\n",
            "suggest_loguniform has been deprecated in v3.0.0. This feature will be removed in v6.0.0. See https://github.com/optuna/optuna/releases/tag/v3.0.0. Use :func:`~optuna.trial.Trial.suggest_float` instead.\n",
            "\n",
            "\u001b[32m[I 2022-09-02 16:22:14,079]\u001b[0m Trial 13 finished with value: 0.8123376506191605 and parameters: {'classifier': 'XGB', 'xgb_n_estimators': 866, 'xgb_learning_rate': 0.006140176021825139, 'xgb_max_depth': 31}. Best is trial 13 with value: 0.8123376506191605.\u001b[0m\n",
            "/usr/local/lib/python3.7/dist-packages/ipykernel_launcher.py:33: FutureWarning:\n",
            "\n",
            "suggest_loguniform has been deprecated in v3.0.0. This feature will be removed in v6.0.0. See https://github.com/optuna/optuna/releases/tag/v3.0.0. Use :func:`~optuna.trial.Trial.suggest_float` instead.\n",
            "\n",
            "\u001b[32m[I 2022-09-02 16:22:57,548]\u001b[0m Trial 14 finished with value: 0.8213849209014659 and parameters: {'classifier': 'XGB', 'xgb_n_estimators': 957, 'xgb_learning_rate': 0.00964624503661862, 'xgb_max_depth': 32}. Best is trial 14 with value: 0.8213849209014659.\u001b[0m\n",
            "/usr/local/lib/python3.7/dist-packages/ipykernel_launcher.py:33: FutureWarning:\n",
            "\n",
            "suggest_loguniform has been deprecated in v3.0.0. This feature will be removed in v6.0.0. See https://github.com/optuna/optuna/releases/tag/v3.0.0. Use :func:`~optuna.trial.Trial.suggest_float` instead.\n",
            "\n",
            "\u001b[32m[I 2022-09-02 16:23:41,902]\u001b[0m Trial 15 finished with value: 0.8255215762124491 and parameters: {'classifier': 'XGB', 'xgb_n_estimators': 997, 'xgb_learning_rate': 0.007873399300039278, 'xgb_max_depth': 23}. Best is trial 15 with value: 0.8255215762124491.\u001b[0m\n",
            "\u001b[32m[I 2022-09-02 16:23:57,281]\u001b[0m Trial 16 finished with value: 0.782089051359182 and parameters: {'classifier': 'RF', 'rf_n_estimators': 916, 'rf_criterion': 'gini', 'rf_max_depth': 30}. Best is trial 15 with value: 0.8255215762124491.\u001b[0m\n",
            "/usr/local/lib/python3.7/dist-packages/ipykernel_launcher.py:33: FutureWarning:\n",
            "\n",
            "suggest_loguniform has been deprecated in v3.0.0. This feature will be removed in v6.0.0. See https://github.com/optuna/optuna/releases/tag/v3.0.0. Use :func:`~optuna.trial.Trial.suggest_float` instead.\n",
            "\n",
            "\u001b[32m[I 2022-09-02 16:24:37,900]\u001b[0m Trial 17 finished with value: 0.8234618404258675 and parameters: {'classifier': 'XGB', 'xgb_n_estimators': 1000, 'xgb_learning_rate': 0.009103959625471612, 'xgb_max_depth': 19}. Best is trial 15 with value: 0.8255215762124491.\u001b[0m\n",
            "/usr/local/lib/python3.7/dist-packages/ipykernel_launcher.py:33: FutureWarning:\n",
            "\n",
            "suggest_loguniform has been deprecated in v3.0.0. This feature will be removed in v6.0.0. See https://github.com/optuna/optuna/releases/tag/v3.0.0. Use :func:`~optuna.trial.Trial.suggest_float` instead.\n",
            "\n",
            "\u001b[32m[I 2022-09-02 16:25:08,756]\u001b[0m Trial 18 finished with value: 0.7985982666801513 and parameters: {'classifier': 'XGB', 'xgb_n_estimators': 694, 'xgb_learning_rate': 0.001310427039076407, 'xgb_max_depth': 19}. Best is trial 15 with value: 0.8255215762124491.\u001b[0m\n",
            "/usr/local/lib/python3.7/dist-packages/ipykernel_launcher.py:33: FutureWarning:\n",
            "\n",
            "suggest_loguniform has been deprecated in v3.0.0. This feature will be removed in v6.0.0. See https://github.com/optuna/optuna/releases/tag/v3.0.0. Use :func:`~optuna.trial.Trial.suggest_float` instead.\n",
            "\n",
            "\u001b[32m[I 2022-09-02 16:25:55,035]\u001b[0m Trial 19 finished with value: 0.8078532878150962 and parameters: {'classifier': 'XGB', 'xgb_n_estimators': 999, 'xgb_learning_rate': 0.0012624669444464183, 'xgb_max_depth': 20}. Best is trial 15 with value: 0.8255215762124491.\u001b[0m\n",
            "\u001b[32m[I 2022-09-02 16:25:55,585]\u001b[0m Trial 20 finished with value: 0.7415467133346342 and parameters: {'classifier': 'RF', 'rf_n_estimators': 108, 'rf_criterion': 'gini', 'rf_max_depth': 2}. Best is trial 15 with value: 0.8255215762124491.\u001b[0m\n",
            "/usr/local/lib/python3.7/dist-packages/ipykernel_launcher.py:33: FutureWarning:\n",
            "\n",
            "suggest_loguniform has been deprecated in v3.0.0. This feature will be removed in v6.0.0. See https://github.com/optuna/optuna/releases/tag/v3.0.0. Use :func:`~optuna.trial.Trial.suggest_float` instead.\n",
            "\n",
            "\u001b[32m[I 2022-09-02 16:26:39,724]\u001b[0m Trial 21 finished with value: 0.8227705469619327 and parameters: {'classifier': 'XGB', 'xgb_n_estimators': 999, 'xgb_learning_rate': 0.009947921189194173, 'xgb_max_depth': 25}. Best is trial 15 with value: 0.8255215762124491.\u001b[0m\n",
            "/usr/local/lib/python3.7/dist-packages/ipykernel_launcher.py:33: FutureWarning:\n",
            "\n",
            "suggest_loguniform has been deprecated in v3.0.0. This feature will be removed in v6.0.0. See https://github.com/optuna/optuna/releases/tag/v3.0.0. Use :func:`~optuna.trial.Trial.suggest_float` instead.\n",
            "\n",
            "\u001b[32m[I 2022-09-02 16:27:26,871]\u001b[0m Trial 22 finished with value: 0.8117364238004361 and parameters: {'classifier': 'XGB', 'xgb_n_estimators': 997, 'xgb_learning_rate': 0.0030006002237342004, 'xgb_max_depth': 23}. Best is trial 15 with value: 0.8255215762124491.\u001b[0m\n",
            "/usr/local/lib/python3.7/dist-packages/ipykernel_launcher.py:33: FutureWarning:\n",
            "\n",
            "suggest_loguniform has been deprecated in v3.0.0. This feature will be removed in v6.0.0. See https://github.com/optuna/optuna/releases/tag/v3.0.0. Use :func:`~optuna.trial.Trial.suggest_float` instead.\n",
            "\n",
            "\u001b[32m[I 2022-09-02 16:28:02,660]\u001b[0m Trial 23 finished with value: 0.8130772428038596 and parameters: {'classifier': 'XGB', 'xgb_n_estimators': 787, 'xgb_learning_rate': 0.009595151113103387, 'xgb_max_depth': 25}. Best is trial 15 with value: 0.8255215762124491.\u001b[0m\n",
            "/usr/local/lib/python3.7/dist-packages/ipykernel_launcher.py:33: FutureWarning:\n",
            "\n",
            "suggest_loguniform has been deprecated in v3.0.0. This feature will be removed in v6.0.0. See https://github.com/optuna/optuna/releases/tag/v3.0.0. Use :func:`~optuna.trial.Trial.suggest_float` instead.\n",
            "\n",
            "\u001b[32m[I 2022-09-02 16:28:20,420]\u001b[0m Trial 24 finished with value: 0.785722329664282 and parameters: {'classifier': 'XGB', 'xgb_n_estimators': 593, 'xgb_learning_rate': 0.0001970030436434803, 'xgb_max_depth': 12}. Best is trial 15 with value: 0.8255215762124491.\u001b[0m\n",
            "/usr/local/lib/python3.7/dist-packages/ipykernel_launcher.py:33: FutureWarning:\n",
            "\n",
            "suggest_loguniform has been deprecated in v3.0.0. This feature will be removed in v6.0.0. See https://github.com/optuna/optuna/releases/tag/v3.0.0. Use :func:`~optuna.trial.Trial.suggest_float` instead.\n",
            "\n",
            "\u001b[32m[I 2022-09-02 16:28:54,399]\u001b[0m Trial 25 finished with value: 0.8017663079559344 and parameters: {'classifier': 'XGB', 'xgb_n_estimators': 869, 'xgb_learning_rate': 0.00268671237683421, 'xgb_max_depth': 15}. Best is trial 15 with value: 0.8255215762124491.\u001b[0m\n",
            "/usr/local/lib/python3.7/dist-packages/ipykernel_launcher.py:33: FutureWarning:\n",
            "\n",
            "suggest_loguniform has been deprecated in v3.0.0. This feature will be removed in v6.0.0. See https://github.com/optuna/optuna/releases/tag/v3.0.0. Use :func:`~optuna.trial.Trial.suggest_float` instead.\n",
            "\n",
            "\u001b[32m[I 2022-09-02 16:29:11,520]\u001b[0m Trial 26 finished with value: 0.8065367312989518 and parameters: {'classifier': 'XGB', 'xgb_n_estimators': 364, 'xgb_learning_rate': 0.0033077580522038966, 'xgb_max_depth': 25}. Best is trial 15 with value: 0.8255215762124491.\u001b[0m\n",
            "/usr/local/lib/python3.7/dist-packages/ipykernel_launcher.py:33: FutureWarning:\n",
            "\n",
            "suggest_loguniform has been deprecated in v3.0.0. This feature will be removed in v6.0.0. See https://github.com/optuna/optuna/releases/tag/v3.0.0. Use :func:`~optuna.trial.Trial.suggest_float` instead.\n",
            "\n",
            "\u001b[32m[I 2022-09-02 16:29:48,583]\u001b[0m Trial 27 finished with value: 0.7966144588600547 and parameters: {'classifier': 'XGB', 'xgb_n_estimators': 873, 'xgb_learning_rate': 0.0003558439746326366, 'xgb_max_depth': 22}. Best is trial 15 with value: 0.8255215762124491.\u001b[0m\n",
            "\u001b[32m[I 2022-09-02 16:29:52,502]\u001b[0m Trial 28 finished with value: 0.7415467133346342 and parameters: {'classifier': 'RF', 'rf_n_estimators': 834, 'rf_criterion': 'entropy', 'rf_max_depth': 2}. Best is trial 15 with value: 0.8255215762124491.\u001b[0m\n",
            "/usr/local/lib/python3.7/dist-packages/ipykernel_launcher.py:33: FutureWarning:\n",
            "\n",
            "suggest_loguniform has been deprecated in v3.0.0. This feature will be removed in v6.0.0. See https://github.com/optuna/optuna/releases/tag/v3.0.0. Use :func:`~optuna.trial.Trial.suggest_float` instead.\n",
            "\n",
            "\u001b[32m[I 2022-09-02 16:30:29,830]\u001b[0m Trial 29 finished with value: 0.8103333923627702 and parameters: {'classifier': 'XGB', 'xgb_n_estimators': 888, 'xgb_learning_rate': 0.0049045374931750655, 'xgb_max_depth': 17}. Best is trial 15 with value: 0.8255215762124491.\u001b[0m\n",
            "/usr/local/lib/python3.7/dist-packages/ipykernel_launcher.py:33: FutureWarning:\n",
            "\n",
            "suggest_loguniform has been deprecated in v3.0.0. This feature will be removed in v6.0.0. See https://github.com/optuna/optuna/releases/tag/v3.0.0. Use :func:`~optuna.trial.Trial.suggest_float` instead.\n",
            "\n",
            "\u001b[32m[I 2022-09-02 16:30:45,628]\u001b[0m Trial 30 finished with value: 0.7966495267655833 and parameters: {'classifier': 'XGB', 'xgb_n_estimators': 359, 'xgb_learning_rate': 0.0014708503884253879, 'xgb_max_depth': 27}. Best is trial 15 with value: 0.8255215762124491.\u001b[0m\n",
            "/usr/local/lib/python3.7/dist-packages/ipykernel_launcher.py:33: FutureWarning:\n",
            "\n",
            "suggest_loguniform has been deprecated in v3.0.0. This feature will be removed in v6.0.0. See https://github.com/optuna/optuna/releases/tag/v3.0.0. Use :func:`~optuna.trial.Trial.suggest_float` instead.\n",
            "\n",
            "\u001b[32m[I 2022-09-02 16:31:30,121]\u001b[0m Trial 31 finished with value: 0.8261487130424559 and parameters: {'classifier': 'XGB', 'xgb_n_estimators': 994, 'xgb_learning_rate': 0.009200621285723803, 'xgb_max_depth': 27}. Best is trial 31 with value: 0.8261487130424559.\u001b[0m\n",
            "/usr/local/lib/python3.7/dist-packages/ipykernel_launcher.py:33: FutureWarning:\n",
            "\n",
            "suggest_loguniform has been deprecated in v3.0.0. This feature will be removed in v6.0.0. See https://github.com/optuna/optuna/releases/tag/v3.0.0. Use :func:`~optuna.trial.Trial.suggest_float` instead.\n",
            "\n",
            "\u001b[32m[I 2022-09-02 16:32:14,219]\u001b[0m Trial 32 finished with value: 0.8220753434508655 and parameters: {'classifier': 'XGB', 'xgb_n_estimators': 984, 'xgb_learning_rate': 0.009486134543180189, 'xgb_max_depth': 27}. Best is trial 31 with value: 0.8261487130424559.\u001b[0m\n",
            "/usr/local/lib/python3.7/dist-packages/ipykernel_launcher.py:33: FutureWarning:\n",
            "\n",
            "suggest_loguniform has been deprecated in v3.0.0. This feature will be removed in v6.0.0. See https://github.com/optuna/optuna/releases/tag/v3.0.0. Use :func:`~optuna.trial.Trial.suggest_float` instead.\n",
            "\n",
            "\u001b[32m[I 2022-09-02 16:32:55,777]\u001b[0m Trial 33 finished with value: 0.8144791105624911 and parameters: {'classifier': 'XGB', 'xgb_n_estimators': 890, 'xgb_learning_rate': 0.0046192967869720615, 'xgb_max_depth': 22}. Best is trial 31 with value: 0.8261487130424559.\u001b[0m\n",
            "/usr/local/lib/python3.7/dist-packages/optuna/distributions.py:502: UserWarning:\n",
            "\n",
            "Choices for a categorical distribution should be a tuple of None, bool, int, float and str for persistent storage but contains (50,) which is of type tuple.\n",
            "\n",
            "/usr/local/lib/python3.7/dist-packages/optuna/distributions.py:502: UserWarning:\n",
            "\n",
            "Choices for a categorical distribution should be a tuple of None, bool, int, float and str for persistent storage but contains (100,) which is of type tuple.\n",
            "\n",
            "/usr/local/lib/python3.7/dist-packages/optuna/distributions.py:502: UserWarning:\n",
            "\n",
            "Choices for a categorical distribution should be a tuple of None, bool, int, float and str for persistent storage but contains (50, 50) which is of type tuple.\n",
            "\n",
            "\u001b[32m[I 2022-09-02 16:32:58,168]\u001b[0m Trial 34 finished with value: 0.7415467133346342 and parameters: {'classifier': 'MLP', 'mlp_hidden_layer_sizes': (100,), 'mlp_activation': 'relu', 'mlp_solver': 'sgd'}. Best is trial 31 with value: 0.8261487130424559.\u001b[0m\n",
            "/usr/local/lib/python3.7/dist-packages/ipykernel_launcher.py:33: FutureWarning:\n",
            "\n",
            "suggest_loguniform has been deprecated in v3.0.0. This feature will be removed in v6.0.0. See https://github.com/optuna/optuna/releases/tag/v3.0.0. Use :func:`~optuna.trial.Trial.suggest_float` instead.\n",
            "\n",
            "\u001b[32m[I 2022-09-02 16:33:32,709]\u001b[0m Trial 35 finished with value: 0.8005045120401695 and parameters: {'classifier': 'XGB', 'xgb_n_estimators': 807, 'xgb_learning_rate': 0.00046693534617925174, 'xgb_max_depth': 28}. Best is trial 31 with value: 0.8261487130424559.\u001b[0m\n",
            "/usr/local/lib/python3.7/dist-packages/ipykernel_launcher.py:33: FutureWarning:\n",
            "\n",
            "suggest_loguniform has been deprecated in v3.0.0. This feature will be removed in v6.0.0. See https://github.com/optuna/optuna/releases/tag/v3.0.0. Use :func:`~optuna.trial.Trial.suggest_float` instead.\n",
            "\n",
            "\u001b[32m[I 2022-09-02 16:33:36,194]\u001b[0m Trial 36 finished with value: 0.7411162547005261 and parameters: {'classifier': 'XGB', 'xgb_n_estimators': 937, 'xgb_learning_rate': 0.005592776893011815, 'xgb_max_depth': 2}. Best is trial 31 with value: 0.8261487130424559.\u001b[0m\n",
            "\u001b[32m[I 2022-09-02 16:33:36,431]\u001b[0m Trial 37 finished with value: 0.7590172385817247 and parameters: {'classifier': 'LR', 'lr_penalty': 'l1', 'lr_solver': 'liblinear'}. Best is trial 31 with value: 0.8261487130424559.\u001b[0m\n",
            "/usr/local/lib/python3.7/dist-packages/optuna/distributions.py:502: UserWarning:\n",
            "\n",
            "Choices for a categorical distribution should be a tuple of None, bool, int, float and str for persistent storage but contains (50,) which is of type tuple.\n",
            "\n",
            "/usr/local/lib/python3.7/dist-packages/optuna/distributions.py:502: UserWarning:\n",
            "\n",
            "Choices for a categorical distribution should be a tuple of None, bool, int, float and str for persistent storage but contains (100,) which is of type tuple.\n",
            "\n",
            "/usr/local/lib/python3.7/dist-packages/optuna/distributions.py:502: UserWarning:\n",
            "\n",
            "Choices for a categorical distribution should be a tuple of None, bool, int, float and str for persistent storage but contains (50, 50) which is of type tuple.\n",
            "\n",
            "\u001b[32m[I 2022-09-02 16:33:43,246]\u001b[0m Trial 38 finished with value: 0.7414321194381616 and parameters: {'classifier': 'MLP', 'mlp_hidden_layer_sizes': (100,), 'mlp_activation': 'tanh', 'mlp_solver': 'adam'}. Best is trial 31 with value: 0.8261487130424559.\u001b[0m\n",
            "/usr/local/lib/python3.7/dist-packages/ipykernel_launcher.py:33: FutureWarning:\n",
            "\n",
            "suggest_loguniform has been deprecated in v3.0.0. This feature will be removed in v6.0.0. See https://github.com/optuna/optuna/releases/tag/v3.0.0. Use :func:`~optuna.trial.Trial.suggest_float` instead.\n",
            "\n",
            "\u001b[32m[I 2022-09-02 16:34:11,581]\u001b[0m Trial 39 finished with value: 0.786682579656081 and parameters: {'classifier': 'XGB', 'xgb_n_estimators': 677, 'xgb_learning_rate': 0.00013760472107662635, 'xgb_max_depth': 24}. Best is trial 31 with value: 0.8261487130424559.\u001b[0m\n",
            "\u001b[32m[I 2022-09-02 16:34:11,818]\u001b[0m Trial 40 finished with value: 0.7590172385817247 and parameters: {'classifier': 'LR', 'lr_penalty': 'l1', 'lr_solver': 'liblinear'}. Best is trial 31 with value: 0.8261487130424559.\u001b[0m\n",
            "/usr/local/lib/python3.7/dist-packages/ipykernel_launcher.py:33: FutureWarning:\n",
            "\n",
            "suggest_loguniform has been deprecated in v3.0.0. This feature will be removed in v6.0.0. See https://github.com/optuna/optuna/releases/tag/v3.0.0. Use :func:`~optuna.trial.Trial.suggest_float` instead.\n",
            "\n",
            "\u001b[32m[I 2022-09-02 16:34:55,818]\u001b[0m Trial 41 finished with value: 0.8227482107525057 and parameters: {'classifier': 'XGB', 'xgb_n_estimators': 993, 'xgb_learning_rate': 0.009851319688074105, 'xgb_max_depth': 27}. Best is trial 31 with value: 0.8261487130424559.\u001b[0m\n",
            "/usr/local/lib/python3.7/dist-packages/ipykernel_launcher.py:33: FutureWarning:\n",
            "\n",
            "suggest_loguniform has been deprecated in v3.0.0. This feature will be removed in v6.0.0. See https://github.com/optuna/optuna/releases/tag/v3.0.0. Use :func:`~optuna.trial.Trial.suggest_float` instead.\n",
            "\n",
            "\u001b[32m[I 2022-09-02 16:35:38,121]\u001b[0m Trial 42 finished with value: 0.8275456542114262 and parameters: {'classifier': 'XGB', 'xgb_n_estimators': 1000, 'xgb_learning_rate': 0.008758571731671263, 'xgb_max_depth': 20}. Best is trial 42 with value: 0.8275456542114262.\u001b[0m\n",
            "/usr/local/lib/python3.7/dist-packages/ipykernel_launcher.py:33: FutureWarning:\n",
            "\n",
            "suggest_loguniform has been deprecated in v3.0.0. This feature will be removed in v6.0.0. See https://github.com/optuna/optuna/releases/tag/v3.0.0. Use :func:`~optuna.trial.Trial.suggest_float` instead.\n",
            "\n",
            "\u001b[32m[I 2022-09-02 16:36:19,203]\u001b[0m Trial 43 finished with value: 0.8138052543081236 and parameters: {'classifier': 'XGB', 'xgb_n_estimators': 924, 'xgb_learning_rate': 0.0022811079859347276, 'xgb_max_depth': 18}. Best is trial 42 with value: 0.8275456542114262.\u001b[0m\n",
            "/usr/local/lib/python3.7/dist-packages/optuna/distributions.py:502: UserWarning:\n",
            "\n",
            "Choices for a categorical distribution should be a tuple of None, bool, int, float and str for persistent storage but contains (50,) which is of type tuple.\n",
            "\n",
            "/usr/local/lib/python3.7/dist-packages/optuna/distributions.py:502: UserWarning:\n",
            "\n",
            "Choices for a categorical distribution should be a tuple of None, bool, int, float and str for persistent storage but contains (100,) which is of type tuple.\n",
            "\n",
            "/usr/local/lib/python3.7/dist-packages/optuna/distributions.py:502: UserWarning:\n",
            "\n",
            "Choices for a categorical distribution should be a tuple of None, bool, int, float and str for persistent storage but contains (50, 50) which is of type tuple.\n",
            "\n",
            "\u001b[32m[I 2022-09-02 16:36:31,595]\u001b[0m Trial 44 finished with value: 0.7711609688544775 and parameters: {'classifier': 'MLP', 'mlp_hidden_layer_sizes': (50, 50), 'mlp_activation': 'logistic', 'mlp_solver': 'adam'}. Best is trial 42 with value: 0.8275456542114262.\u001b[0m\n",
            "/usr/local/lib/python3.7/dist-packages/ipykernel_launcher.py:33: FutureWarning:\n",
            "\n",
            "suggest_loguniform has been deprecated in v3.0.0. This feature will be removed in v6.0.0. See https://github.com/optuna/optuna/releases/tag/v3.0.0. Use :func:`~optuna.trial.Trial.suggest_float` instead.\n",
            "\n",
            "\u001b[32m[I 2022-09-02 16:37:14,493]\u001b[0m Trial 45 finished with value: 0.8102525134038178 and parameters: {'classifier': 'XGB', 'xgb_n_estimators': 937, 'xgb_learning_rate': 0.005699587511701037, 'xgb_max_depth': 21}. Best is trial 42 with value: 0.8275456542114262.\u001b[0m\n",
            "/usr/local/lib/python3.7/dist-packages/ipykernel_launcher.py:33: FutureWarning:\n",
            "\n",
            "suggest_loguniform has been deprecated in v3.0.0. This feature will be removed in v6.0.0. See https://github.com/optuna/optuna/releases/tag/v3.0.0. Use :func:`~optuna.trial.Trial.suggest_float` instead.\n",
            "\n",
            "\u001b[32m[I 2022-09-02 16:37:44,261]\u001b[0m Trial 46 finished with value: 0.811586231336013 and parameters: {'classifier': 'XGB', 'xgb_n_estimators': 813, 'xgb_learning_rate': 0.006200903333720856, 'xgb_max_depth': 15}. Best is trial 42 with value: 0.8275456542114262.\u001b[0m\n",
            "\u001b[32m[I 2022-09-02 16:37:46,218]\u001b[0m Trial 47 finished with value: 0.7885381471828041 and parameters: {'classifier': 'RF', 'rf_n_estimators': 91, 'rf_criterion': 'entropy', 'rf_max_depth': 32}. Best is trial 42 with value: 0.8275456542114262.\u001b[0m\n",
            "/usr/local/lib/python3.7/dist-packages/ipykernel_launcher.py:33: FutureWarning:\n",
            "\n",
            "suggest_loguniform has been deprecated in v3.0.0. This feature will be removed in v6.0.0. See https://github.com/optuna/optuna/releases/tag/v3.0.0. Use :func:`~optuna.trial.Trial.suggest_float` instead.\n",
            "\n",
            "\u001b[32m[I 2022-09-02 16:38:28,801]\u001b[0m Trial 48 finished with value: 0.8075063792421903 and parameters: {'classifier': 'XGB', 'xgb_n_estimators': 928, 'xgb_learning_rate': 0.0038679641393768198, 'xgb_max_depth': 20}. Best is trial 42 with value: 0.8275456542114262.\u001b[0m\n",
            "\u001b[32m[I 2022-09-02 16:38:29,052]\u001b[0m Trial 49 finished with value: 0.7590172385817247 and parameters: {'classifier': 'LR', 'lr_penalty': 'l1', 'lr_solver': 'liblinear'}. Best is trial 42 with value: 0.8275456542114262.\u001b[0m\n",
            "/usr/local/lib/python3.7/dist-packages/ipykernel_launcher.py:33: FutureWarning:\n",
            "\n",
            "suggest_loguniform has been deprecated in v3.0.0. This feature will be removed in v6.0.0. See https://github.com/optuna/optuna/releases/tag/v3.0.0. Use :func:`~optuna.trial.Trial.suggest_float` instead.\n",
            "\n",
            "\u001b[32m[I 2022-09-02 16:39:16,511]\u001b[0m Trial 50 finished with value: 0.8070153749508819 and parameters: {'classifier': 'XGB', 'xgb_n_estimators': 999, 'xgb_learning_rate': 0.0019327546853084058, 'xgb_max_depth': 25}. Best is trial 42 with value: 0.8275456542114262.\u001b[0m\n",
            "/usr/local/lib/python3.7/dist-packages/ipykernel_launcher.py:33: FutureWarning:\n",
            "\n",
            "suggest_loguniform has been deprecated in v3.0.0. This feature will be removed in v6.0.0. See https://github.com/optuna/optuna/releases/tag/v3.0.0. Use :func:`~optuna.trial.Trial.suggest_float` instead.\n",
            "\n",
            "\u001b[32m[I 2022-09-02 16:40:02,236]\u001b[0m Trial 51 finished with value: 0.8268871296673208 and parameters: {'classifier': 'XGB', 'xgb_n_estimators': 993, 'xgb_learning_rate': 0.009805678247799, 'xgb_max_depth': 29}. Best is trial 42 with value: 0.8275456542114262.\u001b[0m\n",
            "/usr/local/lib/python3.7/dist-packages/ipykernel_launcher.py:33: FutureWarning:\n",
            "\n",
            "suggest_loguniform has been deprecated in v3.0.0. This feature will be removed in v6.0.0. See https://github.com/optuna/optuna/releases/tag/v3.0.0. Use :func:`~optuna.trial.Trial.suggest_float` instead.\n",
            "\n",
            "\u001b[32m[I 2022-09-02 16:40:44,779]\u001b[0m Trial 52 finished with value: 0.8108227313798346 and parameters: {'classifier': 'XGB', 'xgb_n_estimators': 915, 'xgb_learning_rate': 0.007363946991812978, 'xgb_max_depth': 28}. Best is trial 42 with value: 0.8275456542114262.\u001b[0m\n",
            "/usr/local/lib/python3.7/dist-packages/ipykernel_launcher.py:33: FutureWarning:\n",
            "\n",
            "suggest_loguniform has been deprecated in v3.0.0. This feature will be removed in v6.0.0. See https://github.com/optuna/optuna/releases/tag/v3.0.0. Use :func:`~optuna.trial.Trial.suggest_float` instead.\n",
            "\n",
            "\u001b[32m[I 2022-09-02 16:41:28,057]\u001b[0m Trial 53 finished with value: 0.8172622425420326 and parameters: {'classifier': 'XGB', 'xgb_n_estimators': 939, 'xgb_learning_rate': 0.006996255954836726, 'xgb_max_depth': 29}. Best is trial 42 with value: 0.8275456542114262.\u001b[0m\n",
            "/usr/local/lib/python3.7/dist-packages/ipykernel_launcher.py:33: FutureWarning:\n",
            "\n",
            "suggest_loguniform has been deprecated in v3.0.0. This feature will be removed in v6.0.0. See https://github.com/optuna/optuna/releases/tag/v3.0.0. Use :func:`~optuna.trial.Trial.suggest_float` instead.\n",
            "\n",
            "\u001b[32m[I 2022-09-02 16:42:03,366]\u001b[0m Trial 54 finished with value: 0.7839037174535941 and parameters: {'classifier': 'XGB', 'xgb_n_estimators': 844, 'xgb_learning_rate': 6.469874716156131e-05, 'xgb_max_depth': 23}. Best is trial 42 with value: 0.8275456542114262.\u001b[0m\n",
            "/usr/local/lib/python3.7/dist-packages/ipykernel_launcher.py:33: FutureWarning:\n",
            "\n",
            "suggest_loguniform has been deprecated in v3.0.0. This feature will be removed in v6.0.0. See https://github.com/optuna/optuna/releases/tag/v3.0.0. Use :func:`~optuna.trial.Trial.suggest_float` instead.\n",
            "\n",
            "\u001b[32m[I 2022-09-02 16:42:42,143]\u001b[0m Trial 55 finished with value: 0.8144227878345033 and parameters: {'classifier': 'XGB', 'xgb_n_estimators': 950, 'xgb_learning_rate': 0.003928095844537559, 'xgb_max_depth': 16}. Best is trial 42 with value: 0.8275456542114262.\u001b[0m\n",
            "/usr/local/lib/python3.7/dist-packages/ipykernel_launcher.py:33: FutureWarning:\n",
            "\n",
            "suggest_loguniform has been deprecated in v3.0.0. This feature will be removed in v6.0.0. See https://github.com/optuna/optuna/releases/tag/v3.0.0. Use :func:`~optuna.trial.Trial.suggest_float` instead.\n",
            "\n",
            "\u001b[32m[I 2022-09-02 16:42:51,637]\u001b[0m Trial 56 finished with value: 0.7837318500057356 and parameters: {'classifier': 'XGB', 'xgb_n_estimators': 228, 'xgb_learning_rate': 0.0006678549521091766, 'xgb_max_depth': 26}. Best is trial 42 with value: 0.8275456542114262.\u001b[0m\n",
            "/usr/local/lib/python3.7/dist-packages/optuna/distributions.py:502: UserWarning:\n",
            "\n",
            "Choices for a categorical distribution should be a tuple of None, bool, int, float and str for persistent storage but contains (50,) which is of type tuple.\n",
            "\n",
            "/usr/local/lib/python3.7/dist-packages/optuna/distributions.py:502: UserWarning:\n",
            "\n",
            "Choices for a categorical distribution should be a tuple of None, bool, int, float and str for persistent storage but contains (100,) which is of type tuple.\n",
            "\n",
            "/usr/local/lib/python3.7/dist-packages/optuna/distributions.py:502: UserWarning:\n",
            "\n",
            "Choices for a categorical distribution should be a tuple of None, bool, int, float and str for persistent storage but contains (50, 50) which is of type tuple.\n",
            "\n",
            "\u001b[32m[I 2022-09-02 16:42:54,093]\u001b[0m Trial 57 finished with value: 0.7415467133346342 and parameters: {'classifier': 'MLP', 'mlp_hidden_layer_sizes': (100,), 'mlp_activation': 'relu', 'mlp_solver': 'sgd'}. Best is trial 42 with value: 0.8275456542114262.\u001b[0m\n",
            "\u001b[32m[I 2022-09-02 16:43:02,047]\u001b[0m Trial 58 finished with value: 0.7787189641647454 and parameters: {'classifier': 'RF', 'rf_n_estimators': 502, 'rf_criterion': 'gini', 'rf_max_depth': 15}. Best is trial 42 with value: 0.8275456542114262.\u001b[0m\n",
            "/usr/local/lib/python3.7/dist-packages/ipykernel_launcher.py:33: FutureWarning:\n",
            "\n",
            "suggest_loguniform has been deprecated in v3.0.0. This feature will be removed in v6.0.0. See https://github.com/optuna/optuna/releases/tag/v3.0.0. Use :func:`~optuna.trial.Trial.suggest_float` instead.\n",
            "\n",
            "\u001b[32m[I 2022-09-02 16:43:36,030]\u001b[0m Trial 59 finished with value: 0.8186436596514789 and parameters: {'classifier': 'XGB', 'xgb_n_estimators': 719, 'xgb_learning_rate': 0.007125663146455926, 'xgb_max_depth': 30}. Best is trial 42 with value: 0.8275456542114262.\u001b[0m\n",
            "/usr/local/lib/python3.7/dist-packages/ipykernel_launcher.py:33: FutureWarning:\n",
            "\n",
            "suggest_loguniform has been deprecated in v3.0.0. This feature will be removed in v6.0.0. See https://github.com/optuna/optuna/releases/tag/v3.0.0. Use :func:`~optuna.trial.Trial.suggest_float` instead.\n",
            "\n",
            "\u001b[32m[I 2022-09-02 16:44:13,944]\u001b[0m Trial 60 finished with value: 0.82819402230078 and parameters: {'classifier': 'XGB', 'xgb_n_estimators': 839, 'xgb_learning_rate': 0.009861504834905799, 'xgb_max_depth': 32}. Best is trial 60 with value: 0.82819402230078.\u001b[0m\n",
            "/usr/local/lib/python3.7/dist-packages/ipykernel_launcher.py:33: FutureWarning:\n",
            "\n",
            "suggest_loguniform has been deprecated in v3.0.0. This feature will be removed in v6.0.0. See https://github.com/optuna/optuna/releases/tag/v3.0.0. Use :func:`~optuna.trial.Trial.suggest_float` instead.\n",
            "\n",
            "\u001b[32m[I 2022-09-02 16:44:56,380]\u001b[0m Trial 61 finished with value: 0.8247973643854246 and parameters: {'classifier': 'XGB', 'xgb_n_estimators': 957, 'xgb_learning_rate': 0.009910189121718148, 'xgb_max_depth': 32}. Best is trial 60 with value: 0.82819402230078.\u001b[0m\n",
            "/usr/local/lib/python3.7/dist-packages/ipykernel_launcher.py:33: FutureWarning:\n",
            "\n",
            "suggest_loguniform has been deprecated in v3.0.0. This feature will be removed in v6.0.0. See https://github.com/optuna/optuna/releases/tag/v3.0.0. Use :func:`~optuna.trial.Trial.suggest_float` instead.\n",
            "\n",
            "\u001b[32m[I 2022-09-02 16:45:40,894]\u001b[0m Trial 62 finished with value: 0.8152274866550999 and parameters: {'classifier': 'XGB', 'xgb_n_estimators': 951, 'xgb_learning_rate': 0.007017478793573087, 'xgb_max_depth': 31}. Best is trial 60 with value: 0.82819402230078.\u001b[0m\n",
            "/usr/local/lib/python3.7/dist-packages/ipykernel_launcher.py:33: FutureWarning:\n",
            "\n",
            "suggest_loguniform has been deprecated in v3.0.0. This feature will be removed in v6.0.0. See https://github.com/optuna/optuna/releases/tag/v3.0.0. Use :func:`~optuna.trial.Trial.suggest_float` instead.\n",
            "\n",
            "\u001b[32m[I 2022-09-02 16:46:20,630]\u001b[0m Trial 63 finished with value: 0.8116684034747916 and parameters: {'classifier': 'XGB', 'xgb_n_estimators': 846, 'xgb_learning_rate': 0.004782714574754571, 'xgb_max_depth': 31}. Best is trial 60 with value: 0.82819402230078.\u001b[0m\n",
            "/usr/local/lib/python3.7/dist-packages/ipykernel_launcher.py:33: FutureWarning:\n",
            "\n",
            "suggest_loguniform has been deprecated in v3.0.0. This feature will be removed in v6.0.0. See https://github.com/optuna/optuna/releases/tag/v3.0.0. Use :func:`~optuna.trial.Trial.suggest_float` instead.\n",
            "\n",
            "\u001b[32m[I 2022-09-02 16:46:58,053]\u001b[0m Trial 64 finished with value: 0.7861373424312416 and parameters: {'classifier': 'XGB', 'xgb_n_estimators': 902, 'xgb_learning_rate': 1.355255015786673e-05, 'xgb_max_depth': 32}. Best is trial 60 with value: 0.82819402230078.\u001b[0m\n",
            "/usr/local/lib/python3.7/dist-packages/ipykernel_launcher.py:33: FutureWarning:\n",
            "\n",
            "suggest_loguniform has been deprecated in v3.0.0. This feature will be removed in v6.0.0. See https://github.com/optuna/optuna/releases/tag/v3.0.0. Use :func:`~optuna.trial.Trial.suggest_float` instead.\n",
            "\n",
            "\u001b[32m[I 2022-09-02 16:47:40,490]\u001b[0m Trial 65 finished with value: 0.8275864096300533 and parameters: {'classifier': 'XGB', 'xgb_n_estimators': 964, 'xgb_learning_rate': 0.009941428652649652, 'xgb_max_depth': 29}. Best is trial 60 with value: 0.82819402230078.\u001b[0m\n",
            "/usr/local/lib/python3.7/dist-packages/ipykernel_launcher.py:33: FutureWarning:\n",
            "\n",
            "suggest_loguniform has been deprecated in v3.0.0. This feature will be removed in v6.0.0. See https://github.com/optuna/optuna/releases/tag/v3.0.0. Use :func:`~optuna.trial.Trial.suggest_float` instead.\n",
            "\n",
            "\u001b[32m[I 2022-09-02 16:48:22,822]\u001b[0m Trial 66 finished with value: 0.829461105559146 and parameters: {'classifier': 'XGB', 'xgb_n_estimators': 962, 'xgb_learning_rate': 0.009989993756032071, 'xgb_max_depth': 29}. Best is trial 66 with value: 0.829461105559146.\u001b[0m\n",
            "/usr/local/lib/python3.7/dist-packages/ipykernel_launcher.py:33: FutureWarning:\n",
            "\n",
            "suggest_loguniform has been deprecated in v3.0.0. This feature will be removed in v6.0.0. See https://github.com/optuna/optuna/releases/tag/v3.0.0. Use :func:`~optuna.trial.Trial.suggest_float` instead.\n",
            "\n",
            "\u001b[32m[I 2022-09-02 16:49:02,635]\u001b[0m Trial 67 finished with value: 0.8179114398236934 and parameters: {'classifier': 'XGB', 'xgb_n_estimators': 845, 'xgb_learning_rate': 0.006407569927057511, 'xgb_max_depth': 29}. Best is trial 66 with value: 0.829461105559146.\u001b[0m\n",
            "/usr/local/lib/python3.7/dist-packages/sklearn/linear_model/_sag.py:354: ConvergenceWarning:\n",
            "\n",
            "The max_iter was reached which means the coef_ did not converge\n",
            "\n",
            "\u001b[32m[I 2022-09-02 16:49:05,422]\u001b[0m Trial 68 finished with value: 0.7415467133346342 and parameters: {'classifier': 'LR', 'lr_penalty': 'l1', 'lr_solver': 'saga'}. Best is trial 66 with value: 0.829461105559146.\u001b[0m\n",
            "/usr/local/lib/python3.7/dist-packages/ipykernel_launcher.py:33: FutureWarning:\n",
            "\n",
            "suggest_loguniform has been deprecated in v3.0.0. This feature will be removed in v6.0.0. See https://github.com/optuna/optuna/releases/tag/v3.0.0. Use :func:`~optuna.trial.Trial.suggest_float` instead.\n",
            "\n",
            "\u001b[32m[I 2022-09-02 16:49:50,004]\u001b[0m Trial 69 finished with value: 0.8227653946593999 and parameters: {'classifier': 'XGB', 'xgb_n_estimators': 964, 'xgb_learning_rate': 0.0074964274027271936, 'xgb_max_depth': 29}. Best is trial 66 with value: 0.829461105559146.\u001b[0m\n",
            "/usr/local/lib/python3.7/dist-packages/ipykernel_launcher.py:33: FutureWarning:\n",
            "\n",
            "suggest_loguniform has been deprecated in v3.0.0. This feature will be removed in v6.0.0. See https://github.com/optuna/optuna/releases/tag/v3.0.0. Use :func:`~optuna.trial.Trial.suggest_float` instead.\n",
            "\n",
            "\u001b[32m[I 2022-09-02 16:50:25,245]\u001b[0m Trial 70 finished with value: 0.8172805145811541 and parameters: {'classifier': 'XGB', 'xgb_n_estimators': 741, 'xgb_learning_rate': 0.003714379495468139, 'xgb_max_depth': 29}. Best is trial 66 with value: 0.829461105559146.\u001b[0m\n",
            "/usr/local/lib/python3.7/dist-packages/ipykernel_launcher.py:33: FutureWarning:\n",
            "\n",
            "suggest_loguniform has been deprecated in v3.0.0. This feature will be removed in v6.0.0. See https://github.com/optuna/optuna/releases/tag/v3.0.0. Use :func:`~optuna.trial.Trial.suggest_float` instead.\n",
            "\n",
            "\u001b[32m[I 2022-09-02 16:51:08,176]\u001b[0m Trial 71 finished with value: 0.8241034037841318 and parameters: {'classifier': 'XGB', 'xgb_n_estimators': 959, 'xgb_learning_rate': 0.009706684924070392, 'xgb_max_depth': 32}. Best is trial 66 with value: 0.829461105559146.\u001b[0m\n",
            "/usr/local/lib/python3.7/dist-packages/ipykernel_launcher.py:33: FutureWarning:\n",
            "\n",
            "suggest_loguniform has been deprecated in v3.0.0. This feature will be removed in v6.0.0. See https://github.com/optuna/optuna/releases/tag/v3.0.0. Use :func:`~optuna.trial.Trial.suggest_float` instead.\n",
            "\n",
            "\u001b[32m[I 2022-09-02 16:51:50,271]\u001b[0m Trial 72 finished with value: 0.8131325757068243 and parameters: {'classifier': 'XGB', 'xgb_n_estimators': 902, 'xgb_learning_rate': 0.007945154269290381, 'xgb_max_depth': 30}. Best is trial 66 with value: 0.829461105559146.\u001b[0m\n",
            "/usr/local/lib/python3.7/dist-packages/ipykernel_launcher.py:33: FutureWarning:\n",
            "\n",
            "suggest_loguniform has been deprecated in v3.0.0. This feature will be removed in v6.0.0. See https://github.com/optuna/optuna/releases/tag/v3.0.0. Use :func:`~optuna.trial.Trial.suggest_float` instead.\n",
            "\n",
            "\u001b[32m[I 2022-09-02 16:52:35,671]\u001b[0m Trial 73 finished with value: 0.8158304277073929 and parameters: {'classifier': 'XGB', 'xgb_n_estimators': 969, 'xgb_learning_rate': 0.005053979727321751, 'xgb_max_depth': 32}. Best is trial 66 with value: 0.829461105559146.\u001b[0m\n",
            "/usr/local/lib/python3.7/dist-packages/ipykernel_launcher.py:33: FutureWarning:\n",
            "\n",
            "suggest_loguniform has been deprecated in v3.0.0. This feature will be removed in v6.0.0. See https://github.com/optuna/optuna/releases/tag/v3.0.0. Use :func:`~optuna.trial.Trial.suggest_float` instead.\n",
            "\n",
            "\u001b[32m[I 2022-09-02 16:53:20,251]\u001b[0m Trial 74 finished with value: 0.8268465180183436 and parameters: {'classifier': 'XGB', 'xgb_n_estimators': 999, 'xgb_learning_rate': 0.009322688538969665, 'xgb_max_depth': 31}. Best is trial 66 with value: 0.829461105559146.\u001b[0m\n",
            "\u001b[32m[I 2022-09-02 16:53:34,869]\u001b[0m Trial 75 finished with value: 0.7809857914637548 and parameters: {'classifier': 'RF', 'rf_n_estimators': 720, 'rf_criterion': 'entropy', 'rf_max_depth': 18}. Best is trial 66 with value: 0.829461105559146.\u001b[0m\n",
            "/usr/local/lib/python3.7/dist-packages/ipykernel_launcher.py:33: FutureWarning:\n",
            "\n",
            "suggest_loguniform has been deprecated in v3.0.0. This feature will be removed in v6.0.0. See https://github.com/optuna/optuna/releases/tag/v3.0.0. Use :func:`~optuna.trial.Trial.suggest_float` instead.\n",
            "\n",
            "\u001b[32m[I 2022-09-02 16:54:21,608]\u001b[0m Trial 76 finished with value: 0.812254863090541 and parameters: {'classifier': 'XGB', 'xgb_n_estimators': 997, 'xgb_learning_rate': 0.005567611702522026, 'xgb_max_depth': 30}. Best is trial 66 with value: 0.829461105559146.\u001b[0m\n",
            "/usr/local/lib/python3.7/dist-packages/ipykernel_launcher.py:33: FutureWarning:\n",
            "\n",
            "suggest_loguniform has been deprecated in v3.0.0. This feature will be removed in v6.0.0. See https://github.com/optuna/optuna/releases/tag/v3.0.0. Use :func:`~optuna.trial.Trial.suggest_float` instead.\n",
            "\n",
            "\u001b[32m[I 2022-09-02 16:54:50,356]\u001b[0m Trial 77 finished with value: 0.8137494155910923 and parameters: {'classifier': 'XGB', 'xgb_n_estimators': 610, 'xgb_learning_rate': 0.007655627777957009, 'xgb_max_depth': 28}. Best is trial 66 with value: 0.829461105559146.\u001b[0m\n",
            "/usr/local/lib/python3.7/dist-packages/optuna/distributions.py:502: UserWarning:\n",
            "\n",
            "Choices for a categorical distribution should be a tuple of None, bool, int, float and str for persistent storage but contains (50,) which is of type tuple.\n",
            "\n",
            "/usr/local/lib/python3.7/dist-packages/optuna/distributions.py:502: UserWarning:\n",
            "\n",
            "Choices for a categorical distribution should be a tuple of None, bool, int, float and str for persistent storage but contains (100,) which is of type tuple.\n",
            "\n",
            "/usr/local/lib/python3.7/dist-packages/optuna/distributions.py:502: UserWarning:\n",
            "\n",
            "Choices for a categorical distribution should be a tuple of None, bool, int, float and str for persistent storage but contains (50, 50) which is of type tuple.\n",
            "\n",
            "\u001b[32m[I 2022-09-02 16:54:58,924]\u001b[0m Trial 78 finished with value: 0.7588588818503835 and parameters: {'classifier': 'MLP', 'mlp_hidden_layer_sizes': (50,), 'mlp_activation': 'tanh', 'mlp_solver': 'adam'}. Best is trial 66 with value: 0.829461105559146.\u001b[0m\n",
            "/usr/local/lib/python3.7/dist-packages/ipykernel_launcher.py:33: FutureWarning:\n",
            "\n",
            "suggest_loguniform has been deprecated in v3.0.0. This feature will be removed in v6.0.0. See https://github.com/optuna/optuna/releases/tag/v3.0.0. Use :func:`~optuna.trial.Trial.suggest_float` instead.\n",
            "\n",
            "\u001b[32m[I 2022-09-02 16:55:40,974]\u001b[0m Trial 79 finished with value: 0.8104001896356371 and parameters: {'classifier': 'XGB', 'xgb_n_estimators': 886, 'xgb_learning_rate': 0.003308477156795482, 'xgb_max_depth': 26}. Best is trial 66 with value: 0.829461105559146.\u001b[0m\n",
            "/usr/local/lib/python3.7/dist-packages/ipykernel_launcher.py:33: FutureWarning:\n",
            "\n",
            "suggest_loguniform has been deprecated in v3.0.0. This feature will be removed in v6.0.0. See https://github.com/optuna/optuna/releases/tag/v3.0.0. Use :func:`~optuna.trial.Trial.suggest_float` instead.\n",
            "\n",
            "\u001b[32m[I 2022-09-02 16:56:28,634]\u001b[0m Trial 80 finished with value: 0.8111214308029908 and parameters: {'classifier': 'XGB', 'xgb_n_estimators': 999, 'xgb_learning_rate': 0.004507922309266616, 'xgb_max_depth': 30}. Best is trial 66 with value: 0.829461105559146.\u001b[0m\n",
            "/usr/local/lib/python3.7/dist-packages/ipykernel_launcher.py:33: FutureWarning:\n",
            "\n",
            "suggest_loguniform has been deprecated in v3.0.0. This feature will be removed in v6.0.0. See https://github.com/optuna/optuna/releases/tag/v3.0.0. Use :func:`~optuna.trial.Trial.suggest_float` instead.\n",
            "\n",
            "\u001b[32m[I 2022-09-02 16:57:12,052]\u001b[0m Trial 81 finished with value: 0.8268465180183436 and parameters: {'classifier': 'XGB', 'xgb_n_estimators': 964, 'xgb_learning_rate': 0.009497968400563701, 'xgb_max_depth': 32}. Best is trial 66 with value: 0.829461105559146.\u001b[0m\n",
            "/usr/local/lib/python3.7/dist-packages/ipykernel_launcher.py:33: FutureWarning:\n",
            "\n",
            "suggest_loguniform has been deprecated in v3.0.0. This feature will be removed in v6.0.0. See https://github.com/optuna/optuna/releases/tag/v3.0.0. Use :func:`~optuna.trial.Trial.suggest_float` instead.\n",
            "\n",
            "\u001b[32m[I 2022-09-02 16:57:54,918]\u001b[0m Trial 82 finished with value: 0.8220805763388737 and parameters: {'classifier': 'XGB', 'xgb_n_estimators': 915, 'xgb_learning_rate': 0.00795152045450962, 'xgb_max_depth': 31}. Best is trial 66 with value: 0.829461105559146.\u001b[0m\n",
            "/usr/local/lib/python3.7/dist-packages/ipykernel_launcher.py:33: FutureWarning:\n",
            "\n",
            "suggest_loguniform has been deprecated in v3.0.0. This feature will be removed in v6.0.0. See https://github.com/optuna/optuna/releases/tag/v3.0.0. Use :func:`~optuna.trial.Trial.suggest_float` instead.\n",
            "\n",
            "\u001b[32m[I 2022-09-02 16:58:37,540]\u001b[0m Trial 83 finished with value: 0.8268465180183436 and parameters: {'classifier': 'XGB', 'xgb_n_estimators': 964, 'xgb_learning_rate': 0.00985884373875155, 'xgb_max_depth': 27}. Best is trial 66 with value: 0.829461105559146.\u001b[0m\n",
            "/usr/local/lib/python3.7/dist-packages/ipykernel_launcher.py:33: FutureWarning:\n",
            "\n",
            "suggest_loguniform has been deprecated in v3.0.0. This feature will be removed in v6.0.0. See https://github.com/optuna/optuna/releases/tag/v3.0.0. Use :func:`~optuna.trial.Trial.suggest_float` instead.\n",
            "\n",
            "\u001b[32m[I 2022-09-02 16:58:59,730]\u001b[0m Trial 84 finished with value: 0.8186436596514789 and parameters: {'classifier': 'XGB', 'xgb_n_estimators': 473, 'xgb_learning_rate': 0.00853347196241113, 'xgb_max_depth': 28}. Best is trial 66 with value: 0.829461105559146.\u001b[0m\n",
            "/usr/local/lib/python3.7/dist-packages/ipykernel_launcher.py:33: FutureWarning:\n",
            "\n",
            "suggest_loguniform has been deprecated in v3.0.0. This feature will be removed in v6.0.0. See https://github.com/optuna/optuna/releases/tag/v3.0.0. Use :func:`~optuna.trial.Trial.suggest_float` instead.\n",
            "\n",
            "\u001b[32m[I 2022-09-02 16:59:38,558]\u001b[0m Trial 85 finished with value: 0.8227653946593999 and parameters: {'classifier': 'XGB', 'xgb_n_estimators': 861, 'xgb_learning_rate': 0.00991440190622312, 'xgb_max_depth': 27}. Best is trial 66 with value: 0.829461105559146.\u001b[0m\n",
            "/usr/local/lib/python3.7/dist-packages/ipykernel_launcher.py:33: FutureWarning:\n",
            "\n",
            "suggest_loguniform has been deprecated in v3.0.0. This feature will be removed in v6.0.0. See https://github.com/optuna/optuna/releases/tag/v3.0.0. Use :func:`~optuna.trial.Trial.suggest_float` instead.\n",
            "\n",
            "\u001b[32m[I 2022-09-02 17:00:23,898]\u001b[0m Trial 86 finished with value: 0.8172310818526628 and parameters: {'classifier': 'XGB', 'xgb_n_estimators': 963, 'xgb_learning_rate': 0.005823158460227911, 'xgb_max_depth': 30}. Best is trial 66 with value: 0.829461105559146.\u001b[0m\n",
            "\u001b[32m[I 2022-09-02 17:00:24,157]\u001b[0m Trial 87 finished with value: 0.7590172385817247 and parameters: {'classifier': 'LR', 'lr_penalty': 'l1', 'lr_solver': 'liblinear'}. Best is trial 66 with value: 0.829461105559146.\u001b[0m\n",
            "/usr/local/lib/python3.7/dist-packages/ipykernel_launcher.py:33: FutureWarning:\n",
            "\n",
            "suggest_loguniform has been deprecated in v3.0.0. This feature will be removed in v6.0.0. See https://github.com/optuna/optuna/releases/tag/v3.0.0. Use :func:`~optuna.trial.Trial.suggest_float` instead.\n",
            "\n",
            "\u001b[32m[I 2022-09-02 17:01:09,706]\u001b[0m Trial 88 finished with value: 0.8206781994805311 and parameters: {'classifier': 'XGB', 'xgb_n_estimators': 972, 'xgb_learning_rate': 0.006225398717187336, 'xgb_max_depth': 26}. Best is trial 66 with value: 0.829461105559146.\u001b[0m\n",
            "/usr/local/lib/python3.7/dist-packages/ipykernel_launcher.py:33: FutureWarning:\n",
            "\n",
            "suggest_loguniform has been deprecated in v3.0.0. This feature will be removed in v6.0.0. See https://github.com/optuna/optuna/releases/tag/v3.0.0. Use :func:`~optuna.trial.Trial.suggest_float` instead.\n",
            "\n",
            "\u001b[32m[I 2022-09-02 17:01:21,512]\u001b[0m Trial 89 finished with value: 0.8112506495237509 and parameters: {'classifier': 'XGB', 'xgb_n_estimators': 918, 'xgb_learning_rate': 0.008204068951502082, 'xgb_max_depth': 7}. Best is trial 66 with value: 0.829461105559146.\u001b[0m\n",
            "/usr/local/lib/python3.7/dist-packages/ipykernel_launcher.py:33: FutureWarning:\n",
            "\n",
            "suggest_loguniform has been deprecated in v3.0.0. This feature will be removed in v6.0.0. See https://github.com/optuna/optuna/releases/tag/v3.0.0. Use :func:`~optuna.trial.Trial.suggest_float` instead.\n",
            "\n",
            "\u001b[32m[I 2022-09-02 17:02:00,136]\u001b[0m Trial 90 finished with value: 0.81106774228922 and parameters: {'classifier': 'XGB', 'xgb_n_estimators': 820, 'xgb_learning_rate': 0.004494633388032137, 'xgb_max_depth': 31}. Best is trial 66 with value: 0.829461105559146.\u001b[0m\n",
            "/usr/local/lib/python3.7/dist-packages/ipykernel_launcher.py:33: FutureWarning:\n",
            "\n",
            "suggest_loguniform has been deprecated in v3.0.0. This feature will be removed in v6.0.0. See https://github.com/optuna/optuna/releases/tag/v3.0.0. Use :func:`~optuna.trial.Trial.suggest_float` instead.\n",
            "\n",
            "\u001b[32m[I 2022-09-02 17:02:43,784]\u001b[0m Trial 91 finished with value: 0.8227482107525057 and parameters: {'classifier': 'XGB', 'xgb_n_estimators': 981, 'xgb_learning_rate': 0.008261096675494657, 'xgb_max_depth': 24}. Best is trial 66 with value: 0.829461105559146.\u001b[0m\n",
            "/usr/local/lib/python3.7/dist-packages/ipykernel_launcher.py:33: FutureWarning:\n",
            "\n",
            "suggest_loguniform has been deprecated in v3.0.0. This feature will be removed in v6.0.0. See https://github.com/optuna/optuna/releases/tag/v3.0.0. Use :func:`~optuna.trial.Trial.suggest_float` instead.\n",
            "\n",
            "\u001b[32m[I 2022-09-02 17:03:25,795]\u001b[0m Trial 92 finished with value: 0.8337047379895899 and parameters: {'classifier': 'XGB', 'xgb_n_estimators': 943, 'xgb_learning_rate': 0.00988853248529165, 'xgb_max_depth': 29}. Best is trial 92 with value: 0.8337047379895899.\u001b[0m\n",
            "/usr/local/lib/python3.7/dist-packages/ipykernel_launcher.py:33: FutureWarning:\n",
            "\n",
            "suggest_loguniform has been deprecated in v3.0.0. This feature will be removed in v6.0.0. See https://github.com/optuna/optuna/releases/tag/v3.0.0. Use :func:`~optuna.trial.Trial.suggest_float` instead.\n",
            "\n",
            "\u001b[32m[I 2022-09-02 17:04:09,698]\u001b[0m Trial 93 finished with value: 0.8158304277073929 and parameters: {'classifier': 'XGB', 'xgb_n_estimators': 928, 'xgb_learning_rate': 0.006118754591711705, 'xgb_max_depth': 29}. Best is trial 92 with value: 0.8337047379895899.\u001b[0m\n",
            "/usr/local/lib/python3.7/dist-packages/ipykernel_launcher.py:33: FutureWarning:\n",
            "\n",
            "suggest_loguniform has been deprecated in v3.0.0. This feature will be removed in v6.0.0. See https://github.com/optuna/optuna/releases/tag/v3.0.0. Use :func:`~optuna.trial.Trial.suggest_float` instead.\n",
            "\n",
            "\u001b[32m[I 2022-09-02 17:04:49,293]\u001b[0m Trial 94 finished with value: 0.8213919093772409 and parameters: {'classifier': 'XGB', 'xgb_n_estimators': 887, 'xgb_learning_rate': 0.009740520011692731, 'xgb_max_depth': 28}. Best is trial 92 with value: 0.8337047379895899.\u001b[0m\n",
            "/usr/local/lib/python3.7/dist-packages/ipykernel_launcher.py:33: FutureWarning:\n",
            "\n",
            "suggest_loguniform has been deprecated in v3.0.0. This feature will be removed in v6.0.0. See https://github.com/optuna/optuna/releases/tag/v3.0.0. Use :func:`~optuna.trial.Trial.suggest_float` instead.\n",
            "\n",
            "\u001b[32m[I 2022-09-02 17:05:33,031]\u001b[0m Trial 95 finished with value: 0.8179114398236934 and parameters: {'classifier': 'XGB', 'xgb_n_estimators': 941, 'xgb_learning_rate': 0.006714780475334924, 'xgb_max_depth': 32}. Best is trial 92 with value: 0.8337047379895899.\u001b[0m\n",
            "\u001b[32m[I 2022-09-02 17:05:38,446]\u001b[0m Trial 96 finished with value: 0.7848341453317761 and parameters: {'classifier': 'RF', 'rf_n_estimators': 326, 'rf_criterion': 'gini', 'rf_max_depth': 25}. Best is trial 92 with value: 0.8337047379895899.\u001b[0m\n",
            "/usr/local/lib/python3.7/dist-packages/ipykernel_launcher.py:33: FutureWarning:\n",
            "\n",
            "suggest_loguniform has been deprecated in v3.0.0. This feature will be removed in v6.0.0. See https://github.com/optuna/optuna/releases/tag/v3.0.0. Use :func:`~optuna.trial.Trial.suggest_float` instead.\n",
            "\n",
            "\u001b[32m[I 2022-09-02 17:06:22,995]\u001b[0m Trial 97 finished with value: 0.8275456542114262 and parameters: {'classifier': 'XGB', 'xgb_n_estimators': 971, 'xgb_learning_rate': 0.008288681547534416, 'xgb_max_depth': 30}. Best is trial 92 with value: 0.8337047379895899.\u001b[0m\n",
            "/usr/local/lib/python3.7/dist-packages/ipykernel_launcher.py:33: FutureWarning:\n",
            "\n",
            "suggest_loguniform has been deprecated in v3.0.0. This feature will be removed in v6.0.0. See https://github.com/optuna/optuna/releases/tag/v3.0.0. Use :func:`~optuna.trial.Trial.suggest_float` instead.\n",
            "\n",
            "\u001b[32m[I 2022-09-02 17:06:59,159]\u001b[0m Trial 98 finished with value: 0.8125024425879106 and parameters: {'classifier': 'XGB', 'xgb_n_estimators': 774, 'xgb_learning_rate': 0.002831294348454673, 'xgb_max_depth': 30}. Best is trial 92 with value: 0.8337047379895899.\u001b[0m\n",
            "/usr/local/lib/python3.7/dist-packages/optuna/distributions.py:502: UserWarning:\n",
            "\n",
            "Choices for a categorical distribution should be a tuple of None, bool, int, float and str for persistent storage but contains (50,) which is of type tuple.\n",
            "\n",
            "/usr/local/lib/python3.7/dist-packages/optuna/distributions.py:502: UserWarning:\n",
            "\n",
            "Choices for a categorical distribution should be a tuple of None, bool, int, float and str for persistent storage but contains (100,) which is of type tuple.\n",
            "\n",
            "/usr/local/lib/python3.7/dist-packages/optuna/distributions.py:502: UserWarning:\n",
            "\n",
            "Choices for a categorical distribution should be a tuple of None, bool, int, float and str for persistent storage but contains (50, 50) which is of type tuple.\n",
            "\n",
            "\u001b[32m[I 2022-09-02 17:07:00,875]\u001b[0m Trial 99 finished with value: 0.7415467133346342 and parameters: {'classifier': 'MLP', 'mlp_hidden_layer_sizes': (100,), 'mlp_activation': 'logistic', 'mlp_solver': 'sgd'}. Best is trial 92 with value: 0.8337047379895899.\u001b[0m\n"
          ]
        }
      ]
    },
    {
      "cell_type": "markdown",
      "source": [
        "Como não sabemos exatamente o valor ótimo para a quantidade de trials, observar o histórico de otimização pode nos ajudar a visualizar se o melhor modelo ainda está numa fase de crescimento ou estagnação"
      ],
      "metadata": {
        "id": "x5fJhuHLf3Z2"
      }
    },
    {
      "cell_type": "code",
      "source": [
        "optuna.visualization.plot_optimization_history(study).show()"
      ],
      "metadata": {
        "colab": {
          "base_uri": "https://localhost:8080/",
          "height": 542
        },
        "id": "mw1WXU9Zf0ou",
        "outputId": "008f8a79-8c2d-40e7-b5b0-425b061e7776"
      },
      "execution_count": 107,
      "outputs": [
        {
          "output_type": "display_data",
          "data": {
            "text/html": [
              "<html>\n",
              "<head><meta charset=\"utf-8\" /></head>\n",
              "<body>\n",
              "    <div>            <script src=\"https://cdnjs.cloudflare.com/ajax/libs/mathjax/2.7.5/MathJax.js?config=TeX-AMS-MML_SVG\"></script><script type=\"text/javascript\">if (window.MathJax) {MathJax.Hub.Config({SVG: {font: \"STIX-Web\"}});}</script>                <script type=\"text/javascript\">window.PlotlyConfig = {MathJaxConfig: 'local'};</script>\n",
              "        <script src=\"https://cdn.plot.ly/plotly-2.8.3.min.js\"></script>                <div id=\"f959b107-5bd7-4d00-b106-c084f03ae46d\" class=\"plotly-graph-div\" style=\"height:525px; width:100%;\"></div>            <script type=\"text/javascript\">                                    window.PLOTLYENV=window.PLOTLYENV || {};                                    if (document.getElementById(\"f959b107-5bd7-4d00-b106-c084f03ae46d\")) {                    Plotly.newPlot(                        \"f959b107-5bd7-4d00-b106-c084f03ae46d\",                        [{\"mode\":\"markers\",\"name\":\"Objective Value\",\"x\":[0,1,2,3,4,5,6,7,8,9,10,11,12,13,14,15,16,17,18,19,20,21,22,23,24,25,26,27,28,29,30,31,32,33,34,35,36,37,38,39,40,41,42,43,44,45,46,47,48,49,50,51,52,53,54,55,56,57,58,59,60,61,62,63,64,65,66,67,68,69,70,71,72,73,74,75,76,77,78,79,80,81,82,83,84,85,86,87,88,89,90,91,92,93,94,95,96,97,98,99],\"y\":[0.7864852195294003,0.756225227795267,0.7588588818503835,0.7548203198378346,0.7920109062587204,0.7415467133346342,0.7688325336421169,0.7415467133346342,0.7415467133346342,0.8084933233322593,0.7415467133346342,0.8144791105624911,0.8164502851443836,0.8130772428038596,0.8095873913584908,0.7861373424312416,0.7532334067647636,0.7876900946043259,0.7590172385817247,0.8104532889549917,0.7849661388636763,0.8082605332629097,0.8084553489055917,0.8158740848158113,0.8032046549176873,0.8136797176545019,0.7415467133346342,0.7415467133346342,0.7538235059016244,0.7704759872629022,0.7973022128765718,0.8095873913584908,0.8254926262853721,0.8275456542114262,0.8058638212668512,0.8094927450175244,0.7415467133346342,0.8087207617284994,0.8070787698835032,0.809002908871616,0.7590172385817247,0.8165079250498458,0.823456742794845,0.8130080826256638,0.7805373394889283,0.8116684034747916,0.7406853851273875,0.8124610571395975,0.782155694597561,0.7999486011677874,0.7415467133346342,0.7986097845124023,0.823456742794845,0.8186436596514789,0.7868317603365605,0.8087207617284994,0.8041148150631889,0.8089611158588327,0.8275456542114262,0.8186436596514789,0.7415467133346342,0.8186248287622119,0.8172622425420326,0.811586231336013,0.8254522203707887,0.7758219629372956,0.8171866729580513,0.7991895575480591,0.7538235059016244,0.8309448252841817,0.7503876783985924,0.8220805763388737,0.8130772428038596,0.8116684034747916,0.8288956716512627,0.8130772428038596,0.8186499034866677,0.8102525134038178,0.7787043934581689,0.7519070984357403,0.8094927450175244,0.8165827921475185,0.8018918323505112,0.8206976878620724,0.8241494068465611,0.8310088646752417,0.8089234037550564,0.8261892083421748,0.7415467133346342,0.7833616126476585,0.8179429153234987,0.8254926262853721,0.8274937148693761,0.8241494068465611,0.8082605332629097,0.8165079250498458,0.8254926262853721,0.8144791105624911,0.7415467133346342,0.7528778892046601],\"type\":\"scatter\"},{\"name\":\"Best Value\",\"x\":[0,1,2,3,4,5,6,7,8,9,10,11,12,13,14,15,16,17,18,19,20,21,22,23,24,25,26,27,28,29,30,31,32,33,34,35,36,37,38,39,40,41,42,43,44,45,46,47,48,49,50,51,52,53,54,55,56,57,58,59,60,61,62,63,64,65,66,67,68,69,70,71,72,73,74,75,76,77,78,79,80,81,82,83,84,85,86,87,88,89,90,91,92,93,94,95,96,97,98,99],\"y\":[0.7864852195294003,0.7864852195294003,0.7864852195294003,0.7864852195294003,0.7920109062587204,0.7920109062587204,0.7920109062587204,0.7920109062587204,0.7920109062587204,0.8084933233322593,0.8084933233322593,0.8144791105624911,0.8164502851443836,0.8164502851443836,0.8164502851443836,0.8164502851443836,0.8164502851443836,0.8164502851443836,0.8164502851443836,0.8164502851443836,0.8164502851443836,0.8164502851443836,0.8164502851443836,0.8164502851443836,0.8164502851443836,0.8164502851443836,0.8164502851443836,0.8164502851443836,0.8164502851443836,0.8164502851443836,0.8164502851443836,0.8164502851443836,0.8254926262853721,0.8275456542114262,0.8275456542114262,0.8275456542114262,0.8275456542114262,0.8275456542114262,0.8275456542114262,0.8275456542114262,0.8275456542114262,0.8275456542114262,0.8275456542114262,0.8275456542114262,0.8275456542114262,0.8275456542114262,0.8275456542114262,0.8275456542114262,0.8275456542114262,0.8275456542114262,0.8275456542114262,0.8275456542114262,0.8275456542114262,0.8275456542114262,0.8275456542114262,0.8275456542114262,0.8275456542114262,0.8275456542114262,0.8275456542114262,0.8275456542114262,0.8275456542114262,0.8275456542114262,0.8275456542114262,0.8275456542114262,0.8275456542114262,0.8275456542114262,0.8275456542114262,0.8275456542114262,0.8275456542114262,0.8309448252841817,0.8309448252841817,0.8309448252841817,0.8309448252841817,0.8309448252841817,0.8309448252841817,0.8309448252841817,0.8309448252841817,0.8309448252841817,0.8309448252841817,0.8309448252841817,0.8309448252841817,0.8309448252841817,0.8309448252841817,0.8309448252841817,0.8309448252841817,0.8310088646752417,0.8310088646752417,0.8310088646752417,0.8310088646752417,0.8310088646752417,0.8310088646752417,0.8310088646752417,0.8310088646752417,0.8310088646752417,0.8310088646752417,0.8310088646752417,0.8310088646752417,0.8310088646752417,0.8310088646752417,0.8310088646752417],\"type\":\"scatter\"}],                        {\"title\":{\"text\":\"Optimization History Plot\"},\"xaxis\":{\"title\":{\"text\":\"Trial\"}},\"yaxis\":{\"title\":{\"text\":\"Objective Value\"}},\"template\":{\"data\":{\"bar\":[{\"error_x\":{\"color\":\"#2a3f5f\"},\"error_y\":{\"color\":\"#2a3f5f\"},\"marker\":{\"line\":{\"color\":\"#E5ECF6\",\"width\":0.5},\"pattern\":{\"fillmode\":\"overlay\",\"size\":10,\"solidity\":0.2}},\"type\":\"bar\"}],\"barpolar\":[{\"marker\":{\"line\":{\"color\":\"#E5ECF6\",\"width\":0.5},\"pattern\":{\"fillmode\":\"overlay\",\"size\":10,\"solidity\":0.2}},\"type\":\"barpolar\"}],\"carpet\":[{\"aaxis\":{\"endlinecolor\":\"#2a3f5f\",\"gridcolor\":\"white\",\"linecolor\":\"white\",\"minorgridcolor\":\"white\",\"startlinecolor\":\"#2a3f5f\"},\"baxis\":{\"endlinecolor\":\"#2a3f5f\",\"gridcolor\":\"white\",\"linecolor\":\"white\",\"minorgridcolor\":\"white\",\"startlinecolor\":\"#2a3f5f\"},\"type\":\"carpet\"}],\"choropleth\":[{\"colorbar\":{\"outlinewidth\":0,\"ticks\":\"\"},\"type\":\"choropleth\"}],\"contour\":[{\"colorbar\":{\"outlinewidth\":0,\"ticks\":\"\"},\"colorscale\":[[0.0,\"#0d0887\"],[0.1111111111111111,\"#46039f\"],[0.2222222222222222,\"#7201a8\"],[0.3333333333333333,\"#9c179e\"],[0.4444444444444444,\"#bd3786\"],[0.5555555555555556,\"#d8576b\"],[0.6666666666666666,\"#ed7953\"],[0.7777777777777778,\"#fb9f3a\"],[0.8888888888888888,\"#fdca26\"],[1.0,\"#f0f921\"]],\"type\":\"contour\"}],\"contourcarpet\":[{\"colorbar\":{\"outlinewidth\":0,\"ticks\":\"\"},\"type\":\"contourcarpet\"}],\"heatmap\":[{\"colorbar\":{\"outlinewidth\":0,\"ticks\":\"\"},\"colorscale\":[[0.0,\"#0d0887\"],[0.1111111111111111,\"#46039f\"],[0.2222222222222222,\"#7201a8\"],[0.3333333333333333,\"#9c179e\"],[0.4444444444444444,\"#bd3786\"],[0.5555555555555556,\"#d8576b\"],[0.6666666666666666,\"#ed7953\"],[0.7777777777777778,\"#fb9f3a\"],[0.8888888888888888,\"#fdca26\"],[1.0,\"#f0f921\"]],\"type\":\"heatmap\"}],\"heatmapgl\":[{\"colorbar\":{\"outlinewidth\":0,\"ticks\":\"\"},\"colorscale\":[[0.0,\"#0d0887\"],[0.1111111111111111,\"#46039f\"],[0.2222222222222222,\"#7201a8\"],[0.3333333333333333,\"#9c179e\"],[0.4444444444444444,\"#bd3786\"],[0.5555555555555556,\"#d8576b\"],[0.6666666666666666,\"#ed7953\"],[0.7777777777777778,\"#fb9f3a\"],[0.8888888888888888,\"#fdca26\"],[1.0,\"#f0f921\"]],\"type\":\"heatmapgl\"}],\"histogram\":[{\"marker\":{\"pattern\":{\"fillmode\":\"overlay\",\"size\":10,\"solidity\":0.2}},\"type\":\"histogram\"}],\"histogram2d\":[{\"colorbar\":{\"outlinewidth\":0,\"ticks\":\"\"},\"colorscale\":[[0.0,\"#0d0887\"],[0.1111111111111111,\"#46039f\"],[0.2222222222222222,\"#7201a8\"],[0.3333333333333333,\"#9c179e\"],[0.4444444444444444,\"#bd3786\"],[0.5555555555555556,\"#d8576b\"],[0.6666666666666666,\"#ed7953\"],[0.7777777777777778,\"#fb9f3a\"],[0.8888888888888888,\"#fdca26\"],[1.0,\"#f0f921\"]],\"type\":\"histogram2d\"}],\"histogram2dcontour\":[{\"colorbar\":{\"outlinewidth\":0,\"ticks\":\"\"},\"colorscale\":[[0.0,\"#0d0887\"],[0.1111111111111111,\"#46039f\"],[0.2222222222222222,\"#7201a8\"],[0.3333333333333333,\"#9c179e\"],[0.4444444444444444,\"#bd3786\"],[0.5555555555555556,\"#d8576b\"],[0.6666666666666666,\"#ed7953\"],[0.7777777777777778,\"#fb9f3a\"],[0.8888888888888888,\"#fdca26\"],[1.0,\"#f0f921\"]],\"type\":\"histogram2dcontour\"}],\"mesh3d\":[{\"colorbar\":{\"outlinewidth\":0,\"ticks\":\"\"},\"type\":\"mesh3d\"}],\"parcoords\":[{\"line\":{\"colorbar\":{\"outlinewidth\":0,\"ticks\":\"\"}},\"type\":\"parcoords\"}],\"pie\":[{\"automargin\":true,\"type\":\"pie\"}],\"scatter\":[{\"marker\":{\"colorbar\":{\"outlinewidth\":0,\"ticks\":\"\"}},\"type\":\"scatter\"}],\"scatter3d\":[{\"line\":{\"colorbar\":{\"outlinewidth\":0,\"ticks\":\"\"}},\"marker\":{\"colorbar\":{\"outlinewidth\":0,\"ticks\":\"\"}},\"type\":\"scatter3d\"}],\"scattercarpet\":[{\"marker\":{\"colorbar\":{\"outlinewidth\":0,\"ticks\":\"\"}},\"type\":\"scattercarpet\"}],\"scattergeo\":[{\"marker\":{\"colorbar\":{\"outlinewidth\":0,\"ticks\":\"\"}},\"type\":\"scattergeo\"}],\"scattergl\":[{\"marker\":{\"colorbar\":{\"outlinewidth\":0,\"ticks\":\"\"}},\"type\":\"scattergl\"}],\"scattermapbox\":[{\"marker\":{\"colorbar\":{\"outlinewidth\":0,\"ticks\":\"\"}},\"type\":\"scattermapbox\"}],\"scatterpolar\":[{\"marker\":{\"colorbar\":{\"outlinewidth\":0,\"ticks\":\"\"}},\"type\":\"scatterpolar\"}],\"scatterpolargl\":[{\"marker\":{\"colorbar\":{\"outlinewidth\":0,\"ticks\":\"\"}},\"type\":\"scatterpolargl\"}],\"scatterternary\":[{\"marker\":{\"colorbar\":{\"outlinewidth\":0,\"ticks\":\"\"}},\"type\":\"scatterternary\"}],\"surface\":[{\"colorbar\":{\"outlinewidth\":0,\"ticks\":\"\"},\"colorscale\":[[0.0,\"#0d0887\"],[0.1111111111111111,\"#46039f\"],[0.2222222222222222,\"#7201a8\"],[0.3333333333333333,\"#9c179e\"],[0.4444444444444444,\"#bd3786\"],[0.5555555555555556,\"#d8576b\"],[0.6666666666666666,\"#ed7953\"],[0.7777777777777778,\"#fb9f3a\"],[0.8888888888888888,\"#fdca26\"],[1.0,\"#f0f921\"]],\"type\":\"surface\"}],\"table\":[{\"cells\":{\"fill\":{\"color\":\"#EBF0F8\"},\"line\":{\"color\":\"white\"}},\"header\":{\"fill\":{\"color\":\"#C8D4E3\"},\"line\":{\"color\":\"white\"}},\"type\":\"table\"}]},\"layout\":{\"annotationdefaults\":{\"arrowcolor\":\"#2a3f5f\",\"arrowhead\":0,\"arrowwidth\":1},\"autotypenumbers\":\"strict\",\"coloraxis\":{\"colorbar\":{\"outlinewidth\":0,\"ticks\":\"\"}},\"colorscale\":{\"diverging\":[[0,\"#8e0152\"],[0.1,\"#c51b7d\"],[0.2,\"#de77ae\"],[0.3,\"#f1b6da\"],[0.4,\"#fde0ef\"],[0.5,\"#f7f7f7\"],[0.6,\"#e6f5d0\"],[0.7,\"#b8e186\"],[0.8,\"#7fbc41\"],[0.9,\"#4d9221\"],[1,\"#276419\"]],\"sequential\":[[0.0,\"#0d0887\"],[0.1111111111111111,\"#46039f\"],[0.2222222222222222,\"#7201a8\"],[0.3333333333333333,\"#9c179e\"],[0.4444444444444444,\"#bd3786\"],[0.5555555555555556,\"#d8576b\"],[0.6666666666666666,\"#ed7953\"],[0.7777777777777778,\"#fb9f3a\"],[0.8888888888888888,\"#fdca26\"],[1.0,\"#f0f921\"]],\"sequentialminus\":[[0.0,\"#0d0887\"],[0.1111111111111111,\"#46039f\"],[0.2222222222222222,\"#7201a8\"],[0.3333333333333333,\"#9c179e\"],[0.4444444444444444,\"#bd3786\"],[0.5555555555555556,\"#d8576b\"],[0.6666666666666666,\"#ed7953\"],[0.7777777777777778,\"#fb9f3a\"],[0.8888888888888888,\"#fdca26\"],[1.0,\"#f0f921\"]]},\"colorway\":[\"#636efa\",\"#EF553B\",\"#00cc96\",\"#ab63fa\",\"#FFA15A\",\"#19d3f3\",\"#FF6692\",\"#B6E880\",\"#FF97FF\",\"#FECB52\"],\"font\":{\"color\":\"#2a3f5f\"},\"geo\":{\"bgcolor\":\"white\",\"lakecolor\":\"white\",\"landcolor\":\"#E5ECF6\",\"showlakes\":true,\"showland\":true,\"subunitcolor\":\"white\"},\"hoverlabel\":{\"align\":\"left\"},\"hovermode\":\"closest\",\"mapbox\":{\"style\":\"light\"},\"paper_bgcolor\":\"white\",\"plot_bgcolor\":\"#E5ECF6\",\"polar\":{\"angularaxis\":{\"gridcolor\":\"white\",\"linecolor\":\"white\",\"ticks\":\"\"},\"bgcolor\":\"#E5ECF6\",\"radialaxis\":{\"gridcolor\":\"white\",\"linecolor\":\"white\",\"ticks\":\"\"}},\"scene\":{\"xaxis\":{\"backgroundcolor\":\"#E5ECF6\",\"gridcolor\":\"white\",\"gridwidth\":2,\"linecolor\":\"white\",\"showbackground\":true,\"ticks\":\"\",\"zerolinecolor\":\"white\"},\"yaxis\":{\"backgroundcolor\":\"#E5ECF6\",\"gridcolor\":\"white\",\"gridwidth\":2,\"linecolor\":\"white\",\"showbackground\":true,\"ticks\":\"\",\"zerolinecolor\":\"white\"},\"zaxis\":{\"backgroundcolor\":\"#E5ECF6\",\"gridcolor\":\"white\",\"gridwidth\":2,\"linecolor\":\"white\",\"showbackground\":true,\"ticks\":\"\",\"zerolinecolor\":\"white\"}},\"shapedefaults\":{\"line\":{\"color\":\"#2a3f5f\"}},\"ternary\":{\"aaxis\":{\"gridcolor\":\"white\",\"linecolor\":\"white\",\"ticks\":\"\"},\"baxis\":{\"gridcolor\":\"white\",\"linecolor\":\"white\",\"ticks\":\"\"},\"bgcolor\":\"#E5ECF6\",\"caxis\":{\"gridcolor\":\"white\",\"linecolor\":\"white\",\"ticks\":\"\"}},\"title\":{\"x\":0.05},\"xaxis\":{\"automargin\":true,\"gridcolor\":\"white\",\"linecolor\":\"white\",\"ticks\":\"\",\"title\":{\"standoff\":15},\"zerolinecolor\":\"white\",\"zerolinewidth\":2},\"yaxis\":{\"automargin\":true,\"gridcolor\":\"white\",\"linecolor\":\"white\",\"ticks\":\"\",\"title\":{\"standoff\":15},\"zerolinecolor\":\"white\",\"zerolinewidth\":2}}}},                        {\"responsive\": true}                    ).then(function(){\n",
              "                            \n",
              "var gd = document.getElementById('f959b107-5bd7-4d00-b106-c084f03ae46d');\n",
              "var x = new MutationObserver(function (mutations, observer) {{\n",
              "        var display = window.getComputedStyle(gd).display;\n",
              "        if (!display || display === 'none') {{\n",
              "            console.log([gd, 'removed!']);\n",
              "            Plotly.purge(gd);\n",
              "            observer.disconnect();\n",
              "        }}\n",
              "}});\n",
              "\n",
              "// Listen for the removal of the full notebook cells\n",
              "var notebookContainer = gd.closest('#notebook-container');\n",
              "if (notebookContainer) {{\n",
              "    x.observe(notebookContainer, {childList: true});\n",
              "}}\n",
              "\n",
              "// Listen for the clearing of the current output cell\n",
              "var outputEl = gd.closest('.output');\n",
              "if (outputEl) {{\n",
              "    x.observe(outputEl, {childList: true});\n",
              "}}\n",
              "\n",
              "                        })                };                            </script>        </div>\n",
              "</body>\n",
              "</html>"
            ]
          },
          "metadata": {}
        }
      ]
    },
    {
      "cell_type": "markdown",
      "source": [
        "Podemos ver que até o final o modelo seguia evoluindo, e que os valores da métrica estão bem espalhados, devido aos diferentes modelos, portanto separaremos os estudos por modelo e o executaremos novamente. "
      ],
      "metadata": {
        "id": "UKZ6l3NFrwU-"
      }
    },
    {
      "cell_type": "markdown",
      "source": [
        "### Optuna Study XGBoost"
      ],
      "metadata": {
        "id": "l_yYCCBpsUBY"
      }
    },
    {
      "cell_type": "markdown",
      "source": [
        "Inicialmente, buscamos identificar a relação entre os hiperparâmetros avaliados e o valor da métrica de avaliação"
      ],
      "metadata": {
        "id": "DUNAm6TTscZk"
      }
    },
    {
      "cell_type": "code",
      "source": [
        "optuna.visualization.plot_slice(study, params=['xgb_n_estimators', 'xgb_max_depth', 'xgb_learning_rate'])"
      ],
      "metadata": {
        "colab": {
          "base_uri": "https://localhost:8080/",
          "height": 542
        },
        "id": "IOFS7ttPsAP9",
        "outputId": "4f51cf71-9869-43f8-b0c8-21ed70258457"
      },
      "execution_count": 109,
      "outputs": [
        {
          "output_type": "display_data",
          "data": {
            "text/html": [
              "<html>\n",
              "<head><meta charset=\"utf-8\" /></head>\n",
              "<body>\n",
              "    <div>            <script src=\"https://cdnjs.cloudflare.com/ajax/libs/mathjax/2.7.5/MathJax.js?config=TeX-AMS-MML_SVG\"></script><script type=\"text/javascript\">if (window.MathJax) {MathJax.Hub.Config({SVG: {font: \"STIX-Web\"}});}</script>                <script type=\"text/javascript\">window.PlotlyConfig = {MathJaxConfig: 'local'};</script>\n",
              "        <script src=\"https://cdn.plot.ly/plotly-2.8.3.min.js\"></script>                <div id=\"911d3019-15a8-455c-a25e-982c1f64dc7a\" class=\"plotly-graph-div\" style=\"height:525px; width:100%;\"></div>            <script type=\"text/javascript\">                                    window.PLOTLYENV=window.PLOTLYENV || {};                                    if (document.getElementById(\"911d3019-15a8-455c-a25e-982c1f64dc7a\")) {                    Plotly.newPlot(                        \"911d3019-15a8-455c-a25e-982c1f64dc7a\",                        [{\"marker\":{\"color\":[1,3,4,6,9,11,12,13,14,15,19,20,21,22,23,24,25,30,31,32,33,34,35,37,38,39,41,42,43,44,45,47,49,51,52,53,54,55,56,57,58,59,61,62,63,64,66,67,69,70,71,72,73,74,75,76,77,80,81,82,83,84,85,86,87,89,90,91,92,93,94,95,96,97],\"colorbar\":{\"title\":{\"text\":\"Trial\"},\"x\":1.0,\"xpad\":40},\"colorscale\":[[0.0,\"rgb(247,251,255)\"],[0.125,\"rgb(222,235,247)\"],[0.25,\"rgb(198,219,239)\"],[0.375,\"rgb(158,202,225)\"],[0.5,\"rgb(107,174,214)\"],[0.625,\"rgb(66,146,198)\"],[0.75,\"rgb(33,113,181)\"],[0.875,\"rgb(8,81,156)\"],[1.0,\"rgb(8,48,107)\"]],\"line\":{\"color\":\"Grey\",\"width\":0.5},\"showscale\":true},\"mode\":\"markers\",\"showlegend\":false,\"x\":[0.0006990398277222446,0.0002118428332716398,0.0006230440287846323,0.0005476219965508378,0.0022818081863933077,0.009621901072938414,0.00972918554103722,0.007842917689374116,0.008842539363478735,1.552599518911882e-05,0.002823610808565441,0.00010372760280754411,0.00968693931896709,0.0032774890886662373,0.008872924025764674,0.003411669258602771,0.004969872478107829,0.0014501038261350353,0.005391787806182184,0.009526890240026056,0.009578363251255299,0.0015094454832746205,0.005013344533319427,0.00516324112938102,0.0016863957182287651,0.005668229975856843,0.008069808554125906,0.008925549799918655,0.004148109692019213,3.0157051937089855e-05,0.006307794184509669,0.002407453362567235,0.0011224592399411003,0.008229487779997593,0.009653374720351621,0.006056856313147458,0.0002031541227430039,0.00616514623557483,0.004282182382780244,0.006567100033126766,0.009981970158483068,0.009979876777920334,0.009766187902937092,0.006741639151532844,0.003956354723183821,0.009878597027477735,0.009503694109972321,0.0004408149752674232,0.009827099450439988,0.007221395248007429,0.007085048476612038,0.007166498091639861,0.003819563087262795,0.009878453622587813,0.002670239889576299,0.009733670677897398,0.005097077328063403,0.0032742476317952694,0.007377052500698348,0.007705768665062007,0.007710321764975542,0.009852756211311832,0.009938128931950648,0.0047001840159940755,0.009961801436637403,6.291653242926671e-05,0.005730269839636977,0.008226048908366717,0.009963285717850557,0.007849382806369426,0.005622145547350589,0.007857266331798913,0.00999131810863375,0.006008218210513793],\"y\":[0.756225227795267,0.7548203198378346,0.7920109062587204,0.7688325336421169,0.8084933233322593,0.8144791105624911,0.8164502851443836,0.8130772428038596,0.8095873913584908,0.7861373424312416,0.8104532889549917,0.7849661388636763,0.8082605332629097,0.8084553489055917,0.8158740848158113,0.8032046549176873,0.8136797176545019,0.7973022128765718,0.8095873913584908,0.8254926262853721,0.8275456542114262,0.8058638212668512,0.8094927450175244,0.8087207617284994,0.8070787698835032,0.809002908871616,0.8165079250498458,0.823456742794845,0.8130080826256638,0.7805373394889283,0.8116684034747916,0.8124610571395975,0.7999486011677874,0.7986097845124023,0.823456742794845,0.8186436596514789,0.7868317603365605,0.8087207617284994,0.8041148150631889,0.8089611158588327,0.8275456542114262,0.8186436596514789,0.8186248287622119,0.8172622425420326,0.811586231336013,0.8254522203707887,0.8171866729580513,0.7991895575480591,0.8309448252841817,0.7503876783985924,0.8220805763388737,0.8130772428038596,0.8116684034747916,0.8288956716512627,0.8130772428038596,0.8186499034866677,0.8102525134038178,0.8094927450175244,0.8165827921475185,0.8018918323505112,0.8206976878620724,0.8241494068465611,0.8310088646752417,0.8089234037550564,0.8261892083421748,0.7833616126476585,0.8179429153234987,0.8254926262853721,0.8274937148693761,0.8241494068465611,0.8082605332629097,0.8165079250498458,0.8254926262853721,0.8144791105624911],\"type\":\"scatter\",\"xaxis\":\"x\",\"yaxis\":\"y\"},{\"marker\":{\"color\":[1,3,4,6,9,11,12,13,14,15,19,20,21,22,23,24,25,30,31,32,33,34,35,37,38,39,41,42,43,44,45,47,49,51,52,53,54,55,56,57,58,59,61,62,63,64,66,67,69,70,71,72,73,74,75,76,77,80,81,82,83,84,85,86,87,89,90,91,92,93,94,95,96,97],\"colorbar\":{\"title\":{\"text\":\"Trial\"},\"x\":1.0,\"xpad\":40},\"colorscale\":[[0.0,\"rgb(247,251,255)\"],[0.125,\"rgb(222,235,247)\"],[0.25,\"rgb(198,219,239)\"],[0.375,\"rgb(158,202,225)\"],[0.5,\"rgb(107,174,214)\"],[0.625,\"rgb(66,146,198)\"],[0.75,\"rgb(33,113,181)\"],[0.875,\"rgb(8,81,156)\"],[1.0,\"rgb(8,48,107)\"]],\"line\":{\"color\":\"Grey\",\"width\":0.5},\"showscale\":false},\"mode\":\"markers\",\"showlegend\":false,\"x\":[4,4,11,6,20,23,26,31,25,25,19,32,32,26,28,27,22,17,22,23,28,29,28,16,29,24,22,20,20,13,21,18,23,27,30,30,30,15,31,9,24,24,24,29,25,27,27,24,20,2,19,19,20,18,21,26,17,15,18,19,21,23,23,23,26,26,22,25,28,28,25,27,25,26],\"y\":[0.756225227795267,0.7548203198378346,0.7920109062587204,0.7688325336421169,0.8084933233322593,0.8144791105624911,0.8164502851443836,0.8130772428038596,0.8095873913584908,0.7861373424312416,0.8104532889549917,0.7849661388636763,0.8082605332629097,0.8084553489055917,0.8158740848158113,0.8032046549176873,0.8136797176545019,0.7973022128765718,0.8095873913584908,0.8254926262853721,0.8275456542114262,0.8058638212668512,0.8094927450175244,0.8087207617284994,0.8070787698835032,0.809002908871616,0.8165079250498458,0.823456742794845,0.8130080826256638,0.7805373394889283,0.8116684034747916,0.8124610571395975,0.7999486011677874,0.7986097845124023,0.823456742794845,0.8186436596514789,0.7868317603365605,0.8087207617284994,0.8041148150631889,0.8089611158588327,0.8275456542114262,0.8186436596514789,0.8186248287622119,0.8172622425420326,0.811586231336013,0.8254522203707887,0.8171866729580513,0.7991895575480591,0.8309448252841817,0.7503876783985924,0.8220805763388737,0.8130772428038596,0.8116684034747916,0.8288956716512627,0.8130772428038596,0.8186499034866677,0.8102525134038178,0.8094927450175244,0.8165827921475185,0.8018918323505112,0.8206976878620724,0.8241494068465611,0.8310088646752417,0.8089234037550564,0.8261892083421748,0.7833616126476585,0.8179429153234987,0.8254926262853721,0.8274937148693761,0.8241494068465611,0.8082605332629097,0.8165079250498458,0.8254926262853721,0.8144791105624911],\"type\":\"scatter\",\"xaxis\":\"x2\",\"yaxis\":\"y2\"},{\"marker\":{\"color\":[1,3,4,6,9,11,12,13,14,15,19,20,21,22,23,24,25,30,31,32,33,34,35,37,38,39,41,42,43,44,45,47,49,51,52,53,54,55,56,57,58,59,61,62,63,64,66,67,69,70,71,72,73,74,75,76,77,80,81,82,83,84,85,86,87,89,90,91,92,93,94,95,96,97],\"colorbar\":{\"title\":{\"text\":\"Trial\"},\"x\":1.0,\"xpad\":40},\"colorscale\":[[0.0,\"rgb(247,251,255)\"],[0.125,\"rgb(222,235,247)\"],[0.25,\"rgb(198,219,239)\"],[0.375,\"rgb(158,202,225)\"],[0.5,\"rgb(107,174,214)\"],[0.625,\"rgb(66,146,198)\"],[0.75,\"rgb(33,113,181)\"],[0.875,\"rgb(8,81,156)\"],[1.0,\"rgb(8,48,107)\"]],\"line\":{\"color\":\"Grey\",\"width\":0.5},\"showscale\":false},\"mode\":\"markers\",\"showlegend\":false,\"x\":[56,834,711,175,672,676,523,421,470,966,589,366,389,526,293,259,703,271,721,839,858,904,821,834,984,569,783,866,893,779,910,783,639,55,866,876,879,766,937,835,859,860,858,1000,939,858,743,815,929,951,899,920,812,966,968,852,954,917,888,115,815,1000,996,1000,968,968,976,934,931,940,935,903,968,962],\"y\":[0.756225227795267,0.7548203198378346,0.7920109062587204,0.7688325336421169,0.8084933233322593,0.8144791105624911,0.8164502851443836,0.8130772428038596,0.8095873913584908,0.7861373424312416,0.8104532889549917,0.7849661388636763,0.8082605332629097,0.8084553489055917,0.8158740848158113,0.8032046549176873,0.8136797176545019,0.7973022128765718,0.8095873913584908,0.8254926262853721,0.8275456542114262,0.8058638212668512,0.8094927450175244,0.8087207617284994,0.8070787698835032,0.809002908871616,0.8165079250498458,0.823456742794845,0.8130080826256638,0.7805373394889283,0.8116684034747916,0.8124610571395975,0.7999486011677874,0.7986097845124023,0.823456742794845,0.8186436596514789,0.7868317603365605,0.8087207617284994,0.8041148150631889,0.8089611158588327,0.8275456542114262,0.8186436596514789,0.8186248287622119,0.8172622425420326,0.811586231336013,0.8254522203707887,0.8171866729580513,0.7991895575480591,0.8309448252841817,0.7503876783985924,0.8220805763388737,0.8130772428038596,0.8116684034747916,0.8288956716512627,0.8130772428038596,0.8186499034866677,0.8102525134038178,0.8094927450175244,0.8165827921475185,0.8018918323505112,0.8206976878620724,0.8241494068465611,0.8310088646752417,0.8089234037550564,0.8261892083421748,0.7833616126476585,0.8179429153234987,0.8254926262853721,0.8274937148693761,0.8241494068465611,0.8082605332629097,0.8165079250498458,0.8254926262853721,0.8144791105624911],\"type\":\"scatter\",\"xaxis\":\"x3\",\"yaxis\":\"y3\"}],                        {\"template\":{\"data\":{\"bar\":[{\"error_x\":{\"color\":\"#2a3f5f\"},\"error_y\":{\"color\":\"#2a3f5f\"},\"marker\":{\"line\":{\"color\":\"#E5ECF6\",\"width\":0.5},\"pattern\":{\"fillmode\":\"overlay\",\"size\":10,\"solidity\":0.2}},\"type\":\"bar\"}],\"barpolar\":[{\"marker\":{\"line\":{\"color\":\"#E5ECF6\",\"width\":0.5},\"pattern\":{\"fillmode\":\"overlay\",\"size\":10,\"solidity\":0.2}},\"type\":\"barpolar\"}],\"carpet\":[{\"aaxis\":{\"endlinecolor\":\"#2a3f5f\",\"gridcolor\":\"white\",\"linecolor\":\"white\",\"minorgridcolor\":\"white\",\"startlinecolor\":\"#2a3f5f\"},\"baxis\":{\"endlinecolor\":\"#2a3f5f\",\"gridcolor\":\"white\",\"linecolor\":\"white\",\"minorgridcolor\":\"white\",\"startlinecolor\":\"#2a3f5f\"},\"type\":\"carpet\"}],\"choropleth\":[{\"colorbar\":{\"outlinewidth\":0,\"ticks\":\"\"},\"type\":\"choropleth\"}],\"contour\":[{\"colorbar\":{\"outlinewidth\":0,\"ticks\":\"\"},\"colorscale\":[[0.0,\"#0d0887\"],[0.1111111111111111,\"#46039f\"],[0.2222222222222222,\"#7201a8\"],[0.3333333333333333,\"#9c179e\"],[0.4444444444444444,\"#bd3786\"],[0.5555555555555556,\"#d8576b\"],[0.6666666666666666,\"#ed7953\"],[0.7777777777777778,\"#fb9f3a\"],[0.8888888888888888,\"#fdca26\"],[1.0,\"#f0f921\"]],\"type\":\"contour\"}],\"contourcarpet\":[{\"colorbar\":{\"outlinewidth\":0,\"ticks\":\"\"},\"type\":\"contourcarpet\"}],\"heatmap\":[{\"colorbar\":{\"outlinewidth\":0,\"ticks\":\"\"},\"colorscale\":[[0.0,\"#0d0887\"],[0.1111111111111111,\"#46039f\"],[0.2222222222222222,\"#7201a8\"],[0.3333333333333333,\"#9c179e\"],[0.4444444444444444,\"#bd3786\"],[0.5555555555555556,\"#d8576b\"],[0.6666666666666666,\"#ed7953\"],[0.7777777777777778,\"#fb9f3a\"],[0.8888888888888888,\"#fdca26\"],[1.0,\"#f0f921\"]],\"type\":\"heatmap\"}],\"heatmapgl\":[{\"colorbar\":{\"outlinewidth\":0,\"ticks\":\"\"},\"colorscale\":[[0.0,\"#0d0887\"],[0.1111111111111111,\"#46039f\"],[0.2222222222222222,\"#7201a8\"],[0.3333333333333333,\"#9c179e\"],[0.4444444444444444,\"#bd3786\"],[0.5555555555555556,\"#d8576b\"],[0.6666666666666666,\"#ed7953\"],[0.7777777777777778,\"#fb9f3a\"],[0.8888888888888888,\"#fdca26\"],[1.0,\"#f0f921\"]],\"type\":\"heatmapgl\"}],\"histogram\":[{\"marker\":{\"pattern\":{\"fillmode\":\"overlay\",\"size\":10,\"solidity\":0.2}},\"type\":\"histogram\"}],\"histogram2d\":[{\"colorbar\":{\"outlinewidth\":0,\"ticks\":\"\"},\"colorscale\":[[0.0,\"#0d0887\"],[0.1111111111111111,\"#46039f\"],[0.2222222222222222,\"#7201a8\"],[0.3333333333333333,\"#9c179e\"],[0.4444444444444444,\"#bd3786\"],[0.5555555555555556,\"#d8576b\"],[0.6666666666666666,\"#ed7953\"],[0.7777777777777778,\"#fb9f3a\"],[0.8888888888888888,\"#fdca26\"],[1.0,\"#f0f921\"]],\"type\":\"histogram2d\"}],\"histogram2dcontour\":[{\"colorbar\":{\"outlinewidth\":0,\"ticks\":\"\"},\"colorscale\":[[0.0,\"#0d0887\"],[0.1111111111111111,\"#46039f\"],[0.2222222222222222,\"#7201a8\"],[0.3333333333333333,\"#9c179e\"],[0.4444444444444444,\"#bd3786\"],[0.5555555555555556,\"#d8576b\"],[0.6666666666666666,\"#ed7953\"],[0.7777777777777778,\"#fb9f3a\"],[0.8888888888888888,\"#fdca26\"],[1.0,\"#f0f921\"]],\"type\":\"histogram2dcontour\"}],\"mesh3d\":[{\"colorbar\":{\"outlinewidth\":0,\"ticks\":\"\"},\"type\":\"mesh3d\"}],\"parcoords\":[{\"line\":{\"colorbar\":{\"outlinewidth\":0,\"ticks\":\"\"}},\"type\":\"parcoords\"}],\"pie\":[{\"automargin\":true,\"type\":\"pie\"}],\"scatter\":[{\"marker\":{\"colorbar\":{\"outlinewidth\":0,\"ticks\":\"\"}},\"type\":\"scatter\"}],\"scatter3d\":[{\"line\":{\"colorbar\":{\"outlinewidth\":0,\"ticks\":\"\"}},\"marker\":{\"colorbar\":{\"outlinewidth\":0,\"ticks\":\"\"}},\"type\":\"scatter3d\"}],\"scattercarpet\":[{\"marker\":{\"colorbar\":{\"outlinewidth\":0,\"ticks\":\"\"}},\"type\":\"scattercarpet\"}],\"scattergeo\":[{\"marker\":{\"colorbar\":{\"outlinewidth\":0,\"ticks\":\"\"}},\"type\":\"scattergeo\"}],\"scattergl\":[{\"marker\":{\"colorbar\":{\"outlinewidth\":0,\"ticks\":\"\"}},\"type\":\"scattergl\"}],\"scattermapbox\":[{\"marker\":{\"colorbar\":{\"outlinewidth\":0,\"ticks\":\"\"}},\"type\":\"scattermapbox\"}],\"scatterpolar\":[{\"marker\":{\"colorbar\":{\"outlinewidth\":0,\"ticks\":\"\"}},\"type\":\"scatterpolar\"}],\"scatterpolargl\":[{\"marker\":{\"colorbar\":{\"outlinewidth\":0,\"ticks\":\"\"}},\"type\":\"scatterpolargl\"}],\"scatterternary\":[{\"marker\":{\"colorbar\":{\"outlinewidth\":0,\"ticks\":\"\"}},\"type\":\"scatterternary\"}],\"surface\":[{\"colorbar\":{\"outlinewidth\":0,\"ticks\":\"\"},\"colorscale\":[[0.0,\"#0d0887\"],[0.1111111111111111,\"#46039f\"],[0.2222222222222222,\"#7201a8\"],[0.3333333333333333,\"#9c179e\"],[0.4444444444444444,\"#bd3786\"],[0.5555555555555556,\"#d8576b\"],[0.6666666666666666,\"#ed7953\"],[0.7777777777777778,\"#fb9f3a\"],[0.8888888888888888,\"#fdca26\"],[1.0,\"#f0f921\"]],\"type\":\"surface\"}],\"table\":[{\"cells\":{\"fill\":{\"color\":\"#EBF0F8\"},\"line\":{\"color\":\"white\"}},\"header\":{\"fill\":{\"color\":\"#C8D4E3\"},\"line\":{\"color\":\"white\"}},\"type\":\"table\"}]},\"layout\":{\"annotationdefaults\":{\"arrowcolor\":\"#2a3f5f\",\"arrowhead\":0,\"arrowwidth\":1},\"autotypenumbers\":\"strict\",\"coloraxis\":{\"colorbar\":{\"outlinewidth\":0,\"ticks\":\"\"}},\"colorscale\":{\"diverging\":[[0,\"#8e0152\"],[0.1,\"#c51b7d\"],[0.2,\"#de77ae\"],[0.3,\"#f1b6da\"],[0.4,\"#fde0ef\"],[0.5,\"#f7f7f7\"],[0.6,\"#e6f5d0\"],[0.7,\"#b8e186\"],[0.8,\"#7fbc41\"],[0.9,\"#4d9221\"],[1,\"#276419\"]],\"sequential\":[[0.0,\"#0d0887\"],[0.1111111111111111,\"#46039f\"],[0.2222222222222222,\"#7201a8\"],[0.3333333333333333,\"#9c179e\"],[0.4444444444444444,\"#bd3786\"],[0.5555555555555556,\"#d8576b\"],[0.6666666666666666,\"#ed7953\"],[0.7777777777777778,\"#fb9f3a\"],[0.8888888888888888,\"#fdca26\"],[1.0,\"#f0f921\"]],\"sequentialminus\":[[0.0,\"#0d0887\"],[0.1111111111111111,\"#46039f\"],[0.2222222222222222,\"#7201a8\"],[0.3333333333333333,\"#9c179e\"],[0.4444444444444444,\"#bd3786\"],[0.5555555555555556,\"#d8576b\"],[0.6666666666666666,\"#ed7953\"],[0.7777777777777778,\"#fb9f3a\"],[0.8888888888888888,\"#fdca26\"],[1.0,\"#f0f921\"]]},\"colorway\":[\"#636efa\",\"#EF553B\",\"#00cc96\",\"#ab63fa\",\"#FFA15A\",\"#19d3f3\",\"#FF6692\",\"#B6E880\",\"#FF97FF\",\"#FECB52\"],\"font\":{\"color\":\"#2a3f5f\"},\"geo\":{\"bgcolor\":\"white\",\"lakecolor\":\"white\",\"landcolor\":\"#E5ECF6\",\"showlakes\":true,\"showland\":true,\"subunitcolor\":\"white\"},\"hoverlabel\":{\"align\":\"left\"},\"hovermode\":\"closest\",\"mapbox\":{\"style\":\"light\"},\"paper_bgcolor\":\"white\",\"plot_bgcolor\":\"#E5ECF6\",\"polar\":{\"angularaxis\":{\"gridcolor\":\"white\",\"linecolor\":\"white\",\"ticks\":\"\"},\"bgcolor\":\"#E5ECF6\",\"radialaxis\":{\"gridcolor\":\"white\",\"linecolor\":\"white\",\"ticks\":\"\"}},\"scene\":{\"xaxis\":{\"backgroundcolor\":\"#E5ECF6\",\"gridcolor\":\"white\",\"gridwidth\":2,\"linecolor\":\"white\",\"showbackground\":true,\"ticks\":\"\",\"zerolinecolor\":\"white\"},\"yaxis\":{\"backgroundcolor\":\"#E5ECF6\",\"gridcolor\":\"white\",\"gridwidth\":2,\"linecolor\":\"white\",\"showbackground\":true,\"ticks\":\"\",\"zerolinecolor\":\"white\"},\"zaxis\":{\"backgroundcolor\":\"#E5ECF6\",\"gridcolor\":\"white\",\"gridwidth\":2,\"linecolor\":\"white\",\"showbackground\":true,\"ticks\":\"\",\"zerolinecolor\":\"white\"}},\"shapedefaults\":{\"line\":{\"color\":\"#2a3f5f\"}},\"ternary\":{\"aaxis\":{\"gridcolor\":\"white\",\"linecolor\":\"white\",\"ticks\":\"\"},\"baxis\":{\"gridcolor\":\"white\",\"linecolor\":\"white\",\"ticks\":\"\"},\"bgcolor\":\"#E5ECF6\",\"caxis\":{\"gridcolor\":\"white\",\"linecolor\":\"white\",\"ticks\":\"\"}},\"title\":{\"x\":0.05},\"xaxis\":{\"automargin\":true,\"gridcolor\":\"white\",\"linecolor\":\"white\",\"ticks\":\"\",\"title\":{\"standoff\":15},\"zerolinecolor\":\"white\",\"zerolinewidth\":2},\"yaxis\":{\"automargin\":true,\"gridcolor\":\"white\",\"linecolor\":\"white\",\"ticks\":\"\",\"title\":{\"standoff\":15},\"zerolinecolor\":\"white\",\"zerolinewidth\":2}}},\"xaxis\":{\"anchor\":\"y\",\"domain\":[0.0,0.2888888888888889],\"title\":{\"text\":\"xgb_learning_rate\"},\"type\":\"log\"},\"yaxis\":{\"anchor\":\"x\",\"domain\":[0.0,1.0],\"title\":{\"text\":\"Objective Value\"}},\"xaxis2\":{\"anchor\":\"y2\",\"domain\":[0.35555555555555557,0.6444444444444445],\"title\":{\"text\":\"xgb_max_depth\"}},\"yaxis2\":{\"anchor\":\"x2\",\"domain\":[0.0,1.0],\"matches\":\"y\",\"showticklabels\":false},\"xaxis3\":{\"anchor\":\"y3\",\"domain\":[0.7111111111111111,1.0],\"title\":{\"text\":\"xgb_n_estimators\"}},\"yaxis3\":{\"anchor\":\"x3\",\"domain\":[0.0,1.0],\"matches\":\"y\",\"showticklabels\":false},\"title\":{\"text\":\"Slice Plot\"}},                        {\"responsive\": true}                    ).then(function(){\n",
              "                            \n",
              "var gd = document.getElementById('911d3019-15a8-455c-a25e-982c1f64dc7a');\n",
              "var x = new MutationObserver(function (mutations, observer) {{\n",
              "        var display = window.getComputedStyle(gd).display;\n",
              "        if (!display || display === 'none') {{\n",
              "            console.log([gd, 'removed!']);\n",
              "            Plotly.purge(gd);\n",
              "            observer.disconnect();\n",
              "        }}\n",
              "}});\n",
              "\n",
              "// Listen for the removal of the full notebook cells\n",
              "var notebookContainer = gd.closest('#notebook-container');\n",
              "if (notebookContainer) {{\n",
              "    x.observe(notebookContainer, {childList: true});\n",
              "}}\n",
              "\n",
              "// Listen for the clearing of the current output cell\n",
              "var outputEl = gd.closest('.output');\n",
              "if (outputEl) {{\n",
              "    x.observe(outputEl, {childList: true});\n",
              "}}\n",
              "\n",
              "                        })                };                            </script>        </div>\n",
              "</body>\n",
              "</html>"
            ]
          },
          "metadata": {}
        }
      ]
    },
    {
      "cell_type": "markdown",
      "source": [
        "Observa-se que valores mais próximos de 0.01 para learning_rate, valores acima entre 15 e 32 para max_depth e valores entre 750 e 100 para n_estimators produziram os melhores resultados, portanto re-executamos os testes com estes intervalos"
      ],
      "metadata": {
        "id": "y2ukfv2gskSU"
      }
    },
    {
      "cell_type": "code",
      "source": [
        "# Passo 1. Definindo função de objetivo a ser maximizada\n",
        "def objective_xgb(trial):\n",
        "  classifier = trial.suggest_categorical(\"classifier\", [\"XGB\"])\n",
        "  \n",
        "  # Passo 2. Definindo conjunto de hiperparâmetros\n",
        "  xgb_n_estimators = trial.suggest_int(\"xgb_n_estimators\", 750, 1250)\n",
        "  xgb_learning_rate = trial.suggest_float('xgb_learning_rate', 1e-3, 1e-1, log=True)\n",
        "  xgb_max_depth = trial.suggest_int(\"xgb_max_depth\", 15, 32) # É importante não aumentar o upper range pra prevenir possível overfitting\n",
        "  clf = XGBClassifier(\n",
        "      random_state=RANDOM_STATE, \n",
        "      n_estimators=xgb_n_estimators, \n",
        "      learning_rate=xgb_learning_rate, \n",
        "      max_depth=xgb_max_depth\n",
        "  )\n",
        "  \n",
        "  # Treinando o modelo\n",
        "  clf.fit(X_train, y_train)\n",
        "\n",
        "  # Usando conjunto de validação para obter métricas\n",
        "  y_pred = clf.predict(X_val)\n",
        "  y_proba = clf.predict_proba(X_val)\n",
        "\n",
        "  # Passo 3: Métrica otimizada\n",
        "  acc, auroc, f1 = eval_metrics(y_val, y_pred, y_proba)\n",
        "  return f1"
      ],
      "metadata": {
        "id": "kaRDwiixs9G_"
      },
      "execution_count": 112,
      "outputs": []
    },
    {
      "cell_type": "code",
      "source": [
        "# Passo 4: Rodar o estudo\n",
        "study = optuna.create_study(direction=\"maximize\")\n",
        "study.optimize(objective_xgb, n_trials=100)"
      ],
      "metadata": {
        "colab": {
          "base_uri": "https://localhost:8080/"
        },
        "id": "5ZrWdE9btx3o",
        "outputId": "6600163a-6bd7-4756-cee0-8a164c8456a3"
      },
      "execution_count": 113,
      "outputs": [
        {
          "output_type": "stream",
          "name": "stderr",
          "text": [
            "\u001b[32m[I 2022-09-02 15:01:03,377]\u001b[0m A new study created in memory with name: no-name-5e082d76-3ac8-46e1-bbd9-af9a832e9636\u001b[0m\n",
            "\u001b[32m[I 2022-09-02 15:01:30,538]\u001b[0m Trial 0 finished with value: 0.8413327477619397 and parameters: {'classifier': 'XGB', 'xgb_n_estimators': 951, 'xgb_learning_rate': 0.04927992775390207, 'xgb_max_depth': 29}. Best is trial 0 with value: 0.8413327477619397.\u001b[0m\n",
            "\u001b[32m[I 2022-09-02 15:02:17,749]\u001b[0m Trial 1 finished with value: 0.8067401971270827 and parameters: {'classifier': 'XGB', 'xgb_n_estimators': 974, 'xgb_learning_rate': 0.0039048312637305163, 'xgb_max_depth': 24}. Best is trial 0 with value: 0.8413327477619397.\u001b[0m\n",
            "\u001b[32m[I 2022-09-02 15:02:57,735]\u001b[0m Trial 2 finished with value: 0.8268871296673208 and parameters: {'classifier': 'XGB', 'xgb_n_estimators': 913, 'xgb_learning_rate': 0.012371766505379769, 'xgb_max_depth': 28}. Best is trial 0 with value: 0.8413327477619397.\u001b[0m\n",
            "\u001b[32m[I 2022-09-02 15:03:53,313]\u001b[0m Trial 3 finished with value: 0.8071891618372938 and parameters: {'classifier': 'XGB', 'xgb_n_estimators': 1166, 'xgb_learning_rate': 0.0011824145649372798, 'xgb_max_depth': 26}. Best is trial 0 with value: 0.8413327477619397.\u001b[0m\n",
            "\u001b[32m[I 2022-09-02 15:04:41,648]\u001b[0m Trial 4 finished with value: 0.8089234037550564 and parameters: {'classifier': 'XGB', 'xgb_n_estimators': 949, 'xgb_learning_rate': 0.0038644127404506247, 'xgb_max_depth': 30}. Best is trial 0 with value: 0.8413327477619397.\u001b[0m\n",
            "\u001b[32m[I 2022-09-02 15:05:05,450]\u001b[0m Trial 5 finished with value: 0.8400454071340331 and parameters: {'classifier': 'XGB', 'xgb_n_estimators': 847, 'xgb_learning_rate': 0.05700796586559933, 'xgb_max_depth': 28}. Best is trial 0 with value: 0.8413327477619397.\u001b[0m\n",
            "\u001b[32m[I 2022-09-02 15:05:42,863]\u001b[0m Trial 6 finished with value: 0.8179429153234987 and parameters: {'classifier': 'XGB', 'xgb_n_estimators': 985, 'xgb_learning_rate': 0.006040327904116621, 'xgb_max_depth': 16}. Best is trial 0 with value: 0.8413327477619397.\u001b[0m\n",
            "\u001b[32m[I 2022-09-02 15:06:07,602]\u001b[0m Trial 7 finished with value: 0.8334150625945033 and parameters: {'classifier': 'XGB', 'xgb_n_estimators': 811, 'xgb_learning_rate': 0.04647089495061442, 'xgb_max_depth': 29}. Best is trial 0 with value: 0.8413327477619397.\u001b[0m\n",
            "\u001b[32m[I 2022-09-02 15:06:35,629]\u001b[0m Trial 8 finished with value: 0.8295986821374809 and parameters: {'classifier': 'XGB', 'xgb_n_estimators': 766, 'xgb_learning_rate': 0.01730217681906588, 'xgb_max_depth': 17}. Best is trial 0 with value: 0.8413327477619397.\u001b[0m\n",
            "\u001b[32m[I 2022-09-02 15:07:11,840]\u001b[0m Trial 9 finished with value: 0.8082605332629097 and parameters: {'classifier': 'XGB', 'xgb_n_estimators': 795, 'xgb_learning_rate': 0.0031031598517260203, 'xgb_max_depth': 20}. Best is trial 0 with value: 0.8413327477619397.\u001b[0m\n",
            "\u001b[32m[I 2022-09-02 15:07:34,594]\u001b[0m Trial 10 finished with value: 0.8364537316135469 and parameters: {'classifier': 'XGB', 'xgb_n_estimators': 1114, 'xgb_learning_rate': 0.09895343479081667, 'xgb_max_depth': 32}. Best is trial 0 with value: 0.8413327477619397.\u001b[0m\n",
            "\u001b[32m[I 2022-09-02 15:08:01,360]\u001b[0m Trial 11 finished with value: 0.8347211489009806 and parameters: {'classifier': 'XGB', 'xgb_n_estimators': 878, 'xgb_learning_rate': 0.042825462005089035, 'xgb_max_depth': 25}. Best is trial 0 with value: 0.8413327477619397.\u001b[0m\n",
            "\u001b[32m[I 2022-09-02 15:08:33,955]\u001b[0m Trial 12 finished with value: 0.8390209847185292 and parameters: {'classifier': 'XGB', 'xgb_n_estimators': 1049, 'xgb_learning_rate': 0.033636148868434815, 'xgb_max_depth': 22}. Best is trial 0 with value: 0.8413327477619397.\u001b[0m\n",
            "\u001b[32m[I 2022-09-02 15:08:55,485]\u001b[0m Trial 13 finished with value: 0.8420574145914665 and parameters: {'classifier': 'XGB', 'xgb_n_estimators': 863, 'xgb_learning_rate': 0.085681826269485, 'xgb_max_depth': 32}. Best is trial 13 with value: 0.8420574145914665.\u001b[0m\n",
            "\u001b[32m[I 2022-09-02 15:09:17,572]\u001b[0m Trial 14 finished with value: 0.8386046000699972 and parameters: {'classifier': 'XGB', 'xgb_n_estimators': 1052, 'xgb_learning_rate': 0.09864745249100253, 'xgb_max_depth': 31}. Best is trial 13 with value: 0.8420574145914665.\u001b[0m\n",
            "\u001b[32m[I 2022-09-02 15:09:51,138]\u001b[0m Trial 15 finished with value: 0.8321030697093214 and parameters: {'classifier': 'XGB', 'xgb_n_estimators': 899, 'xgb_learning_rate': 0.0222697845348068, 'xgb_max_depth': 32}. Best is trial 13 with value: 0.8420574145914665.\u001b[0m\n",
            "\u001b[32m[I 2022-09-02 15:10:27,333]\u001b[0m Trial 16 finished with value: 0.838891208517615 and parameters: {'classifier': 'XGB', 'xgb_n_estimators': 1042, 'xgb_learning_rate': 0.026495063849771315, 'xgb_max_depth': 27}. Best is trial 13 with value: 0.8420574145914665.\u001b[0m\n",
            "\u001b[32m[I 2022-09-02 15:10:57,385]\u001b[0m Trial 17 finished with value: 0.8351714114792813 and parameters: {'classifier': 'XGB', 'xgb_n_estimators': 1233, 'xgb_learning_rate': 0.0624456512163738, 'xgb_max_depth': 22}. Best is trial 13 with value: 0.8420574145914665.\u001b[0m\n",
            "\u001b[32m[I 2022-09-02 15:11:36,218]\u001b[0m Trial 18 finished with value: 0.8296512430476575 and parameters: {'classifier': 'XGB', 'xgb_n_estimators': 853, 'xgb_learning_rate': 0.009644436403024136, 'xgb_max_depth': 30}. Best is trial 13 with value: 0.8420574145914665.\u001b[0m\n",
            "\u001b[32m[I 2022-09-02 15:11:59,078]\u001b[0m Trial 19 finished with value: 0.8345947764692516 and parameters: {'classifier': 'XGB', 'xgb_n_estimators': 931, 'xgb_learning_rate': 0.07497748899462187, 'xgb_max_depth': 32}. Best is trial 13 with value: 0.8420574145914665.\u001b[0m\n",
            "\u001b[32m[I 2022-09-02 15:12:32,257]\u001b[0m Trial 20 finished with value: 0.837453485319485 and parameters: {'classifier': 'XGB', 'xgb_n_estimators': 1014, 'xgb_learning_rate': 0.030720348395697702, 'xgb_max_depth': 29}. Best is trial 13 with value: 0.8420574145914665.\u001b[0m\n",
            "\u001b[32m[I 2022-09-02 15:12:56,692]\u001b[0m Trial 21 finished with value: 0.8321030697093214 and parameters: {'classifier': 'XGB', 'xgb_n_estimators': 842, 'xgb_learning_rate': 0.05040315512799497, 'xgb_max_depth': 27}. Best is trial 13 with value: 0.8420574145914665.\u001b[0m\n",
            "\u001b[32m[I 2022-09-02 15:13:19,567]\u001b[0m Trial 22 finished with value: 0.8361487788729521 and parameters: {'classifier': 'XGB', 'xgb_n_estimators': 755, 'xgb_learning_rate': 0.06019255392561854, 'xgb_max_depth': 28}. Best is trial 13 with value: 0.8420574145914665.\u001b[0m\n",
            "\u001b[32m[I 2022-09-02 15:13:39,886]\u001b[0m Trial 23 finished with value: 0.8378862837382984 and parameters: {'classifier': 'XGB', 'xgb_n_estimators': 847, 'xgb_learning_rate': 0.08619679587775826, 'xgb_max_depth': 30}. Best is trial 13 with value: 0.8420574145914665.\u001b[0m\n",
            "\u001b[32m[I 2022-09-02 15:14:15,394]\u001b[0m Trial 24 finished with value: 0.8354342739569942 and parameters: {'classifier': 'XGB', 'xgb_n_estimators': 888, 'xgb_learning_rate': 0.016847233607719135, 'xgb_max_depth': 26}. Best is trial 13 with value: 0.8420574145914665.\u001b[0m\n",
            "\u001b[32m[I 2022-09-02 15:14:41,796]\u001b[0m Trial 25 finished with value: 0.8416424551620643 and parameters: {'classifier': 'XGB', 'xgb_n_estimators': 810, 'xgb_learning_rate': 0.03799031289509388, 'xgb_max_depth': 31}. Best is trial 13 with value: 0.8420574145914665.\u001b[0m\n",
            "\u001b[32m[I 2022-09-02 15:15:08,236]\u001b[0m Trial 26 finished with value: 0.8373158553002166 and parameters: {'classifier': 'XGB', 'xgb_n_estimators': 806, 'xgb_learning_rate': 0.036701634441792245, 'xgb_max_depth': 31}. Best is trial 13 with value: 0.8420574145914665.\u001b[0m\n",
            "\u001b[32m[I 2022-09-02 15:15:45,526]\u001b[0m Trial 27 finished with value: 0.8407679361363105 and parameters: {'classifier': 'XGB', 'xgb_n_estimators': 957, 'xgb_learning_rate': 0.021113463387412927, 'xgb_max_depth': 31}. Best is trial 13 with value: 0.8420574145914665.\u001b[0m\n",
            "\u001b[32m[I 2022-09-02 15:16:22,437]\u001b[0m Trial 28 finished with value: 0.8207045271554395 and parameters: {'classifier': 'XGB', 'xgb_n_estimators': 796, 'xgb_learning_rate': 0.00934689407579358, 'xgb_max_depth': 32}. Best is trial 13 with value: 0.8420574145914665.\u001b[0m\n",
            "\u001b[32m[I 2022-09-02 15:16:46,891]\u001b[0m Trial 29 finished with value: 0.8427835318814204 and parameters: {'classifier': 'XGB', 'xgb_n_estimators': 1001, 'xgb_learning_rate': 0.06917355028625091, 'xgb_max_depth': 24}. Best is trial 29 with value: 0.8427835318814204.\u001b[0m\n",
            "\u001b[32m[I 2022-09-02 15:17:12,319]\u001b[0m Trial 30 finished with value: 0.8341259242911369 and parameters: {'classifier': 'XGB', 'xgb_n_estimators': 1113, 'xgb_learning_rate': 0.07203751507690424, 'xgb_max_depth': 19}. Best is trial 29 with value: 0.8427835318814204.\u001b[0m\n",
            "\u001b[32m[I 2022-09-02 15:17:43,031]\u001b[0m Trial 31 finished with value: 0.8373158553002166 and parameters: {'classifier': 'XGB', 'xgb_n_estimators': 984, 'xgb_learning_rate': 0.0408703656719513, 'xgb_max_depth': 24}. Best is trial 29 with value: 0.8427835318814204.\u001b[0m\n",
            "\u001b[32m[I 2022-09-02 15:18:05,663]\u001b[0m Trial 32 finished with value: 0.8360213922191659 and parameters: {'classifier': 'XGB', 'xgb_n_estimators': 928, 'xgb_learning_rate': 0.07493261842413135, 'xgb_max_depth': 23}. Best is trial 29 with value: 0.8427835318814204.\u001b[0m\n",
            "\u001b[32m[I 2022-09-02 15:18:35,154]\u001b[0m Trial 33 finished with value: 0.8444315983641056 and parameters: {'classifier': 'XGB', 'xgb_n_estimators': 1094, 'xgb_learning_rate': 0.04891408468110253, 'xgb_max_depth': 29}. Best is trial 33 with value: 0.8444315983641056.\u001b[0m\n",
            "\u001b[32m[I 2022-09-02 15:19:04,680]\u001b[0m Trial 34 finished with value: 0.8327055531558705 and parameters: {'classifier': 'XGB', 'xgb_n_estimators': 1120, 'xgb_learning_rate': 0.05091967480118538, 'xgb_max_depth': 30}. Best is trial 33 with value: 0.8444315983641056.\u001b[0m\n",
            "\u001b[32m[I 2022-09-02 15:19:42,767]\u001b[0m Trial 35 finished with value: 0.8355517803606051 and parameters: {'classifier': 'XGB', 'xgb_n_estimators': 1163, 'xgb_learning_rate': 0.026480202963792915, 'xgb_max_depth': 29}. Best is trial 33 with value: 0.8444315983641056.\u001b[0m\n",
            "\u001b[32m[I 2022-09-02 15:20:34,575]\u001b[0m Trial 36 finished with value: 0.8062784546277161 and parameters: {'classifier': 'XGB', 'xgb_n_estimators': 1086, 'xgb_learning_rate': 0.002193353388873789, 'xgb_max_depth': 20}. Best is trial 33 with value: 0.8444315983641056.\u001b[0m\n",
            "\u001b[32m[I 2022-09-02 15:21:16,109]\u001b[0m Trial 37 finished with value: 0.8307851058015202 and parameters: {'classifier': 'XGB', 'xgb_n_estimators': 1014, 'xgb_learning_rate': 0.013221054722260426, 'xgb_max_depth': 27}. Best is trial 33 with value: 0.8444315983641056.\u001b[0m\n",
            "\u001b[32m[I 2022-09-02 15:22:14,368]\u001b[0m Trial 38 finished with value: 0.8112060542990169 and parameters: {'classifier': 'XGB', 'xgb_n_estimators': 1194, 'xgb_learning_rate': 0.0011223464319834538, 'xgb_max_depth': 25}. Best is trial 33 with value: 0.8444315983641056.\u001b[0m\n",
            "\u001b[32m[I 2022-09-02 15:22:38,956]\u001b[0m Trial 39 finished with value: 0.8386046000699972 and parameters: {'classifier': 'XGB', 'xgb_n_estimators': 959, 'xgb_learning_rate': 0.06512044847095559, 'xgb_max_depth': 28}. Best is trial 33 with value: 0.8444315983641056.\u001b[0m\n",
            "\u001b[32m[I 2022-09-02 15:23:28,651]\u001b[0m Trial 40 finished with value: 0.8220753434508655 and parameters: {'classifier': 'XGB', 'xgb_n_estimators': 1082, 'xgb_learning_rate': 0.007338859930680375, 'xgb_max_depth': 31}. Best is trial 33 with value: 0.8444315983641056.\u001b[0m\n",
            "\u001b[32m[I 2022-09-02 15:23:55,577]\u001b[0m Trial 41 finished with value: 0.8396122302282445 and parameters: {'classifier': 'XGB', 'xgb_n_estimators': 873, 'xgb_learning_rate': 0.04320393589266152, 'xgb_max_depth': 29}. Best is trial 33 with value: 0.8444315983641056.\u001b[0m\n",
            "\u001b[32m[I 2022-09-02 15:24:18,179]\u001b[0m Trial 42 finished with value: 0.8458918993561602 and parameters: {'classifier': 'XGB', 'xgb_n_estimators': 916, 'xgb_learning_rate': 0.05294280792427174, 'xgb_max_depth': 15}. Best is trial 42 with value: 0.8458918993561602.\u001b[0m\n",
            "\u001b[32m[I 2022-09-02 15:24:40,419]\u001b[0m Trial 43 finished with value: 0.8471589451898791 and parameters: {'classifier': 'XGB', 'xgb_n_estimators': 825, 'xgb_learning_rate': 0.05466132863394454, 'xgb_max_depth': 15}. Best is trial 43 with value: 0.8471589451898791.\u001b[0m\n",
            "\u001b[32m[I 2022-09-02 15:25:01,024]\u001b[0m Trial 44 finished with value: 0.8345947764692516 and parameters: {'classifier': 'XGB', 'xgb_n_estimators': 915, 'xgb_learning_rate': 0.08077812609657739, 'xgb_max_depth': 16}. Best is trial 43 with value: 0.8471589451898791.\u001b[0m\n",
            "\u001b[32m[I 2022-09-02 15:25:20,913]\u001b[0m Trial 45 finished with value: 0.838891208517615 and parameters: {'classifier': 'XGB', 'xgb_n_estimators': 778, 'xgb_learning_rate': 0.053691085128192394, 'xgb_max_depth': 15}. Best is trial 43 with value: 0.8471589451898791.\u001b[0m\n",
            "\u001b[32m[I 2022-09-02 15:25:39,506]\u001b[0m Trial 46 finished with value: 0.8391672560494806 and parameters: {'classifier': 'XGB', 'xgb_n_estimators': 828, 'xgb_learning_rate': 0.09732852010824451, 'xgb_max_depth': 18}. Best is trial 43 with value: 0.8471589451898791.\u001b[0m\n",
            "\u001b[32m[I 2022-09-02 15:26:03,998]\u001b[0m Trial 47 finished with value: 0.837453485319485 and parameters: {'classifier': 'XGB', 'xgb_n_estimators': 871, 'xgb_learning_rate': 0.029485471850912458, 'xgb_max_depth': 15}. Best is trial 43 with value: 0.8471589451898791.\u001b[0m\n",
            "\u001b[32m[I 2022-09-02 15:26:27,404]\u001b[0m Trial 48 finished with value: 0.8354342739569942 and parameters: {'classifier': 'XGB', 'xgb_n_estimators': 903, 'xgb_learning_rate': 0.05423291856069281, 'xgb_max_depth': 17}. Best is trial 43 with value: 0.8471589451898791.\u001b[0m\n",
            "\u001b[32m[I 2022-09-02 15:27:12,149]\u001b[0m Trial 49 finished with value: 0.8104001896356371 and parameters: {'classifier': 'XGB', 'xgb_n_estimators': 938, 'xgb_learning_rate': 0.0018613787673592834, 'xgb_max_depth': 21}. Best is trial 43 with value: 0.8471589451898791.\u001b[0m\n",
            "\u001b[32m[I 2022-09-02 15:27:50,665]\u001b[0m Trial 50 finished with value: 0.8151541623282612 and parameters: {'classifier': 'XGB', 'xgb_n_estimators': 998, 'xgb_learning_rate': 0.005075462904475006, 'xgb_max_depth': 16}. Best is trial 43 with value: 0.8471589451898791.\u001b[0m\n",
            "\u001b[32m[I 2022-09-02 15:28:14,349]\u001b[0m Trial 51 finished with value: 0.8407679361363105 and parameters: {'classifier': 'XGB', 'xgb_n_estimators': 823, 'xgb_learning_rate': 0.04016352643054269, 'xgb_max_depth': 17}. Best is trial 43 with value: 0.8471589451898791.\u001b[0m\n",
            "\u001b[32m[I 2022-09-02 15:28:35,047]\u001b[0m Trial 52 finished with value: 0.8397215327056899 and parameters: {'classifier': 'XGB', 'xgb_n_estimators': 786, 'xgb_learning_rate': 0.061489578677799334, 'xgb_max_depth': 18}. Best is trial 43 with value: 0.8471589451898791.\u001b[0m\n",
            "\u001b[32m[I 2022-09-02 15:28:58,848]\u001b[0m Trial 53 finished with value: 0.8380333996765995 and parameters: {'classifier': 'XGB', 'xgb_n_estimators': 823, 'xgb_learning_rate': 0.03575872505311834, 'xgb_max_depth': 15}. Best is trial 43 with value: 0.8471589451898791.\u001b[0m\n",
            "\u001b[32m[I 2022-09-02 15:29:23,965]\u001b[0m Trial 54 finished with value: 0.8353074090693552 and parameters: {'classifier': 'XGB', 'xgb_n_estimators': 855, 'xgb_learning_rate': 0.046849457555731756, 'xgb_max_depth': 23}. Best is trial 43 with value: 0.8471589451898791.\u001b[0m\n",
            "\u001b[32m[I 2022-09-02 15:29:44,023]\u001b[0m Trial 55 finished with value: 0.8378862837382984 and parameters: {'classifier': 'XGB', 'xgb_n_estimators': 873, 'xgb_learning_rate': 0.09320639788763556, 'xgb_max_depth': 32}. Best is trial 43 with value: 0.8471589451898791.\u001b[0m\n",
            "\u001b[32m[I 2022-09-02 15:30:04,963]\u001b[0m Trial 56 finished with value: 0.8387523403912005 and parameters: {'classifier': 'XGB', 'xgb_n_estimators': 764, 'xgb_learning_rate': 0.0684363739175566, 'xgb_max_depth': 31}. Best is trial 43 with value: 0.8471589451898791.\u001b[0m\n",
            "\u001b[32m[I 2022-09-02 15:30:36,296]\u001b[0m Trial 57 finished with value: 0.8340093847617325 and parameters: {'classifier': 'XGB', 'xgb_n_estimators': 834, 'xgb_learning_rate': 0.022563196835172616, 'xgb_max_depth': 25}. Best is trial 43 with value: 0.8471589451898791.\u001b[0m\n",
            "\u001b[32m[I 2022-09-02 15:31:00,269]\u001b[0m Trial 58 finished with value: 0.8442360978757821 and parameters: {'classifier': 'XGB', 'xgb_n_estimators': 1026, 'xgb_learning_rate': 0.076957862652571, 'xgb_max_depth': 30}. Best is trial 43 with value: 0.8471589451898791.\u001b[0m\n",
            "\u001b[32m[I 2022-09-02 15:31:24,576]\u001b[0m Trial 59 finished with value: 0.8454898358632149 and parameters: {'classifier': 'XGB', 'xgb_n_estimators': 1018, 'xgb_learning_rate': 0.08335122969965272, 'xgb_max_depth': 28}. Best is trial 43 with value: 0.8471589451898791.\u001b[0m\n",
            "\u001b[32m[I 2022-09-02 15:31:48,084]\u001b[0m Trial 60 finished with value: 0.8391672560494806 and parameters: {'classifier': 'XGB', 'xgb_n_estimators': 1031, 'xgb_learning_rate': 0.08101588153659751, 'xgb_max_depth': 26}. Best is trial 43 with value: 0.8471589451898791.\u001b[0m\n",
            "\u001b[32m[I 2022-09-02 15:32:15,462]\u001b[0m Trial 61 finished with value: 0.8299853698468653 and parameters: {'classifier': 'XGB', 'xgb_n_estimators': 1070, 'xgb_learning_rate': 0.059004814928572596, 'xgb_max_depth': 28}. Best is trial 43 with value: 0.8471589451898791.\u001b[0m\n",
            "\u001b[32m[I 2022-09-02 15:32:37,751]\u001b[0m Trial 62 finished with value: 0.8291776446239825 and parameters: {'classifier': 'XGB', 'xgb_n_estimators': 972, 'xgb_learning_rate': 0.08342419898370987, 'xgb_max_depth': 30}. Best is trial 43 with value: 0.8471589451898791.\u001b[0m\n",
            "\u001b[32m[I 2022-09-02 15:33:02,663]\u001b[0m Trial 63 finished with value: 0.8384481983011866 and parameters: {'classifier': 'XGB', 'xgb_n_estimators': 1030, 'xgb_learning_rate': 0.06989066038873391, 'xgb_max_depth': 30}. Best is trial 43 with value: 0.8471589451898791.\u001b[0m\n",
            "\u001b[32m[I 2022-09-02 15:33:25,079]\u001b[0m Trial 64 finished with value: 0.8365996882696244 and parameters: {'classifier': 'XGB', 'xgb_n_estimators': 1003, 'xgb_learning_rate': 0.09804454502212843, 'xgb_max_depth': 27}. Best is trial 43 with value: 0.8471589451898791.\u001b[0m\n",
            "\u001b[32m[I 2022-09-02 15:33:54,507]\u001b[0m Trial 65 finished with value: 0.8381716334547674 and parameters: {'classifier': 'XGB', 'xgb_n_estimators': 1060, 'xgb_learning_rate': 0.04789327574785387, 'xgb_max_depth': 29}. Best is trial 43 with value: 0.8471589451898791.\u001b[0m\n",
            "\u001b[32m[I 2022-09-02 15:34:20,404]\u001b[0m Trial 66 finished with value: 0.8438904954516947 and parameters: {'classifier': 'XGB', 'xgb_n_estimators': 1099, 'xgb_learning_rate': 0.05840668778914355, 'xgb_max_depth': 16}. Best is trial 43 with value: 0.8471589451898791.\u001b[0m\n",
            "\u001b[32m[I 2022-09-02 15:34:47,088]\u001b[0m Trial 67 finished with value: 0.8391672560494806 and parameters: {'classifier': 'XGB', 'xgb_n_estimators': 1135, 'xgb_learning_rate': 0.05669260991365327, 'xgb_max_depth': 16}. Best is trial 43 with value: 0.8471589451898791.\u001b[0m\n",
            "\u001b[32m[I 2022-09-02 15:35:16,390]\u001b[0m Trial 68 finished with value: 0.8420574145914665 and parameters: {'classifier': 'XGB', 'xgb_n_estimators': 1041, 'xgb_learning_rate': 0.03110507406786154, 'xgb_max_depth': 16}. Best is trial 43 with value: 0.8471589451898791.\u001b[0m\n",
            "\u001b[32m[I 2022-09-02 15:35:43,115]\u001b[0m Trial 69 finished with value: 0.8418890915472294 and parameters: {'classifier': 'XGB', 'xgb_n_estimators': 1088, 'xgb_learning_rate': 0.0650691007982775, 'xgb_max_depth': 17}. Best is trial 43 with value: 0.8471589451898791.\u001b[0m\n",
            "\u001b[32m[I 2022-09-02 15:36:06,678]\u001b[0m Trial 70 finished with value: 0.8394726966819759 and parameters: {'classifier': 'XGB', 'xgb_n_estimators': 1103, 'xgb_learning_rate': 0.07511079252724266, 'xgb_max_depth': 15}. Best is trial 43 with value: 0.8471589451898791.\u001b[0m\n",
            "\u001b[32m[I 2022-09-02 15:36:34,387]\u001b[0m Trial 71 finished with value: 0.8393243015310783 and parameters: {'classifier': 'XGB', 'xgb_n_estimators': 1037, 'xgb_learning_rate': 0.045859911229586985, 'xgb_max_depth': 18}. Best is trial 43 with value: 0.8471589451898791.\u001b[0m\n",
            "\u001b[32m[I 2022-09-02 15:37:03,665]\u001b[0m Trial 72 finished with value: 0.8381716334547674 and parameters: {'classifier': 'XGB', 'xgb_n_estimators': 1065, 'xgb_learning_rate': 0.03310470569683837, 'xgb_max_depth': 16}. Best is trial 43 with value: 0.8471589451898791.\u001b[0m\n",
            "\u001b[32m[I 2022-09-02 15:37:28,757]\u001b[0m Trial 73 finished with value: 0.8451610229047793 and parameters: {'classifier': 'XGB', 'xgb_n_estimators': 1014, 'xgb_learning_rate': 0.05271230440691106, 'xgb_max_depth': 16}. Best is trial 43 with value: 0.8471589451898791.\u001b[0m\n",
            "\u001b[32m[I 2022-09-02 15:37:54,178]\u001b[0m Trial 74 finished with value: 0.8398876876427639 and parameters: {'classifier': 'XGB', 'xgb_n_estimators': 1017, 'xgb_learning_rate': 0.05336252216574251, 'xgb_max_depth': 15}. Best is trial 43 with value: 0.8471589451898791.\u001b[0m\n",
            "\u001b[32m[I 2022-09-02 15:38:16,283]\u001b[0m Trial 75 finished with value: 0.8378862837382984 and parameters: {'classifier': 'XGB', 'xgb_n_estimators': 978, 'xgb_learning_rate': 0.08628042846297217, 'xgb_max_depth': 19}. Best is trial 43 with value: 0.8471589451898791.\u001b[0m\n",
            "\u001b[32m[I 2022-09-02 15:38:41,839]\u001b[0m Trial 76 finished with value: 0.8347211489009806 and parameters: {'classifier': 'XGB', 'xgb_n_estimators': 992, 'xgb_learning_rate': 0.061296779347915026, 'xgb_max_depth': 24}. Best is trial 43 with value: 0.8471589451898791.\u001b[0m\n",
            "\u001b[32m[I 2022-09-02 15:39:13,108]\u001b[0m Trial 77 finished with value: 0.8301649554171066 and parameters: {'classifier': 'XGB', 'xgb_n_estimators': 1145, 'xgb_learning_rate': 0.04272838667476907, 'xgb_max_depth': 21}. Best is trial 43 with value: 0.8471589451898791.\u001b[0m\n",
            "\u001b[32m[I 2022-09-02 15:39:37,357]\u001b[0m Trial 78 finished with value: 0.8393243015310783 and parameters: {'classifier': 'XGB', 'xgb_n_estimators': 962, 'xgb_learning_rate': 0.06873251154574032, 'xgb_max_depth': 28}. Best is trial 43 with value: 0.8471589451898791.\u001b[0m\n",
            "\u001b[32m[I 2022-09-02 15:40:09,961]\u001b[0m Trial 79 finished with value: 0.8387523403912005 and parameters: {'classifier': 'XGB', 'xgb_n_estimators': 1024, 'xgb_learning_rate': 0.02580719119542115, 'xgb_max_depth': 17}. Best is trial 43 with value: 0.8471589451898791.\u001b[0m\n",
            "\u001b[32m[I 2022-09-02 15:40:34,812]\u001b[0m Trial 80 finished with value: 0.8373158553002166 and parameters: {'classifier': 'XGB', 'xgb_n_estimators': 941, 'xgb_learning_rate': 0.03770817636623932, 'xgb_max_depth': 15}. Best is trial 43 with value: 0.8471589451898791.\u001b[0m\n",
            "\u001b[32m[I 2022-09-02 15:40:58,097]\u001b[0m Trial 81 finished with value: 0.8400454071340331 and parameters: {'classifier': 'XGB', 'xgb_n_estimators': 1050, 'xgb_learning_rate': 0.08707555329398212, 'xgb_max_depth': 29}. Best is trial 43 with value: 0.8471589451898791.\u001b[0m\n",
            "\u001b[32m[I 2022-09-02 15:41:26,742]\u001b[0m Trial 82 finished with value: 0.8400454071340331 and parameters: {'classifier': 'XGB', 'xgb_n_estimators': 1009, 'xgb_learning_rate': 0.03035755817486791, 'xgb_max_depth': 16}. Best is trial 43 with value: 0.8471589451898791.\u001b[0m\n",
            "\u001b[32m[I 2022-09-02 15:41:52,614]\u001b[0m Trial 83 finished with value: 0.8418890915472294 and parameters: {'classifier': 'XGB', 'xgb_n_estimators': 1045, 'xgb_learning_rate': 0.050802434473356535, 'xgb_max_depth': 16}. Best is trial 43 with value: 0.8471589451898791.\u001b[0m\n",
            "\u001b[32m[I 2022-09-02 15:42:19,854]\u001b[0m Trial 84 finished with value: 0.8417125695664889 and parameters: {'classifier': 'XGB', 'xgb_n_estimators': 1077, 'xgb_learning_rate': 0.05750268655360696, 'xgb_max_depth': 17}. Best is trial 43 with value: 0.8471589451898791.\u001b[0m\n",
            "\u001b[32m[I 2022-09-02 15:42:45,744]\u001b[0m Trial 85 finished with value: 0.8380333996765995 and parameters: {'classifier': 'XGB', 'xgb_n_estimators': 1096, 'xgb_learning_rate': 0.07427833773452232, 'xgb_max_depth': 26}. Best is trial 43 with value: 0.8471589451898791.\u001b[0m\n",
            "\u001b[32m[I 2022-09-02 15:43:11,296]\u001b[0m Trial 86 finished with value: 0.8433411939928013 and parameters: {'classifier': 'XGB', 'xgb_n_estimators': 986, 'xgb_learning_rate': 0.04566251921257694, 'xgb_max_depth': 16}. Best is trial 43 with value: 0.8471589451898791.\u001b[0m\n",
            "\u001b[32m[I 2022-09-02 15:43:34,863]\u001b[0m Trial 87 finished with value: 0.8426144236707426 and parameters: {'classifier': 'XGB', 'xgb_n_estimators': 920, 'xgb_learning_rate': 0.04490015876796506, 'xgb_max_depth': 15}. Best is trial 43 with value: 0.8471589451898791.\u001b[0m\n",
            "\u001b[32m[I 2022-09-02 15:44:00,482]\u001b[0m Trial 88 finished with value: 0.8400454071340331 and parameters: {'classifier': 'XGB', 'xgb_n_estimators': 970, 'xgb_learning_rate': 0.050831933233134154, 'xgb_max_depth': 18}. Best is trial 43 with value: 0.8471589451898791.\u001b[0m\n",
            "\u001b[32m[I 2022-09-02 15:44:28,851]\u001b[0m Trial 89 finished with value: 0.8394726966819759 and parameters: {'classifier': 'XGB', 'xgb_n_estimators': 994, 'xgb_learning_rate': 0.040386884667285614, 'xgb_max_depth': 19}. Best is trial 43 with value: 0.8471589451898791.\u001b[0m\n",
            "\u001b[32m[I 2022-09-02 15:44:51,980]\u001b[0m Trial 90 finished with value: 0.8393243015310783 and parameters: {'classifier': 'XGB', 'xgb_n_estimators': 892, 'xgb_learning_rate': 0.07661137389954109, 'xgb_max_depth': 22}. Best is trial 43 with value: 0.8471589451898791.\u001b[0m\n",
            "\u001b[32m[I 2022-09-02 15:45:15,160]\u001b[0m Trial 91 finished with value: 0.8438904954516947 and parameters: {'classifier': 'XGB', 'xgb_n_estimators': 912, 'xgb_learning_rate': 0.04661940259242023, 'xgb_max_depth': 15}. Best is trial 43 with value: 0.8471589451898791.\u001b[0m\n",
            "\u001b[32m[I 2022-09-02 15:45:37,189]\u001b[0m Trial 92 finished with value: 0.8407679361363105 and parameters: {'classifier': 'XGB', 'xgb_n_estimators': 951, 'xgb_learning_rate': 0.0651139440714517, 'xgb_max_depth': 15}. Best is trial 43 with value: 0.8471589451898791.\u001b[0m\n",
            "\u001b[32m[I 2022-09-02 15:46:04,255]\u001b[0m Trial 93 finished with value: 0.8380333996765995 and parameters: {'classifier': 'XGB', 'xgb_n_estimators': 1196, 'xgb_learning_rate': 0.05695751990059811, 'xgb_max_depth': 15}. Best is trial 43 with value: 0.8471589451898791.\u001b[0m\n",
            "\u001b[32m[I 2022-09-02 15:46:25,126]\u001b[0m Trial 94 finished with value: 0.8358848798338329 and parameters: {'classifier': 'XGB', 'xgb_n_estimators': 988, 'xgb_learning_rate': 0.08993629379693217, 'xgb_max_depth': 16}. Best is trial 43 with value: 0.8471589451898791.\u001b[0m\n",
            "\u001b[32m[I 2022-09-02 15:46:57,028]\u001b[0m Trial 95 finished with value: 0.8288956716512627 and parameters: {'classifier': 'XGB', 'xgb_n_estimators': 904, 'xgb_learning_rate': 0.016964686725043053, 'xgb_max_depth': 17}. Best is trial 43 with value: 0.8471589451898791.\u001b[0m\n",
            "\u001b[32m[I 2022-09-02 15:47:26,889]\u001b[0m Trial 96 finished with value: 0.8400454071340331 and parameters: {'classifier': 'XGB', 'xgb_n_estimators': 1122, 'xgb_learning_rate': 0.03549785704055083, 'xgb_max_depth': 16}. Best is trial 43 with value: 0.8471589451898791.\u001b[0m\n",
            "\u001b[32m[I 2022-09-02 15:47:49,901]\u001b[0m Trial 97 finished with value: 0.8391672560494806 and parameters: {'classifier': 'XGB', 'xgb_n_estimators': 1005, 'xgb_learning_rate': 0.06483932723975237, 'xgb_max_depth': 15}. Best is trial 43 with value: 0.8471589451898791.\u001b[0m\n",
            "\u001b[32m[I 2022-09-02 15:48:24,605]\u001b[0m Trial 98 finished with value: 0.8343299500757521 and parameters: {'classifier': 'XGB', 'xgb_n_estimators': 1055, 'xgb_learning_rate': 0.01259390647190963, 'xgb_max_depth': 16}. Best is trial 43 with value: 0.8471589451898791.\u001b[0m\n",
            "\u001b[32m[I 2022-09-02 15:48:52,999]\u001b[0m Trial 99 finished with value: 0.8396122302282445 and parameters: {'classifier': 'XGB', 'xgb_n_estimators': 1020, 'xgb_learning_rate': 0.04837362238850357, 'xgb_max_depth': 30}. Best is trial 43 with value: 0.8471589451898791.\u001b[0m\n"
          ]
        }
      ]
    },
    {
      "cell_type": "code",
      "source": [
        "optuna.visualization.plot_optimization_history(study).show()"
      ],
      "metadata": {
        "colab": {
          "base_uri": "https://localhost:8080/",
          "height": 542
        },
        "id": "PeLZzy2nwA1F",
        "outputId": "61268488-9164-4b7a-8863-451fc3968011"
      },
      "execution_count": 114,
      "outputs": [
        {
          "output_type": "display_data",
          "data": {
            "text/html": [
              "<html>\n",
              "<head><meta charset=\"utf-8\" /></head>\n",
              "<body>\n",
              "    <div>            <script src=\"https://cdnjs.cloudflare.com/ajax/libs/mathjax/2.7.5/MathJax.js?config=TeX-AMS-MML_SVG\"></script><script type=\"text/javascript\">if (window.MathJax) {MathJax.Hub.Config({SVG: {font: \"STIX-Web\"}});}</script>                <script type=\"text/javascript\">window.PlotlyConfig = {MathJaxConfig: 'local'};</script>\n",
              "        <script src=\"https://cdn.plot.ly/plotly-2.8.3.min.js\"></script>                <div id=\"c4b3a94f-8cb2-48b2-8f84-cb14e0b16594\" class=\"plotly-graph-div\" style=\"height:525px; width:100%;\"></div>            <script type=\"text/javascript\">                                    window.PLOTLYENV=window.PLOTLYENV || {};                                    if (document.getElementById(\"c4b3a94f-8cb2-48b2-8f84-cb14e0b16594\")) {                    Plotly.newPlot(                        \"c4b3a94f-8cb2-48b2-8f84-cb14e0b16594\",                        [{\"mode\":\"markers\",\"name\":\"Objective Value\",\"x\":[0,1,2,3,4,5,6,7,8,9,10,11,12,13,14,15,16,17,18,19,20,21,22,23,24,25,26,27,28,29,30,31,32,33,34,35,36,37,38,39,40,41,42,43,44,45,46,47,48,49,50,51,52,53,54,55,56,57,58,59,60,61,62,63,64,65,66,67,68,69,70,71,72,73,74,75,76,77,78,79,80,81,82,83,84,85,86,87,88,89,90,91,92,93,94,95,96,97,98,99],\"y\":[0.8413327477619397,0.8067401971270827,0.8268871296673208,0.8071891618372938,0.8089234037550564,0.8400454071340331,0.8179429153234987,0.8334150625945033,0.8295986821374809,0.8082605332629097,0.8364537316135469,0.8347211489009806,0.8390209847185292,0.8420574145914665,0.8386046000699972,0.8321030697093214,0.838891208517615,0.8351714114792813,0.8296512430476575,0.8345947764692516,0.837453485319485,0.8321030697093214,0.8361487788729521,0.8378862837382984,0.8354342739569942,0.8416424551620643,0.8373158553002166,0.8407679361363105,0.8207045271554395,0.8427835318814204,0.8341259242911369,0.8373158553002166,0.8360213922191659,0.8444315983641056,0.8327055531558705,0.8355517803606051,0.8062784546277161,0.8307851058015202,0.8112060542990169,0.8386046000699972,0.8220753434508655,0.8396122302282445,0.8458918993561602,0.8471589451898791,0.8345947764692516,0.838891208517615,0.8391672560494806,0.837453485319485,0.8354342739569942,0.8104001896356371,0.8151541623282612,0.8407679361363105,0.8397215327056899,0.8380333996765995,0.8353074090693552,0.8378862837382984,0.8387523403912005,0.8340093847617325,0.8442360978757821,0.8454898358632149,0.8391672560494806,0.8299853698468653,0.8291776446239825,0.8384481983011866,0.8365996882696244,0.8381716334547674,0.8438904954516947,0.8391672560494806,0.8420574145914665,0.8418890915472294,0.8394726966819759,0.8393243015310783,0.8381716334547674,0.8451610229047793,0.8398876876427639,0.8378862837382984,0.8347211489009806,0.8301649554171066,0.8393243015310783,0.8387523403912005,0.8373158553002166,0.8400454071340331,0.8400454071340331,0.8418890915472294,0.8417125695664889,0.8380333996765995,0.8433411939928013,0.8426144236707426,0.8400454071340331,0.8394726966819759,0.8393243015310783,0.8438904954516947,0.8407679361363105,0.8380333996765995,0.8358848798338329,0.8288956716512627,0.8400454071340331,0.8391672560494806,0.8343299500757521,0.8396122302282445],\"type\":\"scatter\"},{\"name\":\"Best Value\",\"x\":[0,1,2,3,4,5,6,7,8,9,10,11,12,13,14,15,16,17,18,19,20,21,22,23,24,25,26,27,28,29,30,31,32,33,34,35,36,37,38,39,40,41,42,43,44,45,46,47,48,49,50,51,52,53,54,55,56,57,58,59,60,61,62,63,64,65,66,67,68,69,70,71,72,73,74,75,76,77,78,79,80,81,82,83,84,85,86,87,88,89,90,91,92,93,94,95,96,97,98,99],\"y\":[0.8413327477619397,0.8413327477619397,0.8413327477619397,0.8413327477619397,0.8413327477619397,0.8413327477619397,0.8413327477619397,0.8413327477619397,0.8413327477619397,0.8413327477619397,0.8413327477619397,0.8413327477619397,0.8413327477619397,0.8420574145914665,0.8420574145914665,0.8420574145914665,0.8420574145914665,0.8420574145914665,0.8420574145914665,0.8420574145914665,0.8420574145914665,0.8420574145914665,0.8420574145914665,0.8420574145914665,0.8420574145914665,0.8420574145914665,0.8420574145914665,0.8420574145914665,0.8420574145914665,0.8427835318814204,0.8427835318814204,0.8427835318814204,0.8427835318814204,0.8444315983641056,0.8444315983641056,0.8444315983641056,0.8444315983641056,0.8444315983641056,0.8444315983641056,0.8444315983641056,0.8444315983641056,0.8444315983641056,0.8458918993561602,0.8471589451898791,0.8471589451898791,0.8471589451898791,0.8471589451898791,0.8471589451898791,0.8471589451898791,0.8471589451898791,0.8471589451898791,0.8471589451898791,0.8471589451898791,0.8471589451898791,0.8471589451898791,0.8471589451898791,0.8471589451898791,0.8471589451898791,0.8471589451898791,0.8471589451898791,0.8471589451898791,0.8471589451898791,0.8471589451898791,0.8471589451898791,0.8471589451898791,0.8471589451898791,0.8471589451898791,0.8471589451898791,0.8471589451898791,0.8471589451898791,0.8471589451898791,0.8471589451898791,0.8471589451898791,0.8471589451898791,0.8471589451898791,0.8471589451898791,0.8471589451898791,0.8471589451898791,0.8471589451898791,0.8471589451898791,0.8471589451898791,0.8471589451898791,0.8471589451898791,0.8471589451898791,0.8471589451898791,0.8471589451898791,0.8471589451898791,0.8471589451898791,0.8471589451898791,0.8471589451898791,0.8471589451898791,0.8471589451898791,0.8471589451898791,0.8471589451898791,0.8471589451898791,0.8471589451898791,0.8471589451898791,0.8471589451898791,0.8471589451898791,0.8471589451898791],\"type\":\"scatter\"}],                        {\"title\":{\"text\":\"Optimization History Plot\"},\"xaxis\":{\"title\":{\"text\":\"Trial\"}},\"yaxis\":{\"title\":{\"text\":\"Objective Value\"}},\"template\":{\"data\":{\"bar\":[{\"error_x\":{\"color\":\"#2a3f5f\"},\"error_y\":{\"color\":\"#2a3f5f\"},\"marker\":{\"line\":{\"color\":\"#E5ECF6\",\"width\":0.5},\"pattern\":{\"fillmode\":\"overlay\",\"size\":10,\"solidity\":0.2}},\"type\":\"bar\"}],\"barpolar\":[{\"marker\":{\"line\":{\"color\":\"#E5ECF6\",\"width\":0.5},\"pattern\":{\"fillmode\":\"overlay\",\"size\":10,\"solidity\":0.2}},\"type\":\"barpolar\"}],\"carpet\":[{\"aaxis\":{\"endlinecolor\":\"#2a3f5f\",\"gridcolor\":\"white\",\"linecolor\":\"white\",\"minorgridcolor\":\"white\",\"startlinecolor\":\"#2a3f5f\"},\"baxis\":{\"endlinecolor\":\"#2a3f5f\",\"gridcolor\":\"white\",\"linecolor\":\"white\",\"minorgridcolor\":\"white\",\"startlinecolor\":\"#2a3f5f\"},\"type\":\"carpet\"}],\"choropleth\":[{\"colorbar\":{\"outlinewidth\":0,\"ticks\":\"\"},\"type\":\"choropleth\"}],\"contour\":[{\"colorbar\":{\"outlinewidth\":0,\"ticks\":\"\"},\"colorscale\":[[0.0,\"#0d0887\"],[0.1111111111111111,\"#46039f\"],[0.2222222222222222,\"#7201a8\"],[0.3333333333333333,\"#9c179e\"],[0.4444444444444444,\"#bd3786\"],[0.5555555555555556,\"#d8576b\"],[0.6666666666666666,\"#ed7953\"],[0.7777777777777778,\"#fb9f3a\"],[0.8888888888888888,\"#fdca26\"],[1.0,\"#f0f921\"]],\"type\":\"contour\"}],\"contourcarpet\":[{\"colorbar\":{\"outlinewidth\":0,\"ticks\":\"\"},\"type\":\"contourcarpet\"}],\"heatmap\":[{\"colorbar\":{\"outlinewidth\":0,\"ticks\":\"\"},\"colorscale\":[[0.0,\"#0d0887\"],[0.1111111111111111,\"#46039f\"],[0.2222222222222222,\"#7201a8\"],[0.3333333333333333,\"#9c179e\"],[0.4444444444444444,\"#bd3786\"],[0.5555555555555556,\"#d8576b\"],[0.6666666666666666,\"#ed7953\"],[0.7777777777777778,\"#fb9f3a\"],[0.8888888888888888,\"#fdca26\"],[1.0,\"#f0f921\"]],\"type\":\"heatmap\"}],\"heatmapgl\":[{\"colorbar\":{\"outlinewidth\":0,\"ticks\":\"\"},\"colorscale\":[[0.0,\"#0d0887\"],[0.1111111111111111,\"#46039f\"],[0.2222222222222222,\"#7201a8\"],[0.3333333333333333,\"#9c179e\"],[0.4444444444444444,\"#bd3786\"],[0.5555555555555556,\"#d8576b\"],[0.6666666666666666,\"#ed7953\"],[0.7777777777777778,\"#fb9f3a\"],[0.8888888888888888,\"#fdca26\"],[1.0,\"#f0f921\"]],\"type\":\"heatmapgl\"}],\"histogram\":[{\"marker\":{\"pattern\":{\"fillmode\":\"overlay\",\"size\":10,\"solidity\":0.2}},\"type\":\"histogram\"}],\"histogram2d\":[{\"colorbar\":{\"outlinewidth\":0,\"ticks\":\"\"},\"colorscale\":[[0.0,\"#0d0887\"],[0.1111111111111111,\"#46039f\"],[0.2222222222222222,\"#7201a8\"],[0.3333333333333333,\"#9c179e\"],[0.4444444444444444,\"#bd3786\"],[0.5555555555555556,\"#d8576b\"],[0.6666666666666666,\"#ed7953\"],[0.7777777777777778,\"#fb9f3a\"],[0.8888888888888888,\"#fdca26\"],[1.0,\"#f0f921\"]],\"type\":\"histogram2d\"}],\"histogram2dcontour\":[{\"colorbar\":{\"outlinewidth\":0,\"ticks\":\"\"},\"colorscale\":[[0.0,\"#0d0887\"],[0.1111111111111111,\"#46039f\"],[0.2222222222222222,\"#7201a8\"],[0.3333333333333333,\"#9c179e\"],[0.4444444444444444,\"#bd3786\"],[0.5555555555555556,\"#d8576b\"],[0.6666666666666666,\"#ed7953\"],[0.7777777777777778,\"#fb9f3a\"],[0.8888888888888888,\"#fdca26\"],[1.0,\"#f0f921\"]],\"type\":\"histogram2dcontour\"}],\"mesh3d\":[{\"colorbar\":{\"outlinewidth\":0,\"ticks\":\"\"},\"type\":\"mesh3d\"}],\"parcoords\":[{\"line\":{\"colorbar\":{\"outlinewidth\":0,\"ticks\":\"\"}},\"type\":\"parcoords\"}],\"pie\":[{\"automargin\":true,\"type\":\"pie\"}],\"scatter\":[{\"marker\":{\"colorbar\":{\"outlinewidth\":0,\"ticks\":\"\"}},\"type\":\"scatter\"}],\"scatter3d\":[{\"line\":{\"colorbar\":{\"outlinewidth\":0,\"ticks\":\"\"}},\"marker\":{\"colorbar\":{\"outlinewidth\":0,\"ticks\":\"\"}},\"type\":\"scatter3d\"}],\"scattercarpet\":[{\"marker\":{\"colorbar\":{\"outlinewidth\":0,\"ticks\":\"\"}},\"type\":\"scattercarpet\"}],\"scattergeo\":[{\"marker\":{\"colorbar\":{\"outlinewidth\":0,\"ticks\":\"\"}},\"type\":\"scattergeo\"}],\"scattergl\":[{\"marker\":{\"colorbar\":{\"outlinewidth\":0,\"ticks\":\"\"}},\"type\":\"scattergl\"}],\"scattermapbox\":[{\"marker\":{\"colorbar\":{\"outlinewidth\":0,\"ticks\":\"\"}},\"type\":\"scattermapbox\"}],\"scatterpolar\":[{\"marker\":{\"colorbar\":{\"outlinewidth\":0,\"ticks\":\"\"}},\"type\":\"scatterpolar\"}],\"scatterpolargl\":[{\"marker\":{\"colorbar\":{\"outlinewidth\":0,\"ticks\":\"\"}},\"type\":\"scatterpolargl\"}],\"scatterternary\":[{\"marker\":{\"colorbar\":{\"outlinewidth\":0,\"ticks\":\"\"}},\"type\":\"scatterternary\"}],\"surface\":[{\"colorbar\":{\"outlinewidth\":0,\"ticks\":\"\"},\"colorscale\":[[0.0,\"#0d0887\"],[0.1111111111111111,\"#46039f\"],[0.2222222222222222,\"#7201a8\"],[0.3333333333333333,\"#9c179e\"],[0.4444444444444444,\"#bd3786\"],[0.5555555555555556,\"#d8576b\"],[0.6666666666666666,\"#ed7953\"],[0.7777777777777778,\"#fb9f3a\"],[0.8888888888888888,\"#fdca26\"],[1.0,\"#f0f921\"]],\"type\":\"surface\"}],\"table\":[{\"cells\":{\"fill\":{\"color\":\"#EBF0F8\"},\"line\":{\"color\":\"white\"}},\"header\":{\"fill\":{\"color\":\"#C8D4E3\"},\"line\":{\"color\":\"white\"}},\"type\":\"table\"}]},\"layout\":{\"annotationdefaults\":{\"arrowcolor\":\"#2a3f5f\",\"arrowhead\":0,\"arrowwidth\":1},\"autotypenumbers\":\"strict\",\"coloraxis\":{\"colorbar\":{\"outlinewidth\":0,\"ticks\":\"\"}},\"colorscale\":{\"diverging\":[[0,\"#8e0152\"],[0.1,\"#c51b7d\"],[0.2,\"#de77ae\"],[0.3,\"#f1b6da\"],[0.4,\"#fde0ef\"],[0.5,\"#f7f7f7\"],[0.6,\"#e6f5d0\"],[0.7,\"#b8e186\"],[0.8,\"#7fbc41\"],[0.9,\"#4d9221\"],[1,\"#276419\"]],\"sequential\":[[0.0,\"#0d0887\"],[0.1111111111111111,\"#46039f\"],[0.2222222222222222,\"#7201a8\"],[0.3333333333333333,\"#9c179e\"],[0.4444444444444444,\"#bd3786\"],[0.5555555555555556,\"#d8576b\"],[0.6666666666666666,\"#ed7953\"],[0.7777777777777778,\"#fb9f3a\"],[0.8888888888888888,\"#fdca26\"],[1.0,\"#f0f921\"]],\"sequentialminus\":[[0.0,\"#0d0887\"],[0.1111111111111111,\"#46039f\"],[0.2222222222222222,\"#7201a8\"],[0.3333333333333333,\"#9c179e\"],[0.4444444444444444,\"#bd3786\"],[0.5555555555555556,\"#d8576b\"],[0.6666666666666666,\"#ed7953\"],[0.7777777777777778,\"#fb9f3a\"],[0.8888888888888888,\"#fdca26\"],[1.0,\"#f0f921\"]]},\"colorway\":[\"#636efa\",\"#EF553B\",\"#00cc96\",\"#ab63fa\",\"#FFA15A\",\"#19d3f3\",\"#FF6692\",\"#B6E880\",\"#FF97FF\",\"#FECB52\"],\"font\":{\"color\":\"#2a3f5f\"},\"geo\":{\"bgcolor\":\"white\",\"lakecolor\":\"white\",\"landcolor\":\"#E5ECF6\",\"showlakes\":true,\"showland\":true,\"subunitcolor\":\"white\"},\"hoverlabel\":{\"align\":\"left\"},\"hovermode\":\"closest\",\"mapbox\":{\"style\":\"light\"},\"paper_bgcolor\":\"white\",\"plot_bgcolor\":\"#E5ECF6\",\"polar\":{\"angularaxis\":{\"gridcolor\":\"white\",\"linecolor\":\"white\",\"ticks\":\"\"},\"bgcolor\":\"#E5ECF6\",\"radialaxis\":{\"gridcolor\":\"white\",\"linecolor\":\"white\",\"ticks\":\"\"}},\"scene\":{\"xaxis\":{\"backgroundcolor\":\"#E5ECF6\",\"gridcolor\":\"white\",\"gridwidth\":2,\"linecolor\":\"white\",\"showbackground\":true,\"ticks\":\"\",\"zerolinecolor\":\"white\"},\"yaxis\":{\"backgroundcolor\":\"#E5ECF6\",\"gridcolor\":\"white\",\"gridwidth\":2,\"linecolor\":\"white\",\"showbackground\":true,\"ticks\":\"\",\"zerolinecolor\":\"white\"},\"zaxis\":{\"backgroundcolor\":\"#E5ECF6\",\"gridcolor\":\"white\",\"gridwidth\":2,\"linecolor\":\"white\",\"showbackground\":true,\"ticks\":\"\",\"zerolinecolor\":\"white\"}},\"shapedefaults\":{\"line\":{\"color\":\"#2a3f5f\"}},\"ternary\":{\"aaxis\":{\"gridcolor\":\"white\",\"linecolor\":\"white\",\"ticks\":\"\"},\"baxis\":{\"gridcolor\":\"white\",\"linecolor\":\"white\",\"ticks\":\"\"},\"bgcolor\":\"#E5ECF6\",\"caxis\":{\"gridcolor\":\"white\",\"linecolor\":\"white\",\"ticks\":\"\"}},\"title\":{\"x\":0.05},\"xaxis\":{\"automargin\":true,\"gridcolor\":\"white\",\"linecolor\":\"white\",\"ticks\":\"\",\"title\":{\"standoff\":15},\"zerolinecolor\":\"white\",\"zerolinewidth\":2},\"yaxis\":{\"automargin\":true,\"gridcolor\":\"white\",\"linecolor\":\"white\",\"ticks\":\"\",\"title\":{\"standoff\":15},\"zerolinecolor\":\"white\",\"zerolinewidth\":2}}}},                        {\"responsive\": true}                    ).then(function(){\n",
              "                            \n",
              "var gd = document.getElementById('c4b3a94f-8cb2-48b2-8f84-cb14e0b16594');\n",
              "var x = new MutationObserver(function (mutations, observer) {{\n",
              "        var display = window.getComputedStyle(gd).display;\n",
              "        if (!display || display === 'none') {{\n",
              "            console.log([gd, 'removed!']);\n",
              "            Plotly.purge(gd);\n",
              "            observer.disconnect();\n",
              "        }}\n",
              "}});\n",
              "\n",
              "// Listen for the removal of the full notebook cells\n",
              "var notebookContainer = gd.closest('#notebook-container');\n",
              "if (notebookContainer) {{\n",
              "    x.observe(notebookContainer, {childList: true});\n",
              "}}\n",
              "\n",
              "// Listen for the clearing of the current output cell\n",
              "var outputEl = gd.closest('.output');\n",
              "if (outputEl) {{\n",
              "    x.observe(outputEl, {childList: true});\n",
              "}}\n",
              "\n",
              "                        })                };                            </script>        </div>\n",
              "</body>\n",
              "</html>"
            ]
          },
          "metadata": {}
        }
      ]
    },
    {
      "cell_type": "markdown",
      "source": [
        "Dessa vez, vemos que a otimização convergiu mais cedo, portanto utilizaremos o modelo da iteração 44."
      ],
      "metadata": {
        "id": "3cPuI4oQ47Bl"
      }
    },
    {
      "cell_type": "code",
      "source": [
        "print(f\"Melhor trial : \\n{study.best_trial}\")\n",
        "\n",
        "print(f\"Melhor valor do f-score : \\n{study.best_value}\")\n",
        "\n",
        "print(f\"Melhores parâmetros : \\n{study.best_params}\")"
      ],
      "metadata": {
        "colab": {
          "base_uri": "https://localhost:8080/"
        },
        "id": "yRpUo_E35DKA",
        "outputId": "915d262e-06d2-4552-97cb-623da9fddf26"
      },
      "execution_count": 115,
      "outputs": [
        {
          "output_type": "stream",
          "name": "stdout",
          "text": [
            "Melhor trial : \n",
            "FrozenTrial(number=43, values=[0.8471589451898791], datetime_start=datetime.datetime(2022, 9, 2, 15, 24, 18, 181749), datetime_complete=datetime.datetime(2022, 9, 2, 15, 24, 40, 419569), params={'classifier': 'XGB', 'xgb_n_estimators': 825, 'xgb_learning_rate': 0.05466132863394454, 'xgb_max_depth': 15}, distributions={'classifier': CategoricalDistribution(choices=('XGB',)), 'xgb_n_estimators': IntDistribution(high=1250, log=False, low=750, step=1), 'xgb_learning_rate': FloatDistribution(high=0.1, log=True, low=0.001, step=None), 'xgb_max_depth': IntDistribution(high=32, log=False, low=15, step=1)}, user_attrs={}, system_attrs={}, intermediate_values={}, trial_id=43, state=TrialState.COMPLETE, value=None)\n",
            "Melhor valor do f-score : \n",
            "0.8471589451898791\n",
            "Melhores parâmetros : \n",
            "{'classifier': 'XGB', 'xgb_n_estimators': 825, 'xgb_learning_rate': 0.05466132863394454, 'xgb_max_depth': 15}\n"
          ]
        }
      ]
    },
    {
      "cell_type": "code",
      "source": [
        "best_xgb = XGBClassifier(\n",
        "      random_state=RANDOM_STATE, \n",
        "      n_estimators=study.best_params['xgb_n_estimators'], \n",
        "      learning_rate=study.best_params['xgb_learning_rate'], \n",
        "      max_depth=study.best_params['xgb_max_depth']\n",
        ")\n",
        "best_xgb.fit(X_train, y_train)"
      ],
      "metadata": {
        "colab": {
          "base_uri": "https://localhost:8080/"
        },
        "id": "WpdPwtzb5eKB",
        "outputId": "45217475-b292-415a-f3a1-f8c6572a5193"
      },
      "execution_count": 116,
      "outputs": [
        {
          "output_type": "execute_result",
          "data": {
            "text/plain": [
              "XGBClassifier(learning_rate=0.05466132863394454, max_depth=15, n_estimators=825,\n",
              "              random_state=42)"
            ]
          },
          "metadata": {},
          "execution_count": 116
        }
      ]
    },
    {
      "cell_type": "code",
      "source": [
        "y_pred = best_xgb.predict(X_val)\n",
        "y_proba = best_xgb.predict_proba(X_val)\n",
        "eval_metrics(y_val, y_pred, y_proba)"
      ],
      "metadata": {
        "colab": {
          "base_uri": "https://localhost:8080/"
        },
        "id": "bUjxOwN7_h6G",
        "outputId": "fb0c9658-8778-4f4c-da28-e9159d1c8946"
      },
      "execution_count": 123,
      "outputs": [
        {
          "output_type": "execute_result",
          "data": {
            "text/plain": [
              "(0.8670721112076455, 0.8875522095601506, 0.8471589451898791)"
            ]
          },
          "metadata": {},
          "execution_count": 123
        }
      ]
    },
    {
      "cell_type": "markdown",
      "source": [
        "### Optuna Study MLP"
      ],
      "metadata": {
        "id": "KsQNQLst6Ljx"
      }
    },
    {
      "cell_type": "code",
      "source": [
        "# Passo 1. Definindo função de objetivo a ser maximizada\n",
        "def objective_mlp(trial):\n",
        "  classifier = trial.suggest_categorical(\"classifier\", [\"MLP\"])\n",
        "  \n",
        "  # Passo 2. Definindo conjunto de hiperparâmetros\n",
        "  mlp_hidden_layer_sizes = trial.suggest_categorical(\"mlp_hidden_layer_sizes\", [(50,), (100,), (50,50)])\n",
        "  mlp_activation = trial.suggest_categorical(\"mlp_activation\", ['logistic', 'tanh', 'relu'])\n",
        "  mlp_solver = trial.suggest_categorical(\"mlp_solver\", ['adam', 'sgd'])\n",
        "  clf = MLPClassifier(\n",
        "      random_state=RANDOM_STATE, \n",
        "      max_iter=EPOCHS,\n",
        "      hidden_layer_sizes=mlp_hidden_layer_sizes, \n",
        "      activation=mlp_activation, \n",
        "      solver=mlp_solver\n",
        "  )\n",
        "  \n",
        "  # Treinando o modelo\n",
        "  clf.fit(X_train, y_train)\n",
        "\n",
        "  # Usando conjunto de validação para obter métricas\n",
        "  y_pred = clf.predict(X_val)\n",
        "  y_proba = clf.predict_proba(X_val)\n",
        "\n",
        "  # Passo 3: Métrica otimizada\n",
        "  acc, auroc, f1 = eval_metrics(y_val, y_pred, y_proba)\n",
        "  return f1"
      ],
      "metadata": {
        "id": "ec5r1cC46Ljy"
      },
      "execution_count": 117,
      "outputs": []
    },
    {
      "cell_type": "code",
      "source": [
        "# Passo 4: Rodar o estudo\n",
        "study_mlp = optuna.create_study(direction=\"maximize\")\n",
        "study_mlp.optimize(objective_mlp, n_trials=100)"
      ],
      "metadata": {
        "colab": {
          "base_uri": "https://localhost:8080/"
        },
        "outputId": "48a2f035-19da-4449-d104-32f68ef9da66",
        "id": "cj1Ir5916Ljy"
      },
      "execution_count": 118,
      "outputs": [
        {
          "output_type": "stream",
          "name": "stderr",
          "text": [
            "\u001b[32m[I 2022-09-02 15:55:43,292]\u001b[0m A new study created in memory with name: no-name-f7668a24-504e-4014-b600-49c9e1033d40\u001b[0m\n",
            "/usr/local/lib/python3.7/dist-packages/optuna/distributions.py:502: UserWarning:\n",
            "\n",
            "Choices for a categorical distribution should be a tuple of None, bool, int, float and str for persistent storage but contains (50,) which is of type tuple.\n",
            "\n",
            "/usr/local/lib/python3.7/dist-packages/optuna/distributions.py:502: UserWarning:\n",
            "\n",
            "Choices for a categorical distribution should be a tuple of None, bool, int, float and str for persistent storage but contains (100,) which is of type tuple.\n",
            "\n",
            "/usr/local/lib/python3.7/dist-packages/optuna/distributions.py:502: UserWarning:\n",
            "\n",
            "Choices for a categorical distribution should be a tuple of None, bool, int, float and str for persistent storage but contains (50, 50) which is of type tuple.\n",
            "\n",
            "\u001b[32m[I 2022-09-02 15:55:50,422]\u001b[0m Trial 0 finished with value: 0.7414321194381616 and parameters: {'classifier': 'MLP', 'mlp_hidden_layer_sizes': (100,), 'mlp_activation': 'tanh', 'mlp_solver': 'adam'}. Best is trial 0 with value: 0.7414321194381616.\u001b[0m\n",
            "/usr/local/lib/python3.7/dist-packages/optuna/distributions.py:502: UserWarning:\n",
            "\n",
            "Choices for a categorical distribution should be a tuple of None, bool, int, float and str for persistent storage but contains (50,) which is of type tuple.\n",
            "\n",
            "/usr/local/lib/python3.7/dist-packages/optuna/distributions.py:502: UserWarning:\n",
            "\n",
            "Choices for a categorical distribution should be a tuple of None, bool, int, float and str for persistent storage but contains (100,) which is of type tuple.\n",
            "\n",
            "/usr/local/lib/python3.7/dist-packages/optuna/distributions.py:502: UserWarning:\n",
            "\n",
            "Choices for a categorical distribution should be a tuple of None, bool, int, float and str for persistent storage but contains (50, 50) which is of type tuple.\n",
            "\n",
            "\u001b[32m[I 2022-09-02 15:55:57,448]\u001b[0m Trial 1 finished with value: 0.7414321194381616 and parameters: {'classifier': 'MLP', 'mlp_hidden_layer_sizes': (100,), 'mlp_activation': 'tanh', 'mlp_solver': 'adam'}. Best is trial 0 with value: 0.7414321194381616.\u001b[0m\n",
            "/usr/local/lib/python3.7/dist-packages/optuna/distributions.py:502: UserWarning:\n",
            "\n",
            "Choices for a categorical distribution should be a tuple of None, bool, int, float and str for persistent storage but contains (50,) which is of type tuple.\n",
            "\n",
            "/usr/local/lib/python3.7/dist-packages/optuna/distributions.py:502: UserWarning:\n",
            "\n",
            "Choices for a categorical distribution should be a tuple of None, bool, int, float and str for persistent storage but contains (100,) which is of type tuple.\n",
            "\n",
            "/usr/local/lib/python3.7/dist-packages/optuna/distributions.py:502: UserWarning:\n",
            "\n",
            "Choices for a categorical distribution should be a tuple of None, bool, int, float and str for persistent storage but contains (50, 50) which is of type tuple.\n",
            "\n",
            "\u001b[32m[I 2022-09-02 15:56:00,487]\u001b[0m Trial 2 finished with value: 0.7415467133346342 and parameters: {'classifier': 'MLP', 'mlp_hidden_layer_sizes': (100,), 'mlp_activation': 'tanh', 'mlp_solver': 'sgd'}. Best is trial 2 with value: 0.7415467133346342.\u001b[0m\n",
            "/usr/local/lib/python3.7/dist-packages/optuna/distributions.py:502: UserWarning:\n",
            "\n",
            "Choices for a categorical distribution should be a tuple of None, bool, int, float and str for persistent storage but contains (50,) which is of type tuple.\n",
            "\n",
            "/usr/local/lib/python3.7/dist-packages/optuna/distributions.py:502: UserWarning:\n",
            "\n",
            "Choices for a categorical distribution should be a tuple of None, bool, int, float and str for persistent storage but contains (100,) which is of type tuple.\n",
            "\n",
            "/usr/local/lib/python3.7/dist-packages/optuna/distributions.py:502: UserWarning:\n",
            "\n",
            "Choices for a categorical distribution should be a tuple of None, bool, int, float and str for persistent storage but contains (50, 50) which is of type tuple.\n",
            "\n",
            "\u001b[32m[I 2022-09-02 15:56:03,534]\u001b[0m Trial 3 finished with value: 0.7532334067647636 and parameters: {'classifier': 'MLP', 'mlp_hidden_layer_sizes': (50, 50), 'mlp_activation': 'relu', 'mlp_solver': 'adam'}. Best is trial 3 with value: 0.7532334067647636.\u001b[0m\n",
            "/usr/local/lib/python3.7/dist-packages/optuna/distributions.py:502: UserWarning:\n",
            "\n",
            "Choices for a categorical distribution should be a tuple of None, bool, int, float and str for persistent storage but contains (50,) which is of type tuple.\n",
            "\n",
            "/usr/local/lib/python3.7/dist-packages/optuna/distributions.py:502: UserWarning:\n",
            "\n",
            "Choices for a categorical distribution should be a tuple of None, bool, int, float and str for persistent storage but contains (100,) which is of type tuple.\n",
            "\n",
            "/usr/local/lib/python3.7/dist-packages/optuna/distributions.py:502: UserWarning:\n",
            "\n",
            "Choices for a categorical distribution should be a tuple of None, bool, int, float and str for persistent storage but contains (50, 50) which is of type tuple.\n",
            "\n",
            "\u001b[32m[I 2022-09-02 15:56:05,327]\u001b[0m Trial 4 finished with value: 0.7415467133346342 and parameters: {'classifier': 'MLP', 'mlp_hidden_layer_sizes': (100,), 'mlp_activation': 'logistic', 'mlp_solver': 'sgd'}. Best is trial 3 with value: 0.7532334067647636.\u001b[0m\n",
            "/usr/local/lib/python3.7/dist-packages/optuna/distributions.py:502: UserWarning:\n",
            "\n",
            "Choices for a categorical distribution should be a tuple of None, bool, int, float and str for persistent storage but contains (50,) which is of type tuple.\n",
            "\n",
            "/usr/local/lib/python3.7/dist-packages/optuna/distributions.py:502: UserWarning:\n",
            "\n",
            "Choices for a categorical distribution should be a tuple of None, bool, int, float and str for persistent storage but contains (100,) which is of type tuple.\n",
            "\n",
            "/usr/local/lib/python3.7/dist-packages/optuna/distributions.py:502: UserWarning:\n",
            "\n",
            "Choices for a categorical distribution should be a tuple of None, bool, int, float and str for persistent storage but contains (50, 50) which is of type tuple.\n",
            "\n",
            "\u001b[32m[I 2022-09-02 15:56:16,846]\u001b[0m Trial 5 finished with value: 0.7414321194381616 and parameters: {'classifier': 'MLP', 'mlp_hidden_layer_sizes': (100,), 'mlp_activation': 'tanh', 'mlp_solver': 'adam'}. Best is trial 3 with value: 0.7532334067647636.\u001b[0m\n",
            "/usr/local/lib/python3.7/dist-packages/optuna/distributions.py:502: UserWarning:\n",
            "\n",
            "Choices for a categorical distribution should be a tuple of None, bool, int, float and str for persistent storage but contains (50,) which is of type tuple.\n",
            "\n",
            "/usr/local/lib/python3.7/dist-packages/optuna/distributions.py:502: UserWarning:\n",
            "\n",
            "Choices for a categorical distribution should be a tuple of None, bool, int, float and str for persistent storage but contains (100,) which is of type tuple.\n",
            "\n",
            "/usr/local/lib/python3.7/dist-packages/optuna/distributions.py:502: UserWarning:\n",
            "\n",
            "Choices for a categorical distribution should be a tuple of None, bool, int, float and str for persistent storage but contains (50, 50) which is of type tuple.\n",
            "\n",
            "\u001b[32m[I 2022-09-02 15:56:34,195]\u001b[0m Trial 6 finished with value: 0.7414321194381616 and parameters: {'classifier': 'MLP', 'mlp_hidden_layer_sizes': (100,), 'mlp_activation': 'tanh', 'mlp_solver': 'adam'}. Best is trial 3 with value: 0.7532334067647636.\u001b[0m\n",
            "/usr/local/lib/python3.7/dist-packages/optuna/distributions.py:502: UserWarning:\n",
            "\n",
            "Choices for a categorical distribution should be a tuple of None, bool, int, float and str for persistent storage but contains (50,) which is of type tuple.\n",
            "\n",
            "/usr/local/lib/python3.7/dist-packages/optuna/distributions.py:502: UserWarning:\n",
            "\n",
            "Choices for a categorical distribution should be a tuple of None, bool, int, float and str for persistent storage but contains (100,) which is of type tuple.\n",
            "\n",
            "/usr/local/lib/python3.7/dist-packages/optuna/distributions.py:502: UserWarning:\n",
            "\n",
            "Choices for a categorical distribution should be a tuple of None, bool, int, float and str for persistent storage but contains (50, 50) which is of type tuple.\n",
            "\n",
            "\u001b[32m[I 2022-09-02 15:56:43,815]\u001b[0m Trial 7 finished with value: 0.7588588818503835 and parameters: {'classifier': 'MLP', 'mlp_hidden_layer_sizes': (50,), 'mlp_activation': 'tanh', 'mlp_solver': 'adam'}. Best is trial 7 with value: 0.7588588818503835.\u001b[0m\n",
            "/usr/local/lib/python3.7/dist-packages/optuna/distributions.py:502: UserWarning:\n",
            "\n",
            "Choices for a categorical distribution should be a tuple of None, bool, int, float and str for persistent storage but contains (50,) which is of type tuple.\n",
            "\n",
            "/usr/local/lib/python3.7/dist-packages/optuna/distributions.py:502: UserWarning:\n",
            "\n",
            "Choices for a categorical distribution should be a tuple of None, bool, int, float and str for persistent storage but contains (100,) which is of type tuple.\n",
            "\n",
            "/usr/local/lib/python3.7/dist-packages/optuna/distributions.py:502: UserWarning:\n",
            "\n",
            "Choices for a categorical distribution should be a tuple of None, bool, int, float and str for persistent storage but contains (50, 50) which is of type tuple.\n",
            "\n",
            "\u001b[32m[I 2022-09-02 15:56:45,547]\u001b[0m Trial 8 finished with value: 0.7415467133346342 and parameters: {'classifier': 'MLP', 'mlp_hidden_layer_sizes': (50,), 'mlp_activation': 'tanh', 'mlp_solver': 'sgd'}. Best is trial 7 with value: 0.7588588818503835.\u001b[0m\n",
            "/usr/local/lib/python3.7/dist-packages/optuna/distributions.py:502: UserWarning:\n",
            "\n",
            "Choices for a categorical distribution should be a tuple of None, bool, int, float and str for persistent storage but contains (50,) which is of type tuple.\n",
            "\n",
            "/usr/local/lib/python3.7/dist-packages/optuna/distributions.py:502: UserWarning:\n",
            "\n",
            "Choices for a categorical distribution should be a tuple of None, bool, int, float and str for persistent storage but contains (100,) which is of type tuple.\n",
            "\n",
            "/usr/local/lib/python3.7/dist-packages/optuna/distributions.py:502: UserWarning:\n",
            "\n",
            "Choices for a categorical distribution should be a tuple of None, bool, int, float and str for persistent storage but contains (50, 50) which is of type tuple.\n",
            "\n",
            "\u001b[32m[I 2022-09-02 15:56:46,920]\u001b[0m Trial 9 finished with value: 0.7415467133346342 and parameters: {'classifier': 'MLP', 'mlp_hidden_layer_sizes': (50, 50), 'mlp_activation': 'logistic', 'mlp_solver': 'sgd'}. Best is trial 7 with value: 0.7588588818503835.\u001b[0m\n",
            "/usr/local/lib/python3.7/dist-packages/optuna/distributions.py:502: UserWarning:\n",
            "\n",
            "Choices for a categorical distribution should be a tuple of None, bool, int, float and str for persistent storage but contains (50,) which is of type tuple.\n",
            "\n",
            "/usr/local/lib/python3.7/dist-packages/optuna/distributions.py:502: UserWarning:\n",
            "\n",
            "Choices for a categorical distribution should be a tuple of None, bool, int, float and str for persistent storage but contains (100,) which is of type tuple.\n",
            "\n",
            "/usr/local/lib/python3.7/dist-packages/optuna/distributions.py:502: UserWarning:\n",
            "\n",
            "Choices for a categorical distribution should be a tuple of None, bool, int, float and str for persistent storage but contains (50, 50) which is of type tuple.\n",
            "\n",
            "\u001b[32m[I 2022-09-02 15:56:48,433]\u001b[0m Trial 10 finished with value: 0.7469401641672903 and parameters: {'classifier': 'MLP', 'mlp_hidden_layer_sizes': (50,), 'mlp_activation': 'relu', 'mlp_solver': 'adam'}. Best is trial 7 with value: 0.7588588818503835.\u001b[0m\n",
            "/usr/local/lib/python3.7/dist-packages/optuna/distributions.py:502: UserWarning:\n",
            "\n",
            "Choices for a categorical distribution should be a tuple of None, bool, int, float and str for persistent storage but contains (50,) which is of type tuple.\n",
            "\n",
            "/usr/local/lib/python3.7/dist-packages/optuna/distributions.py:502: UserWarning:\n",
            "\n",
            "Choices for a categorical distribution should be a tuple of None, bool, int, float and str for persistent storage but contains (100,) which is of type tuple.\n",
            "\n",
            "/usr/local/lib/python3.7/dist-packages/optuna/distributions.py:502: UserWarning:\n",
            "\n",
            "Choices for a categorical distribution should be a tuple of None, bool, int, float and str for persistent storage but contains (50, 50) which is of type tuple.\n",
            "\n",
            "\u001b[32m[I 2022-09-02 15:56:51,453]\u001b[0m Trial 11 finished with value: 0.7532334067647636 and parameters: {'classifier': 'MLP', 'mlp_hidden_layer_sizes': (50, 50), 'mlp_activation': 'relu', 'mlp_solver': 'adam'}. Best is trial 7 with value: 0.7588588818503835.\u001b[0m\n",
            "/usr/local/lib/python3.7/dist-packages/optuna/distributions.py:502: UserWarning:\n",
            "\n",
            "Choices for a categorical distribution should be a tuple of None, bool, int, float and str for persistent storage but contains (50,) which is of type tuple.\n",
            "\n",
            "/usr/local/lib/python3.7/dist-packages/optuna/distributions.py:502: UserWarning:\n",
            "\n",
            "Choices for a categorical distribution should be a tuple of None, bool, int, float and str for persistent storage but contains (100,) which is of type tuple.\n",
            "\n",
            "/usr/local/lib/python3.7/dist-packages/optuna/distributions.py:502: UserWarning:\n",
            "\n",
            "Choices for a categorical distribution should be a tuple of None, bool, int, float and str for persistent storage but contains (50, 50) which is of type tuple.\n",
            "\n",
            "\u001b[32m[I 2022-09-02 15:56:52,983]\u001b[0m Trial 12 finished with value: 0.7469401641672903 and parameters: {'classifier': 'MLP', 'mlp_hidden_layer_sizes': (50,), 'mlp_activation': 'relu', 'mlp_solver': 'adam'}. Best is trial 7 with value: 0.7588588818503835.\u001b[0m\n",
            "/usr/local/lib/python3.7/dist-packages/optuna/distributions.py:502: UserWarning:\n",
            "\n",
            "Choices for a categorical distribution should be a tuple of None, bool, int, float and str for persistent storage but contains (50,) which is of type tuple.\n",
            "\n",
            "/usr/local/lib/python3.7/dist-packages/optuna/distributions.py:502: UserWarning:\n",
            "\n",
            "Choices for a categorical distribution should be a tuple of None, bool, int, float and str for persistent storage but contains (100,) which is of type tuple.\n",
            "\n",
            "/usr/local/lib/python3.7/dist-packages/optuna/distributions.py:502: UserWarning:\n",
            "\n",
            "Choices for a categorical distribution should be a tuple of None, bool, int, float and str for persistent storage but contains (50, 50) which is of type tuple.\n",
            "\n",
            "\u001b[32m[I 2022-09-02 15:56:55,912]\u001b[0m Trial 13 finished with value: 0.7532334067647636 and parameters: {'classifier': 'MLP', 'mlp_hidden_layer_sizes': (50, 50), 'mlp_activation': 'relu', 'mlp_solver': 'adam'}. Best is trial 7 with value: 0.7588588818503835.\u001b[0m\n",
            "/usr/local/lib/python3.7/dist-packages/optuna/distributions.py:502: UserWarning:\n",
            "\n",
            "Choices for a categorical distribution should be a tuple of None, bool, int, float and str for persistent storage but contains (50,) which is of type tuple.\n",
            "\n",
            "/usr/local/lib/python3.7/dist-packages/optuna/distributions.py:502: UserWarning:\n",
            "\n",
            "Choices for a categorical distribution should be a tuple of None, bool, int, float and str for persistent storage but contains (100,) which is of type tuple.\n",
            "\n",
            "/usr/local/lib/python3.7/dist-packages/optuna/distributions.py:502: UserWarning:\n",
            "\n",
            "Choices for a categorical distribution should be a tuple of None, bool, int, float and str for persistent storage but contains (50, 50) which is of type tuple.\n",
            "\n",
            "\u001b[32m[I 2022-09-02 15:56:58,931]\u001b[0m Trial 14 finished with value: 0.7532334067647636 and parameters: {'classifier': 'MLP', 'mlp_hidden_layer_sizes': (50, 50), 'mlp_activation': 'relu', 'mlp_solver': 'adam'}. Best is trial 7 with value: 0.7588588818503835.\u001b[0m\n",
            "/usr/local/lib/python3.7/dist-packages/optuna/distributions.py:502: UserWarning:\n",
            "\n",
            "Choices for a categorical distribution should be a tuple of None, bool, int, float and str for persistent storage but contains (50,) which is of type tuple.\n",
            "\n",
            "/usr/local/lib/python3.7/dist-packages/optuna/distributions.py:502: UserWarning:\n",
            "\n",
            "Choices for a categorical distribution should be a tuple of None, bool, int, float and str for persistent storage but contains (100,) which is of type tuple.\n",
            "\n",
            "/usr/local/lib/python3.7/dist-packages/optuna/distributions.py:502: UserWarning:\n",
            "\n",
            "Choices for a categorical distribution should be a tuple of None, bool, int, float and str for persistent storage but contains (50, 50) which is of type tuple.\n",
            "\n",
            "\u001b[32m[I 2022-09-02 15:57:09,450]\u001b[0m Trial 15 finished with value: 0.7519070984357403 and parameters: {'classifier': 'MLP', 'mlp_hidden_layer_sizes': (50,), 'mlp_activation': 'logistic', 'mlp_solver': 'adam'}. Best is trial 7 with value: 0.7588588818503835.\u001b[0m\n",
            "/usr/local/lib/python3.7/dist-packages/optuna/distributions.py:502: UserWarning:\n",
            "\n",
            "Choices for a categorical distribution should be a tuple of None, bool, int, float and str for persistent storage but contains (50,) which is of type tuple.\n",
            "\n",
            "/usr/local/lib/python3.7/dist-packages/optuna/distributions.py:502: UserWarning:\n",
            "\n",
            "Choices for a categorical distribution should be a tuple of None, bool, int, float and str for persistent storage but contains (100,) which is of type tuple.\n",
            "\n",
            "/usr/local/lib/python3.7/dist-packages/optuna/distributions.py:502: UserWarning:\n",
            "\n",
            "Choices for a categorical distribution should be a tuple of None, bool, int, float and str for persistent storage but contains (50, 50) which is of type tuple.\n",
            "\n",
            "\u001b[32m[I 2022-09-02 15:57:12,417]\u001b[0m Trial 16 finished with value: 0.7532334067647636 and parameters: {'classifier': 'MLP', 'mlp_hidden_layer_sizes': (50, 50), 'mlp_activation': 'relu', 'mlp_solver': 'adam'}. Best is trial 7 with value: 0.7588588818503835.\u001b[0m\n",
            "/usr/local/lib/python3.7/dist-packages/optuna/distributions.py:502: UserWarning:\n",
            "\n",
            "Choices for a categorical distribution should be a tuple of None, bool, int, float and str for persistent storage but contains (50,) which is of type tuple.\n",
            "\n",
            "/usr/local/lib/python3.7/dist-packages/optuna/distributions.py:502: UserWarning:\n",
            "\n",
            "Choices for a categorical distribution should be a tuple of None, bool, int, float and str for persistent storage but contains (100,) which is of type tuple.\n",
            "\n",
            "/usr/local/lib/python3.7/dist-packages/optuna/distributions.py:502: UserWarning:\n",
            "\n",
            "Choices for a categorical distribution should be a tuple of None, bool, int, float and str for persistent storage but contains (50, 50) which is of type tuple.\n",
            "\n",
            "\u001b[32m[I 2022-09-02 15:57:13,975]\u001b[0m Trial 17 finished with value: 0.7469401641672903 and parameters: {'classifier': 'MLP', 'mlp_hidden_layer_sizes': (50,), 'mlp_activation': 'relu', 'mlp_solver': 'adam'}. Best is trial 7 with value: 0.7588588818503835.\u001b[0m\n",
            "/usr/local/lib/python3.7/dist-packages/optuna/distributions.py:502: UserWarning:\n",
            "\n",
            "Choices for a categorical distribution should be a tuple of None, bool, int, float and str for persistent storage but contains (50,) which is of type tuple.\n",
            "\n",
            "/usr/local/lib/python3.7/dist-packages/optuna/distributions.py:502: UserWarning:\n",
            "\n",
            "Choices for a categorical distribution should be a tuple of None, bool, int, float and str for persistent storage but contains (100,) which is of type tuple.\n",
            "\n",
            "/usr/local/lib/python3.7/dist-packages/optuna/distributions.py:502: UserWarning:\n",
            "\n",
            "Choices for a categorical distribution should be a tuple of None, bool, int, float and str for persistent storage but contains (50, 50) which is of type tuple.\n",
            "\n",
            "\u001b[32m[I 2022-09-02 15:57:15,668]\u001b[0m Trial 18 finished with value: 0.7415467133346342 and parameters: {'classifier': 'MLP', 'mlp_hidden_layer_sizes': (50,), 'mlp_activation': 'tanh', 'mlp_solver': 'sgd'}. Best is trial 7 with value: 0.7588588818503835.\u001b[0m\n",
            "/usr/local/lib/python3.7/dist-packages/optuna/distributions.py:502: UserWarning:\n",
            "\n",
            "Choices for a categorical distribution should be a tuple of None, bool, int, float and str for persistent storage but contains (50,) which is of type tuple.\n",
            "\n",
            "/usr/local/lib/python3.7/dist-packages/optuna/distributions.py:502: UserWarning:\n",
            "\n",
            "Choices for a categorical distribution should be a tuple of None, bool, int, float and str for persistent storage but contains (100,) which is of type tuple.\n",
            "\n",
            "/usr/local/lib/python3.7/dist-packages/optuna/distributions.py:502: UserWarning:\n",
            "\n",
            "Choices for a categorical distribution should be a tuple of None, bool, int, float and str for persistent storage but contains (50, 50) which is of type tuple.\n",
            "\n",
            "\u001b[32m[I 2022-09-02 15:57:29,383]\u001b[0m Trial 19 finished with value: 0.7711609688544775 and parameters: {'classifier': 'MLP', 'mlp_hidden_layer_sizes': (50, 50), 'mlp_activation': 'logistic', 'mlp_solver': 'adam'}. Best is trial 19 with value: 0.7711609688544775.\u001b[0m\n",
            "/usr/local/lib/python3.7/dist-packages/optuna/distributions.py:502: UserWarning:\n",
            "\n",
            "Choices for a categorical distribution should be a tuple of None, bool, int, float and str for persistent storage but contains (50,) which is of type tuple.\n",
            "\n",
            "/usr/local/lib/python3.7/dist-packages/optuna/distributions.py:502: UserWarning:\n",
            "\n",
            "Choices for a categorical distribution should be a tuple of None, bool, int, float and str for persistent storage but contains (100,) which is of type tuple.\n",
            "\n",
            "/usr/local/lib/python3.7/dist-packages/optuna/distributions.py:502: UserWarning:\n",
            "\n",
            "Choices for a categorical distribution should be a tuple of None, bool, int, float and str for persistent storage but contains (50, 50) which is of type tuple.\n",
            "\n",
            "\u001b[32m[I 2022-09-02 15:57:41,668]\u001b[0m Trial 20 finished with value: 0.7711609688544775 and parameters: {'classifier': 'MLP', 'mlp_hidden_layer_sizes': (50, 50), 'mlp_activation': 'logistic', 'mlp_solver': 'adam'}. Best is trial 19 with value: 0.7711609688544775.\u001b[0m\n",
            "/usr/local/lib/python3.7/dist-packages/optuna/distributions.py:502: UserWarning:\n",
            "\n",
            "Choices for a categorical distribution should be a tuple of None, bool, int, float and str for persistent storage but contains (50,) which is of type tuple.\n",
            "\n",
            "/usr/local/lib/python3.7/dist-packages/optuna/distributions.py:502: UserWarning:\n",
            "\n",
            "Choices for a categorical distribution should be a tuple of None, bool, int, float and str for persistent storage but contains (100,) which is of type tuple.\n",
            "\n",
            "/usr/local/lib/python3.7/dist-packages/optuna/distributions.py:502: UserWarning:\n",
            "\n",
            "Choices for a categorical distribution should be a tuple of None, bool, int, float and str for persistent storage but contains (50, 50) which is of type tuple.\n",
            "\n",
            "\u001b[32m[I 2022-09-02 15:57:56,662]\u001b[0m Trial 21 finished with value: 0.7711609688544775 and parameters: {'classifier': 'MLP', 'mlp_hidden_layer_sizes': (50, 50), 'mlp_activation': 'logistic', 'mlp_solver': 'adam'}. Best is trial 19 with value: 0.7711609688544775.\u001b[0m\n",
            "/usr/local/lib/python3.7/dist-packages/optuna/distributions.py:502: UserWarning:\n",
            "\n",
            "Choices for a categorical distribution should be a tuple of None, bool, int, float and str for persistent storage but contains (50,) which is of type tuple.\n",
            "\n",
            "/usr/local/lib/python3.7/dist-packages/optuna/distributions.py:502: UserWarning:\n",
            "\n",
            "Choices for a categorical distribution should be a tuple of None, bool, int, float and str for persistent storage but contains (100,) which is of type tuple.\n",
            "\n",
            "/usr/local/lib/python3.7/dist-packages/optuna/distributions.py:502: UserWarning:\n",
            "\n",
            "Choices for a categorical distribution should be a tuple of None, bool, int, float and str for persistent storage but contains (50, 50) which is of type tuple.\n",
            "\n",
            "\u001b[32m[I 2022-09-02 15:58:09,033]\u001b[0m Trial 22 finished with value: 0.7711609688544775 and parameters: {'classifier': 'MLP', 'mlp_hidden_layer_sizes': (50, 50), 'mlp_activation': 'logistic', 'mlp_solver': 'adam'}. Best is trial 19 with value: 0.7711609688544775.\u001b[0m\n",
            "/usr/local/lib/python3.7/dist-packages/optuna/distributions.py:502: UserWarning:\n",
            "\n",
            "Choices for a categorical distribution should be a tuple of None, bool, int, float and str for persistent storage but contains (50,) which is of type tuple.\n",
            "\n",
            "/usr/local/lib/python3.7/dist-packages/optuna/distributions.py:502: UserWarning:\n",
            "\n",
            "Choices for a categorical distribution should be a tuple of None, bool, int, float and str for persistent storage but contains (100,) which is of type tuple.\n",
            "\n",
            "/usr/local/lib/python3.7/dist-packages/optuna/distributions.py:502: UserWarning:\n",
            "\n",
            "Choices for a categorical distribution should be a tuple of None, bool, int, float and str for persistent storage but contains (50, 50) which is of type tuple.\n",
            "\n",
            "\u001b[32m[I 2022-09-02 15:58:21,260]\u001b[0m Trial 23 finished with value: 0.7711609688544775 and parameters: {'classifier': 'MLP', 'mlp_hidden_layer_sizes': (50, 50), 'mlp_activation': 'logistic', 'mlp_solver': 'adam'}. Best is trial 19 with value: 0.7711609688544775.\u001b[0m\n",
            "/usr/local/lib/python3.7/dist-packages/optuna/distributions.py:502: UserWarning:\n",
            "\n",
            "Choices for a categorical distribution should be a tuple of None, bool, int, float and str for persistent storage but contains (50,) which is of type tuple.\n",
            "\n",
            "/usr/local/lib/python3.7/dist-packages/optuna/distributions.py:502: UserWarning:\n",
            "\n",
            "Choices for a categorical distribution should be a tuple of None, bool, int, float and str for persistent storage but contains (100,) which is of type tuple.\n",
            "\n",
            "/usr/local/lib/python3.7/dist-packages/optuna/distributions.py:502: UserWarning:\n",
            "\n",
            "Choices for a categorical distribution should be a tuple of None, bool, int, float and str for persistent storage but contains (50, 50) which is of type tuple.\n",
            "\n",
            "\u001b[32m[I 2022-09-02 15:58:33,420]\u001b[0m Trial 24 finished with value: 0.7711609688544775 and parameters: {'classifier': 'MLP', 'mlp_hidden_layer_sizes': (50, 50), 'mlp_activation': 'logistic', 'mlp_solver': 'adam'}. Best is trial 19 with value: 0.7711609688544775.\u001b[0m\n",
            "/usr/local/lib/python3.7/dist-packages/optuna/distributions.py:502: UserWarning:\n",
            "\n",
            "Choices for a categorical distribution should be a tuple of None, bool, int, float and str for persistent storage but contains (50,) which is of type tuple.\n",
            "\n",
            "/usr/local/lib/python3.7/dist-packages/optuna/distributions.py:502: UserWarning:\n",
            "\n",
            "Choices for a categorical distribution should be a tuple of None, bool, int, float and str for persistent storage but contains (100,) which is of type tuple.\n",
            "\n",
            "/usr/local/lib/python3.7/dist-packages/optuna/distributions.py:502: UserWarning:\n",
            "\n",
            "Choices for a categorical distribution should be a tuple of None, bool, int, float and str for persistent storage but contains (50, 50) which is of type tuple.\n",
            "\n",
            "\u001b[32m[I 2022-09-02 15:58:45,553]\u001b[0m Trial 25 finished with value: 0.7711609688544775 and parameters: {'classifier': 'MLP', 'mlp_hidden_layer_sizes': (50, 50), 'mlp_activation': 'logistic', 'mlp_solver': 'adam'}. Best is trial 19 with value: 0.7711609688544775.\u001b[0m\n",
            "/usr/local/lib/python3.7/dist-packages/optuna/distributions.py:502: UserWarning:\n",
            "\n",
            "Choices for a categorical distribution should be a tuple of None, bool, int, float and str for persistent storage but contains (50,) which is of type tuple.\n",
            "\n",
            "/usr/local/lib/python3.7/dist-packages/optuna/distributions.py:502: UserWarning:\n",
            "\n",
            "Choices for a categorical distribution should be a tuple of None, bool, int, float and str for persistent storage but contains (100,) which is of type tuple.\n",
            "\n",
            "/usr/local/lib/python3.7/dist-packages/optuna/distributions.py:502: UserWarning:\n",
            "\n",
            "Choices for a categorical distribution should be a tuple of None, bool, int, float and str for persistent storage but contains (50, 50) which is of type tuple.\n",
            "\n",
            "\u001b[32m[I 2022-09-02 15:58:46,901]\u001b[0m Trial 26 finished with value: 0.7415467133346342 and parameters: {'classifier': 'MLP', 'mlp_hidden_layer_sizes': (50, 50), 'mlp_activation': 'logistic', 'mlp_solver': 'sgd'}. Best is trial 19 with value: 0.7711609688544775.\u001b[0m\n",
            "/usr/local/lib/python3.7/dist-packages/optuna/distributions.py:502: UserWarning:\n",
            "\n",
            "Choices for a categorical distribution should be a tuple of None, bool, int, float and str for persistent storage but contains (50,) which is of type tuple.\n",
            "\n",
            "/usr/local/lib/python3.7/dist-packages/optuna/distributions.py:502: UserWarning:\n",
            "\n",
            "Choices for a categorical distribution should be a tuple of None, bool, int, float and str for persistent storage but contains (100,) which is of type tuple.\n",
            "\n",
            "/usr/local/lib/python3.7/dist-packages/optuna/distributions.py:502: UserWarning:\n",
            "\n",
            "Choices for a categorical distribution should be a tuple of None, bool, int, float and str for persistent storage but contains (50, 50) which is of type tuple.\n",
            "\n",
            "\u001b[32m[I 2022-09-02 15:58:59,113]\u001b[0m Trial 27 finished with value: 0.7711609688544775 and parameters: {'classifier': 'MLP', 'mlp_hidden_layer_sizes': (50, 50), 'mlp_activation': 'logistic', 'mlp_solver': 'adam'}. Best is trial 19 with value: 0.7711609688544775.\u001b[0m\n",
            "/usr/local/lib/python3.7/dist-packages/optuna/distributions.py:502: UserWarning:\n",
            "\n",
            "Choices for a categorical distribution should be a tuple of None, bool, int, float and str for persistent storage but contains (50,) which is of type tuple.\n",
            "\n",
            "/usr/local/lib/python3.7/dist-packages/optuna/distributions.py:502: UserWarning:\n",
            "\n",
            "Choices for a categorical distribution should be a tuple of None, bool, int, float and str for persistent storage but contains (100,) which is of type tuple.\n",
            "\n",
            "/usr/local/lib/python3.7/dist-packages/optuna/distributions.py:502: UserWarning:\n",
            "\n",
            "Choices for a categorical distribution should be a tuple of None, bool, int, float and str for persistent storage but contains (50, 50) which is of type tuple.\n",
            "\n",
            "\u001b[32m[I 2022-09-02 15:59:12,490]\u001b[0m Trial 28 finished with value: 0.7711609688544775 and parameters: {'classifier': 'MLP', 'mlp_hidden_layer_sizes': (50, 50), 'mlp_activation': 'logistic', 'mlp_solver': 'adam'}. Best is trial 19 with value: 0.7711609688544775.\u001b[0m\n",
            "/usr/local/lib/python3.7/dist-packages/optuna/distributions.py:502: UserWarning:\n",
            "\n",
            "Choices for a categorical distribution should be a tuple of None, bool, int, float and str for persistent storage but contains (50,) which is of type tuple.\n",
            "\n",
            "/usr/local/lib/python3.7/dist-packages/optuna/distributions.py:502: UserWarning:\n",
            "\n",
            "Choices for a categorical distribution should be a tuple of None, bool, int, float and str for persistent storage but contains (100,) which is of type tuple.\n",
            "\n",
            "/usr/local/lib/python3.7/dist-packages/optuna/distributions.py:502: UserWarning:\n",
            "\n",
            "Choices for a categorical distribution should be a tuple of None, bool, int, float and str for persistent storage but contains (50, 50) which is of type tuple.\n",
            "\n",
            "\u001b[32m[I 2022-09-02 15:59:24,616]\u001b[0m Trial 29 finished with value: 0.7711609688544775 and parameters: {'classifier': 'MLP', 'mlp_hidden_layer_sizes': (50, 50), 'mlp_activation': 'logistic', 'mlp_solver': 'adam'}. Best is trial 19 with value: 0.7711609688544775.\u001b[0m\n",
            "/usr/local/lib/python3.7/dist-packages/optuna/distributions.py:502: UserWarning:\n",
            "\n",
            "Choices for a categorical distribution should be a tuple of None, bool, int, float and str for persistent storage but contains (50,) which is of type tuple.\n",
            "\n",
            "/usr/local/lib/python3.7/dist-packages/optuna/distributions.py:502: UserWarning:\n",
            "\n",
            "Choices for a categorical distribution should be a tuple of None, bool, int, float and str for persistent storage but contains (100,) which is of type tuple.\n",
            "\n",
            "/usr/local/lib/python3.7/dist-packages/optuna/distributions.py:502: UserWarning:\n",
            "\n",
            "Choices for a categorical distribution should be a tuple of None, bool, int, float and str for persistent storage but contains (50, 50) which is of type tuple.\n",
            "\n",
            "\u001b[32m[I 2022-09-02 15:59:36,918]\u001b[0m Trial 30 finished with value: 0.7711609688544775 and parameters: {'classifier': 'MLP', 'mlp_hidden_layer_sizes': (50, 50), 'mlp_activation': 'logistic', 'mlp_solver': 'adam'}. Best is trial 19 with value: 0.7711609688544775.\u001b[0m\n",
            "/usr/local/lib/python3.7/dist-packages/optuna/distributions.py:502: UserWarning:\n",
            "\n",
            "Choices for a categorical distribution should be a tuple of None, bool, int, float and str for persistent storage but contains (50,) which is of type tuple.\n",
            "\n",
            "/usr/local/lib/python3.7/dist-packages/optuna/distributions.py:502: UserWarning:\n",
            "\n",
            "Choices for a categorical distribution should be a tuple of None, bool, int, float and str for persistent storage but contains (100,) which is of type tuple.\n",
            "\n",
            "/usr/local/lib/python3.7/dist-packages/optuna/distributions.py:502: UserWarning:\n",
            "\n",
            "Choices for a categorical distribution should be a tuple of None, bool, int, float and str for persistent storage but contains (50, 50) which is of type tuple.\n",
            "\n",
            "\u001b[32m[I 2022-09-02 15:59:49,188]\u001b[0m Trial 31 finished with value: 0.7711609688544775 and parameters: {'classifier': 'MLP', 'mlp_hidden_layer_sizes': (50, 50), 'mlp_activation': 'logistic', 'mlp_solver': 'adam'}. Best is trial 19 with value: 0.7711609688544775.\u001b[0m\n",
            "/usr/local/lib/python3.7/dist-packages/optuna/distributions.py:502: UserWarning:\n",
            "\n",
            "Choices for a categorical distribution should be a tuple of None, bool, int, float and str for persistent storage but contains (50,) which is of type tuple.\n",
            "\n",
            "/usr/local/lib/python3.7/dist-packages/optuna/distributions.py:502: UserWarning:\n",
            "\n",
            "Choices for a categorical distribution should be a tuple of None, bool, int, float and str for persistent storage but contains (100,) which is of type tuple.\n",
            "\n",
            "/usr/local/lib/python3.7/dist-packages/optuna/distributions.py:502: UserWarning:\n",
            "\n",
            "Choices for a categorical distribution should be a tuple of None, bool, int, float and str for persistent storage but contains (50, 50) which is of type tuple.\n",
            "\n",
            "\u001b[32m[I 2022-09-02 16:00:05,623]\u001b[0m Trial 32 finished with value: 0.7711609688544775 and parameters: {'classifier': 'MLP', 'mlp_hidden_layer_sizes': (50, 50), 'mlp_activation': 'logistic', 'mlp_solver': 'adam'}. Best is trial 19 with value: 0.7711609688544775.\u001b[0m\n",
            "/usr/local/lib/python3.7/dist-packages/optuna/distributions.py:502: UserWarning:\n",
            "\n",
            "Choices for a categorical distribution should be a tuple of None, bool, int, float and str for persistent storage but contains (50,) which is of type tuple.\n",
            "\n",
            "/usr/local/lib/python3.7/dist-packages/optuna/distributions.py:502: UserWarning:\n",
            "\n",
            "Choices for a categorical distribution should be a tuple of None, bool, int, float and str for persistent storage but contains (100,) which is of type tuple.\n",
            "\n",
            "/usr/local/lib/python3.7/dist-packages/optuna/distributions.py:502: UserWarning:\n",
            "\n",
            "Choices for a categorical distribution should be a tuple of None, bool, int, float and str for persistent storage but contains (50, 50) which is of type tuple.\n",
            "\n",
            "\u001b[32m[I 2022-09-02 16:00:17,999]\u001b[0m Trial 33 finished with value: 0.7711609688544775 and parameters: {'classifier': 'MLP', 'mlp_hidden_layer_sizes': (50, 50), 'mlp_activation': 'logistic', 'mlp_solver': 'adam'}. Best is trial 19 with value: 0.7711609688544775.\u001b[0m\n",
            "/usr/local/lib/python3.7/dist-packages/optuna/distributions.py:502: UserWarning:\n",
            "\n",
            "Choices for a categorical distribution should be a tuple of None, bool, int, float and str for persistent storage but contains (50,) which is of type tuple.\n",
            "\n",
            "/usr/local/lib/python3.7/dist-packages/optuna/distributions.py:502: UserWarning:\n",
            "\n",
            "Choices for a categorical distribution should be a tuple of None, bool, int, float and str for persistent storage but contains (100,) which is of type tuple.\n",
            "\n",
            "/usr/local/lib/python3.7/dist-packages/optuna/distributions.py:502: UserWarning:\n",
            "\n",
            "Choices for a categorical distribution should be a tuple of None, bool, int, float and str for persistent storage but contains (50, 50) which is of type tuple.\n",
            "\n",
            "\u001b[32m[I 2022-09-02 16:00:30,267]\u001b[0m Trial 34 finished with value: 0.7711609688544775 and parameters: {'classifier': 'MLP', 'mlp_hidden_layer_sizes': (50, 50), 'mlp_activation': 'logistic', 'mlp_solver': 'adam'}. Best is trial 19 with value: 0.7711609688544775.\u001b[0m\n",
            "/usr/local/lib/python3.7/dist-packages/optuna/distributions.py:502: UserWarning:\n",
            "\n",
            "Choices for a categorical distribution should be a tuple of None, bool, int, float and str for persistent storage but contains (50,) which is of type tuple.\n",
            "\n",
            "/usr/local/lib/python3.7/dist-packages/optuna/distributions.py:502: UserWarning:\n",
            "\n",
            "Choices for a categorical distribution should be a tuple of None, bool, int, float and str for persistent storage but contains (100,) which is of type tuple.\n",
            "\n",
            "/usr/local/lib/python3.7/dist-packages/optuna/distributions.py:502: UserWarning:\n",
            "\n",
            "Choices for a categorical distribution should be a tuple of None, bool, int, float and str for persistent storage but contains (50, 50) which is of type tuple.\n",
            "\n",
            "\u001b[32m[I 2022-09-02 16:00:42,766]\u001b[0m Trial 35 finished with value: 0.7711609688544775 and parameters: {'classifier': 'MLP', 'mlp_hidden_layer_sizes': (50, 50), 'mlp_activation': 'logistic', 'mlp_solver': 'adam'}. Best is trial 19 with value: 0.7711609688544775.\u001b[0m\n",
            "/usr/local/lib/python3.7/dist-packages/optuna/distributions.py:502: UserWarning:\n",
            "\n",
            "Choices for a categorical distribution should be a tuple of None, bool, int, float and str for persistent storage but contains (50,) which is of type tuple.\n",
            "\n",
            "/usr/local/lib/python3.7/dist-packages/optuna/distributions.py:502: UserWarning:\n",
            "\n",
            "Choices for a categorical distribution should be a tuple of None, bool, int, float and str for persistent storage but contains (100,) which is of type tuple.\n",
            "\n",
            "/usr/local/lib/python3.7/dist-packages/optuna/distributions.py:502: UserWarning:\n",
            "\n",
            "Choices for a categorical distribution should be a tuple of None, bool, int, float and str for persistent storage but contains (50, 50) which is of type tuple.\n",
            "\n",
            "\u001b[32m[I 2022-09-02 16:00:44,600]\u001b[0m Trial 36 finished with value: 0.7415467133346342 and parameters: {'classifier': 'MLP', 'mlp_hidden_layer_sizes': (100,), 'mlp_activation': 'logistic', 'mlp_solver': 'sgd'}. Best is trial 19 with value: 0.7711609688544775.\u001b[0m\n",
            "/usr/local/lib/python3.7/dist-packages/optuna/distributions.py:502: UserWarning:\n",
            "\n",
            "Choices for a categorical distribution should be a tuple of None, bool, int, float and str for persistent storage but contains (50,) which is of type tuple.\n",
            "\n",
            "/usr/local/lib/python3.7/dist-packages/optuna/distributions.py:502: UserWarning:\n",
            "\n",
            "Choices for a categorical distribution should be a tuple of None, bool, int, float and str for persistent storage but contains (100,) which is of type tuple.\n",
            "\n",
            "/usr/local/lib/python3.7/dist-packages/optuna/distributions.py:502: UserWarning:\n",
            "\n",
            "Choices for a categorical distribution should be a tuple of None, bool, int, float and str for persistent storage but contains (50, 50) which is of type tuple.\n",
            "\n",
            "\u001b[32m[I 2022-09-02 16:00:52,782]\u001b[0m Trial 37 finished with value: 0.7406853851273875 and parameters: {'classifier': 'MLP', 'mlp_hidden_layer_sizes': (100,), 'mlp_activation': 'logistic', 'mlp_solver': 'adam'}. Best is trial 19 with value: 0.7711609688544775.\u001b[0m\n",
            "/usr/local/lib/python3.7/dist-packages/optuna/distributions.py:502: UserWarning:\n",
            "\n",
            "Choices for a categorical distribution should be a tuple of None, bool, int, float and str for persistent storage but contains (50,) which is of type tuple.\n",
            "\n",
            "/usr/local/lib/python3.7/dist-packages/optuna/distributions.py:502: UserWarning:\n",
            "\n",
            "Choices for a categorical distribution should be a tuple of None, bool, int, float and str for persistent storage but contains (100,) which is of type tuple.\n",
            "\n",
            "/usr/local/lib/python3.7/dist-packages/optuna/distributions.py:502: UserWarning:\n",
            "\n",
            "Choices for a categorical distribution should be a tuple of None, bool, int, float and str for persistent storage but contains (50, 50) which is of type tuple.\n",
            "\n",
            "\u001b[32m[I 2022-09-02 16:01:07,590]\u001b[0m Trial 38 finished with value: 0.7711609688544775 and parameters: {'classifier': 'MLP', 'mlp_hidden_layer_sizes': (50, 50), 'mlp_activation': 'logistic', 'mlp_solver': 'adam'}. Best is trial 19 with value: 0.7711609688544775.\u001b[0m\n",
            "/usr/local/lib/python3.7/dist-packages/optuna/distributions.py:502: UserWarning:\n",
            "\n",
            "Choices for a categorical distribution should be a tuple of None, bool, int, float and str for persistent storage but contains (50,) which is of type tuple.\n",
            "\n",
            "/usr/local/lib/python3.7/dist-packages/optuna/distributions.py:502: UserWarning:\n",
            "\n",
            "Choices for a categorical distribution should be a tuple of None, bool, int, float and str for persistent storage but contains (100,) which is of type tuple.\n",
            "\n",
            "/usr/local/lib/python3.7/dist-packages/optuna/distributions.py:502: UserWarning:\n",
            "\n",
            "Choices for a categorical distribution should be a tuple of None, bool, int, float and str for persistent storage but contains (50, 50) which is of type tuple.\n",
            "\n",
            "\u001b[32m[I 2022-09-02 16:01:08,966]\u001b[0m Trial 39 finished with value: 0.7415467133346342 and parameters: {'classifier': 'MLP', 'mlp_hidden_layer_sizes': (50, 50), 'mlp_activation': 'logistic', 'mlp_solver': 'sgd'}. Best is trial 19 with value: 0.7711609688544775.\u001b[0m\n",
            "/usr/local/lib/python3.7/dist-packages/optuna/distributions.py:502: UserWarning:\n",
            "\n",
            "Choices for a categorical distribution should be a tuple of None, bool, int, float and str for persistent storage but contains (50,) which is of type tuple.\n",
            "\n",
            "/usr/local/lib/python3.7/dist-packages/optuna/distributions.py:502: UserWarning:\n",
            "\n",
            "Choices for a categorical distribution should be a tuple of None, bool, int, float and str for persistent storage but contains (100,) which is of type tuple.\n",
            "\n",
            "/usr/local/lib/python3.7/dist-packages/optuna/distributions.py:502: UserWarning:\n",
            "\n",
            "Choices for a categorical distribution should be a tuple of None, bool, int, float and str for persistent storage but contains (50, 50) which is of type tuple.\n",
            "\n",
            "\u001b[32m[I 2022-09-02 16:01:16,961]\u001b[0m Trial 40 finished with value: 0.7406853851273875 and parameters: {'classifier': 'MLP', 'mlp_hidden_layer_sizes': (100,), 'mlp_activation': 'logistic', 'mlp_solver': 'adam'}. Best is trial 19 with value: 0.7711609688544775.\u001b[0m\n",
            "/usr/local/lib/python3.7/dist-packages/optuna/distributions.py:502: UserWarning:\n",
            "\n",
            "Choices for a categorical distribution should be a tuple of None, bool, int, float and str for persistent storage but contains (50,) which is of type tuple.\n",
            "\n",
            "/usr/local/lib/python3.7/dist-packages/optuna/distributions.py:502: UserWarning:\n",
            "\n",
            "Choices for a categorical distribution should be a tuple of None, bool, int, float and str for persistent storage but contains (100,) which is of type tuple.\n",
            "\n",
            "/usr/local/lib/python3.7/dist-packages/optuna/distributions.py:502: UserWarning:\n",
            "\n",
            "Choices for a categorical distribution should be a tuple of None, bool, int, float and str for persistent storage but contains (50, 50) which is of type tuple.\n",
            "\n",
            "\u001b[32m[I 2022-09-02 16:01:29,230]\u001b[0m Trial 41 finished with value: 0.7711609688544775 and parameters: {'classifier': 'MLP', 'mlp_hidden_layer_sizes': (50, 50), 'mlp_activation': 'logistic', 'mlp_solver': 'adam'}. Best is trial 19 with value: 0.7711609688544775.\u001b[0m\n",
            "/usr/local/lib/python3.7/dist-packages/optuna/distributions.py:502: UserWarning:\n",
            "\n",
            "Choices for a categorical distribution should be a tuple of None, bool, int, float and str for persistent storage but contains (50,) which is of type tuple.\n",
            "\n",
            "/usr/local/lib/python3.7/dist-packages/optuna/distributions.py:502: UserWarning:\n",
            "\n",
            "Choices for a categorical distribution should be a tuple of None, bool, int, float and str for persistent storage but contains (100,) which is of type tuple.\n",
            "\n",
            "/usr/local/lib/python3.7/dist-packages/optuna/distributions.py:502: UserWarning:\n",
            "\n",
            "Choices for a categorical distribution should be a tuple of None, bool, int, float and str for persistent storage but contains (50, 50) which is of type tuple.\n",
            "\n",
            "\u001b[32m[I 2022-09-02 16:01:41,652]\u001b[0m Trial 42 finished with value: 0.7711609688544775 and parameters: {'classifier': 'MLP', 'mlp_hidden_layer_sizes': (50, 50), 'mlp_activation': 'logistic', 'mlp_solver': 'adam'}. Best is trial 19 with value: 0.7711609688544775.\u001b[0m\n",
            "/usr/local/lib/python3.7/dist-packages/optuna/distributions.py:502: UserWarning:\n",
            "\n",
            "Choices for a categorical distribution should be a tuple of None, bool, int, float and str for persistent storage but contains (50,) which is of type tuple.\n",
            "\n",
            "/usr/local/lib/python3.7/dist-packages/optuna/distributions.py:502: UserWarning:\n",
            "\n",
            "Choices for a categorical distribution should be a tuple of None, bool, int, float and str for persistent storage but contains (100,) which is of type tuple.\n",
            "\n",
            "/usr/local/lib/python3.7/dist-packages/optuna/distributions.py:502: UserWarning:\n",
            "\n",
            "Choices for a categorical distribution should be a tuple of None, bool, int, float and str for persistent storage but contains (50, 50) which is of type tuple.\n",
            "\n",
            "\u001b[32m[I 2022-09-02 16:01:54,276]\u001b[0m Trial 43 finished with value: 0.7711609688544775 and parameters: {'classifier': 'MLP', 'mlp_hidden_layer_sizes': (50, 50), 'mlp_activation': 'logistic', 'mlp_solver': 'adam'}. Best is trial 19 with value: 0.7711609688544775.\u001b[0m\n",
            "/usr/local/lib/python3.7/dist-packages/optuna/distributions.py:502: UserWarning:\n",
            "\n",
            "Choices for a categorical distribution should be a tuple of None, bool, int, float and str for persistent storage but contains (50,) which is of type tuple.\n",
            "\n",
            "/usr/local/lib/python3.7/dist-packages/optuna/distributions.py:502: UserWarning:\n",
            "\n",
            "Choices for a categorical distribution should be a tuple of None, bool, int, float and str for persistent storage but contains (100,) which is of type tuple.\n",
            "\n",
            "/usr/local/lib/python3.7/dist-packages/optuna/distributions.py:502: UserWarning:\n",
            "\n",
            "Choices for a categorical distribution should be a tuple of None, bool, int, float and str for persistent storage but contains (50, 50) which is of type tuple.\n",
            "\n",
            "\u001b[32m[I 2022-09-02 16:02:05,087]\u001b[0m Trial 44 finished with value: 0.7443542990735308 and parameters: {'classifier': 'MLP', 'mlp_hidden_layer_sizes': (50, 50), 'mlp_activation': 'tanh', 'mlp_solver': 'adam'}. Best is trial 19 with value: 0.7711609688544775.\u001b[0m\n",
            "/usr/local/lib/python3.7/dist-packages/optuna/distributions.py:502: UserWarning:\n",
            "\n",
            "Choices for a categorical distribution should be a tuple of None, bool, int, float and str for persistent storage but contains (50,) which is of type tuple.\n",
            "\n",
            "/usr/local/lib/python3.7/dist-packages/optuna/distributions.py:502: UserWarning:\n",
            "\n",
            "Choices for a categorical distribution should be a tuple of None, bool, int, float and str for persistent storage but contains (100,) which is of type tuple.\n",
            "\n",
            "/usr/local/lib/python3.7/dist-packages/optuna/distributions.py:502: UserWarning:\n",
            "\n",
            "Choices for a categorical distribution should be a tuple of None, bool, int, float and str for persistent storage but contains (50, 50) which is of type tuple.\n",
            "\n",
            "\u001b[32m[I 2022-09-02 16:02:20,085]\u001b[0m Trial 45 finished with value: 0.7711609688544775 and parameters: {'classifier': 'MLP', 'mlp_hidden_layer_sizes': (50, 50), 'mlp_activation': 'logistic', 'mlp_solver': 'adam'}. Best is trial 19 with value: 0.7711609688544775.\u001b[0m\n",
            "/usr/local/lib/python3.7/dist-packages/optuna/distributions.py:502: UserWarning:\n",
            "\n",
            "Choices for a categorical distribution should be a tuple of None, bool, int, float and str for persistent storage but contains (50,) which is of type tuple.\n",
            "\n",
            "/usr/local/lib/python3.7/dist-packages/optuna/distributions.py:502: UserWarning:\n",
            "\n",
            "Choices for a categorical distribution should be a tuple of None, bool, int, float and str for persistent storage but contains (100,) which is of type tuple.\n",
            "\n",
            "/usr/local/lib/python3.7/dist-packages/optuna/distributions.py:502: UserWarning:\n",
            "\n",
            "Choices for a categorical distribution should be a tuple of None, bool, int, float and str for persistent storage but contains (50, 50) which is of type tuple.\n",
            "\n",
            "\u001b[32m[I 2022-09-02 16:02:32,382]\u001b[0m Trial 46 finished with value: 0.7711609688544775 and parameters: {'classifier': 'MLP', 'mlp_hidden_layer_sizes': (50, 50), 'mlp_activation': 'logistic', 'mlp_solver': 'adam'}. Best is trial 19 with value: 0.7711609688544775.\u001b[0m\n",
            "/usr/local/lib/python3.7/dist-packages/optuna/distributions.py:502: UserWarning:\n",
            "\n",
            "Choices for a categorical distribution should be a tuple of None, bool, int, float and str for persistent storage but contains (50,) which is of type tuple.\n",
            "\n",
            "/usr/local/lib/python3.7/dist-packages/optuna/distributions.py:502: UserWarning:\n",
            "\n",
            "Choices for a categorical distribution should be a tuple of None, bool, int, float and str for persistent storage but contains (100,) which is of type tuple.\n",
            "\n",
            "/usr/local/lib/python3.7/dist-packages/optuna/distributions.py:502: UserWarning:\n",
            "\n",
            "Choices for a categorical distribution should be a tuple of None, bool, int, float and str for persistent storage but contains (50, 50) which is of type tuple.\n",
            "\n",
            "\u001b[32m[I 2022-09-02 16:02:34,989]\u001b[0m Trial 47 finished with value: 0.7415467133346342 and parameters: {'classifier': 'MLP', 'mlp_hidden_layer_sizes': (50, 50), 'mlp_activation': 'tanh', 'mlp_solver': 'sgd'}. Best is trial 19 with value: 0.7711609688544775.\u001b[0m\n",
            "/usr/local/lib/python3.7/dist-packages/optuna/distributions.py:502: UserWarning:\n",
            "\n",
            "Choices for a categorical distribution should be a tuple of None, bool, int, float and str for persistent storage but contains (50,) which is of type tuple.\n",
            "\n",
            "/usr/local/lib/python3.7/dist-packages/optuna/distributions.py:502: UserWarning:\n",
            "\n",
            "Choices for a categorical distribution should be a tuple of None, bool, int, float and str for persistent storage but contains (100,) which is of type tuple.\n",
            "\n",
            "/usr/local/lib/python3.7/dist-packages/optuna/distributions.py:502: UserWarning:\n",
            "\n",
            "Choices for a categorical distribution should be a tuple of None, bool, int, float and str for persistent storage but contains (50, 50) which is of type tuple.\n",
            "\n",
            "\u001b[32m[I 2022-09-02 16:02:43,138]\u001b[0m Trial 48 finished with value: 0.7406853851273875 and parameters: {'classifier': 'MLP', 'mlp_hidden_layer_sizes': (100,), 'mlp_activation': 'logistic', 'mlp_solver': 'adam'}. Best is trial 19 with value: 0.7711609688544775.\u001b[0m\n",
            "/usr/local/lib/python3.7/dist-packages/optuna/distributions.py:502: UserWarning:\n",
            "\n",
            "Choices for a categorical distribution should be a tuple of None, bool, int, float and str for persistent storage but contains (50,) which is of type tuple.\n",
            "\n",
            "/usr/local/lib/python3.7/dist-packages/optuna/distributions.py:502: UserWarning:\n",
            "\n",
            "Choices for a categorical distribution should be a tuple of None, bool, int, float and str for persistent storage but contains (100,) which is of type tuple.\n",
            "\n",
            "/usr/local/lib/python3.7/dist-packages/optuna/distributions.py:502: UserWarning:\n",
            "\n",
            "Choices for a categorical distribution should be a tuple of None, bool, int, float and str for persistent storage but contains (50, 50) which is of type tuple.\n",
            "\n",
            "\u001b[32m[I 2022-09-02 16:02:55,420]\u001b[0m Trial 49 finished with value: 0.7711609688544775 and parameters: {'classifier': 'MLP', 'mlp_hidden_layer_sizes': (50, 50), 'mlp_activation': 'logistic', 'mlp_solver': 'adam'}. Best is trial 19 with value: 0.7711609688544775.\u001b[0m\n",
            "/usr/local/lib/python3.7/dist-packages/optuna/distributions.py:502: UserWarning:\n",
            "\n",
            "Choices for a categorical distribution should be a tuple of None, bool, int, float and str for persistent storage but contains (50,) which is of type tuple.\n",
            "\n",
            "/usr/local/lib/python3.7/dist-packages/optuna/distributions.py:502: UserWarning:\n",
            "\n",
            "Choices for a categorical distribution should be a tuple of None, bool, int, float and str for persistent storage but contains (100,) which is of type tuple.\n",
            "\n",
            "/usr/local/lib/python3.7/dist-packages/optuna/distributions.py:502: UserWarning:\n",
            "\n",
            "Choices for a categorical distribution should be a tuple of None, bool, int, float and str for persistent storage but contains (50, 50) which is of type tuple.\n",
            "\n",
            "\u001b[32m[I 2022-09-02 16:03:07,593]\u001b[0m Trial 50 finished with value: 0.7711609688544775 and parameters: {'classifier': 'MLP', 'mlp_hidden_layer_sizes': (50, 50), 'mlp_activation': 'logistic', 'mlp_solver': 'adam'}. Best is trial 19 with value: 0.7711609688544775.\u001b[0m\n",
            "/usr/local/lib/python3.7/dist-packages/optuna/distributions.py:502: UserWarning:\n",
            "\n",
            "Choices for a categorical distribution should be a tuple of None, bool, int, float and str for persistent storage but contains (50,) which is of type tuple.\n",
            "\n",
            "/usr/local/lib/python3.7/dist-packages/optuna/distributions.py:502: UserWarning:\n",
            "\n",
            "Choices for a categorical distribution should be a tuple of None, bool, int, float and str for persistent storage but contains (100,) which is of type tuple.\n",
            "\n",
            "/usr/local/lib/python3.7/dist-packages/optuna/distributions.py:502: UserWarning:\n",
            "\n",
            "Choices for a categorical distribution should be a tuple of None, bool, int, float and str for persistent storage but contains (50, 50) which is of type tuple.\n",
            "\n",
            "\u001b[32m[I 2022-09-02 16:03:19,634]\u001b[0m Trial 51 finished with value: 0.7711609688544775 and parameters: {'classifier': 'MLP', 'mlp_hidden_layer_sizes': (50, 50), 'mlp_activation': 'logistic', 'mlp_solver': 'adam'}. Best is trial 19 with value: 0.7711609688544775.\u001b[0m\n",
            "/usr/local/lib/python3.7/dist-packages/optuna/distributions.py:502: UserWarning:\n",
            "\n",
            "Choices for a categorical distribution should be a tuple of None, bool, int, float and str for persistent storage but contains (50,) which is of type tuple.\n",
            "\n",
            "/usr/local/lib/python3.7/dist-packages/optuna/distributions.py:502: UserWarning:\n",
            "\n",
            "Choices for a categorical distribution should be a tuple of None, bool, int, float and str for persistent storage but contains (100,) which is of type tuple.\n",
            "\n",
            "/usr/local/lib/python3.7/dist-packages/optuna/distributions.py:502: UserWarning:\n",
            "\n",
            "Choices for a categorical distribution should be a tuple of None, bool, int, float and str for persistent storage but contains (50, 50) which is of type tuple.\n",
            "\n",
            "\u001b[32m[I 2022-09-02 16:03:31,845]\u001b[0m Trial 52 finished with value: 0.7711609688544775 and parameters: {'classifier': 'MLP', 'mlp_hidden_layer_sizes': (50, 50), 'mlp_activation': 'logistic', 'mlp_solver': 'adam'}. Best is trial 19 with value: 0.7711609688544775.\u001b[0m\n",
            "/usr/local/lib/python3.7/dist-packages/optuna/distributions.py:502: UserWarning:\n",
            "\n",
            "Choices for a categorical distribution should be a tuple of None, bool, int, float and str for persistent storage but contains (50,) which is of type tuple.\n",
            "\n",
            "/usr/local/lib/python3.7/dist-packages/optuna/distributions.py:502: UserWarning:\n",
            "\n",
            "Choices for a categorical distribution should be a tuple of None, bool, int, float and str for persistent storage but contains (100,) which is of type tuple.\n",
            "\n",
            "/usr/local/lib/python3.7/dist-packages/optuna/distributions.py:502: UserWarning:\n",
            "\n",
            "Choices for a categorical distribution should be a tuple of None, bool, int, float and str for persistent storage but contains (50, 50) which is of type tuple.\n",
            "\n",
            "\u001b[32m[I 2022-09-02 16:03:44,183]\u001b[0m Trial 53 finished with value: 0.7711609688544775 and parameters: {'classifier': 'MLP', 'mlp_hidden_layer_sizes': (50, 50), 'mlp_activation': 'logistic', 'mlp_solver': 'adam'}. Best is trial 19 with value: 0.7711609688544775.\u001b[0m\n",
            "/usr/local/lib/python3.7/dist-packages/optuna/distributions.py:502: UserWarning:\n",
            "\n",
            "Choices for a categorical distribution should be a tuple of None, bool, int, float and str for persistent storage but contains (50,) which is of type tuple.\n",
            "\n",
            "/usr/local/lib/python3.7/dist-packages/optuna/distributions.py:502: UserWarning:\n",
            "\n",
            "Choices for a categorical distribution should be a tuple of None, bool, int, float and str for persistent storage but contains (100,) which is of type tuple.\n",
            "\n",
            "/usr/local/lib/python3.7/dist-packages/optuna/distributions.py:502: UserWarning:\n",
            "\n",
            "Choices for a categorical distribution should be a tuple of None, bool, int, float and str for persistent storage but contains (50, 50) which is of type tuple.\n",
            "\n",
            "\u001b[32m[I 2022-09-02 16:03:54,680]\u001b[0m Trial 54 finished with value: 0.7519070984357403 and parameters: {'classifier': 'MLP', 'mlp_hidden_layer_sizes': (50,), 'mlp_activation': 'logistic', 'mlp_solver': 'adam'}. Best is trial 19 with value: 0.7711609688544775.\u001b[0m\n",
            "/usr/local/lib/python3.7/dist-packages/optuna/distributions.py:502: UserWarning:\n",
            "\n",
            "Choices for a categorical distribution should be a tuple of None, bool, int, float and str for persistent storage but contains (50,) which is of type tuple.\n",
            "\n",
            "/usr/local/lib/python3.7/dist-packages/optuna/distributions.py:502: UserWarning:\n",
            "\n",
            "Choices for a categorical distribution should be a tuple of None, bool, int, float and str for persistent storage but contains (100,) which is of type tuple.\n",
            "\n",
            "/usr/local/lib/python3.7/dist-packages/optuna/distributions.py:502: UserWarning:\n",
            "\n",
            "Choices for a categorical distribution should be a tuple of None, bool, int, float and str for persistent storage but contains (50, 50) which is of type tuple.\n",
            "\n",
            "\u001b[32m[I 2022-09-02 16:04:05,367]\u001b[0m Trial 55 finished with value: 0.7443542990735308 and parameters: {'classifier': 'MLP', 'mlp_hidden_layer_sizes': (50, 50), 'mlp_activation': 'tanh', 'mlp_solver': 'adam'}. Best is trial 19 with value: 0.7711609688544775.\u001b[0m\n",
            "/usr/local/lib/python3.7/dist-packages/optuna/distributions.py:502: UserWarning:\n",
            "\n",
            "Choices for a categorical distribution should be a tuple of None, bool, int, float and str for persistent storage but contains (50,) which is of type tuple.\n",
            "\n",
            "/usr/local/lib/python3.7/dist-packages/optuna/distributions.py:502: UserWarning:\n",
            "\n",
            "Choices for a categorical distribution should be a tuple of None, bool, int, float and str for persistent storage but contains (100,) which is of type tuple.\n",
            "\n",
            "/usr/local/lib/python3.7/dist-packages/optuna/distributions.py:502: UserWarning:\n",
            "\n",
            "Choices for a categorical distribution should be a tuple of None, bool, int, float and str for persistent storage but contains (50, 50) which is of type tuple.\n",
            "\n",
            "\u001b[32m[I 2022-09-02 16:04:08,454]\u001b[0m Trial 56 finished with value: 0.7532334067647636 and parameters: {'classifier': 'MLP', 'mlp_hidden_layer_sizes': (50, 50), 'mlp_activation': 'relu', 'mlp_solver': 'adam'}. Best is trial 19 with value: 0.7711609688544775.\u001b[0m\n",
            "/usr/local/lib/python3.7/dist-packages/optuna/distributions.py:502: UserWarning:\n",
            "\n",
            "Choices for a categorical distribution should be a tuple of None, bool, int, float and str for persistent storage but contains (50,) which is of type tuple.\n",
            "\n",
            "/usr/local/lib/python3.7/dist-packages/optuna/distributions.py:502: UserWarning:\n",
            "\n",
            "Choices for a categorical distribution should be a tuple of None, bool, int, float and str for persistent storage but contains (100,) which is of type tuple.\n",
            "\n",
            "/usr/local/lib/python3.7/dist-packages/optuna/distributions.py:502: UserWarning:\n",
            "\n",
            "Choices for a categorical distribution should be a tuple of None, bool, int, float and str for persistent storage but contains (50, 50) which is of type tuple.\n",
            "\n",
            "\u001b[32m[I 2022-09-02 16:04:20,744]\u001b[0m Trial 57 finished with value: 0.7711609688544775 and parameters: {'classifier': 'MLP', 'mlp_hidden_layer_sizes': (50, 50), 'mlp_activation': 'logistic', 'mlp_solver': 'adam'}. Best is trial 19 with value: 0.7711609688544775.\u001b[0m\n",
            "/usr/local/lib/python3.7/dist-packages/optuna/distributions.py:502: UserWarning:\n",
            "\n",
            "Choices for a categorical distribution should be a tuple of None, bool, int, float and str for persistent storage but contains (50,) which is of type tuple.\n",
            "\n",
            "/usr/local/lib/python3.7/dist-packages/optuna/distributions.py:502: UserWarning:\n",
            "\n",
            "Choices for a categorical distribution should be a tuple of None, bool, int, float and str for persistent storage but contains (100,) which is of type tuple.\n",
            "\n",
            "/usr/local/lib/python3.7/dist-packages/optuna/distributions.py:502: UserWarning:\n",
            "\n",
            "Choices for a categorical distribution should be a tuple of None, bool, int, float and str for persistent storage but contains (50, 50) which is of type tuple.\n",
            "\n",
            "\u001b[32m[I 2022-09-02 16:04:21,924]\u001b[0m Trial 58 finished with value: 0.7415467133346342 and parameters: {'classifier': 'MLP', 'mlp_hidden_layer_sizes': (50,), 'mlp_activation': 'logistic', 'mlp_solver': 'sgd'}. Best is trial 19 with value: 0.7711609688544775.\u001b[0m\n",
            "/usr/local/lib/python3.7/dist-packages/optuna/distributions.py:502: UserWarning:\n",
            "\n",
            "Choices for a categorical distribution should be a tuple of None, bool, int, float and str for persistent storage but contains (50,) which is of type tuple.\n",
            "\n",
            "/usr/local/lib/python3.7/dist-packages/optuna/distributions.py:502: UserWarning:\n",
            "\n",
            "Choices for a categorical distribution should be a tuple of None, bool, int, float and str for persistent storage but contains (100,) which is of type tuple.\n",
            "\n",
            "/usr/local/lib/python3.7/dist-packages/optuna/distributions.py:502: UserWarning:\n",
            "\n",
            "Choices for a categorical distribution should be a tuple of None, bool, int, float and str for persistent storage but contains (50, 50) which is of type tuple.\n",
            "\n",
            "\u001b[32m[I 2022-09-02 16:04:37,128]\u001b[0m Trial 59 finished with value: 0.7711609688544775 and parameters: {'classifier': 'MLP', 'mlp_hidden_layer_sizes': (50, 50), 'mlp_activation': 'logistic', 'mlp_solver': 'adam'}. Best is trial 19 with value: 0.7711609688544775.\u001b[0m\n",
            "/usr/local/lib/python3.7/dist-packages/optuna/distributions.py:502: UserWarning:\n",
            "\n",
            "Choices for a categorical distribution should be a tuple of None, bool, int, float and str for persistent storage but contains (50,) which is of type tuple.\n",
            "\n",
            "/usr/local/lib/python3.7/dist-packages/optuna/distributions.py:502: UserWarning:\n",
            "\n",
            "Choices for a categorical distribution should be a tuple of None, bool, int, float and str for persistent storage but contains (100,) which is of type tuple.\n",
            "\n",
            "/usr/local/lib/python3.7/dist-packages/optuna/distributions.py:502: UserWarning:\n",
            "\n",
            "Choices for a categorical distribution should be a tuple of None, bool, int, float and str for persistent storage but contains (50, 50) which is of type tuple.\n",
            "\n",
            "\u001b[32m[I 2022-09-02 16:04:40,125]\u001b[0m Trial 60 finished with value: 0.7532334067647636 and parameters: {'classifier': 'MLP', 'mlp_hidden_layer_sizes': (50, 50), 'mlp_activation': 'relu', 'mlp_solver': 'adam'}. Best is trial 19 with value: 0.7711609688544775.\u001b[0m\n",
            "/usr/local/lib/python3.7/dist-packages/optuna/distributions.py:502: UserWarning:\n",
            "\n",
            "Choices for a categorical distribution should be a tuple of None, bool, int, float and str for persistent storage but contains (50,) which is of type tuple.\n",
            "\n",
            "/usr/local/lib/python3.7/dist-packages/optuna/distributions.py:502: UserWarning:\n",
            "\n",
            "Choices for a categorical distribution should be a tuple of None, bool, int, float and str for persistent storage but contains (100,) which is of type tuple.\n",
            "\n",
            "/usr/local/lib/python3.7/dist-packages/optuna/distributions.py:502: UserWarning:\n",
            "\n",
            "Choices for a categorical distribution should be a tuple of None, bool, int, float and str for persistent storage but contains (50, 50) which is of type tuple.\n",
            "\n",
            "\u001b[32m[I 2022-09-02 16:04:52,259]\u001b[0m Trial 61 finished with value: 0.7711609688544775 and parameters: {'classifier': 'MLP', 'mlp_hidden_layer_sizes': (50, 50), 'mlp_activation': 'logistic', 'mlp_solver': 'adam'}. Best is trial 19 with value: 0.7711609688544775.\u001b[0m\n",
            "/usr/local/lib/python3.7/dist-packages/optuna/distributions.py:502: UserWarning:\n",
            "\n",
            "Choices for a categorical distribution should be a tuple of None, bool, int, float and str for persistent storage but contains (50,) which is of type tuple.\n",
            "\n",
            "/usr/local/lib/python3.7/dist-packages/optuna/distributions.py:502: UserWarning:\n",
            "\n",
            "Choices for a categorical distribution should be a tuple of None, bool, int, float and str for persistent storage but contains (100,) which is of type tuple.\n",
            "\n",
            "/usr/local/lib/python3.7/dist-packages/optuna/distributions.py:502: UserWarning:\n",
            "\n",
            "Choices for a categorical distribution should be a tuple of None, bool, int, float and str for persistent storage but contains (50, 50) which is of type tuple.\n",
            "\n",
            "\u001b[32m[I 2022-09-02 16:05:04,560]\u001b[0m Trial 62 finished with value: 0.7711609688544775 and parameters: {'classifier': 'MLP', 'mlp_hidden_layer_sizes': (50, 50), 'mlp_activation': 'logistic', 'mlp_solver': 'adam'}. Best is trial 19 with value: 0.7711609688544775.\u001b[0m\n",
            "/usr/local/lib/python3.7/dist-packages/optuna/distributions.py:502: UserWarning:\n",
            "\n",
            "Choices for a categorical distribution should be a tuple of None, bool, int, float and str for persistent storage but contains (50,) which is of type tuple.\n",
            "\n",
            "/usr/local/lib/python3.7/dist-packages/optuna/distributions.py:502: UserWarning:\n",
            "\n",
            "Choices for a categorical distribution should be a tuple of None, bool, int, float and str for persistent storage but contains (100,) which is of type tuple.\n",
            "\n",
            "/usr/local/lib/python3.7/dist-packages/optuna/distributions.py:502: UserWarning:\n",
            "\n",
            "Choices for a categorical distribution should be a tuple of None, bool, int, float and str for persistent storage but contains (50, 50) which is of type tuple.\n",
            "\n",
            "\u001b[32m[I 2022-09-02 16:05:16,771]\u001b[0m Trial 63 finished with value: 0.7711609688544775 and parameters: {'classifier': 'MLP', 'mlp_hidden_layer_sizes': (50, 50), 'mlp_activation': 'logistic', 'mlp_solver': 'adam'}. Best is trial 19 with value: 0.7711609688544775.\u001b[0m\n",
            "/usr/local/lib/python3.7/dist-packages/optuna/distributions.py:502: UserWarning:\n",
            "\n",
            "Choices for a categorical distribution should be a tuple of None, bool, int, float and str for persistent storage but contains (50,) which is of type tuple.\n",
            "\n",
            "/usr/local/lib/python3.7/dist-packages/optuna/distributions.py:502: UserWarning:\n",
            "\n",
            "Choices for a categorical distribution should be a tuple of None, bool, int, float and str for persistent storage but contains (100,) which is of type tuple.\n",
            "\n",
            "/usr/local/lib/python3.7/dist-packages/optuna/distributions.py:502: UserWarning:\n",
            "\n",
            "Choices for a categorical distribution should be a tuple of None, bool, int, float and str for persistent storage but contains (50, 50) which is of type tuple.\n",
            "\n",
            "\u001b[32m[I 2022-09-02 16:05:29,025]\u001b[0m Trial 64 finished with value: 0.7711609688544775 and parameters: {'classifier': 'MLP', 'mlp_hidden_layer_sizes': (50, 50), 'mlp_activation': 'logistic', 'mlp_solver': 'adam'}. Best is trial 19 with value: 0.7711609688544775.\u001b[0m\n",
            "/usr/local/lib/python3.7/dist-packages/optuna/distributions.py:502: UserWarning:\n",
            "\n",
            "Choices for a categorical distribution should be a tuple of None, bool, int, float and str for persistent storage but contains (50,) which is of type tuple.\n",
            "\n",
            "/usr/local/lib/python3.7/dist-packages/optuna/distributions.py:502: UserWarning:\n",
            "\n",
            "Choices for a categorical distribution should be a tuple of None, bool, int, float and str for persistent storage but contains (100,) which is of type tuple.\n",
            "\n",
            "/usr/local/lib/python3.7/dist-packages/optuna/distributions.py:502: UserWarning:\n",
            "\n",
            "Choices for a categorical distribution should be a tuple of None, bool, int, float and str for persistent storage but contains (50, 50) which is of type tuple.\n",
            "\n",
            "\u001b[32m[I 2022-09-02 16:05:41,414]\u001b[0m Trial 65 finished with value: 0.7711609688544775 and parameters: {'classifier': 'MLP', 'mlp_hidden_layer_sizes': (50, 50), 'mlp_activation': 'logistic', 'mlp_solver': 'adam'}. Best is trial 19 with value: 0.7711609688544775.\u001b[0m\n",
            "/usr/local/lib/python3.7/dist-packages/optuna/distributions.py:502: UserWarning:\n",
            "\n",
            "Choices for a categorical distribution should be a tuple of None, bool, int, float and str for persistent storage but contains (50,) which is of type tuple.\n",
            "\n",
            "/usr/local/lib/python3.7/dist-packages/optuna/distributions.py:502: UserWarning:\n",
            "\n",
            "Choices for a categorical distribution should be a tuple of None, bool, int, float and str for persistent storage but contains (100,) which is of type tuple.\n",
            "\n",
            "/usr/local/lib/python3.7/dist-packages/optuna/distributions.py:502: UserWarning:\n",
            "\n",
            "Choices for a categorical distribution should be a tuple of None, bool, int, float and str for persistent storage but contains (50, 50) which is of type tuple.\n",
            "\n",
            "\u001b[32m[I 2022-09-02 16:05:53,813]\u001b[0m Trial 66 finished with value: 0.7711609688544775 and parameters: {'classifier': 'MLP', 'mlp_hidden_layer_sizes': (50, 50), 'mlp_activation': 'logistic', 'mlp_solver': 'adam'}. Best is trial 19 with value: 0.7711609688544775.\u001b[0m\n",
            "/usr/local/lib/python3.7/dist-packages/optuna/distributions.py:502: UserWarning:\n",
            "\n",
            "Choices for a categorical distribution should be a tuple of None, bool, int, float and str for persistent storage but contains (50,) which is of type tuple.\n",
            "\n",
            "/usr/local/lib/python3.7/dist-packages/optuna/distributions.py:502: UserWarning:\n",
            "\n",
            "Choices for a categorical distribution should be a tuple of None, bool, int, float and str for persistent storage but contains (100,) which is of type tuple.\n",
            "\n",
            "/usr/local/lib/python3.7/dist-packages/optuna/distributions.py:502: UserWarning:\n",
            "\n",
            "Choices for a categorical distribution should be a tuple of None, bool, int, float and str for persistent storage but contains (50, 50) which is of type tuple.\n",
            "\n",
            "\u001b[32m[I 2022-09-02 16:06:02,059]\u001b[0m Trial 67 finished with value: 0.7406853851273875 and parameters: {'classifier': 'MLP', 'mlp_hidden_layer_sizes': (100,), 'mlp_activation': 'logistic', 'mlp_solver': 'adam'}. Best is trial 19 with value: 0.7711609688544775.\u001b[0m\n",
            "/usr/local/lib/python3.7/dist-packages/optuna/distributions.py:502: UserWarning:\n",
            "\n",
            "Choices for a categorical distribution should be a tuple of None, bool, int, float and str for persistent storage but contains (50,) which is of type tuple.\n",
            "\n",
            "/usr/local/lib/python3.7/dist-packages/optuna/distributions.py:502: UserWarning:\n",
            "\n",
            "Choices for a categorical distribution should be a tuple of None, bool, int, float and str for persistent storage but contains (100,) which is of type tuple.\n",
            "\n",
            "/usr/local/lib/python3.7/dist-packages/optuna/distributions.py:502: UserWarning:\n",
            "\n",
            "Choices for a categorical distribution should be a tuple of None, bool, int, float and str for persistent storage but contains (50, 50) which is of type tuple.\n",
            "\n",
            "\u001b[32m[I 2022-09-02 16:06:12,763]\u001b[0m Trial 68 finished with value: 0.7443542990735308 and parameters: {'classifier': 'MLP', 'mlp_hidden_layer_sizes': (50, 50), 'mlp_activation': 'tanh', 'mlp_solver': 'adam'}. Best is trial 19 with value: 0.7711609688544775.\u001b[0m\n",
            "/usr/local/lib/python3.7/dist-packages/optuna/distributions.py:502: UserWarning:\n",
            "\n",
            "Choices for a categorical distribution should be a tuple of None, bool, int, float and str for persistent storage but contains (50,) which is of type tuple.\n",
            "\n",
            "/usr/local/lib/python3.7/dist-packages/optuna/distributions.py:502: UserWarning:\n",
            "\n",
            "Choices for a categorical distribution should be a tuple of None, bool, int, float and str for persistent storage but contains (100,) which is of type tuple.\n",
            "\n",
            "/usr/local/lib/python3.7/dist-packages/optuna/distributions.py:502: UserWarning:\n",
            "\n",
            "Choices for a categorical distribution should be a tuple of None, bool, int, float and str for persistent storage but contains (50, 50) which is of type tuple.\n",
            "\n",
            "\u001b[32m[I 2022-09-02 16:06:13,959]\u001b[0m Trial 69 finished with value: 0.7415467133346342 and parameters: {'classifier': 'MLP', 'mlp_hidden_layer_sizes': (50,), 'mlp_activation': 'logistic', 'mlp_solver': 'sgd'}. Best is trial 19 with value: 0.7711609688544775.\u001b[0m\n",
            "/usr/local/lib/python3.7/dist-packages/optuna/distributions.py:502: UserWarning:\n",
            "\n",
            "Choices for a categorical distribution should be a tuple of None, bool, int, float and str for persistent storage but contains (50,) which is of type tuple.\n",
            "\n",
            "/usr/local/lib/python3.7/dist-packages/optuna/distributions.py:502: UserWarning:\n",
            "\n",
            "Choices for a categorical distribution should be a tuple of None, bool, int, float and str for persistent storage but contains (100,) which is of type tuple.\n",
            "\n",
            "/usr/local/lib/python3.7/dist-packages/optuna/distributions.py:502: UserWarning:\n",
            "\n",
            "Choices for a categorical distribution should be a tuple of None, bool, int, float and str for persistent storage but contains (50, 50) which is of type tuple.\n",
            "\n",
            "\u001b[32m[I 2022-09-02 16:06:26,161]\u001b[0m Trial 70 finished with value: 0.7711609688544775 and parameters: {'classifier': 'MLP', 'mlp_hidden_layer_sizes': (50, 50), 'mlp_activation': 'logistic', 'mlp_solver': 'adam'}. Best is trial 19 with value: 0.7711609688544775.\u001b[0m\n",
            "/usr/local/lib/python3.7/dist-packages/optuna/distributions.py:502: UserWarning:\n",
            "\n",
            "Choices for a categorical distribution should be a tuple of None, bool, int, float and str for persistent storage but contains (50,) which is of type tuple.\n",
            "\n",
            "/usr/local/lib/python3.7/dist-packages/optuna/distributions.py:502: UserWarning:\n",
            "\n",
            "Choices for a categorical distribution should be a tuple of None, bool, int, float and str for persistent storage but contains (100,) which is of type tuple.\n",
            "\n",
            "/usr/local/lib/python3.7/dist-packages/optuna/distributions.py:502: UserWarning:\n",
            "\n",
            "Choices for a categorical distribution should be a tuple of None, bool, int, float and str for persistent storage but contains (50, 50) which is of type tuple.\n",
            "\n",
            "\u001b[32m[I 2022-09-02 16:06:41,035]\u001b[0m Trial 71 finished with value: 0.7711609688544775 and parameters: {'classifier': 'MLP', 'mlp_hidden_layer_sizes': (50, 50), 'mlp_activation': 'logistic', 'mlp_solver': 'adam'}. Best is trial 19 with value: 0.7711609688544775.\u001b[0m\n",
            "/usr/local/lib/python3.7/dist-packages/optuna/distributions.py:502: UserWarning:\n",
            "\n",
            "Choices for a categorical distribution should be a tuple of None, bool, int, float and str for persistent storage but contains (50,) which is of type tuple.\n",
            "\n",
            "/usr/local/lib/python3.7/dist-packages/optuna/distributions.py:502: UserWarning:\n",
            "\n",
            "Choices for a categorical distribution should be a tuple of None, bool, int, float and str for persistent storage but contains (100,) which is of type tuple.\n",
            "\n",
            "/usr/local/lib/python3.7/dist-packages/optuna/distributions.py:502: UserWarning:\n",
            "\n",
            "Choices for a categorical distribution should be a tuple of None, bool, int, float and str for persistent storage but contains (50, 50) which is of type tuple.\n",
            "\n",
            "\u001b[32m[I 2022-09-02 16:06:53,092]\u001b[0m Trial 72 finished with value: 0.7711609688544775 and parameters: {'classifier': 'MLP', 'mlp_hidden_layer_sizes': (50, 50), 'mlp_activation': 'logistic', 'mlp_solver': 'adam'}. Best is trial 19 with value: 0.7711609688544775.\u001b[0m\n",
            "/usr/local/lib/python3.7/dist-packages/optuna/distributions.py:502: UserWarning:\n",
            "\n",
            "Choices for a categorical distribution should be a tuple of None, bool, int, float and str for persistent storage but contains (50,) which is of type tuple.\n",
            "\n",
            "/usr/local/lib/python3.7/dist-packages/optuna/distributions.py:502: UserWarning:\n",
            "\n",
            "Choices for a categorical distribution should be a tuple of None, bool, int, float and str for persistent storage but contains (100,) which is of type tuple.\n",
            "\n",
            "/usr/local/lib/python3.7/dist-packages/optuna/distributions.py:502: UserWarning:\n",
            "\n",
            "Choices for a categorical distribution should be a tuple of None, bool, int, float and str for persistent storage but contains (50, 50) which is of type tuple.\n",
            "\n",
            "\u001b[32m[I 2022-09-02 16:07:05,227]\u001b[0m Trial 73 finished with value: 0.7711609688544775 and parameters: {'classifier': 'MLP', 'mlp_hidden_layer_sizes': (50, 50), 'mlp_activation': 'logistic', 'mlp_solver': 'adam'}. Best is trial 19 with value: 0.7711609688544775.\u001b[0m\n",
            "/usr/local/lib/python3.7/dist-packages/optuna/distributions.py:502: UserWarning:\n",
            "\n",
            "Choices for a categorical distribution should be a tuple of None, bool, int, float and str for persistent storage but contains (50,) which is of type tuple.\n",
            "\n",
            "/usr/local/lib/python3.7/dist-packages/optuna/distributions.py:502: UserWarning:\n",
            "\n",
            "Choices for a categorical distribution should be a tuple of None, bool, int, float and str for persistent storage but contains (100,) which is of type tuple.\n",
            "\n",
            "/usr/local/lib/python3.7/dist-packages/optuna/distributions.py:502: UserWarning:\n",
            "\n",
            "Choices for a categorical distribution should be a tuple of None, bool, int, float and str for persistent storage but contains (50, 50) which is of type tuple.\n",
            "\n",
            "\u001b[32m[I 2022-09-02 16:07:17,086]\u001b[0m Trial 74 finished with value: 0.7711609688544775 and parameters: {'classifier': 'MLP', 'mlp_hidden_layer_sizes': (50, 50), 'mlp_activation': 'logistic', 'mlp_solver': 'adam'}. Best is trial 19 with value: 0.7711609688544775.\u001b[0m\n",
            "/usr/local/lib/python3.7/dist-packages/optuna/distributions.py:502: UserWarning:\n",
            "\n",
            "Choices for a categorical distribution should be a tuple of None, bool, int, float and str for persistent storage but contains (50,) which is of type tuple.\n",
            "\n",
            "/usr/local/lib/python3.7/dist-packages/optuna/distributions.py:502: UserWarning:\n",
            "\n",
            "Choices for a categorical distribution should be a tuple of None, bool, int, float and str for persistent storage but contains (100,) which is of type tuple.\n",
            "\n",
            "/usr/local/lib/python3.7/dist-packages/optuna/distributions.py:502: UserWarning:\n",
            "\n",
            "Choices for a categorical distribution should be a tuple of None, bool, int, float and str for persistent storage but contains (50, 50) which is of type tuple.\n",
            "\n",
            "\u001b[32m[I 2022-09-02 16:07:29,114]\u001b[0m Trial 75 finished with value: 0.7711609688544775 and parameters: {'classifier': 'MLP', 'mlp_hidden_layer_sizes': (50, 50), 'mlp_activation': 'logistic', 'mlp_solver': 'adam'}. Best is trial 19 with value: 0.7711609688544775.\u001b[0m\n",
            "/usr/local/lib/python3.7/dist-packages/optuna/distributions.py:502: UserWarning:\n",
            "\n",
            "Choices for a categorical distribution should be a tuple of None, bool, int, float and str for persistent storage but contains (50,) which is of type tuple.\n",
            "\n",
            "/usr/local/lib/python3.7/dist-packages/optuna/distributions.py:502: UserWarning:\n",
            "\n",
            "Choices for a categorical distribution should be a tuple of None, bool, int, float and str for persistent storage but contains (100,) which is of type tuple.\n",
            "\n",
            "/usr/local/lib/python3.7/dist-packages/optuna/distributions.py:502: UserWarning:\n",
            "\n",
            "Choices for a categorical distribution should be a tuple of None, bool, int, float and str for persistent storage but contains (50, 50) which is of type tuple.\n",
            "\n",
            "\u001b[32m[I 2022-09-02 16:07:32,055]\u001b[0m Trial 76 finished with value: 0.7532334067647636 and parameters: {'classifier': 'MLP', 'mlp_hidden_layer_sizes': (50, 50), 'mlp_activation': 'relu', 'mlp_solver': 'adam'}. Best is trial 19 with value: 0.7711609688544775.\u001b[0m\n",
            "/usr/local/lib/python3.7/dist-packages/optuna/distributions.py:502: UserWarning:\n",
            "\n",
            "Choices for a categorical distribution should be a tuple of None, bool, int, float and str for persistent storage but contains (50,) which is of type tuple.\n",
            "\n",
            "/usr/local/lib/python3.7/dist-packages/optuna/distributions.py:502: UserWarning:\n",
            "\n",
            "Choices for a categorical distribution should be a tuple of None, bool, int, float and str for persistent storage but contains (100,) which is of type tuple.\n",
            "\n",
            "/usr/local/lib/python3.7/dist-packages/optuna/distributions.py:502: UserWarning:\n",
            "\n",
            "Choices for a categorical distribution should be a tuple of None, bool, int, float and str for persistent storage but contains (50, 50) which is of type tuple.\n",
            "\n",
            "\u001b[32m[I 2022-09-02 16:07:44,028]\u001b[0m Trial 77 finished with value: 0.7711609688544775 and parameters: {'classifier': 'MLP', 'mlp_hidden_layer_sizes': (50, 50), 'mlp_activation': 'logistic', 'mlp_solver': 'adam'}. Best is trial 19 with value: 0.7711609688544775.\u001b[0m\n",
            "/usr/local/lib/python3.7/dist-packages/optuna/distributions.py:502: UserWarning:\n",
            "\n",
            "Choices for a categorical distribution should be a tuple of None, bool, int, float and str for persistent storage but contains (50,) which is of type tuple.\n",
            "\n",
            "/usr/local/lib/python3.7/dist-packages/optuna/distributions.py:502: UserWarning:\n",
            "\n",
            "Choices for a categorical distribution should be a tuple of None, bool, int, float and str for persistent storage but contains (100,) which is of type tuple.\n",
            "\n",
            "/usr/local/lib/python3.7/dist-packages/optuna/distributions.py:502: UserWarning:\n",
            "\n",
            "Choices for a categorical distribution should be a tuple of None, bool, int, float and str for persistent storage but contains (50, 50) which is of type tuple.\n",
            "\n",
            "\u001b[32m[I 2022-09-02 16:07:56,028]\u001b[0m Trial 78 finished with value: 0.7711609688544775 and parameters: {'classifier': 'MLP', 'mlp_hidden_layer_sizes': (50, 50), 'mlp_activation': 'logistic', 'mlp_solver': 'adam'}. Best is trial 19 with value: 0.7711609688544775.\u001b[0m\n",
            "/usr/local/lib/python3.7/dist-packages/optuna/distributions.py:502: UserWarning:\n",
            "\n",
            "Choices for a categorical distribution should be a tuple of None, bool, int, float and str for persistent storage but contains (50,) which is of type tuple.\n",
            "\n",
            "/usr/local/lib/python3.7/dist-packages/optuna/distributions.py:502: UserWarning:\n",
            "\n",
            "Choices for a categorical distribution should be a tuple of None, bool, int, float and str for persistent storage but contains (100,) which is of type tuple.\n",
            "\n",
            "/usr/local/lib/python3.7/dist-packages/optuna/distributions.py:502: UserWarning:\n",
            "\n",
            "Choices for a categorical distribution should be a tuple of None, bool, int, float and str for persistent storage but contains (50, 50) which is of type tuple.\n",
            "\n",
            "\u001b[32m[I 2022-09-02 16:08:03,960]\u001b[0m Trial 79 finished with value: 0.7406853851273875 and parameters: {'classifier': 'MLP', 'mlp_hidden_layer_sizes': (100,), 'mlp_activation': 'logistic', 'mlp_solver': 'adam'}. Best is trial 19 with value: 0.7711609688544775.\u001b[0m\n",
            "/usr/local/lib/python3.7/dist-packages/optuna/distributions.py:502: UserWarning:\n",
            "\n",
            "Choices for a categorical distribution should be a tuple of None, bool, int, float and str for persistent storage but contains (50,) which is of type tuple.\n",
            "\n",
            "/usr/local/lib/python3.7/dist-packages/optuna/distributions.py:502: UserWarning:\n",
            "\n",
            "Choices for a categorical distribution should be a tuple of None, bool, int, float and str for persistent storage but contains (100,) which is of type tuple.\n",
            "\n",
            "/usr/local/lib/python3.7/dist-packages/optuna/distributions.py:502: UserWarning:\n",
            "\n",
            "Choices for a categorical distribution should be a tuple of None, bool, int, float and str for persistent storage but contains (50, 50) which is of type tuple.\n",
            "\n",
            "\u001b[32m[I 2022-09-02 16:08:15,954]\u001b[0m Trial 80 finished with value: 0.7711609688544775 and parameters: {'classifier': 'MLP', 'mlp_hidden_layer_sizes': (50, 50), 'mlp_activation': 'logistic', 'mlp_solver': 'adam'}. Best is trial 19 with value: 0.7711609688544775.\u001b[0m\n",
            "/usr/local/lib/python3.7/dist-packages/optuna/distributions.py:502: UserWarning:\n",
            "\n",
            "Choices for a categorical distribution should be a tuple of None, bool, int, float and str for persistent storage but contains (50,) which is of type tuple.\n",
            "\n",
            "/usr/local/lib/python3.7/dist-packages/optuna/distributions.py:502: UserWarning:\n",
            "\n",
            "Choices for a categorical distribution should be a tuple of None, bool, int, float and str for persistent storage but contains (100,) which is of type tuple.\n",
            "\n",
            "/usr/local/lib/python3.7/dist-packages/optuna/distributions.py:502: UserWarning:\n",
            "\n",
            "Choices for a categorical distribution should be a tuple of None, bool, int, float and str for persistent storage but contains (50, 50) which is of type tuple.\n",
            "\n",
            "\u001b[32m[I 2022-09-02 16:08:28,048]\u001b[0m Trial 81 finished with value: 0.7711609688544775 and parameters: {'classifier': 'MLP', 'mlp_hidden_layer_sizes': (50, 50), 'mlp_activation': 'logistic', 'mlp_solver': 'adam'}. Best is trial 19 with value: 0.7711609688544775.\u001b[0m\n",
            "/usr/local/lib/python3.7/dist-packages/optuna/distributions.py:502: UserWarning:\n",
            "\n",
            "Choices for a categorical distribution should be a tuple of None, bool, int, float and str for persistent storage but contains (50,) which is of type tuple.\n",
            "\n",
            "/usr/local/lib/python3.7/dist-packages/optuna/distributions.py:502: UserWarning:\n",
            "\n",
            "Choices for a categorical distribution should be a tuple of None, bool, int, float and str for persistent storage but contains (100,) which is of type tuple.\n",
            "\n",
            "/usr/local/lib/python3.7/dist-packages/optuna/distributions.py:502: UserWarning:\n",
            "\n",
            "Choices for a categorical distribution should be a tuple of None, bool, int, float and str for persistent storage but contains (50, 50) which is of type tuple.\n",
            "\n",
            "\u001b[32m[I 2022-09-02 16:08:40,059]\u001b[0m Trial 82 finished with value: 0.7711609688544775 and parameters: {'classifier': 'MLP', 'mlp_hidden_layer_sizes': (50, 50), 'mlp_activation': 'logistic', 'mlp_solver': 'adam'}. Best is trial 19 with value: 0.7711609688544775.\u001b[0m\n",
            "/usr/local/lib/python3.7/dist-packages/optuna/distributions.py:502: UserWarning:\n",
            "\n",
            "Choices for a categorical distribution should be a tuple of None, bool, int, float and str for persistent storage but contains (50,) which is of type tuple.\n",
            "\n",
            "/usr/local/lib/python3.7/dist-packages/optuna/distributions.py:502: UserWarning:\n",
            "\n",
            "Choices for a categorical distribution should be a tuple of None, bool, int, float and str for persistent storage but contains (100,) which is of type tuple.\n",
            "\n",
            "/usr/local/lib/python3.7/dist-packages/optuna/distributions.py:502: UserWarning:\n",
            "\n",
            "Choices for a categorical distribution should be a tuple of None, bool, int, float and str for persistent storage but contains (50, 50) which is of type tuple.\n",
            "\n",
            "\u001b[32m[I 2022-09-02 16:08:54,718]\u001b[0m Trial 83 finished with value: 0.7711609688544775 and parameters: {'classifier': 'MLP', 'mlp_hidden_layer_sizes': (50, 50), 'mlp_activation': 'logistic', 'mlp_solver': 'adam'}. Best is trial 19 with value: 0.7711609688544775.\u001b[0m\n",
            "/usr/local/lib/python3.7/dist-packages/optuna/distributions.py:502: UserWarning:\n",
            "\n",
            "Choices for a categorical distribution should be a tuple of None, bool, int, float and str for persistent storage but contains (50,) which is of type tuple.\n",
            "\n",
            "/usr/local/lib/python3.7/dist-packages/optuna/distributions.py:502: UserWarning:\n",
            "\n",
            "Choices for a categorical distribution should be a tuple of None, bool, int, float and str for persistent storage but contains (100,) which is of type tuple.\n",
            "\n",
            "/usr/local/lib/python3.7/dist-packages/optuna/distributions.py:502: UserWarning:\n",
            "\n",
            "Choices for a categorical distribution should be a tuple of None, bool, int, float and str for persistent storage but contains (50, 50) which is of type tuple.\n",
            "\n",
            "\u001b[32m[I 2022-09-02 16:09:06,801]\u001b[0m Trial 84 finished with value: 0.7711609688544775 and parameters: {'classifier': 'MLP', 'mlp_hidden_layer_sizes': (50, 50), 'mlp_activation': 'logistic', 'mlp_solver': 'adam'}. Best is trial 19 with value: 0.7711609688544775.\u001b[0m\n",
            "/usr/local/lib/python3.7/dist-packages/optuna/distributions.py:502: UserWarning:\n",
            "\n",
            "Choices for a categorical distribution should be a tuple of None, bool, int, float and str for persistent storage but contains (50,) which is of type tuple.\n",
            "\n",
            "/usr/local/lib/python3.7/dist-packages/optuna/distributions.py:502: UserWarning:\n",
            "\n",
            "Choices for a categorical distribution should be a tuple of None, bool, int, float and str for persistent storage but contains (100,) which is of type tuple.\n",
            "\n",
            "/usr/local/lib/python3.7/dist-packages/optuna/distributions.py:502: UserWarning:\n",
            "\n",
            "Choices for a categorical distribution should be a tuple of None, bool, int, float and str for persistent storage but contains (50, 50) which is of type tuple.\n",
            "\n",
            "\u001b[32m[I 2022-09-02 16:09:18,808]\u001b[0m Trial 85 finished with value: 0.7711609688544775 and parameters: {'classifier': 'MLP', 'mlp_hidden_layer_sizes': (50, 50), 'mlp_activation': 'logistic', 'mlp_solver': 'adam'}. Best is trial 19 with value: 0.7711609688544775.\u001b[0m\n",
            "/usr/local/lib/python3.7/dist-packages/optuna/distributions.py:502: UserWarning:\n",
            "\n",
            "Choices for a categorical distribution should be a tuple of None, bool, int, float and str for persistent storage but contains (50,) which is of type tuple.\n",
            "\n",
            "/usr/local/lib/python3.7/dist-packages/optuna/distributions.py:502: UserWarning:\n",
            "\n",
            "Choices for a categorical distribution should be a tuple of None, bool, int, float and str for persistent storage but contains (100,) which is of type tuple.\n",
            "\n",
            "/usr/local/lib/python3.7/dist-packages/optuna/distributions.py:502: UserWarning:\n",
            "\n",
            "Choices for a categorical distribution should be a tuple of None, bool, int, float and str for persistent storage but contains (50, 50) which is of type tuple.\n",
            "\n",
            "\u001b[32m[I 2022-09-02 16:09:29,382]\u001b[0m Trial 86 finished with value: 0.7443542990735308 and parameters: {'classifier': 'MLP', 'mlp_hidden_layer_sizes': (50, 50), 'mlp_activation': 'tanh', 'mlp_solver': 'adam'}. Best is trial 19 with value: 0.7711609688544775.\u001b[0m\n",
            "/usr/local/lib/python3.7/dist-packages/optuna/distributions.py:502: UserWarning:\n",
            "\n",
            "Choices for a categorical distribution should be a tuple of None, bool, int, float and str for persistent storage but contains (50,) which is of type tuple.\n",
            "\n",
            "/usr/local/lib/python3.7/dist-packages/optuna/distributions.py:502: UserWarning:\n",
            "\n",
            "Choices for a categorical distribution should be a tuple of None, bool, int, float and str for persistent storage but contains (100,) which is of type tuple.\n",
            "\n",
            "/usr/local/lib/python3.7/dist-packages/optuna/distributions.py:502: UserWarning:\n",
            "\n",
            "Choices for a categorical distribution should be a tuple of None, bool, int, float and str for persistent storage but contains (50, 50) which is of type tuple.\n",
            "\n",
            "\u001b[32m[I 2022-09-02 16:09:30,719]\u001b[0m Trial 87 finished with value: 0.7415467133346342 and parameters: {'classifier': 'MLP', 'mlp_hidden_layer_sizes': (50, 50), 'mlp_activation': 'logistic', 'mlp_solver': 'sgd'}. Best is trial 19 with value: 0.7711609688544775.\u001b[0m\n",
            "/usr/local/lib/python3.7/dist-packages/optuna/distributions.py:502: UserWarning:\n",
            "\n",
            "Choices for a categorical distribution should be a tuple of None, bool, int, float and str for persistent storage but contains (50,) which is of type tuple.\n",
            "\n",
            "/usr/local/lib/python3.7/dist-packages/optuna/distributions.py:502: UserWarning:\n",
            "\n",
            "Choices for a categorical distribution should be a tuple of None, bool, int, float and str for persistent storage but contains (100,) which is of type tuple.\n",
            "\n",
            "/usr/local/lib/python3.7/dist-packages/optuna/distributions.py:502: UserWarning:\n",
            "\n",
            "Choices for a categorical distribution should be a tuple of None, bool, int, float and str for persistent storage but contains (50, 50) which is of type tuple.\n",
            "\n",
            "\u001b[32m[I 2022-09-02 16:09:42,846]\u001b[0m Trial 88 finished with value: 0.7711609688544775 and parameters: {'classifier': 'MLP', 'mlp_hidden_layer_sizes': (50, 50), 'mlp_activation': 'logistic', 'mlp_solver': 'adam'}. Best is trial 19 with value: 0.7711609688544775.\u001b[0m\n",
            "/usr/local/lib/python3.7/dist-packages/optuna/distributions.py:502: UserWarning:\n",
            "\n",
            "Choices for a categorical distribution should be a tuple of None, bool, int, float and str for persistent storage but contains (50,) which is of type tuple.\n",
            "\n",
            "/usr/local/lib/python3.7/dist-packages/optuna/distributions.py:502: UserWarning:\n",
            "\n",
            "Choices for a categorical distribution should be a tuple of None, bool, int, float and str for persistent storage but contains (100,) which is of type tuple.\n",
            "\n",
            "/usr/local/lib/python3.7/dist-packages/optuna/distributions.py:502: UserWarning:\n",
            "\n",
            "Choices for a categorical distribution should be a tuple of None, bool, int, float and str for persistent storage but contains (50, 50) which is of type tuple.\n",
            "\n",
            "\u001b[32m[I 2022-09-02 16:09:53,274]\u001b[0m Trial 89 finished with value: 0.7519070984357403 and parameters: {'classifier': 'MLP', 'mlp_hidden_layer_sizes': (50,), 'mlp_activation': 'logistic', 'mlp_solver': 'adam'}. Best is trial 19 with value: 0.7711609688544775.\u001b[0m\n",
            "/usr/local/lib/python3.7/dist-packages/optuna/distributions.py:502: UserWarning:\n",
            "\n",
            "Choices for a categorical distribution should be a tuple of None, bool, int, float and str for persistent storage but contains (50,) which is of type tuple.\n",
            "\n",
            "/usr/local/lib/python3.7/dist-packages/optuna/distributions.py:502: UserWarning:\n",
            "\n",
            "Choices for a categorical distribution should be a tuple of None, bool, int, float and str for persistent storage but contains (100,) which is of type tuple.\n",
            "\n",
            "/usr/local/lib/python3.7/dist-packages/optuna/distributions.py:502: UserWarning:\n",
            "\n",
            "Choices for a categorical distribution should be a tuple of None, bool, int, float and str for persistent storage but contains (50, 50) which is of type tuple.\n",
            "\n",
            "\u001b[32m[I 2022-09-02 16:10:05,549]\u001b[0m Trial 90 finished with value: 0.7711609688544775 and parameters: {'classifier': 'MLP', 'mlp_hidden_layer_sizes': (50, 50), 'mlp_activation': 'logistic', 'mlp_solver': 'adam'}. Best is trial 19 with value: 0.7711609688544775.\u001b[0m\n",
            "/usr/local/lib/python3.7/dist-packages/optuna/distributions.py:502: UserWarning:\n",
            "\n",
            "Choices for a categorical distribution should be a tuple of None, bool, int, float and str for persistent storage but contains (50,) which is of type tuple.\n",
            "\n",
            "/usr/local/lib/python3.7/dist-packages/optuna/distributions.py:502: UserWarning:\n",
            "\n",
            "Choices for a categorical distribution should be a tuple of None, bool, int, float and str for persistent storage but contains (100,) which is of type tuple.\n",
            "\n",
            "/usr/local/lib/python3.7/dist-packages/optuna/distributions.py:502: UserWarning:\n",
            "\n",
            "Choices for a categorical distribution should be a tuple of None, bool, int, float and str for persistent storage but contains (50, 50) which is of type tuple.\n",
            "\n",
            "\u001b[32m[I 2022-09-02 16:10:17,753]\u001b[0m Trial 91 finished with value: 0.7711609688544775 and parameters: {'classifier': 'MLP', 'mlp_hidden_layer_sizes': (50, 50), 'mlp_activation': 'logistic', 'mlp_solver': 'adam'}. Best is trial 19 with value: 0.7711609688544775.\u001b[0m\n",
            "/usr/local/lib/python3.7/dist-packages/optuna/distributions.py:502: UserWarning:\n",
            "\n",
            "Choices for a categorical distribution should be a tuple of None, bool, int, float and str for persistent storage but contains (50,) which is of type tuple.\n",
            "\n",
            "/usr/local/lib/python3.7/dist-packages/optuna/distributions.py:502: UserWarning:\n",
            "\n",
            "Choices for a categorical distribution should be a tuple of None, bool, int, float and str for persistent storage but contains (100,) which is of type tuple.\n",
            "\n",
            "/usr/local/lib/python3.7/dist-packages/optuna/distributions.py:502: UserWarning:\n",
            "\n",
            "Choices for a categorical distribution should be a tuple of None, bool, int, float and str for persistent storage but contains (50, 50) which is of type tuple.\n",
            "\n",
            "\u001b[32m[I 2022-09-02 16:10:29,852]\u001b[0m Trial 92 finished with value: 0.7711609688544775 and parameters: {'classifier': 'MLP', 'mlp_hidden_layer_sizes': (50, 50), 'mlp_activation': 'logistic', 'mlp_solver': 'adam'}. Best is trial 19 with value: 0.7711609688544775.\u001b[0m\n",
            "/usr/local/lib/python3.7/dist-packages/optuna/distributions.py:502: UserWarning:\n",
            "\n",
            "Choices for a categorical distribution should be a tuple of None, bool, int, float and str for persistent storage but contains (50,) which is of type tuple.\n",
            "\n",
            "/usr/local/lib/python3.7/dist-packages/optuna/distributions.py:502: UserWarning:\n",
            "\n",
            "Choices for a categorical distribution should be a tuple of None, bool, int, float and str for persistent storage but contains (100,) which is of type tuple.\n",
            "\n",
            "/usr/local/lib/python3.7/dist-packages/optuna/distributions.py:502: UserWarning:\n",
            "\n",
            "Choices for a categorical distribution should be a tuple of None, bool, int, float and str for persistent storage but contains (50, 50) which is of type tuple.\n",
            "\n",
            "\u001b[32m[I 2022-09-02 16:10:41,884]\u001b[0m Trial 93 finished with value: 0.7711609688544775 and parameters: {'classifier': 'MLP', 'mlp_hidden_layer_sizes': (50, 50), 'mlp_activation': 'logistic', 'mlp_solver': 'adam'}. Best is trial 19 with value: 0.7711609688544775.\u001b[0m\n",
            "/usr/local/lib/python3.7/dist-packages/optuna/distributions.py:502: UserWarning:\n",
            "\n",
            "Choices for a categorical distribution should be a tuple of None, bool, int, float and str for persistent storage but contains (50,) which is of type tuple.\n",
            "\n",
            "/usr/local/lib/python3.7/dist-packages/optuna/distributions.py:502: UserWarning:\n",
            "\n",
            "Choices for a categorical distribution should be a tuple of None, bool, int, float and str for persistent storage but contains (100,) which is of type tuple.\n",
            "\n",
            "/usr/local/lib/python3.7/dist-packages/optuna/distributions.py:502: UserWarning:\n",
            "\n",
            "Choices for a categorical distribution should be a tuple of None, bool, int, float and str for persistent storage but contains (50, 50) which is of type tuple.\n",
            "\n",
            "\u001b[32m[I 2022-09-02 16:10:53,985]\u001b[0m Trial 94 finished with value: 0.7711609688544775 and parameters: {'classifier': 'MLP', 'mlp_hidden_layer_sizes': (50, 50), 'mlp_activation': 'logistic', 'mlp_solver': 'adam'}. Best is trial 19 with value: 0.7711609688544775.\u001b[0m\n",
            "/usr/local/lib/python3.7/dist-packages/optuna/distributions.py:502: UserWarning:\n",
            "\n",
            "Choices for a categorical distribution should be a tuple of None, bool, int, float and str for persistent storage but contains (50,) which is of type tuple.\n",
            "\n",
            "/usr/local/lib/python3.7/dist-packages/optuna/distributions.py:502: UserWarning:\n",
            "\n",
            "Choices for a categorical distribution should be a tuple of None, bool, int, float and str for persistent storage but contains (100,) which is of type tuple.\n",
            "\n",
            "/usr/local/lib/python3.7/dist-packages/optuna/distributions.py:502: UserWarning:\n",
            "\n",
            "Choices for a categorical distribution should be a tuple of None, bool, int, float and str for persistent storage but contains (50, 50) which is of type tuple.\n",
            "\n",
            "\u001b[32m[I 2022-09-02 16:10:56,932]\u001b[0m Trial 95 finished with value: 0.7532334067647636 and parameters: {'classifier': 'MLP', 'mlp_hidden_layer_sizes': (50, 50), 'mlp_activation': 'relu', 'mlp_solver': 'adam'}. Best is trial 19 with value: 0.7711609688544775.\u001b[0m\n",
            "/usr/local/lib/python3.7/dist-packages/optuna/distributions.py:502: UserWarning:\n",
            "\n",
            "Choices for a categorical distribution should be a tuple of None, bool, int, float and str for persistent storage but contains (50,) which is of type tuple.\n",
            "\n",
            "/usr/local/lib/python3.7/dist-packages/optuna/distributions.py:502: UserWarning:\n",
            "\n",
            "Choices for a categorical distribution should be a tuple of None, bool, int, float and str for persistent storage but contains (100,) which is of type tuple.\n",
            "\n",
            "/usr/local/lib/python3.7/dist-packages/optuna/distributions.py:502: UserWarning:\n",
            "\n",
            "Choices for a categorical distribution should be a tuple of None, bool, int, float and str for persistent storage but contains (50, 50) which is of type tuple.\n",
            "\n",
            "\u001b[32m[I 2022-09-02 16:11:09,022]\u001b[0m Trial 96 finished with value: 0.7711609688544775 and parameters: {'classifier': 'MLP', 'mlp_hidden_layer_sizes': (50, 50), 'mlp_activation': 'logistic', 'mlp_solver': 'adam'}. Best is trial 19 with value: 0.7711609688544775.\u001b[0m\n",
            "/usr/local/lib/python3.7/dist-packages/optuna/distributions.py:502: UserWarning:\n",
            "\n",
            "Choices for a categorical distribution should be a tuple of None, bool, int, float and str for persistent storage but contains (50,) which is of type tuple.\n",
            "\n",
            "/usr/local/lib/python3.7/dist-packages/optuna/distributions.py:502: UserWarning:\n",
            "\n",
            "Choices for a categorical distribution should be a tuple of None, bool, int, float and str for persistent storage but contains (100,) which is of type tuple.\n",
            "\n",
            "/usr/local/lib/python3.7/dist-packages/optuna/distributions.py:502: UserWarning:\n",
            "\n",
            "Choices for a categorical distribution should be a tuple of None, bool, int, float and str for persistent storage but contains (50, 50) which is of type tuple.\n",
            "\n",
            "\u001b[32m[I 2022-09-02 16:11:20,963]\u001b[0m Trial 97 finished with value: 0.7711609688544775 and parameters: {'classifier': 'MLP', 'mlp_hidden_layer_sizes': (50, 50), 'mlp_activation': 'logistic', 'mlp_solver': 'adam'}. Best is trial 19 with value: 0.7711609688544775.\u001b[0m\n",
            "/usr/local/lib/python3.7/dist-packages/optuna/distributions.py:502: UserWarning:\n",
            "\n",
            "Choices for a categorical distribution should be a tuple of None, bool, int, float and str for persistent storage but contains (50,) which is of type tuple.\n",
            "\n",
            "/usr/local/lib/python3.7/dist-packages/optuna/distributions.py:502: UserWarning:\n",
            "\n",
            "Choices for a categorical distribution should be a tuple of None, bool, int, float and str for persistent storage but contains (100,) which is of type tuple.\n",
            "\n",
            "/usr/local/lib/python3.7/dist-packages/optuna/distributions.py:502: UserWarning:\n",
            "\n",
            "Choices for a categorical distribution should be a tuple of None, bool, int, float and str for persistent storage but contains (50, 50) which is of type tuple.\n",
            "\n",
            "\u001b[32m[I 2022-09-02 16:11:32,885]\u001b[0m Trial 98 finished with value: 0.7711609688544775 and parameters: {'classifier': 'MLP', 'mlp_hidden_layer_sizes': (50, 50), 'mlp_activation': 'logistic', 'mlp_solver': 'adam'}. Best is trial 19 with value: 0.7711609688544775.\u001b[0m\n",
            "/usr/local/lib/python3.7/dist-packages/optuna/distributions.py:502: UserWarning:\n",
            "\n",
            "Choices for a categorical distribution should be a tuple of None, bool, int, float and str for persistent storage but contains (50,) which is of type tuple.\n",
            "\n",
            "/usr/local/lib/python3.7/dist-packages/optuna/distributions.py:502: UserWarning:\n",
            "\n",
            "Choices for a categorical distribution should be a tuple of None, bool, int, float and str for persistent storage but contains (100,) which is of type tuple.\n",
            "\n",
            "/usr/local/lib/python3.7/dist-packages/optuna/distributions.py:502: UserWarning:\n",
            "\n",
            "Choices for a categorical distribution should be a tuple of None, bool, int, float and str for persistent storage but contains (50, 50) which is of type tuple.\n",
            "\n",
            "\u001b[32m[I 2022-09-02 16:11:44,925]\u001b[0m Trial 99 finished with value: 0.7711609688544775 and parameters: {'classifier': 'MLP', 'mlp_hidden_layer_sizes': (50, 50), 'mlp_activation': 'logistic', 'mlp_solver': 'adam'}. Best is trial 19 with value: 0.7711609688544775.\u001b[0m\n"
          ]
        }
      ]
    },
    {
      "cell_type": "code",
      "source": [
        "optuna.visualization.plot_optimization_history(study_mlp).show()"
      ],
      "metadata": {
        "colab": {
          "base_uri": "https://localhost:8080/",
          "height": 542
        },
        "outputId": "ca49ed3f-2713-4221-9f4e-c3bc7e331a08",
        "id": "nOeCt-iN6Ljy"
      },
      "execution_count": 119,
      "outputs": [
        {
          "output_type": "display_data",
          "data": {
            "text/html": [
              "<html>\n",
              "<head><meta charset=\"utf-8\" /></head>\n",
              "<body>\n",
              "    <div>            <script src=\"https://cdnjs.cloudflare.com/ajax/libs/mathjax/2.7.5/MathJax.js?config=TeX-AMS-MML_SVG\"></script><script type=\"text/javascript\">if (window.MathJax) {MathJax.Hub.Config({SVG: {font: \"STIX-Web\"}});}</script>                <script type=\"text/javascript\">window.PlotlyConfig = {MathJaxConfig: 'local'};</script>\n",
              "        <script src=\"https://cdn.plot.ly/plotly-2.8.3.min.js\"></script>                <div id=\"77024157-48e8-45fb-a009-272b55438ebb\" class=\"plotly-graph-div\" style=\"height:525px; width:100%;\"></div>            <script type=\"text/javascript\">                                    window.PLOTLYENV=window.PLOTLYENV || {};                                    if (document.getElementById(\"77024157-48e8-45fb-a009-272b55438ebb\")) {                    Plotly.newPlot(                        \"77024157-48e8-45fb-a009-272b55438ebb\",                        [{\"mode\":\"markers\",\"name\":\"Objective Value\",\"x\":[0,1,2,3,4,5,6,7,8,9,10,11,12,13,14,15,16,17,18,19,20,21,22,23,24,25,26,27,28,29,30,31,32,33,34,35,36,37,38,39,40,41,42,43,44,45,46,47,48,49,50,51,52,53,54,55,56,57,58,59,60,61,62,63,64,65,66,67,68,69,70,71,72,73,74,75,76,77,78,79,80,81,82,83,84,85,86,87,88,89,90,91,92,93,94,95,96,97,98,99],\"y\":[0.7414321194381616,0.7414321194381616,0.7415467133346342,0.7532334067647636,0.7415467133346342,0.7414321194381616,0.7414321194381616,0.7588588818503835,0.7415467133346342,0.7415467133346342,0.7469401641672903,0.7532334067647636,0.7469401641672903,0.7532334067647636,0.7532334067647636,0.7519070984357403,0.7532334067647636,0.7469401641672903,0.7415467133346342,0.7711609688544775,0.7711609688544775,0.7711609688544775,0.7711609688544775,0.7711609688544775,0.7711609688544775,0.7711609688544775,0.7415467133346342,0.7711609688544775,0.7711609688544775,0.7711609688544775,0.7711609688544775,0.7711609688544775,0.7711609688544775,0.7711609688544775,0.7711609688544775,0.7711609688544775,0.7415467133346342,0.7406853851273875,0.7711609688544775,0.7415467133346342,0.7406853851273875,0.7711609688544775,0.7711609688544775,0.7711609688544775,0.7443542990735308,0.7711609688544775,0.7711609688544775,0.7415467133346342,0.7406853851273875,0.7711609688544775,0.7711609688544775,0.7711609688544775,0.7711609688544775,0.7711609688544775,0.7519070984357403,0.7443542990735308,0.7532334067647636,0.7711609688544775,0.7415467133346342,0.7711609688544775,0.7532334067647636,0.7711609688544775,0.7711609688544775,0.7711609688544775,0.7711609688544775,0.7711609688544775,0.7711609688544775,0.7406853851273875,0.7443542990735308,0.7415467133346342,0.7711609688544775,0.7711609688544775,0.7711609688544775,0.7711609688544775,0.7711609688544775,0.7711609688544775,0.7532334067647636,0.7711609688544775,0.7711609688544775,0.7406853851273875,0.7711609688544775,0.7711609688544775,0.7711609688544775,0.7711609688544775,0.7711609688544775,0.7711609688544775,0.7443542990735308,0.7415467133346342,0.7711609688544775,0.7519070984357403,0.7711609688544775,0.7711609688544775,0.7711609688544775,0.7711609688544775,0.7711609688544775,0.7532334067647636,0.7711609688544775,0.7711609688544775,0.7711609688544775,0.7711609688544775],\"type\":\"scatter\"},{\"name\":\"Best Value\",\"x\":[0,1,2,3,4,5,6,7,8,9,10,11,12,13,14,15,16,17,18,19,20,21,22,23,24,25,26,27,28,29,30,31,32,33,34,35,36,37,38,39,40,41,42,43,44,45,46,47,48,49,50,51,52,53,54,55,56,57,58,59,60,61,62,63,64,65,66,67,68,69,70,71,72,73,74,75,76,77,78,79,80,81,82,83,84,85,86,87,88,89,90,91,92,93,94,95,96,97,98,99],\"y\":[0.7414321194381616,0.7414321194381616,0.7415467133346342,0.7532334067647636,0.7532334067647636,0.7532334067647636,0.7532334067647636,0.7588588818503835,0.7588588818503835,0.7588588818503835,0.7588588818503835,0.7588588818503835,0.7588588818503835,0.7588588818503835,0.7588588818503835,0.7588588818503835,0.7588588818503835,0.7588588818503835,0.7588588818503835,0.7711609688544775,0.7711609688544775,0.7711609688544775,0.7711609688544775,0.7711609688544775,0.7711609688544775,0.7711609688544775,0.7711609688544775,0.7711609688544775,0.7711609688544775,0.7711609688544775,0.7711609688544775,0.7711609688544775,0.7711609688544775,0.7711609688544775,0.7711609688544775,0.7711609688544775,0.7711609688544775,0.7711609688544775,0.7711609688544775,0.7711609688544775,0.7711609688544775,0.7711609688544775,0.7711609688544775,0.7711609688544775,0.7711609688544775,0.7711609688544775,0.7711609688544775,0.7711609688544775,0.7711609688544775,0.7711609688544775,0.7711609688544775,0.7711609688544775,0.7711609688544775,0.7711609688544775,0.7711609688544775,0.7711609688544775,0.7711609688544775,0.7711609688544775,0.7711609688544775,0.7711609688544775,0.7711609688544775,0.7711609688544775,0.7711609688544775,0.7711609688544775,0.7711609688544775,0.7711609688544775,0.7711609688544775,0.7711609688544775,0.7711609688544775,0.7711609688544775,0.7711609688544775,0.7711609688544775,0.7711609688544775,0.7711609688544775,0.7711609688544775,0.7711609688544775,0.7711609688544775,0.7711609688544775,0.7711609688544775,0.7711609688544775,0.7711609688544775,0.7711609688544775,0.7711609688544775,0.7711609688544775,0.7711609688544775,0.7711609688544775,0.7711609688544775,0.7711609688544775,0.7711609688544775,0.7711609688544775,0.7711609688544775,0.7711609688544775,0.7711609688544775,0.7711609688544775,0.7711609688544775,0.7711609688544775,0.7711609688544775,0.7711609688544775,0.7711609688544775,0.7711609688544775],\"type\":\"scatter\"}],                        {\"title\":{\"text\":\"Optimization History Plot\"},\"xaxis\":{\"title\":{\"text\":\"Trial\"}},\"yaxis\":{\"title\":{\"text\":\"Objective Value\"}},\"template\":{\"data\":{\"bar\":[{\"error_x\":{\"color\":\"#2a3f5f\"},\"error_y\":{\"color\":\"#2a3f5f\"},\"marker\":{\"line\":{\"color\":\"#E5ECF6\",\"width\":0.5},\"pattern\":{\"fillmode\":\"overlay\",\"size\":10,\"solidity\":0.2}},\"type\":\"bar\"}],\"barpolar\":[{\"marker\":{\"line\":{\"color\":\"#E5ECF6\",\"width\":0.5},\"pattern\":{\"fillmode\":\"overlay\",\"size\":10,\"solidity\":0.2}},\"type\":\"barpolar\"}],\"carpet\":[{\"aaxis\":{\"endlinecolor\":\"#2a3f5f\",\"gridcolor\":\"white\",\"linecolor\":\"white\",\"minorgridcolor\":\"white\",\"startlinecolor\":\"#2a3f5f\"},\"baxis\":{\"endlinecolor\":\"#2a3f5f\",\"gridcolor\":\"white\",\"linecolor\":\"white\",\"minorgridcolor\":\"white\",\"startlinecolor\":\"#2a3f5f\"},\"type\":\"carpet\"}],\"choropleth\":[{\"colorbar\":{\"outlinewidth\":0,\"ticks\":\"\"},\"type\":\"choropleth\"}],\"contour\":[{\"colorbar\":{\"outlinewidth\":0,\"ticks\":\"\"},\"colorscale\":[[0.0,\"#0d0887\"],[0.1111111111111111,\"#46039f\"],[0.2222222222222222,\"#7201a8\"],[0.3333333333333333,\"#9c179e\"],[0.4444444444444444,\"#bd3786\"],[0.5555555555555556,\"#d8576b\"],[0.6666666666666666,\"#ed7953\"],[0.7777777777777778,\"#fb9f3a\"],[0.8888888888888888,\"#fdca26\"],[1.0,\"#f0f921\"]],\"type\":\"contour\"}],\"contourcarpet\":[{\"colorbar\":{\"outlinewidth\":0,\"ticks\":\"\"},\"type\":\"contourcarpet\"}],\"heatmap\":[{\"colorbar\":{\"outlinewidth\":0,\"ticks\":\"\"},\"colorscale\":[[0.0,\"#0d0887\"],[0.1111111111111111,\"#46039f\"],[0.2222222222222222,\"#7201a8\"],[0.3333333333333333,\"#9c179e\"],[0.4444444444444444,\"#bd3786\"],[0.5555555555555556,\"#d8576b\"],[0.6666666666666666,\"#ed7953\"],[0.7777777777777778,\"#fb9f3a\"],[0.8888888888888888,\"#fdca26\"],[1.0,\"#f0f921\"]],\"type\":\"heatmap\"}],\"heatmapgl\":[{\"colorbar\":{\"outlinewidth\":0,\"ticks\":\"\"},\"colorscale\":[[0.0,\"#0d0887\"],[0.1111111111111111,\"#46039f\"],[0.2222222222222222,\"#7201a8\"],[0.3333333333333333,\"#9c179e\"],[0.4444444444444444,\"#bd3786\"],[0.5555555555555556,\"#d8576b\"],[0.6666666666666666,\"#ed7953\"],[0.7777777777777778,\"#fb9f3a\"],[0.8888888888888888,\"#fdca26\"],[1.0,\"#f0f921\"]],\"type\":\"heatmapgl\"}],\"histogram\":[{\"marker\":{\"pattern\":{\"fillmode\":\"overlay\",\"size\":10,\"solidity\":0.2}},\"type\":\"histogram\"}],\"histogram2d\":[{\"colorbar\":{\"outlinewidth\":0,\"ticks\":\"\"},\"colorscale\":[[0.0,\"#0d0887\"],[0.1111111111111111,\"#46039f\"],[0.2222222222222222,\"#7201a8\"],[0.3333333333333333,\"#9c179e\"],[0.4444444444444444,\"#bd3786\"],[0.5555555555555556,\"#d8576b\"],[0.6666666666666666,\"#ed7953\"],[0.7777777777777778,\"#fb9f3a\"],[0.8888888888888888,\"#fdca26\"],[1.0,\"#f0f921\"]],\"type\":\"histogram2d\"}],\"histogram2dcontour\":[{\"colorbar\":{\"outlinewidth\":0,\"ticks\":\"\"},\"colorscale\":[[0.0,\"#0d0887\"],[0.1111111111111111,\"#46039f\"],[0.2222222222222222,\"#7201a8\"],[0.3333333333333333,\"#9c179e\"],[0.4444444444444444,\"#bd3786\"],[0.5555555555555556,\"#d8576b\"],[0.6666666666666666,\"#ed7953\"],[0.7777777777777778,\"#fb9f3a\"],[0.8888888888888888,\"#fdca26\"],[1.0,\"#f0f921\"]],\"type\":\"histogram2dcontour\"}],\"mesh3d\":[{\"colorbar\":{\"outlinewidth\":0,\"ticks\":\"\"},\"type\":\"mesh3d\"}],\"parcoords\":[{\"line\":{\"colorbar\":{\"outlinewidth\":0,\"ticks\":\"\"}},\"type\":\"parcoords\"}],\"pie\":[{\"automargin\":true,\"type\":\"pie\"}],\"scatter\":[{\"marker\":{\"colorbar\":{\"outlinewidth\":0,\"ticks\":\"\"}},\"type\":\"scatter\"}],\"scatter3d\":[{\"line\":{\"colorbar\":{\"outlinewidth\":0,\"ticks\":\"\"}},\"marker\":{\"colorbar\":{\"outlinewidth\":0,\"ticks\":\"\"}},\"type\":\"scatter3d\"}],\"scattercarpet\":[{\"marker\":{\"colorbar\":{\"outlinewidth\":0,\"ticks\":\"\"}},\"type\":\"scattercarpet\"}],\"scattergeo\":[{\"marker\":{\"colorbar\":{\"outlinewidth\":0,\"ticks\":\"\"}},\"type\":\"scattergeo\"}],\"scattergl\":[{\"marker\":{\"colorbar\":{\"outlinewidth\":0,\"ticks\":\"\"}},\"type\":\"scattergl\"}],\"scattermapbox\":[{\"marker\":{\"colorbar\":{\"outlinewidth\":0,\"ticks\":\"\"}},\"type\":\"scattermapbox\"}],\"scatterpolar\":[{\"marker\":{\"colorbar\":{\"outlinewidth\":0,\"ticks\":\"\"}},\"type\":\"scatterpolar\"}],\"scatterpolargl\":[{\"marker\":{\"colorbar\":{\"outlinewidth\":0,\"ticks\":\"\"}},\"type\":\"scatterpolargl\"}],\"scatterternary\":[{\"marker\":{\"colorbar\":{\"outlinewidth\":0,\"ticks\":\"\"}},\"type\":\"scatterternary\"}],\"surface\":[{\"colorbar\":{\"outlinewidth\":0,\"ticks\":\"\"},\"colorscale\":[[0.0,\"#0d0887\"],[0.1111111111111111,\"#46039f\"],[0.2222222222222222,\"#7201a8\"],[0.3333333333333333,\"#9c179e\"],[0.4444444444444444,\"#bd3786\"],[0.5555555555555556,\"#d8576b\"],[0.6666666666666666,\"#ed7953\"],[0.7777777777777778,\"#fb9f3a\"],[0.8888888888888888,\"#fdca26\"],[1.0,\"#f0f921\"]],\"type\":\"surface\"}],\"table\":[{\"cells\":{\"fill\":{\"color\":\"#EBF0F8\"},\"line\":{\"color\":\"white\"}},\"header\":{\"fill\":{\"color\":\"#C8D4E3\"},\"line\":{\"color\":\"white\"}},\"type\":\"table\"}]},\"layout\":{\"annotationdefaults\":{\"arrowcolor\":\"#2a3f5f\",\"arrowhead\":0,\"arrowwidth\":1},\"autotypenumbers\":\"strict\",\"coloraxis\":{\"colorbar\":{\"outlinewidth\":0,\"ticks\":\"\"}},\"colorscale\":{\"diverging\":[[0,\"#8e0152\"],[0.1,\"#c51b7d\"],[0.2,\"#de77ae\"],[0.3,\"#f1b6da\"],[0.4,\"#fde0ef\"],[0.5,\"#f7f7f7\"],[0.6,\"#e6f5d0\"],[0.7,\"#b8e186\"],[0.8,\"#7fbc41\"],[0.9,\"#4d9221\"],[1,\"#276419\"]],\"sequential\":[[0.0,\"#0d0887\"],[0.1111111111111111,\"#46039f\"],[0.2222222222222222,\"#7201a8\"],[0.3333333333333333,\"#9c179e\"],[0.4444444444444444,\"#bd3786\"],[0.5555555555555556,\"#d8576b\"],[0.6666666666666666,\"#ed7953\"],[0.7777777777777778,\"#fb9f3a\"],[0.8888888888888888,\"#fdca26\"],[1.0,\"#f0f921\"]],\"sequentialminus\":[[0.0,\"#0d0887\"],[0.1111111111111111,\"#46039f\"],[0.2222222222222222,\"#7201a8\"],[0.3333333333333333,\"#9c179e\"],[0.4444444444444444,\"#bd3786\"],[0.5555555555555556,\"#d8576b\"],[0.6666666666666666,\"#ed7953\"],[0.7777777777777778,\"#fb9f3a\"],[0.8888888888888888,\"#fdca26\"],[1.0,\"#f0f921\"]]},\"colorway\":[\"#636efa\",\"#EF553B\",\"#00cc96\",\"#ab63fa\",\"#FFA15A\",\"#19d3f3\",\"#FF6692\",\"#B6E880\",\"#FF97FF\",\"#FECB52\"],\"font\":{\"color\":\"#2a3f5f\"},\"geo\":{\"bgcolor\":\"white\",\"lakecolor\":\"white\",\"landcolor\":\"#E5ECF6\",\"showlakes\":true,\"showland\":true,\"subunitcolor\":\"white\"},\"hoverlabel\":{\"align\":\"left\"},\"hovermode\":\"closest\",\"mapbox\":{\"style\":\"light\"},\"paper_bgcolor\":\"white\",\"plot_bgcolor\":\"#E5ECF6\",\"polar\":{\"angularaxis\":{\"gridcolor\":\"white\",\"linecolor\":\"white\",\"ticks\":\"\"},\"bgcolor\":\"#E5ECF6\",\"radialaxis\":{\"gridcolor\":\"white\",\"linecolor\":\"white\",\"ticks\":\"\"}},\"scene\":{\"xaxis\":{\"backgroundcolor\":\"#E5ECF6\",\"gridcolor\":\"white\",\"gridwidth\":2,\"linecolor\":\"white\",\"showbackground\":true,\"ticks\":\"\",\"zerolinecolor\":\"white\"},\"yaxis\":{\"backgroundcolor\":\"#E5ECF6\",\"gridcolor\":\"white\",\"gridwidth\":2,\"linecolor\":\"white\",\"showbackground\":true,\"ticks\":\"\",\"zerolinecolor\":\"white\"},\"zaxis\":{\"backgroundcolor\":\"#E5ECF6\",\"gridcolor\":\"white\",\"gridwidth\":2,\"linecolor\":\"white\",\"showbackground\":true,\"ticks\":\"\",\"zerolinecolor\":\"white\"}},\"shapedefaults\":{\"line\":{\"color\":\"#2a3f5f\"}},\"ternary\":{\"aaxis\":{\"gridcolor\":\"white\",\"linecolor\":\"white\",\"ticks\":\"\"},\"baxis\":{\"gridcolor\":\"white\",\"linecolor\":\"white\",\"ticks\":\"\"},\"bgcolor\":\"#E5ECF6\",\"caxis\":{\"gridcolor\":\"white\",\"linecolor\":\"white\",\"ticks\":\"\"}},\"title\":{\"x\":0.05},\"xaxis\":{\"automargin\":true,\"gridcolor\":\"white\",\"linecolor\":\"white\",\"ticks\":\"\",\"title\":{\"standoff\":15},\"zerolinecolor\":\"white\",\"zerolinewidth\":2},\"yaxis\":{\"automargin\":true,\"gridcolor\":\"white\",\"linecolor\":\"white\",\"ticks\":\"\",\"title\":{\"standoff\":15},\"zerolinecolor\":\"white\",\"zerolinewidth\":2}}}},                        {\"responsive\": true}                    ).then(function(){\n",
              "                            \n",
              "var gd = document.getElementById('77024157-48e8-45fb-a009-272b55438ebb');\n",
              "var x = new MutationObserver(function (mutations, observer) {{\n",
              "        var display = window.getComputedStyle(gd).display;\n",
              "        if (!display || display === 'none') {{\n",
              "            console.log([gd, 'removed!']);\n",
              "            Plotly.purge(gd);\n",
              "            observer.disconnect();\n",
              "        }}\n",
              "}});\n",
              "\n",
              "// Listen for the removal of the full notebook cells\n",
              "var notebookContainer = gd.closest('#notebook-container');\n",
              "if (notebookContainer) {{\n",
              "    x.observe(notebookContainer, {childList: true});\n",
              "}}\n",
              "\n",
              "// Listen for the clearing of the current output cell\n",
              "var outputEl = gd.closest('.output');\n",
              "if (outputEl) {{\n",
              "    x.observe(outputEl, {childList: true});\n",
              "}}\n",
              "\n",
              "                        })                };                            </script>        </div>\n",
              "</body>\n",
              "</html>"
            ]
          },
          "metadata": {}
        }
      ]
    },
    {
      "cell_type": "markdown",
      "source": [
        "Dessa vez, vemos que a otimização convergiu mais cedo e vários modelos atingiram o mesmo resultado."
      ],
      "metadata": {
        "id": "tU7nQT066Ljy"
      }
    },
    {
      "cell_type": "code",
      "source": [
        "print(f\"Melhor trial : \\n{study_mlp.best_trial}\")\n",
        "\n",
        "print(f\"Melhor valor do f-score : \\n{study_mlp.best_value}\")\n",
        "\n",
        "print(f\"Melhores parâmetros : \\n{study_mlp.best_params}\")"
      ],
      "metadata": {
        "colab": {
          "base_uri": "https://localhost:8080/"
        },
        "outputId": "70c96221-4661-409b-ee02-a8a762e5fd98",
        "id": "_4zMhnmp6Ljy"
      },
      "execution_count": 120,
      "outputs": [
        {
          "output_type": "stream",
          "name": "stdout",
          "text": [
            "Melhor trial : \n",
            "FrozenTrial(number=19, values=[0.7711609688544775], datetime_start=datetime.datetime(2022, 9, 2, 15, 57, 15, 679566), datetime_complete=datetime.datetime(2022, 9, 2, 15, 57, 29, 382377), params={'classifier': 'MLP', 'mlp_hidden_layer_sizes': (50, 50), 'mlp_activation': 'logistic', 'mlp_solver': 'adam'}, distributions={'classifier': CategoricalDistribution(choices=('MLP',)), 'mlp_hidden_layer_sizes': CategoricalDistribution(choices=((50,), (100,), (50, 50))), 'mlp_activation': CategoricalDistribution(choices=('logistic', 'tanh', 'relu')), 'mlp_solver': CategoricalDistribution(choices=('adam', 'sgd'))}, user_attrs={}, system_attrs={}, intermediate_values={}, trial_id=19, state=TrialState.COMPLETE, value=None)\n",
            "Melhor valor do f-score : \n",
            "0.7711609688544775\n",
            "Melhores parâmetros : \n",
            "{'classifier': 'MLP', 'mlp_hidden_layer_sizes': (50, 50), 'mlp_activation': 'logistic', 'mlp_solver': 'adam'}\n"
          ]
        }
      ]
    },
    {
      "cell_type": "code",
      "source": [
        "best_mlp = MLPClassifier(\n",
        "      random_state=RANDOM_STATE, \n",
        "      max_iter=EPOCHS,\n",
        "      hidden_layer_sizes=study_mlp.best_params['mlp_hidden_layer_sizes'], \n",
        "      activation=study_mlp.best_params['mlp_activation'], \n",
        "      solver=study_mlp.best_params['mlp_solver']\n",
        ")\n",
        "best_mlp.fit(X_train, y_train)"
      ],
      "metadata": {
        "colab": {
          "base_uri": "https://localhost:8080/"
        },
        "outputId": "cc68f019-8582-4ae1-aec2-eb4465162889",
        "id": "rnWXe3U_6Ljz"
      },
      "execution_count": 121,
      "outputs": [
        {
          "output_type": "execute_result",
          "data": {
            "text/plain": [
              "MLPClassifier(activation='logistic', hidden_layer_sizes=(50, 50), max_iter=1000,\n",
              "              random_state=42)"
            ]
          },
          "metadata": {},
          "execution_count": 121
        }
      ]
    },
    {
      "cell_type": "code",
      "source": [
        "y_pred = best_mlp.predict(X_val)\n",
        "y_proba = best_mlp.predict_proba(X_val)\n",
        "eval_metrics(y_val, y_pred, y_proba)"
      ],
      "metadata": {
        "colab": {
          "base_uri": "https://localhost:8080/"
        },
        "id": "H2eT6B29_S-Z",
        "outputId": "eaf5d430-6bed-408d-b6eb-259c769b9508"
      },
      "execution_count": 122,
      "outputs": [
        {
          "output_type": "execute_result",
          "data": {
            "text/plain": [
              "(0.8184187662901824, 0.7551745475171453, 0.7711609688544775)"
            ]
          },
          "metadata": {},
          "execution_count": 122
        }
      ]
    },
    {
      "cell_type": "markdown",
      "source": [
        "### Optuna Study RF"
      ],
      "metadata": {
        "id": "TIvQV4_2NbHT"
      }
    },
    {
      "cell_type": "markdown",
      "source": [
        "Primeiramente, observamos a relação entre os atributos escolhidos e o valor da métrica de avaliação"
      ],
      "metadata": {
        "id": "17xVYG1lNrTE"
      }
    },
    {
      "cell_type": "code",
      "source": [
        "optuna.visualization.plot_slice(study, params=['rf_n_estimators', 'rf_max_depth', 'rf_criterion'])"
      ],
      "metadata": {
        "colab": {
          "base_uri": "https://localhost:8080/",
          "height": 542
        },
        "id": "paFyYK3ENeOL",
        "outputId": "419edc85-4d4b-49e7-986c-5e7ffb18707c"
      },
      "execution_count": 126,
      "outputs": [
        {
          "output_type": "display_data",
          "data": {
            "text/html": [
              "<html>\n",
              "<head><meta charset=\"utf-8\" /></head>\n",
              "<body>\n",
              "    <div>            <script src=\"https://cdnjs.cloudflare.com/ajax/libs/mathjax/2.7.5/MathJax.js?config=TeX-AMS-MML_SVG\"></script><script type=\"text/javascript\">if (window.MathJax) {MathJax.Hub.Config({SVG: {font: \"STIX-Web\"}});}</script>                <script type=\"text/javascript\">window.PlotlyConfig = {MathJaxConfig: 'local'};</script>\n",
              "        <script src=\"https://cdn.plot.ly/plotly-2.8.3.min.js\"></script>                <div id=\"8ea68321-6b0f-4040-b8b7-ae91a8046b50\" class=\"plotly-graph-div\" style=\"height:525px; width:100%;\"></div>            <script type=\"text/javascript\">                                    window.PLOTLYENV=window.PLOTLYENV || {};                                    if (document.getElementById(\"8ea68321-6b0f-4040-b8b7-ae91a8046b50\")) {                    Plotly.newPlot(                        \"8ea68321-6b0f-4040-b8b7-ae91a8046b50\",                        [{\"marker\":{\"color\":[10,16,20,28,47,58,75,96],\"colorbar\":{\"title\":{\"text\":\"Trial\"},\"x\":1.0,\"xpad\":40},\"colorscale\":[[0.0,\"rgb(247,251,255)\"],[0.125,\"rgb(222,235,247)\"],[0.25,\"rgb(198,219,239)\"],[0.375,\"rgb(158,202,225)\"],[0.5,\"rgb(107,174,214)\"],[0.625,\"rgb(66,146,198)\"],[0.75,\"rgb(33,113,181)\"],[0.875,\"rgb(8,81,156)\"],[1.0,\"rgb(8,48,107)\"]],\"line\":{\"color\":\"Grey\",\"width\":0.5},\"showscale\":true},\"mode\":\"markers\",\"showlegend\":false,\"x\":[\"entropy\",\"gini\",\"gini\",\"entropy\",\"entropy\",\"gini\",\"entropy\",\"gini\"],\"y\":[0.7798625966459564,0.782089051359182,0.7415467133346342,0.7415467133346342,0.7885381471828041,0.7787189641647454,0.7809857914637548,0.7848341453317761],\"type\":\"scatter\",\"xaxis\":\"x\",\"yaxis\":\"y\"},{\"marker\":{\"color\":[10,16,20,28,47,58,75,96],\"colorbar\":{\"title\":{\"text\":\"Trial\"},\"x\":1.0,\"xpad\":40},\"colorscale\":[[0.0,\"rgb(247,251,255)\"],[0.125,\"rgb(222,235,247)\"],[0.25,\"rgb(198,219,239)\"],[0.375,\"rgb(158,202,225)\"],[0.5,\"rgb(107,174,214)\"],[0.625,\"rgb(66,146,198)\"],[0.75,\"rgb(33,113,181)\"],[0.875,\"rgb(8,81,156)\"],[1.0,\"rgb(8,48,107)\"]],\"line\":{\"color\":\"Grey\",\"width\":0.5},\"showscale\":false},\"mode\":\"markers\",\"showlegend\":false,\"x\":[18,30,2,2,32,15,18,25],\"y\":[0.7798625966459564,0.782089051359182,0.7415467133346342,0.7415467133346342,0.7885381471828041,0.7787189641647454,0.7809857914637548,0.7848341453317761],\"type\":\"scatter\",\"xaxis\":\"x2\",\"yaxis\":\"y2\"},{\"marker\":{\"color\":[10,16,20,28,47,58,75,96],\"colorbar\":{\"title\":{\"text\":\"Trial\"},\"x\":1.0,\"xpad\":40},\"colorscale\":[[0.0,\"rgb(247,251,255)\"],[0.125,\"rgb(222,235,247)\"],[0.25,\"rgb(198,219,239)\"],[0.375,\"rgb(158,202,225)\"],[0.5,\"rgb(107,174,214)\"],[0.625,\"rgb(66,146,198)\"],[0.75,\"rgb(33,113,181)\"],[0.875,\"rgb(8,81,156)\"],[1.0,\"rgb(8,48,107)\"]],\"line\":{\"color\":\"Grey\",\"width\":0.5},\"showscale\":false},\"mode\":\"markers\",\"showlegend\":false,\"x\":[481,916,108,834,91,502,720,326],\"y\":[0.7798625966459564,0.782089051359182,0.7415467133346342,0.7415467133346342,0.7885381471828041,0.7787189641647454,0.7809857914637548,0.7848341453317761],\"type\":\"scatter\",\"xaxis\":\"x3\",\"yaxis\":\"y3\"}],                        {\"template\":{\"data\":{\"bar\":[{\"error_x\":{\"color\":\"#2a3f5f\"},\"error_y\":{\"color\":\"#2a3f5f\"},\"marker\":{\"line\":{\"color\":\"#E5ECF6\",\"width\":0.5},\"pattern\":{\"fillmode\":\"overlay\",\"size\":10,\"solidity\":0.2}},\"type\":\"bar\"}],\"barpolar\":[{\"marker\":{\"line\":{\"color\":\"#E5ECF6\",\"width\":0.5},\"pattern\":{\"fillmode\":\"overlay\",\"size\":10,\"solidity\":0.2}},\"type\":\"barpolar\"}],\"carpet\":[{\"aaxis\":{\"endlinecolor\":\"#2a3f5f\",\"gridcolor\":\"white\",\"linecolor\":\"white\",\"minorgridcolor\":\"white\",\"startlinecolor\":\"#2a3f5f\"},\"baxis\":{\"endlinecolor\":\"#2a3f5f\",\"gridcolor\":\"white\",\"linecolor\":\"white\",\"minorgridcolor\":\"white\",\"startlinecolor\":\"#2a3f5f\"},\"type\":\"carpet\"}],\"choropleth\":[{\"colorbar\":{\"outlinewidth\":0,\"ticks\":\"\"},\"type\":\"choropleth\"}],\"contour\":[{\"colorbar\":{\"outlinewidth\":0,\"ticks\":\"\"},\"colorscale\":[[0.0,\"#0d0887\"],[0.1111111111111111,\"#46039f\"],[0.2222222222222222,\"#7201a8\"],[0.3333333333333333,\"#9c179e\"],[0.4444444444444444,\"#bd3786\"],[0.5555555555555556,\"#d8576b\"],[0.6666666666666666,\"#ed7953\"],[0.7777777777777778,\"#fb9f3a\"],[0.8888888888888888,\"#fdca26\"],[1.0,\"#f0f921\"]],\"type\":\"contour\"}],\"contourcarpet\":[{\"colorbar\":{\"outlinewidth\":0,\"ticks\":\"\"},\"type\":\"contourcarpet\"}],\"heatmap\":[{\"colorbar\":{\"outlinewidth\":0,\"ticks\":\"\"},\"colorscale\":[[0.0,\"#0d0887\"],[0.1111111111111111,\"#46039f\"],[0.2222222222222222,\"#7201a8\"],[0.3333333333333333,\"#9c179e\"],[0.4444444444444444,\"#bd3786\"],[0.5555555555555556,\"#d8576b\"],[0.6666666666666666,\"#ed7953\"],[0.7777777777777778,\"#fb9f3a\"],[0.8888888888888888,\"#fdca26\"],[1.0,\"#f0f921\"]],\"type\":\"heatmap\"}],\"heatmapgl\":[{\"colorbar\":{\"outlinewidth\":0,\"ticks\":\"\"},\"colorscale\":[[0.0,\"#0d0887\"],[0.1111111111111111,\"#46039f\"],[0.2222222222222222,\"#7201a8\"],[0.3333333333333333,\"#9c179e\"],[0.4444444444444444,\"#bd3786\"],[0.5555555555555556,\"#d8576b\"],[0.6666666666666666,\"#ed7953\"],[0.7777777777777778,\"#fb9f3a\"],[0.8888888888888888,\"#fdca26\"],[1.0,\"#f0f921\"]],\"type\":\"heatmapgl\"}],\"histogram\":[{\"marker\":{\"pattern\":{\"fillmode\":\"overlay\",\"size\":10,\"solidity\":0.2}},\"type\":\"histogram\"}],\"histogram2d\":[{\"colorbar\":{\"outlinewidth\":0,\"ticks\":\"\"},\"colorscale\":[[0.0,\"#0d0887\"],[0.1111111111111111,\"#46039f\"],[0.2222222222222222,\"#7201a8\"],[0.3333333333333333,\"#9c179e\"],[0.4444444444444444,\"#bd3786\"],[0.5555555555555556,\"#d8576b\"],[0.6666666666666666,\"#ed7953\"],[0.7777777777777778,\"#fb9f3a\"],[0.8888888888888888,\"#fdca26\"],[1.0,\"#f0f921\"]],\"type\":\"histogram2d\"}],\"histogram2dcontour\":[{\"colorbar\":{\"outlinewidth\":0,\"ticks\":\"\"},\"colorscale\":[[0.0,\"#0d0887\"],[0.1111111111111111,\"#46039f\"],[0.2222222222222222,\"#7201a8\"],[0.3333333333333333,\"#9c179e\"],[0.4444444444444444,\"#bd3786\"],[0.5555555555555556,\"#d8576b\"],[0.6666666666666666,\"#ed7953\"],[0.7777777777777778,\"#fb9f3a\"],[0.8888888888888888,\"#fdca26\"],[1.0,\"#f0f921\"]],\"type\":\"histogram2dcontour\"}],\"mesh3d\":[{\"colorbar\":{\"outlinewidth\":0,\"ticks\":\"\"},\"type\":\"mesh3d\"}],\"parcoords\":[{\"line\":{\"colorbar\":{\"outlinewidth\":0,\"ticks\":\"\"}},\"type\":\"parcoords\"}],\"pie\":[{\"automargin\":true,\"type\":\"pie\"}],\"scatter\":[{\"marker\":{\"colorbar\":{\"outlinewidth\":0,\"ticks\":\"\"}},\"type\":\"scatter\"}],\"scatter3d\":[{\"line\":{\"colorbar\":{\"outlinewidth\":0,\"ticks\":\"\"}},\"marker\":{\"colorbar\":{\"outlinewidth\":0,\"ticks\":\"\"}},\"type\":\"scatter3d\"}],\"scattercarpet\":[{\"marker\":{\"colorbar\":{\"outlinewidth\":0,\"ticks\":\"\"}},\"type\":\"scattercarpet\"}],\"scattergeo\":[{\"marker\":{\"colorbar\":{\"outlinewidth\":0,\"ticks\":\"\"}},\"type\":\"scattergeo\"}],\"scattergl\":[{\"marker\":{\"colorbar\":{\"outlinewidth\":0,\"ticks\":\"\"}},\"type\":\"scattergl\"}],\"scattermapbox\":[{\"marker\":{\"colorbar\":{\"outlinewidth\":0,\"ticks\":\"\"}},\"type\":\"scattermapbox\"}],\"scatterpolar\":[{\"marker\":{\"colorbar\":{\"outlinewidth\":0,\"ticks\":\"\"}},\"type\":\"scatterpolar\"}],\"scatterpolargl\":[{\"marker\":{\"colorbar\":{\"outlinewidth\":0,\"ticks\":\"\"}},\"type\":\"scatterpolargl\"}],\"scatterternary\":[{\"marker\":{\"colorbar\":{\"outlinewidth\":0,\"ticks\":\"\"}},\"type\":\"scatterternary\"}],\"surface\":[{\"colorbar\":{\"outlinewidth\":0,\"ticks\":\"\"},\"colorscale\":[[0.0,\"#0d0887\"],[0.1111111111111111,\"#46039f\"],[0.2222222222222222,\"#7201a8\"],[0.3333333333333333,\"#9c179e\"],[0.4444444444444444,\"#bd3786\"],[0.5555555555555556,\"#d8576b\"],[0.6666666666666666,\"#ed7953\"],[0.7777777777777778,\"#fb9f3a\"],[0.8888888888888888,\"#fdca26\"],[1.0,\"#f0f921\"]],\"type\":\"surface\"}],\"table\":[{\"cells\":{\"fill\":{\"color\":\"#EBF0F8\"},\"line\":{\"color\":\"white\"}},\"header\":{\"fill\":{\"color\":\"#C8D4E3\"},\"line\":{\"color\":\"white\"}},\"type\":\"table\"}]},\"layout\":{\"annotationdefaults\":{\"arrowcolor\":\"#2a3f5f\",\"arrowhead\":0,\"arrowwidth\":1},\"autotypenumbers\":\"strict\",\"coloraxis\":{\"colorbar\":{\"outlinewidth\":0,\"ticks\":\"\"}},\"colorscale\":{\"diverging\":[[0,\"#8e0152\"],[0.1,\"#c51b7d\"],[0.2,\"#de77ae\"],[0.3,\"#f1b6da\"],[0.4,\"#fde0ef\"],[0.5,\"#f7f7f7\"],[0.6,\"#e6f5d0\"],[0.7,\"#b8e186\"],[0.8,\"#7fbc41\"],[0.9,\"#4d9221\"],[1,\"#276419\"]],\"sequential\":[[0.0,\"#0d0887\"],[0.1111111111111111,\"#46039f\"],[0.2222222222222222,\"#7201a8\"],[0.3333333333333333,\"#9c179e\"],[0.4444444444444444,\"#bd3786\"],[0.5555555555555556,\"#d8576b\"],[0.6666666666666666,\"#ed7953\"],[0.7777777777777778,\"#fb9f3a\"],[0.8888888888888888,\"#fdca26\"],[1.0,\"#f0f921\"]],\"sequentialminus\":[[0.0,\"#0d0887\"],[0.1111111111111111,\"#46039f\"],[0.2222222222222222,\"#7201a8\"],[0.3333333333333333,\"#9c179e\"],[0.4444444444444444,\"#bd3786\"],[0.5555555555555556,\"#d8576b\"],[0.6666666666666666,\"#ed7953\"],[0.7777777777777778,\"#fb9f3a\"],[0.8888888888888888,\"#fdca26\"],[1.0,\"#f0f921\"]]},\"colorway\":[\"#636efa\",\"#EF553B\",\"#00cc96\",\"#ab63fa\",\"#FFA15A\",\"#19d3f3\",\"#FF6692\",\"#B6E880\",\"#FF97FF\",\"#FECB52\"],\"font\":{\"color\":\"#2a3f5f\"},\"geo\":{\"bgcolor\":\"white\",\"lakecolor\":\"white\",\"landcolor\":\"#E5ECF6\",\"showlakes\":true,\"showland\":true,\"subunitcolor\":\"white\"},\"hoverlabel\":{\"align\":\"left\"},\"hovermode\":\"closest\",\"mapbox\":{\"style\":\"light\"},\"paper_bgcolor\":\"white\",\"plot_bgcolor\":\"#E5ECF6\",\"polar\":{\"angularaxis\":{\"gridcolor\":\"white\",\"linecolor\":\"white\",\"ticks\":\"\"},\"bgcolor\":\"#E5ECF6\",\"radialaxis\":{\"gridcolor\":\"white\",\"linecolor\":\"white\",\"ticks\":\"\"}},\"scene\":{\"xaxis\":{\"backgroundcolor\":\"#E5ECF6\",\"gridcolor\":\"white\",\"gridwidth\":2,\"linecolor\":\"white\",\"showbackground\":true,\"ticks\":\"\",\"zerolinecolor\":\"white\"},\"yaxis\":{\"backgroundcolor\":\"#E5ECF6\",\"gridcolor\":\"white\",\"gridwidth\":2,\"linecolor\":\"white\",\"showbackground\":true,\"ticks\":\"\",\"zerolinecolor\":\"white\"},\"zaxis\":{\"backgroundcolor\":\"#E5ECF6\",\"gridcolor\":\"white\",\"gridwidth\":2,\"linecolor\":\"white\",\"showbackground\":true,\"ticks\":\"\",\"zerolinecolor\":\"white\"}},\"shapedefaults\":{\"line\":{\"color\":\"#2a3f5f\"}},\"ternary\":{\"aaxis\":{\"gridcolor\":\"white\",\"linecolor\":\"white\",\"ticks\":\"\"},\"baxis\":{\"gridcolor\":\"white\",\"linecolor\":\"white\",\"ticks\":\"\"},\"bgcolor\":\"#E5ECF6\",\"caxis\":{\"gridcolor\":\"white\",\"linecolor\":\"white\",\"ticks\":\"\"}},\"title\":{\"x\":0.05},\"xaxis\":{\"automargin\":true,\"gridcolor\":\"white\",\"linecolor\":\"white\",\"ticks\":\"\",\"title\":{\"standoff\":15},\"zerolinecolor\":\"white\",\"zerolinewidth\":2},\"yaxis\":{\"automargin\":true,\"gridcolor\":\"white\",\"linecolor\":\"white\",\"ticks\":\"\",\"title\":{\"standoff\":15},\"zerolinecolor\":\"white\",\"zerolinewidth\":2}}},\"xaxis\":{\"anchor\":\"y\",\"domain\":[0.0,0.2888888888888889],\"title\":{\"text\":\"rf_criterion\"}},\"yaxis\":{\"anchor\":\"x\",\"domain\":[0.0,1.0],\"title\":{\"text\":\"Objective Value\"}},\"xaxis2\":{\"anchor\":\"y2\",\"domain\":[0.35555555555555557,0.6444444444444445],\"title\":{\"text\":\"rf_max_depth\"}},\"yaxis2\":{\"anchor\":\"x2\",\"domain\":[0.0,1.0],\"matches\":\"y\",\"showticklabels\":false},\"xaxis3\":{\"anchor\":\"y3\",\"domain\":[0.7111111111111111,1.0],\"title\":{\"text\":\"rf_n_estimators\"}},\"yaxis3\":{\"anchor\":\"x3\",\"domain\":[0.0,1.0],\"matches\":\"y\",\"showticklabels\":false},\"title\":{\"text\":\"Slice Plot\"}},                        {\"responsive\": true}                    ).then(function(){\n",
              "                            \n",
              "var gd = document.getElementById('8ea68321-6b0f-4040-b8b7-ae91a8046b50');\n",
              "var x = new MutationObserver(function (mutations, observer) {{\n",
              "        var display = window.getComputedStyle(gd).display;\n",
              "        if (!display || display === 'none') {{\n",
              "            console.log([gd, 'removed!']);\n",
              "            Plotly.purge(gd);\n",
              "            observer.disconnect();\n",
              "        }}\n",
              "}});\n",
              "\n",
              "// Listen for the removal of the full notebook cells\n",
              "var notebookContainer = gd.closest('#notebook-container');\n",
              "if (notebookContainer) {{\n",
              "    x.observe(notebookContainer, {childList: true});\n",
              "}}\n",
              "\n",
              "// Listen for the clearing of the current output cell\n",
              "var outputEl = gd.closest('.output');\n",
              "if (outputEl) {{\n",
              "    x.observe(outputEl, {childList: true});\n",
              "}}\n",
              "\n",
              "                        })                };                            </script>        </div>\n",
              "</body>\n",
              "</html>"
            ]
          },
          "metadata": {}
        }
      ]
    },
    {
      "cell_type": "markdown",
      "source": [
        "Vemos que max_depth mais alto (entre 15 e 32) e n_estimators mais alto (entre 400 e 1000) resultam em melhores modelos, enquanto para criterion não parece haver muita diferença"
      ],
      "metadata": {
        "id": "tu6gRYjdNxge"
      }
    },
    {
      "cell_type": "code",
      "source": [
        "# Passo 1. Definindo função de objetivo a ser maximizada\n",
        "def objective_rf(trial):\n",
        "  classifier = trial.suggest_categorical(\"classifier\", [\"RF\"])\n",
        "  \n",
        "  # Passo 2. Definindo conjunto de hiperparâmetros\n",
        "  rf_n_estimators = trial.suggest_int(\"rf_n_estimators\", 400, 1000)\n",
        "  rf_criterion = trial.suggest_categorical('rf_criterion', ['gini', 'entropy'])\n",
        "  rf_max_depth = trial.suggest_int(\"rf_max_depth\", 15, 32)\n",
        "  clf = RandomForestClassifier(\n",
        "      random_state=RANDOM_STATE, \n",
        "      max_depth=rf_max_depth, \n",
        "      n_estimators=rf_n_estimators, \n",
        "      criterion=rf_criterion\n",
        "  )\n",
        "  \n",
        "  # Treinando o modelo\n",
        "  clf.fit(X_train, y_train)\n",
        "\n",
        "  # Usando conjunto de validação para obter métricas\n",
        "  y_pred = clf.predict(X_val)\n",
        "  y_proba = clf.predict_proba(X_val)\n",
        "\n",
        "  # Passo 3: Métrica otimizada\n",
        "  acc, auroc, f1 = eval_metrics(y_val, y_pred, y_proba)\n",
        "  return f1"
      ],
      "metadata": {
        "id": "lzKiS0lvNqJQ"
      },
      "execution_count": 127,
      "outputs": []
    },
    {
      "cell_type": "code",
      "source": [
        "# Passo 4: Rodar o estudo\n",
        "study_rf = optuna.create_study(direction=\"maximize\")\n",
        "study_rf.optimize(objective_rf, n_trials=100)"
      ],
      "metadata": {
        "colab": {
          "base_uri": "https://localhost:8080/"
        },
        "outputId": "d91215c0-7a89-4141-89a2-061b0ba32ab8",
        "id": "fuO4Im1SNqJQ"
      },
      "execution_count": 128,
      "outputs": [
        {
          "output_type": "stream",
          "name": "stderr",
          "text": [
            "\u001b[32m[I 2022-09-02 17:22:48,686]\u001b[0m A new study created in memory with name: no-name-518130e5-543b-4289-9de3-9d96c66bc9bf\u001b[0m\n",
            "\u001b[32m[I 2022-09-02 17:23:05,153]\u001b[0m Trial 0 finished with value: 0.7815703277959272 and parameters: {'classifier': 'RF', 'rf_n_estimators': 783, 'rf_criterion': 'entropy', 'rf_max_depth': 23}. Best is trial 0 with value: 0.7815703277959272.\u001b[0m\n",
            "\u001b[32m[I 2022-09-02 17:23:15,349]\u001b[0m Trial 1 finished with value: 0.7781256981188157 and parameters: {'classifier': 'RF', 'rf_n_estimators': 506, 'rf_criterion': 'entropy', 'rf_max_depth': 17}. Best is trial 0 with value: 0.7815703277959272.\u001b[0m\n",
            "\u001b[32m[I 2022-09-02 17:23:30,622]\u001b[0m Trial 2 finished with value: 0.7815703277959272 and parameters: {'classifier': 'RF', 'rf_n_estimators': 720, 'rf_criterion': 'entropy', 'rf_max_depth': 24}. Best is trial 0 with value: 0.7815703277959272.\u001b[0m\n",
            "\u001b[32m[I 2022-09-02 17:23:37,355]\u001b[0m Trial 3 finished with value: 0.7809142465597833 and parameters: {'classifier': 'RF', 'rf_n_estimators': 403, 'rf_criterion': 'gini', 'rf_max_depth': 26}. Best is trial 0 with value: 0.7815703277959272.\u001b[0m\n",
            "\u001b[32m[I 2022-09-02 17:23:46,514]\u001b[0m Trial 4 finished with value: 0.7815012403620846 and parameters: {'classifier': 'RF', 'rf_n_estimators': 553, 'rf_criterion': 'gini', 'rf_max_depth': 29}. Best is trial 0 with value: 0.7815703277959272.\u001b[0m\n",
            "\u001b[32m[I 2022-09-02 17:23:56,133]\u001b[0m Trial 5 finished with value: 0.7758448260605746 and parameters: {'classifier': 'RF', 'rf_n_estimators': 625, 'rf_criterion': 'gini', 'rf_max_depth': 15}. Best is trial 0 with value: 0.7815703277959272.\u001b[0m\n",
            "\u001b[32m[I 2022-09-02 17:24:06,352]\u001b[0m Trial 6 finished with value: 0.7842376955244468 and parameters: {'classifier': 'RF', 'rf_n_estimators': 619, 'rf_criterion': 'gini', 'rf_max_depth': 25}. Best is trial 6 with value: 0.7842376955244468.\u001b[0m\n",
            "\u001b[32m[I 2022-09-02 17:24:13,696]\u001b[0m Trial 7 finished with value: 0.782089051359182 and parameters: {'classifier': 'RF', 'rf_n_estimators': 450, 'rf_criterion': 'gini', 'rf_max_depth': 20}. Best is trial 6 with value: 0.7842376955244468.\u001b[0m\n",
            "\u001b[32m[I 2022-09-02 17:24:27,599]\u001b[0m Trial 8 finished with value: 0.782089051359182 and parameters: {'classifier': 'RF', 'rf_n_estimators': 838, 'rf_criterion': 'gini', 'rf_max_depth': 28}. Best is trial 6 with value: 0.7842376955244468.\u001b[0m\n",
            "\u001b[32m[I 2022-09-02 17:24:41,445]\u001b[0m Trial 9 finished with value: 0.782089051359182 and parameters: {'classifier': 'RF', 'rf_n_estimators': 839, 'rf_criterion': 'gini', 'rf_max_depth': 28}. Best is trial 6 with value: 0.7842376955244468.\u001b[0m\n",
            "\u001b[32m[I 2022-09-02 17:24:55,030]\u001b[0m Trial 10 finished with value: 0.7809857914637548 and parameters: {'classifier': 'RF', 'rf_n_estimators': 645, 'rf_criterion': 'entropy', 'rf_max_depth': 32}. Best is trial 6 with value: 0.7842376955244468.\u001b[0m\n",
            "\u001b[32m[I 2022-09-02 17:25:10,603]\u001b[0m Trial 11 finished with value: 0.7809857914637548 and parameters: {'classifier': 'RF', 'rf_n_estimators': 954, 'rf_criterion': 'gini', 'rf_max_depth': 19}. Best is trial 6 with value: 0.7842376955244468.\u001b[0m\n",
            "\u001b[32m[I 2022-09-02 17:25:17,422]\u001b[0m Trial 12 finished with value: 0.7848341453317761 and parameters: {'classifier': 'RF', 'rf_n_estimators': 407, 'rf_criterion': 'gini', 'rf_max_depth': 21}. Best is trial 12 with value: 0.7848341453317761.\u001b[0m\n",
            "\u001b[32m[I 2022-09-02 17:25:26,598]\u001b[0m Trial 13 finished with value: 0.7882939479155949 and parameters: {'classifier': 'RF', 'rf_n_estimators': 555, 'rf_criterion': 'gini', 'rf_max_depth': 22}. Best is trial 13 with value: 0.7882939479155949.\u001b[0m\n",
            "\u001b[32m[I 2022-09-02 17:25:35,053]\u001b[0m Trial 14 finished with value: 0.7842376955244468 and parameters: {'classifier': 'RF', 'rf_n_estimators': 513, 'rf_criterion': 'gini', 'rf_max_depth': 21}. Best is trial 13 with value: 0.7882939479155949.\u001b[0m\n",
            "\u001b[32m[I 2022-09-02 17:25:41,841]\u001b[0m Trial 15 finished with value: 0.7899487106191736 and parameters: {'classifier': 'RF', 'rf_n_estimators': 409, 'rf_criterion': 'gini', 'rf_max_depth': 22}. Best is trial 15 with value: 0.7899487106191736.\u001b[0m\n",
            "\u001b[32m[I 2022-09-02 17:25:51,067]\u001b[0m Trial 16 finished with value: 0.782089051359182 and parameters: {'classifier': 'RF', 'rf_n_estimators': 556, 'rf_criterion': 'gini', 'rf_max_depth': 23}. Best is trial 15 with value: 0.7899487106191736.\u001b[0m\n",
            "\u001b[32m[I 2022-09-02 17:25:58,891]\u001b[0m Trial 17 finished with value: 0.7831728625746309 and parameters: {'classifier': 'RF', 'rf_n_estimators': 480, 'rf_criterion': 'gini', 'rf_max_depth': 18}. Best is trial 15 with value: 0.7899487106191736.\u001b[0m\n",
            "\u001b[32m[I 2022-09-02 17:26:11,277]\u001b[0m Trial 18 finished with value: 0.7798191456441737 and parameters: {'classifier': 'RF', 'rf_n_estimators': 589, 'rf_criterion': 'entropy', 'rf_max_depth': 22}. Best is trial 15 with value: 0.7899487106191736.\u001b[0m\n",
            "\u001b[32m[I 2022-09-02 17:26:22,269]\u001b[0m Trial 19 finished with value: 0.7815703277959272 and parameters: {'classifier': 'RF', 'rf_n_estimators': 687, 'rf_criterion': 'gini', 'rf_max_depth': 16}. Best is trial 15 with value: 0.7899487106191736.\u001b[0m\n",
            "\u001b[32m[I 2022-09-02 17:26:29,855]\u001b[0m Trial 20 finished with value: 0.7826776956198876 and parameters: {'classifier': 'RF', 'rf_n_estimators': 458, 'rf_criterion': 'gini', 'rf_max_depth': 26}. Best is trial 15 with value: 0.7899487106191736.\u001b[0m\n",
            "\u001b[32m[I 2022-09-02 17:26:36,787]\u001b[0m Trial 21 finished with value: 0.7831728625746309 and parameters: {'classifier': 'RF', 'rf_n_estimators': 417, 'rf_criterion': 'gini', 'rf_max_depth': 21}. Best is trial 15 with value: 0.7899487106191736.\u001b[0m\n",
            "\u001b[32m[I 2022-09-02 17:26:43,647]\u001b[0m Trial 22 finished with value: 0.782089051359182 and parameters: {'classifier': 'RF', 'rf_n_estimators': 415, 'rf_criterion': 'gini', 'rf_max_depth': 20}. Best is trial 15 with value: 0.7899487106191736.\u001b[0m\n",
            "\u001b[32m[I 2022-09-02 17:26:52,474]\u001b[0m Trial 23 finished with value: 0.7870871909303964 and parameters: {'classifier': 'RF', 'rf_n_estimators': 539, 'rf_criterion': 'gini', 'rf_max_depth': 22}. Best is trial 15 with value: 0.7899487106191736.\u001b[0m\n",
            "\u001b[32m[I 2022-09-02 17:27:01,300]\u001b[0m Trial 24 finished with value: 0.7848341453317761 and parameters: {'classifier': 'RF', 'rf_n_estimators': 535, 'rf_criterion': 'gini', 'rf_max_depth': 24}. Best is trial 15 with value: 0.7899487106191736.\u001b[0m\n",
            "\u001b[32m[I 2022-09-02 17:27:10,797]\u001b[0m Trial 25 finished with value: 0.7809857914637548 and parameters: {'classifier': 'RF', 'rf_n_estimators': 581, 'rf_criterion': 'gini', 'rf_max_depth': 19}. Best is trial 15 with value: 0.7899487106191736.\u001b[0m\n",
            "\u001b[32m[I 2022-09-02 17:27:21,074]\u001b[0m Trial 26 finished with value: 0.7809857914637548 and parameters: {'classifier': 'RF', 'rf_n_estimators': 485, 'rf_criterion': 'entropy', 'rf_max_depth': 22}. Best is trial 15 with value: 0.7899487106191736.\u001b[0m\n",
            "\u001b[32m[I 2022-09-02 17:27:33,089]\u001b[0m Trial 27 finished with value: 0.7848341453317761 and parameters: {'classifier': 'RF', 'rf_n_estimators': 721, 'rf_criterion': 'gini', 'rf_max_depth': 25}. Best is trial 15 with value: 0.7899487106191736.\u001b[0m\n",
            "\u001b[32m[I 2022-09-02 17:27:43,925]\u001b[0m Trial 28 finished with value: 0.7815012403620846 and parameters: {'classifier': 'RF', 'rf_n_estimators': 676, 'rf_criterion': 'gini', 'rf_max_depth': 18}. Best is trial 15 with value: 0.7899487106191736.\u001b[0m\n",
            "\u001b[32m[I 2022-09-02 17:27:53,597]\u001b[0m Trial 29 finished with value: 0.7809857914637548 and parameters: {'classifier': 'RF', 'rf_n_estimators': 458, 'rf_criterion': 'entropy', 'rf_max_depth': 22}. Best is trial 15 with value: 0.7899487106191736.\u001b[0m\n",
            "\u001b[32m[I 2022-09-02 17:28:06,521]\u001b[0m Trial 30 finished with value: 0.782089051359182 and parameters: {'classifier': 'RF', 'rf_n_estimators': 784, 'rf_criterion': 'gini', 'rf_max_depth': 23}. Best is trial 15 with value: 0.7899487106191736.\u001b[0m\n",
            "\u001b[32m[I 2022-09-02 17:28:18,721]\u001b[0m Trial 31 finished with value: 0.7848341453317761 and parameters: {'classifier': 'RF', 'rf_n_estimators': 739, 'rf_criterion': 'gini', 'rf_max_depth': 25}. Best is trial 15 with value: 0.7899487106191736.\u001b[0m\n",
            "\u001b[32m[I 2022-09-02 17:28:31,105]\u001b[0m Trial 32 finished with value: 0.7832671894693408 and parameters: {'classifier': 'RF', 'rf_n_estimators': 749, 'rf_criterion': 'gini', 'rf_max_depth': 26}. Best is trial 15 with value: 0.7899487106191736.\u001b[0m\n",
            "\u001b[32m[I 2022-09-02 17:28:42,101]\u001b[0m Trial 33 finished with value: 0.7826776956198876 and parameters: {'classifier': 'RF', 'rf_n_estimators': 658, 'rf_criterion': 'gini', 'rf_max_depth': 24}. Best is trial 15 with value: 0.7899487106191736.\u001b[0m\n",
            "\u001b[32m[I 2022-09-02 17:28:59,077]\u001b[0m Trial 34 finished with value: 0.7815703277959272 and parameters: {'classifier': 'RF', 'rf_n_estimators': 789, 'rf_criterion': 'entropy', 'rf_max_depth': 23}. Best is trial 15 with value: 0.7899487106191736.\u001b[0m\n",
            "\u001b[32m[I 2022-09-02 17:29:07,543]\u001b[0m Trial 35 finished with value: 0.7860297120644247 and parameters: {'classifier': 'RF', 'rf_n_estimators': 514, 'rf_criterion': 'gini', 'rf_max_depth': 25}. Best is trial 15 with value: 0.7899487106191736.\u001b[0m\n",
            "\u001b[32m[I 2022-09-02 17:29:16,306]\u001b[0m Trial 36 finished with value: 0.7870871909303964 and parameters: {'classifier': 'RF', 'rf_n_estimators': 523, 'rf_criterion': 'gini', 'rf_max_depth': 28}. Best is trial 15 with value: 0.7899487106191736.\u001b[0m\n",
            "\u001b[32m[I 2022-09-02 17:29:26,375]\u001b[0m Trial 37 finished with value: 0.7837654762132548 and parameters: {'classifier': 'RF', 'rf_n_estimators': 596, 'rf_criterion': 'gini', 'rf_max_depth': 30}. Best is trial 15 with value: 0.7899487106191736.\u001b[0m\n",
            "\u001b[32m[I 2022-09-02 17:29:38,120]\u001b[0m Trial 38 finished with value: 0.7832671894693408 and parameters: {'classifier': 'RF', 'rf_n_estimators': 553, 'rf_criterion': 'entropy', 'rf_max_depth': 32}. Best is trial 15 with value: 0.7899487106191736.\u001b[0m\n",
            "\u001b[32m[I 2022-09-02 17:29:46,488]\u001b[0m Trial 39 finished with value: 0.782089051359182 and parameters: {'classifier': 'RF', 'rf_n_estimators': 500, 'rf_criterion': 'gini', 'rf_max_depth': 27}. Best is trial 15 with value: 0.7899487106191736.\u001b[0m\n",
            "\u001b[32m[I 2022-09-02 17:29:53,868]\u001b[0m Trial 40 finished with value: 0.7832671894693408 and parameters: {'classifier': 'RF', 'rf_n_estimators': 445, 'rf_criterion': 'gini', 'rf_max_depth': 20}. Best is trial 15 with value: 0.7899487106191736.\u001b[0m\n",
            "\u001b[32m[I 2022-09-02 17:30:02,651]\u001b[0m Trial 41 finished with value: 0.7848341453317761 and parameters: {'classifier': 'RF', 'rf_n_estimators': 523, 'rf_criterion': 'gini', 'rf_max_depth': 30}. Best is trial 15 with value: 0.7899487106191736.\u001b[0m\n",
            "\u001b[32m[I 2022-09-02 17:30:12,986]\u001b[0m Trial 42 finished with value: 0.7826776956198876 and parameters: {'classifier': 'RF', 'rf_n_estimators': 616, 'rf_criterion': 'gini', 'rf_max_depth': 27}. Best is trial 15 with value: 0.7899487106191736.\u001b[0m\n",
            "\u001b[32m[I 2022-09-02 17:30:22,404]\u001b[0m Trial 43 finished with value: 0.7837654762132548 and parameters: {'classifier': 'RF', 'rf_n_estimators': 561, 'rf_criterion': 'gini', 'rf_max_depth': 24}. Best is trial 15 with value: 0.7899487106191736.\u001b[0m\n",
            "\u001b[32m[I 2022-09-02 17:30:30,731]\u001b[0m Trial 44 finished with value: 0.7804020693960121 and parameters: {'classifier': 'RF', 'rf_n_estimators': 492, 'rf_criterion': 'gini', 'rf_max_depth': 29}. Best is trial 15 with value: 0.7899487106191736.\u001b[0m\n",
            "\u001b[32m[I 2022-09-02 17:30:39,637]\u001b[0m Trial 45 finished with value: 0.7870871909303964 and parameters: {'classifier': 'RF', 'rf_n_estimators': 531, 'rf_criterion': 'gini', 'rf_max_depth': 22}. Best is trial 15 with value: 0.7899487106191736.\u001b[0m\n",
            "\u001b[32m[I 2022-09-02 17:30:46,904]\u001b[0m Trial 46 finished with value: 0.7899487106191736 and parameters: {'classifier': 'RF', 'rf_n_estimators': 438, 'rf_criterion': 'gini', 'rf_max_depth': 22}. Best is trial 15 with value: 0.7899487106191736.\u001b[0m\n",
            "\u001b[32m[I 2022-09-02 17:30:53,990]\u001b[0m Trial 47 finished with value: 0.7825810997331559 and parameters: {'classifier': 'RF', 'rf_n_estimators': 428, 'rf_criterion': 'gini', 'rf_max_depth': 21}. Best is trial 15 with value: 0.7899487106191736.\u001b[0m\n",
            "\u001b[32m[I 2022-09-02 17:31:01,716]\u001b[0m Trial 48 finished with value: 0.782089051359182 and parameters: {'classifier': 'RF', 'rf_n_estimators': 474, 'rf_criterion': 'gini', 'rf_max_depth': 20}. Best is trial 15 with value: 0.7899487106191736.\u001b[0m\n",
            "\u001b[32m[I 2022-09-02 17:31:10,779]\u001b[0m Trial 49 finished with value: 0.7815703277959272 and parameters: {'classifier': 'RF', 'rf_n_estimators': 433, 'rf_criterion': 'entropy', 'rf_max_depth': 22}. Best is trial 15 with value: 0.7899487106191736.\u001b[0m\n",
            "\u001b[32m[I 2022-09-02 17:31:25,836]\u001b[0m Trial 50 finished with value: 0.7809857914637548 and parameters: {'classifier': 'RF', 'rf_n_estimators': 916, 'rf_criterion': 'gini', 'rf_max_depth': 19}. Best is trial 15 with value: 0.7899487106191736.\u001b[0m\n",
            "\u001b[32m[I 2022-09-02 17:31:34,847]\u001b[0m Trial 51 finished with value: 0.782089051359182 and parameters: {'classifier': 'RF', 'rf_n_estimators': 545, 'rf_criterion': 'gini', 'rf_max_depth': 23}. Best is trial 15 with value: 0.7899487106191736.\u001b[0m\n",
            "\u001b[32m[I 2022-09-02 17:31:41,456]\u001b[0m Trial 52 finished with value: 0.7882939479155949 and parameters: {'classifier': 'RF', 'rf_n_estimators': 400, 'rf_criterion': 'gini', 'rf_max_depth': 22}. Best is trial 15 with value: 0.7899487106191736.\u001b[0m\n",
            "\u001b[32m[I 2022-09-02 17:31:48,227]\u001b[0m Trial 53 finished with value: 0.7848341453317761 and parameters: {'classifier': 'RF', 'rf_n_estimators': 408, 'rf_criterion': 'gini', 'rf_max_depth': 21}. Best is trial 15 with value: 0.7899487106191736.\u001b[0m\n",
            "\u001b[32m[I 2022-09-02 17:31:56,049]\u001b[0m Trial 54 finished with value: 0.7893402365290165 and parameters: {'classifier': 'RF', 'rf_n_estimators': 464, 'rf_criterion': 'gini', 'rf_max_depth': 22}. Best is trial 15 with value: 0.7899487106191736.\u001b[0m\n",
            "\u001b[32m[I 2022-09-02 17:32:03,641]\u001b[0m Trial 55 finished with value: 0.7826776956198876 and parameters: {'classifier': 'RF', 'rf_n_estimators': 460, 'rf_criterion': 'gini', 'rf_max_depth': 23}. Best is trial 15 with value: 0.7899487106191736.\u001b[0m\n",
            "\u001b[32m[I 2022-09-02 17:32:10,956]\u001b[0m Trial 56 finished with value: 0.7882939479155949 and parameters: {'classifier': 'RF', 'rf_n_estimators': 441, 'rf_criterion': 'gini', 'rf_max_depth': 22}. Best is trial 15 with value: 0.7899487106191736.\u001b[0m\n",
            "\u001b[32m[I 2022-09-02 17:32:18,378]\u001b[0m Trial 57 finished with value: 0.7854314785894784 and parameters: {'classifier': 'RF', 'rf_n_estimators': 439, 'rf_criterion': 'gini', 'rf_max_depth': 21}. Best is trial 15 with value: 0.7899487106191736.\u001b[0m\n",
            "\u001b[32m[I 2022-09-02 17:32:24,963]\u001b[0m Trial 58 finished with value: 0.782089051359182 and parameters: {'classifier': 'RF', 'rf_n_estimators': 400, 'rf_criterion': 'gini', 'rf_max_depth': 20}. Best is trial 15 with value: 0.7899487106191736.\u001b[0m\n",
            "\u001b[32m[I 2022-09-02 17:32:32,848]\u001b[0m Trial 59 finished with value: 0.7854314785894784 and parameters: {'classifier': 'RF', 'rf_n_estimators': 474, 'rf_criterion': 'gini', 'rf_max_depth': 24}. Best is trial 15 with value: 0.7899487106191736.\u001b[0m\n",
            "\u001b[32m[I 2022-09-02 17:32:39,768]\u001b[0m Trial 60 finished with value: 0.7787043934581689 and parameters: {'classifier': 'RF', 'rf_n_estimators': 424, 'rf_criterion': 'gini', 'rf_max_depth': 19}. Best is trial 15 with value: 0.7899487106191736.\u001b[0m\n",
            "\u001b[32m[I 2022-09-02 17:32:47,363]\u001b[0m Trial 61 finished with value: 0.7876900946043259 and parameters: {'classifier': 'RF', 'rf_n_estimators': 461, 'rf_criterion': 'gini', 'rf_max_depth': 22}. Best is trial 15 with value: 0.7899487106191736.\u001b[0m\n",
            "\u001b[32m[I 2022-09-02 17:32:54,847]\u001b[0m Trial 62 finished with value: 0.7899487106191736 and parameters: {'classifier': 'RF', 'rf_n_estimators': 453, 'rf_criterion': 'gini', 'rf_max_depth': 22}. Best is trial 15 with value: 0.7899487106191736.\u001b[0m\n",
            "\u001b[32m[I 2022-09-02 17:33:01,458]\u001b[0m Trial 63 finished with value: 0.7848341453317761 and parameters: {'classifier': 'RF', 'rf_n_estimators': 401, 'rf_criterion': 'gini', 'rf_max_depth': 21}. Best is trial 15 with value: 0.7899487106191736.\u001b[0m\n",
            "\u001b[32m[I 2022-09-02 17:33:08,732]\u001b[0m Trial 64 finished with value: 0.7882939479155949 and parameters: {'classifier': 'RF', 'rf_n_estimators': 441, 'rf_criterion': 'gini', 'rf_max_depth': 22}. Best is trial 15 with value: 0.7899487106191736.\u001b[0m\n",
            "\u001b[32m[I 2022-09-02 17:33:17,026]\u001b[0m Trial 65 finished with value: 0.7860297120644247 and parameters: {'classifier': 'RF', 'rf_n_estimators': 499, 'rf_criterion': 'gini', 'rf_max_depth': 23}. Best is trial 15 with value: 0.7899487106191736.\u001b[0m\n",
            "\u001b[32m[I 2022-09-02 17:33:26,362]\u001b[0m Trial 66 finished with value: 0.7809857914637548 and parameters: {'classifier': 'RF', 'rf_n_estimators': 444, 'rf_criterion': 'entropy', 'rf_max_depth': 20}. Best is trial 15 with value: 0.7899487106191736.\u001b[0m\n",
            "\u001b[32m[I 2022-09-02 17:33:33,266]\u001b[0m Trial 67 finished with value: 0.7831728625746309 and parameters: {'classifier': 'RF', 'rf_n_estimators': 422, 'rf_criterion': 'gini', 'rf_max_depth': 18}. Best is trial 15 with value: 0.7899487106191736.\u001b[0m\n",
            "\u001b[32m[I 2022-09-02 17:33:41,277]\u001b[0m Trial 68 finished with value: 0.7854314785894784 and parameters: {'classifier': 'RF', 'rf_n_estimators': 480, 'rf_criterion': 'gini', 'rf_max_depth': 24}. Best is trial 15 with value: 0.7899487106191736.\u001b[0m\n",
            "\u001b[32m[I 2022-09-02 17:33:48,673]\u001b[0m Trial 69 finished with value: 0.7832671894693408 and parameters: {'classifier': 'RF', 'rf_n_estimators': 447, 'rf_criterion': 'gini', 'rf_max_depth': 23}. Best is trial 15 with value: 0.7899487106191736.\u001b[0m\n",
            "\u001b[32m[I 2022-09-02 17:33:56,565]\u001b[0m Trial 70 finished with value: 0.7831728625746309 and parameters: {'classifier': 'RF', 'rf_n_estimators': 472, 'rf_criterion': 'gini', 'rf_max_depth': 21}. Best is trial 15 with value: 0.7899487106191736.\u001b[0m\n",
            "\u001b[32m[I 2022-09-02 17:34:03,670]\u001b[0m Trial 71 finished with value: 0.7899487106191736 and parameters: {'classifier': 'RF', 'rf_n_estimators': 425, 'rf_criterion': 'gini', 'rf_max_depth': 22}. Best is trial 15 with value: 0.7899487106191736.\u001b[0m\n",
            "\u001b[32m[I 2022-09-02 17:34:10,681]\u001b[0m Trial 72 finished with value: 0.7899487106191736 and parameters: {'classifier': 'RF', 'rf_n_estimators': 426, 'rf_criterion': 'gini', 'rf_max_depth': 22}. Best is trial 15 with value: 0.7899487106191736.\u001b[0m\n",
            "\u001b[32m[I 2022-09-02 17:34:17,787]\u001b[0m Trial 73 finished with value: 0.7899487106191736 and parameters: {'classifier': 'RF', 'rf_n_estimators': 425, 'rf_criterion': 'gini', 'rf_max_depth': 22}. Best is trial 15 with value: 0.7899487106191736.\u001b[0m\n",
            "\u001b[32m[I 2022-09-02 17:34:24,801]\u001b[0m Trial 74 finished with value: 0.7832671894693408 and parameters: {'classifier': 'RF', 'rf_n_estimators': 420, 'rf_criterion': 'gini', 'rf_max_depth': 23}. Best is trial 15 with value: 0.7899487106191736.\u001b[0m\n",
            "\u001b[32m[I 2022-09-02 17:34:32,495]\u001b[0m Trial 75 finished with value: 0.7893402365290165 and parameters: {'classifier': 'RF', 'rf_n_estimators': 464, 'rf_criterion': 'gini', 'rf_max_depth': 22}. Best is trial 15 with value: 0.7899487106191736.\u001b[0m\n",
            "\u001b[32m[I 2022-09-02 17:34:40,219]\u001b[0m Trial 76 finished with value: 0.7831728625746309 and parameters: {'classifier': 'RF', 'rf_n_estimators': 463, 'rf_criterion': 'gini', 'rf_max_depth': 21}. Best is trial 15 with value: 0.7899487106191736.\u001b[0m\n",
            "\u001b[32m[I 2022-09-02 17:34:48,382]\u001b[0m Trial 77 finished with value: 0.7848341453317761 and parameters: {'classifier': 'RF', 'rf_n_estimators': 491, 'rf_criterion': 'gini', 'rf_max_depth': 24}. Best is trial 15 with value: 0.7899487106191736.\u001b[0m\n",
            "\u001b[32m[I 2022-09-02 17:34:59,020]\u001b[0m Trial 78 finished with value: 0.782089051359182 and parameters: {'classifier': 'RF', 'rf_n_estimators': 509, 'rf_criterion': 'entropy', 'rf_max_depth': 21}. Best is trial 15 with value: 0.7899487106191736.\u001b[0m\n",
            "\u001b[32m[I 2022-09-02 17:35:05,965]\u001b[0m Trial 79 finished with value: 0.782089051359182 and parameters: {'classifier': 'RF', 'rf_n_estimators': 418, 'rf_criterion': 'gini', 'rf_max_depth': 20}. Best is trial 15 with value: 0.7899487106191736.\u001b[0m\n",
            "\u001b[32m[I 2022-09-02 17:35:13,619]\u001b[0m Trial 80 finished with value: 0.7831728625746309 and parameters: {'classifier': 'RF', 'rf_n_estimators': 456, 'rf_criterion': 'gini', 'rf_max_depth': 25}. Best is trial 15 with value: 0.7899487106191736.\u001b[0m\n",
            "\u001b[32m[I 2022-09-02 17:35:20,882]\u001b[0m Trial 81 finished with value: 0.7899487106191736 and parameters: {'classifier': 'RF', 'rf_n_estimators': 435, 'rf_criterion': 'gini', 'rf_max_depth': 22}. Best is trial 15 with value: 0.7899487106191736.\u001b[0m\n",
            "\u001b[32m[I 2022-09-02 17:35:28,156]\u001b[0m Trial 82 finished with value: 0.7899487106191736 and parameters: {'classifier': 'RF', 'rf_n_estimators': 434, 'rf_criterion': 'gini', 'rf_max_depth': 22}. Best is trial 15 with value: 0.7899487106191736.\u001b[0m\n",
            "\u001b[32m[I 2022-09-02 17:35:35,325]\u001b[0m Trial 83 finished with value: 0.7832671894693408 and parameters: {'classifier': 'RF', 'rf_n_estimators': 430, 'rf_criterion': 'gini', 'rf_max_depth': 23}. Best is trial 15 with value: 0.7899487106191736.\u001b[0m\n",
            "\u001b[32m[I 2022-09-02 17:35:42,259]\u001b[0m Trial 84 finished with value: 0.7882939479155949 and parameters: {'classifier': 'RF', 'rf_n_estimators': 414, 'rf_criterion': 'gini', 'rf_max_depth': 22}. Best is trial 15 with value: 0.7899487106191736.\u001b[0m\n",
            "\u001b[32m[I 2022-09-02 17:35:49,307]\u001b[0m Trial 85 finished with value: 0.7825810997331559 and parameters: {'classifier': 'RF', 'rf_n_estimators': 429, 'rf_criterion': 'gini', 'rf_max_depth': 21}. Best is trial 15 with value: 0.7899487106191736.\u001b[0m\n",
            "\u001b[32m[I 2022-09-02 17:35:56,760]\u001b[0m Trial 86 finished with value: 0.7832671894693408 and parameters: {'classifier': 'RF', 'rf_n_estimators': 450, 'rf_criterion': 'gini', 'rf_max_depth': 23}. Best is trial 15 with value: 0.7899487106191736.\u001b[0m\n",
            "\u001b[32m[I 2022-09-02 17:36:04,837]\u001b[0m Trial 87 finished with value: 0.7860297120644247 and parameters: {'classifier': 'RF', 'rf_n_estimators': 485, 'rf_criterion': 'gini', 'rf_max_depth': 22}. Best is trial 15 with value: 0.7899487106191736.\u001b[0m\n",
            "\u001b[32m[I 2022-09-02 17:36:11,558]\u001b[0m Trial 88 finished with value: 0.782089051359182 and parameters: {'classifier': 'RF', 'rf_n_estimators': 408, 'rf_criterion': 'gini', 'rf_max_depth': 20}. Best is trial 15 with value: 0.7899487106191736.\u001b[0m\n",
            "\u001b[32m[I 2022-09-02 17:36:25,726]\u001b[0m Trial 89 finished with value: 0.782089051359182 and parameters: {'classifier': 'RF', 'rf_n_estimators': 852, 'rf_criterion': 'gini', 'rf_max_depth': 24}. Best is trial 15 with value: 0.7899487106191736.\u001b[0m\n",
            "\u001b[32m[I 2022-09-02 17:36:34,995]\u001b[0m Trial 90 finished with value: 0.7815703277959272 and parameters: {'classifier': 'RF', 'rf_n_estimators': 435, 'rf_criterion': 'entropy', 'rf_max_depth': 23}. Best is trial 15 with value: 0.7899487106191736.\u001b[0m\n",
            "\u001b[32m[I 2022-09-02 17:36:42,807]\u001b[0m Trial 91 finished with value: 0.7893402365290165 and parameters: {'classifier': 'RF', 'rf_n_estimators': 470, 'rf_criterion': 'gini', 'rf_max_depth': 22}. Best is trial 15 with value: 0.7899487106191736.\u001b[0m\n",
            "\u001b[32m[I 2022-09-02 17:36:50,610]\u001b[0m Trial 92 finished with value: 0.7893402365290165 and parameters: {'classifier': 'RF', 'rf_n_estimators': 472, 'rf_criterion': 'gini', 'rf_max_depth': 22}. Best is trial 15 with value: 0.7899487106191736.\u001b[0m\n",
            "\u001b[32m[I 2022-09-02 17:36:57,615]\u001b[0m Trial 93 finished with value: 0.7764139533747949 and parameters: {'classifier': 'RF', 'rf_n_estimators': 453, 'rf_criterion': 'gini', 'rf_max_depth': 15}. Best is trial 15 with value: 0.7899487106191736.\u001b[0m\n",
            "\u001b[32m[I 2022-09-02 17:37:05,956]\u001b[0m Trial 94 finished with value: 0.7809142465597833 and parameters: {'classifier': 'RF', 'rf_n_estimators': 507, 'rf_criterion': 'gini', 'rf_max_depth': 21}. Best is trial 15 with value: 0.7899487106191736.\u001b[0m\n",
            "\u001b[32m[I 2022-09-02 17:37:12,837]\u001b[0m Trial 95 finished with value: 0.7876900946043259 and parameters: {'classifier': 'RF', 'rf_n_estimators': 416, 'rf_criterion': 'gini', 'rf_max_depth': 22}. Best is trial 15 with value: 0.7899487106191736.\u001b[0m\n",
            "\u001b[32m[I 2022-09-02 17:37:21,035]\u001b[0m Trial 96 finished with value: 0.7792370045109146 and parameters: {'classifier': 'RF', 'rf_n_estimators': 489, 'rf_criterion': 'gini', 'rf_max_depth': 21}. Best is trial 15 with value: 0.7899487106191736.\u001b[0m\n",
            "\u001b[32m[I 2022-09-02 17:37:29,144]\u001b[0m Trial 97 finished with value: 0.7826776956198876 and parameters: {'classifier': 'RF', 'rf_n_estimators': 472, 'rf_criterion': 'gini', 'rf_max_depth': 23}. Best is trial 15 with value: 0.7899487106191736.\u001b[0m\n",
            "\u001b[32m[I 2022-09-02 17:37:36,644]\u001b[0m Trial 98 finished with value: 0.7899487106191736 and parameters: {'classifier': 'RF', 'rf_n_estimators': 434, 'rf_criterion': 'gini', 'rf_max_depth': 22}. Best is trial 15 with value: 0.7899487106191736.\u001b[0m\n",
            "\u001b[32m[I 2022-09-02 17:37:44,268]\u001b[0m Trial 99 finished with value: 0.7815703277959272 and parameters: {'classifier': 'RF', 'rf_n_estimators': 435, 'rf_criterion': 'gini', 'rf_max_depth': 23}. Best is trial 15 with value: 0.7899487106191736.\u001b[0m\n"
          ]
        }
      ]
    },
    {
      "cell_type": "code",
      "source": [
        "optuna.visualization.plot_optimization_history(study_rf).show()"
      ],
      "metadata": {
        "colab": {
          "base_uri": "https://localhost:8080/",
          "height": 542
        },
        "id": "sx-r2s2bSZFW",
        "outputId": "2ccd0314-4b12-4bba-bec1-eb93149c9d35"
      },
      "execution_count": 129,
      "outputs": [
        {
          "output_type": "display_data",
          "data": {
            "text/html": [
              "<html>\n",
              "<head><meta charset=\"utf-8\" /></head>\n",
              "<body>\n",
              "    <div>            <script src=\"https://cdnjs.cloudflare.com/ajax/libs/mathjax/2.7.5/MathJax.js?config=TeX-AMS-MML_SVG\"></script><script type=\"text/javascript\">if (window.MathJax) {MathJax.Hub.Config({SVG: {font: \"STIX-Web\"}});}</script>                <script type=\"text/javascript\">window.PlotlyConfig = {MathJaxConfig: 'local'};</script>\n",
              "        <script src=\"https://cdn.plot.ly/plotly-2.8.3.min.js\"></script>                <div id=\"1c2cb18f-2f7f-4415-8eef-3355ba8bc48e\" class=\"plotly-graph-div\" style=\"height:525px; width:100%;\"></div>            <script type=\"text/javascript\">                                    window.PLOTLYENV=window.PLOTLYENV || {};                                    if (document.getElementById(\"1c2cb18f-2f7f-4415-8eef-3355ba8bc48e\")) {                    Plotly.newPlot(                        \"1c2cb18f-2f7f-4415-8eef-3355ba8bc48e\",                        [{\"mode\":\"markers\",\"name\":\"Objective Value\",\"x\":[0,1,2,3,4,5,6,7,8,9,10,11,12,13,14,15,16,17,18,19,20,21,22,23,24,25,26,27,28,29,30,31,32,33,34,35,36,37,38,39,40,41,42,43,44,45,46,47,48,49,50,51,52,53,54,55,56,57,58,59,60,61,62,63,64,65,66,67,68,69,70,71,72,73,74,75,76,77,78,79,80,81,82,83,84,85,86,87,88,89,90,91,92,93,94,95,96,97,98,99],\"y\":[0.7815703277959272,0.7781256981188157,0.7815703277959272,0.7809142465597833,0.7815012403620846,0.7758448260605746,0.7842376955244468,0.782089051359182,0.782089051359182,0.782089051359182,0.7809857914637548,0.7809857914637548,0.7848341453317761,0.7882939479155949,0.7842376955244468,0.7899487106191736,0.782089051359182,0.7831728625746309,0.7798191456441737,0.7815703277959272,0.7826776956198876,0.7831728625746309,0.782089051359182,0.7870871909303964,0.7848341453317761,0.7809857914637548,0.7809857914637548,0.7848341453317761,0.7815012403620846,0.7809857914637548,0.782089051359182,0.7848341453317761,0.7832671894693408,0.7826776956198876,0.7815703277959272,0.7860297120644247,0.7870871909303964,0.7837654762132548,0.7832671894693408,0.782089051359182,0.7832671894693408,0.7848341453317761,0.7826776956198876,0.7837654762132548,0.7804020693960121,0.7870871909303964,0.7899487106191736,0.7825810997331559,0.782089051359182,0.7815703277959272,0.7809857914637548,0.782089051359182,0.7882939479155949,0.7848341453317761,0.7893402365290165,0.7826776956198876,0.7882939479155949,0.7854314785894784,0.782089051359182,0.7854314785894784,0.7787043934581689,0.7876900946043259,0.7899487106191736,0.7848341453317761,0.7882939479155949,0.7860297120644247,0.7809857914637548,0.7831728625746309,0.7854314785894784,0.7832671894693408,0.7831728625746309,0.7899487106191736,0.7899487106191736,0.7899487106191736,0.7832671894693408,0.7893402365290165,0.7831728625746309,0.7848341453317761,0.782089051359182,0.782089051359182,0.7831728625746309,0.7899487106191736,0.7899487106191736,0.7832671894693408,0.7882939479155949,0.7825810997331559,0.7832671894693408,0.7860297120644247,0.782089051359182,0.782089051359182,0.7815703277959272,0.7893402365290165,0.7893402365290165,0.7764139533747949,0.7809142465597833,0.7876900946043259,0.7792370045109146,0.7826776956198876,0.7899487106191736,0.7815703277959272],\"type\":\"scatter\"},{\"name\":\"Best Value\",\"x\":[0,1,2,3,4,5,6,7,8,9,10,11,12,13,14,15,16,17,18,19,20,21,22,23,24,25,26,27,28,29,30,31,32,33,34,35,36,37,38,39,40,41,42,43,44,45,46,47,48,49,50,51,52,53,54,55,56,57,58,59,60,61,62,63,64,65,66,67,68,69,70,71,72,73,74,75,76,77,78,79,80,81,82,83,84,85,86,87,88,89,90,91,92,93,94,95,96,97,98,99],\"y\":[0.7815703277959272,0.7815703277959272,0.7815703277959272,0.7815703277959272,0.7815703277959272,0.7815703277959272,0.7842376955244468,0.7842376955244468,0.7842376955244468,0.7842376955244468,0.7842376955244468,0.7842376955244468,0.7848341453317761,0.7882939479155949,0.7882939479155949,0.7899487106191736,0.7899487106191736,0.7899487106191736,0.7899487106191736,0.7899487106191736,0.7899487106191736,0.7899487106191736,0.7899487106191736,0.7899487106191736,0.7899487106191736,0.7899487106191736,0.7899487106191736,0.7899487106191736,0.7899487106191736,0.7899487106191736,0.7899487106191736,0.7899487106191736,0.7899487106191736,0.7899487106191736,0.7899487106191736,0.7899487106191736,0.7899487106191736,0.7899487106191736,0.7899487106191736,0.7899487106191736,0.7899487106191736,0.7899487106191736,0.7899487106191736,0.7899487106191736,0.7899487106191736,0.7899487106191736,0.7899487106191736,0.7899487106191736,0.7899487106191736,0.7899487106191736,0.7899487106191736,0.7899487106191736,0.7899487106191736,0.7899487106191736,0.7899487106191736,0.7899487106191736,0.7899487106191736,0.7899487106191736,0.7899487106191736,0.7899487106191736,0.7899487106191736,0.7899487106191736,0.7899487106191736,0.7899487106191736,0.7899487106191736,0.7899487106191736,0.7899487106191736,0.7899487106191736,0.7899487106191736,0.7899487106191736,0.7899487106191736,0.7899487106191736,0.7899487106191736,0.7899487106191736,0.7899487106191736,0.7899487106191736,0.7899487106191736,0.7899487106191736,0.7899487106191736,0.7899487106191736,0.7899487106191736,0.7899487106191736,0.7899487106191736,0.7899487106191736,0.7899487106191736,0.7899487106191736,0.7899487106191736,0.7899487106191736,0.7899487106191736,0.7899487106191736,0.7899487106191736,0.7899487106191736,0.7899487106191736,0.7899487106191736,0.7899487106191736,0.7899487106191736,0.7899487106191736,0.7899487106191736,0.7899487106191736,0.7899487106191736],\"type\":\"scatter\"}],                        {\"title\":{\"text\":\"Optimization History Plot\"},\"xaxis\":{\"title\":{\"text\":\"Trial\"}},\"yaxis\":{\"title\":{\"text\":\"Objective Value\"}},\"template\":{\"data\":{\"bar\":[{\"error_x\":{\"color\":\"#2a3f5f\"},\"error_y\":{\"color\":\"#2a3f5f\"},\"marker\":{\"line\":{\"color\":\"#E5ECF6\",\"width\":0.5},\"pattern\":{\"fillmode\":\"overlay\",\"size\":10,\"solidity\":0.2}},\"type\":\"bar\"}],\"barpolar\":[{\"marker\":{\"line\":{\"color\":\"#E5ECF6\",\"width\":0.5},\"pattern\":{\"fillmode\":\"overlay\",\"size\":10,\"solidity\":0.2}},\"type\":\"barpolar\"}],\"carpet\":[{\"aaxis\":{\"endlinecolor\":\"#2a3f5f\",\"gridcolor\":\"white\",\"linecolor\":\"white\",\"minorgridcolor\":\"white\",\"startlinecolor\":\"#2a3f5f\"},\"baxis\":{\"endlinecolor\":\"#2a3f5f\",\"gridcolor\":\"white\",\"linecolor\":\"white\",\"minorgridcolor\":\"white\",\"startlinecolor\":\"#2a3f5f\"},\"type\":\"carpet\"}],\"choropleth\":[{\"colorbar\":{\"outlinewidth\":0,\"ticks\":\"\"},\"type\":\"choropleth\"}],\"contour\":[{\"colorbar\":{\"outlinewidth\":0,\"ticks\":\"\"},\"colorscale\":[[0.0,\"#0d0887\"],[0.1111111111111111,\"#46039f\"],[0.2222222222222222,\"#7201a8\"],[0.3333333333333333,\"#9c179e\"],[0.4444444444444444,\"#bd3786\"],[0.5555555555555556,\"#d8576b\"],[0.6666666666666666,\"#ed7953\"],[0.7777777777777778,\"#fb9f3a\"],[0.8888888888888888,\"#fdca26\"],[1.0,\"#f0f921\"]],\"type\":\"contour\"}],\"contourcarpet\":[{\"colorbar\":{\"outlinewidth\":0,\"ticks\":\"\"},\"type\":\"contourcarpet\"}],\"heatmap\":[{\"colorbar\":{\"outlinewidth\":0,\"ticks\":\"\"},\"colorscale\":[[0.0,\"#0d0887\"],[0.1111111111111111,\"#46039f\"],[0.2222222222222222,\"#7201a8\"],[0.3333333333333333,\"#9c179e\"],[0.4444444444444444,\"#bd3786\"],[0.5555555555555556,\"#d8576b\"],[0.6666666666666666,\"#ed7953\"],[0.7777777777777778,\"#fb9f3a\"],[0.8888888888888888,\"#fdca26\"],[1.0,\"#f0f921\"]],\"type\":\"heatmap\"}],\"heatmapgl\":[{\"colorbar\":{\"outlinewidth\":0,\"ticks\":\"\"},\"colorscale\":[[0.0,\"#0d0887\"],[0.1111111111111111,\"#46039f\"],[0.2222222222222222,\"#7201a8\"],[0.3333333333333333,\"#9c179e\"],[0.4444444444444444,\"#bd3786\"],[0.5555555555555556,\"#d8576b\"],[0.6666666666666666,\"#ed7953\"],[0.7777777777777778,\"#fb9f3a\"],[0.8888888888888888,\"#fdca26\"],[1.0,\"#f0f921\"]],\"type\":\"heatmapgl\"}],\"histogram\":[{\"marker\":{\"pattern\":{\"fillmode\":\"overlay\",\"size\":10,\"solidity\":0.2}},\"type\":\"histogram\"}],\"histogram2d\":[{\"colorbar\":{\"outlinewidth\":0,\"ticks\":\"\"},\"colorscale\":[[0.0,\"#0d0887\"],[0.1111111111111111,\"#46039f\"],[0.2222222222222222,\"#7201a8\"],[0.3333333333333333,\"#9c179e\"],[0.4444444444444444,\"#bd3786\"],[0.5555555555555556,\"#d8576b\"],[0.6666666666666666,\"#ed7953\"],[0.7777777777777778,\"#fb9f3a\"],[0.8888888888888888,\"#fdca26\"],[1.0,\"#f0f921\"]],\"type\":\"histogram2d\"}],\"histogram2dcontour\":[{\"colorbar\":{\"outlinewidth\":0,\"ticks\":\"\"},\"colorscale\":[[0.0,\"#0d0887\"],[0.1111111111111111,\"#46039f\"],[0.2222222222222222,\"#7201a8\"],[0.3333333333333333,\"#9c179e\"],[0.4444444444444444,\"#bd3786\"],[0.5555555555555556,\"#d8576b\"],[0.6666666666666666,\"#ed7953\"],[0.7777777777777778,\"#fb9f3a\"],[0.8888888888888888,\"#fdca26\"],[1.0,\"#f0f921\"]],\"type\":\"histogram2dcontour\"}],\"mesh3d\":[{\"colorbar\":{\"outlinewidth\":0,\"ticks\":\"\"},\"type\":\"mesh3d\"}],\"parcoords\":[{\"line\":{\"colorbar\":{\"outlinewidth\":0,\"ticks\":\"\"}},\"type\":\"parcoords\"}],\"pie\":[{\"automargin\":true,\"type\":\"pie\"}],\"scatter\":[{\"marker\":{\"colorbar\":{\"outlinewidth\":0,\"ticks\":\"\"}},\"type\":\"scatter\"}],\"scatter3d\":[{\"line\":{\"colorbar\":{\"outlinewidth\":0,\"ticks\":\"\"}},\"marker\":{\"colorbar\":{\"outlinewidth\":0,\"ticks\":\"\"}},\"type\":\"scatter3d\"}],\"scattercarpet\":[{\"marker\":{\"colorbar\":{\"outlinewidth\":0,\"ticks\":\"\"}},\"type\":\"scattercarpet\"}],\"scattergeo\":[{\"marker\":{\"colorbar\":{\"outlinewidth\":0,\"ticks\":\"\"}},\"type\":\"scattergeo\"}],\"scattergl\":[{\"marker\":{\"colorbar\":{\"outlinewidth\":0,\"ticks\":\"\"}},\"type\":\"scattergl\"}],\"scattermapbox\":[{\"marker\":{\"colorbar\":{\"outlinewidth\":0,\"ticks\":\"\"}},\"type\":\"scattermapbox\"}],\"scatterpolar\":[{\"marker\":{\"colorbar\":{\"outlinewidth\":0,\"ticks\":\"\"}},\"type\":\"scatterpolar\"}],\"scatterpolargl\":[{\"marker\":{\"colorbar\":{\"outlinewidth\":0,\"ticks\":\"\"}},\"type\":\"scatterpolargl\"}],\"scatterternary\":[{\"marker\":{\"colorbar\":{\"outlinewidth\":0,\"ticks\":\"\"}},\"type\":\"scatterternary\"}],\"surface\":[{\"colorbar\":{\"outlinewidth\":0,\"ticks\":\"\"},\"colorscale\":[[0.0,\"#0d0887\"],[0.1111111111111111,\"#46039f\"],[0.2222222222222222,\"#7201a8\"],[0.3333333333333333,\"#9c179e\"],[0.4444444444444444,\"#bd3786\"],[0.5555555555555556,\"#d8576b\"],[0.6666666666666666,\"#ed7953\"],[0.7777777777777778,\"#fb9f3a\"],[0.8888888888888888,\"#fdca26\"],[1.0,\"#f0f921\"]],\"type\":\"surface\"}],\"table\":[{\"cells\":{\"fill\":{\"color\":\"#EBF0F8\"},\"line\":{\"color\":\"white\"}},\"header\":{\"fill\":{\"color\":\"#C8D4E3\"},\"line\":{\"color\":\"white\"}},\"type\":\"table\"}]},\"layout\":{\"annotationdefaults\":{\"arrowcolor\":\"#2a3f5f\",\"arrowhead\":0,\"arrowwidth\":1},\"autotypenumbers\":\"strict\",\"coloraxis\":{\"colorbar\":{\"outlinewidth\":0,\"ticks\":\"\"}},\"colorscale\":{\"diverging\":[[0,\"#8e0152\"],[0.1,\"#c51b7d\"],[0.2,\"#de77ae\"],[0.3,\"#f1b6da\"],[0.4,\"#fde0ef\"],[0.5,\"#f7f7f7\"],[0.6,\"#e6f5d0\"],[0.7,\"#b8e186\"],[0.8,\"#7fbc41\"],[0.9,\"#4d9221\"],[1,\"#276419\"]],\"sequential\":[[0.0,\"#0d0887\"],[0.1111111111111111,\"#46039f\"],[0.2222222222222222,\"#7201a8\"],[0.3333333333333333,\"#9c179e\"],[0.4444444444444444,\"#bd3786\"],[0.5555555555555556,\"#d8576b\"],[0.6666666666666666,\"#ed7953\"],[0.7777777777777778,\"#fb9f3a\"],[0.8888888888888888,\"#fdca26\"],[1.0,\"#f0f921\"]],\"sequentialminus\":[[0.0,\"#0d0887\"],[0.1111111111111111,\"#46039f\"],[0.2222222222222222,\"#7201a8\"],[0.3333333333333333,\"#9c179e\"],[0.4444444444444444,\"#bd3786\"],[0.5555555555555556,\"#d8576b\"],[0.6666666666666666,\"#ed7953\"],[0.7777777777777778,\"#fb9f3a\"],[0.8888888888888888,\"#fdca26\"],[1.0,\"#f0f921\"]]},\"colorway\":[\"#636efa\",\"#EF553B\",\"#00cc96\",\"#ab63fa\",\"#FFA15A\",\"#19d3f3\",\"#FF6692\",\"#B6E880\",\"#FF97FF\",\"#FECB52\"],\"font\":{\"color\":\"#2a3f5f\"},\"geo\":{\"bgcolor\":\"white\",\"lakecolor\":\"white\",\"landcolor\":\"#E5ECF6\",\"showlakes\":true,\"showland\":true,\"subunitcolor\":\"white\"},\"hoverlabel\":{\"align\":\"left\"},\"hovermode\":\"closest\",\"mapbox\":{\"style\":\"light\"},\"paper_bgcolor\":\"white\",\"plot_bgcolor\":\"#E5ECF6\",\"polar\":{\"angularaxis\":{\"gridcolor\":\"white\",\"linecolor\":\"white\",\"ticks\":\"\"},\"bgcolor\":\"#E5ECF6\",\"radialaxis\":{\"gridcolor\":\"white\",\"linecolor\":\"white\",\"ticks\":\"\"}},\"scene\":{\"xaxis\":{\"backgroundcolor\":\"#E5ECF6\",\"gridcolor\":\"white\",\"gridwidth\":2,\"linecolor\":\"white\",\"showbackground\":true,\"ticks\":\"\",\"zerolinecolor\":\"white\"},\"yaxis\":{\"backgroundcolor\":\"#E5ECF6\",\"gridcolor\":\"white\",\"gridwidth\":2,\"linecolor\":\"white\",\"showbackground\":true,\"ticks\":\"\",\"zerolinecolor\":\"white\"},\"zaxis\":{\"backgroundcolor\":\"#E5ECF6\",\"gridcolor\":\"white\",\"gridwidth\":2,\"linecolor\":\"white\",\"showbackground\":true,\"ticks\":\"\",\"zerolinecolor\":\"white\"}},\"shapedefaults\":{\"line\":{\"color\":\"#2a3f5f\"}},\"ternary\":{\"aaxis\":{\"gridcolor\":\"white\",\"linecolor\":\"white\",\"ticks\":\"\"},\"baxis\":{\"gridcolor\":\"white\",\"linecolor\":\"white\",\"ticks\":\"\"},\"bgcolor\":\"#E5ECF6\",\"caxis\":{\"gridcolor\":\"white\",\"linecolor\":\"white\",\"ticks\":\"\"}},\"title\":{\"x\":0.05},\"xaxis\":{\"automargin\":true,\"gridcolor\":\"white\",\"linecolor\":\"white\",\"ticks\":\"\",\"title\":{\"standoff\":15},\"zerolinecolor\":\"white\",\"zerolinewidth\":2},\"yaxis\":{\"automargin\":true,\"gridcolor\":\"white\",\"linecolor\":\"white\",\"ticks\":\"\",\"title\":{\"standoff\":15},\"zerolinecolor\":\"white\",\"zerolinewidth\":2}}}},                        {\"responsive\": true}                    ).then(function(){\n",
              "                            \n",
              "var gd = document.getElementById('1c2cb18f-2f7f-4415-8eef-3355ba8bc48e');\n",
              "var x = new MutationObserver(function (mutations, observer) {{\n",
              "        var display = window.getComputedStyle(gd).display;\n",
              "        if (!display || display === 'none') {{\n",
              "            console.log([gd, 'removed!']);\n",
              "            Plotly.purge(gd);\n",
              "            observer.disconnect();\n",
              "        }}\n",
              "}});\n",
              "\n",
              "// Listen for the removal of the full notebook cells\n",
              "var notebookContainer = gd.closest('#notebook-container');\n",
              "if (notebookContainer) {{\n",
              "    x.observe(notebookContainer, {childList: true});\n",
              "}}\n",
              "\n",
              "// Listen for the clearing of the current output cell\n",
              "var outputEl = gd.closest('.output');\n",
              "if (outputEl) {{\n",
              "    x.observe(outputEl, {childList: true});\n",
              "}}\n",
              "\n",
              "                        })                };                            </script>        </div>\n",
              "</body>\n",
              "</html>"
            ]
          },
          "metadata": {}
        }
      ]
    },
    {
      "cell_type": "markdown",
      "source": [
        "Assim como no estudo da MLP, observamos que o modelo RF também convergiu cedo e não foi superado ao longo dos treinos"
      ],
      "metadata": {
        "id": "D-g6Ukc8Sf9o"
      }
    },
    {
      "cell_type": "code",
      "source": [
        "print(f\"Melhor trial : \\n{study_rf.best_trial}\")\n",
        "\n",
        "print(f\"Melhor valor do f-score : \\n{study_rf.best_value}\")\n",
        "\n",
        "print(f\"Melhores parâmetros : \\n{study_rf.best_params}\")"
      ],
      "metadata": {
        "colab": {
          "base_uri": "https://localhost:8080/"
        },
        "outputId": "0b2c5c74-f7eb-405f-9eff-ad8117f74b2a",
        "id": "LriAOGVPSsOK"
      },
      "execution_count": 130,
      "outputs": [
        {
          "output_type": "stream",
          "name": "stdout",
          "text": [
            "Melhor trial : \n",
            "FrozenTrial(number=15, values=[0.7899487106191736], datetime_start=datetime.datetime(2022, 9, 2, 17, 25, 35, 55733), datetime_complete=datetime.datetime(2022, 9, 2, 17, 25, 41, 840948), params={'classifier': 'RF', 'rf_n_estimators': 409, 'rf_criterion': 'gini', 'rf_max_depth': 22}, distributions={'classifier': CategoricalDistribution(choices=('RF',)), 'rf_n_estimators': IntDistribution(high=1000, log=False, low=400, step=1), 'rf_criterion': CategoricalDistribution(choices=('gini', 'entropy')), 'rf_max_depth': IntDistribution(high=32, log=False, low=15, step=1)}, user_attrs={}, system_attrs={}, intermediate_values={}, trial_id=15, state=TrialState.COMPLETE, value=None)\n",
            "Melhor valor do f-score : \n",
            "0.7899487106191736\n",
            "Melhores parâmetros : \n",
            "{'classifier': 'RF', 'rf_n_estimators': 409, 'rf_criterion': 'gini', 'rf_max_depth': 22}\n"
          ]
        }
      ]
    },
    {
      "cell_type": "code",
      "source": [
        "best_rf = RandomForestClassifier(\n",
        "      random_state=RANDOM_STATE,\n",
        "      n_estimators=study_rf.best_params['rf_n_estimators'],\n",
        "      criterion=study_rf.best_params['rf_criterion'],\n",
        "      max_depth=study_rf.best_params['rf_max_depth']\n",
        ")\n",
        "best_rf.fit(X_train, y_train)"
      ],
      "metadata": {
        "colab": {
          "base_uri": "https://localhost:8080/"
        },
        "outputId": "03a1bb39-c72a-47ff-f1e6-60a8d3ea5dd3",
        "id": "EfxrlzVrSsOL"
      },
      "execution_count": 134,
      "outputs": [
        {
          "output_type": "execute_result",
          "data": {
            "text/plain": [
              "RandomForestClassifier(max_depth=22, n_estimators=409, random_state=42)"
            ]
          },
          "metadata": {},
          "execution_count": 134
        }
      ]
    },
    {
      "cell_type": "code",
      "source": [
        "y_pred = best_rf.predict(X_val)\n",
        "y_proba = best_rf.predict_proba(X_val)\n",
        "eval_metrics(y_val, y_pred, y_proba)"
      ],
      "metadata": {
        "colab": {
          "base_uri": "https://localhost:8080/"
        },
        "outputId": "28421ee6-562e-4905-8588-d98dcaa9ec6f",
        "id": "GITYYwZuSsOM"
      },
      "execution_count": 135,
      "outputs": [
        {
          "output_type": "execute_result",
          "data": {
            "text/plain": [
              "(0.838401390095569, 0.8382947455267364, 0.7899487106191736)"
            ]
          },
          "metadata": {},
          "execution_count": 135
        }
      ]
    },
    {
      "cell_type": "markdown",
      "source": [
        "### Optuna Study LR"
      ],
      "metadata": {
        "id": "mwUlT984TghS"
      }
    },
    {
      "cell_type": "markdown",
      "source": [
        "Primeiramente, observamos a relação entre os atributos escolhidos e o valor da métrica de avaliação"
      ],
      "metadata": {
        "id": "CuFR3cCuTghT"
      }
    },
    {
      "cell_type": "code",
      "source": [
        "optuna.visualization.plot_slice(study, params=['lr_solver', 'lr_penalty'])"
      ],
      "metadata": {
        "colab": {
          "base_uri": "https://localhost:8080/",
          "height": 542
        },
        "outputId": "d82dcfe2-aa49-4ad1-da71-00d1a8f734e1",
        "id": "PSUEnkcpTghT"
      },
      "execution_count": 136,
      "outputs": [
        {
          "output_type": "display_data",
          "data": {
            "text/html": [
              "<html>\n",
              "<head><meta charset=\"utf-8\" /></head>\n",
              "<body>\n",
              "    <div>            <script src=\"https://cdnjs.cloudflare.com/ajax/libs/mathjax/2.7.5/MathJax.js?config=TeX-AMS-MML_SVG\"></script><script type=\"text/javascript\">if (window.MathJax) {MathJax.Hub.Config({SVG: {font: \"STIX-Web\"}});}</script>                <script type=\"text/javascript\">window.PlotlyConfig = {MathJaxConfig: 'local'};</script>\n",
              "        <script src=\"https://cdn.plot.ly/plotly-2.8.3.min.js\"></script>                <div id=\"4e4869d5-5a2b-4039-9df2-d41d6d414afc\" class=\"plotly-graph-div\" style=\"height:525px; width:100%;\"></div>            <script type=\"text/javascript\">                                    window.PLOTLYENV=window.PLOTLYENV || {};                                    if (document.getElementById(\"4e4869d5-5a2b-4039-9df2-d41d6d414afc\")) {                    Plotly.newPlot(                        \"4e4869d5-5a2b-4039-9df2-d41d6d414afc\",                        [{\"marker\":{\"color\":[4,5,8,9,37,40,49,68,87],\"colorbar\":{\"title\":{\"text\":\"Trial\"},\"x\":1.0,\"xpad\":40},\"colorscale\":[[0.0,\"rgb(247,251,255)\"],[0.125,\"rgb(222,235,247)\"],[0.25,\"rgb(198,219,239)\"],[0.375,\"rgb(158,202,225)\"],[0.5,\"rgb(107,174,214)\"],[0.625,\"rgb(66,146,198)\"],[0.75,\"rgb(33,113,181)\"],[0.875,\"rgb(8,81,156)\"],[1.0,\"rgb(8,48,107)\"]],\"line\":{\"color\":\"Grey\",\"width\":0.5},\"showscale\":true},\"mode\":\"markers\",\"showlegend\":false,\"x\":[\"l2\",\"l2\",\"l2\",\"l2\",\"l1\",\"l1\",\"l1\",\"l1\",\"l1\"],\"y\":[0.7415467133346342,0.7415467133346342,0.7538235059016244,0.7415467133346342,0.7590172385817247,0.7590172385817247,0.7590172385817247,0.7415467133346342,0.7590172385817247],\"type\":\"scatter\",\"xaxis\":\"x\",\"yaxis\":\"y\"},{\"marker\":{\"color\":[4,5,8,9,37,40,49,68,87],\"colorbar\":{\"title\":{\"text\":\"Trial\"},\"x\":1.0,\"xpad\":40},\"colorscale\":[[0.0,\"rgb(247,251,255)\"],[0.125,\"rgb(222,235,247)\"],[0.25,\"rgb(198,219,239)\"],[0.375,\"rgb(158,202,225)\"],[0.5,\"rgb(107,174,214)\"],[0.625,\"rgb(66,146,198)\"],[0.75,\"rgb(33,113,181)\"],[0.875,\"rgb(8,81,156)\"],[1.0,\"rgb(8,48,107)\"]],\"line\":{\"color\":\"Grey\",\"width\":0.5},\"showscale\":false},\"mode\":\"markers\",\"showlegend\":false,\"x\":[\"saga\",\"saga\",\"liblinear\",\"saga\",\"liblinear\",\"liblinear\",\"liblinear\",\"saga\",\"liblinear\"],\"y\":[0.7415467133346342,0.7415467133346342,0.7538235059016244,0.7415467133346342,0.7590172385817247,0.7590172385817247,0.7590172385817247,0.7415467133346342,0.7590172385817247],\"type\":\"scatter\",\"xaxis\":\"x2\",\"yaxis\":\"y2\"}],                        {\"template\":{\"data\":{\"bar\":[{\"error_x\":{\"color\":\"#2a3f5f\"},\"error_y\":{\"color\":\"#2a3f5f\"},\"marker\":{\"line\":{\"color\":\"#E5ECF6\",\"width\":0.5},\"pattern\":{\"fillmode\":\"overlay\",\"size\":10,\"solidity\":0.2}},\"type\":\"bar\"}],\"barpolar\":[{\"marker\":{\"line\":{\"color\":\"#E5ECF6\",\"width\":0.5},\"pattern\":{\"fillmode\":\"overlay\",\"size\":10,\"solidity\":0.2}},\"type\":\"barpolar\"}],\"carpet\":[{\"aaxis\":{\"endlinecolor\":\"#2a3f5f\",\"gridcolor\":\"white\",\"linecolor\":\"white\",\"minorgridcolor\":\"white\",\"startlinecolor\":\"#2a3f5f\"},\"baxis\":{\"endlinecolor\":\"#2a3f5f\",\"gridcolor\":\"white\",\"linecolor\":\"white\",\"minorgridcolor\":\"white\",\"startlinecolor\":\"#2a3f5f\"},\"type\":\"carpet\"}],\"choropleth\":[{\"colorbar\":{\"outlinewidth\":0,\"ticks\":\"\"},\"type\":\"choropleth\"}],\"contour\":[{\"colorbar\":{\"outlinewidth\":0,\"ticks\":\"\"},\"colorscale\":[[0.0,\"#0d0887\"],[0.1111111111111111,\"#46039f\"],[0.2222222222222222,\"#7201a8\"],[0.3333333333333333,\"#9c179e\"],[0.4444444444444444,\"#bd3786\"],[0.5555555555555556,\"#d8576b\"],[0.6666666666666666,\"#ed7953\"],[0.7777777777777778,\"#fb9f3a\"],[0.8888888888888888,\"#fdca26\"],[1.0,\"#f0f921\"]],\"type\":\"contour\"}],\"contourcarpet\":[{\"colorbar\":{\"outlinewidth\":0,\"ticks\":\"\"},\"type\":\"contourcarpet\"}],\"heatmap\":[{\"colorbar\":{\"outlinewidth\":0,\"ticks\":\"\"},\"colorscale\":[[0.0,\"#0d0887\"],[0.1111111111111111,\"#46039f\"],[0.2222222222222222,\"#7201a8\"],[0.3333333333333333,\"#9c179e\"],[0.4444444444444444,\"#bd3786\"],[0.5555555555555556,\"#d8576b\"],[0.6666666666666666,\"#ed7953\"],[0.7777777777777778,\"#fb9f3a\"],[0.8888888888888888,\"#fdca26\"],[1.0,\"#f0f921\"]],\"type\":\"heatmap\"}],\"heatmapgl\":[{\"colorbar\":{\"outlinewidth\":0,\"ticks\":\"\"},\"colorscale\":[[0.0,\"#0d0887\"],[0.1111111111111111,\"#46039f\"],[0.2222222222222222,\"#7201a8\"],[0.3333333333333333,\"#9c179e\"],[0.4444444444444444,\"#bd3786\"],[0.5555555555555556,\"#d8576b\"],[0.6666666666666666,\"#ed7953\"],[0.7777777777777778,\"#fb9f3a\"],[0.8888888888888888,\"#fdca26\"],[1.0,\"#f0f921\"]],\"type\":\"heatmapgl\"}],\"histogram\":[{\"marker\":{\"pattern\":{\"fillmode\":\"overlay\",\"size\":10,\"solidity\":0.2}},\"type\":\"histogram\"}],\"histogram2d\":[{\"colorbar\":{\"outlinewidth\":0,\"ticks\":\"\"},\"colorscale\":[[0.0,\"#0d0887\"],[0.1111111111111111,\"#46039f\"],[0.2222222222222222,\"#7201a8\"],[0.3333333333333333,\"#9c179e\"],[0.4444444444444444,\"#bd3786\"],[0.5555555555555556,\"#d8576b\"],[0.6666666666666666,\"#ed7953\"],[0.7777777777777778,\"#fb9f3a\"],[0.8888888888888888,\"#fdca26\"],[1.0,\"#f0f921\"]],\"type\":\"histogram2d\"}],\"histogram2dcontour\":[{\"colorbar\":{\"outlinewidth\":0,\"ticks\":\"\"},\"colorscale\":[[0.0,\"#0d0887\"],[0.1111111111111111,\"#46039f\"],[0.2222222222222222,\"#7201a8\"],[0.3333333333333333,\"#9c179e\"],[0.4444444444444444,\"#bd3786\"],[0.5555555555555556,\"#d8576b\"],[0.6666666666666666,\"#ed7953\"],[0.7777777777777778,\"#fb9f3a\"],[0.8888888888888888,\"#fdca26\"],[1.0,\"#f0f921\"]],\"type\":\"histogram2dcontour\"}],\"mesh3d\":[{\"colorbar\":{\"outlinewidth\":0,\"ticks\":\"\"},\"type\":\"mesh3d\"}],\"parcoords\":[{\"line\":{\"colorbar\":{\"outlinewidth\":0,\"ticks\":\"\"}},\"type\":\"parcoords\"}],\"pie\":[{\"automargin\":true,\"type\":\"pie\"}],\"scatter\":[{\"marker\":{\"colorbar\":{\"outlinewidth\":0,\"ticks\":\"\"}},\"type\":\"scatter\"}],\"scatter3d\":[{\"line\":{\"colorbar\":{\"outlinewidth\":0,\"ticks\":\"\"}},\"marker\":{\"colorbar\":{\"outlinewidth\":0,\"ticks\":\"\"}},\"type\":\"scatter3d\"}],\"scattercarpet\":[{\"marker\":{\"colorbar\":{\"outlinewidth\":0,\"ticks\":\"\"}},\"type\":\"scattercarpet\"}],\"scattergeo\":[{\"marker\":{\"colorbar\":{\"outlinewidth\":0,\"ticks\":\"\"}},\"type\":\"scattergeo\"}],\"scattergl\":[{\"marker\":{\"colorbar\":{\"outlinewidth\":0,\"ticks\":\"\"}},\"type\":\"scattergl\"}],\"scattermapbox\":[{\"marker\":{\"colorbar\":{\"outlinewidth\":0,\"ticks\":\"\"}},\"type\":\"scattermapbox\"}],\"scatterpolar\":[{\"marker\":{\"colorbar\":{\"outlinewidth\":0,\"ticks\":\"\"}},\"type\":\"scatterpolar\"}],\"scatterpolargl\":[{\"marker\":{\"colorbar\":{\"outlinewidth\":0,\"ticks\":\"\"}},\"type\":\"scatterpolargl\"}],\"scatterternary\":[{\"marker\":{\"colorbar\":{\"outlinewidth\":0,\"ticks\":\"\"}},\"type\":\"scatterternary\"}],\"surface\":[{\"colorbar\":{\"outlinewidth\":0,\"ticks\":\"\"},\"colorscale\":[[0.0,\"#0d0887\"],[0.1111111111111111,\"#46039f\"],[0.2222222222222222,\"#7201a8\"],[0.3333333333333333,\"#9c179e\"],[0.4444444444444444,\"#bd3786\"],[0.5555555555555556,\"#d8576b\"],[0.6666666666666666,\"#ed7953\"],[0.7777777777777778,\"#fb9f3a\"],[0.8888888888888888,\"#fdca26\"],[1.0,\"#f0f921\"]],\"type\":\"surface\"}],\"table\":[{\"cells\":{\"fill\":{\"color\":\"#EBF0F8\"},\"line\":{\"color\":\"white\"}},\"header\":{\"fill\":{\"color\":\"#C8D4E3\"},\"line\":{\"color\":\"white\"}},\"type\":\"table\"}]},\"layout\":{\"annotationdefaults\":{\"arrowcolor\":\"#2a3f5f\",\"arrowhead\":0,\"arrowwidth\":1},\"autotypenumbers\":\"strict\",\"coloraxis\":{\"colorbar\":{\"outlinewidth\":0,\"ticks\":\"\"}},\"colorscale\":{\"diverging\":[[0,\"#8e0152\"],[0.1,\"#c51b7d\"],[0.2,\"#de77ae\"],[0.3,\"#f1b6da\"],[0.4,\"#fde0ef\"],[0.5,\"#f7f7f7\"],[0.6,\"#e6f5d0\"],[0.7,\"#b8e186\"],[0.8,\"#7fbc41\"],[0.9,\"#4d9221\"],[1,\"#276419\"]],\"sequential\":[[0.0,\"#0d0887\"],[0.1111111111111111,\"#46039f\"],[0.2222222222222222,\"#7201a8\"],[0.3333333333333333,\"#9c179e\"],[0.4444444444444444,\"#bd3786\"],[0.5555555555555556,\"#d8576b\"],[0.6666666666666666,\"#ed7953\"],[0.7777777777777778,\"#fb9f3a\"],[0.8888888888888888,\"#fdca26\"],[1.0,\"#f0f921\"]],\"sequentialminus\":[[0.0,\"#0d0887\"],[0.1111111111111111,\"#46039f\"],[0.2222222222222222,\"#7201a8\"],[0.3333333333333333,\"#9c179e\"],[0.4444444444444444,\"#bd3786\"],[0.5555555555555556,\"#d8576b\"],[0.6666666666666666,\"#ed7953\"],[0.7777777777777778,\"#fb9f3a\"],[0.8888888888888888,\"#fdca26\"],[1.0,\"#f0f921\"]]},\"colorway\":[\"#636efa\",\"#EF553B\",\"#00cc96\",\"#ab63fa\",\"#FFA15A\",\"#19d3f3\",\"#FF6692\",\"#B6E880\",\"#FF97FF\",\"#FECB52\"],\"font\":{\"color\":\"#2a3f5f\"},\"geo\":{\"bgcolor\":\"white\",\"lakecolor\":\"white\",\"landcolor\":\"#E5ECF6\",\"showlakes\":true,\"showland\":true,\"subunitcolor\":\"white\"},\"hoverlabel\":{\"align\":\"left\"},\"hovermode\":\"closest\",\"mapbox\":{\"style\":\"light\"},\"paper_bgcolor\":\"white\",\"plot_bgcolor\":\"#E5ECF6\",\"polar\":{\"angularaxis\":{\"gridcolor\":\"white\",\"linecolor\":\"white\",\"ticks\":\"\"},\"bgcolor\":\"#E5ECF6\",\"radialaxis\":{\"gridcolor\":\"white\",\"linecolor\":\"white\",\"ticks\":\"\"}},\"scene\":{\"xaxis\":{\"backgroundcolor\":\"#E5ECF6\",\"gridcolor\":\"white\",\"gridwidth\":2,\"linecolor\":\"white\",\"showbackground\":true,\"ticks\":\"\",\"zerolinecolor\":\"white\"},\"yaxis\":{\"backgroundcolor\":\"#E5ECF6\",\"gridcolor\":\"white\",\"gridwidth\":2,\"linecolor\":\"white\",\"showbackground\":true,\"ticks\":\"\",\"zerolinecolor\":\"white\"},\"zaxis\":{\"backgroundcolor\":\"#E5ECF6\",\"gridcolor\":\"white\",\"gridwidth\":2,\"linecolor\":\"white\",\"showbackground\":true,\"ticks\":\"\",\"zerolinecolor\":\"white\"}},\"shapedefaults\":{\"line\":{\"color\":\"#2a3f5f\"}},\"ternary\":{\"aaxis\":{\"gridcolor\":\"white\",\"linecolor\":\"white\",\"ticks\":\"\"},\"baxis\":{\"gridcolor\":\"white\",\"linecolor\":\"white\",\"ticks\":\"\"},\"bgcolor\":\"#E5ECF6\",\"caxis\":{\"gridcolor\":\"white\",\"linecolor\":\"white\",\"ticks\":\"\"}},\"title\":{\"x\":0.05},\"xaxis\":{\"automargin\":true,\"gridcolor\":\"white\",\"linecolor\":\"white\",\"ticks\":\"\",\"title\":{\"standoff\":15},\"zerolinecolor\":\"white\",\"zerolinewidth\":2},\"yaxis\":{\"automargin\":true,\"gridcolor\":\"white\",\"linecolor\":\"white\",\"ticks\":\"\",\"title\":{\"standoff\":15},\"zerolinecolor\":\"white\",\"zerolinewidth\":2}}},\"xaxis\":{\"anchor\":\"y\",\"domain\":[0.0,0.45],\"title\":{\"text\":\"lr_penalty\"}},\"yaxis\":{\"anchor\":\"x\",\"domain\":[0.0,1.0],\"title\":{\"text\":\"Objective Value\"}},\"xaxis2\":{\"anchor\":\"y2\",\"domain\":[0.55,1.0],\"title\":{\"text\":\"lr_solver\"}},\"yaxis2\":{\"anchor\":\"x2\",\"domain\":[0.0,1.0],\"matches\":\"y\",\"showticklabels\":false},\"title\":{\"text\":\"Slice Plot\"}},                        {\"responsive\": true}                    ).then(function(){\n",
              "                            \n",
              "var gd = document.getElementById('4e4869d5-5a2b-4039-9df2-d41d6d414afc');\n",
              "var x = new MutationObserver(function (mutations, observer) {{\n",
              "        var display = window.getComputedStyle(gd).display;\n",
              "        if (!display || display === 'none') {{\n",
              "            console.log([gd, 'removed!']);\n",
              "            Plotly.purge(gd);\n",
              "            observer.disconnect();\n",
              "        }}\n",
              "}});\n",
              "\n",
              "// Listen for the removal of the full notebook cells\n",
              "var notebookContainer = gd.closest('#notebook-container');\n",
              "if (notebookContainer) {{\n",
              "    x.observe(notebookContainer, {childList: true});\n",
              "}}\n",
              "\n",
              "// Listen for the clearing of the current output cell\n",
              "var outputEl = gd.closest('.output');\n",
              "if (outputEl) {{\n",
              "    x.observe(outputEl, {childList: true});\n",
              "}}\n",
              "\n",
              "                        })                };                            </script>        </div>\n",
              "</body>\n",
              "</html>"
            ]
          },
          "metadata": {}
        }
      ]
    },
    {
      "cell_type": "markdown",
      "source": [
        "Vemos que o modelo foi testado poucas vezes na execução geral, portanto não conseguimos obter insights acerca destes hiperparâmetros, dessa forma, executaremos o estudo exclusivamente com o algortimo LogisticRegression"
      ],
      "metadata": {
        "id": "NYXLB5viTghT"
      }
    },
    {
      "cell_type": "code",
      "source": [
        "# Passo 1. Definindo função de objetivo a ser maximizada\n",
        "def objective_lr(trial):\n",
        "  classifier = trial.suggest_categorical(\"classifier\", [\"LR\"])\n",
        "  \n",
        "  # Passo 2. Definindo conjunto de hiperparâmetros\n",
        "  lr_penalty = trial.suggest_categorical(\"lr_penalty\", ['l1', 'l2'])\n",
        "  lr_solver = trial.suggest_categorical(\"lr_solver\", ['liblinear', 'saga'])\n",
        "  clf = LogisticRegression(random_state=RANDOM_STATE, penalty=lr_penalty, solver=lr_solver, max_iter=EPOCHS)\n",
        "  \n",
        "  # Treinando o modelo\n",
        "  clf.fit(X_train, y_train)\n",
        "\n",
        "  # Usando conjunto de validação para obter métricas\n",
        "  y_pred = clf.predict(X_val)\n",
        "  y_proba = clf.predict_proba(X_val)\n",
        "\n",
        "  # Passo 3: Métrica otimizada\n",
        "  acc, auroc, f1 = eval_metrics(y_val, y_pred, y_proba)\n",
        "  return f1"
      ],
      "metadata": {
        "id": "y90LmddLTghU"
      },
      "execution_count": 137,
      "outputs": []
    },
    {
      "cell_type": "code",
      "source": [
        "# Passo 4: Rodar o estudo\n",
        "study_lr = optuna.create_study(direction=\"maximize\")\n",
        "study_lr.optimize(objective_lr, n_trials=100)"
      ],
      "metadata": {
        "colab": {
          "base_uri": "https://localhost:8080/"
        },
        "outputId": "7d72a24c-73c7-4840-9241-598d009a5ada",
        "id": "dq6mqBlcTghU"
      },
      "execution_count": 138,
      "outputs": [
        {
          "output_type": "stream",
          "name": "stderr",
          "text": [
            "\u001b[32m[I 2022-09-02 17:50:24,111]\u001b[0m A new study created in memory with name: no-name-d2aaff76-1d2e-4174-8c45-cd0e51b5606f\u001b[0m\n",
            "\u001b[32m[I 2022-09-02 17:50:24,191]\u001b[0m Trial 0 finished with value: 0.7538235059016244 and parameters: {'classifier': 'LR', 'lr_penalty': 'l2', 'lr_solver': 'liblinear'}. Best is trial 0 with value: 0.7538235059016244.\u001b[0m\n",
            "\u001b[32m[I 2022-09-02 17:50:24,287]\u001b[0m Trial 1 finished with value: 0.7538235059016244 and parameters: {'classifier': 'LR', 'lr_penalty': 'l2', 'lr_solver': 'liblinear'}. Best is trial 0 with value: 0.7538235059016244.\u001b[0m\n",
            "\u001b[32m[I 2022-09-02 17:50:24,566]\u001b[0m Trial 2 finished with value: 0.7590172385817247 and parameters: {'classifier': 'LR', 'lr_penalty': 'l1', 'lr_solver': 'liblinear'}. Best is trial 2 with value: 0.7590172385817247.\u001b[0m\n",
            "\u001b[32m[I 2022-09-02 17:50:24,841]\u001b[0m Trial 3 finished with value: 0.7590172385817247 and parameters: {'classifier': 'LR', 'lr_penalty': 'l1', 'lr_solver': 'liblinear'}. Best is trial 2 with value: 0.7590172385817247.\u001b[0m\n",
            "\u001b[32m[I 2022-09-02 17:50:25,136]\u001b[0m Trial 4 finished with value: 0.7590172385817247 and parameters: {'classifier': 'LR', 'lr_penalty': 'l1', 'lr_solver': 'liblinear'}. Best is trial 2 with value: 0.7590172385817247.\u001b[0m\n",
            "\u001b[32m[I 2022-09-02 17:50:25,230]\u001b[0m Trial 5 finished with value: 0.7538235059016244 and parameters: {'classifier': 'LR', 'lr_penalty': 'l2', 'lr_solver': 'liblinear'}. Best is trial 2 with value: 0.7590172385817247.\u001b[0m\n",
            "\u001b[32m[I 2022-09-02 17:50:25,327]\u001b[0m Trial 6 finished with value: 0.7538235059016244 and parameters: {'classifier': 'LR', 'lr_penalty': 'l2', 'lr_solver': 'liblinear'}. Best is trial 2 with value: 0.7590172385817247.\u001b[0m\n",
            "/usr/local/lib/python3.7/dist-packages/sklearn/linear_model/_sag.py:354: ConvergenceWarning:\n",
            "\n",
            "The max_iter was reached which means the coef_ did not converge\n",
            "\n",
            "\u001b[32m[I 2022-09-02 17:50:27,742]\u001b[0m Trial 7 finished with value: 0.7415467133346342 and parameters: {'classifier': 'LR', 'lr_penalty': 'l2', 'lr_solver': 'saga'}. Best is trial 2 with value: 0.7590172385817247.\u001b[0m\n",
            "\u001b[32m[I 2022-09-02 17:50:27,829]\u001b[0m Trial 8 finished with value: 0.7538235059016244 and parameters: {'classifier': 'LR', 'lr_penalty': 'l2', 'lr_solver': 'liblinear'}. Best is trial 2 with value: 0.7590172385817247.\u001b[0m\n",
            "/usr/local/lib/python3.7/dist-packages/sklearn/linear_model/_sag.py:354: ConvergenceWarning:\n",
            "\n",
            "The max_iter was reached which means the coef_ did not converge\n",
            "\n",
            "\u001b[32m[I 2022-09-02 17:50:30,715]\u001b[0m Trial 9 finished with value: 0.7415467133346342 and parameters: {'classifier': 'LR', 'lr_penalty': 'l1', 'lr_solver': 'saga'}. Best is trial 2 with value: 0.7590172385817247.\u001b[0m\n",
            "/usr/local/lib/python3.7/dist-packages/sklearn/linear_model/_sag.py:354: ConvergenceWarning:\n",
            "\n",
            "The max_iter was reached which means the coef_ did not converge\n",
            "\n",
            "\u001b[32m[I 2022-09-02 17:50:33,651]\u001b[0m Trial 10 finished with value: 0.7415467133346342 and parameters: {'classifier': 'LR', 'lr_penalty': 'l1', 'lr_solver': 'saga'}. Best is trial 2 with value: 0.7590172385817247.\u001b[0m\n",
            "\u001b[32m[I 2022-09-02 17:50:33,921]\u001b[0m Trial 11 finished with value: 0.7590172385817247 and parameters: {'classifier': 'LR', 'lr_penalty': 'l1', 'lr_solver': 'liblinear'}. Best is trial 2 with value: 0.7590172385817247.\u001b[0m\n",
            "\u001b[32m[I 2022-09-02 17:50:34,198]\u001b[0m Trial 12 finished with value: 0.7590172385817247 and parameters: {'classifier': 'LR', 'lr_penalty': 'l1', 'lr_solver': 'liblinear'}. Best is trial 2 with value: 0.7590172385817247.\u001b[0m\n",
            "\u001b[32m[I 2022-09-02 17:50:34,468]\u001b[0m Trial 13 finished with value: 0.7590172385817247 and parameters: {'classifier': 'LR', 'lr_penalty': 'l1', 'lr_solver': 'liblinear'}. Best is trial 2 with value: 0.7590172385817247.\u001b[0m\n",
            "\u001b[32m[I 2022-09-02 17:50:34,747]\u001b[0m Trial 14 finished with value: 0.7590172385817247 and parameters: {'classifier': 'LR', 'lr_penalty': 'l1', 'lr_solver': 'liblinear'}. Best is trial 2 with value: 0.7590172385817247.\u001b[0m\n",
            "/usr/local/lib/python3.7/dist-packages/sklearn/linear_model/_sag.py:354: ConvergenceWarning:\n",
            "\n",
            "The max_iter was reached which means the coef_ did not converge\n",
            "\n",
            "\u001b[32m[I 2022-09-02 17:50:37,600]\u001b[0m Trial 15 finished with value: 0.7415467133346342 and parameters: {'classifier': 'LR', 'lr_penalty': 'l1', 'lr_solver': 'saga'}. Best is trial 2 with value: 0.7590172385817247.\u001b[0m\n",
            "\u001b[32m[I 2022-09-02 17:50:37,877]\u001b[0m Trial 16 finished with value: 0.7590172385817247 and parameters: {'classifier': 'LR', 'lr_penalty': 'l1', 'lr_solver': 'liblinear'}. Best is trial 2 with value: 0.7590172385817247.\u001b[0m\n",
            "\u001b[32m[I 2022-09-02 17:50:38,159]\u001b[0m Trial 17 finished with value: 0.7590172385817247 and parameters: {'classifier': 'LR', 'lr_penalty': 'l1', 'lr_solver': 'liblinear'}. Best is trial 2 with value: 0.7590172385817247.\u001b[0m\n",
            "/usr/local/lib/python3.7/dist-packages/sklearn/linear_model/_sag.py:354: ConvergenceWarning:\n",
            "\n",
            "The max_iter was reached which means the coef_ did not converge\n",
            "\n",
            "\u001b[32m[I 2022-09-02 17:50:41,014]\u001b[0m Trial 18 finished with value: 0.7415467133346342 and parameters: {'classifier': 'LR', 'lr_penalty': 'l1', 'lr_solver': 'saga'}. Best is trial 2 with value: 0.7590172385817247.\u001b[0m\n",
            "\u001b[32m[I 2022-09-02 17:50:41,287]\u001b[0m Trial 19 finished with value: 0.7590172385817247 and parameters: {'classifier': 'LR', 'lr_penalty': 'l1', 'lr_solver': 'liblinear'}. Best is trial 2 with value: 0.7590172385817247.\u001b[0m\n",
            "\u001b[32m[I 2022-09-02 17:50:41,559]\u001b[0m Trial 20 finished with value: 0.7590172385817247 and parameters: {'classifier': 'LR', 'lr_penalty': 'l1', 'lr_solver': 'liblinear'}. Best is trial 2 with value: 0.7590172385817247.\u001b[0m\n",
            "\u001b[32m[I 2022-09-02 17:50:41,858]\u001b[0m Trial 21 finished with value: 0.7590172385817247 and parameters: {'classifier': 'LR', 'lr_penalty': 'l1', 'lr_solver': 'liblinear'}. Best is trial 2 with value: 0.7590172385817247.\u001b[0m\n",
            "\u001b[32m[I 2022-09-02 17:50:42,130]\u001b[0m Trial 22 finished with value: 0.7590172385817247 and parameters: {'classifier': 'LR', 'lr_penalty': 'l1', 'lr_solver': 'liblinear'}. Best is trial 2 with value: 0.7590172385817247.\u001b[0m\n",
            "\u001b[32m[I 2022-09-02 17:50:42,417]\u001b[0m Trial 23 finished with value: 0.7590172385817247 and parameters: {'classifier': 'LR', 'lr_penalty': 'l1', 'lr_solver': 'liblinear'}. Best is trial 2 with value: 0.7590172385817247.\u001b[0m\n",
            "\u001b[32m[I 2022-09-02 17:50:42,686]\u001b[0m Trial 24 finished with value: 0.7590172385817247 and parameters: {'classifier': 'LR', 'lr_penalty': 'l1', 'lr_solver': 'liblinear'}. Best is trial 2 with value: 0.7590172385817247.\u001b[0m\n",
            "\u001b[32m[I 2022-09-02 17:50:42,966]\u001b[0m Trial 25 finished with value: 0.7590172385817247 and parameters: {'classifier': 'LR', 'lr_penalty': 'l1', 'lr_solver': 'liblinear'}. Best is trial 2 with value: 0.7590172385817247.\u001b[0m\n",
            "/usr/local/lib/python3.7/dist-packages/sklearn/linear_model/_sag.py:354: ConvergenceWarning:\n",
            "\n",
            "The max_iter was reached which means the coef_ did not converge\n",
            "\n",
            "\u001b[32m[I 2022-09-02 17:50:45,808]\u001b[0m Trial 26 finished with value: 0.7415467133346342 and parameters: {'classifier': 'LR', 'lr_penalty': 'l1', 'lr_solver': 'saga'}. Best is trial 2 with value: 0.7590172385817247.\u001b[0m\n",
            "\u001b[32m[I 2022-09-02 17:50:46,089]\u001b[0m Trial 27 finished with value: 0.7590172385817247 and parameters: {'classifier': 'LR', 'lr_penalty': 'l1', 'lr_solver': 'liblinear'}. Best is trial 2 with value: 0.7590172385817247.\u001b[0m\n",
            "\u001b[32m[I 2022-09-02 17:50:46,360]\u001b[0m Trial 28 finished with value: 0.7590172385817247 and parameters: {'classifier': 'LR', 'lr_penalty': 'l1', 'lr_solver': 'liblinear'}. Best is trial 2 with value: 0.7590172385817247.\u001b[0m\n",
            "\u001b[32m[I 2022-09-02 17:50:46,452]\u001b[0m Trial 29 finished with value: 0.7538235059016244 and parameters: {'classifier': 'LR', 'lr_penalty': 'l2', 'lr_solver': 'liblinear'}. Best is trial 2 with value: 0.7590172385817247.\u001b[0m\n",
            "\u001b[32m[I 2022-09-02 17:50:46,723]\u001b[0m Trial 30 finished with value: 0.7590172385817247 and parameters: {'classifier': 'LR', 'lr_penalty': 'l1', 'lr_solver': 'liblinear'}. Best is trial 2 with value: 0.7590172385817247.\u001b[0m\n",
            "\u001b[32m[I 2022-09-02 17:50:47,002]\u001b[0m Trial 31 finished with value: 0.7590172385817247 and parameters: {'classifier': 'LR', 'lr_penalty': 'l1', 'lr_solver': 'liblinear'}. Best is trial 2 with value: 0.7590172385817247.\u001b[0m\n",
            "\u001b[32m[I 2022-09-02 17:50:47,276]\u001b[0m Trial 32 finished with value: 0.7590172385817247 and parameters: {'classifier': 'LR', 'lr_penalty': 'l1', 'lr_solver': 'liblinear'}. Best is trial 2 with value: 0.7590172385817247.\u001b[0m\n",
            "\u001b[32m[I 2022-09-02 17:50:47,552]\u001b[0m Trial 33 finished with value: 0.7590172385817247 and parameters: {'classifier': 'LR', 'lr_penalty': 'l1', 'lr_solver': 'liblinear'}. Best is trial 2 with value: 0.7590172385817247.\u001b[0m\n",
            "\u001b[32m[I 2022-09-02 17:50:47,819]\u001b[0m Trial 34 finished with value: 0.7590172385817247 and parameters: {'classifier': 'LR', 'lr_penalty': 'l1', 'lr_solver': 'liblinear'}. Best is trial 2 with value: 0.7590172385817247.\u001b[0m\n",
            "\u001b[32m[I 2022-09-02 17:50:48,104]\u001b[0m Trial 35 finished with value: 0.7590172385817247 and parameters: {'classifier': 'LR', 'lr_penalty': 'l1', 'lr_solver': 'liblinear'}. Best is trial 2 with value: 0.7590172385817247.\u001b[0m\n",
            "\u001b[32m[I 2022-09-02 17:50:48,194]\u001b[0m Trial 36 finished with value: 0.7538235059016244 and parameters: {'classifier': 'LR', 'lr_penalty': 'l2', 'lr_solver': 'liblinear'}. Best is trial 2 with value: 0.7590172385817247.\u001b[0m\n",
            "\u001b[32m[I 2022-09-02 17:50:48,468]\u001b[0m Trial 37 finished with value: 0.7590172385817247 and parameters: {'classifier': 'LR', 'lr_penalty': 'l1', 'lr_solver': 'liblinear'}. Best is trial 2 with value: 0.7590172385817247.\u001b[0m\n",
            "\u001b[32m[I 2022-09-02 17:50:48,559]\u001b[0m Trial 38 finished with value: 0.7538235059016244 and parameters: {'classifier': 'LR', 'lr_penalty': 'l2', 'lr_solver': 'liblinear'}. Best is trial 2 with value: 0.7590172385817247.\u001b[0m\n",
            "\u001b[32m[I 2022-09-02 17:50:48,839]\u001b[0m Trial 39 finished with value: 0.7590172385817247 and parameters: {'classifier': 'LR', 'lr_penalty': 'l1', 'lr_solver': 'liblinear'}. Best is trial 2 with value: 0.7590172385817247.\u001b[0m\n",
            "/usr/local/lib/python3.7/dist-packages/sklearn/linear_model/_sag.py:354: ConvergenceWarning:\n",
            "\n",
            "The max_iter was reached which means the coef_ did not converge\n",
            "\n",
            "\u001b[32m[I 2022-09-02 17:50:51,184]\u001b[0m Trial 40 finished with value: 0.7415467133346342 and parameters: {'classifier': 'LR', 'lr_penalty': 'l2', 'lr_solver': 'saga'}. Best is trial 2 with value: 0.7590172385817247.\u001b[0m\n",
            "\u001b[32m[I 2022-09-02 17:50:51,451]\u001b[0m Trial 41 finished with value: 0.7590172385817247 and parameters: {'classifier': 'LR', 'lr_penalty': 'l1', 'lr_solver': 'liblinear'}. Best is trial 2 with value: 0.7590172385817247.\u001b[0m\n",
            "\u001b[32m[I 2022-09-02 17:50:51,720]\u001b[0m Trial 42 finished with value: 0.7590172385817247 and parameters: {'classifier': 'LR', 'lr_penalty': 'l1', 'lr_solver': 'liblinear'}. Best is trial 2 with value: 0.7590172385817247.\u001b[0m\n",
            "\u001b[32m[I 2022-09-02 17:50:51,987]\u001b[0m Trial 43 finished with value: 0.7590172385817247 and parameters: {'classifier': 'LR', 'lr_penalty': 'l1', 'lr_solver': 'liblinear'}. Best is trial 2 with value: 0.7590172385817247.\u001b[0m\n",
            "\u001b[32m[I 2022-09-02 17:50:52,268]\u001b[0m Trial 44 finished with value: 0.7590172385817247 and parameters: {'classifier': 'LR', 'lr_penalty': 'l1', 'lr_solver': 'liblinear'}. Best is trial 2 with value: 0.7590172385817247.\u001b[0m\n",
            "\u001b[32m[I 2022-09-02 17:50:52,540]\u001b[0m Trial 45 finished with value: 0.7590172385817247 and parameters: {'classifier': 'LR', 'lr_penalty': 'l1', 'lr_solver': 'liblinear'}. Best is trial 2 with value: 0.7590172385817247.\u001b[0m\n",
            "\u001b[32m[I 2022-09-02 17:50:52,818]\u001b[0m Trial 46 finished with value: 0.7590172385817247 and parameters: {'classifier': 'LR', 'lr_penalty': 'l1', 'lr_solver': 'liblinear'}. Best is trial 2 with value: 0.7590172385817247.\u001b[0m\n",
            "\u001b[32m[I 2022-09-02 17:50:53,094]\u001b[0m Trial 47 finished with value: 0.7590172385817247 and parameters: {'classifier': 'LR', 'lr_penalty': 'l1', 'lr_solver': 'liblinear'}. Best is trial 2 with value: 0.7590172385817247.\u001b[0m\n",
            "/usr/local/lib/python3.7/dist-packages/sklearn/linear_model/_sag.py:354: ConvergenceWarning:\n",
            "\n",
            "The max_iter was reached which means the coef_ did not converge\n",
            "\n",
            "\u001b[32m[I 2022-09-02 17:50:55,919]\u001b[0m Trial 48 finished with value: 0.7415467133346342 and parameters: {'classifier': 'LR', 'lr_penalty': 'l1', 'lr_solver': 'saga'}. Best is trial 2 with value: 0.7590172385817247.\u001b[0m\n",
            "\u001b[32m[I 2022-09-02 17:50:56,021]\u001b[0m Trial 49 finished with value: 0.7538235059016244 and parameters: {'classifier': 'LR', 'lr_penalty': 'l2', 'lr_solver': 'liblinear'}. Best is trial 2 with value: 0.7590172385817247.\u001b[0m\n",
            "\u001b[32m[I 2022-09-02 17:50:56,305]\u001b[0m Trial 50 finished with value: 0.7590172385817247 and parameters: {'classifier': 'LR', 'lr_penalty': 'l1', 'lr_solver': 'liblinear'}. Best is trial 2 with value: 0.7590172385817247.\u001b[0m\n",
            "\u001b[32m[I 2022-09-02 17:50:56,574]\u001b[0m Trial 51 finished with value: 0.7590172385817247 and parameters: {'classifier': 'LR', 'lr_penalty': 'l1', 'lr_solver': 'liblinear'}. Best is trial 2 with value: 0.7590172385817247.\u001b[0m\n",
            "\u001b[32m[I 2022-09-02 17:50:56,848]\u001b[0m Trial 52 finished with value: 0.7590172385817247 and parameters: {'classifier': 'LR', 'lr_penalty': 'l1', 'lr_solver': 'liblinear'}. Best is trial 2 with value: 0.7590172385817247.\u001b[0m\n",
            "\u001b[32m[I 2022-09-02 17:50:57,129]\u001b[0m Trial 53 finished with value: 0.7590172385817247 and parameters: {'classifier': 'LR', 'lr_penalty': 'l1', 'lr_solver': 'liblinear'}. Best is trial 2 with value: 0.7590172385817247.\u001b[0m\n",
            "\u001b[32m[I 2022-09-02 17:50:57,413]\u001b[0m Trial 54 finished with value: 0.7590172385817247 and parameters: {'classifier': 'LR', 'lr_penalty': 'l1', 'lr_solver': 'liblinear'}. Best is trial 2 with value: 0.7590172385817247.\u001b[0m\n",
            "\u001b[32m[I 2022-09-02 17:50:57,681]\u001b[0m Trial 55 finished with value: 0.7590172385817247 and parameters: {'classifier': 'LR', 'lr_penalty': 'l1', 'lr_solver': 'liblinear'}. Best is trial 2 with value: 0.7590172385817247.\u001b[0m\n",
            "\u001b[32m[I 2022-09-02 17:50:57,955]\u001b[0m Trial 56 finished with value: 0.7590172385817247 and parameters: {'classifier': 'LR', 'lr_penalty': 'l1', 'lr_solver': 'liblinear'}. Best is trial 2 with value: 0.7590172385817247.\u001b[0m\n",
            "/usr/local/lib/python3.7/dist-packages/sklearn/linear_model/_sag.py:354: ConvergenceWarning:\n",
            "\n",
            "The max_iter was reached which means the coef_ did not converge\n",
            "\n",
            "\u001b[32m[I 2022-09-02 17:51:00,763]\u001b[0m Trial 57 finished with value: 0.7415467133346342 and parameters: {'classifier': 'LR', 'lr_penalty': 'l1', 'lr_solver': 'saga'}. Best is trial 2 with value: 0.7590172385817247.\u001b[0m\n",
            "\u001b[32m[I 2022-09-02 17:51:01,039]\u001b[0m Trial 58 finished with value: 0.7590172385817247 and parameters: {'classifier': 'LR', 'lr_penalty': 'l1', 'lr_solver': 'liblinear'}. Best is trial 2 with value: 0.7590172385817247.\u001b[0m\n",
            "\u001b[32m[I 2022-09-02 17:51:01,315]\u001b[0m Trial 59 finished with value: 0.7590172385817247 and parameters: {'classifier': 'LR', 'lr_penalty': 'l1', 'lr_solver': 'liblinear'}. Best is trial 2 with value: 0.7590172385817247.\u001b[0m\n",
            "\u001b[32m[I 2022-09-02 17:51:01,593]\u001b[0m Trial 60 finished with value: 0.7590172385817247 and parameters: {'classifier': 'LR', 'lr_penalty': 'l1', 'lr_solver': 'liblinear'}. Best is trial 2 with value: 0.7590172385817247.\u001b[0m\n",
            "\u001b[32m[I 2022-09-02 17:51:01,869]\u001b[0m Trial 61 finished with value: 0.7590172385817247 and parameters: {'classifier': 'LR', 'lr_penalty': 'l1', 'lr_solver': 'liblinear'}. Best is trial 2 with value: 0.7590172385817247.\u001b[0m\n",
            "\u001b[32m[I 2022-09-02 17:51:02,145]\u001b[0m Trial 62 finished with value: 0.7590172385817247 and parameters: {'classifier': 'LR', 'lr_penalty': 'l1', 'lr_solver': 'liblinear'}. Best is trial 2 with value: 0.7590172385817247.\u001b[0m\n",
            "\u001b[32m[I 2022-09-02 17:51:02,424]\u001b[0m Trial 63 finished with value: 0.7590172385817247 and parameters: {'classifier': 'LR', 'lr_penalty': 'l1', 'lr_solver': 'liblinear'}. Best is trial 2 with value: 0.7590172385817247.\u001b[0m\n",
            "\u001b[32m[I 2022-09-02 17:51:02,694]\u001b[0m Trial 64 finished with value: 0.7590172385817247 and parameters: {'classifier': 'LR', 'lr_penalty': 'l1', 'lr_solver': 'liblinear'}. Best is trial 2 with value: 0.7590172385817247.\u001b[0m\n",
            "\u001b[32m[I 2022-09-02 17:51:02,964]\u001b[0m Trial 65 finished with value: 0.7590172385817247 and parameters: {'classifier': 'LR', 'lr_penalty': 'l1', 'lr_solver': 'liblinear'}. Best is trial 2 with value: 0.7590172385817247.\u001b[0m\n",
            "\u001b[32m[I 2022-09-02 17:51:03,242]\u001b[0m Trial 66 finished with value: 0.7590172385817247 and parameters: {'classifier': 'LR', 'lr_penalty': 'l1', 'lr_solver': 'liblinear'}. Best is trial 2 with value: 0.7590172385817247.\u001b[0m\n",
            "/usr/local/lib/python3.7/dist-packages/sklearn/linear_model/_sag.py:354: ConvergenceWarning:\n",
            "\n",
            "The max_iter was reached which means the coef_ did not converge\n",
            "\n",
            "\u001b[32m[I 2022-09-02 17:51:06,078]\u001b[0m Trial 67 finished with value: 0.7415467133346342 and parameters: {'classifier': 'LR', 'lr_penalty': 'l1', 'lr_solver': 'saga'}. Best is trial 2 with value: 0.7590172385817247.\u001b[0m\n",
            "\u001b[32m[I 2022-09-02 17:51:06,180]\u001b[0m Trial 68 finished with value: 0.7538235059016244 and parameters: {'classifier': 'LR', 'lr_penalty': 'l2', 'lr_solver': 'liblinear'}. Best is trial 2 with value: 0.7590172385817247.\u001b[0m\n",
            "\u001b[32m[I 2022-09-02 17:51:06,455]\u001b[0m Trial 69 finished with value: 0.7590172385817247 and parameters: {'classifier': 'LR', 'lr_penalty': 'l1', 'lr_solver': 'liblinear'}. Best is trial 2 with value: 0.7590172385817247.\u001b[0m\n",
            "\u001b[32m[I 2022-09-02 17:51:06,735]\u001b[0m Trial 70 finished with value: 0.7590172385817247 and parameters: {'classifier': 'LR', 'lr_penalty': 'l1', 'lr_solver': 'liblinear'}. Best is trial 2 with value: 0.7590172385817247.\u001b[0m\n",
            "\u001b[32m[I 2022-09-02 17:51:07,016]\u001b[0m Trial 71 finished with value: 0.7590172385817247 and parameters: {'classifier': 'LR', 'lr_penalty': 'l1', 'lr_solver': 'liblinear'}. Best is trial 2 with value: 0.7590172385817247.\u001b[0m\n",
            "\u001b[32m[I 2022-09-02 17:51:07,291]\u001b[0m Trial 72 finished with value: 0.7590172385817247 and parameters: {'classifier': 'LR', 'lr_penalty': 'l1', 'lr_solver': 'liblinear'}. Best is trial 2 with value: 0.7590172385817247.\u001b[0m\n",
            "\u001b[32m[I 2022-09-02 17:51:07,574]\u001b[0m Trial 73 finished with value: 0.7590172385817247 and parameters: {'classifier': 'LR', 'lr_penalty': 'l1', 'lr_solver': 'liblinear'}. Best is trial 2 with value: 0.7590172385817247.\u001b[0m\n",
            "\u001b[32m[I 2022-09-02 17:51:07,847]\u001b[0m Trial 74 finished with value: 0.7590172385817247 and parameters: {'classifier': 'LR', 'lr_penalty': 'l1', 'lr_solver': 'liblinear'}. Best is trial 2 with value: 0.7590172385817247.\u001b[0m\n",
            "\u001b[32m[I 2022-09-02 17:51:08,126]\u001b[0m Trial 75 finished with value: 0.7590172385817247 and parameters: {'classifier': 'LR', 'lr_penalty': 'l1', 'lr_solver': 'liblinear'}. Best is trial 2 with value: 0.7590172385817247.\u001b[0m\n",
            "\u001b[32m[I 2022-09-02 17:51:08,400]\u001b[0m Trial 76 finished with value: 0.7590172385817247 and parameters: {'classifier': 'LR', 'lr_penalty': 'l1', 'lr_solver': 'liblinear'}. Best is trial 2 with value: 0.7590172385817247.\u001b[0m\n",
            "\u001b[32m[I 2022-09-02 17:51:08,686]\u001b[0m Trial 77 finished with value: 0.7590172385817247 and parameters: {'classifier': 'LR', 'lr_penalty': 'l1', 'lr_solver': 'liblinear'}. Best is trial 2 with value: 0.7590172385817247.\u001b[0m\n",
            "\u001b[32m[I 2022-09-02 17:51:08,784]\u001b[0m Trial 78 finished with value: 0.7538235059016244 and parameters: {'classifier': 'LR', 'lr_penalty': 'l2', 'lr_solver': 'liblinear'}. Best is trial 2 with value: 0.7590172385817247.\u001b[0m\n",
            "/usr/local/lib/python3.7/dist-packages/sklearn/linear_model/_sag.py:354: ConvergenceWarning:\n",
            "\n",
            "The max_iter was reached which means the coef_ did not converge\n",
            "\n",
            "\u001b[32m[I 2022-09-02 17:51:11,659]\u001b[0m Trial 79 finished with value: 0.7415467133346342 and parameters: {'classifier': 'LR', 'lr_penalty': 'l1', 'lr_solver': 'saga'}. Best is trial 2 with value: 0.7590172385817247.\u001b[0m\n",
            "\u001b[32m[I 2022-09-02 17:51:11,931]\u001b[0m Trial 80 finished with value: 0.7590172385817247 and parameters: {'classifier': 'LR', 'lr_penalty': 'l1', 'lr_solver': 'liblinear'}. Best is trial 2 with value: 0.7590172385817247.\u001b[0m\n",
            "\u001b[32m[I 2022-09-02 17:51:12,209]\u001b[0m Trial 81 finished with value: 0.7590172385817247 and parameters: {'classifier': 'LR', 'lr_penalty': 'l1', 'lr_solver': 'liblinear'}. Best is trial 2 with value: 0.7590172385817247.\u001b[0m\n",
            "\u001b[32m[I 2022-09-02 17:51:12,486]\u001b[0m Trial 82 finished with value: 0.7590172385817247 and parameters: {'classifier': 'LR', 'lr_penalty': 'l1', 'lr_solver': 'liblinear'}. Best is trial 2 with value: 0.7590172385817247.\u001b[0m\n",
            "\u001b[32m[I 2022-09-02 17:51:12,767]\u001b[0m Trial 83 finished with value: 0.7590172385817247 and parameters: {'classifier': 'LR', 'lr_penalty': 'l1', 'lr_solver': 'liblinear'}. Best is trial 2 with value: 0.7590172385817247.\u001b[0m\n",
            "\u001b[32m[I 2022-09-02 17:51:13,043]\u001b[0m Trial 84 finished with value: 0.7590172385817247 and parameters: {'classifier': 'LR', 'lr_penalty': 'l1', 'lr_solver': 'liblinear'}. Best is trial 2 with value: 0.7590172385817247.\u001b[0m\n",
            "\u001b[32m[I 2022-09-02 17:51:13,321]\u001b[0m Trial 85 finished with value: 0.7590172385817247 and parameters: {'classifier': 'LR', 'lr_penalty': 'l1', 'lr_solver': 'liblinear'}. Best is trial 2 with value: 0.7590172385817247.\u001b[0m\n",
            "\u001b[32m[I 2022-09-02 17:51:13,599]\u001b[0m Trial 86 finished with value: 0.7590172385817247 and parameters: {'classifier': 'LR', 'lr_penalty': 'l1', 'lr_solver': 'liblinear'}. Best is trial 2 with value: 0.7590172385817247.\u001b[0m\n",
            "\u001b[32m[I 2022-09-02 17:51:13,874]\u001b[0m Trial 87 finished with value: 0.7590172385817247 and parameters: {'classifier': 'LR', 'lr_penalty': 'l1', 'lr_solver': 'liblinear'}. Best is trial 2 with value: 0.7590172385817247.\u001b[0m\n",
            "\u001b[32m[I 2022-09-02 17:51:14,158]\u001b[0m Trial 88 finished with value: 0.7590172385817247 and parameters: {'classifier': 'LR', 'lr_penalty': 'l1', 'lr_solver': 'liblinear'}. Best is trial 2 with value: 0.7590172385817247.\u001b[0m\n",
            "\u001b[32m[I 2022-09-02 17:51:14,430]\u001b[0m Trial 89 finished with value: 0.7590172385817247 and parameters: {'classifier': 'LR', 'lr_penalty': 'l1', 'lr_solver': 'liblinear'}. Best is trial 2 with value: 0.7590172385817247.\u001b[0m\n",
            "\u001b[32m[I 2022-09-02 17:51:14,710]\u001b[0m Trial 90 finished with value: 0.7590172385817247 and parameters: {'classifier': 'LR', 'lr_penalty': 'l1', 'lr_solver': 'liblinear'}. Best is trial 2 with value: 0.7590172385817247.\u001b[0m\n",
            "\u001b[32m[I 2022-09-02 17:51:14,984]\u001b[0m Trial 91 finished with value: 0.7590172385817247 and parameters: {'classifier': 'LR', 'lr_penalty': 'l1', 'lr_solver': 'liblinear'}. Best is trial 2 with value: 0.7590172385817247.\u001b[0m\n",
            "\u001b[32m[I 2022-09-02 17:51:15,279]\u001b[0m Trial 92 finished with value: 0.7590172385817247 and parameters: {'classifier': 'LR', 'lr_penalty': 'l1', 'lr_solver': 'liblinear'}. Best is trial 2 with value: 0.7590172385817247.\u001b[0m\n",
            "\u001b[32m[I 2022-09-02 17:51:15,554]\u001b[0m Trial 93 finished with value: 0.7590172385817247 and parameters: {'classifier': 'LR', 'lr_penalty': 'l1', 'lr_solver': 'liblinear'}. Best is trial 2 with value: 0.7590172385817247.\u001b[0m\n",
            "\u001b[32m[I 2022-09-02 17:51:15,833]\u001b[0m Trial 94 finished with value: 0.7590172385817247 and parameters: {'classifier': 'LR', 'lr_penalty': 'l1', 'lr_solver': 'liblinear'}. Best is trial 2 with value: 0.7590172385817247.\u001b[0m\n",
            "\u001b[32m[I 2022-09-02 17:51:16,110]\u001b[0m Trial 95 finished with value: 0.7590172385817247 and parameters: {'classifier': 'LR', 'lr_penalty': 'l1', 'lr_solver': 'liblinear'}. Best is trial 2 with value: 0.7590172385817247.\u001b[0m\n",
            "\u001b[32m[I 2022-09-02 17:51:16,384]\u001b[0m Trial 96 finished with value: 0.7590172385817247 and parameters: {'classifier': 'LR', 'lr_penalty': 'l1', 'lr_solver': 'liblinear'}. Best is trial 2 with value: 0.7590172385817247.\u001b[0m\n",
            "\u001b[32m[I 2022-09-02 17:51:16,653]\u001b[0m Trial 97 finished with value: 0.7590172385817247 and parameters: {'classifier': 'LR', 'lr_penalty': 'l1', 'lr_solver': 'liblinear'}. Best is trial 2 with value: 0.7590172385817247.\u001b[0m\n",
            "/usr/local/lib/python3.7/dist-packages/sklearn/linear_model/_sag.py:354: ConvergenceWarning:\n",
            "\n",
            "The max_iter was reached which means the coef_ did not converge\n",
            "\n",
            "\u001b[32m[I 2022-09-02 17:51:19,054]\u001b[0m Trial 98 finished with value: 0.7415467133346342 and parameters: {'classifier': 'LR', 'lr_penalty': 'l2', 'lr_solver': 'saga'}. Best is trial 2 with value: 0.7590172385817247.\u001b[0m\n",
            "\u001b[32m[I 2022-09-02 17:51:19,326]\u001b[0m Trial 99 finished with value: 0.7590172385817247 and parameters: {'classifier': 'LR', 'lr_penalty': 'l1', 'lr_solver': 'liblinear'}. Best is trial 2 with value: 0.7590172385817247.\u001b[0m\n"
          ]
        }
      ]
    },
    {
      "cell_type": "code",
      "source": [
        "optuna.visualization.plot_optimization_history(study_lr).show()"
      ],
      "metadata": {
        "colab": {
          "base_uri": "https://localhost:8080/",
          "height": 542
        },
        "outputId": "bd436920-3761-40ef-af0f-ba876089110f",
        "id": "tJ56HVNLTghV"
      },
      "execution_count": 139,
      "outputs": [
        {
          "output_type": "display_data",
          "data": {
            "text/html": [
              "<html>\n",
              "<head><meta charset=\"utf-8\" /></head>\n",
              "<body>\n",
              "    <div>            <script src=\"https://cdnjs.cloudflare.com/ajax/libs/mathjax/2.7.5/MathJax.js?config=TeX-AMS-MML_SVG\"></script><script type=\"text/javascript\">if (window.MathJax) {MathJax.Hub.Config({SVG: {font: \"STIX-Web\"}});}</script>                <script type=\"text/javascript\">window.PlotlyConfig = {MathJaxConfig: 'local'};</script>\n",
              "        <script src=\"https://cdn.plot.ly/plotly-2.8.3.min.js\"></script>                <div id=\"30a8d5d1-1ce4-41d6-9a6b-4c0c1fe53e11\" class=\"plotly-graph-div\" style=\"height:525px; width:100%;\"></div>            <script type=\"text/javascript\">                                    window.PLOTLYENV=window.PLOTLYENV || {};                                    if (document.getElementById(\"30a8d5d1-1ce4-41d6-9a6b-4c0c1fe53e11\")) {                    Plotly.newPlot(                        \"30a8d5d1-1ce4-41d6-9a6b-4c0c1fe53e11\",                        [{\"mode\":\"markers\",\"name\":\"Objective Value\",\"x\":[0,1,2,3,4,5,6,7,8,9,10,11,12,13,14,15,16,17,18,19,20,21,22,23,24,25,26,27,28,29,30,31,32,33,34,35,36,37,38,39,40,41,42,43,44,45,46,47,48,49,50,51,52,53,54,55,56,57,58,59,60,61,62,63,64,65,66,67,68,69,70,71,72,73,74,75,76,77,78,79,80,81,82,83,84,85,86,87,88,89,90,91,92,93,94,95,96,97,98,99],\"y\":[0.7538235059016244,0.7538235059016244,0.7590172385817247,0.7590172385817247,0.7590172385817247,0.7538235059016244,0.7538235059016244,0.7415467133346342,0.7538235059016244,0.7415467133346342,0.7415467133346342,0.7590172385817247,0.7590172385817247,0.7590172385817247,0.7590172385817247,0.7415467133346342,0.7590172385817247,0.7590172385817247,0.7415467133346342,0.7590172385817247,0.7590172385817247,0.7590172385817247,0.7590172385817247,0.7590172385817247,0.7590172385817247,0.7590172385817247,0.7415467133346342,0.7590172385817247,0.7590172385817247,0.7538235059016244,0.7590172385817247,0.7590172385817247,0.7590172385817247,0.7590172385817247,0.7590172385817247,0.7590172385817247,0.7538235059016244,0.7590172385817247,0.7538235059016244,0.7590172385817247,0.7415467133346342,0.7590172385817247,0.7590172385817247,0.7590172385817247,0.7590172385817247,0.7590172385817247,0.7590172385817247,0.7590172385817247,0.7415467133346342,0.7538235059016244,0.7590172385817247,0.7590172385817247,0.7590172385817247,0.7590172385817247,0.7590172385817247,0.7590172385817247,0.7590172385817247,0.7415467133346342,0.7590172385817247,0.7590172385817247,0.7590172385817247,0.7590172385817247,0.7590172385817247,0.7590172385817247,0.7590172385817247,0.7590172385817247,0.7590172385817247,0.7415467133346342,0.7538235059016244,0.7590172385817247,0.7590172385817247,0.7590172385817247,0.7590172385817247,0.7590172385817247,0.7590172385817247,0.7590172385817247,0.7590172385817247,0.7590172385817247,0.7538235059016244,0.7415467133346342,0.7590172385817247,0.7590172385817247,0.7590172385817247,0.7590172385817247,0.7590172385817247,0.7590172385817247,0.7590172385817247,0.7590172385817247,0.7590172385817247,0.7590172385817247,0.7590172385817247,0.7590172385817247,0.7590172385817247,0.7590172385817247,0.7590172385817247,0.7590172385817247,0.7590172385817247,0.7590172385817247,0.7415467133346342,0.7590172385817247],\"type\":\"scatter\"},{\"name\":\"Best Value\",\"x\":[0,1,2,3,4,5,6,7,8,9,10,11,12,13,14,15,16,17,18,19,20,21,22,23,24,25,26,27,28,29,30,31,32,33,34,35,36,37,38,39,40,41,42,43,44,45,46,47,48,49,50,51,52,53,54,55,56,57,58,59,60,61,62,63,64,65,66,67,68,69,70,71,72,73,74,75,76,77,78,79,80,81,82,83,84,85,86,87,88,89,90,91,92,93,94,95,96,97,98,99],\"y\":[0.7538235059016244,0.7538235059016244,0.7590172385817247,0.7590172385817247,0.7590172385817247,0.7590172385817247,0.7590172385817247,0.7590172385817247,0.7590172385817247,0.7590172385817247,0.7590172385817247,0.7590172385817247,0.7590172385817247,0.7590172385817247,0.7590172385817247,0.7590172385817247,0.7590172385817247,0.7590172385817247,0.7590172385817247,0.7590172385817247,0.7590172385817247,0.7590172385817247,0.7590172385817247,0.7590172385817247,0.7590172385817247,0.7590172385817247,0.7590172385817247,0.7590172385817247,0.7590172385817247,0.7590172385817247,0.7590172385817247,0.7590172385817247,0.7590172385817247,0.7590172385817247,0.7590172385817247,0.7590172385817247,0.7590172385817247,0.7590172385817247,0.7590172385817247,0.7590172385817247,0.7590172385817247,0.7590172385817247,0.7590172385817247,0.7590172385817247,0.7590172385817247,0.7590172385817247,0.7590172385817247,0.7590172385817247,0.7590172385817247,0.7590172385817247,0.7590172385817247,0.7590172385817247,0.7590172385817247,0.7590172385817247,0.7590172385817247,0.7590172385817247,0.7590172385817247,0.7590172385817247,0.7590172385817247,0.7590172385817247,0.7590172385817247,0.7590172385817247,0.7590172385817247,0.7590172385817247,0.7590172385817247,0.7590172385817247,0.7590172385817247,0.7590172385817247,0.7590172385817247,0.7590172385817247,0.7590172385817247,0.7590172385817247,0.7590172385817247,0.7590172385817247,0.7590172385817247,0.7590172385817247,0.7590172385817247,0.7590172385817247,0.7590172385817247,0.7590172385817247,0.7590172385817247,0.7590172385817247,0.7590172385817247,0.7590172385817247,0.7590172385817247,0.7590172385817247,0.7590172385817247,0.7590172385817247,0.7590172385817247,0.7590172385817247,0.7590172385817247,0.7590172385817247,0.7590172385817247,0.7590172385817247,0.7590172385817247,0.7590172385817247,0.7590172385817247,0.7590172385817247,0.7590172385817247,0.7590172385817247],\"type\":\"scatter\"}],                        {\"title\":{\"text\":\"Optimization History Plot\"},\"xaxis\":{\"title\":{\"text\":\"Trial\"}},\"yaxis\":{\"title\":{\"text\":\"Objective Value\"}},\"template\":{\"data\":{\"bar\":[{\"error_x\":{\"color\":\"#2a3f5f\"},\"error_y\":{\"color\":\"#2a3f5f\"},\"marker\":{\"line\":{\"color\":\"#E5ECF6\",\"width\":0.5},\"pattern\":{\"fillmode\":\"overlay\",\"size\":10,\"solidity\":0.2}},\"type\":\"bar\"}],\"barpolar\":[{\"marker\":{\"line\":{\"color\":\"#E5ECF6\",\"width\":0.5},\"pattern\":{\"fillmode\":\"overlay\",\"size\":10,\"solidity\":0.2}},\"type\":\"barpolar\"}],\"carpet\":[{\"aaxis\":{\"endlinecolor\":\"#2a3f5f\",\"gridcolor\":\"white\",\"linecolor\":\"white\",\"minorgridcolor\":\"white\",\"startlinecolor\":\"#2a3f5f\"},\"baxis\":{\"endlinecolor\":\"#2a3f5f\",\"gridcolor\":\"white\",\"linecolor\":\"white\",\"minorgridcolor\":\"white\",\"startlinecolor\":\"#2a3f5f\"},\"type\":\"carpet\"}],\"choropleth\":[{\"colorbar\":{\"outlinewidth\":0,\"ticks\":\"\"},\"type\":\"choropleth\"}],\"contour\":[{\"colorbar\":{\"outlinewidth\":0,\"ticks\":\"\"},\"colorscale\":[[0.0,\"#0d0887\"],[0.1111111111111111,\"#46039f\"],[0.2222222222222222,\"#7201a8\"],[0.3333333333333333,\"#9c179e\"],[0.4444444444444444,\"#bd3786\"],[0.5555555555555556,\"#d8576b\"],[0.6666666666666666,\"#ed7953\"],[0.7777777777777778,\"#fb9f3a\"],[0.8888888888888888,\"#fdca26\"],[1.0,\"#f0f921\"]],\"type\":\"contour\"}],\"contourcarpet\":[{\"colorbar\":{\"outlinewidth\":0,\"ticks\":\"\"},\"type\":\"contourcarpet\"}],\"heatmap\":[{\"colorbar\":{\"outlinewidth\":0,\"ticks\":\"\"},\"colorscale\":[[0.0,\"#0d0887\"],[0.1111111111111111,\"#46039f\"],[0.2222222222222222,\"#7201a8\"],[0.3333333333333333,\"#9c179e\"],[0.4444444444444444,\"#bd3786\"],[0.5555555555555556,\"#d8576b\"],[0.6666666666666666,\"#ed7953\"],[0.7777777777777778,\"#fb9f3a\"],[0.8888888888888888,\"#fdca26\"],[1.0,\"#f0f921\"]],\"type\":\"heatmap\"}],\"heatmapgl\":[{\"colorbar\":{\"outlinewidth\":0,\"ticks\":\"\"},\"colorscale\":[[0.0,\"#0d0887\"],[0.1111111111111111,\"#46039f\"],[0.2222222222222222,\"#7201a8\"],[0.3333333333333333,\"#9c179e\"],[0.4444444444444444,\"#bd3786\"],[0.5555555555555556,\"#d8576b\"],[0.6666666666666666,\"#ed7953\"],[0.7777777777777778,\"#fb9f3a\"],[0.8888888888888888,\"#fdca26\"],[1.0,\"#f0f921\"]],\"type\":\"heatmapgl\"}],\"histogram\":[{\"marker\":{\"pattern\":{\"fillmode\":\"overlay\",\"size\":10,\"solidity\":0.2}},\"type\":\"histogram\"}],\"histogram2d\":[{\"colorbar\":{\"outlinewidth\":0,\"ticks\":\"\"},\"colorscale\":[[0.0,\"#0d0887\"],[0.1111111111111111,\"#46039f\"],[0.2222222222222222,\"#7201a8\"],[0.3333333333333333,\"#9c179e\"],[0.4444444444444444,\"#bd3786\"],[0.5555555555555556,\"#d8576b\"],[0.6666666666666666,\"#ed7953\"],[0.7777777777777778,\"#fb9f3a\"],[0.8888888888888888,\"#fdca26\"],[1.0,\"#f0f921\"]],\"type\":\"histogram2d\"}],\"histogram2dcontour\":[{\"colorbar\":{\"outlinewidth\":0,\"ticks\":\"\"},\"colorscale\":[[0.0,\"#0d0887\"],[0.1111111111111111,\"#46039f\"],[0.2222222222222222,\"#7201a8\"],[0.3333333333333333,\"#9c179e\"],[0.4444444444444444,\"#bd3786\"],[0.5555555555555556,\"#d8576b\"],[0.6666666666666666,\"#ed7953\"],[0.7777777777777778,\"#fb9f3a\"],[0.8888888888888888,\"#fdca26\"],[1.0,\"#f0f921\"]],\"type\":\"histogram2dcontour\"}],\"mesh3d\":[{\"colorbar\":{\"outlinewidth\":0,\"ticks\":\"\"},\"type\":\"mesh3d\"}],\"parcoords\":[{\"line\":{\"colorbar\":{\"outlinewidth\":0,\"ticks\":\"\"}},\"type\":\"parcoords\"}],\"pie\":[{\"automargin\":true,\"type\":\"pie\"}],\"scatter\":[{\"marker\":{\"colorbar\":{\"outlinewidth\":0,\"ticks\":\"\"}},\"type\":\"scatter\"}],\"scatter3d\":[{\"line\":{\"colorbar\":{\"outlinewidth\":0,\"ticks\":\"\"}},\"marker\":{\"colorbar\":{\"outlinewidth\":0,\"ticks\":\"\"}},\"type\":\"scatter3d\"}],\"scattercarpet\":[{\"marker\":{\"colorbar\":{\"outlinewidth\":0,\"ticks\":\"\"}},\"type\":\"scattercarpet\"}],\"scattergeo\":[{\"marker\":{\"colorbar\":{\"outlinewidth\":0,\"ticks\":\"\"}},\"type\":\"scattergeo\"}],\"scattergl\":[{\"marker\":{\"colorbar\":{\"outlinewidth\":0,\"ticks\":\"\"}},\"type\":\"scattergl\"}],\"scattermapbox\":[{\"marker\":{\"colorbar\":{\"outlinewidth\":0,\"ticks\":\"\"}},\"type\":\"scattermapbox\"}],\"scatterpolar\":[{\"marker\":{\"colorbar\":{\"outlinewidth\":0,\"ticks\":\"\"}},\"type\":\"scatterpolar\"}],\"scatterpolargl\":[{\"marker\":{\"colorbar\":{\"outlinewidth\":0,\"ticks\":\"\"}},\"type\":\"scatterpolargl\"}],\"scatterternary\":[{\"marker\":{\"colorbar\":{\"outlinewidth\":0,\"ticks\":\"\"}},\"type\":\"scatterternary\"}],\"surface\":[{\"colorbar\":{\"outlinewidth\":0,\"ticks\":\"\"},\"colorscale\":[[0.0,\"#0d0887\"],[0.1111111111111111,\"#46039f\"],[0.2222222222222222,\"#7201a8\"],[0.3333333333333333,\"#9c179e\"],[0.4444444444444444,\"#bd3786\"],[0.5555555555555556,\"#d8576b\"],[0.6666666666666666,\"#ed7953\"],[0.7777777777777778,\"#fb9f3a\"],[0.8888888888888888,\"#fdca26\"],[1.0,\"#f0f921\"]],\"type\":\"surface\"}],\"table\":[{\"cells\":{\"fill\":{\"color\":\"#EBF0F8\"},\"line\":{\"color\":\"white\"}},\"header\":{\"fill\":{\"color\":\"#C8D4E3\"},\"line\":{\"color\":\"white\"}},\"type\":\"table\"}]},\"layout\":{\"annotationdefaults\":{\"arrowcolor\":\"#2a3f5f\",\"arrowhead\":0,\"arrowwidth\":1},\"autotypenumbers\":\"strict\",\"coloraxis\":{\"colorbar\":{\"outlinewidth\":0,\"ticks\":\"\"}},\"colorscale\":{\"diverging\":[[0,\"#8e0152\"],[0.1,\"#c51b7d\"],[0.2,\"#de77ae\"],[0.3,\"#f1b6da\"],[0.4,\"#fde0ef\"],[0.5,\"#f7f7f7\"],[0.6,\"#e6f5d0\"],[0.7,\"#b8e186\"],[0.8,\"#7fbc41\"],[0.9,\"#4d9221\"],[1,\"#276419\"]],\"sequential\":[[0.0,\"#0d0887\"],[0.1111111111111111,\"#46039f\"],[0.2222222222222222,\"#7201a8\"],[0.3333333333333333,\"#9c179e\"],[0.4444444444444444,\"#bd3786\"],[0.5555555555555556,\"#d8576b\"],[0.6666666666666666,\"#ed7953\"],[0.7777777777777778,\"#fb9f3a\"],[0.8888888888888888,\"#fdca26\"],[1.0,\"#f0f921\"]],\"sequentialminus\":[[0.0,\"#0d0887\"],[0.1111111111111111,\"#46039f\"],[0.2222222222222222,\"#7201a8\"],[0.3333333333333333,\"#9c179e\"],[0.4444444444444444,\"#bd3786\"],[0.5555555555555556,\"#d8576b\"],[0.6666666666666666,\"#ed7953\"],[0.7777777777777778,\"#fb9f3a\"],[0.8888888888888888,\"#fdca26\"],[1.0,\"#f0f921\"]]},\"colorway\":[\"#636efa\",\"#EF553B\",\"#00cc96\",\"#ab63fa\",\"#FFA15A\",\"#19d3f3\",\"#FF6692\",\"#B6E880\",\"#FF97FF\",\"#FECB52\"],\"font\":{\"color\":\"#2a3f5f\"},\"geo\":{\"bgcolor\":\"white\",\"lakecolor\":\"white\",\"landcolor\":\"#E5ECF6\",\"showlakes\":true,\"showland\":true,\"subunitcolor\":\"white\"},\"hoverlabel\":{\"align\":\"left\"},\"hovermode\":\"closest\",\"mapbox\":{\"style\":\"light\"},\"paper_bgcolor\":\"white\",\"plot_bgcolor\":\"#E5ECF6\",\"polar\":{\"angularaxis\":{\"gridcolor\":\"white\",\"linecolor\":\"white\",\"ticks\":\"\"},\"bgcolor\":\"#E5ECF6\",\"radialaxis\":{\"gridcolor\":\"white\",\"linecolor\":\"white\",\"ticks\":\"\"}},\"scene\":{\"xaxis\":{\"backgroundcolor\":\"#E5ECF6\",\"gridcolor\":\"white\",\"gridwidth\":2,\"linecolor\":\"white\",\"showbackground\":true,\"ticks\":\"\",\"zerolinecolor\":\"white\"},\"yaxis\":{\"backgroundcolor\":\"#E5ECF6\",\"gridcolor\":\"white\",\"gridwidth\":2,\"linecolor\":\"white\",\"showbackground\":true,\"ticks\":\"\",\"zerolinecolor\":\"white\"},\"zaxis\":{\"backgroundcolor\":\"#E5ECF6\",\"gridcolor\":\"white\",\"gridwidth\":2,\"linecolor\":\"white\",\"showbackground\":true,\"ticks\":\"\",\"zerolinecolor\":\"white\"}},\"shapedefaults\":{\"line\":{\"color\":\"#2a3f5f\"}},\"ternary\":{\"aaxis\":{\"gridcolor\":\"white\",\"linecolor\":\"white\",\"ticks\":\"\"},\"baxis\":{\"gridcolor\":\"white\",\"linecolor\":\"white\",\"ticks\":\"\"},\"bgcolor\":\"#E5ECF6\",\"caxis\":{\"gridcolor\":\"white\",\"linecolor\":\"white\",\"ticks\":\"\"}},\"title\":{\"x\":0.05},\"xaxis\":{\"automargin\":true,\"gridcolor\":\"white\",\"linecolor\":\"white\",\"ticks\":\"\",\"title\":{\"standoff\":15},\"zerolinecolor\":\"white\",\"zerolinewidth\":2},\"yaxis\":{\"automargin\":true,\"gridcolor\":\"white\",\"linecolor\":\"white\",\"ticks\":\"\",\"title\":{\"standoff\":15},\"zerolinecolor\":\"white\",\"zerolinewidth\":2}}}},                        {\"responsive\": true}                    ).then(function(){\n",
              "                            \n",
              "var gd = document.getElementById('30a8d5d1-1ce4-41d6-9a6b-4c0c1fe53e11');\n",
              "var x = new MutationObserver(function (mutations, observer) {{\n",
              "        var display = window.getComputedStyle(gd).display;\n",
              "        if (!display || display === 'none') {{\n",
              "            console.log([gd, 'removed!']);\n",
              "            Plotly.purge(gd);\n",
              "            observer.disconnect();\n",
              "        }}\n",
              "}});\n",
              "\n",
              "// Listen for the removal of the full notebook cells\n",
              "var notebookContainer = gd.closest('#notebook-container');\n",
              "if (notebookContainer) {{\n",
              "    x.observe(notebookContainer, {childList: true});\n",
              "}}\n",
              "\n",
              "// Listen for the clearing of the current output cell\n",
              "var outputEl = gd.closest('.output');\n",
              "if (outputEl) {{\n",
              "    x.observe(outputEl, {childList: true});\n",
              "}}\n",
              "\n",
              "                        })                };                            </script>        </div>\n",
              "</body>\n",
              "</html>"
            ]
          },
          "metadata": {}
        }
      ]
    },
    {
      "cell_type": "markdown",
      "source": [
        "Assim como no estudo da RF e da MLP, observamos que o modelo LR também convergiu cedo e não foi superado ao longo dos treinos."
      ],
      "metadata": {
        "id": "LEY_zC-TTghW"
      }
    },
    {
      "cell_type": "code",
      "source": [
        "print(f\"Melhor trial : \\n{study_lr.best_trial}\")\n",
        "\n",
        "print(f\"Melhor valor do f-score : \\n{study_lr.best_value}\")\n",
        "\n",
        "print(f\"Melhores parâmetros : \\n{study_lr.best_params}\")"
      ],
      "metadata": {
        "colab": {
          "base_uri": "https://localhost:8080/"
        },
        "outputId": "deb20c87-bc21-45c0-c949-e50cd6b372d3",
        "id": "Jdym3HnVTghX"
      },
      "execution_count": 140,
      "outputs": [
        {
          "output_type": "stream",
          "name": "stdout",
          "text": [
            "Melhor trial : \n",
            "FrozenTrial(number=2, values=[0.7590172385817247], datetime_start=datetime.datetime(2022, 9, 2, 17, 50, 24, 291488), datetime_complete=datetime.datetime(2022, 9, 2, 17, 50, 24, 565757), params={'classifier': 'LR', 'lr_penalty': 'l1', 'lr_solver': 'liblinear'}, distributions={'classifier': CategoricalDistribution(choices=('LR',)), 'lr_penalty': CategoricalDistribution(choices=('l1', 'l2')), 'lr_solver': CategoricalDistribution(choices=('liblinear', 'saga'))}, user_attrs={}, system_attrs={}, intermediate_values={}, trial_id=2, state=TrialState.COMPLETE, value=None)\n",
            "Melhor valor do f-score : \n",
            "0.7590172385817247\n",
            "Melhores parâmetros : \n",
            "{'classifier': 'LR', 'lr_penalty': 'l1', 'lr_solver': 'liblinear'}\n"
          ]
        }
      ]
    },
    {
      "cell_type": "code",
      "source": [
        "best_lr = LogisticRegression(\n",
        "      random_state=RANDOM_STATE,\n",
        "      penalty=study_lr.best_params['lr_penalty'],\n",
        "      solver=study_lr.best_params['lr_solver']\n",
        ")\n",
        "best_lr.fit(X_train, y_train)"
      ],
      "metadata": {
        "colab": {
          "base_uri": "https://localhost:8080/"
        },
        "outputId": "3bcb7f65-fdf6-4299-934e-b7abca4cc24f",
        "id": "FQ1vEkUhTghY"
      },
      "execution_count": 141,
      "outputs": [
        {
          "output_type": "execute_result",
          "data": {
            "text/plain": [
              "LogisticRegression(penalty='l1', random_state=42, solver='liblinear')"
            ]
          },
          "metadata": {},
          "execution_count": 141
        }
      ]
    },
    {
      "cell_type": "code",
      "source": [
        "y_pred = best_lr.predict(X_val)\n",
        "y_proba = best_lr.predict_proba(X_val)\n",
        "eval_metrics(y_val, y_pred, y_proba)"
      ],
      "metadata": {
        "colab": {
          "base_uri": "https://localhost:8080/"
        },
        "outputId": "9554d7cb-dc2b-4697-cf86-4027f367b668",
        "id": "UCsb5cGbTghZ"
      },
      "execution_count": 142,
      "outputs": [
        {
          "output_type": "execute_result",
          "data": {
            "text/plain": [
              "(0.8192875760208514, 0.7522404991491776, 0.7590172385817247)"
            ]
          },
          "metadata": {},
          "execution_count": 142
        }
      ]
    },
    {
      "cell_type": "markdown",
      "source": [
        "### Finalizando os testes e selecionando o melhor modelo geral"
      ],
      "metadata": {
        "id": "zrtYedp1XBoB"
      }
    },
    {
      "cell_type": "code",
      "source": [
        "clfs = [best_xgb, best_mlp, best_rf, best_lr]\n",
        "for clf in clfs:\n",
        "  print('modelo', ':', clf)\n",
        "  y_pred = clf.predict(X_test)\n",
        "  y_proba = clf.predict_proba(X_test)\n",
        "  acc, auroc, f1 = eval_metrics(y_test, y_pred, y_proba)\n",
        "  print(f'Accuracy : {acc}')\n",
        "  print(f'AUROC : {auroc}')\n",
        "  print(f'F1-Score : {f1}')\n",
        "  print('\\n')"
      ],
      "metadata": {
        "id": "uhRFPX_KXFCf",
        "outputId": "29314017-12af-43fb-fc9a-3ac65f54b06a",
        "colab": {
          "base_uri": "https://localhost:8080/"
        }
      },
      "execution_count": 144,
      "outputs": [
        {
          "output_type": "stream",
          "name": "stdout",
          "text": [
            "modelo : XGBClassifier(learning_rate=0.05466132863394454, max_depth=15, n_estimators=825,\n",
            "              random_state=42)\n",
            "Accuracy : 0.8670143415906127\n",
            "AUROC : 0.8688219982575212\n",
            "F1-Score : 0.8438085994252841\n",
            "\n",
            "\n",
            "modelo : MLPClassifier(activation='logistic', hidden_layer_sizes=(50, 50), max_iter=1000,\n",
            "              random_state=42)\n",
            "Accuracy : 0.8296392872664059\n",
            "AUROC : 0.7435383076443192\n",
            "F1-Score : 0.7870603182573797\n",
            "\n",
            "\n",
            "modelo : RandomForestClassifier(max_depth=22, n_estimators=409, random_state=42)\n",
            "Accuracy : 0.8448500651890483\n",
            "AUROC : 0.8193542878962258\n",
            "F1-Score : 0.7969093744078708\n",
            "\n",
            "\n",
            "modelo : LogisticRegression(penalty='l1', random_state=42, solver='liblinear')\n",
            "Accuracy : 0.8365927857453281\n",
            "AUROC : 0.7540698174699638\n",
            "F1-Score : 0.7779334926959199\n",
            "\n",
            "\n"
          ]
        }
      ]
    },
    {
      "cell_type": "markdown",
      "source": [
        "Assim, finalizando os testes observamos que o melhor modelo no geral foi atingido utilizando o algoritmo XGBoost com os seguintes hiperparâmetros tunados:\n",
        "\n",
        "```\n",
        "learning_rate = 0.05466132863394454\n",
        "max_depth = 15\n",
        "n_estimators = 825\n",
        "```\n",
        "\n"
      ],
      "metadata": {
        "id": "-_ZGA_KTX1M3"
      }
    }
  ]
}